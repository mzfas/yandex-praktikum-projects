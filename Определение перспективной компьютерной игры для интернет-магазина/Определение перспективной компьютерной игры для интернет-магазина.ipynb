{
 "cells": [
  {
   "cell_type": "markdown",
   "metadata": {},
   "source": [
    "# Определение перспективной компьютерной игры для интернет-магазина."
   ]
  },
  {
   "cell_type": "markdown",
   "metadata": {},
   "source": [
    "**Цели и задачи исследования:**\n",
    "1. Подготовить данные к анализу. \n",
    "2. Провести исследовательский анализ данных и выяснить какие платформы и жанры являются самыми популярными у пользователей.\n",
    "3. Выяснить влияют ли на суммарные продажи отзывы критиков и пользователей.\n",
    "4. Влияет ли рейтинг ESRB на продажи в отдельном регионе. \n",
    "5. Составить портрет пользователя каждого региона. \n",
    "6. Проверить гипотезы:\n",
    "    - средние пользовательские рейтинги платформ Xbox One и PC одинаковые;\n",
    "    - средние пользовательские рейтинги жанров Action и Sports разные.\n",
    "7. Составить выводы на основе полученных результатов. "
   ]
  },
  {
   "cell_type": "markdown",
   "metadata": {},
   "source": [
    "**Исходные данные:** из открытых источников доступны исторические данные до 2016 года о продажах игр, оценки пользователей и экспертов, жанры и платформы."
   ]
  },
  {
   "cell_type": "markdown",
   "metadata": {},
   "source": [
    "**Описание данных**\n",
    "- `Name` — название игры\n",
    "- `Platform` — платформа\n",
    "- `Year_of_Release` — год выпуска\n",
    "- `Genre` — жанр игры\n",
    "- `NA_sales` — продажи в Северной Америке (миллионы проданных копий)\n",
    "- `EU_sales` — продажи в Европе (миллионы проданных копий)\n",
    "- `JP_sales` — продажи в Японии (миллионы проданных копий)\n",
    "- `Other_sales` — продажи в других странах (миллионы проданных копий)\n",
    "- `Critic_Score` — оценка критиков (максимум 100)\n",
    "- `User_Score` — оценка пользователей (максимум 10)\n",
    "- `Rating` — рейтинг от организации ESRB (англ. Entertainment Software Rating Board). Эта ассоциация определяет рейтинг компьютерных игр и присваивает им подходящую возрастную категорию.\n",
    "\n",
    "Данные за 2016 год могут быть неполными."
   ]
  },
  {
   "cell_type": "markdown",
   "metadata": {},
   "source": [
    "## Обзор данных и изучение общей информации, загрузка библиотек. "
   ]
  },
  {
   "cell_type": "code",
   "execution_count": 2,
   "metadata": {},
   "outputs": [],
   "source": [
    "import pandas as pd\n",
    "import numpy as np\n",
    "import matplotlib.pyplot as plt\n",
    "from scipy import stats as st"
   ]
  },
  {
   "cell_type": "code",
   "execution_count": 3,
   "metadata": {},
   "outputs": [],
   "source": [
    "df = pd.read_csv('/datasets/games.csv')"
   ]
  },
  {
   "cell_type": "code",
   "execution_count": 4,
   "metadata": {},
   "outputs": [
    {
     "name": "stdout",
     "output_type": "stream",
     "text": [
      "<class 'pandas.core.frame.DataFrame'>\n",
      "RangeIndex: 16715 entries, 0 to 16714\n",
      "Data columns (total 11 columns):\n",
      " #   Column           Non-Null Count  Dtype  \n",
      "---  ------           --------------  -----  \n",
      " 0   Name             16713 non-null  object \n",
      " 1   Platform         16715 non-null  object \n",
      " 2   Year_of_Release  16446 non-null  float64\n",
      " 3   Genre            16713 non-null  object \n",
      " 4   NA_sales         16715 non-null  float64\n",
      " 5   EU_sales         16715 non-null  float64\n",
      " 6   JP_sales         16715 non-null  float64\n",
      " 7   Other_sales      16715 non-null  float64\n",
      " 8   Critic_Score     8137 non-null   float64\n",
      " 9   User_Score       10014 non-null  object \n",
      " 10  Rating           9949 non-null   object \n",
      "dtypes: float64(6), object(5)\n",
      "memory usage: 1.4+ MB\n"
     ]
    },
    {
     "data": {
      "text/html": [
       "<div>\n",
       "<style scoped>\n",
       "    .dataframe tbody tr th:only-of-type {\n",
       "        vertical-align: middle;\n",
       "    }\n",
       "\n",
       "    .dataframe tbody tr th {\n",
       "        vertical-align: top;\n",
       "    }\n",
       "\n",
       "    .dataframe thead th {\n",
       "        text-align: right;\n",
       "    }\n",
       "</style>\n",
       "<table border=\"1\" class=\"dataframe\">\n",
       "  <thead>\n",
       "    <tr style=\"text-align: right;\">\n",
       "      <th></th>\n",
       "      <th>Name</th>\n",
       "      <th>Platform</th>\n",
       "      <th>Year_of_Release</th>\n",
       "      <th>Genre</th>\n",
       "      <th>NA_sales</th>\n",
       "      <th>EU_sales</th>\n",
       "      <th>JP_sales</th>\n",
       "      <th>Other_sales</th>\n",
       "      <th>Critic_Score</th>\n",
       "      <th>User_Score</th>\n",
       "      <th>Rating</th>\n",
       "    </tr>\n",
       "  </thead>\n",
       "  <tbody>\n",
       "    <tr>\n",
       "      <th>0</th>\n",
       "      <td>Wii Sports</td>\n",
       "      <td>Wii</td>\n",
       "      <td>2006.0</td>\n",
       "      <td>Sports</td>\n",
       "      <td>41.36</td>\n",
       "      <td>28.96</td>\n",
       "      <td>3.77</td>\n",
       "      <td>8.45</td>\n",
       "      <td>76.0</td>\n",
       "      <td>8</td>\n",
       "      <td>E</td>\n",
       "    </tr>\n",
       "    <tr>\n",
       "      <th>1</th>\n",
       "      <td>Super Mario Bros.</td>\n",
       "      <td>NES</td>\n",
       "      <td>1985.0</td>\n",
       "      <td>Platform</td>\n",
       "      <td>29.08</td>\n",
       "      <td>3.58</td>\n",
       "      <td>6.81</td>\n",
       "      <td>0.77</td>\n",
       "      <td>NaN</td>\n",
       "      <td>NaN</td>\n",
       "      <td>NaN</td>\n",
       "    </tr>\n",
       "    <tr>\n",
       "      <th>2</th>\n",
       "      <td>Mario Kart Wii</td>\n",
       "      <td>Wii</td>\n",
       "      <td>2008.0</td>\n",
       "      <td>Racing</td>\n",
       "      <td>15.68</td>\n",
       "      <td>12.76</td>\n",
       "      <td>3.79</td>\n",
       "      <td>3.29</td>\n",
       "      <td>82.0</td>\n",
       "      <td>8.3</td>\n",
       "      <td>E</td>\n",
       "    </tr>\n",
       "    <tr>\n",
       "      <th>3</th>\n",
       "      <td>Wii Sports Resort</td>\n",
       "      <td>Wii</td>\n",
       "      <td>2009.0</td>\n",
       "      <td>Sports</td>\n",
       "      <td>15.61</td>\n",
       "      <td>10.93</td>\n",
       "      <td>3.28</td>\n",
       "      <td>2.95</td>\n",
       "      <td>80.0</td>\n",
       "      <td>8</td>\n",
       "      <td>E</td>\n",
       "    </tr>\n",
       "    <tr>\n",
       "      <th>4</th>\n",
       "      <td>Pokemon Red/Pokemon Blue</td>\n",
       "      <td>GB</td>\n",
       "      <td>1996.0</td>\n",
       "      <td>Role-Playing</td>\n",
       "      <td>11.27</td>\n",
       "      <td>8.89</td>\n",
       "      <td>10.22</td>\n",
       "      <td>1.00</td>\n",
       "      <td>NaN</td>\n",
       "      <td>NaN</td>\n",
       "      <td>NaN</td>\n",
       "    </tr>\n",
       "    <tr>\n",
       "      <th>5</th>\n",
       "      <td>Tetris</td>\n",
       "      <td>GB</td>\n",
       "      <td>1989.0</td>\n",
       "      <td>Puzzle</td>\n",
       "      <td>23.20</td>\n",
       "      <td>2.26</td>\n",
       "      <td>4.22</td>\n",
       "      <td>0.58</td>\n",
       "      <td>NaN</td>\n",
       "      <td>NaN</td>\n",
       "      <td>NaN</td>\n",
       "    </tr>\n",
       "    <tr>\n",
       "      <th>6</th>\n",
       "      <td>New Super Mario Bros.</td>\n",
       "      <td>DS</td>\n",
       "      <td>2006.0</td>\n",
       "      <td>Platform</td>\n",
       "      <td>11.28</td>\n",
       "      <td>9.14</td>\n",
       "      <td>6.50</td>\n",
       "      <td>2.88</td>\n",
       "      <td>89.0</td>\n",
       "      <td>8.5</td>\n",
       "      <td>E</td>\n",
       "    </tr>\n",
       "    <tr>\n",
       "      <th>7</th>\n",
       "      <td>Wii Play</td>\n",
       "      <td>Wii</td>\n",
       "      <td>2006.0</td>\n",
       "      <td>Misc</td>\n",
       "      <td>13.96</td>\n",
       "      <td>9.18</td>\n",
       "      <td>2.93</td>\n",
       "      <td>2.84</td>\n",
       "      <td>58.0</td>\n",
       "      <td>6.6</td>\n",
       "      <td>E</td>\n",
       "    </tr>\n",
       "    <tr>\n",
       "      <th>8</th>\n",
       "      <td>New Super Mario Bros. Wii</td>\n",
       "      <td>Wii</td>\n",
       "      <td>2009.0</td>\n",
       "      <td>Platform</td>\n",
       "      <td>14.44</td>\n",
       "      <td>6.94</td>\n",
       "      <td>4.70</td>\n",
       "      <td>2.24</td>\n",
       "      <td>87.0</td>\n",
       "      <td>8.4</td>\n",
       "      <td>E</td>\n",
       "    </tr>\n",
       "    <tr>\n",
       "      <th>9</th>\n",
       "      <td>Duck Hunt</td>\n",
       "      <td>NES</td>\n",
       "      <td>1984.0</td>\n",
       "      <td>Shooter</td>\n",
       "      <td>26.93</td>\n",
       "      <td>0.63</td>\n",
       "      <td>0.28</td>\n",
       "      <td>0.47</td>\n",
       "      <td>NaN</td>\n",
       "      <td>NaN</td>\n",
       "      <td>NaN</td>\n",
       "    </tr>\n",
       "  </tbody>\n",
       "</table>\n",
       "</div>"
      ],
      "text/plain": [
       "                        Name Platform  Year_of_Release         Genre  \\\n",
       "0                 Wii Sports      Wii           2006.0        Sports   \n",
       "1          Super Mario Bros.      NES           1985.0      Platform   \n",
       "2             Mario Kart Wii      Wii           2008.0        Racing   \n",
       "3          Wii Sports Resort      Wii           2009.0        Sports   \n",
       "4   Pokemon Red/Pokemon Blue       GB           1996.0  Role-Playing   \n",
       "5                     Tetris       GB           1989.0        Puzzle   \n",
       "6      New Super Mario Bros.       DS           2006.0      Platform   \n",
       "7                   Wii Play      Wii           2006.0          Misc   \n",
       "8  New Super Mario Bros. Wii      Wii           2009.0      Platform   \n",
       "9                  Duck Hunt      NES           1984.0       Shooter   \n",
       "\n",
       "   NA_sales  EU_sales  JP_sales  Other_sales  Critic_Score User_Score Rating  \n",
       "0     41.36     28.96      3.77         8.45          76.0          8      E  \n",
       "1     29.08      3.58      6.81         0.77           NaN        NaN    NaN  \n",
       "2     15.68     12.76      3.79         3.29          82.0        8.3      E  \n",
       "3     15.61     10.93      3.28         2.95          80.0          8      E  \n",
       "4     11.27      8.89     10.22         1.00           NaN        NaN    NaN  \n",
       "5     23.20      2.26      4.22         0.58           NaN        NaN    NaN  \n",
       "6     11.28      9.14      6.50         2.88          89.0        8.5      E  \n",
       "7     13.96      9.18      2.93         2.84          58.0        6.6      E  \n",
       "8     14.44      6.94      4.70         2.24          87.0        8.4      E  \n",
       "9     26.93      0.63      0.28         0.47           NaN        NaN    NaN  "
      ]
     },
     "metadata": {},
     "output_type": "display_data"
    }
   ],
   "source": [
    "df.info()\n",
    "display(df.head(10))"
   ]
  },
  {
   "cell_type": "markdown",
   "metadata": {},
   "source": [
    "Изучив общую информацию датасета можем наблюдать следующие проблемы в данных: столбцы Name и Genre содержат по 2 пропущенных значения, также пропуски имеются в столбцах Year_of_Release, Critic_Score, User_Score и Rating. В столбце с датой релиза следует поменять тип данных с float на int."
   ]
  },
  {
   "cell_type": "markdown",
   "metadata": {},
   "source": [
    "### Замена названия столбцов. "
   ]
  },
  {
   "cell_type": "markdown",
   "metadata": {},
   "source": [
    "Выведем перечень названий столбцов нашей таблицы. Видим, что в каждом столбце присутствуют заглавные буквы, приведем их в соответствие с хорошим стилем и сделаем все символы строчными."
   ]
  },
  {
   "cell_type": "code",
   "execution_count": 5,
   "metadata": {},
   "outputs": [
    {
     "data": {
      "text/plain": [
       "Index(['Name', 'Platform', 'Year_of_Release', 'Genre', 'NA_sales', 'EU_sales',\n",
       "       'JP_sales', 'Other_sales', 'Critic_Score', 'User_Score', 'Rating'],\n",
       "      dtype='object')"
      ]
     },
     "execution_count": 5,
     "metadata": {},
     "output_type": "execute_result"
    }
   ],
   "source": [
    "df.columns"
   ]
  },
  {
   "cell_type": "code",
   "execution_count": 6,
   "metadata": {},
   "outputs": [],
   "source": [
    "df = df.rename(columns={'Name':'name', 'Platform':'platform', 'Year_of_Release':'year_of_release', 'Genre':'genre',\n",
    "                        'NA_sales':'na_sales', 'EU_sales':'eu_sales', 'JP_sales':'jp_sales', 'Other_sales':'other_sales',\n",
    "                       'Critic_Score':'critic_score', 'User_Score':'user_score', 'Rating':'rating'})"
   ]
  },
  {
   "cell_type": "code",
   "execution_count": 7,
   "metadata": {},
   "outputs": [
    {
     "data": {
      "text/html": [
       "<div>\n",
       "<style scoped>\n",
       "    .dataframe tbody tr th:only-of-type {\n",
       "        vertical-align: middle;\n",
       "    }\n",
       "\n",
       "    .dataframe tbody tr th {\n",
       "        vertical-align: top;\n",
       "    }\n",
       "\n",
       "    .dataframe thead th {\n",
       "        text-align: right;\n",
       "    }\n",
       "</style>\n",
       "<table border=\"1\" class=\"dataframe\">\n",
       "  <thead>\n",
       "    <tr style=\"text-align: right;\">\n",
       "      <th></th>\n",
       "      <th>name</th>\n",
       "      <th>platform</th>\n",
       "      <th>year_of_release</th>\n",
       "      <th>genre</th>\n",
       "      <th>na_sales</th>\n",
       "      <th>eu_sales</th>\n",
       "      <th>jp_sales</th>\n",
       "      <th>other_sales</th>\n",
       "      <th>critic_score</th>\n",
       "      <th>user_score</th>\n",
       "      <th>rating</th>\n",
       "    </tr>\n",
       "  </thead>\n",
       "  <tbody>\n",
       "    <tr>\n",
       "      <th>0</th>\n",
       "      <td>Wii Sports</td>\n",
       "      <td>Wii</td>\n",
       "      <td>2006.0</td>\n",
       "      <td>Sports</td>\n",
       "      <td>41.36</td>\n",
       "      <td>28.96</td>\n",
       "      <td>3.77</td>\n",
       "      <td>8.45</td>\n",
       "      <td>76.0</td>\n",
       "      <td>8</td>\n",
       "      <td>E</td>\n",
       "    </tr>\n",
       "    <tr>\n",
       "      <th>1</th>\n",
       "      <td>Super Mario Bros.</td>\n",
       "      <td>NES</td>\n",
       "      <td>1985.0</td>\n",
       "      <td>Platform</td>\n",
       "      <td>29.08</td>\n",
       "      <td>3.58</td>\n",
       "      <td>6.81</td>\n",
       "      <td>0.77</td>\n",
       "      <td>NaN</td>\n",
       "      <td>NaN</td>\n",
       "      <td>NaN</td>\n",
       "    </tr>\n",
       "    <tr>\n",
       "      <th>2</th>\n",
       "      <td>Mario Kart Wii</td>\n",
       "      <td>Wii</td>\n",
       "      <td>2008.0</td>\n",
       "      <td>Racing</td>\n",
       "      <td>15.68</td>\n",
       "      <td>12.76</td>\n",
       "      <td>3.79</td>\n",
       "      <td>3.29</td>\n",
       "      <td>82.0</td>\n",
       "      <td>8.3</td>\n",
       "      <td>E</td>\n",
       "    </tr>\n",
       "    <tr>\n",
       "      <th>3</th>\n",
       "      <td>Wii Sports Resort</td>\n",
       "      <td>Wii</td>\n",
       "      <td>2009.0</td>\n",
       "      <td>Sports</td>\n",
       "      <td>15.61</td>\n",
       "      <td>10.93</td>\n",
       "      <td>3.28</td>\n",
       "      <td>2.95</td>\n",
       "      <td>80.0</td>\n",
       "      <td>8</td>\n",
       "      <td>E</td>\n",
       "    </tr>\n",
       "    <tr>\n",
       "      <th>4</th>\n",
       "      <td>Pokemon Red/Pokemon Blue</td>\n",
       "      <td>GB</td>\n",
       "      <td>1996.0</td>\n",
       "      <td>Role-Playing</td>\n",
       "      <td>11.27</td>\n",
       "      <td>8.89</td>\n",
       "      <td>10.22</td>\n",
       "      <td>1.00</td>\n",
       "      <td>NaN</td>\n",
       "      <td>NaN</td>\n",
       "      <td>NaN</td>\n",
       "    </tr>\n",
       "    <tr>\n",
       "      <th>5</th>\n",
       "      <td>Tetris</td>\n",
       "      <td>GB</td>\n",
       "      <td>1989.0</td>\n",
       "      <td>Puzzle</td>\n",
       "      <td>23.20</td>\n",
       "      <td>2.26</td>\n",
       "      <td>4.22</td>\n",
       "      <td>0.58</td>\n",
       "      <td>NaN</td>\n",
       "      <td>NaN</td>\n",
       "      <td>NaN</td>\n",
       "    </tr>\n",
       "    <tr>\n",
       "      <th>6</th>\n",
       "      <td>New Super Mario Bros.</td>\n",
       "      <td>DS</td>\n",
       "      <td>2006.0</td>\n",
       "      <td>Platform</td>\n",
       "      <td>11.28</td>\n",
       "      <td>9.14</td>\n",
       "      <td>6.50</td>\n",
       "      <td>2.88</td>\n",
       "      <td>89.0</td>\n",
       "      <td>8.5</td>\n",
       "      <td>E</td>\n",
       "    </tr>\n",
       "    <tr>\n",
       "      <th>7</th>\n",
       "      <td>Wii Play</td>\n",
       "      <td>Wii</td>\n",
       "      <td>2006.0</td>\n",
       "      <td>Misc</td>\n",
       "      <td>13.96</td>\n",
       "      <td>9.18</td>\n",
       "      <td>2.93</td>\n",
       "      <td>2.84</td>\n",
       "      <td>58.0</td>\n",
       "      <td>6.6</td>\n",
       "      <td>E</td>\n",
       "    </tr>\n",
       "    <tr>\n",
       "      <th>8</th>\n",
       "      <td>New Super Mario Bros. Wii</td>\n",
       "      <td>Wii</td>\n",
       "      <td>2009.0</td>\n",
       "      <td>Platform</td>\n",
       "      <td>14.44</td>\n",
       "      <td>6.94</td>\n",
       "      <td>4.70</td>\n",
       "      <td>2.24</td>\n",
       "      <td>87.0</td>\n",
       "      <td>8.4</td>\n",
       "      <td>E</td>\n",
       "    </tr>\n",
       "    <tr>\n",
       "      <th>9</th>\n",
       "      <td>Duck Hunt</td>\n",
       "      <td>NES</td>\n",
       "      <td>1984.0</td>\n",
       "      <td>Shooter</td>\n",
       "      <td>26.93</td>\n",
       "      <td>0.63</td>\n",
       "      <td>0.28</td>\n",
       "      <td>0.47</td>\n",
       "      <td>NaN</td>\n",
       "      <td>NaN</td>\n",
       "      <td>NaN</td>\n",
       "    </tr>\n",
       "  </tbody>\n",
       "</table>\n",
       "</div>"
      ],
      "text/plain": [
       "                        name platform  year_of_release         genre  \\\n",
       "0                 Wii Sports      Wii           2006.0        Sports   \n",
       "1          Super Mario Bros.      NES           1985.0      Platform   \n",
       "2             Mario Kart Wii      Wii           2008.0        Racing   \n",
       "3          Wii Sports Resort      Wii           2009.0        Sports   \n",
       "4   Pokemon Red/Pokemon Blue       GB           1996.0  Role-Playing   \n",
       "5                     Tetris       GB           1989.0        Puzzle   \n",
       "6      New Super Mario Bros.       DS           2006.0      Platform   \n",
       "7                   Wii Play      Wii           2006.0          Misc   \n",
       "8  New Super Mario Bros. Wii      Wii           2009.0      Platform   \n",
       "9                  Duck Hunt      NES           1984.0       Shooter   \n",
       "\n",
       "   na_sales  eu_sales  jp_sales  other_sales  critic_score user_score rating  \n",
       "0     41.36     28.96      3.77         8.45          76.0          8      E  \n",
       "1     29.08      3.58      6.81         0.77           NaN        NaN    NaN  \n",
       "2     15.68     12.76      3.79         3.29          82.0        8.3      E  \n",
       "3     15.61     10.93      3.28         2.95          80.0          8      E  \n",
       "4     11.27      8.89     10.22         1.00           NaN        NaN    NaN  \n",
       "5     23.20      2.26      4.22         0.58           NaN        NaN    NaN  \n",
       "6     11.28      9.14      6.50         2.88          89.0        8.5      E  \n",
       "7     13.96      9.18      2.93         2.84          58.0        6.6      E  \n",
       "8     14.44      6.94      4.70         2.24          87.0        8.4      E  \n",
       "9     26.93      0.63      0.28         0.47           NaN        NaN    NaN  "
      ]
     },
     "execution_count": 7,
     "metadata": {},
     "output_type": "execute_result"
    }
   ],
   "source": [
    "df.head(10)"
   ]
  },
  {
   "cell_type": "markdown",
   "metadata": {},
   "source": [
    "Все столбцы приведены к змеиному регистру. Теперь приступим к преобразованию данных."
   ]
  },
  {
   "cell_type": "markdown",
   "metadata": {},
   "source": [
    "### Обработка пропусков."
   ]
  },
  {
   "cell_type": "code",
   "execution_count": 8,
   "metadata": {},
   "outputs": [
    {
     "name": "stdout",
     "output_type": "stream",
     "text": [
      "269\n"
     ]
    }
   ],
   "source": [
    "print(len(df[df['year_of_release'].isna()]))"
   ]
  },
  {
   "cell_type": "markdown",
   "metadata": {},
   "source": [
    "Для начала разберемся с пропусками в столбцах с датой выпуска игры, названии и жанра. Как говорилось выше, в столбцах с названием и жанром пропусков всего по 2. 269 пропусков в столбце с датой релиза это всего 1,61%, такое малое количество не повлияет на дальнейший анализ, можем смело их удалить. Пропуски в остальных столбцах заменять будет некорректно."
   ]
  },
  {
   "cell_type": "code",
   "execution_count": 9,
   "metadata": {},
   "outputs": [],
   "source": [
    "df = df.dropna(subset=['name', 'year_of_release', 'genre'])"
   ]
  },
  {
   "cell_type": "markdown",
   "metadata": {},
   "source": [
    "### Преобразование типов данных."
   ]
  },
  {
   "cell_type": "code",
   "execution_count": 10,
   "metadata": {},
   "outputs": [
    {
     "data": {
      "text/html": [
       "<div>\n",
       "<style scoped>\n",
       "    .dataframe tbody tr th:only-of-type {\n",
       "        vertical-align: middle;\n",
       "    }\n",
       "\n",
       "    .dataframe tbody tr th {\n",
       "        vertical-align: top;\n",
       "    }\n",
       "\n",
       "    .dataframe thead th {\n",
       "        text-align: right;\n",
       "    }\n",
       "</style>\n",
       "<table border=\"1\" class=\"dataframe\">\n",
       "  <thead>\n",
       "    <tr style=\"text-align: right;\">\n",
       "      <th></th>\n",
       "      <th>name</th>\n",
       "      <th>platform</th>\n",
       "      <th>year_of_release</th>\n",
       "      <th>genre</th>\n",
       "      <th>na_sales</th>\n",
       "      <th>eu_sales</th>\n",
       "      <th>jp_sales</th>\n",
       "      <th>other_sales</th>\n",
       "      <th>critic_score</th>\n",
       "      <th>user_score</th>\n",
       "      <th>rating</th>\n",
       "    </tr>\n",
       "  </thead>\n",
       "  <tbody>\n",
       "    <tr>\n",
       "      <th>0</th>\n",
       "      <td>Wii Sports</td>\n",
       "      <td>Wii</td>\n",
       "      <td>2006</td>\n",
       "      <td>Sports</td>\n",
       "      <td>41.36</td>\n",
       "      <td>28.96</td>\n",
       "      <td>3.77</td>\n",
       "      <td>8.45</td>\n",
       "      <td>76.0</td>\n",
       "      <td>8</td>\n",
       "      <td>E</td>\n",
       "    </tr>\n",
       "    <tr>\n",
       "      <th>1</th>\n",
       "      <td>Super Mario Bros.</td>\n",
       "      <td>NES</td>\n",
       "      <td>1985</td>\n",
       "      <td>Platform</td>\n",
       "      <td>29.08</td>\n",
       "      <td>3.58</td>\n",
       "      <td>6.81</td>\n",
       "      <td>0.77</td>\n",
       "      <td>NaN</td>\n",
       "      <td>NaN</td>\n",
       "      <td>NaN</td>\n",
       "    </tr>\n",
       "    <tr>\n",
       "      <th>2</th>\n",
       "      <td>Mario Kart Wii</td>\n",
       "      <td>Wii</td>\n",
       "      <td>2008</td>\n",
       "      <td>Racing</td>\n",
       "      <td>15.68</td>\n",
       "      <td>12.76</td>\n",
       "      <td>3.79</td>\n",
       "      <td>3.29</td>\n",
       "      <td>82.0</td>\n",
       "      <td>8.3</td>\n",
       "      <td>E</td>\n",
       "    </tr>\n",
       "    <tr>\n",
       "      <th>3</th>\n",
       "      <td>Wii Sports Resort</td>\n",
       "      <td>Wii</td>\n",
       "      <td>2009</td>\n",
       "      <td>Sports</td>\n",
       "      <td>15.61</td>\n",
       "      <td>10.93</td>\n",
       "      <td>3.28</td>\n",
       "      <td>2.95</td>\n",
       "      <td>80.0</td>\n",
       "      <td>8</td>\n",
       "      <td>E</td>\n",
       "    </tr>\n",
       "    <tr>\n",
       "      <th>4</th>\n",
       "      <td>Pokemon Red/Pokemon Blue</td>\n",
       "      <td>GB</td>\n",
       "      <td>1996</td>\n",
       "      <td>Role-Playing</td>\n",
       "      <td>11.27</td>\n",
       "      <td>8.89</td>\n",
       "      <td>10.22</td>\n",
       "      <td>1.00</td>\n",
       "      <td>NaN</td>\n",
       "      <td>NaN</td>\n",
       "      <td>NaN</td>\n",
       "    </tr>\n",
       "    <tr>\n",
       "      <th>5</th>\n",
       "      <td>Tetris</td>\n",
       "      <td>GB</td>\n",
       "      <td>1989</td>\n",
       "      <td>Puzzle</td>\n",
       "      <td>23.20</td>\n",
       "      <td>2.26</td>\n",
       "      <td>4.22</td>\n",
       "      <td>0.58</td>\n",
       "      <td>NaN</td>\n",
       "      <td>NaN</td>\n",
       "      <td>NaN</td>\n",
       "    </tr>\n",
       "    <tr>\n",
       "      <th>6</th>\n",
       "      <td>New Super Mario Bros.</td>\n",
       "      <td>DS</td>\n",
       "      <td>2006</td>\n",
       "      <td>Platform</td>\n",
       "      <td>11.28</td>\n",
       "      <td>9.14</td>\n",
       "      <td>6.50</td>\n",
       "      <td>2.88</td>\n",
       "      <td>89.0</td>\n",
       "      <td>8.5</td>\n",
       "      <td>E</td>\n",
       "    </tr>\n",
       "    <tr>\n",
       "      <th>7</th>\n",
       "      <td>Wii Play</td>\n",
       "      <td>Wii</td>\n",
       "      <td>2006</td>\n",
       "      <td>Misc</td>\n",
       "      <td>13.96</td>\n",
       "      <td>9.18</td>\n",
       "      <td>2.93</td>\n",
       "      <td>2.84</td>\n",
       "      <td>58.0</td>\n",
       "      <td>6.6</td>\n",
       "      <td>E</td>\n",
       "    </tr>\n",
       "    <tr>\n",
       "      <th>8</th>\n",
       "      <td>New Super Mario Bros. Wii</td>\n",
       "      <td>Wii</td>\n",
       "      <td>2009</td>\n",
       "      <td>Platform</td>\n",
       "      <td>14.44</td>\n",
       "      <td>6.94</td>\n",
       "      <td>4.70</td>\n",
       "      <td>2.24</td>\n",
       "      <td>87.0</td>\n",
       "      <td>8.4</td>\n",
       "      <td>E</td>\n",
       "    </tr>\n",
       "    <tr>\n",
       "      <th>9</th>\n",
       "      <td>Duck Hunt</td>\n",
       "      <td>NES</td>\n",
       "      <td>1984</td>\n",
       "      <td>Shooter</td>\n",
       "      <td>26.93</td>\n",
       "      <td>0.63</td>\n",
       "      <td>0.28</td>\n",
       "      <td>0.47</td>\n",
       "      <td>NaN</td>\n",
       "      <td>NaN</td>\n",
       "      <td>NaN</td>\n",
       "    </tr>\n",
       "  </tbody>\n",
       "</table>\n",
       "</div>"
      ],
      "text/plain": [
       "                        name platform  year_of_release         genre  \\\n",
       "0                 Wii Sports      Wii             2006        Sports   \n",
       "1          Super Mario Bros.      NES             1985      Platform   \n",
       "2             Mario Kart Wii      Wii             2008        Racing   \n",
       "3          Wii Sports Resort      Wii             2009        Sports   \n",
       "4   Pokemon Red/Pokemon Blue       GB             1996  Role-Playing   \n",
       "5                     Tetris       GB             1989        Puzzle   \n",
       "6      New Super Mario Bros.       DS             2006      Platform   \n",
       "7                   Wii Play      Wii             2006          Misc   \n",
       "8  New Super Mario Bros. Wii      Wii             2009      Platform   \n",
       "9                  Duck Hunt      NES             1984       Shooter   \n",
       "\n",
       "   na_sales  eu_sales  jp_sales  other_sales  critic_score user_score rating  \n",
       "0     41.36     28.96      3.77         8.45          76.0          8      E  \n",
       "1     29.08      3.58      6.81         0.77           NaN        NaN    NaN  \n",
       "2     15.68     12.76      3.79         3.29          82.0        8.3      E  \n",
       "3     15.61     10.93      3.28         2.95          80.0          8      E  \n",
       "4     11.27      8.89     10.22         1.00           NaN        NaN    NaN  \n",
       "5     23.20      2.26      4.22         0.58           NaN        NaN    NaN  \n",
       "6     11.28      9.14      6.50         2.88          89.0        8.5      E  \n",
       "7     13.96      9.18      2.93         2.84          58.0        6.6      E  \n",
       "8     14.44      6.94      4.70         2.24          87.0        8.4      E  \n",
       "9     26.93      0.63      0.28         0.47           NaN        NaN    NaN  "
      ]
     },
     "execution_count": 10,
     "metadata": {},
     "output_type": "execute_result"
    }
   ],
   "source": [
    "df['year_of_release'] = df['year_of_release'].astype('int')\n",
    "df.head(10)"
   ]
  },
  {
   "cell_type": "markdown",
   "metadata": {},
   "source": [
    "Теперь можем изменить тип данных в столбце с годом выпуска игры на целочисленный методом .astype()"
   ]
  },
  {
   "cell_type": "markdown",
   "metadata": {},
   "source": [
    "Взглянем на столбец с оценкой пользователей. "
   ]
  },
  {
   "cell_type": "code",
   "execution_count": 11,
   "metadata": {},
   "outputs": [
    {
     "name": "stdout",
     "output_type": "stream",
     "text": [
      "tbd    2376\n",
      "7.8     322\n",
      "8       285\n",
      "8.2     276\n",
      "8.3     252\n",
      "       ... \n",
      "0.6       2\n",
      "9.6       2\n",
      "0.2       2\n",
      "9.7       1\n",
      "0         1\n",
      "Name: user_score, Length: 96, dtype: int64\n"
     ]
    }
   ],
   "source": [
    "print(df['user_score'].value_counts())"
   ]
  },
  {
   "cell_type": "markdown",
   "metadata": {},
   "source": [
    "Видим странное значение, встречающееся аж 2376 раз, необходимо его обработать. Заменить его на 0, среднее или медианное значение будет некорректно, поэтому заменим его на NaN. Также изменим тип данных в этом столбце на флоат."
   ]
  },
  {
   "cell_type": "code",
   "execution_count": 12,
   "metadata": {},
   "outputs": [],
   "source": [
    "df['user_score'] = df['user_score'].replace('tbd', np.nan)\n",
    "df['user_score'] = df['user_score'].astype('float')"
   ]
  },
  {
   "cell_type": "markdown",
   "metadata": {},
   "source": [
    "### Подсчет суммарных продаж по всем регионам. "
   ]
  },
  {
   "cell_type": "markdown",
   "metadata": {},
   "source": [
    "Теперь посчитаем суммарные продажи игр во всех регионах и добавим их в новый столбец."
   ]
  },
  {
   "cell_type": "code",
   "execution_count": 13,
   "metadata": {},
   "outputs": [
    {
     "data": {
      "text/html": [
       "<div>\n",
       "<style scoped>\n",
       "    .dataframe tbody tr th:only-of-type {\n",
       "        vertical-align: middle;\n",
       "    }\n",
       "\n",
       "    .dataframe tbody tr th {\n",
       "        vertical-align: top;\n",
       "    }\n",
       "\n",
       "    .dataframe thead th {\n",
       "        text-align: right;\n",
       "    }\n",
       "</style>\n",
       "<table border=\"1\" class=\"dataframe\">\n",
       "  <thead>\n",
       "    <tr style=\"text-align: right;\">\n",
       "      <th></th>\n",
       "      <th>name</th>\n",
       "      <th>platform</th>\n",
       "      <th>year_of_release</th>\n",
       "      <th>genre</th>\n",
       "      <th>na_sales</th>\n",
       "      <th>eu_sales</th>\n",
       "      <th>jp_sales</th>\n",
       "      <th>other_sales</th>\n",
       "      <th>critic_score</th>\n",
       "      <th>user_score</th>\n",
       "      <th>rating</th>\n",
       "      <th>sum_sales</th>\n",
       "    </tr>\n",
       "  </thead>\n",
       "  <tbody>\n",
       "    <tr>\n",
       "      <th>0</th>\n",
       "      <td>Wii Sports</td>\n",
       "      <td>Wii</td>\n",
       "      <td>2006</td>\n",
       "      <td>Sports</td>\n",
       "      <td>41.36</td>\n",
       "      <td>28.96</td>\n",
       "      <td>3.77</td>\n",
       "      <td>8.45</td>\n",
       "      <td>76.0</td>\n",
       "      <td>8.0</td>\n",
       "      <td>E</td>\n",
       "      <td>82.54</td>\n",
       "    </tr>\n",
       "    <tr>\n",
       "      <th>1</th>\n",
       "      <td>Super Mario Bros.</td>\n",
       "      <td>NES</td>\n",
       "      <td>1985</td>\n",
       "      <td>Platform</td>\n",
       "      <td>29.08</td>\n",
       "      <td>3.58</td>\n",
       "      <td>6.81</td>\n",
       "      <td>0.77</td>\n",
       "      <td>NaN</td>\n",
       "      <td>NaN</td>\n",
       "      <td>NaN</td>\n",
       "      <td>40.24</td>\n",
       "    </tr>\n",
       "    <tr>\n",
       "      <th>2</th>\n",
       "      <td>Mario Kart Wii</td>\n",
       "      <td>Wii</td>\n",
       "      <td>2008</td>\n",
       "      <td>Racing</td>\n",
       "      <td>15.68</td>\n",
       "      <td>12.76</td>\n",
       "      <td>3.79</td>\n",
       "      <td>3.29</td>\n",
       "      <td>82.0</td>\n",
       "      <td>8.3</td>\n",
       "      <td>E</td>\n",
       "      <td>35.52</td>\n",
       "    </tr>\n",
       "    <tr>\n",
       "      <th>3</th>\n",
       "      <td>Wii Sports Resort</td>\n",
       "      <td>Wii</td>\n",
       "      <td>2009</td>\n",
       "      <td>Sports</td>\n",
       "      <td>15.61</td>\n",
       "      <td>10.93</td>\n",
       "      <td>3.28</td>\n",
       "      <td>2.95</td>\n",
       "      <td>80.0</td>\n",
       "      <td>8.0</td>\n",
       "      <td>E</td>\n",
       "      <td>32.77</td>\n",
       "    </tr>\n",
       "    <tr>\n",
       "      <th>4</th>\n",
       "      <td>Pokemon Red/Pokemon Blue</td>\n",
       "      <td>GB</td>\n",
       "      <td>1996</td>\n",
       "      <td>Role-Playing</td>\n",
       "      <td>11.27</td>\n",
       "      <td>8.89</td>\n",
       "      <td>10.22</td>\n",
       "      <td>1.00</td>\n",
       "      <td>NaN</td>\n",
       "      <td>NaN</td>\n",
       "      <td>NaN</td>\n",
       "      <td>31.38</td>\n",
       "    </tr>\n",
       "    <tr>\n",
       "      <th>5</th>\n",
       "      <td>Tetris</td>\n",
       "      <td>GB</td>\n",
       "      <td>1989</td>\n",
       "      <td>Puzzle</td>\n",
       "      <td>23.20</td>\n",
       "      <td>2.26</td>\n",
       "      <td>4.22</td>\n",
       "      <td>0.58</td>\n",
       "      <td>NaN</td>\n",
       "      <td>NaN</td>\n",
       "      <td>NaN</td>\n",
       "      <td>30.26</td>\n",
       "    </tr>\n",
       "    <tr>\n",
       "      <th>6</th>\n",
       "      <td>New Super Mario Bros.</td>\n",
       "      <td>DS</td>\n",
       "      <td>2006</td>\n",
       "      <td>Platform</td>\n",
       "      <td>11.28</td>\n",
       "      <td>9.14</td>\n",
       "      <td>6.50</td>\n",
       "      <td>2.88</td>\n",
       "      <td>89.0</td>\n",
       "      <td>8.5</td>\n",
       "      <td>E</td>\n",
       "      <td>29.80</td>\n",
       "    </tr>\n",
       "    <tr>\n",
       "      <th>7</th>\n",
       "      <td>Wii Play</td>\n",
       "      <td>Wii</td>\n",
       "      <td>2006</td>\n",
       "      <td>Misc</td>\n",
       "      <td>13.96</td>\n",
       "      <td>9.18</td>\n",
       "      <td>2.93</td>\n",
       "      <td>2.84</td>\n",
       "      <td>58.0</td>\n",
       "      <td>6.6</td>\n",
       "      <td>E</td>\n",
       "      <td>28.91</td>\n",
       "    </tr>\n",
       "    <tr>\n",
       "      <th>8</th>\n",
       "      <td>New Super Mario Bros. Wii</td>\n",
       "      <td>Wii</td>\n",
       "      <td>2009</td>\n",
       "      <td>Platform</td>\n",
       "      <td>14.44</td>\n",
       "      <td>6.94</td>\n",
       "      <td>4.70</td>\n",
       "      <td>2.24</td>\n",
       "      <td>87.0</td>\n",
       "      <td>8.4</td>\n",
       "      <td>E</td>\n",
       "      <td>28.32</td>\n",
       "    </tr>\n",
       "    <tr>\n",
       "      <th>9</th>\n",
       "      <td>Duck Hunt</td>\n",
       "      <td>NES</td>\n",
       "      <td>1984</td>\n",
       "      <td>Shooter</td>\n",
       "      <td>26.93</td>\n",
       "      <td>0.63</td>\n",
       "      <td>0.28</td>\n",
       "      <td>0.47</td>\n",
       "      <td>NaN</td>\n",
       "      <td>NaN</td>\n",
       "      <td>NaN</td>\n",
       "      <td>28.31</td>\n",
       "    </tr>\n",
       "  </tbody>\n",
       "</table>\n",
       "</div>"
      ],
      "text/plain": [
       "                        name platform  year_of_release         genre  \\\n",
       "0                 Wii Sports      Wii             2006        Sports   \n",
       "1          Super Mario Bros.      NES             1985      Platform   \n",
       "2             Mario Kart Wii      Wii             2008        Racing   \n",
       "3          Wii Sports Resort      Wii             2009        Sports   \n",
       "4   Pokemon Red/Pokemon Blue       GB             1996  Role-Playing   \n",
       "5                     Tetris       GB             1989        Puzzle   \n",
       "6      New Super Mario Bros.       DS             2006      Platform   \n",
       "7                   Wii Play      Wii             2006          Misc   \n",
       "8  New Super Mario Bros. Wii      Wii             2009      Platform   \n",
       "9                  Duck Hunt      NES             1984       Shooter   \n",
       "\n",
       "   na_sales  eu_sales  jp_sales  other_sales  critic_score  user_score rating  \\\n",
       "0     41.36     28.96      3.77         8.45          76.0         8.0      E   \n",
       "1     29.08      3.58      6.81         0.77           NaN         NaN    NaN   \n",
       "2     15.68     12.76      3.79         3.29          82.0         8.3      E   \n",
       "3     15.61     10.93      3.28         2.95          80.0         8.0      E   \n",
       "4     11.27      8.89     10.22         1.00           NaN         NaN    NaN   \n",
       "5     23.20      2.26      4.22         0.58           NaN         NaN    NaN   \n",
       "6     11.28      9.14      6.50         2.88          89.0         8.5      E   \n",
       "7     13.96      9.18      2.93         2.84          58.0         6.6      E   \n",
       "8     14.44      6.94      4.70         2.24          87.0         8.4      E   \n",
       "9     26.93      0.63      0.28         0.47           NaN         NaN    NaN   \n",
       "\n",
       "   sum_sales  \n",
       "0      82.54  \n",
       "1      40.24  \n",
       "2      35.52  \n",
       "3      32.77  \n",
       "4      31.38  \n",
       "5      30.26  \n",
       "6      29.80  \n",
       "7      28.91  \n",
       "8      28.32  \n",
       "9      28.31  "
      ]
     },
     "metadata": {},
     "output_type": "display_data"
    }
   ],
   "source": [
    "df['sum_sales'] = df['na_sales'] + df['eu_sales'] + df['jp_sales'] + df['other_sales']\n",
    "display(df.head(10))"
   ]
  },
  {
   "cell_type": "markdown",
   "metadata": {},
   "source": [
    "### Вывод"
   ]
  },
  {
   "cell_type": "markdown",
   "metadata": {},
   "source": [
    "В ходе первоначального изучения исходной таблицы и проведения предобработки были выполнены следующие шаги: приведение названий столбцов датафрейма к нижнему регистру методом .rename, удалили пропуски в столбцах name, year_of_release, genre методом .dropna, изменили тип данных в столбце с годом выпука игры (year_of_release) с float на int с помощью .astype и добавили новый столбец с суммарными продажами каждой игры во всех регионах. Теперь наша таблица готова к дальнейшему анализу. \n"
   ]
  },
  {
   "cell_type": "markdown",
   "metadata": {},
   "source": [
    "## Исследовательский анализ данных "
   ]
  },
  {
   "cell_type": "markdown",
   "metadata": {},
   "source": [
    "### Количество игр, выпущенных в разные годы."
   ]
  },
  {
   "cell_type": "code",
   "execution_count": 14,
   "metadata": {},
   "outputs": [
    {
     "data": {
      "image/png": "[encoded data removed]",
      "text/plain": [
       "<Figure size 432x288 with 1 Axes>"
      ]
     },
     "metadata": {
      "needs_background": "light"
     },
     "output_type": "display_data"
    }
   ],
   "source": [
    "plt.hist(df['year_of_release'], bins='auto', range=(1995, 2016))\n",
    "plt.xlabel('Год выпуска')\n",
    "plt.ylabel('Количество выпущенных игр')\n",
    "plt.title('Гистограмма количества выпущенных игр')\n",
    "plt.grid(True)\n",
    "plt.show;"
   ]
  },
  {
   "cell_type": "markdown",
   "metadata": {},
   "source": [
    "По гистограмме количества выпущенных игр видим, что пик приходится на 2008-2009 год, в это время было выпущенно более 1400 игр. С 2012 по 2016 год выходит примерно одинаковое количество игр, значение варьируется в пределах 600."
   ]
  },
  {
   "cell_type": "markdown",
   "metadata": {},
   "source": [
    "### Платформы с наибольшими суммарными продажами. Определение актуального периода. "
   ]
  },
  {
   "cell_type": "code",
   "execution_count": 15,
   "metadata": {},
   "outputs": [
    {
     "data": {
      "text/html": [
       "<div>\n",
       "<style scoped>\n",
       "    .dataframe tbody tr th:only-of-type {\n",
       "        vertical-align: middle;\n",
       "    }\n",
       "\n",
       "    .dataframe tbody tr th {\n",
       "        vertical-align: top;\n",
       "    }\n",
       "\n",
       "    .dataframe thead th {\n",
       "        text-align: right;\n",
       "    }\n",
       "</style>\n",
       "<table border=\"1\" class=\"dataframe\">\n",
       "  <thead>\n",
       "    <tr style=\"text-align: right;\">\n",
       "      <th></th>\n",
       "      <th>sum_sales</th>\n",
       "    </tr>\n",
       "    <tr>\n",
       "      <th>platform</th>\n",
       "      <th></th>\n",
       "    </tr>\n",
       "  </thead>\n",
       "  <tbody>\n",
       "    <tr>\n",
       "      <th>PS2</th>\n",
       "      <td>1233.56</td>\n",
       "    </tr>\n",
       "    <tr>\n",
       "      <th>X360</th>\n",
       "      <td>961.24</td>\n",
       "    </tr>\n",
       "    <tr>\n",
       "      <th>PS3</th>\n",
       "      <td>931.34</td>\n",
       "    </tr>\n",
       "    <tr>\n",
       "      <th>Wii</th>\n",
       "      <td>891.18</td>\n",
       "    </tr>\n",
       "    <tr>\n",
       "      <th>DS</th>\n",
       "      <td>802.78</td>\n",
       "    </tr>\n",
       "    <tr>\n",
       "      <th>PS</th>\n",
       "      <td>727.58</td>\n",
       "    </tr>\n",
       "    <tr>\n",
       "      <th>PS4</th>\n",
       "      <td>314.14</td>\n",
       "    </tr>\n",
       "    <tr>\n",
       "      <th>GBA</th>\n",
       "      <td>312.88</td>\n",
       "    </tr>\n",
       "    <tr>\n",
       "      <th>PSP</th>\n",
       "      <td>289.53</td>\n",
       "    </tr>\n",
       "    <tr>\n",
       "      <th>3DS</th>\n",
       "      <td>257.81</td>\n",
       "    </tr>\n",
       "  </tbody>\n",
       "</table>\n",
       "</div>"
      ],
      "text/plain": [
       "          sum_sales\n",
       "platform           \n",
       "PS2         1233.56\n",
       "X360         961.24\n",
       "PS3          931.34\n",
       "Wii          891.18\n",
       "DS           802.78\n",
       "PS           727.58\n",
       "PS4          314.14\n",
       "GBA          312.88\n",
       "PSP          289.53\n",
       "3DS          257.81"
      ]
     },
     "metadata": {},
     "output_type": "display_data"
    },
    {
     "data": {
      "image/png": "[encoded data removed]",
      "text/plain": [
       "<Figure size 720x504 with 1 Axes>"
      ]
     },
     "metadata": {
      "needs_background": "light"
     },
     "output_type": "display_data"
    }
   ],
   "source": [
    "platforms = df.pivot_table(index='platform', values='sum_sales', aggfunc='sum')\n",
    "display(platforms.sort_values(by='sum_sales', ascending=False).head(10))\n",
    "\n",
    "top10 = ['PS2', 'X360', 'PS3', 'Wii', 'DS', 'PS', 'PS4', 'GBA', 'PSP', '3DS']\n",
    "\n",
    "top = df.query('platform in @top10').groupby(['platform', 'year_of_release'])['sum_sales'].sum().unstack('platform').plot(\n",
    "grid=True,\n",
    "xlabel='год выпуска',\n",
    "ylabel='продажи',\n",
    "title='10 платформ с наибольшими суммарными продажами',\n",
    "figsize=(10,7))"
   ]
  },
  {
   "cell_type": "markdown",
   "metadata": {},
   "source": [
    "По графику видно, что срок появления и исчезновения новых платформ составляет примерно от 7 до 10 лет. Так же видим, что после 2005 года стало появляться заметно больше новых платформ в сравнении с предыдущими годами. В качестве актуального периода возьмем данные после 2013 года."
   ]
  },
  {
   "cell_type": "markdown",
   "metadata": {},
   "source": [
    "### Выбор потенциально прибыльных платформ. "
   ]
  },
  {
   "cell_type": "markdown",
   "metadata": {},
   "source": [
    "Построим таблицу для актуального периода, содержащую в себе название платформы и ее суммарные продажи."
   ]
  },
  {
   "cell_type": "code",
   "execution_count": 16,
   "metadata": {},
   "outputs": [
    {
     "data": {
      "text/html": [
       "<div>\n",
       "<style scoped>\n",
       "    .dataframe tbody tr th:only-of-type {\n",
       "        vertical-align: middle;\n",
       "    }\n",
       "\n",
       "    .dataframe tbody tr th {\n",
       "        vertical-align: top;\n",
       "    }\n",
       "\n",
       "    .dataframe thead th {\n",
       "        text-align: right;\n",
       "    }\n",
       "</style>\n",
       "<table border=\"1\" class=\"dataframe\">\n",
       "  <thead>\n",
       "    <tr style=\"text-align: right;\">\n",
       "      <th></th>\n",
       "      <th>sum_sales</th>\n",
       "    </tr>\n",
       "    <tr>\n",
       "      <th>platform</th>\n",
       "      <th></th>\n",
       "    </tr>\n",
       "  </thead>\n",
       "  <tbody>\n",
       "    <tr>\n",
       "      <th>PS4</th>\n",
       "      <td>288.15</td>\n",
       "    </tr>\n",
       "    <tr>\n",
       "      <th>XOne</th>\n",
       "      <td>140.36</td>\n",
       "    </tr>\n",
       "    <tr>\n",
       "      <th>3DS</th>\n",
       "      <td>86.68</td>\n",
       "    </tr>\n",
       "    <tr>\n",
       "      <th>PS3</th>\n",
       "      <td>68.18</td>\n",
       "    </tr>\n",
       "    <tr>\n",
       "      <th>X360</th>\n",
       "      <td>48.22</td>\n",
       "    </tr>\n",
       "  </tbody>\n",
       "</table>\n",
       "</div>"
      ],
      "text/plain": [
       "          sum_sales\n",
       "platform           \n",
       "PS4          288.15\n",
       "XOne         140.36\n",
       "3DS           86.68\n",
       "PS3           68.18\n",
       "X360          48.22"
      ]
     },
     "metadata": {},
     "output_type": "display_data"
    }
   ],
   "source": [
    "actual_df = df.query('year_of_release > 2013')\n",
    "\n",
    "actual_df_pivot = actual_df.pivot_table(\n",
    "                  index='platform', \n",
    "                  values='sum_sales',\n",
    "                  aggfunc='sum').sort_values(by='sum_sales', ascending=False)\n",
    "\n",
    "display(actual_df_pivot.head(5))"
   ]
  },
  {
   "cell_type": "markdown",
   "metadata": {},
   "source": [
    "Лидером продаж по актуальному периоду является PS4, по сумме общих продаж она обгоняет своего ближайшего конкурента - Xone, более чем в 2 раза, далее в топ 5 располагаются 3DS, PS3 и X360. "
   ]
  },
  {
   "cell_type": "code",
   "execution_count": 17,
   "metadata": {},
   "outputs": [
    {
     "data": {
      "image/png": "[encoded data removed]",
      "text/plain": [
       "<Figure size 720x504 with 1 Axes>"
      ]
     },
     "metadata": {
      "needs_background": "light"
     },
     "output_type": "display_data"
    }
   ],
   "source": [
    "actual_df = df.query('year_of_release > 2013')\n",
    "actual_df.groupby(['platform', 'year_of_release'])['sum_sales'].sum().unstack('platform').plot(\n",
    "grid=True,\n",
    "ylabel='продажи в млн',\n",
    "xlabel='год выпуска игр',\n",
    "figsize=(10,7));\n"
   ]
  },
  {
   "cell_type": "markdown",
   "metadata": {},
   "source": [
    "По динамике продаж можно сказать, что у всех платформ наблюдается снижение суммарных продаж по играм. Лидер - PS4 в 2014 году продал игр на 100 млн, в 2015 году на 120 млн, далее выручка снижается до 70 млн, но стоит отметить, что данные за 2016 год могут быть неполными. У второй платформы по суммарным продажам - XOne, ситуация такая же как и у PS4: небольшое увеличение продаж к 2015 и спад далее. Стоит отметить сильный спад продаж у платформ, которые входят в топ5 по общим продажам -  PS3 и X360. Их суммарные продажи за 2 года упали примерно в 5 раз, серьезная цифра. Это связано с тем, что эти две платформы просто напросто устарели и их новые версии (PS4 и XOne) набирают обороты. Пользователи обновляют свои игровые приставки и переходят их новые поколения. \n",
    "\n",
    "Из этого можно сделать выводы о потенциально прибыльных платформах. Включим в список PS4 и XOne, исключим из списка устаревшие, постепенно теряющие прибыль: X360 и PS3. Также добавим в потенциально прибыльные 3DS, несмотря на снижение уровня суммарных продаж, она занимает 3 место после двух  вышеперечисленных платформ-гигантов. Отметим также PC, ее продажи не такие большие как у консольных платформ, однако она выдяляется среди остальных своей стабильностью. \n",
    "\n",
    "Подытожим: включим в список потенциально прибыльных платформ PS4, XOne, 3DS и PC.\n"
   ]
  },
  {
   "cell_type": "markdown",
   "metadata": {},
   "source": [
    "Изучим детальнее эти платформы, построим \"ящики с усами\" по глобальным продажам игр в разбивке по платформам."
   ]
  },
  {
   "cell_type": "markdown",
   "metadata": {},
   "source": [
    "#### Платформа PS4\n"
   ]
  },
  {
   "cell_type": "code",
   "execution_count": 18,
   "metadata": {},
   "outputs": [
    {
     "data": {
      "image/png": "[encoded data removed]",
      "text/plain": [
       "<Figure size 720x576 with 1 Axes>"
      ]
     },
     "metadata": {
      "needs_background": "light"
     },
     "output_type": "display_data"
    }
   ],
   "source": [
    "actual_df.query('platform == \"PS4\"').boxplot(column='sum_sales', figsize=(10,8));"
   ]
  },
  {
   "cell_type": "markdown",
   "metadata": {},
   "source": [
    "Не очень наглядно, ограничим лимиты по оси Y. "
   ]
  },
  {
   "cell_type": "code",
   "execution_count": 19,
   "metadata": {},
   "outputs": [
    {
     "data": {
      "image/png": "[encoded data removed]",
      "text/plain": [
       "<Figure size 432x288 with 1 Axes>"
      ]
     },
     "metadata": {
      "needs_background": "light"
     },
     "output_type": "display_data"
    }
   ],
   "source": [
    "plt.ylim(0,2)\n",
    "actual_df.query('platform == \"PS4\"').boxplot(column='sum_sales');"
   ]
  },
  {
   "cell_type": "markdown",
   "metadata": {},
   "source": [
    "По боксплоту можем видеть, что медиана продаж игр для лидера - PS4, в районе 250 тыс. проданных копий. Все игры, проданные тиражем выше 3 квартили (около 900 тыс) можем считать выбросами, это самые успешные проекты платформы, проданные миллионы раз."
   ]
  },
  {
   "cell_type": "markdown",
   "metadata": {},
   "source": [
    "#### Платформа XOne"
   ]
  },
  {
   "cell_type": "code",
   "execution_count": 20,
   "metadata": {},
   "outputs": [
    {
     "data": {
      "image/png": "[encoded data removed]",
      "text/plain": [
       "<Figure size 720x576 with 1 Axes>"
      ]
     },
     "metadata": {
      "needs_background": "light"
     },
     "output_type": "display_data"
    }
   ],
   "source": [
    "actual_df.query('platform == \"XOne\"').boxplot(column='sum_sales', figsize=(10,8));"
   ]
  },
  {
   "cell_type": "markdown",
   "metadata": {},
   "source": [
    "Также ограничим ось Y для наглядности."
   ]
  },
  {
   "cell_type": "code",
   "execution_count": 21,
   "metadata": {},
   "outputs": [
    {
     "data": {
      "image/png": "[encoded data removed]",
      "text/plain": [
       "<Figure size 432x288 with 1 Axes>"
      ]
     },
     "metadata": {
      "needs_background": "light"
     },
     "output_type": "display_data"
    }
   ],
   "source": [
    "plt.ylim(0,1)\n",
    "actual_df.query('platform == \"XOne\"').boxplot(column='sum_sales');"
   ]
  },
  {
   "cell_type": "markdown",
   "metadata": {},
   "source": [
    "Медиана продаж Xone также находится в районе 250 тысяч, а третий квартиль в районе 900 тыс. В целом ситуация здесь такая же как в случае с платформой PS4. Стоит отметить что самые успешные проекты для этой платформы разошлись тиражем чуть более 5 млн, в то время как PS4 более 12 млн. "
   ]
  },
  {
   "cell_type": "markdown",
   "metadata": {},
   "source": [
    "#### Платформа 3DS"
   ]
  },
  {
   "cell_type": "code",
   "execution_count": 22,
   "metadata": {},
   "outputs": [
    {
     "data": {
      "image/png": "[encoded data removed]",
      "text/plain": [
       "<Figure size 720x576 with 1 Axes>"
      ]
     },
     "metadata": {
      "needs_background": "light"
     },
     "output_type": "display_data"
    }
   ],
   "source": [
    "actual_df.query('platform == \"3DS\"').boxplot(column='sum_sales', figsize=(10,8));"
   ]
  },
  {
   "cell_type": "code",
   "execution_count": 23,
   "metadata": {},
   "outputs": [
    {
     "data": {
      "image/png": "[encoded data removed]",
      "text/plain": [
       "<Figure size 432x288 with 1 Axes>"
      ]
     },
     "metadata": {
      "needs_background": "light"
     },
     "output_type": "display_data"
    }
   ],
   "source": [
    "plt.ylim(0,1)\n",
    "actual_df.query('platform == \"3DS\"').boxplot(column='sum_sales', figsize=(10,8));"
   ]
  },
  {
   "cell_type": "markdown",
   "metadata": {},
   "source": [
    "Медиана продаж у DS3 чуть выше 200 тыс. Квартиль также чуть больше 900 тыс. Самый продаваемый проект для этой платформы разошелся тиражем почти в 4 млн. "
   ]
  },
  {
   "cell_type": "markdown",
   "metadata": {},
   "source": [
    "#### Платформа PC"
   ]
  },
  {
   "cell_type": "code",
   "execution_count": 24,
   "metadata": {},
   "outputs": [
    {
     "data": {
      "image/png": "[encoded data removed]",
      "text/plain": [
       "<Figure size 720x576 with 1 Axes>"
      ]
     },
     "metadata": {
      "needs_background": "light"
     },
     "output_type": "display_data"
    }
   ],
   "source": [
    "actual_df.query('platform == \"PC\"').boxplot(column='sum_sales', figsize=(10,8));"
   ]
  },
  {
   "cell_type": "markdown",
   "metadata": {},
   "source": [
    "Ограничим ось Y."
   ]
  },
  {
   "cell_type": "code",
   "execution_count": 25,
   "metadata": {},
   "outputs": [
    {
     "data": {
      "image/png": "[encoded data removed]",
      "text/plain": [
       "<Figure size 432x288 with 1 Axes>"
      ]
     },
     "metadata": {
      "needs_background": "light"
     },
     "output_type": "display_data"
    }
   ],
   "source": [
    "plt.ylim(0,0.5)\n",
    "actual_df.query('platform == \"PC\"').boxplot(column='sum_sales', figsize=(10,8));"
   ]
  },
  {
   "cell_type": "markdown",
   "metadata": {},
   "source": [
    "Медианой продаж для платформы PC находится в районе 90 тыс, а третий квартиль около 220-230 тыс. Малые показатели относительно других платформ, однако это не удивительно, учитывая малые суммарные продажи. "
   ]
  },
  {
   "cell_type": "markdown",
   "metadata": {},
   "source": [
    "### Диаграммы рассеяния, подсчет корреляции между отзывами пользователей и критиков и суммарными  продажами."
   ]
  },
  {
   "cell_type": "markdown",
   "metadata": {},
   "source": [
    "Построим диаграмму рассеяния и посчитаем корреляцию между отзывами и продажами."
   ]
  },
  {
   "cell_type": "code",
   "execution_count": 26,
   "metadata": {},
   "outputs": [
    {
     "name": "stdout",
     "output_type": "stream",
     "text": [
      "0.5257228356581523\n"
     ]
    },
    {
     "data": {
      "image/png": "[encoded data removed]",
      "text/plain": [
       "<Figure size 432x288 with 1 Axes>"
      ]
     },
     "metadata": {
      "needs_background": "light"
     },
     "output_type": "display_data"
    }
   ],
   "source": [
    "X360 = actual_df.query('platform ==\"X360\"')\n",
    "X360.plot(x='critic_score', y='sum_sales', kind='scatter', grid=True);\n",
    "print(X360['sum_sales'].corr(X360['critic_score']))"
   ]
  },
  {
   "cell_type": "markdown",
   "metadata": {},
   "source": [
    "Построим график зависимости между отзывами критиков и продажами. Изучив его и посчитав корреляцию можем сделать вывод, что зависимость, хоть и слабая, действительно есть. "
   ]
  },
  {
   "cell_type": "code",
   "execution_count": 27,
   "metadata": {},
   "outputs": [
    {
     "name": "stdout",
     "output_type": "stream",
     "text": [
      "-0.138444570945665\n"
     ]
    },
    {
     "data": {
      "image/png": "[encoded data removed]",
      "text/plain": [
       "<Figure size 432x288 with 1 Axes>"
      ]
     },
     "metadata": {
      "needs_background": "light"
     },
     "output_type": "display_data"
    }
   ],
   "source": [
    "X360.plot(x='user_score', y='sum_sales', kind='scatter', grid=True);\n",
    "print(X360['sum_sales'].corr(X360['user_score']))"
   ]
  },
  {
   "cell_type": "markdown",
   "metadata": {},
   "source": [
    "Теперь взглянем на зависимость между отзывами пользователей и продажами на той же платформе. Коэффициент корелляции в -0.1 говорит нам о том, что зависимости между отзывами игроков и продажами нет. "
   ]
  },
  {
   "cell_type": "markdown",
   "metadata": {},
   "source": [
    "Сравним результаты продаж с другой платформой."
   ]
  },
  {
   "cell_type": "code",
   "execution_count": 28,
   "metadata": {},
   "outputs": [
    {
     "name": "stdout",
     "output_type": "stream",
     "text": [
      "0.40266141068104083\n"
     ]
    },
    {
     "data": {
      "image/png": "[encoded data removed]",
      "text/plain": [
       "<Figure size 432x288 with 1 Axes>"
      ]
     },
     "metadata": {
      "needs_background": "light"
     },
     "output_type": "display_data"
    }
   ],
   "source": [
    "PS4 = actual_df.query('platform ==\"PS4\"')\n",
    "PS4.plot(x='critic_score', y='sum_sales', kind='scatter', grid=True);\n",
    "print(PS4['sum_sales'].corr(PS4['critic_score']))"
   ]
  },
  {
   "cell_type": "markdown",
   "metadata": {},
   "source": [
    "Примерно такая же корреляция как и в случае с платформой X360, связь есть, но не ярковыраженная."
   ]
  },
  {
   "cell_type": "code",
   "execution_count": 29,
   "metadata": {},
   "outputs": [
    {
     "name": "stdout",
     "output_type": "stream",
     "text": [
      "-0.040131589472697356\n"
     ]
    },
    {
     "data": {
      "image/png": "[encoded data removed]",
      "text/plain": [
       "<Figure size 432x288 with 1 Axes>"
      ]
     },
     "metadata": {
      "needs_background": "light"
     },
     "output_type": "display_data"
    }
   ],
   "source": [
    "PS4 = actual_df.query('platform ==\"PS4\"')\n",
    "PS4.plot(x='user_score', y='sum_sales', kind='scatter', grid=True);\n",
    "print(PS4['sum_sales'].corr(PS4['user_score']))"
   ]
  },
  {
   "cell_type": "markdown",
   "metadata": {},
   "source": [
    "Отрицательный коеффициент корреляции, близкий к нулю. Тут зависимости между отзывами игроков и продажами нет. "
   ]
  },
  {
   "cell_type": "markdown",
   "metadata": {},
   "source": [
    "### Определение самых прибыльных жанров."
   ]
  },
  {
   "cell_type": "markdown",
   "metadata": {},
   "source": [
    "Определим самые прибыльные жанры, для этого построим таблицу с названием жанров и их медианными продажами. Отсортируем ее в порядке убывания."
   ]
  },
  {
   "cell_type": "code",
   "execution_count": 30,
   "metadata": {},
   "outputs": [
    {
     "data": {
      "text/html": [
       "<div>\n",
       "<style scoped>\n",
       "    .dataframe tbody tr th:only-of-type {\n",
       "        vertical-align: middle;\n",
       "    }\n",
       "\n",
       "    .dataframe tbody tr th {\n",
       "        vertical-align: top;\n",
       "    }\n",
       "\n",
       "    .dataframe thead th {\n",
       "        text-align: right;\n",
       "    }\n",
       "</style>\n",
       "<table border=\"1\" class=\"dataframe\">\n",
       "  <thead>\n",
       "    <tr style=\"text-align: right;\">\n",
       "      <th></th>\n",
       "      <th>sum_sales</th>\n",
       "    </tr>\n",
       "    <tr>\n",
       "      <th>genre</th>\n",
       "      <th></th>\n",
       "    </tr>\n",
       "  </thead>\n",
       "  <tbody>\n",
       "    <tr>\n",
       "      <th>Shooter</th>\n",
       "      <td>0.515</td>\n",
       "    </tr>\n",
       "    <tr>\n",
       "      <th>Sports</th>\n",
       "      <td>0.180</td>\n",
       "    </tr>\n",
       "    <tr>\n",
       "      <th>Platform</th>\n",
       "      <td>0.140</td>\n",
       "    </tr>\n",
       "    <tr>\n",
       "      <th>Fighting</th>\n",
       "      <td>0.125</td>\n",
       "    </tr>\n",
       "    <tr>\n",
       "      <th>Role-Playing</th>\n",
       "      <td>0.110</td>\n",
       "    </tr>\n",
       "    <tr>\n",
       "      <th>Simulation</th>\n",
       "      <td>0.100</td>\n",
       "    </tr>\n",
       "    <tr>\n",
       "      <th>Action</th>\n",
       "      <td>0.090</td>\n",
       "    </tr>\n",
       "    <tr>\n",
       "      <th>Misc</th>\n",
       "      <td>0.090</td>\n",
       "    </tr>\n",
       "    <tr>\n",
       "      <th>Racing</th>\n",
       "      <td>0.090</td>\n",
       "    </tr>\n",
       "    <tr>\n",
       "      <th>Strategy</th>\n",
       "      <td>0.060</td>\n",
       "    </tr>\n",
       "    <tr>\n",
       "      <th>Puzzle</th>\n",
       "      <td>0.045</td>\n",
       "    </tr>\n",
       "    <tr>\n",
       "      <th>Adventure</th>\n",
       "      <td>0.030</td>\n",
       "    </tr>\n",
       "  </tbody>\n",
       "</table>\n",
       "</div>"
      ],
      "text/plain": [
       "              sum_sales\n",
       "genre                  \n",
       "Shooter           0.515\n",
       "Sports            0.180\n",
       "Platform          0.140\n",
       "Fighting          0.125\n",
       "Role-Playing      0.110\n",
       "Simulation        0.100\n",
       "Action            0.090\n",
       "Misc              0.090\n",
       "Racing            0.090\n",
       "Strategy          0.060\n",
       "Puzzle            0.045\n",
       "Adventure         0.030"
      ]
     },
     "metadata": {},
     "output_type": "display_data"
    }
   ],
   "source": [
    "genres = actual_df.pivot_table(index='genre', values='sum_sales', aggfunc='median').sort_values(by='sum_sales', ascending=False)\n",
    "display(genres)"
   ]
  },
  {
   "cell_type": "markdown",
   "metadata": {},
   "source": [
    "Медиана была выбрана из-за того, что некоторые упешные проекты, разошедшиеся тиражем в несколько млн могут сильно искажать средние значения.\n",
    "\n",
    "Итак, самым прибыльным жанром является Shooter, медиана продаж у игр в этом жанре - 545 тысяч, на втором месте расположился жанр  Sports (410 тысяч). Тройку лидеров закрывает Misc - 310 тыс.\n",
    "Самыми низкими медианными продажами обладает Puzzle, игры в этом жанре в среднем имеют продажи в 40 тыс. "
   ]
  },
  {
   "cell_type": "markdown",
   "metadata": {},
   "source": [
    "### Вывод\n"
   ]
  },
  {
   "cell_type": "markdown",
   "metadata": {},
   "source": [
    "В ходе исследовательского анализа мы выяснили количество игр, которые выпускались в разные годы, нашли платформы с наибольшими суммарными продажами в мире (таблица top), выявили потенциально прибыльные платформы и изучили их подробнее, построив для каждой боксплот. Определили актуальный период (после 2013 года), по которому и проводили анализ потенциально прибыльных платформ. Также были построены диаграммы рессеяния, чтобы выяснить как влияют отзывы пользователей и критиков на суммарные продажи игры. Изучив их, мы выяснили, что имеется слабая связь между отзывами критиков и продажами, в то время как отзывы игроков не влияют на суммарные продажи. Результатом определения самого прибыльного жанра стала таблица genres, лидером которой является Shooter."
   ]
  },
  {
   "cell_type": "markdown",
   "metadata": {},
   "source": [
    "## Портрет пользователя каждого региона."
   ]
  },
  {
   "cell_type": "markdown",
   "metadata": {},
   "source": [
    "### Северная Америка\n",
    "\n",
    "Посмотрим какие платформы и жанры пользуются спросом в этом регионе, построим две таблицы и выведет топ-5 платформ/жанров."
   ]
  },
  {
   "cell_type": "code",
   "execution_count": 31,
   "metadata": {},
   "outputs": [
    {
     "data": {
      "text/html": [
       "<div>\n",
       "<style scoped>\n",
       "    .dataframe tbody tr th:only-of-type {\n",
       "        vertical-align: middle;\n",
       "    }\n",
       "\n",
       "    .dataframe tbody tr th {\n",
       "        vertical-align: top;\n",
       "    }\n",
       "\n",
       "    .dataframe thead th {\n",
       "        text-align: right;\n",
       "    }\n",
       "</style>\n",
       "<table border=\"1\" class=\"dataframe\">\n",
       "  <thead>\n",
       "    <tr style=\"text-align: right;\">\n",
       "      <th></th>\n",
       "      <th>na_sales</th>\n",
       "    </tr>\n",
       "    <tr>\n",
       "      <th>platform</th>\n",
       "      <th></th>\n",
       "    </tr>\n",
       "  </thead>\n",
       "  <tbody>\n",
       "    <tr>\n",
       "      <th>PS4</th>\n",
       "      <td>98.61</td>\n",
       "    </tr>\n",
       "    <tr>\n",
       "      <th>XOne</th>\n",
       "      <td>81.27</td>\n",
       "    </tr>\n",
       "    <tr>\n",
       "      <th>X360</th>\n",
       "      <td>28.30</td>\n",
       "    </tr>\n",
       "    <tr>\n",
       "      <th>3DS</th>\n",
       "      <td>22.64</td>\n",
       "    </tr>\n",
       "    <tr>\n",
       "      <th>PS3</th>\n",
       "      <td>22.05</td>\n",
       "    </tr>\n",
       "  </tbody>\n",
       "</table>\n",
       "</div>"
      ],
      "text/plain": [
       "          na_sales\n",
       "platform          \n",
       "PS4          98.61\n",
       "XOne         81.27\n",
       "X360         28.30\n",
       "3DS          22.64\n",
       "PS3          22.05"
      ]
     },
     "metadata": {},
     "output_type": "display_data"
    },
    {
     "data": {
      "text/html": [
       "<div>\n",
       "<style scoped>\n",
       "    .dataframe tbody tr th:only-of-type {\n",
       "        vertical-align: middle;\n",
       "    }\n",
       "\n",
       "    .dataframe tbody tr th {\n",
       "        vertical-align: top;\n",
       "    }\n",
       "\n",
       "    .dataframe thead th {\n",
       "        text-align: right;\n",
       "    }\n",
       "</style>\n",
       "<table border=\"1\" class=\"dataframe\">\n",
       "  <thead>\n",
       "    <tr style=\"text-align: right;\">\n",
       "      <th></th>\n",
       "      <th>na_sales</th>\n",
       "    </tr>\n",
       "    <tr>\n",
       "      <th>genre</th>\n",
       "      <th></th>\n",
       "    </tr>\n",
       "  </thead>\n",
       "  <tbody>\n",
       "    <tr>\n",
       "      <th>Shooter</th>\n",
       "      <td>0.220</td>\n",
       "    </tr>\n",
       "    <tr>\n",
       "      <th>Platform</th>\n",
       "      <td>0.075</td>\n",
       "    </tr>\n",
       "    <tr>\n",
       "      <th>Sports</th>\n",
       "      <td>0.070</td>\n",
       "    </tr>\n",
       "    <tr>\n",
       "      <th>Fighting</th>\n",
       "      <td>0.040</td>\n",
       "    </tr>\n",
       "    <tr>\n",
       "      <th>Racing</th>\n",
       "      <td>0.030</td>\n",
       "    </tr>\n",
       "  </tbody>\n",
       "</table>\n",
       "</div>"
      ],
      "text/plain": [
       "          na_sales\n",
       "genre             \n",
       "Shooter      0.220\n",
       "Platform     0.075\n",
       "Sports       0.070\n",
       "Fighting     0.040\n",
       "Racing       0.030"
      ]
     },
     "metadata": {},
     "output_type": "display_data"
    }
   ],
   "source": [
    "platformNA = actual_df.pivot_table(index='platform',\n",
    "                                   values='na_sales',\n",
    "                                   aggfunc='sum').sort_values(by='na_sales', ascending=False)\n",
    "\n",
    "genreNA = actual_df.pivot_table(index='genre',\n",
    "                               values='na_sales',\n",
    "                               aggfunc='median').sort_values(by='na_sales', ascending=False)\n",
    "display(platformNA.head(5))\n",
    "display(genreNA.head(5))"
   ]
  },
  {
   "cell_type": "markdown",
   "metadata": {},
   "source": [
    "В списке топ-5 самых популярных платформ Северной Америки ситуция похожа с общемировой, за исключением того, что X360 обогнал PS3 и занял третье место. Стоит отметить, что примерно 40% продаж всех игр у лидера - PS4, приходится именно на этот регион. Также на NA регион приходится около 60% общих продаж для платформы XOne.\n",
    "\n",
    "Респределение игр по жанрам почти отличается от мирового, в топ 3 все те же, что и назывались ранее: Shooter, Sports, Misc. Далее идет Platform, занимающий лишь 7 место в мире и Action, который располагается в мире на 5 месте."
   ]
  },
  {
   "cell_type": "markdown",
   "metadata": {},
   "source": [
    "### Европа"
   ]
  },
  {
   "cell_type": "code",
   "execution_count": 32,
   "metadata": {},
   "outputs": [
    {
     "data": {
      "text/html": [
       "<div>\n",
       "<style scoped>\n",
       "    .dataframe tbody tr th:only-of-type {\n",
       "        vertical-align: middle;\n",
       "    }\n",
       "\n",
       "    .dataframe tbody tr th {\n",
       "        vertical-align: top;\n",
       "    }\n",
       "\n",
       "    .dataframe thead th {\n",
       "        text-align: right;\n",
       "    }\n",
       "</style>\n",
       "<table border=\"1\" class=\"dataframe\">\n",
       "  <thead>\n",
       "    <tr style=\"text-align: right;\">\n",
       "      <th></th>\n",
       "      <th>eu_sales</th>\n",
       "    </tr>\n",
       "    <tr>\n",
       "      <th>platform</th>\n",
       "      <th></th>\n",
       "    </tr>\n",
       "  </thead>\n",
       "  <tbody>\n",
       "    <tr>\n",
       "      <th>PS4</th>\n",
       "      <td>130.04</td>\n",
       "    </tr>\n",
       "    <tr>\n",
       "      <th>XOne</th>\n",
       "      <td>46.25</td>\n",
       "    </tr>\n",
       "    <tr>\n",
       "      <th>PS3</th>\n",
       "      <td>25.54</td>\n",
       "    </tr>\n",
       "    <tr>\n",
       "      <th>PC</th>\n",
       "      <td>17.97</td>\n",
       "    </tr>\n",
       "    <tr>\n",
       "      <th>3DS</th>\n",
       "      <td>16.12</td>\n",
       "    </tr>\n",
       "  </tbody>\n",
       "</table>\n",
       "</div>"
      ],
      "text/plain": [
       "          eu_sales\n",
       "platform          \n",
       "PS4         130.04\n",
       "XOne         46.25\n",
       "PS3          25.54\n",
       "PC           17.97\n",
       "3DS          16.12"
      ]
     },
     "metadata": {},
     "output_type": "display_data"
    },
    {
     "data": {
      "text/html": [
       "<div>\n",
       "<style scoped>\n",
       "    .dataframe tbody tr th:only-of-type {\n",
       "        vertical-align: middle;\n",
       "    }\n",
       "\n",
       "    .dataframe tbody tr th {\n",
       "        vertical-align: top;\n",
       "    }\n",
       "\n",
       "    .dataframe thead th {\n",
       "        text-align: right;\n",
       "    }\n",
       "</style>\n",
       "<table border=\"1\" class=\"dataframe\">\n",
       "  <thead>\n",
       "    <tr style=\"text-align: right;\">\n",
       "      <th></th>\n",
       "      <th>eu_sales</th>\n",
       "    </tr>\n",
       "    <tr>\n",
       "      <th>genre</th>\n",
       "      <th></th>\n",
       "    </tr>\n",
       "  </thead>\n",
       "  <tbody>\n",
       "    <tr>\n",
       "      <th>Shooter</th>\n",
       "      <td>0.220</td>\n",
       "    </tr>\n",
       "    <tr>\n",
       "      <th>Platform</th>\n",
       "      <td>0.055</td>\n",
       "    </tr>\n",
       "    <tr>\n",
       "      <th>Racing</th>\n",
       "      <td>0.050</td>\n",
       "    </tr>\n",
       "    <tr>\n",
       "      <th>Sports</th>\n",
       "      <td>0.050</td>\n",
       "    </tr>\n",
       "    <tr>\n",
       "      <th>Simulation</th>\n",
       "      <td>0.030</td>\n",
       "    </tr>\n",
       "  </tbody>\n",
       "</table>\n",
       "</div>"
      ],
      "text/plain": [
       "            eu_sales\n",
       "genre               \n",
       "Shooter        0.220\n",
       "Platform       0.055\n",
       "Racing         0.050\n",
       "Sports         0.050\n",
       "Simulation     0.030"
      ]
     },
     "metadata": {},
     "output_type": "display_data"
    }
   ],
   "source": [
    "platformEU = actual_df.pivot_table(index='platform',\n",
    "                                   values='eu_sales',\n",
    "                                   aggfunc='sum').sort_values(by='eu_sales', ascending=False)\n",
    "\n",
    "genreEU = actual_df.pivot_table(index='genre',\n",
    "                               values='eu_sales',\n",
    "                               aggfunc='median').sort_values(by='eu_sales', ascending=False)\n",
    "\n",
    "display(platformEU.head(5))\n",
    "display(genreEU.head(5))"
   ]
  },
  {
   "cell_type": "markdown",
   "metadata": {},
   "source": [
    "В целом ситуация похожа на общую картину по миру. Лидирует все также PS4. Единственное изменение в топ 5 европейских платформ - появление PC вместо WiiU. \n",
    "\n",
    "В списке топа жанров в Европе на 3 месте появился Simulation. В остальном без изменений, Shooter лидирует с большим отрывом. "
   ]
  },
  {
   "cell_type": "markdown",
   "metadata": {},
   "source": [
    "### Япония\n"
   ]
  },
  {
   "cell_type": "code",
   "execution_count": 33,
   "metadata": {},
   "outputs": [
    {
     "data": {
      "text/html": [
       "<div>\n",
       "<style scoped>\n",
       "    .dataframe tbody tr th:only-of-type {\n",
       "        vertical-align: middle;\n",
       "    }\n",
       "\n",
       "    .dataframe tbody tr th {\n",
       "        vertical-align: top;\n",
       "    }\n",
       "\n",
       "    .dataframe thead th {\n",
       "        text-align: right;\n",
       "    }\n",
       "</style>\n",
       "<table border=\"1\" class=\"dataframe\">\n",
       "  <thead>\n",
       "    <tr style=\"text-align: right;\">\n",
       "      <th></th>\n",
       "      <th>jp_sales</th>\n",
       "    </tr>\n",
       "    <tr>\n",
       "      <th>platform</th>\n",
       "      <th></th>\n",
       "    </tr>\n",
       "  </thead>\n",
       "  <tbody>\n",
       "    <tr>\n",
       "      <th>3DS</th>\n",
       "      <td>44.24</td>\n",
       "    </tr>\n",
       "    <tr>\n",
       "      <th>PS4</th>\n",
       "      <td>15.02</td>\n",
       "    </tr>\n",
       "    <tr>\n",
       "      <th>PSV</th>\n",
       "      <td>14.54</td>\n",
       "    </tr>\n",
       "    <tr>\n",
       "      <th>PS3</th>\n",
       "      <td>11.22</td>\n",
       "    </tr>\n",
       "    <tr>\n",
       "      <th>WiiU</th>\n",
       "      <td>7.31</td>\n",
       "    </tr>\n",
       "  </tbody>\n",
       "</table>\n",
       "</div>"
      ],
      "text/plain": [
       "          jp_sales\n",
       "platform          \n",
       "3DS          44.24\n",
       "PS4          15.02\n",
       "PSV          14.54\n",
       "PS3          11.22\n",
       "WiiU          7.31"
      ]
     },
     "metadata": {},
     "output_type": "display_data"
    },
    {
     "data": {
      "text/html": [
       "<div>\n",
       "<style scoped>\n",
       "    .dataframe tbody tr th:only-of-type {\n",
       "        vertical-align: middle;\n",
       "    }\n",
       "\n",
       "    .dataframe tbody tr th {\n",
       "        vertical-align: top;\n",
       "    }\n",
       "\n",
       "    .dataframe thead th {\n",
       "        text-align: right;\n",
       "    }\n",
       "</style>\n",
       "<table border=\"1\" class=\"dataframe\">\n",
       "  <thead>\n",
       "    <tr style=\"text-align: right;\">\n",
       "      <th></th>\n",
       "      <th>jp_sales</th>\n",
       "    </tr>\n",
       "    <tr>\n",
       "      <th>genre</th>\n",
       "      <th></th>\n",
       "    </tr>\n",
       "  </thead>\n",
       "  <tbody>\n",
       "    <tr>\n",
       "      <th>Role-Playing</th>\n",
       "      <td>0.05</td>\n",
       "    </tr>\n",
       "    <tr>\n",
       "      <th>Fighting</th>\n",
       "      <td>0.03</td>\n",
       "    </tr>\n",
       "    <tr>\n",
       "      <th>Puzzle</th>\n",
       "      <td>0.03</td>\n",
       "    </tr>\n",
       "    <tr>\n",
       "      <th>Action</th>\n",
       "      <td>0.01</td>\n",
       "    </tr>\n",
       "    <tr>\n",
       "      <th>Adventure</th>\n",
       "      <td>0.01</td>\n",
       "    </tr>\n",
       "  </tbody>\n",
       "</table>\n",
       "</div>"
      ],
      "text/plain": [
       "              jp_sales\n",
       "genre                 \n",
       "Role-Playing      0.05\n",
       "Fighting          0.03\n",
       "Puzzle            0.03\n",
       "Action            0.01\n",
       "Adventure         0.01"
      ]
     },
     "metadata": {},
     "output_type": "display_data"
    }
   ],
   "source": [
    "platformJP = actual_df.pivot_table(index='platform',\n",
    "                                   values='jp_sales',\n",
    "                                   aggfunc='sum').sort_values(by='jp_sales', ascending=False)\n",
    "\n",
    "genreJP = actual_df.pivot_table(index='genre',\n",
    "                               values='jp_sales',\n",
    "                               aggfunc='median').sort_values(by='jp_sales', ascending=False)\n",
    "\n",
    "display(platformJP.head(5))\n",
    "display(genreJP.head(5))"
   ]
  },
  {
   "cell_type": "markdown",
   "metadata": {},
   "source": [
    "В регионе JP видим существуенные отличия от мировых предпочтений. Здесь лидируют платформы 3DS, PS4, WiiU, PS3, PSV. Выдающийся лидер других регионов - PS4, здесь располагается на втором месте. \n",
    "\n",
    "Стоит отметить лидерующие жанры - Fighting, Puzzle (самый малопродаваемый в мире) и Role-Playing. "
   ]
  },
  {
   "cell_type": "markdown",
   "metadata": {},
   "source": [
    "### Другие страны\n"
   ]
  },
  {
   "cell_type": "code",
   "execution_count": 34,
   "metadata": {},
   "outputs": [
    {
     "data": {
      "text/html": [
       "<div>\n",
       "<style scoped>\n",
       "    .dataframe tbody tr th:only-of-type {\n",
       "        vertical-align: middle;\n",
       "    }\n",
       "\n",
       "    .dataframe tbody tr th {\n",
       "        vertical-align: top;\n",
       "    }\n",
       "\n",
       "    .dataframe thead th {\n",
       "        text-align: right;\n",
       "    }\n",
       "</style>\n",
       "<table border=\"1\" class=\"dataframe\">\n",
       "  <thead>\n",
       "    <tr style=\"text-align: right;\">\n",
       "      <th></th>\n",
       "      <th>other_sales</th>\n",
       "    </tr>\n",
       "    <tr>\n",
       "      <th>platform</th>\n",
       "      <th></th>\n",
       "    </tr>\n",
       "  </thead>\n",
       "  <tbody>\n",
       "    <tr>\n",
       "      <th>PS4</th>\n",
       "      <td>44.48</td>\n",
       "    </tr>\n",
       "    <tr>\n",
       "      <th>XOne</th>\n",
       "      <td>12.52</td>\n",
       "    </tr>\n",
       "    <tr>\n",
       "      <th>PS3</th>\n",
       "      <td>9.37</td>\n",
       "    </tr>\n",
       "    <tr>\n",
       "      <th>X360</th>\n",
       "      <td>4.35</td>\n",
       "    </tr>\n",
       "    <tr>\n",
       "      <th>3DS</th>\n",
       "      <td>3.68</td>\n",
       "    </tr>\n",
       "  </tbody>\n",
       "</table>\n",
       "</div>"
      ],
      "text/plain": [
       "          other_sales\n",
       "platform             \n",
       "PS4             44.48\n",
       "XOne            12.52\n",
       "PS3              9.37\n",
       "X360             4.35\n",
       "3DS              3.68"
      ]
     },
     "metadata": {},
     "output_type": "display_data"
    },
    {
     "data": {
      "text/html": [
       "<div>\n",
       "<style scoped>\n",
       "    .dataframe tbody tr th:only-of-type {\n",
       "        vertical-align: middle;\n",
       "    }\n",
       "\n",
       "    .dataframe tbody tr th {\n",
       "        vertical-align: top;\n",
       "    }\n",
       "\n",
       "    .dataframe thead th {\n",
       "        text-align: right;\n",
       "    }\n",
       "</style>\n",
       "<table border=\"1\" class=\"dataframe\">\n",
       "  <thead>\n",
       "    <tr style=\"text-align: right;\">\n",
       "      <th></th>\n",
       "      <th>other_sales</th>\n",
       "    </tr>\n",
       "    <tr>\n",
       "      <th>genre</th>\n",
       "      <th></th>\n",
       "    </tr>\n",
       "  </thead>\n",
       "  <tbody>\n",
       "    <tr>\n",
       "      <th>Shooter</th>\n",
       "      <td>0.055</td>\n",
       "    </tr>\n",
       "    <tr>\n",
       "      <th>Platform</th>\n",
       "      <td>0.020</td>\n",
       "    </tr>\n",
       "    <tr>\n",
       "      <th>Sports</th>\n",
       "      <td>0.020</td>\n",
       "    </tr>\n",
       "    <tr>\n",
       "      <th>Action</th>\n",
       "      <td>0.010</td>\n",
       "    </tr>\n",
       "    <tr>\n",
       "      <th>Fighting</th>\n",
       "      <td>0.010</td>\n",
       "    </tr>\n",
       "  </tbody>\n",
       "</table>\n",
       "</div>"
      ],
      "text/plain": [
       "          other_sales\n",
       "genre                \n",
       "Shooter         0.055\n",
       "Platform        0.020\n",
       "Sports          0.020\n",
       "Action          0.010\n",
       "Fighting        0.010"
      ]
     },
     "metadata": {},
     "output_type": "display_data"
    }
   ],
   "source": [
    "platform_others = actual_df.pivot_table(index='platform',\n",
    "                                   values='other_sales',\n",
    "                                   aggfunc='sum').sort_values(by='other_sales', ascending=False)\n",
    "\n",
    "genre_others = actual_df.pivot_table(index='genre',\n",
    "                               values='other_sales',\n",
    "                               aggfunc='median').sort_values(by='other_sales', ascending=False)\n",
    "\n",
    "display(platform_others.head(5))\n",
    "display(genre_others.head(5))"
   ]
  },
  {
   "cell_type": "markdown",
   "metadata": {},
   "source": [
    "В целом для других стран и по жанрам и по платформам ситуация схожа с мировой."
   ]
  },
  {
   "cell_type": "markdown",
   "metadata": {},
   "source": [
    "### Влияние рейтинга ESRB на продажи\n",
    "\n",
    "Выясним как влияет рейтинг ESRB на продажи игр в Северной Америке."
   ]
  },
  {
   "cell_type": "code",
   "execution_count": 35,
   "metadata": {},
   "outputs": [
    {
     "name": "stderr",
     "output_type": "stream",
     "text": [
      "/tmp/ipykernel_36/3638132144.py:1: SettingWithCopyWarning: \n",
      "A value is trying to be set on a copy of a slice from a DataFrame.\n",
      "Try using .loc[row_indexer,col_indexer] = value instead\n",
      "\n",
      "See the caveats in the documentation: https://pandas.pydata.org/pandas-docs/stable/user_guide/indexing.html#returning-a-view-versus-a-copy\n",
      "  actual_df['rating'] = actual_df['rating'].fillna('Нет рейтинга')\n"
     ]
    },
    {
     "data": {
      "image/png": "[encoded data removed]",
      "text/plain": [
       "<Figure size 432x288 with 1 Axes>"
      ]
     },
     "metadata": {
      "needs_background": "light"
     },
     "output_type": "display_data"
    }
   ],
   "source": [
    "actual_df['rating'] = actual_df['rating'].fillna('Нет рейтинга')\n",
    "\n",
    "actual_df.pivot_table(index='rating',\n",
    "                     values='na_sales',\n",
    "                     aggfunc='sum').plot(grid=True);"
   ]
  },
  {
   "cell_type": "markdown",
   "metadata": {},
   "source": [
    "Лидерами продаж по возрастному рейтингу являются игры с категорией \"M\" -  «Mature» — «Для взрослых». Такие проекты расчитаны на аудитории 17+ лет. \n",
    "\n",
    "На втором месте располагаются игры с категорией \"Нет рейтинга\", которую мы добавили ранее для игр, у которых в поле с рейтингом был пропуск.\n",
    "\n",
    "На третьем месте располагаются игры в жанре E\". Расшифровывается «E» как «Everyone» — «Для всех»: содержание таких игр вполне подходит для возрастной категории от 6 лет.\n",
    "\n",
    "Ненамного отстают игры в категории \"T\" -  «Teen» — «Подросткам»: такие игры подходят для лиц от 13 лет.\n",
    "\n",
    "Пятое место занимают игры категории \"E10+\" - «Для всех от 10 лет и старше»."
   ]
  },
  {
   "cell_type": "markdown",
   "metadata": {},
   "source": [
    "Теперь посмотрим на другие регионы."
   ]
  },
  {
   "cell_type": "code",
   "execution_count": 36,
   "metadata": {},
   "outputs": [
    {
     "data": {
      "image/png": "[encoded data removed]",
      "text/plain": [
       "<Figure size 432x288 with 1 Axes>"
      ]
     },
     "metadata": {
      "needs_background": "light"
     },
     "output_type": "display_data"
    },
    {
     "data": {
      "image/png": "[encoded data removed]",
      "text/plain": [
       "<Figure size 432x288 with 1 Axes>"
      ]
     },
     "metadata": {
      "needs_background": "light"
     },
     "output_type": "display_data"
    },
    {
     "data": {
      "image/png": "[encoded data removed]",
      "text/plain": [
       "<Figure size 432x288 with 1 Axes>"
      ]
     },
     "metadata": {
      "needs_background": "light"
     },
     "output_type": "display_data"
    }
   ],
   "source": [
    "actual_df.pivot_table(index='rating',\n",
    "                     values='eu_sales',\n",
    "                     aggfunc='sum').plot(title='Влияние рейтига ESRB на продажи в Европе', grid=True);\n",
    "\n",
    "actual_df.pivot_table(index='rating',\n",
    "                     values='jp_sales',\n",
    "                     aggfunc='sum').plot(title='Влияние рейтига ESRB на продажи в Японии', grid=True);\n",
    "\n",
    "actual_df.pivot_table(index='rating',\n",
    "                     values='other_sales',\n",
    "                     aggfunc='sum').plot(title='Влияние рейтига ESRB на продажи в других регионах', grid=True);"
   ]
  },
  {
   "cell_type": "markdown",
   "metadata": {},
   "source": [
    "В Европе и других регионах картина не сильно отличается от Северной Америки. В Японии уже поинтереснее, безоговорочным лидером здесь являются игры без рейтинга, а далее располагаются игры с категорией \"Т\", \"М\", \"Е\", \"Е10+\""
   ]
  },
  {
   "cell_type": "markdown",
   "metadata": {},
   "source": [
    "## Проверка гипотез."
   ]
  },
  {
   "cell_type": "markdown",
   "metadata": {},
   "source": [
    "Проверим две гипотезы:\n",
    "1. Средние пользовательские рейтинги платформ Xbox One и PC одинаковые;\n",
    "2. Средние пользовательские рейтинги жанров Action и Sports разные."
   ]
  },
  {
   "cell_type": "code",
   "execution_count": 37,
   "metadata": {},
   "outputs": [],
   "source": [
    "#для проверки гипотез удалим пропуски в столбце с рейтингом пользователей\n",
    "actual_df = actual_df.dropna(subset=['user_score'])"
   ]
  },
  {
   "cell_type": "markdown",
   "metadata": {},
   "source": [
    "### Гипотеза о равенстве пользовательских рейтингов друх платформ"
   ]
  },
  {
   "cell_type": "markdown",
   "metadata": {},
   "source": [
    "Сформируем нулевую и альтернативную гипотезы:\n",
    "- Нулевая: cредние пользовательские рейтинги платформ Xbox One и PC одинаковые\n",
    "- Альтернативная: средние пользовательские рейтинги платформ Xbox One и PC отличаются."
   ]
  },
  {
   "cell_type": "code",
   "execution_count": 38,
   "metadata": {},
   "outputs": [
    {
     "name": "stdout",
     "output_type": "stream",
     "text": [
      "p-значение: 0.10450507919348415\n",
      "Не получилось отвергнуть нулевую гипотезу\n"
     ]
    }
   ],
   "source": [
    "xbox = actual_df.query('platform == \"XOne\"')['user_score']\n",
    "pc = actual_df.query('platform ==\"PC\"')['user_score']\n",
    "\n",
    "alpha = .05\n",
    "\n",
    "results = st.ttest_ind(xbox, pc)\n",
    "print('p-значение:', results.pvalue)\n",
    "\n",
    "if results.pvalue < alpha:\n",
    "    print('Отвергаем нулевую гипотезу')\n",
    "else:\n",
    "    print('Не получилось отвергнуть нулевую гипотезу')"
   ]
  },
  {
   "cell_type": "markdown",
   "metadata": {},
   "source": [
    "Не получилось отвергнуть нулевую гипотезу, следовательно имеем все основания подтвердить гипотезу о равенстве средних рейтингов пользователей XOne и PC. \n"
   ]
  },
  {
   "cell_type": "markdown",
   "metadata": {},
   "source": [
    "### Гипотеза о различии пользовательских рейтингов двух жанров"
   ]
  },
  {
   "cell_type": "markdown",
   "metadata": {},
   "source": [
    "Сформируем нулевую и альтернативную гипотезы:\n",
    "\n",
    "- Нулевая: Средние пользовательские рейтинги жанров Action и Sports одинаковые.\n",
    "- Альтернативная: Средние пользовательские рейтинги жанров Action и Sports разные."
   ]
  },
  {
   "cell_type": "code",
   "execution_count": 39,
   "metadata": {},
   "outputs": [
    {
     "name": "stdout",
     "output_type": "stream",
     "text": [
      "p-значение: 2.8711147985105864e-19\n",
      "Отвергаем нулевую гипотезу\n"
     ]
    }
   ],
   "source": [
    "action = actual_df.query('genre == \"Action\"')['user_score']\n",
    "sport = actual_df.query('genre == \"Sports\"')['user_score']\n",
    "\n",
    "alpha = .05\n",
    "\n",
    "results2 = st.ttest_ind(action, sport)\n",
    "print('p-значение:', results2.pvalue)\n",
    "\n",
    "if results2.pvalue < alpha:\n",
    "    print('Отвергаем нулевую гипотезу')\n",
    "else:\n",
    "    print('Не получилось отвергнуть нулевую гипотезу')"
   ]
  },
  {
   "cell_type": "markdown",
   "metadata": {},
   "source": [
    "Отвергаем нулевую гипотезу. Подтверждаем гипотезу об отличии средних рейтингов пользователей жанров Action и Sports."
   ]
  },
  {
   "cell_type": "markdown",
   "metadata": {},
   "source": [
    "## Общий вывод."
   ]
  },
  {
   "cell_type": "markdown",
   "metadata": {},
   "source": [
    "В ходе данной работы мы выполнили следующие шаги:\n",
    "1. Изучили общую информацию о исходных данных.\n",
    "2. Выполнили предобработку данных (изменили типы данных, разобрались с пропусками) и добавили новые данные в таблицу.\n",
    "3. Определили актуальный период, за который стоит проводить дальнейший исследовательский анализ.\n",
    "\n",
    "В результате исследовательского анализа мы выяснили:\n",
    "1. Лидером продаж за актуальный период является платформа PS4;\n",
    "2. Самыми популярными жанрами игр являются: Shooter, Sports и Action.\n",
    "3. Существует зависимость между продажами игры и отзывами критиков, однако отзывы пользователей не влияют на итоговые продажи.\n",
    "\n",
    "Также были составлены портреты пользователей регионов из которых мы выяснили, что американские и европейские пользователи в целом предпочитают такие же жанры и платформы, как и во всем мире, существенные отличия наблюдаются лишь в Японии. Азиатские игроки очень любят жанр Fighting. \n",
    "\n",
    "Также были проверены две гипотезы:\n",
    "1. Средние пользовательские рейтинги платформ Xbox One и PC одинаковые;\n",
    "2. Средние пользовательские рейтинги жанров Action и Sports разные.\n",
    "\n",
    "Гипотеза о равенстве пользовательских рейтингов платформ Xbox One и PC подтвердилась. Гипотеза о различии пользовательских рейтингов жанров Action и Sports подтвердилась.\n"
   ]
  }
 ],
 "metadata": {
  "ExecuteTimeLog": [
   {
    "duration": 1352,
    "start_time": "2022-03-31T09:46:07.574Z"
   },
   {
    "duration": 4,
    "start_time": "2022-03-31T09:46:08.928Z"
   },
   {
    "duration": 8,
    "start_time": "2022-03-31T09:46:08.933Z"
   },
   {
    "duration": 15,
    "start_time": "2022-03-31T09:46:08.943Z"
   },
   {
    "duration": 5,
    "start_time": "2022-03-31T09:46:08.960Z"
   },
   {
    "duration": 21,
    "start_time": "2022-03-31T09:46:08.967Z"
   },
   {
    "duration": 16,
    "start_time": "2022-03-31T09:46:08.989Z"
   },
   {
    "duration": 5,
    "start_time": "2022-03-31T09:46:09.007Z"
   },
   {
    "duration": 9,
    "start_time": "2022-03-31T09:46:09.013Z"
   },
   {
    "duration": 20,
    "start_time": "2022-03-31T09:46:09.025Z"
   },
   {
    "duration": 195,
    "start_time": "2022-03-31T09:46:09.047Z"
   },
   {
    "duration": 226,
    "start_time": "2022-03-31T09:46:09.243Z"
   },
   {
    "duration": 24,
    "start_time": "2022-03-31T09:46:09.471Z"
   },
   {
    "duration": 114,
    "start_time": "2022-03-31T09:46:09.497Z"
   },
   {
    "duration": 117,
    "start_time": "2022-03-31T09:46:09.613Z"
   },
   {
    "duration": 107,
    "start_time": "2022-03-31T09:46:09.731Z"
   },
   {
    "duration": 89,
    "start_time": "2022-03-31T09:46:09.840Z"
   },
   {
    "duration": 115,
    "start_time": "2022-03-31T09:46:09.931Z"
   },
   {
    "duration": 162,
    "start_time": "2022-03-31T09:46:10.048Z"
   },
   {
    "duration": 123,
    "start_time": "2022-03-31T09:46:10.211Z"
   },
   {
    "duration": 133,
    "start_time": "2022-03-31T09:46:10.335Z"
   },
   {
    "duration": 117,
    "start_time": "2022-03-31T09:46:10.470Z"
   },
   {
    "duration": 150,
    "start_time": "2022-03-31T09:46:10.589Z"
   },
   {
    "duration": 204,
    "start_time": "2022-03-31T09:46:10.741Z"
   },
   {
    "duration": 20,
    "start_time": "2022-03-31T09:46:10.947Z"
   },
   {
    "duration": 32,
    "start_time": "2022-03-31T09:46:10.982Z"
   },
   {
    "duration": 37,
    "start_time": "2022-03-31T09:46:11.017Z"
   },
   {
    "duration": 44,
    "start_time": "2022-03-31T09:46:11.058Z"
   },
   {
    "duration": 146,
    "start_time": "2022-03-31T09:46:11.105Z"
   },
   {
    "duration": 6,
    "start_time": "2022-03-31T09:46:11.253Z"
   },
   {
    "duration": 42,
    "start_time": "2022-03-31T09:46:11.260Z"
   },
   {
    "duration": 35,
    "start_time": "2022-03-31T09:46:11.304Z"
   },
   {
    "duration": 34,
    "start_time": "2022-03-31T09:47:03.687Z"
   },
   {
    "duration": 40,
    "start_time": "2022-03-31T09:47:05.960Z"
   },
   {
    "duration": 1140,
    "start_time": "2022-03-31T09:47:26.242Z"
   },
   {
    "duration": 29,
    "start_time": "2022-03-31T09:47:27.384Z"
   },
   {
    "duration": 4,
    "start_time": "2022-03-31T09:47:27.415Z"
   },
   {
    "duration": 6,
    "start_time": "2022-03-31T09:47:27.420Z"
   },
   {
    "duration": 13,
    "start_time": "2022-03-31T09:47:27.429Z"
   },
   {
    "duration": 37,
    "start_time": "2022-03-31T09:47:27.444Z"
   },
   {
    "duration": 11,
    "start_time": "2022-03-31T09:47:27.483Z"
   },
   {
    "duration": 14,
    "start_time": "2022-03-31T09:47:27.495Z"
   },
   {
    "duration": 6,
    "start_time": "2022-03-31T09:47:27.510Z"
   },
   {
    "duration": 7,
    "start_time": "2022-03-31T09:47:27.517Z"
   },
   {
    "duration": 15,
    "start_time": "2022-03-31T09:47:27.525Z"
   },
   {
    "duration": 193,
    "start_time": "2022-03-31T09:47:27.542Z"
   },
   {
    "duration": 215,
    "start_time": "2022-03-31T09:47:27.737Z"
   },
   {
    "duration": 27,
    "start_time": "2022-03-31T09:47:27.955Z"
   },
   {
    "duration": 109,
    "start_time": "2022-03-31T09:47:27.983Z"
   },
   {
    "duration": 99,
    "start_time": "2022-03-31T09:47:28.093Z"
   },
   {
    "duration": 101,
    "start_time": "2022-03-31T09:47:28.193Z"
   },
   {
    "duration": 98,
    "start_time": "2022-03-31T09:47:28.295Z"
   },
   {
    "duration": 112,
    "start_time": "2022-03-31T09:47:28.394Z"
   },
   {
    "duration": 90,
    "start_time": "2022-03-31T09:47:28.508Z"
   },
   {
    "duration": 176,
    "start_time": "2022-03-31T09:47:28.599Z"
   },
   {
    "duration": 128,
    "start_time": "2022-03-31T09:47:28.780Z"
   },
   {
    "duration": 112,
    "start_time": "2022-03-31T09:47:28.910Z"
   },
   {
    "duration": 131,
    "start_time": "2022-03-31T09:47:29.023Z"
   },
   {
    "duration": 128,
    "start_time": "2022-03-31T09:47:29.156Z"
   },
   {
    "duration": 13,
    "start_time": "2022-03-31T09:47:29.285Z"
   },
   {
    "duration": 22,
    "start_time": "2022-03-31T09:47:29.300Z"
   },
   {
    "duration": 20,
    "start_time": "2022-03-31T09:47:29.323Z"
   },
   {
    "duration": 50,
    "start_time": "2022-03-31T09:47:29.344Z"
   },
   {
    "duration": 135,
    "start_time": "2022-03-31T09:47:29.395Z"
   },
   {
    "duration": 6,
    "start_time": "2022-03-31T09:47:29.531Z"
   },
   {
    "duration": 20,
    "start_time": "2022-03-31T09:47:29.538Z"
   },
   {
    "duration": 10,
    "start_time": "2022-03-31T09:47:29.560Z"
   },
   {
    "duration": 1400,
    "start_time": "2022-03-31T10:39:18.939Z"
   },
   {
    "duration": 35,
    "start_time": "2022-03-31T10:39:20.343Z"
   },
   {
    "duration": 4,
    "start_time": "2022-03-31T10:39:20.380Z"
   },
   {
    "duration": 7,
    "start_time": "2022-03-31T10:39:20.385Z"
   },
   {
    "duration": 27,
    "start_time": "2022-03-31T10:39:20.394Z"
   },
   {
    "duration": 20,
    "start_time": "2022-03-31T10:39:20.437Z"
   },
   {
    "duration": 22,
    "start_time": "2022-03-31T10:39:20.458Z"
   },
   {
    "duration": 29,
    "start_time": "2022-03-31T10:39:20.481Z"
   },
   {
    "duration": 6,
    "start_time": "2022-03-31T10:39:20.511Z"
   },
   {
    "duration": 18,
    "start_time": "2022-03-31T10:39:20.519Z"
   },
   {
    "duration": 32,
    "start_time": "2022-03-31T10:39:20.539Z"
   },
   {
    "duration": 209,
    "start_time": "2022-03-31T10:39:20.573Z"
   },
   {
    "duration": 272,
    "start_time": "2022-03-31T10:39:20.784Z"
   },
   {
    "duration": 17,
    "start_time": "2022-03-31T10:39:21.059Z"
   },
   {
    "duration": 129,
    "start_time": "2022-03-31T10:39:21.078Z"
   },
   {
    "duration": 118,
    "start_time": "2022-03-31T10:39:21.209Z"
   },
   {
    "duration": 135,
    "start_time": "2022-03-31T10:39:21.329Z"
   },
   {
    "duration": 103,
    "start_time": "2022-03-31T10:39:21.466Z"
   },
   {
    "duration": 128,
    "start_time": "2022-03-31T10:39:21.571Z"
   },
   {
    "duration": 106,
    "start_time": "2022-03-31T10:39:21.701Z"
   },
   {
    "duration": 218,
    "start_time": "2022-03-31T10:39:21.809Z"
   },
   {
    "duration": 162,
    "start_time": "2022-03-31T10:39:22.028Z"
   },
   {
    "duration": 129,
    "start_time": "2022-03-31T10:39:22.192Z"
   },
   {
    "duration": 178,
    "start_time": "2022-03-31T10:39:22.323Z"
   },
   {
    "duration": 176,
    "start_time": "2022-03-31T10:39:22.503Z"
   },
   {
    "duration": 14,
    "start_time": "2022-03-31T10:39:22.681Z"
   },
   {
    "duration": 43,
    "start_time": "2022-03-31T10:39:22.697Z"
   },
   {
    "duration": 29,
    "start_time": "2022-03-31T10:39:22.743Z"
   },
   {
    "duration": 25,
    "start_time": "2022-03-31T10:39:22.774Z"
   },
   {
    "duration": 188,
    "start_time": "2022-03-31T10:39:22.800Z"
   },
   {
    "duration": 6,
    "start_time": "2022-03-31T10:39:22.990Z"
   },
   {
    "duration": 11,
    "start_time": "2022-03-31T10:39:22.998Z"
   },
   {
    "duration": 39,
    "start_time": "2022-03-31T10:39:23.010Z"
   },
   {
    "duration": 7,
    "start_time": "2022-03-31T10:52:06.033Z"
   },
   {
    "duration": 7,
    "start_time": "2022-03-31T10:58:56.809Z"
   },
   {
    "duration": 7,
    "start_time": "2022-03-31T10:59:00.921Z"
   },
   {
    "duration": 11,
    "start_time": "2022-03-31T11:11:40.433Z"
   },
   {
    "duration": 10,
    "start_time": "2022-03-31T11:13:49.623Z"
   },
   {
    "duration": 97,
    "start_time": "2022-03-31T11:29:23.314Z"
   },
   {
    "duration": 23,
    "start_time": "2022-03-31T11:29:38.791Z"
   },
   {
    "duration": 167,
    "start_time": "2022-03-31T11:40:11.552Z"
   },
   {
    "duration": 157,
    "start_time": "2022-03-31T11:40:24.792Z"
   },
   {
    "duration": 164,
    "start_time": "2022-03-31T11:40:28.739Z"
   },
   {
    "duration": 139,
    "start_time": "2022-03-31T11:41:19.676Z"
   },
   {
    "duration": 18,
    "start_time": "2022-03-31T12:28:48.584Z"
   },
   {
    "duration": 234,
    "start_time": "2022-03-31T12:28:54.699Z"
   },
   {
    "duration": 24,
    "start_time": "2022-03-31T12:41:23.377Z"
   },
   {
    "duration": 21,
    "start_time": "2022-03-31T13:01:20.040Z"
   },
   {
    "duration": 1768,
    "start_time": "2022-04-11T13:09:25.387Z"
   },
   {
    "duration": 44,
    "start_time": "2022-04-11T13:09:27.159Z"
   },
   {
    "duration": 15,
    "start_time": "2022-04-11T13:09:27.209Z"
   },
   {
    "duration": 8,
    "start_time": "2022-04-11T13:09:27.227Z"
   },
   {
    "duration": 44,
    "start_time": "2022-04-11T13:09:27.238Z"
   },
   {
    "duration": 6,
    "start_time": "2022-04-11T13:09:27.285Z"
   },
   {
    "duration": 17,
    "start_time": "2022-04-11T13:09:27.293Z"
   },
   {
    "duration": 57,
    "start_time": "2022-04-11T13:09:27.312Z"
   },
   {
    "duration": 9,
    "start_time": "2022-04-11T13:09:27.373Z"
   },
   {
    "duration": 11,
    "start_time": "2022-04-11T13:09:27.384Z"
   },
   {
    "duration": 30,
    "start_time": "2022-04-11T13:09:27.398Z"
   },
   {
    "duration": 447,
    "start_time": "2022-04-11T13:09:27.430Z"
   },
   {
    "duration": 541,
    "start_time": "2022-04-11T13:09:27.880Z"
   },
   {
    "duration": 45,
    "start_time": "2022-04-11T13:09:28.424Z"
   },
   {
    "duration": 199,
    "start_time": "2022-04-11T13:09:28.471Z"
   },
   {
    "duration": 202,
    "start_time": "2022-04-11T13:09:28.672Z"
   },
   {
    "duration": 198,
    "start_time": "2022-04-11T13:09:28.877Z"
   },
   {
    "duration": 214,
    "start_time": "2022-04-11T13:09:29.078Z"
   },
   {
    "duration": 266,
    "start_time": "2022-04-11T13:09:29.295Z"
   },
   {
    "duration": 208,
    "start_time": "2022-04-11T13:09:29.563Z"
   },
   {
    "duration": 373,
    "start_time": "2022-04-11T13:09:29.774Z"
   },
   {
    "duration": 318,
    "start_time": "2022-04-11T13:09:30.149Z"
   },
   {
    "duration": 267,
    "start_time": "2022-04-11T13:09:30.470Z"
   },
   {
    "duration": 335,
    "start_time": "2022-04-11T13:09:30.740Z"
   },
   {
    "duration": 322,
    "start_time": "2022-04-11T13:09:31.078Z"
   },
   {
    "duration": 26,
    "start_time": "2022-04-11T13:09:31.403Z"
   },
   {
    "duration": 64,
    "start_time": "2022-04-11T13:09:31.435Z"
   },
   {
    "duration": 43,
    "start_time": "2022-04-11T13:09:31.502Z"
   },
   {
    "duration": 43,
    "start_time": "2022-04-11T13:09:31.568Z"
   },
   {
    "duration": 60,
    "start_time": "2022-04-11T13:09:31.614Z"
   },
   {
    "duration": 237,
    "start_time": "2022-04-11T13:09:31.676Z"
   },
   {
    "duration": 7,
    "start_time": "2022-04-11T13:09:31.915Z"
   },
   {
    "duration": 24,
    "start_time": "2022-04-11T13:09:31.925Z"
   },
   {
    "duration": 29,
    "start_time": "2022-04-11T13:09:31.951Z"
   },
   {
    "duration": 1272,
    "start_time": "2022-04-13T12:08:44.196Z"
   },
   {
    "duration": 38,
    "start_time": "2022-04-13T12:08:45.470Z"
   },
   {
    "duration": 2185,
    "start_time": "2022-04-13T12:42:25.966Z"
   },
   {
    "duration": 2,
    "start_time": "2022-04-13T12:47:22.324Z"
   },
   {
    "duration": 37,
    "start_time": "2022-04-13T12:47:22.328Z"
   },
   {
    "duration": 26,
    "start_time": "2022-04-13T12:47:22.367Z"
   },
   {
    "duration": 3,
    "start_time": "2022-04-13T12:47:22.395Z"
   },
   {
    "duration": 23,
    "start_time": "2022-04-13T12:47:22.400Z"
   },
   {
    "duration": 12,
    "start_time": "2022-04-13T12:47:22.425Z"
   },
   {
    "duration": 7,
    "start_time": "2022-04-13T12:47:22.439Z"
   },
   {
    "duration": 9,
    "start_time": "2022-04-13T12:47:22.448Z"
   },
   {
    "duration": 18,
    "start_time": "2022-04-13T12:47:22.458Z"
   },
   {
    "duration": 5,
    "start_time": "2022-04-13T12:47:22.477Z"
   },
   {
    "duration": 11,
    "start_time": "2022-04-13T12:47:22.484Z"
   },
   {
    "duration": 18,
    "start_time": "2022-04-13T12:47:22.524Z"
   },
   {
    "duration": 8,
    "start_time": "2022-04-13T12:47:22.543Z"
   },
   {
    "duration": 0,
    "start_time": "2022-04-13T12:47:22.555Z"
   },
   {
    "duration": 0,
    "start_time": "2022-04-13T12:47:22.556Z"
   },
   {
    "duration": 0,
    "start_time": "2022-04-13T12:47:22.557Z"
   },
   {
    "duration": 0,
    "start_time": "2022-04-13T12:47:22.558Z"
   },
   {
    "duration": 0,
    "start_time": "2022-04-13T12:47:22.559Z"
   },
   {
    "duration": 0,
    "start_time": "2022-04-13T12:47:22.560Z"
   },
   {
    "duration": 0,
    "start_time": "2022-04-13T12:47:22.561Z"
   },
   {
    "duration": 0,
    "start_time": "2022-04-13T12:47:22.562Z"
   },
   {
    "duration": 0,
    "start_time": "2022-04-13T12:47:22.563Z"
   },
   {
    "duration": 0,
    "start_time": "2022-04-13T12:47:22.564Z"
   },
   {
    "duration": 0,
    "start_time": "2022-04-13T12:47:22.565Z"
   },
   {
    "duration": 0,
    "start_time": "2022-04-13T12:47:22.566Z"
   },
   {
    "duration": 0,
    "start_time": "2022-04-13T12:47:22.567Z"
   },
   {
    "duration": 0,
    "start_time": "2022-04-13T12:47:22.567Z"
   },
   {
    "duration": 0,
    "start_time": "2022-04-13T12:47:22.568Z"
   },
   {
    "duration": 0,
    "start_time": "2022-04-13T12:47:22.569Z"
   },
   {
    "duration": 0,
    "start_time": "2022-04-13T12:47:22.570Z"
   },
   {
    "duration": 0,
    "start_time": "2022-04-13T12:47:22.571Z"
   },
   {
    "duration": 0,
    "start_time": "2022-04-13T12:47:22.572Z"
   },
   {
    "duration": 0,
    "start_time": "2022-04-13T12:47:22.573Z"
   },
   {
    "duration": 0,
    "start_time": "2022-04-13T12:47:22.574Z"
   },
   {
    "duration": 0,
    "start_time": "2022-04-13T12:47:22.575Z"
   },
   {
    "duration": 8,
    "start_time": "2022-04-13T12:52:17.718Z"
   },
   {
    "duration": 0,
    "start_time": "2022-04-13T12:52:40.487Z"
   },
   {
    "duration": 93,
    "start_time": "2022-04-13T12:52:48.745Z"
   },
   {
    "duration": 91,
    "start_time": "2022-04-13T12:53:00.414Z"
   },
   {
    "duration": 974,
    "start_time": "2022-04-13T12:53:07.159Z"
   },
   {
    "duration": 31,
    "start_time": "2022-04-13T12:53:08.135Z"
   },
   {
    "duration": 25,
    "start_time": "2022-04-13T12:53:08.170Z"
   },
   {
    "duration": 3,
    "start_time": "2022-04-13T12:53:08.197Z"
   },
   {
    "duration": 24,
    "start_time": "2022-04-13T12:53:08.202Z"
   },
   {
    "duration": 13,
    "start_time": "2022-04-13T12:53:08.228Z"
   },
   {
    "duration": 5,
    "start_time": "2022-04-13T12:53:08.243Z"
   },
   {
    "duration": 9,
    "start_time": "2022-04-13T12:53:08.250Z"
   },
   {
    "duration": 14,
    "start_time": "2022-04-13T12:53:08.261Z"
   },
   {
    "duration": 5,
    "start_time": "2022-04-13T12:53:08.276Z"
   },
   {
    "duration": 41,
    "start_time": "2022-04-13T12:53:08.283Z"
   },
   {
    "duration": 19,
    "start_time": "2022-04-13T12:53:08.325Z"
   },
   {
    "duration": 197,
    "start_time": "2022-04-13T12:53:08.346Z"
   },
   {
    "duration": 0,
    "start_time": "2022-04-13T12:53:08.545Z"
   },
   {
    "duration": 0,
    "start_time": "2022-04-13T12:53:08.546Z"
   },
   {
    "duration": 0,
    "start_time": "2022-04-13T12:53:08.547Z"
   },
   {
    "duration": 0,
    "start_time": "2022-04-13T12:53:08.549Z"
   },
   {
    "duration": 0,
    "start_time": "2022-04-13T12:53:08.550Z"
   },
   {
    "duration": 0,
    "start_time": "2022-04-13T12:53:08.551Z"
   },
   {
    "duration": 0,
    "start_time": "2022-04-13T12:53:08.552Z"
   },
   {
    "duration": 0,
    "start_time": "2022-04-13T12:53:08.554Z"
   },
   {
    "duration": 0,
    "start_time": "2022-04-13T12:53:08.555Z"
   },
   {
    "duration": 0,
    "start_time": "2022-04-13T12:53:08.556Z"
   },
   {
    "duration": 0,
    "start_time": "2022-04-13T12:53:08.558Z"
   },
   {
    "duration": 0,
    "start_time": "2022-04-13T12:53:08.559Z"
   },
   {
    "duration": 0,
    "start_time": "2022-04-13T12:53:08.560Z"
   },
   {
    "duration": 0,
    "start_time": "2022-04-13T12:53:08.561Z"
   },
   {
    "duration": 0,
    "start_time": "2022-04-13T12:53:08.562Z"
   },
   {
    "duration": 0,
    "start_time": "2022-04-13T12:53:08.563Z"
   },
   {
    "duration": 0,
    "start_time": "2022-04-13T12:53:08.565Z"
   },
   {
    "duration": 0,
    "start_time": "2022-04-13T12:53:08.566Z"
   },
   {
    "duration": 0,
    "start_time": "2022-04-13T12:53:08.567Z"
   },
   {
    "duration": 0,
    "start_time": "2022-04-13T12:53:08.568Z"
   },
   {
    "duration": 0,
    "start_time": "2022-04-13T12:53:08.568Z"
   },
   {
    "duration": 0,
    "start_time": "2022-04-13T12:53:08.569Z"
   },
   {
    "duration": 92,
    "start_time": "2022-04-13T12:53:17.249Z"
   },
   {
    "duration": 100,
    "start_time": "2022-04-13T12:53:35.388Z"
   },
   {
    "duration": 95,
    "start_time": "2022-04-13T12:53:41.708Z"
   },
   {
    "duration": 199,
    "start_time": "2022-04-13T12:53:45.559Z"
   },
   {
    "duration": 98,
    "start_time": "2022-04-13T12:53:50.367Z"
   },
   {
    "duration": 162,
    "start_time": "2022-04-13T12:54:01.219Z"
   },
   {
    "duration": 215,
    "start_time": "2022-04-13T12:54:30.783Z"
   },
   {
    "duration": 3,
    "start_time": "2022-04-13T12:54:33.531Z"
   },
   {
    "duration": 36,
    "start_time": "2022-04-13T12:54:33.537Z"
   },
   {
    "duration": 24,
    "start_time": "2022-04-13T12:54:33.575Z"
   },
   {
    "duration": 4,
    "start_time": "2022-04-13T12:54:33.625Z"
   },
   {
    "duration": 7,
    "start_time": "2022-04-13T12:54:33.630Z"
   },
   {
    "duration": 16,
    "start_time": "2022-04-13T12:54:33.638Z"
   },
   {
    "duration": 7,
    "start_time": "2022-04-13T12:54:33.656Z"
   },
   {
    "duration": 10,
    "start_time": "2022-04-13T12:54:33.665Z"
   },
   {
    "duration": 47,
    "start_time": "2022-04-13T12:54:33.678Z"
   },
   {
    "duration": 8,
    "start_time": "2022-04-13T12:54:33.727Z"
   },
   {
    "duration": 20,
    "start_time": "2022-04-13T12:54:33.736Z"
   },
   {
    "duration": 18,
    "start_time": "2022-04-13T12:54:33.758Z"
   },
   {
    "duration": 182,
    "start_time": "2022-04-13T12:54:33.778Z"
   },
   {
    "duration": 325,
    "start_time": "2022-04-13T12:54:33.961Z"
   },
   {
    "duration": 16,
    "start_time": "2022-04-13T12:54:34.287Z"
   },
   {
    "duration": 120,
    "start_time": "2022-04-13T12:54:34.304Z"
   },
   {
    "duration": 103,
    "start_time": "2022-04-13T12:54:34.425Z"
   },
   {
    "duration": 108,
    "start_time": "2022-04-13T12:54:34.530Z"
   },
   {
    "duration": 88,
    "start_time": "2022-04-13T12:54:34.640Z"
   },
   {
    "duration": 107,
    "start_time": "2022-04-13T12:54:34.730Z"
   },
   {
    "duration": 108,
    "start_time": "2022-04-13T12:54:34.839Z"
   },
   {
    "duration": 109,
    "start_time": "2022-04-13T12:54:34.949Z"
   },
   {
    "duration": 131,
    "start_time": "2022-04-13T12:54:35.059Z"
   },
   {
    "duration": 106,
    "start_time": "2022-04-13T12:54:35.193Z"
   },
   {
    "duration": 137,
    "start_time": "2022-04-13T12:54:35.301Z"
   },
   {
    "duration": 211,
    "start_time": "2022-04-13T12:54:35.440Z"
   },
   {
    "duration": 13,
    "start_time": "2022-04-13T12:54:35.652Z"
   },
   {
    "duration": 31,
    "start_time": "2022-04-13T12:54:35.666Z"
   },
   {
    "duration": 32,
    "start_time": "2022-04-13T12:54:35.699Z"
   },
   {
    "duration": 21,
    "start_time": "2022-04-13T12:54:35.732Z"
   },
   {
    "duration": 21,
    "start_time": "2022-04-13T12:54:35.755Z"
   },
   {
    "duration": 148,
    "start_time": "2022-04-13T12:54:35.777Z"
   },
   {
    "duration": 5,
    "start_time": "2022-04-13T12:54:35.927Z"
   },
   {
    "duration": 12,
    "start_time": "2022-04-13T12:54:35.933Z"
   },
   {
    "duration": 10,
    "start_time": "2022-04-13T12:54:35.946Z"
   },
   {
    "duration": 238,
    "start_time": "2022-04-13T12:55:10.860Z"
   },
   {
    "duration": 239,
    "start_time": "2022-04-13T12:55:21.093Z"
   },
   {
    "duration": 223,
    "start_time": "2022-04-13T12:55:27.904Z"
   },
   {
    "duration": 14,
    "start_time": "2022-04-13T12:56:44.744Z"
   },
   {
    "duration": 7,
    "start_time": "2022-04-13T13:02:13.369Z"
   },
   {
    "duration": 368,
    "start_time": "2022-04-13T13:04:01.032Z"
   },
   {
    "duration": 357,
    "start_time": "2022-04-13T13:04:21.938Z"
   },
   {
    "duration": 136,
    "start_time": "2022-04-13T13:05:41.722Z"
   },
   {
    "duration": 241,
    "start_time": "2022-04-13T13:05:47.787Z"
   },
   {
    "duration": 238,
    "start_time": "2022-04-13T13:05:50.549Z"
   },
   {
    "duration": 1063,
    "start_time": "2022-04-13T13:47:47.491Z"
   },
   {
    "duration": 34,
    "start_time": "2022-04-13T13:47:48.557Z"
   },
   {
    "duration": 43,
    "start_time": "2022-04-13T13:47:48.592Z"
   },
   {
    "duration": 6,
    "start_time": "2022-04-13T13:47:48.637Z"
   },
   {
    "duration": 7,
    "start_time": "2022-04-13T13:47:48.645Z"
   },
   {
    "duration": 21,
    "start_time": "2022-04-13T13:47:48.654Z"
   },
   {
    "duration": 6,
    "start_time": "2022-04-13T13:47:48.677Z"
   },
   {
    "duration": 40,
    "start_time": "2022-04-13T13:47:48.684Z"
   },
   {
    "duration": 19,
    "start_time": "2022-04-13T13:47:48.725Z"
   },
   {
    "duration": 6,
    "start_time": "2022-04-13T13:47:48.747Z"
   },
   {
    "duration": 20,
    "start_time": "2022-04-13T13:47:48.754Z"
   },
   {
    "duration": 21,
    "start_time": "2022-04-13T13:47:48.776Z"
   },
   {
    "duration": 200,
    "start_time": "2022-04-13T13:47:48.799Z"
   },
   {
    "duration": 280,
    "start_time": "2022-04-13T13:47:49.001Z"
   },
   {
    "duration": 15,
    "start_time": "2022-04-13T13:47:49.283Z"
   },
   {
    "duration": 256,
    "start_time": "2022-04-13T13:47:49.300Z"
   },
   {
    "duration": 126,
    "start_time": "2022-04-13T13:47:49.558Z"
   },
   {
    "duration": 114,
    "start_time": "2022-04-13T13:47:49.686Z"
   },
   {
    "duration": 129,
    "start_time": "2022-04-13T13:47:49.803Z"
   },
   {
    "duration": 104,
    "start_time": "2022-04-13T13:47:49.934Z"
   },
   {
    "duration": 118,
    "start_time": "2022-04-13T13:47:50.040Z"
   },
   {
    "duration": 165,
    "start_time": "2022-04-13T13:47:50.160Z"
   },
   {
    "duration": 122,
    "start_time": "2022-04-13T13:47:50.326Z"
   },
   {
    "duration": 146,
    "start_time": "2022-04-13T13:47:50.450Z"
   },
   {
    "duration": 143,
    "start_time": "2022-04-13T13:47:50.597Z"
   },
   {
    "duration": 149,
    "start_time": "2022-04-13T13:47:50.742Z"
   },
   {
    "duration": 153,
    "start_time": "2022-04-13T13:47:50.893Z"
   },
   {
    "duration": 15,
    "start_time": "2022-04-13T13:47:51.049Z"
   },
   {
    "duration": 22,
    "start_time": "2022-04-13T13:47:51.066Z"
   },
   {
    "duration": 53,
    "start_time": "2022-04-13T13:47:51.090Z"
   },
   {
    "duration": 23,
    "start_time": "2022-04-13T13:47:51.145Z"
   },
   {
    "duration": 55,
    "start_time": "2022-04-13T13:47:51.170Z"
   },
   {
    "duration": 132,
    "start_time": "2022-04-13T13:47:51.227Z"
   },
   {
    "duration": 6,
    "start_time": "2022-04-13T13:47:51.361Z"
   },
   {
    "duration": 13,
    "start_time": "2022-04-13T13:47:51.369Z"
   },
   {
    "duration": 10,
    "start_time": "2022-04-13T13:47:51.383Z"
   },
   {
    "duration": 191,
    "start_time": "2022-04-13T13:49:56.606Z"
   },
   {
    "duration": 103,
    "start_time": "2022-04-13T13:53:42.774Z"
   },
   {
    "duration": 97,
    "start_time": "2022-04-13T13:54:30.886Z"
   },
   {
    "duration": 179,
    "start_time": "2022-04-13T13:56:23.681Z"
   },
   {
    "duration": 95,
    "start_time": "2022-04-13T13:56:46.945Z"
   },
   {
    "duration": 188,
    "start_time": "2022-04-13T14:09:47.454Z"
   },
   {
    "duration": 88,
    "start_time": "2022-04-13T14:11:38.054Z"
   },
   {
    "duration": 80,
    "start_time": "2022-04-13T14:11:45.466Z"
   },
   {
    "duration": 88,
    "start_time": "2022-04-13T14:11:58.714Z"
   },
   {
    "duration": 82,
    "start_time": "2022-04-13T14:12:02.467Z"
   },
   {
    "duration": 80,
    "start_time": "2022-04-13T14:12:06.589Z"
   },
   {
    "duration": 95,
    "start_time": "2022-04-13T14:12:11.500Z"
   },
   {
    "duration": 107,
    "start_time": "2022-04-13T14:25:29.667Z"
   },
   {
    "duration": 81,
    "start_time": "2022-04-13T14:26:00.428Z"
   },
   {
    "duration": 105,
    "start_time": "2022-04-13T14:30:05.646Z"
   },
   {
    "duration": 78,
    "start_time": "2022-04-13T14:30:19.009Z"
   },
   {
    "duration": 79,
    "start_time": "2022-04-13T14:30:23.408Z"
   },
   {
    "duration": 161,
    "start_time": "2022-04-13T14:30:33.603Z"
   },
   {
    "duration": 13,
    "start_time": "2022-04-13T14:33:21.841Z"
   },
   {
    "duration": 13,
    "start_time": "2022-04-13T14:33:52.976Z"
   },
   {
    "duration": 13,
    "start_time": "2022-04-13T14:34:16.563Z"
   },
   {
    "duration": 12,
    "start_time": "2022-04-13T14:46:07.995Z"
   },
   {
    "duration": 12,
    "start_time": "2022-04-13T14:46:21.888Z"
   },
   {
    "duration": 13,
    "start_time": "2022-04-13T15:34:41.853Z"
   },
   {
    "duration": 31,
    "start_time": "2022-04-13T15:35:01.704Z"
   },
   {
    "duration": 33,
    "start_time": "2022-04-13T15:37:38.354Z"
   },
   {
    "duration": 23,
    "start_time": "2022-04-13T15:40:33.429Z"
   },
   {
    "duration": 26,
    "start_time": "2022-04-13T15:40:37.198Z"
   },
   {
    "duration": 23,
    "start_time": "2022-04-13T15:40:48.678Z"
   },
   {
    "duration": 30,
    "start_time": "2022-04-13T15:40:52.083Z"
   },
   {
    "duration": 28,
    "start_time": "2022-04-13T15:42:11.775Z"
   },
   {
    "duration": 20,
    "start_time": "2022-04-13T15:43:45.464Z"
   },
   {
    "duration": 28,
    "start_time": "2022-04-13T15:43:52.249Z"
   },
   {
    "duration": 29,
    "start_time": "2022-04-13T15:46:14.021Z"
   },
   {
    "duration": 18,
    "start_time": "2022-04-13T15:47:37.481Z"
   },
   {
    "duration": 110,
    "start_time": "2022-04-13T15:58:12.484Z"
   },
   {
    "duration": 112,
    "start_time": "2022-04-13T15:58:25.501Z"
   },
   {
    "duration": 127,
    "start_time": "2022-04-13T16:15:10.774Z"
   },
   {
    "duration": 228,
    "start_time": "2022-04-13T16:15:22.634Z"
   },
   {
    "duration": 220,
    "start_time": "2022-04-13T16:15:55.159Z"
   },
   {
    "duration": 343,
    "start_time": "2022-04-13T16:16:23.462Z"
   },
   {
    "duration": 364,
    "start_time": "2022-04-13T16:16:36.989Z"
   },
   {
    "duration": 6,
    "start_time": "2022-04-13T16:30:42.408Z"
   },
   {
    "duration": 1566,
    "start_time": "2022-04-13T16:31:11.918Z"
   },
   {
    "duration": 6,
    "start_time": "2022-04-13T16:31:33.413Z"
   },
   {
    "duration": 6,
    "start_time": "2022-04-13T16:32:52.658Z"
   },
   {
    "duration": 7,
    "start_time": "2022-04-13T16:33:09.147Z"
   },
   {
    "duration": 8,
    "start_time": "2022-04-13T16:33:17.641Z"
   },
   {
    "duration": 21,
    "start_time": "2022-04-13T16:35:10.396Z"
   },
   {
    "duration": 8,
    "start_time": "2022-04-13T16:47:37.109Z"
   },
   {
    "duration": 8,
    "start_time": "2022-04-13T16:49:44.831Z"
   },
   {
    "duration": 1051,
    "start_time": "2022-04-13T16:52:32.205Z"
   },
   {
    "duration": 32,
    "start_time": "2022-04-13T16:52:33.257Z"
   },
   {
    "duration": 36,
    "start_time": "2022-04-13T16:52:33.291Z"
   },
   {
    "duration": 4,
    "start_time": "2022-04-13T16:52:33.328Z"
   },
   {
    "duration": 8,
    "start_time": "2022-04-13T16:52:33.333Z"
   },
   {
    "duration": 14,
    "start_time": "2022-04-13T16:52:33.342Z"
   },
   {
    "duration": 6,
    "start_time": "2022-04-13T16:52:33.357Z"
   },
   {
    "duration": 12,
    "start_time": "2022-04-13T16:52:33.364Z"
   },
   {
    "duration": 48,
    "start_time": "2022-04-13T16:52:33.378Z"
   },
   {
    "duration": 6,
    "start_time": "2022-04-13T16:52:33.428Z"
   },
   {
    "duration": 8,
    "start_time": "2022-04-13T16:52:33.435Z"
   },
   {
    "duration": 19,
    "start_time": "2022-04-13T16:52:33.445Z"
   },
   {
    "duration": 183,
    "start_time": "2022-04-13T16:52:33.465Z"
   },
   {
    "duration": 248,
    "start_time": "2022-04-13T16:52:33.651Z"
   },
   {
    "duration": 29,
    "start_time": "2022-04-13T16:52:33.900Z"
   },
   {
    "duration": 252,
    "start_time": "2022-04-13T16:52:33.931Z"
   },
   {
    "duration": 123,
    "start_time": "2022-04-13T16:52:34.184Z"
   },
   {
    "duration": 103,
    "start_time": "2022-04-13T16:52:34.309Z"
   },
   {
    "duration": 128,
    "start_time": "2022-04-13T16:52:34.414Z"
   },
   {
    "duration": 95,
    "start_time": "2022-04-13T16:52:34.544Z"
   },
   {
    "duration": 111,
    "start_time": "2022-04-13T16:52:34.641Z"
   },
   {
    "duration": 169,
    "start_time": "2022-04-13T16:52:34.754Z"
   },
   {
    "duration": 113,
    "start_time": "2022-04-13T16:52:34.925Z"
   },
   {
    "duration": 93,
    "start_time": "2022-04-13T16:52:35.040Z"
   },
   {
    "duration": 141,
    "start_time": "2022-04-13T16:52:35.135Z"
   },
   {
    "duration": 134,
    "start_time": "2022-04-13T16:52:35.278Z"
   },
   {
    "duration": 146,
    "start_time": "2022-04-13T16:52:35.414Z"
   },
   {
    "duration": 142,
    "start_time": "2022-04-13T16:52:35.562Z"
   },
   {
    "duration": 24,
    "start_time": "2022-04-13T16:52:35.707Z"
   },
   {
    "duration": 21,
    "start_time": "2022-04-13T16:52:35.733Z"
   },
   {
    "duration": 21,
    "start_time": "2022-04-13T16:52:35.755Z"
   },
   {
    "duration": 52,
    "start_time": "2022-04-13T16:52:35.777Z"
   },
   {
    "duration": 21,
    "start_time": "2022-04-13T16:52:35.830Z"
   },
   {
    "duration": 139,
    "start_time": "2022-04-13T16:52:35.853Z"
   },
   {
    "duration": 387,
    "start_time": "2022-04-13T16:52:35.994Z"
   },
   {
    "duration": 6,
    "start_time": "2022-04-13T16:52:36.383Z"
   },
   {
    "duration": 15,
    "start_time": "2022-04-13T16:52:36.390Z"
   },
   {
    "duration": 100,
    "start_time": "2022-04-13T16:52:36.407Z"
   },
   {
    "duration": 9,
    "start_time": "2022-04-13T16:52:42.711Z"
   },
   {
    "duration": 47,
    "start_time": "2022-04-14T08:30:01.222Z"
   },
   {
    "duration": 1280,
    "start_time": "2022-04-14T08:30:04.355Z"
   },
   {
    "duration": 40,
    "start_time": "2022-04-14T08:30:05.638Z"
   },
   {
    "duration": 30,
    "start_time": "2022-04-14T08:30:05.679Z"
   },
   {
    "duration": 4,
    "start_time": "2022-04-14T08:30:05.711Z"
   },
   {
    "duration": 7,
    "start_time": "2022-04-14T08:30:05.716Z"
   },
   {
    "duration": 19,
    "start_time": "2022-04-14T08:30:05.724Z"
   },
   {
    "duration": 7,
    "start_time": "2022-04-14T08:30:05.745Z"
   },
   {
    "duration": 10,
    "start_time": "2022-04-14T08:30:05.754Z"
   },
   {
    "duration": 45,
    "start_time": "2022-04-14T08:30:05.766Z"
   },
   {
    "duration": 5,
    "start_time": "2022-04-14T08:30:05.815Z"
   },
   {
    "duration": 9,
    "start_time": "2022-04-14T08:30:05.822Z"
   },
   {
    "duration": 18,
    "start_time": "2022-04-14T08:30:05.833Z"
   },
   {
    "duration": 199,
    "start_time": "2022-04-14T08:30:05.853Z"
   },
   {
    "duration": 283,
    "start_time": "2022-04-14T08:30:06.054Z"
   },
   {
    "duration": 16,
    "start_time": "2022-04-14T08:30:06.339Z"
   },
   {
    "duration": 247,
    "start_time": "2022-04-14T08:30:06.357Z"
   },
   {
    "duration": 123,
    "start_time": "2022-04-14T08:30:06.606Z"
   },
   {
    "duration": 109,
    "start_time": "2022-04-14T08:30:06.731Z"
   },
   {
    "duration": 133,
    "start_time": "2022-04-14T08:30:06.842Z"
   },
   {
    "duration": 148,
    "start_time": "2022-04-14T08:30:06.977Z"
   },
   {
    "duration": 194,
    "start_time": "2022-04-14T08:30:07.127Z"
   },
   {
    "duration": 164,
    "start_time": "2022-04-14T08:30:07.324Z"
   },
   {
    "duration": 153,
    "start_time": "2022-04-14T08:30:07.500Z"
   },
   {
    "duration": 105,
    "start_time": "2022-04-14T08:30:07.655Z"
   },
   {
    "duration": 231,
    "start_time": "2022-04-14T08:30:07.761Z"
   },
   {
    "duration": 223,
    "start_time": "2022-04-14T08:30:07.994Z"
   },
   {
    "duration": 239,
    "start_time": "2022-04-14T08:30:08.219Z"
   },
   {
    "duration": 158,
    "start_time": "2022-04-14T08:30:08.462Z"
   },
   {
    "duration": 14,
    "start_time": "2022-04-14T08:30:08.621Z"
   },
   {
    "duration": 23,
    "start_time": "2022-04-14T08:30:08.637Z"
   },
   {
    "duration": 47,
    "start_time": "2022-04-14T08:30:08.661Z"
   },
   {
    "duration": 23,
    "start_time": "2022-04-14T08:30:08.710Z"
   },
   {
    "duration": 21,
    "start_time": "2022-04-14T08:30:08.735Z"
   },
   {
    "duration": 242,
    "start_time": "2022-04-14T08:30:08.758Z"
   },
   {
    "duration": 629,
    "start_time": "2022-04-14T08:30:09.002Z"
   },
   {
    "duration": 7,
    "start_time": "2022-04-14T08:30:09.633Z"
   },
   {
    "duration": 12,
    "start_time": "2022-04-14T08:30:09.642Z"
   },
   {
    "duration": 11,
    "start_time": "2022-04-14T08:30:09.655Z"
   },
   {
    "duration": 8,
    "start_time": "2022-04-14T08:36:13.519Z"
   },
   {
    "duration": 8,
    "start_time": "2022-04-14T08:37:07.415Z"
   }
  ],
  "kernelspec": {
   "display_name": "Python 3 (ipykernel)",
   "language": "python",
   "name": "python3"
  },
  "language_info": {
   "codemirror_mode": {
    "name": "ipython",
    "version": 3
   },
   "file_extension": ".py",
   "mimetype": "text/x-python",
   "name": "python",
   "nbconvert_exporter": "python",
   "pygments_lexer": "ipython3",
   "version": "3.9.5"
  },
  "toc": {
   "base_numbering": 1,
   "nav_menu": {
    "height": "322px",
    "width": "462px"
   },
   "number_sections": false,
   "sideBar": true,
   "skip_h1_title": false,
   "title_cell": "Table of Contents",
   "title_sidebar": "Contents",
   "toc_cell": false,
   "toc_position": {
    "height": "calc(100% - 180px)",
    "left": "10px",
    "top": "150px",
    "width": "366.391px"
   },
   "toc_section_display": true,
   "toc_window_display": true
  }
 },
 "nbformat": 4,
 "nbformat_minor": 2
}
