{
 "cells": [
  {
   "cell_type": "markdown",
   "metadata": {},
   "source": [
    "<h1> Содержание </h1>\n",
    "\n",
    "* [Название проекта.](#Name)\n",
    "    -  [Цели и задачи исследования.](#goals)\n",
    "    -  [Исходные данные.](#data)\n",
    "1. [Обзор данных, изменение типов, подсчет и добавление данных в таблицу.](#overview)\n",
    "    - [1.1 Изучение файлов с данными, получение общей информации, загрузка библиотек.](#start)\n",
    "    - [1.2 Таблица Calls (инфомация о звонках)](#calls)\n",
    "    - [1.3 Таблица Internet (информация об интернет-сессиях)](#internet)\n",
    "    - [1.4 Таблица Messages (информация о сообщениях)](#messages)\n",
    "    - [1.5 Таблица Users (информация о пользователях)](#users)\n",
    "2. [Группировка и объединение таблиц](#pivot)\n",
    "3. [Подсчет и добавление помесячной выручки с каждого пользователя](#income)\n",
    "4. [Подсчет среднего, стандартного отклонения и дисперсии для пользователей обоих тарифов. Построение гистограмм.](#count)\n",
    "5. [Проверка гипотез](#hypothesis)\n",
    "6. [Общий вывод](#con)\n"
   ]
  },
  {
   "cell_type": "markdown",
   "metadata": {},
   "source": [
    "<a id='Name'></a>\n",
    "# Определение перспективного тарифа для телеком-компании"
   ]
  },
  {
   "cell_type": "markdown",
   "metadata": {},
   "source": [
    "<a id='goals'></a>\n",
    "**Цели и задачи исследования:**\n",
    "1. Подготовить данные к анализу.\n",
    "2. Проанализировать поведение клиентов и сделать вывод — какой тариф лучше.\n",
    "3. Проверить гипотезы:\n",
    "    - средняя выручка пользователей тарифов «Ультра» и «Смарт» различаются;\n",
    "    - средняя выручка пользователей из Москвы отличается от выручки пользователей из других регионов.\n",
    "4. Составить выводы на основе полученных результатов. \n"
   ]
  },
  {
   "cell_type": "markdown",
   "metadata": {},
   "source": [
    "<a id='data'></a>\n",
    "**Исходные данные:** данные 500 пользователей «Мегалайна»: кто они, откуда, каким тарифом пользуются, сколько звонков и сообщений каждый отправил за 2018 год."
   ]
  },
  {
   "cell_type": "markdown",
   "metadata": {},
   "source": [
    "**Описание данных**\n",
    "\n",
    "Таблица `users` (информация о пользователях):\n",
    "- `user_id` — уникальный идентификатор пользователя\n",
    "- `first_name` — имя пользователя\n",
    "- `last_name` — фамилия пользователя\n",
    "- `age` — возраст пользователя (годы)\n",
    "- `reg_date` — дата подключения тарифа (день, месяц, год)\n",
    "- `churn_date` — дата прекращения пользования тарифом (если значение пропущено, то тариф ещё действовал на момент выгрузки данных)\n",
    "- `city` — город проживания пользователя\n",
    "- `tariff` — название тарифного плана\n",
    "\n",
    "Таблица `calls` (информация о звонках):\n",
    "- `id` — уникальный номер звонка\n",
    "- `call_date` — дата звонка\n",
    "- `duration` — длительность звонка в минутах\n",
    "- `user_id` — идентификатор пользователя, сделавшего звонок\n",
    "\n",
    "Таблица `messages` (информация о сообщениях):\n",
    "- `id` — уникальный номер сообщения\n",
    "- `message_date` — дата сообщения\n",
    "- `user_id` — идентификатор пользователя, отправившего сообщение\n",
    "\n",
    "Таблица `internet` (информация об интернет-сессиях):\n",
    "- `id` — уникальный номер сессии\n",
    "- `mb_used` — объём потраченного за сессию интернет-трафика (в мегабайтах)\n",
    "- `session_date` — дата интернет-сессии\n",
    "- `user_id` — идентификатор пользователя\n",
    "\n",
    "Таблица `tariffs` (информация о тарифах):\n",
    "- `tariff_name` — название тарифа\n",
    "- `rub_monthly_fee` — ежемесячная абонентская плата в рублях\n",
    "- `minutes_included` — количество минут разговора в месяц, включённых в абонентскую плату\n",
    "- `messages_included` — количество сообщений в месяц, включённых в абонентскую плату\n",
    "- `mb_per_month_included` — объём интернет-трафика, включённого в абонентскую плату (в мегабайтах)\n",
    "- `rub_per_minute` — стоимость минуты разговора сверх тарифного пакета (например, если в тарифе 100 минут разговора в месяц, то со 101 минуты будет взиматься плата)\n",
    "- `rub_per_message` — стоимость отправки сообщения сверх тарифного пакета\n",
    "- `rub_per_gb` — стоимость дополнительного гигабайта интернет-трафика сверх тарифного пакета (1 гигабайт = 1024 мегабайта)"
   ]
  },
  {
   "cell_type": "markdown",
   "metadata": {},
   "source": [
    "<a id='overview'></a>\n",
    "## Обзор данных, изменение типов, подсчет и добавление данных в таблицу."
   ]
  },
  {
   "cell_type": "markdown",
   "metadata": {},
   "source": [
    "<a id='start'></a>\n",
    "###  Изучение файлов с данными, получение общей информации, загрузка библиотек."
   ]
  },
  {
   "cell_type": "code",
   "execution_count": 1,
   "metadata": {},
   "outputs": [],
   "source": [
    "import pandas as pd \n",
    "import numpy as np\n",
    "import matplotlib.pyplot as plt\n",
    "from scipy import stats as st\n",
    "\n",
    "calls = pd.read_csv('/datasets/calls.csv')\n",
    "internet = pd.read_csv('/datasets/internet.csv')\n",
    "messages = pd.read_csv('/datasets/messages.csv')\n",
    "tariffs = pd.read_csv('/datasets/tariffs.csv')\n",
    "users = pd.read_csv('/datasets/users.csv')"
   ]
  },
  {
   "cell_type": "markdown",
   "metadata": {},
   "source": [
    "<a id='calls'></a>\n",
    "###  Таблица Calls"
   ]
  },
  {
   "cell_type": "code",
   "execution_count": 2,
   "metadata": {},
   "outputs": [
    {
     "name": "stdout",
     "output_type": "stream",
     "text": [
      "<class 'pandas.core.frame.DataFrame'>\n",
      "RangeIndex: 202607 entries, 0 to 202606\n",
      "Data columns (total 4 columns):\n",
      " #   Column     Non-Null Count   Dtype  \n",
      "---  ------     --------------   -----  \n",
      " 0   id         202607 non-null  object \n",
      " 1   call_date  202607 non-null  object \n",
      " 2   duration   202607 non-null  float64\n",
      " 3   user_id    202607 non-null  int64  \n",
      "dtypes: float64(1), int64(1), object(2)\n",
      "memory usage: 6.2+ MB\n"
     ]
    },
    {
     "data": {
      "text/html": [
       "<div>\n",
       "<style scoped>\n",
       "    .dataframe tbody tr th:only-of-type {\n",
       "        vertical-align: middle;\n",
       "    }\n",
       "\n",
       "    .dataframe tbody tr th {\n",
       "        vertical-align: top;\n",
       "    }\n",
       "\n",
       "    .dataframe thead th {\n",
       "        text-align: right;\n",
       "    }\n",
       "</style>\n",
       "<table border=\"1\" class=\"dataframe\">\n",
       "  <thead>\n",
       "    <tr style=\"text-align: right;\">\n",
       "      <th></th>\n",
       "      <th>id</th>\n",
       "      <th>call_date</th>\n",
       "      <th>duration</th>\n",
       "      <th>user_id</th>\n",
       "    </tr>\n",
       "  </thead>\n",
       "  <tbody>\n",
       "    <tr>\n",
       "      <th>0</th>\n",
       "      <td>1000_0</td>\n",
       "      <td>2018-07-25</td>\n",
       "      <td>0.00</td>\n",
       "      <td>1000</td>\n",
       "    </tr>\n",
       "    <tr>\n",
       "      <th>1</th>\n",
       "      <td>1000_1</td>\n",
       "      <td>2018-08-17</td>\n",
       "      <td>0.00</td>\n",
       "      <td>1000</td>\n",
       "    </tr>\n",
       "    <tr>\n",
       "      <th>2</th>\n",
       "      <td>1000_2</td>\n",
       "      <td>2018-06-11</td>\n",
       "      <td>2.85</td>\n",
       "      <td>1000</td>\n",
       "    </tr>\n",
       "    <tr>\n",
       "      <th>3</th>\n",
       "      <td>1000_3</td>\n",
       "      <td>2018-09-21</td>\n",
       "      <td>13.80</td>\n",
       "      <td>1000</td>\n",
       "    </tr>\n",
       "    <tr>\n",
       "      <th>4</th>\n",
       "      <td>1000_4</td>\n",
       "      <td>2018-12-15</td>\n",
       "      <td>5.18</td>\n",
       "      <td>1000</td>\n",
       "    </tr>\n",
       "  </tbody>\n",
       "</table>\n",
       "</div>"
      ],
      "text/plain": [
       "       id   call_date  duration  user_id\n",
       "0  1000_0  2018-07-25      0.00     1000\n",
       "1  1000_1  2018-08-17      0.00     1000\n",
       "2  1000_2  2018-06-11      2.85     1000\n",
       "3  1000_3  2018-09-21     13.80     1000\n",
       "4  1000_4  2018-12-15      5.18     1000"
      ]
     },
     "metadata": {},
     "output_type": "display_data"
    }
   ],
   "source": [
    "calls.info()\n",
    "display(calls.head())"
   ]
  },
  {
   "cell_type": "code",
   "execution_count": 3,
   "metadata": {},
   "outputs": [
    {
     "data": {
      "text/html": [
       "<div>\n",
       "<style scoped>\n",
       "    .dataframe tbody tr th:only-of-type {\n",
       "        vertical-align: middle;\n",
       "    }\n",
       "\n",
       "    .dataframe tbody tr th {\n",
       "        vertical-align: top;\n",
       "    }\n",
       "\n",
       "    .dataframe thead th {\n",
       "        text-align: right;\n",
       "    }\n",
       "</style>\n",
       "<table border=\"1\" class=\"dataframe\">\n",
       "  <thead>\n",
       "    <tr style=\"text-align: right;\">\n",
       "      <th></th>\n",
       "      <th>count</th>\n",
       "      <th>mean</th>\n",
       "      <th>std</th>\n",
       "      <th>min</th>\n",
       "      <th>25%</th>\n",
       "      <th>50%</th>\n",
       "      <th>75%</th>\n",
       "      <th>max</th>\n",
       "    </tr>\n",
       "  </thead>\n",
       "  <tbody>\n",
       "    <tr>\n",
       "      <th>duration</th>\n",
       "      <td>202607.0</td>\n",
       "      <td>6.755887</td>\n",
       "      <td>5.843365</td>\n",
       "      <td>0.0</td>\n",
       "      <td>1.3</td>\n",
       "      <td>6.0</td>\n",
       "      <td>10.7</td>\n",
       "      <td>38.0</td>\n",
       "    </tr>\n",
       "    <tr>\n",
       "      <th>user_id</th>\n",
       "      <td>202607.0</td>\n",
       "      <td>1253.940619</td>\n",
       "      <td>144.722751</td>\n",
       "      <td>1000.0</td>\n",
       "      <td>1126.0</td>\n",
       "      <td>1260.0</td>\n",
       "      <td>1379.0</td>\n",
       "      <td>1499.0</td>\n",
       "    </tr>\n",
       "  </tbody>\n",
       "</table>\n",
       "</div>"
      ],
      "text/plain": [
       "             count         mean         std     min     25%     50%     75%  \\\n",
       "duration  202607.0     6.755887    5.843365     0.0     1.3     6.0    10.7   \n",
       "user_id   202607.0  1253.940619  144.722751  1000.0  1126.0  1260.0  1379.0   \n",
       "\n",
       "             max  \n",
       "duration    38.0  \n",
       "user_id   1499.0  "
      ]
     },
     "execution_count": 3,
     "metadata": {},
     "output_type": "execute_result"
    }
   ],
   "source": [
    "calls.describe().T"
   ]
  },
  {
   "cell_type": "code",
   "execution_count": 4,
   "metadata": {
    "scrolled": true
   },
   "outputs": [
    {
     "data": {
      "text/html": [
       "<div>\n",
       "<style scoped>\n",
       "    .dataframe tbody tr th:only-of-type {\n",
       "        vertical-align: middle;\n",
       "    }\n",
       "\n",
       "    .dataframe tbody tr th {\n",
       "        vertical-align: top;\n",
       "    }\n",
       "\n",
       "    .dataframe thead th {\n",
       "        text-align: right;\n",
       "    }\n",
       "</style>\n",
       "<table border=\"1\" class=\"dataframe\">\n",
       "  <thead>\n",
       "    <tr style=\"text-align: right;\">\n",
       "      <th></th>\n",
       "      <th>id</th>\n",
       "      <th>call_date</th>\n",
       "      <th>duration</th>\n",
       "      <th>user_id</th>\n",
       "      <th>month</th>\n",
       "    </tr>\n",
       "  </thead>\n",
       "  <tbody>\n",
       "    <tr>\n",
       "      <th>0</th>\n",
       "      <td>1000_0</td>\n",
       "      <td>2018-07-25</td>\n",
       "      <td>0</td>\n",
       "      <td>1000</td>\n",
       "      <td>7</td>\n",
       "    </tr>\n",
       "    <tr>\n",
       "      <th>1</th>\n",
       "      <td>1000_1</td>\n",
       "      <td>2018-08-17</td>\n",
       "      <td>0</td>\n",
       "      <td>1000</td>\n",
       "      <td>8</td>\n",
       "    </tr>\n",
       "    <tr>\n",
       "      <th>2</th>\n",
       "      <td>1000_2</td>\n",
       "      <td>2018-06-11</td>\n",
       "      <td>3</td>\n",
       "      <td>1000</td>\n",
       "      <td>6</td>\n",
       "    </tr>\n",
       "    <tr>\n",
       "      <th>3</th>\n",
       "      <td>1000_3</td>\n",
       "      <td>2018-09-21</td>\n",
       "      <td>14</td>\n",
       "      <td>1000</td>\n",
       "      <td>9</td>\n",
       "    </tr>\n",
       "    <tr>\n",
       "      <th>4</th>\n",
       "      <td>1000_4</td>\n",
       "      <td>2018-12-15</td>\n",
       "      <td>6</td>\n",
       "      <td>1000</td>\n",
       "      <td>12</td>\n",
       "    </tr>\n",
       "  </tbody>\n",
       "</table>\n",
       "</div>"
      ],
      "text/plain": [
       "       id  call_date  duration  user_id  month\n",
       "0  1000_0 2018-07-25         0     1000      7\n",
       "1  1000_1 2018-08-17         0     1000      8\n",
       "2  1000_2 2018-06-11         3     1000      6\n",
       "3  1000_3 2018-09-21        14     1000      9\n",
       "4  1000_4 2018-12-15         6     1000     12"
      ]
     },
     "metadata": {},
     "output_type": "display_data"
    }
   ],
   "source": [
    "calls['call_date'] = pd.to_datetime(calls['call_date'], format = '%Y-%m-%d')\n",
    "calls['month'] = calls['call_date'].dt.month\n",
    "\n",
    "\n",
    "calls['duration'] = np.ceil(calls['duration'])\n",
    "calls['duration'] = calls['duration'].astype('int8')\n",
    "\n",
    "display(calls.head())"
   ]
  },
  {
   "cell_type": "markdown",
   "metadata": {},
   "source": [
    "За исключением неправильного формата даты таблица вполне корректна. Переведем дату звонка в столбце call_date в формат %Y-%m-%d и создадим новый столбец с месяцами методом dt.month. Этот столбец пригодится нам для дальнейших расчетов. \n",
    "По заданию ясно, что «Мегалайн» всегда округляет секунды до минут, а мегабайты — до гигабайт. Поэтому округляем столбец с длительностью звонка методом np.ceil. Также изменим тип столбца на Int. Ознакомившись с таблицей функцией describe() видим, что максимальная продолжительность звонка составляла 38 минут, следовательно для сохранения нескольких процентов памяти приведем столбец к типу Int8. Это будет полезно, не смотря на то, что этот датасет небольшого размера. "
   ]
  },
  {
   "cell_type": "markdown",
   "metadata": {},
   "source": [
    "<a id='internet'></a>\n",
    "### Таблица Internet"
   ]
  },
  {
   "cell_type": "code",
   "execution_count": 5,
   "metadata": {},
   "outputs": [
    {
     "data": {
      "text/html": [
       "<div>\n",
       "<style scoped>\n",
       "    .dataframe tbody tr th:only-of-type {\n",
       "        vertical-align: middle;\n",
       "    }\n",
       "\n",
       "    .dataframe tbody tr th {\n",
       "        vertical-align: top;\n",
       "    }\n",
       "\n",
       "    .dataframe thead th {\n",
       "        text-align: right;\n",
       "    }\n",
       "</style>\n",
       "<table border=\"1\" class=\"dataframe\">\n",
       "  <thead>\n",
       "    <tr style=\"text-align: right;\">\n",
       "      <th></th>\n",
       "      <th>count</th>\n",
       "      <th>mean</th>\n",
       "      <th>std</th>\n",
       "      <th>min</th>\n",
       "      <th>25%</th>\n",
       "      <th>50%</th>\n",
       "      <th>75%</th>\n",
       "      <th>max</th>\n",
       "    </tr>\n",
       "  </thead>\n",
       "  <tbody>\n",
       "    <tr>\n",
       "      <th>Unnamed: 0</th>\n",
       "      <td>149396.0</td>\n",
       "      <td>74697.500000</td>\n",
       "      <td>43127.054745</td>\n",
       "      <td>0.0</td>\n",
       "      <td>37348.7500</td>\n",
       "      <td>74697.500</td>\n",
       "      <td>112046.2500</td>\n",
       "      <td>149395.00</td>\n",
       "    </tr>\n",
       "    <tr>\n",
       "      <th>mb_used</th>\n",
       "      <td>149396.0</td>\n",
       "      <td>370.192426</td>\n",
       "      <td>278.300951</td>\n",
       "      <td>0.0</td>\n",
       "      <td>138.1875</td>\n",
       "      <td>348.015</td>\n",
       "      <td>559.5525</td>\n",
       "      <td>1724.83</td>\n",
       "    </tr>\n",
       "    <tr>\n",
       "      <th>user_id</th>\n",
       "      <td>149396.0</td>\n",
       "      <td>1252.099842</td>\n",
       "      <td>144.050823</td>\n",
       "      <td>1000.0</td>\n",
       "      <td>1130.0000</td>\n",
       "      <td>1251.000</td>\n",
       "      <td>1380.0000</td>\n",
       "      <td>1499.00</td>\n",
       "    </tr>\n",
       "  </tbody>\n",
       "</table>\n",
       "</div>"
      ],
      "text/plain": [
       "               count          mean           std     min         25%  \\\n",
       "Unnamed: 0  149396.0  74697.500000  43127.054745     0.0  37348.7500   \n",
       "mb_used     149396.0    370.192426    278.300951     0.0    138.1875   \n",
       "user_id     149396.0   1252.099842    144.050823  1000.0   1130.0000   \n",
       "\n",
       "                  50%          75%        max  \n",
       "Unnamed: 0  74697.500  112046.2500  149395.00  \n",
       "mb_used       348.015     559.5525    1724.83  \n",
       "user_id      1251.000    1380.0000    1499.00  "
      ]
     },
     "execution_count": 5,
     "metadata": {},
     "output_type": "execute_result"
    }
   ],
   "source": [
    "internet.describe().T"
   ]
  },
  {
   "cell_type": "code",
   "execution_count": 6,
   "metadata": {},
   "outputs": [
    {
     "name": "stdout",
     "output_type": "stream",
     "text": [
      "<class 'pandas.core.frame.DataFrame'>\n",
      "RangeIndex: 149396 entries, 0 to 149395\n",
      "Data columns (total 5 columns):\n",
      " #   Column        Non-Null Count   Dtype  \n",
      "---  ------        --------------   -----  \n",
      " 0   Unnamed: 0    149396 non-null  int64  \n",
      " 1   id            149396 non-null  object \n",
      " 2   mb_used       149396 non-null  float64\n",
      " 3   session_date  149396 non-null  object \n",
      " 4   user_id       149396 non-null  int64  \n",
      "dtypes: float64(1), int64(2), object(2)\n",
      "memory usage: 5.7+ MB\n"
     ]
    },
    {
     "data": {
      "text/html": [
       "<div>\n",
       "<style scoped>\n",
       "    .dataframe tbody tr th:only-of-type {\n",
       "        vertical-align: middle;\n",
       "    }\n",
       "\n",
       "    .dataframe tbody tr th {\n",
       "        vertical-align: top;\n",
       "    }\n",
       "\n",
       "    .dataframe thead th {\n",
       "        text-align: right;\n",
       "    }\n",
       "</style>\n",
       "<table border=\"1\" class=\"dataframe\">\n",
       "  <thead>\n",
       "    <tr style=\"text-align: right;\">\n",
       "      <th></th>\n",
       "      <th>Unnamed: 0</th>\n",
       "      <th>id</th>\n",
       "      <th>mb_used</th>\n",
       "      <th>session_date</th>\n",
       "      <th>user_id</th>\n",
       "    </tr>\n",
       "  </thead>\n",
       "  <tbody>\n",
       "    <tr>\n",
       "      <th>0</th>\n",
       "      <td>0</td>\n",
       "      <td>1000_0</td>\n",
       "      <td>112.95</td>\n",
       "      <td>2018-11-25</td>\n",
       "      <td>1000</td>\n",
       "    </tr>\n",
       "    <tr>\n",
       "      <th>1</th>\n",
       "      <td>1</td>\n",
       "      <td>1000_1</td>\n",
       "      <td>1052.81</td>\n",
       "      <td>2018-09-07</td>\n",
       "      <td>1000</td>\n",
       "    </tr>\n",
       "    <tr>\n",
       "      <th>2</th>\n",
       "      <td>2</td>\n",
       "      <td>1000_2</td>\n",
       "      <td>1197.26</td>\n",
       "      <td>2018-06-25</td>\n",
       "      <td>1000</td>\n",
       "    </tr>\n",
       "    <tr>\n",
       "      <th>3</th>\n",
       "      <td>3</td>\n",
       "      <td>1000_3</td>\n",
       "      <td>550.27</td>\n",
       "      <td>2018-08-22</td>\n",
       "      <td>1000</td>\n",
       "    </tr>\n",
       "    <tr>\n",
       "      <th>4</th>\n",
       "      <td>4</td>\n",
       "      <td>1000_4</td>\n",
       "      <td>302.56</td>\n",
       "      <td>2018-09-24</td>\n",
       "      <td>1000</td>\n",
       "    </tr>\n",
       "  </tbody>\n",
       "</table>\n",
       "</div>"
      ],
      "text/plain": [
       "   Unnamed: 0      id  mb_used session_date  user_id\n",
       "0           0  1000_0   112.95   2018-11-25     1000\n",
       "1           1  1000_1  1052.81   2018-09-07     1000\n",
       "2           2  1000_2  1197.26   2018-06-25     1000\n",
       "3           3  1000_3   550.27   2018-08-22     1000\n",
       "4           4  1000_4   302.56   2018-09-24     1000"
      ]
     },
     "metadata": {},
     "output_type": "display_data"
    }
   ],
   "source": [
    "internet.info()\n",
    "display(internet.head())"
   ]
  },
  {
   "cell_type": "code",
   "execution_count": 7,
   "metadata": {},
   "outputs": [
    {
     "data": {
      "text/html": [
       "<div>\n",
       "<style scoped>\n",
       "    .dataframe tbody tr th:only-of-type {\n",
       "        vertical-align: middle;\n",
       "    }\n",
       "\n",
       "    .dataframe tbody tr th {\n",
       "        vertical-align: top;\n",
       "    }\n",
       "\n",
       "    .dataframe thead th {\n",
       "        text-align: right;\n",
       "    }\n",
       "</style>\n",
       "<table border=\"1\" class=\"dataframe\">\n",
       "  <thead>\n",
       "    <tr style=\"text-align: right;\">\n",
       "      <th></th>\n",
       "      <th>Unnamed: 0</th>\n",
       "      <th>id</th>\n",
       "      <th>mb_used</th>\n",
       "      <th>session_date</th>\n",
       "      <th>user_id</th>\n",
       "      <th>month</th>\n",
       "    </tr>\n",
       "  </thead>\n",
       "  <tbody>\n",
       "    <tr>\n",
       "      <th>0</th>\n",
       "      <td>0</td>\n",
       "      <td>1000_0</td>\n",
       "      <td>112.95</td>\n",
       "      <td>2018-11-25</td>\n",
       "      <td>1000</td>\n",
       "      <td>11</td>\n",
       "    </tr>\n",
       "    <tr>\n",
       "      <th>1</th>\n",
       "      <td>1</td>\n",
       "      <td>1000_1</td>\n",
       "      <td>1052.81</td>\n",
       "      <td>2018-09-07</td>\n",
       "      <td>1000</td>\n",
       "      <td>9</td>\n",
       "    </tr>\n",
       "    <tr>\n",
       "      <th>2</th>\n",
       "      <td>2</td>\n",
       "      <td>1000_2</td>\n",
       "      <td>1197.26</td>\n",
       "      <td>2018-06-25</td>\n",
       "      <td>1000</td>\n",
       "      <td>6</td>\n",
       "    </tr>\n",
       "    <tr>\n",
       "      <th>3</th>\n",
       "      <td>3</td>\n",
       "      <td>1000_3</td>\n",
       "      <td>550.27</td>\n",
       "      <td>2018-08-22</td>\n",
       "      <td>1000</td>\n",
       "      <td>8</td>\n",
       "    </tr>\n",
       "    <tr>\n",
       "      <th>4</th>\n",
       "      <td>4</td>\n",
       "      <td>1000_4</td>\n",
       "      <td>302.56</td>\n",
       "      <td>2018-09-24</td>\n",
       "      <td>1000</td>\n",
       "      <td>9</td>\n",
       "    </tr>\n",
       "  </tbody>\n",
       "</table>\n",
       "</div>"
      ],
      "text/plain": [
       "   Unnamed: 0      id  mb_used session_date  user_id  month\n",
       "0           0  1000_0   112.95   2018-11-25     1000     11\n",
       "1           1  1000_1  1052.81   2018-09-07     1000      9\n",
       "2           2  1000_2  1197.26   2018-06-25     1000      6\n",
       "3           3  1000_3   550.27   2018-08-22     1000      8\n",
       "4           4  1000_4   302.56   2018-09-24     1000      9"
      ]
     },
     "metadata": {},
     "output_type": "display_data"
    }
   ],
   "source": [
    "internet['session_date'] = pd.to_datetime(internet['session_date'], format = '%Y-%m-%d')\n",
    "internet['month'] = internet['session_date'].dt.month\n",
    "\n",
    "display(internet.head())"
   ]
  },
  {
   "cell_type": "markdown",
   "metadata": {},
   "source": [
    "Проведем те же действия с таблицей, содержащей информацию об интернет-сессиях пользователей. Переведем столбец session_date в формат %Y-%m-%d и добавим столбец с месяцами. Округлим в большую сторону объем потраченного интернет-трафика и приведем его к типу Int16 (максимальное значение в этом столбце 1724.83) "
   ]
  },
  {
   "cell_type": "markdown",
   "metadata": {},
   "source": [
    "<a id='messages'></a>\n",
    "### Таблица Messages"
   ]
  },
  {
   "cell_type": "code",
   "execution_count": 9,
   "metadata": {},
   "outputs": [
    {
     "name": "stdout",
     "output_type": "stream",
     "text": [
      "<class 'pandas.core.frame.DataFrame'>\n",
      "RangeIndex: 123036 entries, 0 to 123035\n",
      "Data columns (total 3 columns):\n",
      " #   Column        Non-Null Count   Dtype \n",
      "---  ------        --------------   ----- \n",
      " 0   id            123036 non-null  object\n",
      " 1   message_date  123036 non-null  object\n",
      " 2   user_id       123036 non-null  int64 \n",
      "dtypes: int64(1), object(2)\n",
      "memory usage: 2.8+ MB\n"
     ]
    },
    {
     "data": {
      "text/html": [
       "<div>\n",
       "<style scoped>\n",
       "    .dataframe tbody tr th:only-of-type {\n",
       "        vertical-align: middle;\n",
       "    }\n",
       "\n",
       "    .dataframe tbody tr th {\n",
       "        vertical-align: top;\n",
       "    }\n",
       "\n",
       "    .dataframe thead th {\n",
       "        text-align: right;\n",
       "    }\n",
       "</style>\n",
       "<table border=\"1\" class=\"dataframe\">\n",
       "  <thead>\n",
       "    <tr style=\"text-align: right;\">\n",
       "      <th></th>\n",
       "      <th>id</th>\n",
       "      <th>message_date</th>\n",
       "      <th>user_id</th>\n",
       "    </tr>\n",
       "  </thead>\n",
       "  <tbody>\n",
       "    <tr>\n",
       "      <th>0</th>\n",
       "      <td>1000_0</td>\n",
       "      <td>2018-06-27</td>\n",
       "      <td>1000</td>\n",
       "    </tr>\n",
       "    <tr>\n",
       "      <th>1</th>\n",
       "      <td>1000_1</td>\n",
       "      <td>2018-10-08</td>\n",
       "      <td>1000</td>\n",
       "    </tr>\n",
       "    <tr>\n",
       "      <th>2</th>\n",
       "      <td>1000_2</td>\n",
       "      <td>2018-08-04</td>\n",
       "      <td>1000</td>\n",
       "    </tr>\n",
       "    <tr>\n",
       "      <th>3</th>\n",
       "      <td>1000_3</td>\n",
       "      <td>2018-06-16</td>\n",
       "      <td>1000</td>\n",
       "    </tr>\n",
       "    <tr>\n",
       "      <th>4</th>\n",
       "      <td>1000_4</td>\n",
       "      <td>2018-12-05</td>\n",
       "      <td>1000</td>\n",
       "    </tr>\n",
       "  </tbody>\n",
       "</table>\n",
       "</div>"
      ],
      "text/plain": [
       "       id message_date  user_id\n",
       "0  1000_0   2018-06-27     1000\n",
       "1  1000_1   2018-10-08     1000\n",
       "2  1000_2   2018-08-04     1000\n",
       "3  1000_3   2018-06-16     1000\n",
       "4  1000_4   2018-12-05     1000"
      ]
     },
     "metadata": {},
     "output_type": "display_data"
    }
   ],
   "source": [
    "messages.info()\n",
    "display(messages.head())"
   ]
  },
  {
   "cell_type": "code",
   "execution_count": 10,
   "metadata": {
    "scrolled": true
   },
   "outputs": [
    {
     "data": {
      "text/html": [
       "<div>\n",
       "<style scoped>\n",
       "    .dataframe tbody tr th:only-of-type {\n",
       "        vertical-align: middle;\n",
       "    }\n",
       "\n",
       "    .dataframe tbody tr th {\n",
       "        vertical-align: top;\n",
       "    }\n",
       "\n",
       "    .dataframe thead th {\n",
       "        text-align: right;\n",
       "    }\n",
       "</style>\n",
       "<table border=\"1\" class=\"dataframe\">\n",
       "  <thead>\n",
       "    <tr style=\"text-align: right;\">\n",
       "      <th></th>\n",
       "      <th>id</th>\n",
       "      <th>message_date</th>\n",
       "      <th>user_id</th>\n",
       "      <th>month</th>\n",
       "    </tr>\n",
       "  </thead>\n",
       "  <tbody>\n",
       "    <tr>\n",
       "      <th>0</th>\n",
       "      <td>1000_0</td>\n",
       "      <td>2018-06-27</td>\n",
       "      <td>1000</td>\n",
       "      <td>6</td>\n",
       "    </tr>\n",
       "    <tr>\n",
       "      <th>1</th>\n",
       "      <td>1000_1</td>\n",
       "      <td>2018-10-08</td>\n",
       "      <td>1000</td>\n",
       "      <td>10</td>\n",
       "    </tr>\n",
       "    <tr>\n",
       "      <th>2</th>\n",
       "      <td>1000_2</td>\n",
       "      <td>2018-08-04</td>\n",
       "      <td>1000</td>\n",
       "      <td>8</td>\n",
       "    </tr>\n",
       "    <tr>\n",
       "      <th>3</th>\n",
       "      <td>1000_3</td>\n",
       "      <td>2018-06-16</td>\n",
       "      <td>1000</td>\n",
       "      <td>6</td>\n",
       "    </tr>\n",
       "    <tr>\n",
       "      <th>4</th>\n",
       "      <td>1000_4</td>\n",
       "      <td>2018-12-05</td>\n",
       "      <td>1000</td>\n",
       "      <td>12</td>\n",
       "    </tr>\n",
       "  </tbody>\n",
       "</table>\n",
       "</div>"
      ],
      "text/plain": [
       "       id message_date  user_id  month\n",
       "0  1000_0   2018-06-27     1000      6\n",
       "1  1000_1   2018-10-08     1000     10\n",
       "2  1000_2   2018-08-04     1000      8\n",
       "3  1000_3   2018-06-16     1000      6\n",
       "4  1000_4   2018-12-05     1000     12"
      ]
     },
     "metadata": {},
     "output_type": "display_data"
    }
   ],
   "source": [
    "messages['message_date'] = pd.to_datetime(messages['message_date'], format = '%Y-%m-%d')\n",
    "messages['month'] = messages['message_date'].dt.month\n",
    "display(messages.head())"
   ]
  },
  {
   "cell_type": "markdown",
   "metadata": {},
   "source": [
    "Также приведем дату из столбца message_date к формату %Y-%m-%d и создадим новый столбец с месяцами. "
   ]
  },
  {
   "cell_type": "markdown",
   "metadata": {},
   "source": [
    "<a id='users'></a>\n",
    "### Таблица Users "
   ]
  },
  {
   "cell_type": "code",
   "execution_count": 11,
   "metadata": {},
   "outputs": [
    {
     "data": {
      "text/html": [
       "<div>\n",
       "<style scoped>\n",
       "    .dataframe tbody tr th:only-of-type {\n",
       "        vertical-align: middle;\n",
       "    }\n",
       "\n",
       "    .dataframe tbody tr th {\n",
       "        vertical-align: top;\n",
       "    }\n",
       "\n",
       "    .dataframe thead th {\n",
       "        text-align: right;\n",
       "    }\n",
       "</style>\n",
       "<table border=\"1\" class=\"dataframe\">\n",
       "  <thead>\n",
       "    <tr style=\"text-align: right;\">\n",
       "      <th></th>\n",
       "      <th>count</th>\n",
       "      <th>mean</th>\n",
       "      <th>std</th>\n",
       "      <th>min</th>\n",
       "      <th>25%</th>\n",
       "      <th>50%</th>\n",
       "      <th>75%</th>\n",
       "      <th>max</th>\n",
       "    </tr>\n",
       "  </thead>\n",
       "  <tbody>\n",
       "    <tr>\n",
       "      <th>user_id</th>\n",
       "      <td>500.0</td>\n",
       "      <td>1249.500</td>\n",
       "      <td>144.481833</td>\n",
       "      <td>1000.0</td>\n",
       "      <td>1124.75</td>\n",
       "      <td>1249.5</td>\n",
       "      <td>1374.25</td>\n",
       "      <td>1499.0</td>\n",
       "    </tr>\n",
       "    <tr>\n",
       "      <th>age</th>\n",
       "      <td>500.0</td>\n",
       "      <td>46.588</td>\n",
       "      <td>16.667630</td>\n",
       "      <td>18.0</td>\n",
       "      <td>32.00</td>\n",
       "      <td>46.0</td>\n",
       "      <td>62.00</td>\n",
       "      <td>75.0</td>\n",
       "    </tr>\n",
       "  </tbody>\n",
       "</table>\n",
       "</div>"
      ],
      "text/plain": [
       "         count      mean         std     min      25%     50%      75%     max\n",
       "user_id  500.0  1249.500  144.481833  1000.0  1124.75  1249.5  1374.25  1499.0\n",
       "age      500.0    46.588   16.667630    18.0    32.00    46.0    62.00    75.0"
      ]
     },
     "execution_count": 11,
     "metadata": {},
     "output_type": "execute_result"
    }
   ],
   "source": [
    "users.describe().T"
   ]
  },
  {
   "cell_type": "code",
   "execution_count": 12,
   "metadata": {
    "scrolled": false
   },
   "outputs": [
    {
     "name": "stdout",
     "output_type": "stream",
     "text": [
      "<class 'pandas.core.frame.DataFrame'>\n",
      "RangeIndex: 500 entries, 0 to 499\n",
      "Data columns (total 8 columns):\n",
      " #   Column      Non-Null Count  Dtype \n",
      "---  ------      --------------  ----- \n",
      " 0   user_id     500 non-null    int64 \n",
      " 1   age         500 non-null    int64 \n",
      " 2   churn_date  38 non-null     object\n",
      " 3   city        500 non-null    object\n",
      " 4   first_name  500 non-null    object\n",
      " 5   last_name   500 non-null    object\n",
      " 6   reg_date    500 non-null    object\n",
      " 7   tariff      500 non-null    object\n",
      "dtypes: int64(2), object(6)\n",
      "memory usage: 31.4+ KB\n"
     ]
    },
    {
     "data": {
      "text/html": [
       "<div>\n",
       "<style scoped>\n",
       "    .dataframe tbody tr th:only-of-type {\n",
       "        vertical-align: middle;\n",
       "    }\n",
       "\n",
       "    .dataframe tbody tr th {\n",
       "        vertical-align: top;\n",
       "    }\n",
       "\n",
       "    .dataframe thead th {\n",
       "        text-align: right;\n",
       "    }\n",
       "</style>\n",
       "<table border=\"1\" class=\"dataframe\">\n",
       "  <thead>\n",
       "    <tr style=\"text-align: right;\">\n",
       "      <th></th>\n",
       "      <th>user_id</th>\n",
       "      <th>age</th>\n",
       "      <th>churn_date</th>\n",
       "      <th>city</th>\n",
       "      <th>first_name</th>\n",
       "      <th>last_name</th>\n",
       "      <th>reg_date</th>\n",
       "      <th>tariff</th>\n",
       "    </tr>\n",
       "  </thead>\n",
       "  <tbody>\n",
       "    <tr>\n",
       "      <th>0</th>\n",
       "      <td>1000</td>\n",
       "      <td>52</td>\n",
       "      <td>NaN</td>\n",
       "      <td>Краснодар</td>\n",
       "      <td>Рафаил</td>\n",
       "      <td>Верещагин</td>\n",
       "      <td>2018-05-25</td>\n",
       "      <td>ultra</td>\n",
       "    </tr>\n",
       "    <tr>\n",
       "      <th>1</th>\n",
       "      <td>1001</td>\n",
       "      <td>41</td>\n",
       "      <td>NaN</td>\n",
       "      <td>Москва</td>\n",
       "      <td>Иван</td>\n",
       "      <td>Ежов</td>\n",
       "      <td>2018-11-01</td>\n",
       "      <td>smart</td>\n",
       "    </tr>\n",
       "    <tr>\n",
       "      <th>2</th>\n",
       "      <td>1002</td>\n",
       "      <td>59</td>\n",
       "      <td>NaN</td>\n",
       "      <td>Стерлитамак</td>\n",
       "      <td>Евгений</td>\n",
       "      <td>Абрамович</td>\n",
       "      <td>2018-06-17</td>\n",
       "      <td>smart</td>\n",
       "    </tr>\n",
       "    <tr>\n",
       "      <th>3</th>\n",
       "      <td>1003</td>\n",
       "      <td>23</td>\n",
       "      <td>NaN</td>\n",
       "      <td>Москва</td>\n",
       "      <td>Белла</td>\n",
       "      <td>Белякова</td>\n",
       "      <td>2018-08-17</td>\n",
       "      <td>ultra</td>\n",
       "    </tr>\n",
       "    <tr>\n",
       "      <th>4</th>\n",
       "      <td>1004</td>\n",
       "      <td>68</td>\n",
       "      <td>NaN</td>\n",
       "      <td>Новокузнецк</td>\n",
       "      <td>Татьяна</td>\n",
       "      <td>Авдеенко</td>\n",
       "      <td>2018-05-14</td>\n",
       "      <td>ultra</td>\n",
       "    </tr>\n",
       "    <tr>\n",
       "      <th>5</th>\n",
       "      <td>1005</td>\n",
       "      <td>67</td>\n",
       "      <td>NaN</td>\n",
       "      <td>Набережные Челны</td>\n",
       "      <td>Афанасий</td>\n",
       "      <td>Горлов</td>\n",
       "      <td>2018-01-25</td>\n",
       "      <td>smart</td>\n",
       "    </tr>\n",
       "    <tr>\n",
       "      <th>6</th>\n",
       "      <td>1006</td>\n",
       "      <td>21</td>\n",
       "      <td>NaN</td>\n",
       "      <td>Ульяновск</td>\n",
       "      <td>Леонид</td>\n",
       "      <td>Ермолаев</td>\n",
       "      <td>2018-02-26</td>\n",
       "      <td>smart</td>\n",
       "    </tr>\n",
       "    <tr>\n",
       "      <th>7</th>\n",
       "      <td>1007</td>\n",
       "      <td>65</td>\n",
       "      <td>NaN</td>\n",
       "      <td>Москва</td>\n",
       "      <td>Юна</td>\n",
       "      <td>Березина</td>\n",
       "      <td>2018-04-19</td>\n",
       "      <td>smart</td>\n",
       "    </tr>\n",
       "    <tr>\n",
       "      <th>8</th>\n",
       "      <td>1008</td>\n",
       "      <td>63</td>\n",
       "      <td>NaN</td>\n",
       "      <td>Челябинск</td>\n",
       "      <td>Рустэм</td>\n",
       "      <td>Пономарёв</td>\n",
       "      <td>2018-12-19</td>\n",
       "      <td>smart</td>\n",
       "    </tr>\n",
       "    <tr>\n",
       "      <th>9</th>\n",
       "      <td>1009</td>\n",
       "      <td>24</td>\n",
       "      <td>NaN</td>\n",
       "      <td>Пермь</td>\n",
       "      <td>Василиса</td>\n",
       "      <td>Блинова</td>\n",
       "      <td>2018-03-22</td>\n",
       "      <td>smart</td>\n",
       "    </tr>\n",
       "  </tbody>\n",
       "</table>\n",
       "</div>"
      ],
      "text/plain": [
       "   user_id  age churn_date              city first_name  last_name  \\\n",
       "0     1000   52        NaN         Краснодар     Рафаил  Верещагин   \n",
       "1     1001   41        NaN            Москва       Иван       Ежов   \n",
       "2     1002   59        NaN       Стерлитамак    Евгений  Абрамович   \n",
       "3     1003   23        NaN            Москва      Белла   Белякова   \n",
       "4     1004   68        NaN       Новокузнецк    Татьяна   Авдеенко   \n",
       "5     1005   67        NaN  Набережные Челны   Афанасий     Горлов   \n",
       "6     1006   21        NaN         Ульяновск     Леонид   Ермолаев   \n",
       "7     1007   65        NaN            Москва        Юна   Березина   \n",
       "8     1008   63        NaN         Челябинск     Рустэм  Пономарёв   \n",
       "9     1009   24        NaN             Пермь   Василиса    Блинова   \n",
       "\n",
       "     reg_date tariff  \n",
       "0  2018-05-25  ultra  \n",
       "1  2018-11-01  smart  \n",
       "2  2018-06-17  smart  \n",
       "3  2018-08-17  ultra  \n",
       "4  2018-05-14  ultra  \n",
       "5  2018-01-25  smart  \n",
       "6  2018-02-26  smart  \n",
       "7  2018-04-19  smart  \n",
       "8  2018-12-19  smart  \n",
       "9  2018-03-22  smart  "
      ]
     },
     "metadata": {},
     "output_type": "display_data"
    }
   ],
   "source": [
    "users.info()\n",
    "display(users.head(10))"
   ]
  },
  {
   "cell_type": "code",
   "execution_count": 13,
   "metadata": {},
   "outputs": [],
   "source": [
    "users['reg_date'] = pd.to_datetime(users['reg_date'], format='%Y-%m-%d')\n",
    "users['churn_date'].fillna('2019-01-01', inplace=True)\n",
    "users['churn_date'] = pd.to_datetime(users['churn_date'], format='%Y-%m-%d')"
   ]
  },
  {
   "cell_type": "markdown",
   "metadata": {},
   "source": [
    "В таблице с информацией о пользователях видим большое количество пропусков в столбце с датой прекращения пользования тарифом. Предположим, что это означет, что пользователь продолжает им пользоваться и заполним пропуски на 1 января 2019 года. Как и в предыдущим таблицах изменим формат даты в столбцах reg_date и churn_date. "
   ]
  },
  {
   "cell_type": "markdown",
   "metadata": {},
   "source": [
    "<a id='pivot'></a>\n",
    "##  Группировка и объединение таблиц"
   ]
  },
  {
   "cell_type": "code",
   "execution_count": 14,
   "metadata": {},
   "outputs": [
    {
     "data": {
      "text/html": [
       "<div>\n",
       "<style scoped>\n",
       "    .dataframe tbody tr th:only-of-type {\n",
       "        vertical-align: middle;\n",
       "    }\n",
       "\n",
       "    .dataframe tbody tr th {\n",
       "        vertical-align: top;\n",
       "    }\n",
       "\n",
       "    .dataframe thead th {\n",
       "        text-align: right;\n",
       "    }\n",
       "</style>\n",
       "<table border=\"1\" class=\"dataframe\">\n",
       "  <thead>\n",
       "    <tr style=\"text-align: right;\">\n",
       "      <th></th>\n",
       "      <th>user_id</th>\n",
       "      <th>month</th>\n",
       "      <th>calls_duration</th>\n",
       "      <th>calls_amount</th>\n",
       "    </tr>\n",
       "  </thead>\n",
       "  <tbody>\n",
       "    <tr>\n",
       "      <th>0</th>\n",
       "      <td>1000</td>\n",
       "      <td>5</td>\n",
       "      <td>159.0</td>\n",
       "      <td>22</td>\n",
       "    </tr>\n",
       "    <tr>\n",
       "      <th>1</th>\n",
       "      <td>1000</td>\n",
       "      <td>6</td>\n",
       "      <td>172.0</td>\n",
       "      <td>43</td>\n",
       "    </tr>\n",
       "    <tr>\n",
       "      <th>2</th>\n",
       "      <td>1000</td>\n",
       "      <td>7</td>\n",
       "      <td>340.0</td>\n",
       "      <td>47</td>\n",
       "    </tr>\n",
       "    <tr>\n",
       "      <th>3</th>\n",
       "      <td>1000</td>\n",
       "      <td>8</td>\n",
       "      <td>408.0</td>\n",
       "      <td>52</td>\n",
       "    </tr>\n",
       "    <tr>\n",
       "      <th>4</th>\n",
       "      <td>1000</td>\n",
       "      <td>9</td>\n",
       "      <td>466.0</td>\n",
       "      <td>58</td>\n",
       "    </tr>\n",
       "    <tr>\n",
       "      <th>5</th>\n",
       "      <td>1000</td>\n",
       "      <td>10</td>\n",
       "      <td>350.0</td>\n",
       "      <td>57</td>\n",
       "    </tr>\n",
       "    <tr>\n",
       "      <th>6</th>\n",
       "      <td>1000</td>\n",
       "      <td>11</td>\n",
       "      <td>338.0</td>\n",
       "      <td>43</td>\n",
       "    </tr>\n",
       "    <tr>\n",
       "      <th>7</th>\n",
       "      <td>1000</td>\n",
       "      <td>12</td>\n",
       "      <td>333.0</td>\n",
       "      <td>46</td>\n",
       "    </tr>\n",
       "    <tr>\n",
       "      <th>8</th>\n",
       "      <td>1001</td>\n",
       "      <td>11</td>\n",
       "      <td>430.0</td>\n",
       "      <td>59</td>\n",
       "    </tr>\n",
       "    <tr>\n",
       "      <th>9</th>\n",
       "      <td>1001</td>\n",
       "      <td>12</td>\n",
       "      <td>414.0</td>\n",
       "      <td>63</td>\n",
       "    </tr>\n",
       "  </tbody>\n",
       "</table>\n",
       "</div>"
      ],
      "text/plain": [
       "   user_id  month  calls_duration  calls_amount\n",
       "0     1000      5           159.0            22\n",
       "1     1000      6           172.0            43\n",
       "2     1000      7           340.0            47\n",
       "3     1000      8           408.0            52\n",
       "4     1000      9           466.0            58\n",
       "5     1000     10           350.0            57\n",
       "6     1000     11           338.0            43\n",
       "7     1000     12           333.0            46\n",
       "8     1001     11           430.0            59\n",
       "9     1001     12           414.0            63"
      ]
     },
     "metadata": {},
     "output_type": "display_data"
    }
   ],
   "source": [
    "calls_pivot = calls.pivot_table(index=['user_id', 'month'], values='duration', aggfunc=['sum', 'count'])\n",
    "calls_pivot.columns = ['calls_duration', 'calls_amount']\n",
    "calls_pivot = calls_pivot.reset_index()\n",
    "display(calls_pivot.head(10))"
   ]
  },
  {
   "cell_type": "markdown",
   "metadata": {},
   "source": [
    "Сгруппируем таблицу с информацией о звонках пользователей по user_id и month. Подсчитаем общую длительность звонков и их количество помесячно. Также переименуем столбцы во избежания путаницы в дальнейшем слиянии таблиц. "
   ]
  },
  {
   "cell_type": "code",
   "execution_count": 15,
   "metadata": {},
   "outputs": [
    {
     "data": {
      "text/html": [
       "<div>\n",
       "<style scoped>\n",
       "    .dataframe tbody tr th:only-of-type {\n",
       "        vertical-align: middle;\n",
       "    }\n",
       "\n",
       "    .dataframe tbody tr th {\n",
       "        vertical-align: top;\n",
       "    }\n",
       "\n",
       "    .dataframe thead th {\n",
       "        text-align: right;\n",
       "    }\n",
       "</style>\n",
       "<table border=\"1\" class=\"dataframe\">\n",
       "  <thead>\n",
       "    <tr style=\"text-align: right;\">\n",
       "      <th></th>\n",
       "      <th>user_id</th>\n",
       "      <th>month</th>\n",
       "      <th>mb_used</th>\n",
       "    </tr>\n",
       "  </thead>\n",
       "  <tbody>\n",
       "    <tr>\n",
       "      <th>0</th>\n",
       "      <td>1000</td>\n",
       "      <td>5</td>\n",
       "      <td>2254</td>\n",
       "    </tr>\n",
       "    <tr>\n",
       "      <th>1</th>\n",
       "      <td>1000</td>\n",
       "      <td>6</td>\n",
       "      <td>23234</td>\n",
       "    </tr>\n",
       "    <tr>\n",
       "      <th>2</th>\n",
       "      <td>1000</td>\n",
       "      <td>7</td>\n",
       "      <td>14004</td>\n",
       "    </tr>\n",
       "    <tr>\n",
       "      <th>3</th>\n",
       "      <td>1000</td>\n",
       "      <td>8</td>\n",
       "      <td>14056</td>\n",
       "    </tr>\n",
       "    <tr>\n",
       "      <th>4</th>\n",
       "      <td>1000</td>\n",
       "      <td>9</td>\n",
       "      <td>14569</td>\n",
       "    </tr>\n",
       "    <tr>\n",
       "      <th>5</th>\n",
       "      <td>1000</td>\n",
       "      <td>10</td>\n",
       "      <td>14703</td>\n",
       "    </tr>\n",
       "    <tr>\n",
       "      <th>6</th>\n",
       "      <td>1000</td>\n",
       "      <td>11</td>\n",
       "      <td>14757</td>\n",
       "    </tr>\n",
       "    <tr>\n",
       "      <th>7</th>\n",
       "      <td>1000</td>\n",
       "      <td>12</td>\n",
       "      <td>9818</td>\n",
       "    </tr>\n",
       "    <tr>\n",
       "      <th>8</th>\n",
       "      <td>1001</td>\n",
       "      <td>11</td>\n",
       "      <td>18430</td>\n",
       "    </tr>\n",
       "    <tr>\n",
       "      <th>9</th>\n",
       "      <td>1001</td>\n",
       "      <td>12</td>\n",
       "      <td>14037</td>\n",
       "    </tr>\n",
       "  </tbody>\n",
       "</table>\n",
       "</div>"
      ],
      "text/plain": [
       "   user_id  month  mb_used\n",
       "0     1000      5     2254\n",
       "1     1000      6    23234\n",
       "2     1000      7    14004\n",
       "3     1000      8    14056\n",
       "4     1000      9    14569\n",
       "5     1000     10    14703\n",
       "6     1000     11    14757\n",
       "7     1000     12     9818\n",
       "8     1001     11    18430\n",
       "9     1001     12    14037"
      ]
     },
     "metadata": {},
     "output_type": "display_data"
    }
   ],
   "source": [
    "internet_pivot = internet.pivot_table(index=['user_id', 'month'], values='mb_used', aggfunc='sum').reset_index()\n",
    "internet_pivot['mb_used'] = np.ceil(internet_pivot['mb_used'])\n",
    "internet_pivot['mb_used'] = internet_pivot['mb_used'].astype('int64')\n",
    "display(internet_pivot.head(10))"
   ]
  },
  {
   "cell_type": "markdown",
   "metadata": {},
   "source": [
    "Те же действия проведем с таблицей с интернет-трафиком, подсчитаем сумму затраченного трафика по месяцам."
   ]
  },
  {
   "cell_type": "code",
   "execution_count": 16,
   "metadata": {},
   "outputs": [
    {
     "data": {
      "text/html": [
       "<div>\n",
       "<style scoped>\n",
       "    .dataframe tbody tr th:only-of-type {\n",
       "        vertical-align: middle;\n",
       "    }\n",
       "\n",
       "    .dataframe tbody tr th {\n",
       "        vertical-align: top;\n",
       "    }\n",
       "\n",
       "    .dataframe thead th {\n",
       "        text-align: right;\n",
       "    }\n",
       "</style>\n",
       "<table border=\"1\" class=\"dataframe\">\n",
       "  <thead>\n",
       "    <tr style=\"text-align: right;\">\n",
       "      <th></th>\n",
       "      <th>user_id</th>\n",
       "      <th>month</th>\n",
       "      <th>messages_amount</th>\n",
       "    </tr>\n",
       "  </thead>\n",
       "  <tbody>\n",
       "    <tr>\n",
       "      <th>0</th>\n",
       "      <td>1000</td>\n",
       "      <td>5</td>\n",
       "      <td>22</td>\n",
       "    </tr>\n",
       "    <tr>\n",
       "      <th>1</th>\n",
       "      <td>1000</td>\n",
       "      <td>6</td>\n",
       "      <td>60</td>\n",
       "    </tr>\n",
       "    <tr>\n",
       "      <th>2</th>\n",
       "      <td>1000</td>\n",
       "      <td>7</td>\n",
       "      <td>75</td>\n",
       "    </tr>\n",
       "    <tr>\n",
       "      <th>3</th>\n",
       "      <td>1000</td>\n",
       "      <td>8</td>\n",
       "      <td>81</td>\n",
       "    </tr>\n",
       "    <tr>\n",
       "      <th>4</th>\n",
       "      <td>1000</td>\n",
       "      <td>9</td>\n",
       "      <td>57</td>\n",
       "    </tr>\n",
       "    <tr>\n",
       "      <th>5</th>\n",
       "      <td>1000</td>\n",
       "      <td>10</td>\n",
       "      <td>73</td>\n",
       "    </tr>\n",
       "    <tr>\n",
       "      <th>6</th>\n",
       "      <td>1000</td>\n",
       "      <td>11</td>\n",
       "      <td>58</td>\n",
       "    </tr>\n",
       "    <tr>\n",
       "      <th>7</th>\n",
       "      <td>1000</td>\n",
       "      <td>12</td>\n",
       "      <td>70</td>\n",
       "    </tr>\n",
       "    <tr>\n",
       "      <th>8</th>\n",
       "      <td>1002</td>\n",
       "      <td>6</td>\n",
       "      <td>4</td>\n",
       "    </tr>\n",
       "    <tr>\n",
       "      <th>9</th>\n",
       "      <td>1002</td>\n",
       "      <td>7</td>\n",
       "      <td>11</td>\n",
       "    </tr>\n",
       "  </tbody>\n",
       "</table>\n",
       "</div>"
      ],
      "text/plain": [
       "   user_id  month  messages_amount\n",
       "0     1000      5               22\n",
       "1     1000      6               60\n",
       "2     1000      7               75\n",
       "3     1000      8               81\n",
       "4     1000      9               57\n",
       "5     1000     10               73\n",
       "6     1000     11               58\n",
       "7     1000     12               70\n",
       "8     1002      6                4\n",
       "9     1002      7               11"
      ]
     },
     "metadata": {},
     "output_type": "display_data"
    }
   ],
   "source": [
    "messages_pivot = messages.pivot_table(index=['user_id', 'month'], values='id', aggfunc='count')\n",
    "messages_pivot.columns = ['messages_amount']\n",
    "messages_pivot = messages_pivot.reset_index()\n",
    "display(messages_pivot.head(10))"
   ]
  },
  {
   "cell_type": "markdown",
   "metadata": {},
   "source": [
    "Тоже самое, что и с интернет-трафиком: подсчитаем сумму сообщений, отправленных пользователями в месяц и переименуем столбец. "
   ]
  },
  {
   "cell_type": "code",
   "execution_count": 17,
   "metadata": {},
   "outputs": [
    {
     "data": {
      "text/html": [
       "<div>\n",
       "<style scoped>\n",
       "    .dataframe tbody tr th:only-of-type {\n",
       "        vertical-align: middle;\n",
       "    }\n",
       "\n",
       "    .dataframe tbody tr th {\n",
       "        vertical-align: top;\n",
       "    }\n",
       "\n",
       "    .dataframe thead th {\n",
       "        text-align: right;\n",
       "    }\n",
       "</style>\n",
       "<table border=\"1\" class=\"dataframe\">\n",
       "  <thead>\n",
       "    <tr style=\"text-align: right;\">\n",
       "      <th></th>\n",
       "      <th>index</th>\n",
       "      <th>user_id</th>\n",
       "      <th>month</th>\n",
       "      <th>calls_duration</th>\n",
       "      <th>calls_amount</th>\n",
       "      <th>mb_used</th>\n",
       "      <th>messages_amount</th>\n",
       "    </tr>\n",
       "  </thead>\n",
       "  <tbody>\n",
       "    <tr>\n",
       "      <th>0</th>\n",
       "      <td>0</td>\n",
       "      <td>1000</td>\n",
       "      <td>5</td>\n",
       "      <td>159.0</td>\n",
       "      <td>22.0</td>\n",
       "      <td>2254.0</td>\n",
       "      <td>22.0</td>\n",
       "    </tr>\n",
       "    <tr>\n",
       "      <th>1</th>\n",
       "      <td>1</td>\n",
       "      <td>1000</td>\n",
       "      <td>6</td>\n",
       "      <td>172.0</td>\n",
       "      <td>43.0</td>\n",
       "      <td>23234.0</td>\n",
       "      <td>60.0</td>\n",
       "    </tr>\n",
       "    <tr>\n",
       "      <th>2</th>\n",
       "      <td>2</td>\n",
       "      <td>1000</td>\n",
       "      <td>7</td>\n",
       "      <td>340.0</td>\n",
       "      <td>47.0</td>\n",
       "      <td>14004.0</td>\n",
       "      <td>75.0</td>\n",
       "    </tr>\n",
       "    <tr>\n",
       "      <th>3</th>\n",
       "      <td>3</td>\n",
       "      <td>1000</td>\n",
       "      <td>8</td>\n",
       "      <td>408.0</td>\n",
       "      <td>52.0</td>\n",
       "      <td>14056.0</td>\n",
       "      <td>81.0</td>\n",
       "    </tr>\n",
       "    <tr>\n",
       "      <th>4</th>\n",
       "      <td>4</td>\n",
       "      <td>1000</td>\n",
       "      <td>9</td>\n",
       "      <td>466.0</td>\n",
       "      <td>58.0</td>\n",
       "      <td>14569.0</td>\n",
       "      <td>57.0</td>\n",
       "    </tr>\n",
       "    <tr>\n",
       "      <th>5</th>\n",
       "      <td>5</td>\n",
       "      <td>1000</td>\n",
       "      <td>10</td>\n",
       "      <td>350.0</td>\n",
       "      <td>57.0</td>\n",
       "      <td>14703.0</td>\n",
       "      <td>73.0</td>\n",
       "    </tr>\n",
       "    <tr>\n",
       "      <th>6</th>\n",
       "      <td>6</td>\n",
       "      <td>1000</td>\n",
       "      <td>11</td>\n",
       "      <td>338.0</td>\n",
       "      <td>43.0</td>\n",
       "      <td>14757.0</td>\n",
       "      <td>58.0</td>\n",
       "    </tr>\n",
       "    <tr>\n",
       "      <th>7</th>\n",
       "      <td>7</td>\n",
       "      <td>1000</td>\n",
       "      <td>12</td>\n",
       "      <td>333.0</td>\n",
       "      <td>46.0</td>\n",
       "      <td>9818.0</td>\n",
       "      <td>70.0</td>\n",
       "    </tr>\n",
       "    <tr>\n",
       "      <th>8</th>\n",
       "      <td>8</td>\n",
       "      <td>1001</td>\n",
       "      <td>11</td>\n",
       "      <td>430.0</td>\n",
       "      <td>59.0</td>\n",
       "      <td>18430.0</td>\n",
       "      <td>NaN</td>\n",
       "    </tr>\n",
       "    <tr>\n",
       "      <th>9</th>\n",
       "      <td>9</td>\n",
       "      <td>1001</td>\n",
       "      <td>12</td>\n",
       "      <td>414.0</td>\n",
       "      <td>63.0</td>\n",
       "      <td>14037.0</td>\n",
       "      <td>NaN</td>\n",
       "    </tr>\n",
       "  </tbody>\n",
       "</table>\n",
       "</div>"
      ],
      "text/plain": [
       "   index  user_id  month  calls_duration  calls_amount  mb_used  \\\n",
       "0      0     1000      5           159.0          22.0   2254.0   \n",
       "1      1     1000      6           172.0          43.0  23234.0   \n",
       "2      2     1000      7           340.0          47.0  14004.0   \n",
       "3      3     1000      8           408.0          52.0  14056.0   \n",
       "4      4     1000      9           466.0          58.0  14569.0   \n",
       "5      5     1000     10           350.0          57.0  14703.0   \n",
       "6      6     1000     11           338.0          43.0  14757.0   \n",
       "7      7     1000     12           333.0          46.0   9818.0   \n",
       "8      8     1001     11           430.0          59.0  18430.0   \n",
       "9      9     1001     12           414.0          63.0  14037.0   \n",
       "\n",
       "   messages_amount  \n",
       "0             22.0  \n",
       "1             60.0  \n",
       "2             75.0  \n",
       "3             81.0  \n",
       "4             57.0  \n",
       "5             73.0  \n",
       "6             58.0  \n",
       "7             70.0  \n",
       "8              NaN  \n",
       "9              NaN  "
      ]
     },
     "metadata": {},
     "output_type": "display_data"
    }
   ],
   "source": [
    "calls_internet = calls_pivot.merge(internet_pivot, on=['user_id', 'month'], how='outer')\n",
    "calls_internet_messages = calls_internet.merge(messages_pivot, on=['user_id', 'month'], how='outer').reset_index()\n",
    "display(calls_internet_messages.head(10))"
   ]
  },
  {
   "cell_type": "markdown",
   "metadata": {},
   "source": [
    "Объединим таблицы со звонками и интернет-трафиком методом .merge. Затем присоединим к ним датасет с информацией о сообщениях. "
   ]
  },
  {
   "cell_type": "code",
   "execution_count": 18,
   "metadata": {},
   "outputs": [
    {
     "data": {
      "text/html": [
       "<div>\n",
       "<style scoped>\n",
       "    .dataframe tbody tr th:only-of-type {\n",
       "        vertical-align: middle;\n",
       "    }\n",
       "\n",
       "    .dataframe tbody tr th {\n",
       "        vertical-align: top;\n",
       "    }\n",
       "\n",
       "    .dataframe thead th {\n",
       "        text-align: right;\n",
       "    }\n",
       "</style>\n",
       "<table border=\"1\" class=\"dataframe\">\n",
       "  <thead>\n",
       "    <tr style=\"text-align: right;\">\n",
       "      <th></th>\n",
       "      <th>user_id</th>\n",
       "      <th>first_name</th>\n",
       "      <th>last_name</th>\n",
       "      <th>city</th>\n",
       "      <th>age</th>\n",
       "      <th>tariff</th>\n",
       "      <th>reg_date</th>\n",
       "      <th>churn_date</th>\n",
       "      <th>month</th>\n",
       "      <th>calls_amount</th>\n",
       "      <th>calls_duration</th>\n",
       "      <th>index</th>\n",
       "      <th>mb_used</th>\n",
       "      <th>messages_amount</th>\n",
       "    </tr>\n",
       "  </thead>\n",
       "  <tbody>\n",
       "    <tr>\n",
       "      <th>0</th>\n",
       "      <td>1000</td>\n",
       "      <td>Рафаил</td>\n",
       "      <td>Верещагин</td>\n",
       "      <td>Краснодар</td>\n",
       "      <td>52</td>\n",
       "      <td>ultra</td>\n",
       "      <td>2018-05-25</td>\n",
       "      <td>2019-01-01</td>\n",
       "      <td>5</td>\n",
       "      <td>22.0</td>\n",
       "      <td>159.0</td>\n",
       "      <td>0</td>\n",
       "      <td>2254.0</td>\n",
       "      <td>22.0</td>\n",
       "    </tr>\n",
       "    <tr>\n",
       "      <th>1</th>\n",
       "      <td>1000</td>\n",
       "      <td>Рафаил</td>\n",
       "      <td>Верещагин</td>\n",
       "      <td>Краснодар</td>\n",
       "      <td>52</td>\n",
       "      <td>ultra</td>\n",
       "      <td>2018-05-25</td>\n",
       "      <td>2019-01-01</td>\n",
       "      <td>6</td>\n",
       "      <td>43.0</td>\n",
       "      <td>172.0</td>\n",
       "      <td>1</td>\n",
       "      <td>23234.0</td>\n",
       "      <td>60.0</td>\n",
       "    </tr>\n",
       "    <tr>\n",
       "      <th>2</th>\n",
       "      <td>1000</td>\n",
       "      <td>Рафаил</td>\n",
       "      <td>Верещагин</td>\n",
       "      <td>Краснодар</td>\n",
       "      <td>52</td>\n",
       "      <td>ultra</td>\n",
       "      <td>2018-05-25</td>\n",
       "      <td>2019-01-01</td>\n",
       "      <td>7</td>\n",
       "      <td>47.0</td>\n",
       "      <td>340.0</td>\n",
       "      <td>2</td>\n",
       "      <td>14004.0</td>\n",
       "      <td>75.0</td>\n",
       "    </tr>\n",
       "    <tr>\n",
       "      <th>3</th>\n",
       "      <td>1000</td>\n",
       "      <td>Рафаил</td>\n",
       "      <td>Верещагин</td>\n",
       "      <td>Краснодар</td>\n",
       "      <td>52</td>\n",
       "      <td>ultra</td>\n",
       "      <td>2018-05-25</td>\n",
       "      <td>2019-01-01</td>\n",
       "      <td>8</td>\n",
       "      <td>52.0</td>\n",
       "      <td>408.0</td>\n",
       "      <td>3</td>\n",
       "      <td>14056.0</td>\n",
       "      <td>81.0</td>\n",
       "    </tr>\n",
       "    <tr>\n",
       "      <th>4</th>\n",
       "      <td>1000</td>\n",
       "      <td>Рафаил</td>\n",
       "      <td>Верещагин</td>\n",
       "      <td>Краснодар</td>\n",
       "      <td>52</td>\n",
       "      <td>ultra</td>\n",
       "      <td>2018-05-25</td>\n",
       "      <td>2019-01-01</td>\n",
       "      <td>9</td>\n",
       "      <td>58.0</td>\n",
       "      <td>466.0</td>\n",
       "      <td>4</td>\n",
       "      <td>14569.0</td>\n",
       "      <td>57.0</td>\n",
       "    </tr>\n",
       "    <tr>\n",
       "      <th>5</th>\n",
       "      <td>1000</td>\n",
       "      <td>Рафаил</td>\n",
       "      <td>Верещагин</td>\n",
       "      <td>Краснодар</td>\n",
       "      <td>52</td>\n",
       "      <td>ultra</td>\n",
       "      <td>2018-05-25</td>\n",
       "      <td>2019-01-01</td>\n",
       "      <td>10</td>\n",
       "      <td>57.0</td>\n",
       "      <td>350.0</td>\n",
       "      <td>5</td>\n",
       "      <td>14703.0</td>\n",
       "      <td>73.0</td>\n",
       "    </tr>\n",
       "    <tr>\n",
       "      <th>6</th>\n",
       "      <td>1000</td>\n",
       "      <td>Рафаил</td>\n",
       "      <td>Верещагин</td>\n",
       "      <td>Краснодар</td>\n",
       "      <td>52</td>\n",
       "      <td>ultra</td>\n",
       "      <td>2018-05-25</td>\n",
       "      <td>2019-01-01</td>\n",
       "      <td>11</td>\n",
       "      <td>43.0</td>\n",
       "      <td>338.0</td>\n",
       "      <td>6</td>\n",
       "      <td>14757.0</td>\n",
       "      <td>58.0</td>\n",
       "    </tr>\n",
       "    <tr>\n",
       "      <th>7</th>\n",
       "      <td>1000</td>\n",
       "      <td>Рафаил</td>\n",
       "      <td>Верещагин</td>\n",
       "      <td>Краснодар</td>\n",
       "      <td>52</td>\n",
       "      <td>ultra</td>\n",
       "      <td>2018-05-25</td>\n",
       "      <td>2019-01-01</td>\n",
       "      <td>12</td>\n",
       "      <td>46.0</td>\n",
       "      <td>333.0</td>\n",
       "      <td>7</td>\n",
       "      <td>9818.0</td>\n",
       "      <td>70.0</td>\n",
       "    </tr>\n",
       "    <tr>\n",
       "      <th>8</th>\n",
       "      <td>1001</td>\n",
       "      <td>Иван</td>\n",
       "      <td>Ежов</td>\n",
       "      <td>Москва</td>\n",
       "      <td>41</td>\n",
       "      <td>smart</td>\n",
       "      <td>2018-11-01</td>\n",
       "      <td>2019-01-01</td>\n",
       "      <td>11</td>\n",
       "      <td>59.0</td>\n",
       "      <td>430.0</td>\n",
       "      <td>8</td>\n",
       "      <td>18430.0</td>\n",
       "      <td>NaN</td>\n",
       "    </tr>\n",
       "    <tr>\n",
       "      <th>9</th>\n",
       "      <td>1001</td>\n",
       "      <td>Иван</td>\n",
       "      <td>Ежов</td>\n",
       "      <td>Москва</td>\n",
       "      <td>41</td>\n",
       "      <td>smart</td>\n",
       "      <td>2018-11-01</td>\n",
       "      <td>2019-01-01</td>\n",
       "      <td>12</td>\n",
       "      <td>63.0</td>\n",
       "      <td>414.0</td>\n",
       "      <td>9</td>\n",
       "      <td>14037.0</td>\n",
       "      <td>NaN</td>\n",
       "    </tr>\n",
       "  </tbody>\n",
       "</table>\n",
       "</div>"
      ],
      "text/plain": [
       "   user_id first_name  last_name       city  age tariff   reg_date churn_date  \\\n",
       "0     1000     Рафаил  Верещагин  Краснодар   52  ultra 2018-05-25 2019-01-01   \n",
       "1     1000     Рафаил  Верещагин  Краснодар   52  ultra 2018-05-25 2019-01-01   \n",
       "2     1000     Рафаил  Верещагин  Краснодар   52  ultra 2018-05-25 2019-01-01   \n",
       "3     1000     Рафаил  Верещагин  Краснодар   52  ultra 2018-05-25 2019-01-01   \n",
       "4     1000     Рафаил  Верещагин  Краснодар   52  ultra 2018-05-25 2019-01-01   \n",
       "5     1000     Рафаил  Верещагин  Краснодар   52  ultra 2018-05-25 2019-01-01   \n",
       "6     1000     Рафаил  Верещагин  Краснодар   52  ultra 2018-05-25 2019-01-01   \n",
       "7     1000     Рафаил  Верещагин  Краснодар   52  ultra 2018-05-25 2019-01-01   \n",
       "8     1001       Иван       Ежов     Москва   41  smart 2018-11-01 2019-01-01   \n",
       "9     1001       Иван       Ежов     Москва   41  smart 2018-11-01 2019-01-01   \n",
       "\n",
       "   month  calls_amount  calls_duration  index  mb_used  messages_amount  \n",
       "0      5          22.0           159.0      0   2254.0             22.0  \n",
       "1      6          43.0           172.0      1  23234.0             60.0  \n",
       "2      7          47.0           340.0      2  14004.0             75.0  \n",
       "3      8          52.0           408.0      3  14056.0             81.0  \n",
       "4      9          58.0           466.0      4  14569.0             57.0  \n",
       "5     10          57.0           350.0      5  14703.0             73.0  \n",
       "6     11          43.0           338.0      6  14757.0             58.0  \n",
       "7     12          46.0           333.0      7   9818.0             70.0  \n",
       "8     11          59.0           430.0      8  18430.0              NaN  \n",
       "9     12          63.0           414.0      9  14037.0              NaN  "
      ]
     },
     "metadata": {},
     "output_type": "display_data"
    }
   ],
   "source": [
    "df = calls_internet_messages.merge(users, on='user_id', how='left')\n",
    "df = df.pivot_table(\n",
    "    index=['user_id', 'first_name', 'last_name', 'city', 'age', 'tariff', 'reg_date', 'churn_date', 'month']\n",
    "    ).reset_index()\n",
    "display(df.head(10))"
   ]
  },
  {
   "cell_type": "markdown",
   "metadata": {},
   "source": [
    "К таблице со звонками, интернет-трафиком и сообщениями присоединим датасет с информацией о пользователях. Для более лучшего восприятия методом .pivot_table() переместим столбцы таблицы в удобном для нас порядке. "
   ]
  },
  {
   "cell_type": "code",
   "execution_count": 19,
   "metadata": {
    "scrolled": false
   },
   "outputs": [
    {
     "data": {
      "text/html": [
       "<div>\n",
       "<style scoped>\n",
       "    .dataframe tbody tr th:only-of-type {\n",
       "        vertical-align: middle;\n",
       "    }\n",
       "\n",
       "    .dataframe tbody tr th {\n",
       "        vertical-align: top;\n",
       "    }\n",
       "\n",
       "    .dataframe thead th {\n",
       "        text-align: right;\n",
       "    }\n",
       "</style>\n",
       "<table border=\"1\" class=\"dataframe\">\n",
       "  <thead>\n",
       "    <tr style=\"text-align: right;\">\n",
       "      <th></th>\n",
       "      <th>user_id</th>\n",
       "      <th>first_name</th>\n",
       "      <th>last_name</th>\n",
       "      <th>city</th>\n",
       "      <th>age</th>\n",
       "      <th>tariff</th>\n",
       "      <th>reg_date</th>\n",
       "      <th>churn_date</th>\n",
       "      <th>month</th>\n",
       "      <th>calls_amount</th>\n",
       "      <th>calls_duration</th>\n",
       "      <th>index</th>\n",
       "      <th>mb_used</th>\n",
       "      <th>messages_amount</th>\n",
       "      <th>gb_used</th>\n",
       "    </tr>\n",
       "  </thead>\n",
       "  <tbody>\n",
       "    <tr>\n",
       "      <th>0</th>\n",
       "      <td>1000</td>\n",
       "      <td>Рафаил</td>\n",
       "      <td>Верещагин</td>\n",
       "      <td>Краснодар</td>\n",
       "      <td>52</td>\n",
       "      <td>ultra</td>\n",
       "      <td>2018-05-25</td>\n",
       "      <td>2019-01-01</td>\n",
       "      <td>5</td>\n",
       "      <td>22.0</td>\n",
       "      <td>159.0</td>\n",
       "      <td>0</td>\n",
       "      <td>2254.0</td>\n",
       "      <td>22.0</td>\n",
       "      <td>3.0</td>\n",
       "    </tr>\n",
       "    <tr>\n",
       "      <th>1</th>\n",
       "      <td>1000</td>\n",
       "      <td>Рафаил</td>\n",
       "      <td>Верещагин</td>\n",
       "      <td>Краснодар</td>\n",
       "      <td>52</td>\n",
       "      <td>ultra</td>\n",
       "      <td>2018-05-25</td>\n",
       "      <td>2019-01-01</td>\n",
       "      <td>6</td>\n",
       "      <td>43.0</td>\n",
       "      <td>172.0</td>\n",
       "      <td>1</td>\n",
       "      <td>23234.0</td>\n",
       "      <td>60.0</td>\n",
       "      <td>23.0</td>\n",
       "    </tr>\n",
       "    <tr>\n",
       "      <th>2</th>\n",
       "      <td>1000</td>\n",
       "      <td>Рафаил</td>\n",
       "      <td>Верещагин</td>\n",
       "      <td>Краснодар</td>\n",
       "      <td>52</td>\n",
       "      <td>ultra</td>\n",
       "      <td>2018-05-25</td>\n",
       "      <td>2019-01-01</td>\n",
       "      <td>7</td>\n",
       "      <td>47.0</td>\n",
       "      <td>340.0</td>\n",
       "      <td>2</td>\n",
       "      <td>14004.0</td>\n",
       "      <td>75.0</td>\n",
       "      <td>14.0</td>\n",
       "    </tr>\n",
       "    <tr>\n",
       "      <th>3</th>\n",
       "      <td>1000</td>\n",
       "      <td>Рафаил</td>\n",
       "      <td>Верещагин</td>\n",
       "      <td>Краснодар</td>\n",
       "      <td>52</td>\n",
       "      <td>ultra</td>\n",
       "      <td>2018-05-25</td>\n",
       "      <td>2019-01-01</td>\n",
       "      <td>8</td>\n",
       "      <td>52.0</td>\n",
       "      <td>408.0</td>\n",
       "      <td>3</td>\n",
       "      <td>14056.0</td>\n",
       "      <td>81.0</td>\n",
       "      <td>14.0</td>\n",
       "    </tr>\n",
       "    <tr>\n",
       "      <th>4</th>\n",
       "      <td>1000</td>\n",
       "      <td>Рафаил</td>\n",
       "      <td>Верещагин</td>\n",
       "      <td>Краснодар</td>\n",
       "      <td>52</td>\n",
       "      <td>ultra</td>\n",
       "      <td>2018-05-25</td>\n",
       "      <td>2019-01-01</td>\n",
       "      <td>9</td>\n",
       "      <td>58.0</td>\n",
       "      <td>466.0</td>\n",
       "      <td>4</td>\n",
       "      <td>14569.0</td>\n",
       "      <td>57.0</td>\n",
       "      <td>15.0</td>\n",
       "    </tr>\n",
       "    <tr>\n",
       "      <th>5</th>\n",
       "      <td>1000</td>\n",
       "      <td>Рафаил</td>\n",
       "      <td>Верещагин</td>\n",
       "      <td>Краснодар</td>\n",
       "      <td>52</td>\n",
       "      <td>ultra</td>\n",
       "      <td>2018-05-25</td>\n",
       "      <td>2019-01-01</td>\n",
       "      <td>10</td>\n",
       "      <td>57.0</td>\n",
       "      <td>350.0</td>\n",
       "      <td>5</td>\n",
       "      <td>14703.0</td>\n",
       "      <td>73.0</td>\n",
       "      <td>15.0</td>\n",
       "    </tr>\n",
       "    <tr>\n",
       "      <th>6</th>\n",
       "      <td>1000</td>\n",
       "      <td>Рафаил</td>\n",
       "      <td>Верещагин</td>\n",
       "      <td>Краснодар</td>\n",
       "      <td>52</td>\n",
       "      <td>ultra</td>\n",
       "      <td>2018-05-25</td>\n",
       "      <td>2019-01-01</td>\n",
       "      <td>11</td>\n",
       "      <td>43.0</td>\n",
       "      <td>338.0</td>\n",
       "      <td>6</td>\n",
       "      <td>14757.0</td>\n",
       "      <td>58.0</td>\n",
       "      <td>15.0</td>\n",
       "    </tr>\n",
       "    <tr>\n",
       "      <th>7</th>\n",
       "      <td>1000</td>\n",
       "      <td>Рафаил</td>\n",
       "      <td>Верещагин</td>\n",
       "      <td>Краснодар</td>\n",
       "      <td>52</td>\n",
       "      <td>ultra</td>\n",
       "      <td>2018-05-25</td>\n",
       "      <td>2019-01-01</td>\n",
       "      <td>12</td>\n",
       "      <td>46.0</td>\n",
       "      <td>333.0</td>\n",
       "      <td>7</td>\n",
       "      <td>9818.0</td>\n",
       "      <td>70.0</td>\n",
       "      <td>10.0</td>\n",
       "    </tr>\n",
       "    <tr>\n",
       "      <th>8</th>\n",
       "      <td>1001</td>\n",
       "      <td>Иван</td>\n",
       "      <td>Ежов</td>\n",
       "      <td>Москва</td>\n",
       "      <td>41</td>\n",
       "      <td>smart</td>\n",
       "      <td>2018-11-01</td>\n",
       "      <td>2019-01-01</td>\n",
       "      <td>11</td>\n",
       "      <td>59.0</td>\n",
       "      <td>430.0</td>\n",
       "      <td>8</td>\n",
       "      <td>18430.0</td>\n",
       "      <td>NaN</td>\n",
       "      <td>18.0</td>\n",
       "    </tr>\n",
       "    <tr>\n",
       "      <th>9</th>\n",
       "      <td>1001</td>\n",
       "      <td>Иван</td>\n",
       "      <td>Ежов</td>\n",
       "      <td>Москва</td>\n",
       "      <td>41</td>\n",
       "      <td>smart</td>\n",
       "      <td>2018-11-01</td>\n",
       "      <td>2019-01-01</td>\n",
       "      <td>12</td>\n",
       "      <td>63.0</td>\n",
       "      <td>414.0</td>\n",
       "      <td>9</td>\n",
       "      <td>14037.0</td>\n",
       "      <td>NaN</td>\n",
       "      <td>14.0</td>\n",
       "    </tr>\n",
       "  </tbody>\n",
       "</table>\n",
       "</div>"
      ],
      "text/plain": [
       "   user_id first_name  last_name       city  age tariff   reg_date churn_date  \\\n",
       "0     1000     Рафаил  Верещагин  Краснодар   52  ultra 2018-05-25 2019-01-01   \n",
       "1     1000     Рафаил  Верещагин  Краснодар   52  ultra 2018-05-25 2019-01-01   \n",
       "2     1000     Рафаил  Верещагин  Краснодар   52  ultra 2018-05-25 2019-01-01   \n",
       "3     1000     Рафаил  Верещагин  Краснодар   52  ultra 2018-05-25 2019-01-01   \n",
       "4     1000     Рафаил  Верещагин  Краснодар   52  ultra 2018-05-25 2019-01-01   \n",
       "5     1000     Рафаил  Верещагин  Краснодар   52  ultra 2018-05-25 2019-01-01   \n",
       "6     1000     Рафаил  Верещагин  Краснодар   52  ultra 2018-05-25 2019-01-01   \n",
       "7     1000     Рафаил  Верещагин  Краснодар   52  ultra 2018-05-25 2019-01-01   \n",
       "8     1001       Иван       Ежов     Москва   41  smart 2018-11-01 2019-01-01   \n",
       "9     1001       Иван       Ежов     Москва   41  smart 2018-11-01 2019-01-01   \n",
       "\n",
       "   month  calls_amount  calls_duration  index  mb_used  messages_amount  \\\n",
       "0      5          22.0           159.0      0   2254.0             22.0   \n",
       "1      6          43.0           172.0      1  23234.0             60.0   \n",
       "2      7          47.0           340.0      2  14004.0             75.0   \n",
       "3      8          52.0           408.0      3  14056.0             81.0   \n",
       "4      9          58.0           466.0      4  14569.0             57.0   \n",
       "5     10          57.0           350.0      5  14703.0             73.0   \n",
       "6     11          43.0           338.0      6  14757.0             58.0   \n",
       "7     12          46.0           333.0      7   9818.0             70.0   \n",
       "8     11          59.0           430.0      8  18430.0              NaN   \n",
       "9     12          63.0           414.0      9  14037.0              NaN   \n",
       "\n",
       "   gb_used  \n",
       "0      3.0  \n",
       "1     23.0  \n",
       "2     14.0  \n",
       "3     14.0  \n",
       "4     15.0  \n",
       "5     15.0  \n",
       "6     15.0  \n",
       "7     10.0  \n",
       "8     18.0  \n",
       "9     14.0  "
      ]
     },
     "metadata": {},
     "output_type": "display_data"
    }
   ],
   "source": [
    "df['gb_used'] = df['mb_used'] / 1024\n",
    "df['gb_used'] = np.ceil(df['gb_used'])\n",
    "display(df.head(10))"
   ]
  },
  {
   "cell_type": "markdown",
   "metadata": {},
   "source": [
    "Переведем мегабайты использованного интернет-трафика в гигабайты и округлим их в большую сторону."
   ]
  },
  {
   "cell_type": "code",
   "execution_count": 20,
   "metadata": {
    "scrolled": false
   },
   "outputs": [
    {
     "data": {
      "text/html": [
       "<div>\n",
       "<style scoped>\n",
       "    .dataframe tbody tr th:only-of-type {\n",
       "        vertical-align: middle;\n",
       "    }\n",
       "\n",
       "    .dataframe tbody tr th {\n",
       "        vertical-align: top;\n",
       "    }\n",
       "\n",
       "    .dataframe thead th {\n",
       "        text-align: right;\n",
       "    }\n",
       "</style>\n",
       "<table border=\"1\" class=\"dataframe\">\n",
       "  <thead>\n",
       "    <tr style=\"text-align: right;\">\n",
       "      <th></th>\n",
       "      <th>messages_included</th>\n",
       "      <th>mb_per_month_included</th>\n",
       "      <th>minutes_included</th>\n",
       "      <th>rub_monthly_fee</th>\n",
       "      <th>rub_per_gb</th>\n",
       "      <th>rub_per_message</th>\n",
       "      <th>rub_per_minute</th>\n",
       "      <th>tariff_name</th>\n",
       "    </tr>\n",
       "  </thead>\n",
       "  <tbody>\n",
       "    <tr>\n",
       "      <th>0</th>\n",
       "      <td>50</td>\n",
       "      <td>15360</td>\n",
       "      <td>500</td>\n",
       "      <td>550</td>\n",
       "      <td>200</td>\n",
       "      <td>3</td>\n",
       "      <td>3</td>\n",
       "      <td>smart</td>\n",
       "    </tr>\n",
       "    <tr>\n",
       "      <th>1</th>\n",
       "      <td>1000</td>\n",
       "      <td>30720</td>\n",
       "      <td>3000</td>\n",
       "      <td>1950</td>\n",
       "      <td>150</td>\n",
       "      <td>1</td>\n",
       "      <td>1</td>\n",
       "      <td>ultra</td>\n",
       "    </tr>\n",
       "  </tbody>\n",
       "</table>\n",
       "</div>"
      ],
      "text/plain": [
       "   messages_included  mb_per_month_included  minutes_included  \\\n",
       "0                 50                  15360               500   \n",
       "1               1000                  30720              3000   \n",
       "\n",
       "   rub_monthly_fee  rub_per_gb  rub_per_message  rub_per_minute tariff_name  \n",
       "0              550         200                3               3       smart  \n",
       "1             1950         150                1               1       ultra  "
      ]
     },
     "metadata": {},
     "output_type": "display_data"
    }
   ],
   "source": [
    "display(tariffs)"
   ]
  },
  {
   "cell_type": "markdown",
   "metadata": {},
   "source": [
    "<a id='income'></a>\n",
    "## Подсчет и добавление помесячной выручки с каждого пользователя."
   ]
  },
  {
   "cell_type": "code",
   "execution_count": 21,
   "metadata": {},
   "outputs": [
    {
     "data": {
      "text/html": [
       "<div>\n",
       "<style scoped>\n",
       "    .dataframe tbody tr th:only-of-type {\n",
       "        vertical-align: middle;\n",
       "    }\n",
       "\n",
       "    .dataframe tbody tr th {\n",
       "        vertical-align: top;\n",
       "    }\n",
       "\n",
       "    .dataframe thead th {\n",
       "        text-align: right;\n",
       "    }\n",
       "</style>\n",
       "<table border=\"1\" class=\"dataframe\">\n",
       "  <thead>\n",
       "    <tr style=\"text-align: right;\">\n",
       "      <th></th>\n",
       "      <th>user_id</th>\n",
       "      <th>first_name</th>\n",
       "      <th>last_name</th>\n",
       "      <th>city</th>\n",
       "      <th>age</th>\n",
       "      <th>tariff</th>\n",
       "      <th>reg_date</th>\n",
       "      <th>churn_date</th>\n",
       "      <th>month</th>\n",
       "      <th>calls_amount</th>\n",
       "      <th>calls_duration</th>\n",
       "      <th>index</th>\n",
       "      <th>mb_used</th>\n",
       "      <th>messages_amount</th>\n",
       "      <th>gb_used</th>\n",
       "      <th>income</th>\n",
       "    </tr>\n",
       "  </thead>\n",
       "  <tbody>\n",
       "    <tr>\n",
       "      <th>0</th>\n",
       "      <td>1000</td>\n",
       "      <td>Рафаил</td>\n",
       "      <td>Верещагин</td>\n",
       "      <td>Краснодар</td>\n",
       "      <td>52</td>\n",
       "      <td>ultra</td>\n",
       "      <td>2018-05-25</td>\n",
       "      <td>2019-01-01</td>\n",
       "      <td>5</td>\n",
       "      <td>22.0</td>\n",
       "      <td>159.0</td>\n",
       "      <td>0</td>\n",
       "      <td>2254.0</td>\n",
       "      <td>22.0</td>\n",
       "      <td>3.0</td>\n",
       "      <td>1950.0</td>\n",
       "    </tr>\n",
       "    <tr>\n",
       "      <th>1</th>\n",
       "      <td>1000</td>\n",
       "      <td>Рафаил</td>\n",
       "      <td>Верещагин</td>\n",
       "      <td>Краснодар</td>\n",
       "      <td>52</td>\n",
       "      <td>ultra</td>\n",
       "      <td>2018-05-25</td>\n",
       "      <td>2019-01-01</td>\n",
       "      <td>6</td>\n",
       "      <td>43.0</td>\n",
       "      <td>172.0</td>\n",
       "      <td>1</td>\n",
       "      <td>23234.0</td>\n",
       "      <td>60.0</td>\n",
       "      <td>23.0</td>\n",
       "      <td>1950.0</td>\n",
       "    </tr>\n",
       "    <tr>\n",
       "      <th>2</th>\n",
       "      <td>1000</td>\n",
       "      <td>Рафаил</td>\n",
       "      <td>Верещагин</td>\n",
       "      <td>Краснодар</td>\n",
       "      <td>52</td>\n",
       "      <td>ultra</td>\n",
       "      <td>2018-05-25</td>\n",
       "      <td>2019-01-01</td>\n",
       "      <td>7</td>\n",
       "      <td>47.0</td>\n",
       "      <td>340.0</td>\n",
       "      <td>2</td>\n",
       "      <td>14004.0</td>\n",
       "      <td>75.0</td>\n",
       "      <td>14.0</td>\n",
       "      <td>1950.0</td>\n",
       "    </tr>\n",
       "    <tr>\n",
       "      <th>3</th>\n",
       "      <td>1000</td>\n",
       "      <td>Рафаил</td>\n",
       "      <td>Верещагин</td>\n",
       "      <td>Краснодар</td>\n",
       "      <td>52</td>\n",
       "      <td>ultra</td>\n",
       "      <td>2018-05-25</td>\n",
       "      <td>2019-01-01</td>\n",
       "      <td>8</td>\n",
       "      <td>52.0</td>\n",
       "      <td>408.0</td>\n",
       "      <td>3</td>\n",
       "      <td>14056.0</td>\n",
       "      <td>81.0</td>\n",
       "      <td>14.0</td>\n",
       "      <td>1950.0</td>\n",
       "    </tr>\n",
       "    <tr>\n",
       "      <th>4</th>\n",
       "      <td>1000</td>\n",
       "      <td>Рафаил</td>\n",
       "      <td>Верещагин</td>\n",
       "      <td>Краснодар</td>\n",
       "      <td>52</td>\n",
       "      <td>ultra</td>\n",
       "      <td>2018-05-25</td>\n",
       "      <td>2019-01-01</td>\n",
       "      <td>9</td>\n",
       "      <td>58.0</td>\n",
       "      <td>466.0</td>\n",
       "      <td>4</td>\n",
       "      <td>14569.0</td>\n",
       "      <td>57.0</td>\n",
       "      <td>15.0</td>\n",
       "      <td>1950.0</td>\n",
       "    </tr>\n",
       "    <tr>\n",
       "      <th>5</th>\n",
       "      <td>1000</td>\n",
       "      <td>Рафаил</td>\n",
       "      <td>Верещагин</td>\n",
       "      <td>Краснодар</td>\n",
       "      <td>52</td>\n",
       "      <td>ultra</td>\n",
       "      <td>2018-05-25</td>\n",
       "      <td>2019-01-01</td>\n",
       "      <td>10</td>\n",
       "      <td>57.0</td>\n",
       "      <td>350.0</td>\n",
       "      <td>5</td>\n",
       "      <td>14703.0</td>\n",
       "      <td>73.0</td>\n",
       "      <td>15.0</td>\n",
       "      <td>1950.0</td>\n",
       "    </tr>\n",
       "    <tr>\n",
       "      <th>6</th>\n",
       "      <td>1000</td>\n",
       "      <td>Рафаил</td>\n",
       "      <td>Верещагин</td>\n",
       "      <td>Краснодар</td>\n",
       "      <td>52</td>\n",
       "      <td>ultra</td>\n",
       "      <td>2018-05-25</td>\n",
       "      <td>2019-01-01</td>\n",
       "      <td>11</td>\n",
       "      <td>43.0</td>\n",
       "      <td>338.0</td>\n",
       "      <td>6</td>\n",
       "      <td>14757.0</td>\n",
       "      <td>58.0</td>\n",
       "      <td>15.0</td>\n",
       "      <td>1950.0</td>\n",
       "    </tr>\n",
       "    <tr>\n",
       "      <th>7</th>\n",
       "      <td>1000</td>\n",
       "      <td>Рафаил</td>\n",
       "      <td>Верещагин</td>\n",
       "      <td>Краснодар</td>\n",
       "      <td>52</td>\n",
       "      <td>ultra</td>\n",
       "      <td>2018-05-25</td>\n",
       "      <td>2019-01-01</td>\n",
       "      <td>12</td>\n",
       "      <td>46.0</td>\n",
       "      <td>333.0</td>\n",
       "      <td>7</td>\n",
       "      <td>9818.0</td>\n",
       "      <td>70.0</td>\n",
       "      <td>10.0</td>\n",
       "      <td>1950.0</td>\n",
       "    </tr>\n",
       "    <tr>\n",
       "      <th>8</th>\n",
       "      <td>1001</td>\n",
       "      <td>Иван</td>\n",
       "      <td>Ежов</td>\n",
       "      <td>Москва</td>\n",
       "      <td>41</td>\n",
       "      <td>smart</td>\n",
       "      <td>2018-11-01</td>\n",
       "      <td>2019-01-01</td>\n",
       "      <td>11</td>\n",
       "      <td>59.0</td>\n",
       "      <td>430.0</td>\n",
       "      <td>8</td>\n",
       "      <td>18430.0</td>\n",
       "      <td>NaN</td>\n",
       "      <td>18.0</td>\n",
       "      <td>1150.0</td>\n",
       "    </tr>\n",
       "    <tr>\n",
       "      <th>9</th>\n",
       "      <td>1001</td>\n",
       "      <td>Иван</td>\n",
       "      <td>Ежов</td>\n",
       "      <td>Москва</td>\n",
       "      <td>41</td>\n",
       "      <td>smart</td>\n",
       "      <td>2018-11-01</td>\n",
       "      <td>2019-01-01</td>\n",
       "      <td>12</td>\n",
       "      <td>63.0</td>\n",
       "      <td>414.0</td>\n",
       "      <td>9</td>\n",
       "      <td>14037.0</td>\n",
       "      <td>NaN</td>\n",
       "      <td>14.0</td>\n",
       "      <td>550.0</td>\n",
       "    </tr>\n",
       "    <tr>\n",
       "      <th>10</th>\n",
       "      <td>1002</td>\n",
       "      <td>Евгений</td>\n",
       "      <td>Абрамович</td>\n",
       "      <td>Стерлитамак</td>\n",
       "      <td>59</td>\n",
       "      <td>smart</td>\n",
       "      <td>2018-06-17</td>\n",
       "      <td>2019-01-01</td>\n",
       "      <td>6</td>\n",
       "      <td>15.0</td>\n",
       "      <td>117.0</td>\n",
       "      <td>10</td>\n",
       "      <td>10857.0</td>\n",
       "      <td>4.0</td>\n",
       "      <td>11.0</td>\n",
       "      <td>550.0</td>\n",
       "    </tr>\n",
       "    <tr>\n",
       "      <th>11</th>\n",
       "      <td>1002</td>\n",
       "      <td>Евгений</td>\n",
       "      <td>Абрамович</td>\n",
       "      <td>Стерлитамак</td>\n",
       "      <td>59</td>\n",
       "      <td>smart</td>\n",
       "      <td>2018-06-17</td>\n",
       "      <td>2019-01-01</td>\n",
       "      <td>7</td>\n",
       "      <td>26.0</td>\n",
       "      <td>214.0</td>\n",
       "      <td>11</td>\n",
       "      <td>17581.0</td>\n",
       "      <td>11.0</td>\n",
       "      <td>18.0</td>\n",
       "      <td>1150.0</td>\n",
       "    </tr>\n",
       "    <tr>\n",
       "      <th>12</th>\n",
       "      <td>1002</td>\n",
       "      <td>Евгений</td>\n",
       "      <td>Абрамович</td>\n",
       "      <td>Стерлитамак</td>\n",
       "      <td>59</td>\n",
       "      <td>smart</td>\n",
       "      <td>2018-06-17</td>\n",
       "      <td>2019-01-01</td>\n",
       "      <td>8</td>\n",
       "      <td>42.0</td>\n",
       "      <td>289.0</td>\n",
       "      <td>12</td>\n",
       "      <td>20320.0</td>\n",
       "      <td>13.0</td>\n",
       "      <td>20.0</td>\n",
       "      <td>1550.0</td>\n",
       "    </tr>\n",
       "    <tr>\n",
       "      <th>13</th>\n",
       "      <td>1002</td>\n",
       "      <td>Евгений</td>\n",
       "      <td>Абрамович</td>\n",
       "      <td>Стерлитамак</td>\n",
       "      <td>59</td>\n",
       "      <td>smart</td>\n",
       "      <td>2018-06-17</td>\n",
       "      <td>2019-01-01</td>\n",
       "      <td>9</td>\n",
       "      <td>36.0</td>\n",
       "      <td>206.0</td>\n",
       "      <td>13</td>\n",
       "      <td>16692.0</td>\n",
       "      <td>4.0</td>\n",
       "      <td>17.0</td>\n",
       "      <td>950.0</td>\n",
       "    </tr>\n",
       "    <tr>\n",
       "      <th>14</th>\n",
       "      <td>1002</td>\n",
       "      <td>Евгений</td>\n",
       "      <td>Абрамович</td>\n",
       "      <td>Стерлитамак</td>\n",
       "      <td>59</td>\n",
       "      <td>smart</td>\n",
       "      <td>2018-06-17</td>\n",
       "      <td>2019-01-01</td>\n",
       "      <td>10</td>\n",
       "      <td>33.0</td>\n",
       "      <td>212.0</td>\n",
       "      <td>14</td>\n",
       "      <td>13889.0</td>\n",
       "      <td>10.0</td>\n",
       "      <td>14.0</td>\n",
       "      <td>550.0</td>\n",
       "    </tr>\n",
       "    <tr>\n",
       "      <th>15</th>\n",
       "      <td>1002</td>\n",
       "      <td>Евгений</td>\n",
       "      <td>Абрамович</td>\n",
       "      <td>Стерлитамак</td>\n",
       "      <td>59</td>\n",
       "      <td>smart</td>\n",
       "      <td>2018-06-17</td>\n",
       "      <td>2019-01-01</td>\n",
       "      <td>11</td>\n",
       "      <td>32.0</td>\n",
       "      <td>243.0</td>\n",
       "      <td>15</td>\n",
       "      <td>18588.0</td>\n",
       "      <td>16.0</td>\n",
       "      <td>19.0</td>\n",
       "      <td>1350.0</td>\n",
       "    </tr>\n",
       "    <tr>\n",
       "      <th>16</th>\n",
       "      <td>1002</td>\n",
       "      <td>Евгений</td>\n",
       "      <td>Абрамович</td>\n",
       "      <td>Стерлитамак</td>\n",
       "      <td>59</td>\n",
       "      <td>smart</td>\n",
       "      <td>2018-06-17</td>\n",
       "      <td>2019-01-01</td>\n",
       "      <td>12</td>\n",
       "      <td>33.0</td>\n",
       "      <td>236.0</td>\n",
       "      <td>16</td>\n",
       "      <td>18114.0</td>\n",
       "      <td>12.0</td>\n",
       "      <td>18.0</td>\n",
       "      <td>1150.0</td>\n",
       "    </tr>\n",
       "    <tr>\n",
       "      <th>17</th>\n",
       "      <td>1003</td>\n",
       "      <td>Белла</td>\n",
       "      <td>Белякова</td>\n",
       "      <td>Москва</td>\n",
       "      <td>23</td>\n",
       "      <td>ultra</td>\n",
       "      <td>2018-08-17</td>\n",
       "      <td>2019-01-01</td>\n",
       "      <td>8</td>\n",
       "      <td>55.0</td>\n",
       "      <td>380.0</td>\n",
       "      <td>17</td>\n",
       "      <td>8566.0</td>\n",
       "      <td>37.0</td>\n",
       "      <td>9.0</td>\n",
       "      <td>1950.0</td>\n",
       "    </tr>\n",
       "    <tr>\n",
       "      <th>18</th>\n",
       "      <td>1003</td>\n",
       "      <td>Белла</td>\n",
       "      <td>Белякова</td>\n",
       "      <td>Москва</td>\n",
       "      <td>23</td>\n",
       "      <td>ultra</td>\n",
       "      <td>2018-08-17</td>\n",
       "      <td>2019-01-01</td>\n",
       "      <td>9</td>\n",
       "      <td>134.0</td>\n",
       "      <td>961.0</td>\n",
       "      <td>18</td>\n",
       "      <td>12469.0</td>\n",
       "      <td>91.0</td>\n",
       "      <td>13.0</td>\n",
       "      <td>1950.0</td>\n",
       "    </tr>\n",
       "    <tr>\n",
       "      <th>19</th>\n",
       "      <td>1003</td>\n",
       "      <td>Белла</td>\n",
       "      <td>Белякова</td>\n",
       "      <td>Москва</td>\n",
       "      <td>23</td>\n",
       "      <td>ultra</td>\n",
       "      <td>2018-08-17</td>\n",
       "      <td>2019-01-01</td>\n",
       "      <td>10</td>\n",
       "      <td>108.0</td>\n",
       "      <td>855.0</td>\n",
       "      <td>19</td>\n",
       "      <td>14769.0</td>\n",
       "      <td>83.0</td>\n",
       "      <td>15.0</td>\n",
       "      <td>1950.0</td>\n",
       "    </tr>\n",
       "  </tbody>\n",
       "</table>\n",
       "</div>"
      ],
      "text/plain": [
       "    user_id first_name  last_name         city  age tariff   reg_date  \\\n",
       "0      1000     Рафаил  Верещагин    Краснодар   52  ultra 2018-05-25   \n",
       "1      1000     Рафаил  Верещагин    Краснодар   52  ultra 2018-05-25   \n",
       "2      1000     Рафаил  Верещагин    Краснодар   52  ultra 2018-05-25   \n",
       "3      1000     Рафаил  Верещагин    Краснодар   52  ultra 2018-05-25   \n",
       "4      1000     Рафаил  Верещагин    Краснодар   52  ultra 2018-05-25   \n",
       "5      1000     Рафаил  Верещагин    Краснодар   52  ultra 2018-05-25   \n",
       "6      1000     Рафаил  Верещагин    Краснодар   52  ultra 2018-05-25   \n",
       "7      1000     Рафаил  Верещагин    Краснодар   52  ultra 2018-05-25   \n",
       "8      1001       Иван       Ежов       Москва   41  smart 2018-11-01   \n",
       "9      1001       Иван       Ежов       Москва   41  smart 2018-11-01   \n",
       "10     1002    Евгений  Абрамович  Стерлитамак   59  smart 2018-06-17   \n",
       "11     1002    Евгений  Абрамович  Стерлитамак   59  smart 2018-06-17   \n",
       "12     1002    Евгений  Абрамович  Стерлитамак   59  smart 2018-06-17   \n",
       "13     1002    Евгений  Абрамович  Стерлитамак   59  smart 2018-06-17   \n",
       "14     1002    Евгений  Абрамович  Стерлитамак   59  smart 2018-06-17   \n",
       "15     1002    Евгений  Абрамович  Стерлитамак   59  smart 2018-06-17   \n",
       "16     1002    Евгений  Абрамович  Стерлитамак   59  smart 2018-06-17   \n",
       "17     1003      Белла   Белякова       Москва   23  ultra 2018-08-17   \n",
       "18     1003      Белла   Белякова       Москва   23  ultra 2018-08-17   \n",
       "19     1003      Белла   Белякова       Москва   23  ultra 2018-08-17   \n",
       "\n",
       "   churn_date  month  calls_amount  calls_duration  index  mb_used  \\\n",
       "0  2019-01-01      5          22.0           159.0      0   2254.0   \n",
       "1  2019-01-01      6          43.0           172.0      1  23234.0   \n",
       "2  2019-01-01      7          47.0           340.0      2  14004.0   \n",
       "3  2019-01-01      8          52.0           408.0      3  14056.0   \n",
       "4  2019-01-01      9          58.0           466.0      4  14569.0   \n",
       "5  2019-01-01     10          57.0           350.0      5  14703.0   \n",
       "6  2019-01-01     11          43.0           338.0      6  14757.0   \n",
       "7  2019-01-01     12          46.0           333.0      7   9818.0   \n",
       "8  2019-01-01     11          59.0           430.0      8  18430.0   \n",
       "9  2019-01-01     12          63.0           414.0      9  14037.0   \n",
       "10 2019-01-01      6          15.0           117.0     10  10857.0   \n",
       "11 2019-01-01      7          26.0           214.0     11  17581.0   \n",
       "12 2019-01-01      8          42.0           289.0     12  20320.0   \n",
       "13 2019-01-01      9          36.0           206.0     13  16692.0   \n",
       "14 2019-01-01     10          33.0           212.0     14  13889.0   \n",
       "15 2019-01-01     11          32.0           243.0     15  18588.0   \n",
       "16 2019-01-01     12          33.0           236.0     16  18114.0   \n",
       "17 2019-01-01      8          55.0           380.0     17   8566.0   \n",
       "18 2019-01-01      9         134.0           961.0     18  12469.0   \n",
       "19 2019-01-01     10         108.0           855.0     19  14769.0   \n",
       "\n",
       "    messages_amount  gb_used  income  \n",
       "0              22.0      3.0  1950.0  \n",
       "1              60.0     23.0  1950.0  \n",
       "2              75.0     14.0  1950.0  \n",
       "3              81.0     14.0  1950.0  \n",
       "4              57.0     15.0  1950.0  \n",
       "5              73.0     15.0  1950.0  \n",
       "6              58.0     15.0  1950.0  \n",
       "7              70.0     10.0  1950.0  \n",
       "8               NaN     18.0  1150.0  \n",
       "9               NaN     14.0   550.0  \n",
       "10              4.0     11.0   550.0  \n",
       "11             11.0     18.0  1150.0  \n",
       "12             13.0     20.0  1550.0  \n",
       "13              4.0     17.0   950.0  \n",
       "14             10.0     14.0   550.0  \n",
       "15             16.0     19.0  1350.0  \n",
       "16             12.0     18.0  1150.0  \n",
       "17             37.0      9.0  1950.0  \n",
       "18             91.0     13.0  1950.0  \n",
       "19             83.0     15.0  1950.0  "
      ]
     },
     "metadata": {},
     "output_type": "display_data"
    }
   ],
   "source": [
    "def revenue(row):\n",
    "    if row['tariff'] == 'smart':\n",
    "        if row['messages_amount'] > 50:\n",
    "            income_messages = (row['messages_amount'] - 50) * 3 #умножаем на 3 согласно тарифу\n",
    "        else:\n",
    "            income_messages = 0\n",
    "            \n",
    "        if row['gb_used'] > 15:\n",
    "            income_internet = (row['gb_used'] - 15) * 200 \n",
    "        else:\n",
    "            income_internet = 0\n",
    "            \n",
    "        if row['calls_duration'] > 500:\n",
    "            income_calls = (row['calls_duration'] - 500) * 3 \n",
    "        else:\n",
    "            income_calls = 0\n",
    "        income = income_messages + income_internet + income_calls + 550\n",
    "    \n",
    "    if row['tariff'] == 'ultra':\n",
    "        if row['messages_amount'] > 1000:\n",
    "            income_messages = (row['messages_amount'] - 1000) * 1\n",
    "        else:\n",
    "            income_messages = 0\n",
    "            \n",
    "        if row['gb_used'] > 30:\n",
    "            income_internet = (row['gb_used'] - 30) * 150 \n",
    "        else:\n",
    "            income_internet = 0\n",
    "            \n",
    "        if row['calls_duration'] > 3000:\n",
    "            income_calls = (row['calls_duration'] - 3000) * 1\n",
    "        else:\n",
    "            income_calls = 0\n",
    "        income = income_messages + income_internet + income_calls + 1950\n",
    "    return income\n",
    "            \n",
    "df['income'] = df.apply(revenue, axis=1)\n",
    "display(df.head(20))"
   ]
  },
  {
   "cell_type": "markdown",
   "metadata": {},
   "source": [
    "Напишем функцию для подсчета помесячной выручки с каждого пользователя согласно их тарифам. Вычитаем бесплатный лимит из суммарного количества звонков, сообщений и интернет-трафика, остаток умножаем на значение из тарифного плана и прибававляем абонентскую плату, соответствующую тарифному плану. Применим функцию к датасету методом .apply(), в результате получаем столбец income с нужной нам информацией. "
   ]
  },
  {
   "cell_type": "markdown",
   "metadata": {},
   "source": [
    "<a id='count'></a>\n",
    "## Подсчет среднего, стандартного отклонения и дисперсии для пользователей обоих тарифов. Построение гистограмм. "
   ]
  },
  {
   "cell_type": "markdown",
   "metadata": {},
   "source": [
    "### Тариф \"Смарт\""
   ]
  },
  {
   "cell_type": "code",
   "execution_count": 22,
   "metadata": {
    "scrolled": false
   },
   "outputs": [
    {
     "name": "stdout",
     "output_type": "stream",
     "text": [
      "Среднее: 1289.9735307312696\n",
      "\n",
      "Стандартное отклонение: 818.2207653949051\n",
      "\n",
      "Дисперсия: 669785.7080064242\n"
     ]
    }
   ],
   "source": [
    "df_smart = df.query('tariff == \"smart\"')\n",
    "\n",
    "print('Среднее:', df_smart['income'].mean())\n",
    "print()\n",
    "print('Стандартное отклонение:', np.std(df_smart['income']))\n",
    "print()\n",
    "variance_smart = np.var(df_smart['income'], ddof=1)\n",
    "print('Дисперсия:', variance_smart)"
   ]
  },
  {
   "cell_type": "markdown",
   "metadata": {},
   "source": [
    "Создадим выборку с пользователями тарифа \"смарт\" и посчитаем для нее среднее, стандартное отклонение и дисперсию. \n",
    "Cтандартное отклонение равно 780, довольно большой разброс относительно среднего. Это может говорить о том, что пользователи \"смарт\" часто выходят за лимиты своего тарифа.  "
   ]
  },
  {
   "cell_type": "code",
   "execution_count": 23,
   "metadata": {},
   "outputs": [
    {
     "data": {
      "image/png": "[encoded data removed]",
      "text/plain": [
       "<Figure size 432x288 with 1 Axes>"
      ]
     },
     "metadata": {
      "needs_background": "light"
     },
     "output_type": "display_data"
    }
   ],
   "source": [
    "plt.hist(x=df_smart['gb_used'], bins='auto')\n",
    "plt.xlabel('Количество используемых гигабайт')\n",
    "plt.ylabel('Количество человек')\n",
    "plt.title('Гистограмма используемых гигабайт интернета для тарифа смарт')\n",
    "plt.grid(True)\n",
    "plt.show;"
   ]
  },
  {
   "cell_type": "markdown",
   "metadata": {},
   "source": [
    "Построим гистограмму используемых гигабайт интернет-трафика для пользователей тарифа \"смарт\". Как и предполагалось, большое количество пользователей использует больше 15 гб интернета, включенных в абонентскую плату."
   ]
  },
  {
   "cell_type": "code",
   "execution_count": 24,
   "metadata": {},
   "outputs": [
    {
     "name": "stdout",
     "output_type": "stream",
     "text": [
      "Среднее: 16.33617594254937\n",
      "\n",
      "Стандартное отклонение: 5.73663477609674\n",
      "\n",
      "Дисперсия: 32.92375582354312\n"
     ]
    }
   ],
   "source": [
    "print('Среднее:', df_smart['gb_used'].mean())\n",
    "print()\n",
    "print('Стандартное отклонение:', np.std(df_smart['gb_used']))\n",
    "print()\n",
    "variance_smart_gb = np.var(df_smart['gb_used'], ddof=1)\n",
    "print('Дисперсия:', variance_smart_gb)"
   ]
  },
  {
   "cell_type": "markdown",
   "metadata": {},
   "source": [
    "Стандартное отклонение в случае с количеством использованных гигабайтов интернета равно 5,7. Это подтверждает построенная нами ранее гистограмма.  "
   ]
  },
  {
   "cell_type": "code",
   "execution_count": 25,
   "metadata": {},
   "outputs": [
    {
     "data": {
      "image/png": "[encoded data removed]",
      "text/plain": [
       "<Figure size 432x288 with 1 Axes>"
      ]
     },
     "metadata": {
      "needs_background": "light"
     },
     "output_type": "display_data"
    }
   ],
   "source": [
    "plt.hist(x=df_smart['messages_amount'], bins='auto')\n",
    "plt.xlabel('Количество сообщений')\n",
    "plt.ylabel('Количество человек')\n",
    "plt.title('Гистограмма количества отправленых сообщений для тарифа смарт')\n",
    "plt.grid(True)\n",
    "plt.show;"
   ]
  },
  {
   "cell_type": "markdown",
   "metadata": {},
   "source": [
    "По гистограмме количества сообщений для тарифа \"смарт\" можно сделать вывод, что большинство пользователей укладывается в лимит своего тарифа. "
   ]
  },
  {
   "cell_type": "code",
   "execution_count": 26,
   "metadata": {},
   "outputs": [
    {
     "name": "stdout",
     "output_type": "stream",
     "text": [
      "Среднее: 38.71644120707596\n",
      "\n",
      "Стандартное отклонение: 26.780979129042816\n",
      "\n",
      "Дисперсия: 717.5942011753547\n"
     ]
    }
   ],
   "source": [
    "print('Среднее:', df_smart['messages_amount'].mean())\n",
    "print()\n",
    "print('Стандартное отклонение:', np.std(df_smart['messages_amount']))\n",
    "print()\n",
    "variance_smart_ms = np.var(df_smart['messages_amount'], ddof=1)\n",
    "print('Дисперсия:', variance_smart_ms)"
   ]
  },
  {
   "cell_type": "markdown",
   "metadata": {},
   "source": [
    "Отклонение в 26,8 подтверждает, что очень малое количество пользователей тарифа \"смарт\" выходят за свои лимиты сообщений. "
   ]
  },
  {
   "cell_type": "code",
   "execution_count": 27,
   "metadata": {},
   "outputs": [
    {
     "data": {
      "image/png": "[encoded data removed]",
      "text/plain": [
       "<Figure size 432x288 with 1 Axes>"
      ]
     },
     "metadata": {
      "needs_background": "light"
     },
     "output_type": "display_data"
    }
   ],
   "source": [
    "plt.hist(x=df_smart['calls_duration'], bins='auto')\n",
    "plt.xlabel('Количество минут')\n",
    "plt.ylabel('Количество человек')\n",
    "plt.title('Гистограмма длительности звонков для тарифа смарт')\n",
    "plt.grid(True)\n",
    "plt.show;"
   ]
  },
  {
   "cell_type": "markdown",
   "metadata": {},
   "source": [
    "Гистограмма длительности звонков показывает, что пользователи \"смарт\", как и в случае с сообщениями, укладываются в лимиты своего тарифного плана. "
   ]
  },
  {
   "cell_type": "code",
   "execution_count": 28,
   "metadata": {},
   "outputs": [
    {
     "name": "stdout",
     "output_type": "stream",
     "text": [
      "Среднее: 419.0629779577148\n",
      "\n",
      "Стандартное отклонение: 189.2830296395594\n",
      "\n",
      "Дисперсия: 35844.1895513438\n"
     ]
    }
   ],
   "source": [
    "print('Среднее:', df_smart['calls_duration'].mean())\n",
    "print()\n",
    "print('Стандартное отклонение:', np.std(df_smart['calls_duration']))\n",
    "print()\n",
    "variance_smart_calls = np.var(df_smart['calls_duration'], ddof=1)\n",
    "print('Дисперсия:', variance_smart_calls)"
   ]
  },
  {
   "cell_type": "markdown",
   "metadata": {},
   "source": [
    "В звонках также без неожиданностей, с лимитом в 500 минут среднее составлят 419, а отклонение 189."
   ]
  },
  {
   "cell_type": "markdown",
   "metadata": {},
   "source": [
    "### Тариф \"Ультра\". "
   ]
  },
  {
   "cell_type": "code",
   "execution_count": 29,
   "metadata": {},
   "outputs": [
    {
     "name": "stdout",
     "output_type": "stream",
     "text": [
      "Среднее: 2070.1522842639592\n",
      "\n",
      "Стандартное отклонение: 375.9961080333192\n",
      "\n",
      "Дисперсия: 141373.07325620347\n"
     ]
    }
   ],
   "source": [
    "df_ultra = df.query('tariff == \"ultra\"')\n",
    "\n",
    "print('Среднее:', df_ultra['income'].mean())\n",
    "print()\n",
    "print('Стандартное отклонение:', np.std(df_ultra['income']))\n",
    "print()\n",
    "variance_ultra = np.var(df_ultra['income'])\n",
    "print('Дисперсия:', variance_ultra)"
   ]
  },
  {
   "cell_type": "markdown",
   "metadata": {},
   "source": [
    "Проведем те же расчеты для пользователей тарифа \"ультра\". Стандартное отклонение здесь намного меньше, чем у пользователей \"смарт\", значит можно предположить, что большинство пользователей \"ультра\" не выходят за лимиты своего тарифного плана. "
   ]
  },
  {
   "cell_type": "code",
   "execution_count": 30,
   "metadata": {},
   "outputs": [
    {
     "data": {
      "image/png": "[encoded data removed]",
      "text/plain": [
       "<Figure size 432x288 with 1 Axes>"
      ]
     },
     "metadata": {
      "needs_background": "light"
     },
     "output_type": "display_data"
    }
   ],
   "source": [
    "plt.hist(x=df_ultra['gb_used'], bins='auto')\n",
    "plt.xlabel('Количество используемых гигабайт')\n",
    "plt.ylabel('Количество человек')\n",
    "plt.title('Гистограмма используемых гигабайт интернета для тарифа ультра')\n",
    "plt.grid(True)\n",
    "plt.show;"
   ]
  },
  {
   "cell_type": "markdown",
   "metadata": {},
   "source": [
    "Теперь посмотрим на выборку пользователей тарифа \"ультра\". \n",
    "Построим гистограмму используемого интернет-трафика. Взглянув на него можно с уверенностью сказать, что очень малое количество пользователей выходят за лимиты своего тарифа и используют меньше 30 гб интернет-трафика, включенного в абонентскую плату. "
   ]
  },
  {
   "cell_type": "code",
   "execution_count": 31,
   "metadata": {},
   "outputs": [
    {
     "name": "stdout",
     "output_type": "stream",
     "text": [
      "Среднее: 19.694358974358973\n",
      "\n",
      "Стандартное отклонение: 9.697946860394463\n",
      "\n",
      "Дисперсия: 94.05017330703484\n"
     ]
    }
   ],
   "source": [
    "print('Среднее:', df_ultra['gb_used'].mean())\n",
    "print()\n",
    "print('Стандартное отклонение:', np.std(df_ultra['gb_used']))\n",
    "print()\n",
    "variance_ultra_gb = np.var(df_ultra['gb_used'])\n",
    "print('Дисперсия:', variance_ultra_gb)"
   ]
  },
  {
   "cell_type": "markdown",
   "metadata": {},
   "source": [
    "Среднее количество используемых гигабайтов трафика для пользователей \"Ультра\" составляет 18. Стандартное отклонение в 8 подтверждает нам то, что пользователей, выходящих за лимиты своего тарифного плата практически нет."
   ]
  },
  {
   "cell_type": "code",
   "execution_count": 32,
   "metadata": {},
   "outputs": [
    {
     "data": {
      "image/png": "[encoded data removed]",
      "text/plain": [
       "<Figure size 432x288 with 1 Axes>"
      ]
     },
     "metadata": {
      "needs_background": "light"
     },
     "output_type": "display_data"
    }
   ],
   "source": [
    "plt.hist(x=df_ultra['messages_amount'], bins='auto')\n",
    "plt.xlabel('Количество сообщений')\n",
    "plt.ylabel('Количество человек')\n",
    "plt.title('Гистограмма количества отправленных сообщений для тарифа ультра')\n",
    "plt.grid(True)\n",
    "plt.show;"
   ]
  },
  {
   "cell_type": "markdown",
   "metadata": {},
   "source": [
    "Построим гистограмму количества сообщений. Не смотря на лимит в 1000 сообщений, большинство пользователей \"ультра\" вполне укладываются в 60."
   ]
  },
  {
   "cell_type": "code",
   "execution_count": 33,
   "metadata": {},
   "outputs": [
    {
     "name": "stdout",
     "output_type": "stream",
     "text": [
      "Среднее: 61.161006289308176\n",
      "\n",
      "Стандартное отклонение: 45.90212983637779\n",
      "\n",
      "Дисперсия: 2107.0055235156838\n"
     ]
    }
   ],
   "source": [
    "print('Среднее:', df_ultra['messages_amount'].mean())\n",
    "print()\n",
    "print('Стандартное отклонение:', np.std(df_ultra['messages_amount']))\n",
    "print()\n",
    "variance_ultra_ms = np.var(df_ultra['messages_amount'])\n",
    "print('Дисперсия:', variance_ultra_ms)"
   ]
  },
  {
   "cell_type": "markdown",
   "metadata": {},
   "source": [
    "С сообщениями отклонение равно 45, среднее 61. С учетом лимита в 1000 можно сделать вывод, что эта услуга не пользуется спросом у пользователей тарифа \"Ультра\". "
   ]
  },
  {
   "cell_type": "code",
   "execution_count": 34,
   "metadata": {},
   "outputs": [
    {
     "data": {
      "image/png": "[encoded data removed]",
      "text/plain": [
       "<Figure size 432x288 with 1 Axes>"
      ]
     },
     "metadata": {
      "needs_background": "light"
     },
     "output_type": "display_data"
    }
   ],
   "source": [
    "plt.hist(x=df_ultra['calls_duration'], bins='auto')\n",
    "plt.xlabel('Количество минут')\n",
    "plt.ylabel('Количество человек')\n",
    "plt.title('Гистограмма длительности звонков для тарифа ультра')\n",
    "plt.grid(True)\n",
    "plt.show;"
   ]
  },
  {
   "cell_type": "markdown",
   "metadata": {},
   "source": [
    "По гистограмме продолжительности звонков ситуация примерно такая же, пользователи спокойно укладываются в лимиты своего тарифа в 3000 минут, очень малое количество пользователей выходит за рамки 750.   "
   ]
  },
  {
   "cell_type": "code",
   "execution_count": 35,
   "metadata": {},
   "outputs": [
    {
     "name": "stdout",
     "output_type": "stream",
     "text": [
      "Среднее: 545.4511041009464\n",
      "\n",
      "Стандартное отклонение: 306.7643414314314\n",
      "\n",
      "Дисперсия: 94104.36117385981\n"
     ]
    }
   ],
   "source": [
    "print('Среднее:', df_ultra['calls_duration'].mean())\n",
    "print()\n",
    "print('Стандартное отклонение:', np.std(df_ultra['calls_duration']))\n",
    "print()\n",
    "variance_ultra_calls = np.var(df_ultra['calls_duration'])\n",
    "print('Дисперсия:', variance_ultra_calls)"
   ]
  },
  {
   "cell_type": "markdown",
   "metadata": {},
   "source": [
    "Со звонками все также как и в случае с сообщениями, большинство пользователей тарифа \"Ультра\" не доходят даже до трети своего лимита в тарифном плане."
   ]
  },
  {
   "cell_type": "markdown",
   "metadata": {},
   "source": [
    "<a id='hypothesis'></a>\n",
    "## Проверка гипотез."
   ]
  },
  {
   "cell_type": "markdown",
   "metadata": {},
   "source": [
    "**Сформируем гипотезы о различии выручки пользователей разных тарифов:**\n",
    "- Нулевая гипотеза: выручка пользователей тарифов смарт и ультра равны.\n",
    "- Альтернативная гипотеза: выручка различается."
   ]
  },
  {
   "cell_type": "code",
   "execution_count": 36,
   "metadata": {},
   "outputs": [
    {
     "name": "stdout",
     "output_type": "stream",
     "text": [
      "p-значение 4.2606313931076085e-250\n",
      "Отвергаем нулевую гипотезу\n"
     ]
    }
   ],
   "source": [
    "alpha = .05\n",
    "\n",
    "results = st.ttest_ind(df_smart['income'], df_ultra['income'], equal_var = False)\n",
    "\n",
    "print('p-значение', results.pvalue)\n",
    "\n",
    "if results.pvalue < alpha:\n",
    "    print('Отвергаем нулевую гипотезу')\n",
    "else:\n",
    "    print('Не получилось отвергнуть нулевую гипотезу')"
   ]
  },
  {
   "cell_type": "markdown",
   "metadata": {},
   "source": [
    "Отвергаем нулевую гипотезу о равенстве выручки пользователей тарифов."
   ]
  },
  {
   "cell_type": "markdown",
   "metadata": {},
   "source": [
    "**Сформулируем гипотезы о выручке пользователей из Москвы и других регионов:**\n",
    "- Нулевая гипотеза: средняя выручка пользователей из Москвы НЕ отличается от выручки пользователей из других регионов;\n",
    "- Альтернативная гипотеза: средняя выручка пользователей из Москвы отличается от выручки пользователей из других регионов"
   ]
  },
  {
   "cell_type": "code",
   "execution_count": 37,
   "metadata": {},
   "outputs": [
    {
     "name": "stdout",
     "output_type": "stream",
     "text": [
      "p-значение 0.5440152911670224\n",
      "Не получилось отвергнуть нулевую гипотезу\n"
     ]
    }
   ],
   "source": [
    "moscow = df.query('city == \"Москва\"')['income']\n",
    "others = df.query('city != \"Москва\"')['income']\n",
    "\n",
    "alpha = .05\n",
    "\n",
    "results = st.ttest_ind(moscow, others)\n",
    "\n",
    "print('p-значение', results.pvalue)\n",
    "\n",
    "if results.pvalue < alpha:\n",
    "    print('Отвергаем нулевую гипотезу')\n",
    "else:\n",
    "    print('Не получилось отвергнуть нулевую гипотезу')"
   ]
  },
  {
   "cell_type": "markdown",
   "metadata": {},
   "source": [
    "Гипотезу о равенстве выручки пользователей Москвы и других регионов не отвергнута, следовательно гипотеза об отличии средней выручки пользователей из Москвы и из других регионов НЕ подтверждается."
   ]
  },
  {
   "cell_type": "markdown",
   "metadata": {},
   "source": [
    "<a id='con'></a>\n",
    "## Общий вывод"
   ]
  },
  {
   "cell_type": "markdown",
   "metadata": {},
   "source": [
    "В результате исследования мы выяснили:\n",
    "1. Пользователи тарифа \"Смарт\", в отличии от \"Ультра\", часто выходят за лимиты интернет-трафика своего тарифа и приобретают дополнительные гигабайты трафика.\n",
    "2. Услуги СМС и звонков не пользуются таким большим спросом, как интернет. Пользователи обоих тарифов в подавляющем большинстве  укладываются в свои лимиты.\n",
    "3. Пользователи тарифа \"Смарт\" часто переплачивают больше свой абонентской платы. В среднем на 1295-550 = 745 рублей, в большинстве своем вся дополнительная плата идет за счет покупки дополнительных гигабайт интернета. \n",
    "4. Выручка пользователей \"Ультра\" в среднем составляет 2071 рублей, при абонентской плате в 1950 рублей можно сделать вывод, что очень малое количество пользователей платят больше, чем стоимость их тарифа. \n",
    "\n",
    "Также были проверены две гипотезы:\n",
    "1. Средняя выручка пользователей тарифов «Ультра» и «Смарт» различаются.\n",
    "2. Средняя выручка пользователей из Москвы отличается от выручки пользователей из других регионов.\n",
    "\n",
    "Гипотеза о различии выручки пользователей тарифов подтвердилась, отличие выручки пользователей из Москвы и пользователей других регионов НЕ подтвердилась. \n",
    "\n",
    "Исходя из полученных результатов можно сделать вывод, что тариф \"Смарт\" выглядит перспективнее тарифа \"Ультра\". Я бы советовал продвигать именно его. "
   ]
  }
 ],
 "metadata": {
  "ExecuteTimeLog": [
   {
    "duration": 1292,
    "start_time": "2022-02-23T08:07:09.579Z"
   },
   {
    "duration": 544,
    "start_time": "2022-02-23T08:07:29.725Z"
   },
   {
    "duration": 26,
    "start_time": "2022-02-23T08:07:40.960Z"
   },
   {
    "duration": 20,
    "start_time": "2022-02-23T08:07:49.312Z"
   },
   {
    "duration": 13,
    "start_time": "2022-02-23T08:07:57.186Z"
   },
   {
    "duration": 13,
    "start_time": "2022-02-23T08:08:48.591Z"
   },
   {
    "duration": 14,
    "start_time": "2022-02-23T08:08:51.394Z"
   },
   {
    "duration": 24,
    "start_time": "2022-02-23T08:08:56.688Z"
   },
   {
    "duration": 359,
    "start_time": "2022-02-23T08:10:04.180Z"
   },
   {
    "duration": 348,
    "start_time": "2022-02-23T08:10:37.464Z"
   },
   {
    "duration": 453,
    "start_time": "2022-02-23T08:15:12.685Z"
   },
   {
    "duration": 402,
    "start_time": "2022-02-23T08:21:06.856Z"
   },
   {
    "duration": 1399,
    "start_time": "2022-02-23T08:21:09.582Z"
   },
   {
    "duration": 2148,
    "start_time": "2022-02-23T08:21:47.944Z"
   },
   {
    "duration": 1335,
    "start_time": "2022-02-23T08:21:53.856Z"
   },
   {
    "duration": 423,
    "start_time": "2022-02-23T08:24:39.395Z"
   },
   {
    "duration": 1455,
    "start_time": "2022-02-23T08:24:41.608Z"
   },
   {
    "duration": 486,
    "start_time": "2022-02-23T08:24:43.067Z"
   },
   {
    "duration": 119,
    "start_time": "2022-02-23T08:34:52.021Z"
   },
   {
    "duration": 15,
    "start_time": "2022-02-23T08:35:06.063Z"
   },
   {
    "duration": 35,
    "start_time": "2022-02-23T08:35:12.292Z"
   },
   {
    "duration": 92,
    "start_time": "2022-02-23T10:30:59.819Z"
   },
   {
    "duration": 142,
    "start_time": "2022-02-23T10:31:08.546Z"
   },
   {
    "duration": 217,
    "start_time": "2022-02-23T10:32:04.678Z"
   },
   {
    "duration": 644,
    "start_time": "2022-02-23T10:32:21.540Z"
   },
   {
    "duration": 567,
    "start_time": "2022-02-23T10:41:49.590Z"
   },
   {
    "duration": 669,
    "start_time": "2022-02-23T10:41:57.760Z"
   },
   {
    "duration": 36,
    "start_time": "2022-02-23T11:17:44.224Z"
   },
   {
    "duration": 11,
    "start_time": "2022-02-23T11:18:03.429Z"
   },
   {
    "duration": 15,
    "start_time": "2022-02-23T11:32:02.839Z"
   },
   {
    "duration": 518,
    "start_time": "2022-02-23T12:43:03.431Z"
   },
   {
    "duration": 519,
    "start_time": "2022-02-23T12:43:12.502Z"
   },
   {
    "duration": 746,
    "start_time": "2022-02-23T12:43:17.968Z"
   },
   {
    "duration": 358,
    "start_time": "2022-02-23T12:43:18.718Z"
   },
   {
    "duration": 356,
    "start_time": "2022-02-23T12:45:06.652Z"
   },
   {
    "duration": 530,
    "start_time": "2022-02-23T12:45:08.921Z"
   },
   {
    "duration": 649,
    "start_time": "2022-02-23T12:45:09.499Z"
   },
   {
    "duration": 1336,
    "start_time": "2022-02-23T12:45:27.199Z"
   },
   {
    "duration": 506,
    "start_time": "2022-02-23T12:45:28.537Z"
   },
   {
    "duration": 560,
    "start_time": "2022-02-23T12:45:52.253Z"
   },
   {
    "duration": 35,
    "start_time": "2022-02-23T12:45:52.816Z"
   },
   {
    "duration": 386,
    "start_time": "2022-02-23T12:46:48.252Z"
   },
   {
    "duration": 943,
    "start_time": "2022-02-23T12:48:48.231Z"
   },
   {
    "duration": 895,
    "start_time": "2022-02-23T12:48:56.138Z"
   },
   {
    "duration": 1163,
    "start_time": "2022-02-23T12:49:22.645Z"
   },
   {
    "duration": 547,
    "start_time": "2022-02-23T12:52:01.145Z"
   },
   {
    "duration": 974,
    "start_time": "2022-02-23T12:52:01.695Z"
   },
   {
    "duration": 1315,
    "start_time": "2022-02-23T12:52:07.126Z"
   },
   {
    "duration": 906,
    "start_time": "2022-02-23T12:52:08.444Z"
   },
   {
    "duration": 539,
    "start_time": "2022-02-23T12:53:57.989Z"
   },
   {
    "duration": 988,
    "start_time": "2022-02-23T12:53:58.582Z"
   },
   {
    "duration": 96,
    "start_time": "2022-02-23T12:55:34.931Z"
   },
   {
    "duration": 61,
    "start_time": "2022-02-23T12:55:46.344Z"
   },
   {
    "duration": 34,
    "start_time": "2022-02-23T12:56:16.997Z"
   },
   {
    "duration": 48,
    "start_time": "2022-02-23T12:56:20.745Z"
   },
   {
    "duration": 1394,
    "start_time": "2022-02-23T12:56:30.103Z"
   },
   {
    "duration": 50,
    "start_time": "2022-02-23T12:56:31.500Z"
   },
   {
    "duration": 106,
    "start_time": "2022-02-23T12:56:31.553Z"
   },
   {
    "duration": 41,
    "start_time": "2022-02-23T12:57:40.496Z"
   },
   {
    "duration": 35,
    "start_time": "2022-02-23T12:57:45.498Z"
   },
   {
    "duration": 49,
    "start_time": "2022-02-23T12:57:48.268Z"
   },
   {
    "duration": 41,
    "start_time": "2022-02-23T12:57:54.801Z"
   },
   {
    "duration": 32,
    "start_time": "2022-02-23T12:59:03.134Z"
   },
   {
    "duration": 491,
    "start_time": "2022-02-23T12:59:32.496Z"
   },
   {
    "duration": 1447,
    "start_time": "2022-02-23T12:59:57.385Z"
   },
   {
    "duration": 47,
    "start_time": "2022-02-23T12:59:58.835Z"
   },
   {
    "duration": 459,
    "start_time": "2022-02-23T12:59:58.886Z"
   },
   {
    "duration": -339,
    "start_time": "2022-02-23T12:59:59.687Z"
   },
   {
    "duration": -338,
    "start_time": "2022-02-23T12:59:59.688Z"
   },
   {
    "duration": 2518,
    "start_time": "2022-02-23T13:01:21.743Z"
   },
   {
    "duration": 85,
    "start_time": "2022-02-23T13:01:47.405Z"
   },
   {
    "duration": 34,
    "start_time": "2022-02-23T13:02:06.275Z"
   },
   {
    "duration": 72,
    "start_time": "2022-02-23T13:02:58.367Z"
   },
   {
    "duration": 28,
    "start_time": "2022-02-23T13:07:02.089Z"
   },
   {
    "duration": 310,
    "start_time": "2022-02-23T13:08:57.585Z"
   },
   {
    "duration": 54,
    "start_time": "2022-02-23T13:09:09.951Z"
   },
   {
    "duration": 568,
    "start_time": "2022-02-23T14:20:23.177Z"
   },
   {
    "duration": 40,
    "start_time": "2022-02-23T14:20:24.916Z"
   },
   {
    "duration": 99,
    "start_time": "2022-02-23T14:20:25.112Z"
   },
   {
    "duration": 34,
    "start_time": "2022-02-23T14:20:25.347Z"
   },
   {
    "duration": 61,
    "start_time": "2022-02-23T14:20:25.526Z"
   },
   {
    "duration": 26,
    "start_time": "2022-02-23T14:20:25.661Z"
   },
   {
    "duration": 50,
    "start_time": "2022-02-23T14:20:25.822Z"
   },
   {
    "duration": 579,
    "start_time": "2022-02-23T14:22:34.423Z"
   },
   {
    "duration": 40,
    "start_time": "2022-02-23T14:22:35.004Z"
   },
   {
    "duration": 116,
    "start_time": "2022-02-23T14:22:35.048Z"
   },
   {
    "duration": 50,
    "start_time": "2022-02-23T14:22:35.167Z"
   },
   {
    "duration": 97,
    "start_time": "2022-02-23T14:22:35.220Z"
   },
   {
    "duration": 26,
    "start_time": "2022-02-23T14:22:35.485Z"
   },
   {
    "duration": 62,
    "start_time": "2022-02-23T14:22:35.763Z"
   },
   {
    "duration": 488,
    "start_time": "2022-02-23T14:24:15.471Z"
   },
   {
    "duration": 500,
    "start_time": "2022-02-23T14:24:21.670Z"
   },
   {
    "duration": 553,
    "start_time": "2022-02-23T14:25:49.519Z"
   },
   {
    "duration": 504,
    "start_time": "2022-02-23T14:25:56.511Z"
   },
   {
    "duration": 53,
    "start_time": "2022-02-23T14:26:58.504Z"
   },
   {
    "duration": 70,
    "start_time": "2022-02-23T14:27:30.403Z"
   },
   {
    "duration": 139,
    "start_time": "2022-02-23T14:27:34.624Z"
   },
   {
    "duration": 64,
    "start_time": "2022-02-23T14:27:39.498Z"
   },
   {
    "duration": 46,
    "start_time": "2022-02-23T14:27:51.749Z"
   },
   {
    "duration": 56,
    "start_time": "2022-02-23T14:30:24.372Z"
   },
   {
    "duration": 52,
    "start_time": "2022-02-23T14:31:16.689Z"
   },
   {
    "duration": 56,
    "start_time": "2022-02-23T14:33:20.278Z"
   },
   {
    "duration": 46,
    "start_time": "2022-02-23T14:34:53.029Z"
   },
   {
    "duration": 54,
    "start_time": "2022-02-23T14:35:35.625Z"
   },
   {
    "duration": 961,
    "start_time": "2022-02-26T07:39:07.140Z"
   },
   {
    "duration": 29,
    "start_time": "2022-02-26T07:39:08.103Z"
   },
   {
    "duration": 29,
    "start_time": "2022-02-26T07:39:08.133Z"
   },
   {
    "duration": 56,
    "start_time": "2022-02-26T07:39:08.164Z"
   },
   {
    "duration": 35,
    "start_time": "2022-02-26T07:39:08.222Z"
   },
   {
    "duration": 22,
    "start_time": "2022-02-26T07:39:08.258Z"
   },
   {
    "duration": 41,
    "start_time": "2022-02-26T07:39:08.282Z"
   },
   {
    "duration": 36,
    "start_time": "2022-02-26T07:39:08.325Z"
   },
   {
    "duration": 32,
    "start_time": "2022-02-26T07:39:08.363Z"
   },
   {
    "duration": 855,
    "start_time": "2022-02-26T07:42:11.772Z"
   },
   {
    "duration": 882,
    "start_time": "2022-02-26T07:42:23.564Z"
   },
   {
    "duration": 36,
    "start_time": "2022-02-26T07:47:15.062Z"
   },
   {
    "duration": 38,
    "start_time": "2022-02-26T07:47:52.257Z"
   },
   {
    "duration": 35,
    "start_time": "2022-02-26T07:52:15.394Z"
   },
   {
    "duration": 736,
    "start_time": "2022-02-26T08:35:10.925Z"
   },
   {
    "duration": 22,
    "start_time": "2022-02-26T08:37:15.917Z"
   },
   {
    "duration": 36,
    "start_time": "2022-02-26T08:46:20.571Z"
   },
   {
    "duration": 37,
    "start_time": "2022-02-26T08:46:38.332Z"
   },
   {
    "duration": 443,
    "start_time": "2022-02-26T08:52:09.473Z"
   },
   {
    "duration": 458,
    "start_time": "2022-02-26T08:52:17.414Z"
   },
   {
    "duration": 26,
    "start_time": "2022-02-26T08:52:23.695Z"
   },
   {
    "duration": 2,
    "start_time": "2022-02-26T13:35:30.589Z"
   },
   {
    "duration": 216,
    "start_time": "2022-02-26T13:42:04.159Z"
   },
   {
    "duration": 995,
    "start_time": "2022-02-26T13:42:11.680Z"
   },
   {
    "duration": 31,
    "start_time": "2022-02-26T13:42:12.677Z"
   },
   {
    "duration": 33,
    "start_time": "2022-02-26T13:42:12.711Z"
   },
   {
    "duration": 60,
    "start_time": "2022-02-26T13:42:12.746Z"
   },
   {
    "duration": 45,
    "start_time": "2022-02-26T13:42:12.808Z"
   },
   {
    "duration": 23,
    "start_time": "2022-02-26T13:42:12.855Z"
   },
   {
    "duration": 59,
    "start_time": "2022-02-26T13:42:12.880Z"
   },
   {
    "duration": 19,
    "start_time": "2022-02-26T13:42:12.941Z"
   },
   {
    "duration": 37,
    "start_time": "2022-02-26T13:42:12.962Z"
   },
   {
    "duration": 3,
    "start_time": "2022-02-26T13:42:13.001Z"
   },
   {
    "duration": 93,
    "start_time": "2022-02-26T13:42:13.006Z"
   },
   {
    "duration": 41,
    "start_time": "2022-02-26T13:42:13.101Z"
   },
   {
    "duration": 30,
    "start_time": "2022-02-26T13:42:13.144Z"
   },
   {
    "duration": 26,
    "start_time": "2022-02-26T13:51:19.994Z"
   },
   {
    "duration": 62,
    "start_time": "2022-02-26T13:51:39.669Z"
   },
   {
    "duration": 23,
    "start_time": "2022-02-26T13:51:43.032Z"
   },
   {
    "duration": 23,
    "start_time": "2022-02-26T13:52:35.568Z"
   },
   {
    "duration": 23,
    "start_time": "2022-02-26T13:54:43.965Z"
   },
   {
    "duration": 20,
    "start_time": "2022-02-26T14:28:12.155Z"
   },
   {
    "duration": 244,
    "start_time": "2022-02-26T14:29:06.984Z"
   },
   {
    "duration": 12,
    "start_time": "2022-02-26T14:29:26.767Z"
   },
   {
    "duration": 269,
    "start_time": "2022-02-26T14:36:23.948Z"
   },
   {
    "duration": 5,
    "start_time": "2022-02-26T14:36:37.688Z"
   },
   {
    "duration": 1741,
    "start_time": "2022-02-26T14:43:35.126Z"
   },
   {
    "duration": 14,
    "start_time": "2022-02-26T14:44:49.826Z"
   },
   {
    "duration": 1203,
    "start_time": "2022-02-28T08:49:46.277Z"
   },
   {
    "duration": 45,
    "start_time": "2022-02-28T08:49:47.483Z"
   },
   {
    "duration": 58,
    "start_time": "2022-02-28T08:49:47.531Z"
   },
   {
    "duration": 97,
    "start_time": "2022-02-28T08:49:47.592Z"
   },
   {
    "duration": 41,
    "start_time": "2022-02-28T08:49:47.691Z"
   },
   {
    "duration": 52,
    "start_time": "2022-02-28T08:49:47.734Z"
   },
   {
    "duration": 62,
    "start_time": "2022-02-28T08:49:47.789Z"
   },
   {
    "duration": 41,
    "start_time": "2022-02-28T08:49:47.854Z"
   },
   {
    "duration": 50,
    "start_time": "2022-02-28T08:49:47.898Z"
   },
   {
    "duration": 51,
    "start_time": "2022-02-28T08:49:47.950Z"
   },
   {
    "duration": 22,
    "start_time": "2022-02-28T08:49:48.004Z"
   },
   {
    "duration": 23,
    "start_time": "2022-02-28T08:49:48.028Z"
   },
   {
    "duration": 101,
    "start_time": "2022-02-28T08:49:48.054Z"
   },
   {
    "duration": 60,
    "start_time": "2022-02-28T08:49:48.158Z"
   },
   {
    "duration": 39,
    "start_time": "2022-02-28T08:49:48.220Z"
   },
   {
    "duration": 53,
    "start_time": "2022-02-28T08:49:48.262Z"
   },
   {
    "duration": 82,
    "start_time": "2022-02-28T09:04:04.581Z"
   },
   {
    "duration": 32,
    "start_time": "2022-02-28T09:04:09.560Z"
   },
   {
    "duration": 33,
    "start_time": "2022-02-28T09:04:23.387Z"
   },
   {
    "duration": 58,
    "start_time": "2022-02-28T09:08:33.999Z"
   },
   {
    "duration": 911,
    "start_time": "2022-02-28T09:08:44.820Z"
   },
   {
    "duration": 66,
    "start_time": "2022-02-28T09:09:02.124Z"
   },
   {
    "duration": 1245,
    "start_time": "2022-02-28T09:10:04.290Z"
   },
   {
    "duration": 45,
    "start_time": "2022-02-28T09:10:05.538Z"
   },
   {
    "duration": 43,
    "start_time": "2022-02-28T09:10:05.586Z"
   },
   {
    "duration": 105,
    "start_time": "2022-02-28T09:10:05.632Z"
   },
   {
    "duration": 65,
    "start_time": "2022-02-28T09:10:05.740Z"
   },
   {
    "duration": 41,
    "start_time": "2022-02-28T09:10:05.808Z"
   },
   {
    "duration": 98,
    "start_time": "2022-02-28T09:10:05.851Z"
   },
   {
    "duration": 44,
    "start_time": "2022-02-28T09:10:05.952Z"
   },
   {
    "duration": 51,
    "start_time": "2022-02-28T09:10:06.001Z"
   },
   {
    "duration": 49,
    "start_time": "2022-02-28T09:10:06.055Z"
   },
   {
    "duration": 25,
    "start_time": "2022-02-28T09:10:06.107Z"
   },
   {
    "duration": 54,
    "start_time": "2022-02-28T09:10:06.135Z"
   },
   {
    "duration": 96,
    "start_time": "2022-02-28T09:10:06.191Z"
   },
   {
    "duration": 43,
    "start_time": "2022-02-28T09:10:06.289Z"
   },
   {
    "duration": 65,
    "start_time": "2022-02-28T09:10:06.335Z"
   },
   {
    "duration": 38,
    "start_time": "2022-02-28T09:10:06.404Z"
   },
   {
    "duration": 95,
    "start_time": "2022-02-28T09:10:06.444Z"
   },
   {
    "duration": 69,
    "start_time": "2022-02-28T09:12:49.148Z"
   },
   {
    "duration": 63,
    "start_time": "2022-02-28T09:13:13.287Z"
   },
   {
    "duration": 61,
    "start_time": "2022-02-28T09:13:19.071Z"
   },
   {
    "duration": 64,
    "start_time": "2022-02-28T09:14:34.477Z"
   },
   {
    "duration": 64,
    "start_time": "2022-02-28T09:16:24.995Z"
   },
   {
    "duration": 40,
    "start_time": "2022-02-28T09:16:48.482Z"
   },
   {
    "duration": 5405,
    "start_time": "2022-02-28T09:17:18.893Z"
   },
   {
    "duration": 1261,
    "start_time": "2022-02-28T09:17:39.682Z"
   },
   {
    "duration": 47,
    "start_time": "2022-02-28T09:17:40.946Z"
   },
   {
    "duration": 46,
    "start_time": "2022-02-28T09:17:40.998Z"
   },
   {
    "duration": 105,
    "start_time": "2022-02-28T09:17:41.047Z"
   },
   {
    "duration": 53,
    "start_time": "2022-02-28T09:17:41.155Z"
   },
   {
    "duration": 30,
    "start_time": "2022-02-28T09:17:41.210Z"
   },
   {
    "duration": 85,
    "start_time": "2022-02-28T09:17:41.243Z"
   },
   {
    "duration": 24,
    "start_time": "2022-02-28T09:17:41.330Z"
   },
   {
    "duration": 64,
    "start_time": "2022-02-28T09:17:41.358Z"
   },
   {
    "duration": 25,
    "start_time": "2022-02-28T09:17:41.425Z"
   },
   {
    "duration": 46,
    "start_time": "2022-02-28T09:17:41.453Z"
   },
   {
    "duration": 27,
    "start_time": "2022-02-28T09:17:41.501Z"
   },
   {
    "duration": 96,
    "start_time": "2022-02-28T09:17:41.531Z"
   },
   {
    "duration": 41,
    "start_time": "2022-02-28T09:17:41.630Z"
   },
   {
    "duration": 6591,
    "start_time": "2022-02-28T09:17:41.687Z"
   },
   {
    "duration": -284,
    "start_time": "2022-02-28T09:17:48.564Z"
   },
   {
    "duration": -285,
    "start_time": "2022-02-28T09:17:48.567Z"
   },
   {
    "duration": 74,
    "start_time": "2022-02-28T09:21:28.205Z"
   },
   {
    "duration": 23,
    "start_time": "2022-02-28T09:21:30.995Z"
   },
   {
    "duration": 5418,
    "start_time": "2022-02-28T09:23:14.976Z"
   },
   {
    "duration": 72,
    "start_time": "2022-02-28T09:23:23.710Z"
   },
   {
    "duration": 38,
    "start_time": "2022-02-28T09:23:43.937Z"
   },
   {
    "duration": 249,
    "start_time": "2022-02-28T09:23:47.590Z"
   },
   {
    "duration": 41,
    "start_time": "2022-02-28T09:23:51.954Z"
   },
   {
    "duration": 65,
    "start_time": "2022-02-28T09:23:53.067Z"
   },
   {
    "duration": 12,
    "start_time": "2022-02-28T09:26:28.285Z"
   },
   {
    "duration": 9,
    "start_time": "2022-02-28T09:27:27.199Z"
   },
   {
    "duration": 26,
    "start_time": "2022-02-28T09:27:37.509Z"
   },
   {
    "duration": 27,
    "start_time": "2022-02-28T09:28:24.670Z"
   },
   {
    "duration": 25,
    "start_time": "2022-02-28T09:28:31.389Z"
   },
   {
    "duration": 29,
    "start_time": "2022-02-28T09:28:35.969Z"
   },
   {
    "duration": 953,
    "start_time": "2022-02-28T11:03:50.367Z"
   },
   {
    "duration": 72,
    "start_time": "2022-02-28T11:04:03.037Z"
   },
   {
    "duration": 76,
    "start_time": "2022-02-28T11:04:31.123Z"
   },
   {
    "duration": 41,
    "start_time": "2022-02-28T11:04:48.635Z"
   },
   {
    "duration": 878,
    "start_time": "2022-02-28T11:05:09.938Z"
   },
   {
    "duration": 40,
    "start_time": "2022-02-28T11:05:30.572Z"
   },
   {
    "duration": 29,
    "start_time": "2022-02-28T11:05:38.316Z"
   },
   {
    "duration": 64,
    "start_time": "2022-02-28T11:05:42.913Z"
   },
   {
    "duration": 67,
    "start_time": "2022-02-28T11:05:57.544Z"
   },
   {
    "duration": 5736,
    "start_time": "2022-02-28T11:06:25.801Z"
   },
   {
    "duration": 5915,
    "start_time": "2022-02-28T11:06:53.739Z"
   },
   {
    "duration": 29,
    "start_time": "2022-02-28T11:07:09.368Z"
   },
   {
    "duration": 13,
    "start_time": "2022-02-28T11:25:57.038Z"
   },
   {
    "duration": 83,
    "start_time": "2022-02-28T11:49:27.623Z"
   },
   {
    "duration": 6529,
    "start_time": "2022-02-28T11:49:32.063Z"
   },
   {
    "duration": 6475,
    "start_time": "2022-02-28T11:50:31.965Z"
   },
   {
    "duration": 7200,
    "start_time": "2022-02-28T11:58:01.241Z"
   },
   {
    "duration": 11,
    "start_time": "2022-02-28T12:00:04.160Z"
   },
   {
    "duration": 7460,
    "start_time": "2022-02-28T12:01:12.661Z"
   },
   {
    "duration": 1195,
    "start_time": "2022-02-28T12:01:41.938Z"
   },
   {
    "duration": 46,
    "start_time": "2022-02-28T12:01:43.135Z"
   },
   {
    "duration": 45,
    "start_time": "2022-02-28T12:01:43.184Z"
   },
   {
    "duration": 107,
    "start_time": "2022-02-28T12:01:43.232Z"
   },
   {
    "duration": 55,
    "start_time": "2022-02-28T12:01:43.342Z"
   },
   {
    "duration": 32,
    "start_time": "2022-02-28T12:01:43.399Z"
   },
   {
    "duration": 88,
    "start_time": "2022-02-28T12:01:43.433Z"
   },
   {
    "duration": 25,
    "start_time": "2022-02-28T12:01:43.524Z"
   },
   {
    "duration": 70,
    "start_time": "2022-02-28T12:01:43.553Z"
   },
   {
    "duration": 24,
    "start_time": "2022-02-28T12:01:43.626Z"
   },
   {
    "duration": 46,
    "start_time": "2022-02-28T12:01:43.653Z"
   },
   {
    "duration": 10,
    "start_time": "2022-02-28T12:01:43.701Z"
   },
   {
    "duration": 95,
    "start_time": "2022-02-28T12:01:43.713Z"
   },
   {
    "duration": 42,
    "start_time": "2022-02-28T12:01:43.811Z"
   },
   {
    "duration": 59,
    "start_time": "2022-02-28T12:01:43.855Z"
   },
   {
    "duration": 27,
    "start_time": "2022-02-28T12:01:43.917Z"
   },
   {
    "duration": 89,
    "start_time": "2022-02-28T12:01:43.946Z"
   },
   {
    "duration": 29,
    "start_time": "2022-02-28T12:01:44.038Z"
   },
   {
    "duration": 23,
    "start_time": "2022-02-28T12:01:44.069Z"
   },
   {
    "duration": 300,
    "start_time": "2022-02-28T12:01:44.095Z"
   },
   {
    "duration": 272,
    "start_time": "2022-02-28T12:03:40.330Z"
   },
   {
    "duration": 38,
    "start_time": "2022-02-28T12:18:32.936Z"
   },
   {
    "duration": 356,
    "start_time": "2022-02-28T12:27:05.368Z"
   },
   {
    "duration": 96,
    "start_time": "2022-02-28T12:27:49.239Z"
   },
   {
    "duration": 8,
    "start_time": "2022-02-28T12:28:00.263Z"
   },
   {
    "duration": 14,
    "start_time": "2022-02-28T12:28:39.569Z"
   },
   {
    "duration": 12,
    "start_time": "2022-02-28T12:30:03.248Z"
   },
   {
    "duration": 14,
    "start_time": "2022-02-28T12:30:11.585Z"
   },
   {
    "duration": 5,
    "start_time": "2022-02-28T12:30:16.494Z"
   },
   {
    "duration": 5,
    "start_time": "2022-02-28T12:30:42.480Z"
   },
   {
    "duration": 11,
    "start_time": "2022-02-28T12:31:02.589Z"
   },
   {
    "duration": 11,
    "start_time": "2022-02-28T12:31:36.917Z"
   },
   {
    "duration": 250,
    "start_time": "2022-02-28T12:31:55.157Z"
   },
   {
    "duration": 12,
    "start_time": "2022-02-28T12:32:00.934Z"
   },
   {
    "duration": 12,
    "start_time": "2022-02-28T12:34:40.626Z"
   },
   {
    "duration": 12,
    "start_time": "2022-02-28T12:34:47.341Z"
   },
   {
    "duration": 11,
    "start_time": "2022-02-28T12:38:42.911Z"
   },
   {
    "duration": 12,
    "start_time": "2022-02-28T12:38:51.201Z"
   },
   {
    "duration": 224,
    "start_time": "2022-02-28T12:41:52.049Z"
   },
   {
    "duration": 234,
    "start_time": "2022-02-28T12:42:05.973Z"
   },
   {
    "duration": 15,
    "start_time": "2022-02-28T12:42:37.076Z"
   },
   {
    "duration": 14,
    "start_time": "2022-02-28T12:48:39.036Z"
   },
   {
    "duration": 587,
    "start_time": "2022-02-28T13:31:29.004Z"
   },
   {
    "duration": 299,
    "start_time": "2022-02-28T13:36:18.211Z"
   },
   {
    "duration": 377,
    "start_time": "2022-02-28T13:36:41.866Z"
   },
   {
    "duration": 312,
    "start_time": "2022-02-28T13:37:12.228Z"
   },
   {
    "duration": 350,
    "start_time": "2022-02-28T13:40:32.015Z"
   },
   {
    "duration": 246,
    "start_time": "2022-02-28T13:41:40.488Z"
   },
   {
    "duration": 395,
    "start_time": "2022-02-28T13:41:49.295Z"
   },
   {
    "duration": 6594,
    "start_time": "2022-02-28T13:42:48.738Z"
   },
   {
    "duration": 312,
    "start_time": "2022-02-28T13:43:02.502Z"
   },
   {
    "duration": 360,
    "start_time": "2022-02-28T13:44:11.796Z"
   },
   {
    "duration": 350,
    "start_time": "2022-02-28T13:45:59.623Z"
   },
   {
    "duration": 387,
    "start_time": "2022-02-28T13:48:30.637Z"
   },
   {
    "duration": 392,
    "start_time": "2022-02-28T13:48:51.068Z"
   },
   {
    "duration": 280,
    "start_time": "2022-02-28T13:52:00.352Z"
   },
   {
    "duration": 323,
    "start_time": "2022-02-28T13:52:59.598Z"
   },
   {
    "duration": 349,
    "start_time": "2022-02-28T13:53:45.404Z"
   },
   {
    "duration": 382,
    "start_time": "2022-02-28T13:54:58.463Z"
   },
   {
    "duration": 319,
    "start_time": "2022-02-28T13:55:03.656Z"
   },
   {
    "duration": 368,
    "start_time": "2022-02-28T13:55:07.536Z"
   },
   {
    "duration": 387,
    "start_time": "2022-02-28T13:55:16.254Z"
   },
   {
    "duration": 316,
    "start_time": "2022-02-28T13:56:04.161Z"
   },
   {
    "duration": 280,
    "start_time": "2022-02-28T13:57:14.722Z"
   },
   {
    "duration": 338,
    "start_time": "2022-02-28T13:58:10.152Z"
   },
   {
    "duration": 957,
    "start_time": "2022-03-01T10:03:00.069Z"
   },
   {
    "duration": 30,
    "start_time": "2022-03-01T10:03:01.028Z"
   },
   {
    "duration": 33,
    "start_time": "2022-03-01T10:03:01.060Z"
   },
   {
    "duration": 82,
    "start_time": "2022-03-01T10:03:01.095Z"
   },
   {
    "duration": 29,
    "start_time": "2022-03-01T10:03:01.178Z"
   },
   {
    "duration": 33,
    "start_time": "2022-03-01T10:03:01.209Z"
   },
   {
    "duration": 57,
    "start_time": "2022-03-01T10:03:01.244Z"
   },
   {
    "duration": 31,
    "start_time": "2022-03-01T10:03:01.303Z"
   },
   {
    "duration": 35,
    "start_time": "2022-03-01T10:03:01.336Z"
   },
   {
    "duration": 17,
    "start_time": "2022-03-01T10:03:01.373Z"
   },
   {
    "duration": 13,
    "start_time": "2022-03-01T10:03:01.391Z"
   },
   {
    "duration": 30,
    "start_time": "2022-03-01T10:03:01.406Z"
   },
   {
    "duration": 55,
    "start_time": "2022-03-01T10:03:01.437Z"
   },
   {
    "duration": 50,
    "start_time": "2022-03-01T10:03:01.493Z"
   },
   {
    "duration": 28,
    "start_time": "2022-03-01T10:03:01.545Z"
   },
   {
    "duration": 17,
    "start_time": "2022-03-01T10:03:01.575Z"
   },
   {
    "duration": 61,
    "start_time": "2022-03-01T10:03:01.593Z"
   },
   {
    "duration": 17,
    "start_time": "2022-03-01T10:03:01.656Z"
   },
   {
    "duration": 7,
    "start_time": "2022-03-01T10:03:01.675Z"
   },
   {
    "duration": 179,
    "start_time": "2022-03-01T10:03:01.684Z"
   },
   {
    "duration": 2836,
    "start_time": "2022-03-01T10:03:01.865Z"
   },
   {
    "duration": -526,
    "start_time": "2022-03-01T10:03:05.229Z"
   },
   {
    "duration": -526,
    "start_time": "2022-03-01T10:03:05.230Z"
   },
   {
    "duration": -530,
    "start_time": "2022-03-01T10:03:05.234Z"
   },
   {
    "duration": -530,
    "start_time": "2022-03-01T10:03:05.235Z"
   },
   {
    "duration": -530,
    "start_time": "2022-03-01T10:03:05.236Z"
   },
   {
    "duration": -529,
    "start_time": "2022-03-01T10:03:05.236Z"
   },
   {
    "duration": -529,
    "start_time": "2022-03-01T10:03:05.237Z"
   },
   {
    "duration": 10,
    "start_time": "2022-03-01T10:03:19.769Z"
   },
   {
    "duration": 345,
    "start_time": "2022-03-01T10:03:24.170Z"
   },
   {
    "duration": 24,
    "start_time": "2022-03-01T10:03:24.517Z"
   },
   {
    "duration": 25,
    "start_time": "2022-03-01T10:03:24.543Z"
   },
   {
    "duration": 68,
    "start_time": "2022-03-01T10:03:24.570Z"
   },
   {
    "duration": 27,
    "start_time": "2022-03-01T10:03:24.640Z"
   },
   {
    "duration": 20,
    "start_time": "2022-03-01T10:03:24.668Z"
   },
   {
    "duration": 67,
    "start_time": "2022-03-01T10:03:24.689Z"
   },
   {
    "duration": 16,
    "start_time": "2022-03-01T10:03:24.757Z"
   },
   {
    "duration": 32,
    "start_time": "2022-03-01T10:03:24.776Z"
   },
   {
    "duration": 33,
    "start_time": "2022-03-01T10:03:24.810Z"
   },
   {
    "duration": 15,
    "start_time": "2022-03-01T10:03:24.845Z"
   },
   {
    "duration": 6,
    "start_time": "2022-03-01T10:03:24.861Z"
   },
   {
    "duration": 65,
    "start_time": "2022-03-01T10:03:24.869Z"
   },
   {
    "duration": 25,
    "start_time": "2022-03-01T10:03:24.936Z"
   },
   {
    "duration": 28,
    "start_time": "2022-03-01T10:03:24.963Z"
   },
   {
    "duration": 44,
    "start_time": "2022-03-01T10:03:24.993Z"
   },
   {
    "duration": 41,
    "start_time": "2022-03-01T10:03:25.039Z"
   },
   {
    "duration": 16,
    "start_time": "2022-03-01T10:03:25.081Z"
   },
   {
    "duration": 7,
    "start_time": "2022-03-01T10:03:25.099Z"
   },
   {
    "duration": 189,
    "start_time": "2022-03-01T10:03:25.108Z"
   },
   {
    "duration": 11,
    "start_time": "2022-03-01T10:03:25.298Z"
   },
   {
    "duration": 27,
    "start_time": "2022-03-01T10:03:25.311Z"
   },
   {
    "duration": 237,
    "start_time": "2022-03-01T10:03:25.340Z"
   },
   {
    "duration": 261,
    "start_time": "2022-03-01T10:03:25.579Z"
   },
   {
    "duration": 241,
    "start_time": "2022-03-01T10:03:25.842Z"
   },
   {
    "duration": 196,
    "start_time": "2022-03-01T10:03:26.085Z"
   },
   {
    "duration": 190,
    "start_time": "2022-03-01T10:03:26.285Z"
   },
   {
    "duration": 199,
    "start_time": "2022-03-01T10:03:26.477Z"
   },
   {
    "duration": 726,
    "start_time": "2022-03-01T10:21:44.187Z"
   },
   {
    "duration": 2,
    "start_time": "2022-03-01T10:24:18.701Z"
   },
   {
    "duration": 59,
    "start_time": "2022-03-01T10:27:18.880Z"
   },
   {
    "duration": 216,
    "start_time": "2022-03-01T10:27:27.011Z"
   },
   {
    "duration": 191,
    "start_time": "2022-03-01T10:27:37.979Z"
   },
   {
    "duration": 6,
    "start_time": "2022-03-01T10:28:13.840Z"
   },
   {
    "duration": 5,
    "start_time": "2022-03-01T10:28:17.600Z"
   },
   {
    "duration": 179,
    "start_time": "2022-03-01T10:29:07.468Z"
   },
   {
    "duration": 5,
    "start_time": "2022-03-01T10:29:19.492Z"
   },
   {
    "duration": 6,
    "start_time": "2022-03-01T10:31:48.860Z"
   },
   {
    "duration": 5,
    "start_time": "2022-03-01T10:32:13.405Z"
   },
   {
    "duration": 6,
    "start_time": "2022-03-01T10:34:56.053Z"
   },
   {
    "duration": 6,
    "start_time": "2022-03-01T10:35:08.466Z"
   },
   {
    "duration": 6,
    "start_time": "2022-03-01T10:35:10.104Z"
   },
   {
    "duration": 5,
    "start_time": "2022-03-01T10:35:26.953Z"
   },
   {
    "duration": 5,
    "start_time": "2022-03-01T10:35:30.812Z"
   },
   {
    "duration": 7,
    "start_time": "2022-03-01T10:37:37.106Z"
   },
   {
    "duration": 1266,
    "start_time": "2022-03-01T10:38:52.398Z"
   },
   {
    "duration": 26,
    "start_time": "2022-03-01T10:38:53.667Z"
   },
   {
    "duration": 31,
    "start_time": "2022-03-01T10:38:53.695Z"
   },
   {
    "duration": 60,
    "start_time": "2022-03-01T10:38:53.728Z"
   },
   {
    "duration": 28,
    "start_time": "2022-03-01T10:38:53.790Z"
   },
   {
    "duration": 35,
    "start_time": "2022-03-01T10:38:53.819Z"
   },
   {
    "duration": 42,
    "start_time": "2022-03-01T10:38:53.855Z"
   },
   {
    "duration": 38,
    "start_time": "2022-03-01T10:38:53.899Z"
   },
   {
    "duration": 33,
    "start_time": "2022-03-01T10:38:53.940Z"
   },
   {
    "duration": 15,
    "start_time": "2022-03-01T10:38:53.975Z"
   },
   {
    "duration": 15,
    "start_time": "2022-03-01T10:38:53.991Z"
   },
   {
    "duration": 33,
    "start_time": "2022-03-01T10:38:54.008Z"
   },
   {
    "duration": 56,
    "start_time": "2022-03-01T10:38:54.042Z"
   },
   {
    "duration": 38,
    "start_time": "2022-03-01T10:38:54.100Z"
   },
   {
    "duration": 27,
    "start_time": "2022-03-01T10:38:54.140Z"
   },
   {
    "duration": 18,
    "start_time": "2022-03-01T10:38:54.168Z"
   },
   {
    "duration": 59,
    "start_time": "2022-03-01T10:38:54.187Z"
   },
   {
    "duration": 16,
    "start_time": "2022-03-01T10:38:54.248Z"
   },
   {
    "duration": 7,
    "start_time": "2022-03-01T10:38:54.266Z"
   },
   {
    "duration": 174,
    "start_time": "2022-03-01T10:38:54.274Z"
   },
   {
    "duration": 10,
    "start_time": "2022-03-01T10:38:54.449Z"
   },
   {
    "duration": 9,
    "start_time": "2022-03-01T10:38:54.461Z"
   },
   {
    "duration": 247,
    "start_time": "2022-03-01T10:38:54.472Z"
   },
   {
    "duration": 225,
    "start_time": "2022-03-01T10:38:54.721Z"
   },
   {
    "duration": 243,
    "start_time": "2022-03-01T10:38:54.947Z"
   },
   {
    "duration": 198,
    "start_time": "2022-03-01T10:38:55.192Z"
   },
   {
    "duration": 190,
    "start_time": "2022-03-01T10:38:55.393Z"
   },
   {
    "duration": 202,
    "start_time": "2022-03-01T10:38:55.585Z"
   },
   {
    "duration": 254,
    "start_time": "2022-03-01T10:38:55.788Z"
   },
   {
    "duration": 288,
    "start_time": "2022-03-01T10:39:02.660Z"
   },
   {
    "duration": 5,
    "start_time": "2022-03-01T10:39:09.699Z"
   },
   {
    "duration": 1382,
    "start_time": "2022-03-01T10:39:15.974Z"
   },
   {
    "duration": 28,
    "start_time": "2022-03-01T10:39:17.358Z"
   },
   {
    "duration": 31,
    "start_time": "2022-03-01T10:39:17.388Z"
   },
   {
    "duration": 61,
    "start_time": "2022-03-01T10:39:17.421Z"
   },
   {
    "duration": 27,
    "start_time": "2022-03-01T10:39:17.484Z"
   },
   {
    "duration": 38,
    "start_time": "2022-03-01T10:39:17.513Z"
   },
   {
    "duration": 42,
    "start_time": "2022-03-01T10:39:17.553Z"
   },
   {
    "duration": 38,
    "start_time": "2022-03-01T10:39:17.597Z"
   },
   {
    "duration": 38,
    "start_time": "2022-03-01T10:39:17.638Z"
   },
   {
    "duration": 19,
    "start_time": "2022-03-01T10:39:17.679Z"
   },
   {
    "duration": 41,
    "start_time": "2022-03-01T10:39:17.700Z"
   },
   {
    "duration": 8,
    "start_time": "2022-03-01T10:39:17.743Z"
   },
   {
    "duration": 52,
    "start_time": "2022-03-01T10:39:17.753Z"
   },
   {
    "duration": 47,
    "start_time": "2022-03-01T10:39:17.807Z"
   },
   {
    "duration": 27,
    "start_time": "2022-03-01T10:39:17.855Z"
   },
   {
    "duration": 17,
    "start_time": "2022-03-01T10:39:17.884Z"
   },
   {
    "duration": 63,
    "start_time": "2022-03-01T10:39:17.902Z"
   },
   {
    "duration": 18,
    "start_time": "2022-03-01T10:39:17.967Z"
   },
   {
    "duration": 6,
    "start_time": "2022-03-01T10:39:17.986Z"
   },
   {
    "duration": 185,
    "start_time": "2022-03-01T10:39:17.994Z"
   },
   {
    "duration": 11,
    "start_time": "2022-03-01T10:39:18.181Z"
   },
   {
    "duration": 9,
    "start_time": "2022-03-01T10:39:18.194Z"
   },
   {
    "duration": 254,
    "start_time": "2022-03-01T10:39:18.205Z"
   },
   {
    "duration": 214,
    "start_time": "2022-03-01T10:39:18.461Z"
   },
   {
    "duration": 238,
    "start_time": "2022-03-01T10:39:18.677Z"
   },
   {
    "duration": 202,
    "start_time": "2022-03-01T10:39:18.916Z"
   },
   {
    "duration": 198,
    "start_time": "2022-03-01T10:39:19.120Z"
   },
   {
    "duration": 194,
    "start_time": "2022-03-01T10:39:19.319Z"
   },
   {
    "duration": 6,
    "start_time": "2022-03-01T10:39:19.514Z"
   },
   {
    "duration": 5,
    "start_time": "2022-03-01T10:40:45.760Z"
   },
   {
    "duration": 5,
    "start_time": "2022-03-01T10:40:57.866Z"
   },
   {
    "duration": 5,
    "start_time": "2022-03-01T10:41:04.402Z"
   },
   {
    "duration": 6,
    "start_time": "2022-03-01T10:41:17.781Z"
   },
   {
    "duration": 5,
    "start_time": "2022-03-01T10:46:11.897Z"
   },
   {
    "duration": 6,
    "start_time": "2022-03-01T10:46:18.609Z"
   },
   {
    "duration": 5,
    "start_time": "2022-03-01T10:52:13.622Z"
   },
   {
    "duration": 8,
    "start_time": "2022-03-01T10:52:57.254Z"
   },
   {
    "duration": 330,
    "start_time": "2022-03-01T10:56:09.272Z"
   },
   {
    "duration": 14,
    "start_time": "2022-03-01T10:56:47.742Z"
   },
   {
    "duration": 96,
    "start_time": "2022-03-01T10:59:16.669Z"
   },
   {
    "duration": 67,
    "start_time": "2022-03-01T14:21:39.644Z"
   },
   {
    "duration": 86,
    "start_time": "2022-03-01T14:22:04.208Z"
   },
   {
    "duration": 62,
    "start_time": "2022-03-01T14:22:16.929Z"
   },
   {
    "duration": 1317,
    "start_time": "2022-03-01T14:25:15.151Z"
   },
   {
    "duration": 56,
    "start_time": "2022-03-01T14:25:16.470Z"
   },
   {
    "duration": -512,
    "start_time": "2022-03-01T14:25:17.040Z"
   },
   {
    "duration": -513,
    "start_time": "2022-03-01T14:25:17.042Z"
   },
   {
    "duration": -512,
    "start_time": "2022-03-01T14:25:17.043Z"
   },
   {
    "duration": -518,
    "start_time": "2022-03-01T14:25:17.049Z"
   },
   {
    "duration": -520,
    "start_time": "2022-03-01T14:25:17.052Z"
   },
   {
    "duration": -520,
    "start_time": "2022-03-01T14:25:17.053Z"
   },
   {
    "duration": -520,
    "start_time": "2022-03-01T14:25:17.054Z"
   },
   {
    "duration": -520,
    "start_time": "2022-03-01T14:25:17.055Z"
   },
   {
    "duration": -521,
    "start_time": "2022-03-01T14:25:17.057Z"
   },
   {
    "duration": -521,
    "start_time": "2022-03-01T14:25:17.058Z"
   },
   {
    "duration": -520,
    "start_time": "2022-03-01T14:25:17.058Z"
   },
   {
    "duration": -520,
    "start_time": "2022-03-01T14:25:17.059Z"
   },
   {
    "duration": -520,
    "start_time": "2022-03-01T14:25:17.060Z"
   },
   {
    "duration": -520,
    "start_time": "2022-03-01T14:25:17.061Z"
   },
   {
    "duration": -520,
    "start_time": "2022-03-01T14:25:17.062Z"
   },
   {
    "duration": -519,
    "start_time": "2022-03-01T14:25:17.062Z"
   },
   {
    "duration": -526,
    "start_time": "2022-03-01T14:25:17.070Z"
   },
   {
    "duration": -526,
    "start_time": "2022-03-01T14:25:17.071Z"
   },
   {
    "duration": -527,
    "start_time": "2022-03-01T14:25:17.072Z"
   },
   {
    "duration": -526,
    "start_time": "2022-03-01T14:25:17.073Z"
   },
   {
    "duration": -527,
    "start_time": "2022-03-01T14:25:17.075Z"
   },
   {
    "duration": -527,
    "start_time": "2022-03-01T14:25:17.076Z"
   },
   {
    "duration": -529,
    "start_time": "2022-03-01T14:25:17.078Z"
   },
   {
    "duration": -529,
    "start_time": "2022-03-01T14:25:17.079Z"
   },
   {
    "duration": -529,
    "start_time": "2022-03-01T14:25:17.080Z"
   },
   {
    "duration": -530,
    "start_time": "2022-03-01T14:25:17.082Z"
   },
   {
    "duration": -530,
    "start_time": "2022-03-01T14:25:17.083Z"
   },
   {
    "duration": -530,
    "start_time": "2022-03-01T14:25:17.084Z"
   },
   {
    "duration": 1332,
    "start_time": "2022-03-01T14:28:13.041Z"
   },
   {
    "duration": 29,
    "start_time": "2022-03-01T14:28:14.375Z"
   },
   {
    "duration": 31,
    "start_time": "2022-03-01T14:28:14.407Z"
   },
   {
    "duration": 67,
    "start_time": "2022-03-01T14:28:14.440Z"
   },
   {
    "duration": 44,
    "start_time": "2022-03-01T14:28:14.509Z"
   },
   {
    "duration": 20,
    "start_time": "2022-03-01T14:28:14.555Z"
   },
   {
    "duration": 58,
    "start_time": "2022-03-01T14:28:14.577Z"
   },
   {
    "duration": 19,
    "start_time": "2022-03-01T14:28:14.637Z"
   },
   {
    "duration": 34,
    "start_time": "2022-03-01T14:28:14.659Z"
   },
   {
    "duration": 58,
    "start_time": "2022-03-01T14:28:14.695Z"
   },
   {
    "duration": -501,
    "start_time": "2022-03-01T14:28:15.256Z"
   },
   {
    "duration": -502,
    "start_time": "2022-03-01T14:28:15.258Z"
   },
   {
    "duration": -512,
    "start_time": "2022-03-01T14:28:15.269Z"
   },
   {
    "duration": -513,
    "start_time": "2022-03-01T14:28:15.271Z"
   },
   {
    "duration": -518,
    "start_time": "2022-03-01T14:28:15.276Z"
   },
   {
    "duration": -520,
    "start_time": "2022-03-01T14:28:15.279Z"
   },
   {
    "duration": -520,
    "start_time": "2022-03-01T14:28:15.280Z"
   },
   {
    "duration": -520,
    "start_time": "2022-03-01T14:28:15.281Z"
   },
   {
    "duration": -520,
    "start_time": "2022-03-01T14:28:15.282Z"
   },
   {
    "duration": -521,
    "start_time": "2022-03-01T14:28:15.283Z"
   },
   {
    "duration": -522,
    "start_time": "2022-03-01T14:28:15.285Z"
   },
   {
    "duration": -528,
    "start_time": "2022-03-01T14:28:15.292Z"
   },
   {
    "duration": -528,
    "start_time": "2022-03-01T14:28:15.293Z"
   },
   {
    "duration": -528,
    "start_time": "2022-03-01T14:28:15.294Z"
   },
   {
    "duration": -528,
    "start_time": "2022-03-01T14:28:15.295Z"
   },
   {
    "duration": -528,
    "start_time": "2022-03-01T14:28:15.296Z"
   },
   {
    "duration": -528,
    "start_time": "2022-03-01T14:28:15.297Z"
   },
   {
    "duration": -531,
    "start_time": "2022-03-01T14:28:15.300Z"
   },
   {
    "duration": -531,
    "start_time": "2022-03-01T14:28:15.301Z"
   },
   {
    "duration": -531,
    "start_time": "2022-03-01T14:28:15.302Z"
   },
   {
    "duration": -531,
    "start_time": "2022-03-01T14:28:15.303Z"
   },
   {
    "duration": 1328,
    "start_time": "2022-03-01T14:28:51.742Z"
   },
   {
    "duration": 31,
    "start_time": "2022-03-01T14:28:53.072Z"
   },
   {
    "duration": 34,
    "start_time": "2022-03-01T14:28:53.109Z"
   },
   {
    "duration": 61,
    "start_time": "2022-03-01T14:28:53.145Z"
   },
   {
    "duration": 47,
    "start_time": "2022-03-01T14:28:53.208Z"
   },
   {
    "duration": 22,
    "start_time": "2022-03-01T14:28:53.257Z"
   },
   {
    "duration": 64,
    "start_time": "2022-03-01T14:28:53.281Z"
   },
   {
    "duration": 19,
    "start_time": "2022-03-01T14:28:53.349Z"
   },
   {
    "duration": 35,
    "start_time": "2022-03-01T14:28:53.370Z"
   },
   {
    "duration": 38,
    "start_time": "2022-03-01T14:28:53.407Z"
   },
   {
    "duration": 16,
    "start_time": "2022-03-01T14:28:53.447Z"
   },
   {
    "duration": 7,
    "start_time": "2022-03-01T14:28:53.464Z"
   },
   {
    "duration": 77,
    "start_time": "2022-03-01T14:28:53.473Z"
   },
   {
    "duration": 26,
    "start_time": "2022-03-01T14:28:53.551Z"
   },
   {
    "duration": 28,
    "start_time": "2022-03-01T14:28:53.579Z"
   },
   {
    "duration": 40,
    "start_time": "2022-03-01T14:28:53.608Z"
   },
   {
    "duration": 39,
    "start_time": "2022-03-01T14:28:53.649Z"
   },
   {
    "duration": 16,
    "start_time": "2022-03-01T14:28:53.690Z"
   },
   {
    "duration": 26,
    "start_time": "2022-03-01T14:28:53.708Z"
   },
   {
    "duration": 159,
    "start_time": "2022-03-01T14:28:53.735Z"
   },
   {
    "duration": 10,
    "start_time": "2022-03-01T14:28:53.895Z"
   },
   {
    "duration": 27,
    "start_time": "2022-03-01T14:28:53.907Z"
   },
   {
    "duration": 239,
    "start_time": "2022-03-01T14:28:53.935Z"
   },
   {
    "duration": 216,
    "start_time": "2022-03-01T14:28:54.176Z"
   },
   {
    "duration": 241,
    "start_time": "2022-03-01T14:28:54.394Z"
   },
   {
    "duration": 196,
    "start_time": "2022-03-01T14:28:54.639Z"
   },
   {
    "duration": 193,
    "start_time": "2022-03-01T14:28:54.837Z"
   },
   {
    "duration": 195,
    "start_time": "2022-03-01T14:28:55.032Z"
   },
   {
    "duration": 5,
    "start_time": "2022-03-01T14:28:55.229Z"
   },
   {
    "duration": 11,
    "start_time": "2022-03-01T14:28:55.236Z"
   },
   {
    "duration": 9,
    "start_time": "2022-03-01T15:14:05.604Z"
   },
   {
    "duration": 10,
    "start_time": "2022-03-01T15:14:15.031Z"
   },
   {
    "duration": 9,
    "start_time": "2022-03-01T15:14:15.450Z"
   },
   {
    "duration": 1676,
    "start_time": "2022-03-01T15:22:26.126Z"
   },
   {
    "duration": 28,
    "start_time": "2022-03-01T15:22:27.804Z"
   },
   {
    "duration": 33,
    "start_time": "2022-03-01T15:22:27.837Z"
   },
   {
    "duration": 81,
    "start_time": "2022-03-01T15:22:27.872Z"
   },
   {
    "duration": 29,
    "start_time": "2022-03-01T15:22:27.955Z"
   },
   {
    "duration": 21,
    "start_time": "2022-03-01T15:22:27.986Z"
   },
   {
    "duration": 69,
    "start_time": "2022-03-01T15:22:28.009Z"
   },
   {
    "duration": 20,
    "start_time": "2022-03-01T15:22:28.080Z"
   },
   {
    "duration": 54,
    "start_time": "2022-03-01T15:22:28.102Z"
   },
   {
    "duration": 17,
    "start_time": "2022-03-01T15:22:28.158Z"
   },
   {
    "duration": 27,
    "start_time": "2022-03-01T15:22:28.176Z"
   },
   {
    "duration": 11,
    "start_time": "2022-03-01T15:22:28.205Z"
   },
   {
    "duration": 68,
    "start_time": "2022-03-01T15:22:28.218Z"
   },
   {
    "duration": 26,
    "start_time": "2022-03-01T15:22:28.288Z"
   },
   {
    "duration": 46,
    "start_time": "2022-03-01T15:22:28.315Z"
   },
   {
    "duration": 17,
    "start_time": "2022-03-01T15:22:28.362Z"
   },
   {
    "duration": 61,
    "start_time": "2022-03-01T15:22:28.381Z"
   },
   {
    "duration": 18,
    "start_time": "2022-03-01T15:22:28.443Z"
   },
   {
    "duration": 6,
    "start_time": "2022-03-01T15:22:28.463Z"
   },
   {
    "duration": 179,
    "start_time": "2022-03-01T15:22:28.471Z"
   },
   {
    "duration": 9,
    "start_time": "2022-03-01T15:22:28.652Z"
   },
   {
    "duration": 8,
    "start_time": "2022-03-01T15:22:28.664Z"
   },
   {
    "duration": 269,
    "start_time": "2022-03-01T15:22:28.674Z"
   },
   {
    "duration": 236,
    "start_time": "2022-03-01T15:22:28.945Z"
   },
   {
    "duration": 233,
    "start_time": "2022-03-01T15:22:29.183Z"
   },
   {
    "duration": 202,
    "start_time": "2022-03-01T15:22:29.418Z"
   },
   {
    "duration": 199,
    "start_time": "2022-03-01T15:22:29.621Z"
   },
   {
    "duration": 212,
    "start_time": "2022-03-01T15:22:29.821Z"
   },
   {
    "duration": 7,
    "start_time": "2022-03-01T15:22:30.034Z"
   },
   {
    "duration": 27,
    "start_time": "2022-03-01T15:22:30.046Z"
   },
   {
    "duration": 390,
    "start_time": "2022-03-01T15:23:23.069Z"
   },
   {
    "duration": 25,
    "start_time": "2022-03-01T15:23:23.460Z"
   },
   {
    "duration": 30,
    "start_time": "2022-03-01T15:23:23.487Z"
   },
   {
    "duration": 60,
    "start_time": "2022-03-01T15:23:23.519Z"
   },
   {
    "duration": 27,
    "start_time": "2022-03-01T15:23:23.581Z"
   },
   {
    "duration": 44,
    "start_time": "2022-03-01T15:23:23.609Z"
   },
   {
    "duration": 43,
    "start_time": "2022-03-01T15:23:23.654Z"
   },
   {
    "duration": 42,
    "start_time": "2022-03-01T15:23:23.698Z"
   },
   {
    "duration": 34,
    "start_time": "2022-03-01T15:23:23.744Z"
   },
   {
    "duration": 15,
    "start_time": "2022-03-01T15:23:23.780Z"
   },
   {
    "duration": 12,
    "start_time": "2022-03-01T15:23:23.797Z"
   },
   {
    "duration": 26,
    "start_time": "2022-03-01T15:23:23.811Z"
   },
   {
    "duration": 59,
    "start_time": "2022-03-01T15:23:23.839Z"
   },
   {
    "duration": 22,
    "start_time": "2022-03-01T15:23:23.900Z"
   },
   {
    "duration": 39,
    "start_time": "2022-03-01T15:23:23.924Z"
   },
   {
    "duration": 17,
    "start_time": "2022-03-01T15:23:23.965Z"
   },
   {
    "duration": 68,
    "start_time": "2022-03-01T15:23:23.983Z"
   },
   {
    "duration": 16,
    "start_time": "2022-03-01T15:23:24.052Z"
   },
   {
    "duration": 7,
    "start_time": "2022-03-01T15:23:24.070Z"
   },
   {
    "duration": 186,
    "start_time": "2022-03-01T15:23:24.079Z"
   },
   {
    "duration": 9,
    "start_time": "2022-03-01T15:23:24.266Z"
   },
   {
    "duration": 12,
    "start_time": "2022-03-01T15:23:24.277Z"
   },
   {
    "duration": 254,
    "start_time": "2022-03-01T15:23:24.290Z"
   },
   {
    "duration": 298,
    "start_time": "2022-03-01T15:23:24.546Z"
   },
   {
    "duration": 232,
    "start_time": "2022-03-01T15:23:24.846Z"
   },
   {
    "duration": 206,
    "start_time": "2022-03-01T15:23:25.080Z"
   },
   {
    "duration": 197,
    "start_time": "2022-03-01T15:23:25.289Z"
   },
   {
    "duration": 201,
    "start_time": "2022-03-01T15:23:25.488Z"
   },
   {
    "duration": 4,
    "start_time": "2022-03-01T15:23:25.690Z"
   },
   {
    "duration": 13,
    "start_time": "2022-03-01T15:23:25.696Z"
   },
   {
    "duration": 65,
    "start_time": "2022-03-01T15:44:13.645Z"
   },
   {
    "duration": 70,
    "start_time": "2022-03-01T15:54:14.313Z"
   },
   {
    "duration": 156,
    "start_time": "2022-03-01T16:03:17.425Z"
   },
   {
    "duration": 162,
    "start_time": "2022-03-01T16:08:11.946Z"
   },
   {
    "duration": 361,
    "start_time": "2022-03-01T16:42:29.286Z"
   },
   {
    "duration": 9,
    "start_time": "2022-03-01T16:42:56.438Z"
   },
   {
    "duration": 1482,
    "start_time": "2022-03-10T09:00:15.470Z"
   },
   {
    "duration": 32,
    "start_time": "2022-03-10T09:00:16.955Z"
   },
   {
    "duration": 36,
    "start_time": "2022-03-10T09:00:16.989Z"
   },
   {
    "duration": 81,
    "start_time": "2022-03-10T09:00:17.027Z"
   },
   {
    "duration": 32,
    "start_time": "2022-03-10T09:00:17.110Z"
   },
   {
    "duration": 39,
    "start_time": "2022-03-10T09:00:17.144Z"
   },
   {
    "duration": 49,
    "start_time": "2022-03-10T09:00:17.185Z"
   },
   {
    "duration": 21,
    "start_time": "2022-03-10T09:00:17.259Z"
   },
   {
    "duration": 41,
    "start_time": "2022-03-10T09:00:17.283Z"
   },
   {
    "duration": 46,
    "start_time": "2022-03-10T09:00:17.326Z"
   },
   {
    "duration": 15,
    "start_time": "2022-03-10T09:00:17.374Z"
   },
   {
    "duration": 11,
    "start_time": "2022-03-10T09:00:17.391Z"
   },
   {
    "duration": 90,
    "start_time": "2022-03-10T09:00:17.404Z"
   },
   {
    "duration": 31,
    "start_time": "2022-03-10T09:00:17.497Z"
   },
   {
    "duration": 47,
    "start_time": "2022-03-10T09:00:17.530Z"
   },
   {
    "duration": 20,
    "start_time": "2022-03-10T09:00:17.579Z"
   },
   {
    "duration": 59,
    "start_time": "2022-03-10T09:00:17.601Z"
   },
   {
    "duration": 20,
    "start_time": "2022-03-10T09:00:17.662Z"
   },
   {
    "duration": 7,
    "start_time": "2022-03-10T09:00:17.684Z"
   },
   {
    "duration": 195,
    "start_time": "2022-03-10T09:00:17.693Z"
   },
   {
    "duration": 10,
    "start_time": "2022-03-10T09:00:17.890Z"
   },
   {
    "duration": 10,
    "start_time": "2022-03-10T09:00:17.902Z"
   },
   {
    "duration": 310,
    "start_time": "2022-03-10T09:00:17.915Z"
   },
   {
    "duration": 268,
    "start_time": "2022-03-10T09:00:18.226Z"
   },
   {
    "duration": 288,
    "start_time": "2022-03-10T09:00:18.496Z"
   },
   {
    "duration": 250,
    "start_time": "2022-03-10T09:00:18.786Z"
   },
   {
    "duration": 223,
    "start_time": "2022-03-10T09:00:19.038Z"
   },
   {
    "duration": 250,
    "start_time": "2022-03-10T09:00:19.262Z"
   },
   {
    "duration": 7,
    "start_time": "2022-03-10T09:00:19.514Z"
   },
   {
    "duration": 14,
    "start_time": "2022-03-10T09:00:19.523Z"
   },
   {
    "duration": 1418,
    "start_time": "2022-03-10T09:20:47.610Z"
   },
   {
    "duration": 29,
    "start_time": "2022-03-10T09:20:49.030Z"
   },
   {
    "duration": 38,
    "start_time": "2022-03-10T09:20:49.061Z"
   },
   {
    "duration": 77,
    "start_time": "2022-03-10T09:20:49.101Z"
   },
   {
    "duration": 32,
    "start_time": "2022-03-10T09:20:49.180Z"
   },
   {
    "duration": 23,
    "start_time": "2022-03-10T09:20:49.213Z"
   },
   {
    "duration": 47,
    "start_time": "2022-03-10T09:20:49.259Z"
   },
   {
    "duration": 18,
    "start_time": "2022-03-10T09:20:49.309Z"
   },
   {
    "duration": 55,
    "start_time": "2022-03-10T09:20:49.329Z"
   },
   {
    "duration": 19,
    "start_time": "2022-03-10T09:20:49.387Z"
   },
   {
    "duration": 29,
    "start_time": "2022-03-10T09:20:49.409Z"
   },
   {
    "duration": 24,
    "start_time": "2022-03-10T09:20:49.440Z"
   },
   {
    "duration": 67,
    "start_time": "2022-03-10T09:20:49.466Z"
   },
   {
    "duration": 30,
    "start_time": "2022-03-10T09:20:49.535Z"
   },
   {
    "duration": 30,
    "start_time": "2022-03-10T09:20:49.566Z"
   },
   {
    "duration": 20,
    "start_time": "2022-03-10T09:20:49.597Z"
   },
   {
    "duration": 68,
    "start_time": "2022-03-10T09:20:49.618Z"
   },
   {
    "duration": 19,
    "start_time": "2022-03-10T09:20:49.688Z"
   },
   {
    "duration": 21,
    "start_time": "2022-03-10T09:20:49.709Z"
   },
   {
    "duration": 180,
    "start_time": "2022-03-10T09:20:49.732Z"
   },
   {
    "duration": 9,
    "start_time": "2022-03-10T09:20:49.914Z"
   },
   {
    "duration": 22,
    "start_time": "2022-03-10T09:20:49.925Z"
   },
   {
    "duration": 277,
    "start_time": "2022-03-10T09:20:49.959Z"
   },
   {
    "duration": 252,
    "start_time": "2022-03-10T09:20:50.239Z"
   },
   {
    "duration": 284,
    "start_time": "2022-03-10T09:20:50.493Z"
   },
   {
    "duration": 237,
    "start_time": "2022-03-10T09:20:50.779Z"
   },
   {
    "duration": 226,
    "start_time": "2022-03-10T09:20:51.018Z"
   },
   {
    "duration": 247,
    "start_time": "2022-03-10T09:20:51.246Z"
   },
   {
    "duration": 5,
    "start_time": "2022-03-10T09:20:51.495Z"
   },
   {
    "duration": 45,
    "start_time": "2022-03-10T09:20:51.501Z"
   },
   {
    "duration": 1451,
    "start_time": "2022-03-10T09:24:02.482Z"
   },
   {
    "duration": 31,
    "start_time": "2022-03-10T09:24:03.935Z"
   },
   {
    "duration": 36,
    "start_time": "2022-03-10T09:24:03.968Z"
   },
   {
    "duration": 78,
    "start_time": "2022-03-10T09:24:04.006Z"
   },
   {
    "duration": 31,
    "start_time": "2022-03-10T09:24:04.085Z"
   },
   {
    "duration": 42,
    "start_time": "2022-03-10T09:24:04.118Z"
   },
   {
    "duration": 47,
    "start_time": "2022-03-10T09:24:04.162Z"
   },
   {
    "duration": 19,
    "start_time": "2022-03-10T09:24:04.212Z"
   },
   {
    "duration": 58,
    "start_time": "2022-03-10T09:24:04.233Z"
   },
   {
    "duration": 18,
    "start_time": "2022-03-10T09:24:04.293Z"
   },
   {
    "duration": 14,
    "start_time": "2022-03-10T09:24:04.313Z"
   },
   {
    "duration": 32,
    "start_time": "2022-03-10T09:24:04.329Z"
   },
   {
    "duration": 61,
    "start_time": "2022-03-10T09:24:04.363Z"
   },
   {
    "duration": 42,
    "start_time": "2022-03-10T09:24:04.425Z"
   },
   {
    "duration": 31,
    "start_time": "2022-03-10T09:24:04.469Z"
   },
   {
    "duration": 20,
    "start_time": "2022-03-10T09:24:04.502Z"
   },
   {
    "duration": 73,
    "start_time": "2022-03-10T09:24:04.524Z"
   },
   {
    "duration": 20,
    "start_time": "2022-03-10T09:24:04.599Z"
   },
   {
    "duration": 7,
    "start_time": "2022-03-10T09:24:04.620Z"
   },
   {
    "duration": 196,
    "start_time": "2022-03-10T09:24:04.629Z"
   },
   {
    "duration": 11,
    "start_time": "2022-03-10T09:24:04.826Z"
   },
   {
    "duration": 25,
    "start_time": "2022-03-10T09:24:04.838Z"
   },
   {
    "duration": 287,
    "start_time": "2022-03-10T09:24:04.867Z"
   },
   {
    "duration": 272,
    "start_time": "2022-03-10T09:24:05.158Z"
   },
   {
    "duration": 286,
    "start_time": "2022-03-10T09:24:05.431Z"
   },
   {
    "duration": 233,
    "start_time": "2022-03-10T09:24:05.718Z"
   },
   {
    "duration": 226,
    "start_time": "2022-03-10T09:24:05.953Z"
   },
   {
    "duration": 240,
    "start_time": "2022-03-10T09:24:06.181Z"
   },
   {
    "duration": 5,
    "start_time": "2022-03-10T09:24:06.422Z"
   },
   {
    "duration": 13,
    "start_time": "2022-03-10T09:24:06.429Z"
   },
   {
    "duration": 75,
    "start_time": "2022-03-27T10:51:30.670Z"
   },
   {
    "duration": 2142,
    "start_time": "2022-03-27T10:51:40.439Z"
   },
   {
    "duration": 47,
    "start_time": "2022-03-27T10:51:42.584Z"
   },
   {
    "duration": 51,
    "start_time": "2022-03-27T10:51:42.633Z"
   },
   {
    "duration": 99,
    "start_time": "2022-03-27T10:51:42.687Z"
   },
   {
    "duration": 39,
    "start_time": "2022-03-27T10:51:42.788Z"
   },
   {
    "duration": 56,
    "start_time": "2022-03-27T10:51:42.829Z"
   },
   {
    "duration": 80,
    "start_time": "2022-03-27T10:51:42.887Z"
   },
   {
    "duration": 32,
    "start_time": "2022-03-27T10:51:42.969Z"
   },
   {
    "duration": 84,
    "start_time": "2022-03-27T10:51:43.004Z"
   },
   {
    "duration": 28,
    "start_time": "2022-03-27T10:51:43.091Z"
   },
   {
    "duration": 55,
    "start_time": "2022-03-27T10:51:43.121Z"
   },
   {
    "duration": 11,
    "start_time": "2022-03-27T10:51:43.179Z"
   },
   {
    "duration": 108,
    "start_time": "2022-03-27T10:51:43.192Z"
   },
   {
    "duration": 40,
    "start_time": "2022-03-27T10:51:43.303Z"
   },
   {
    "duration": 57,
    "start_time": "2022-03-27T10:51:43.345Z"
   },
   {
    "duration": 160,
    "start_time": "2022-03-27T10:51:43.404Z"
   },
   {
    "duration": 0,
    "start_time": "2022-03-27T10:51:43.567Z"
   },
   {
    "duration": 0,
    "start_time": "2022-03-27T10:51:43.570Z"
   },
   {
    "duration": 0,
    "start_time": "2022-03-27T10:51:43.571Z"
   },
   {
    "duration": 0,
    "start_time": "2022-03-27T10:51:43.573Z"
   },
   {
    "duration": 0,
    "start_time": "2022-03-27T10:51:43.574Z"
   },
   {
    "duration": 0,
    "start_time": "2022-03-27T10:51:43.576Z"
   },
   {
    "duration": 0,
    "start_time": "2022-03-27T10:51:43.577Z"
   },
   {
    "duration": 0,
    "start_time": "2022-03-27T10:51:43.578Z"
   },
   {
    "duration": 0,
    "start_time": "2022-03-27T10:51:43.580Z"
   },
   {
    "duration": 0,
    "start_time": "2022-03-27T10:51:43.581Z"
   },
   {
    "duration": 0,
    "start_time": "2022-03-27T10:51:43.583Z"
   },
   {
    "duration": 0,
    "start_time": "2022-03-27T10:51:43.585Z"
   },
   {
    "duration": 0,
    "start_time": "2022-03-27T10:51:43.586Z"
   },
   {
    "duration": 0,
    "start_time": "2022-03-27T10:51:43.588Z"
   },
   {
    "duration": 33,
    "start_time": "2022-03-27T10:53:04.011Z"
   },
   {
    "duration": 75,
    "start_time": "2022-03-27T10:53:09.011Z"
   },
   {
    "duration": 48,
    "start_time": "2022-03-27T10:59:41.445Z"
   },
   {
    "duration": 50,
    "start_time": "2022-03-27T10:59:51.425Z"
   },
   {
    "duration": 1858,
    "start_time": "2022-03-27T11:05:24.004Z"
   },
   {
    "duration": 47,
    "start_time": "2022-03-27T11:05:25.864Z"
   },
   {
    "duration": 56,
    "start_time": "2022-03-27T11:05:25.913Z"
   },
   {
    "duration": 99,
    "start_time": "2022-03-27T11:05:25.971Z"
   },
   {
    "duration": 40,
    "start_time": "2022-03-27T11:05:26.074Z"
   },
   {
    "duration": 61,
    "start_time": "2022-03-27T11:05:26.116Z"
   },
   {
    "duration": 66,
    "start_time": "2022-03-27T11:05:26.179Z"
   },
   {
    "duration": 49,
    "start_time": "2022-03-27T11:05:26.247Z"
   },
   {
    "duration": 71,
    "start_time": "2022-03-27T11:05:26.298Z"
   },
   {
    "duration": 27,
    "start_time": "2022-03-27T11:05:26.371Z"
   },
   {
    "duration": 27,
    "start_time": "2022-03-27T11:05:26.400Z"
   },
   {
    "duration": 42,
    "start_time": "2022-03-27T11:05:26.430Z"
   },
   {
    "duration": 93,
    "start_time": "2022-03-27T11:05:26.474Z"
   },
   {
    "duration": 44,
    "start_time": "2022-03-27T11:05:26.572Z"
   },
   {
    "duration": 62,
    "start_time": "2022-03-27T11:05:26.618Z"
   },
   {
    "duration": 28,
    "start_time": "2022-03-27T11:05:26.682Z"
   },
   {
    "duration": 80,
    "start_time": "2022-03-27T11:05:26.712Z"
   },
   {
    "duration": 27,
    "start_time": "2022-03-27T11:05:26.794Z"
   },
   {
    "duration": 19,
    "start_time": "2022-03-27T11:05:26.823Z"
   },
   {
    "duration": 186,
    "start_time": "2022-03-27T11:05:26.844Z"
   },
   {
    "duration": 14,
    "start_time": "2022-03-27T11:05:27.032Z"
   },
   {
    "duration": 32,
    "start_time": "2022-03-27T11:05:27.048Z"
   },
   {
    "duration": 308,
    "start_time": "2022-03-27T11:05:27.083Z"
   },
   {
    "duration": 284,
    "start_time": "2022-03-27T11:05:27.393Z"
   },
   {
    "duration": 313,
    "start_time": "2022-03-27T11:05:27.679Z"
   },
   {
    "duration": 257,
    "start_time": "2022-03-27T11:05:27.994Z"
   },
   {
    "duration": 244,
    "start_time": "2022-03-27T11:05:28.254Z"
   },
   {
    "duration": 267,
    "start_time": "2022-03-27T11:05:28.501Z"
   },
   {
    "duration": 7,
    "start_time": "2022-03-27T11:05:28.770Z"
   },
   {
    "duration": 20,
    "start_time": "2022-03-27T11:05:28.780Z"
   },
   {
    "duration": 56,
    "start_time": "2022-03-27T11:09:32.467Z"
   },
   {
    "duration": 1938,
    "start_time": "2022-03-27T11:09:37.837Z"
   },
   {
    "duration": 46,
    "start_time": "2022-03-27T11:09:39.777Z"
   },
   {
    "duration": 64,
    "start_time": "2022-03-27T11:09:39.825Z"
   },
   {
    "duration": 143,
    "start_time": "2022-03-27T11:09:39.893Z"
   },
   {
    "duration": 66,
    "start_time": "2022-03-27T11:09:40.038Z"
   },
   {
    "duration": 70,
    "start_time": "2022-03-27T11:09:40.107Z"
   },
   {
    "duration": 67,
    "start_time": "2022-03-27T11:09:40.179Z"
   },
   {
    "duration": 53,
    "start_time": "2022-03-27T11:09:40.249Z"
   },
   {
    "duration": 108,
    "start_time": "2022-03-27T11:09:40.304Z"
   },
   {
    "duration": 53,
    "start_time": "2022-03-27T11:09:40.417Z"
   },
   {
    "duration": 41,
    "start_time": "2022-03-27T11:09:40.472Z"
   },
   {
    "duration": 13,
    "start_time": "2022-03-27T11:09:40.516Z"
   },
   {
    "duration": 145,
    "start_time": "2022-03-27T11:09:40.531Z"
   },
   {
    "duration": 55,
    "start_time": "2022-03-27T11:09:40.679Z"
   },
   {
    "duration": 74,
    "start_time": "2022-03-27T11:09:40.737Z"
   },
   {
    "duration": 53,
    "start_time": "2022-03-27T11:09:40.814Z"
   },
   {
    "duration": 70,
    "start_time": "2022-03-27T11:09:40.870Z"
   },
   {
    "duration": 49,
    "start_time": "2022-03-27T11:09:40.942Z"
   },
   {
    "duration": 12,
    "start_time": "2022-03-27T11:09:40.994Z"
   },
   {
    "duration": 206,
    "start_time": "2022-03-27T11:09:41.008Z"
   },
   {
    "duration": 14,
    "start_time": "2022-03-27T11:09:41.217Z"
   },
   {
    "duration": 38,
    "start_time": "2022-03-27T11:09:41.234Z"
   },
   {
    "duration": 320,
    "start_time": "2022-03-27T11:09:41.275Z"
   },
   {
    "duration": 311,
    "start_time": "2022-03-27T11:09:41.597Z"
   },
   {
    "duration": 329,
    "start_time": "2022-03-27T11:09:41.910Z"
   },
   {
    "duration": 272,
    "start_time": "2022-03-27T11:09:42.241Z"
   },
   {
    "duration": 304,
    "start_time": "2022-03-27T11:09:42.516Z"
   },
   {
    "duration": 260,
    "start_time": "2022-03-27T11:09:42.827Z"
   },
   {
    "duration": 7,
    "start_time": "2022-03-27T11:09:43.090Z"
   },
   {
    "duration": 17,
    "start_time": "2022-03-27T11:09:43.099Z"
   },
   {
    "duration": 38,
    "start_time": "2022-03-27T11:11:30.151Z"
   },
   {
    "duration": 40,
    "start_time": "2022-03-27T11:11:40.887Z"
   },
   {
    "duration": 53,
    "start_time": "2022-03-27T11:12:13.796Z"
   },
   {
    "duration": 30,
    "start_time": "2022-03-27T11:16:37.929Z"
   },
   {
    "duration": 64,
    "start_time": "2022-03-27T11:16:40.993Z"
   },
   {
    "duration": 91,
    "start_time": "2022-03-27T11:17:08.949Z"
   },
   {
    "duration": 91,
    "start_time": "2022-03-27T11:17:17.179Z"
   },
   {
    "duration": 90,
    "start_time": "2022-03-27T11:17:26.668Z"
   },
   {
    "duration": 9,
    "start_time": "2022-03-27T11:31:32.437Z"
   },
   {
    "duration": 10,
    "start_time": "2022-03-27T11:36:45.613Z"
   },
   {
    "duration": 9,
    "start_time": "2022-03-27T11:47:48.902Z"
   },
   {
    "duration": 10,
    "start_time": "2022-03-27T11:48:04.186Z"
   },
   {
    "duration": 9,
    "start_time": "2022-03-27T11:51:03.836Z"
   },
   {
    "duration": 9,
    "start_time": "2022-03-27T11:51:06.629Z"
   },
   {
    "duration": 8,
    "start_time": "2022-03-27T11:51:26.213Z"
   },
   {
    "duration": 1885,
    "start_time": "2022-03-27T12:01:55.444Z"
   },
   {
    "duration": 2534,
    "start_time": "2022-03-27T12:02:11.835Z"
   },
   {
    "duration": 72,
    "start_time": "2022-03-27T12:02:14.372Z"
   },
   {
    "duration": 71,
    "start_time": "2022-03-27T12:02:14.447Z"
   },
   {
    "duration": 125,
    "start_time": "2022-03-27T12:02:14.522Z"
   },
   {
    "duration": 47,
    "start_time": "2022-03-27T12:02:14.649Z"
   },
   {
    "duration": 74,
    "start_time": "2022-03-27T12:02:14.699Z"
   },
   {
    "duration": 88,
    "start_time": "2022-03-27T12:02:14.775Z"
   },
   {
    "duration": 31,
    "start_time": "2022-03-27T12:02:14.865Z"
   },
   {
    "duration": 71,
    "start_time": "2022-03-27T12:02:14.898Z"
   },
   {
    "duration": 26,
    "start_time": "2022-03-27T12:02:14.974Z"
   },
   {
    "duration": 41,
    "start_time": "2022-03-27T12:02:15.003Z"
   },
   {
    "duration": 28,
    "start_time": "2022-03-27T12:02:15.046Z"
   },
   {
    "duration": 105,
    "start_time": "2022-03-27T12:02:15.076Z"
   },
   {
    "duration": 55,
    "start_time": "2022-03-27T12:02:15.183Z"
   },
   {
    "duration": 57,
    "start_time": "2022-03-27T12:02:15.240Z"
   },
   {
    "duration": 31,
    "start_time": "2022-03-27T12:02:15.300Z"
   },
   {
    "duration": 87,
    "start_time": "2022-03-27T12:02:15.334Z"
   },
   {
    "duration": 29,
    "start_time": "2022-03-27T12:02:15.423Z"
   },
   {
    "duration": 28,
    "start_time": "2022-03-27T12:02:15.454Z"
   },
   {
    "duration": 197,
    "start_time": "2022-03-27T12:02:15.485Z"
   },
   {
    "duration": 13,
    "start_time": "2022-03-27T12:02:15.685Z"
   },
   {
    "duration": 364,
    "start_time": "2022-03-27T12:02:15.700Z"
   },
   {
    "duration": 11,
    "start_time": "2022-03-27T12:02:16.066Z"
   },
   {
    "duration": 297,
    "start_time": "2022-03-27T12:02:16.079Z"
   },
   {
    "duration": 10,
    "start_time": "2022-03-27T12:02:16.378Z"
   },
   {
    "duration": 310,
    "start_time": "2022-03-27T12:02:16.390Z"
   },
   {
    "duration": 9,
    "start_time": "2022-03-27T12:02:16.703Z"
   },
   {
    "duration": 38,
    "start_time": "2022-03-27T12:02:16.718Z"
   },
   {
    "duration": 270,
    "start_time": "2022-03-27T12:02:16.768Z"
   },
   {
    "duration": 256,
    "start_time": "2022-03-27T12:02:17.041Z"
   },
   {
    "duration": 269,
    "start_time": "2022-03-27T12:02:17.299Z"
   },
   {
    "duration": 8,
    "start_time": "2022-03-27T12:02:17.571Z"
   },
   {
    "duration": 30,
    "start_time": "2022-03-27T12:02:17.581Z"
   },
   {
    "duration": 1852,
    "start_time": "2022-03-27T12:10:13.890Z"
   },
   {
    "duration": 50,
    "start_time": "2022-03-27T12:10:15.745Z"
   },
   {
    "duration": 45,
    "start_time": "2022-03-27T12:10:15.797Z"
   },
   {
    "duration": 125,
    "start_time": "2022-03-27T12:10:15.844Z"
   },
   {
    "duration": 38,
    "start_time": "2022-03-27T12:10:15.972Z"
   },
   {
    "duration": 65,
    "start_time": "2022-03-27T12:10:16.012Z"
   },
   {
    "duration": 65,
    "start_time": "2022-03-27T12:10:16.079Z"
   },
   {
    "duration": 50,
    "start_time": "2022-03-27T12:10:16.146Z"
   },
   {
    "duration": 79,
    "start_time": "2022-03-27T12:10:16.199Z"
   },
   {
    "duration": 26,
    "start_time": "2022-03-27T12:10:16.281Z"
   },
   {
    "duration": 31,
    "start_time": "2022-03-27T12:10:16.310Z"
   },
   {
    "duration": 9,
    "start_time": "2022-03-27T12:10:16.368Z"
   },
   {
    "duration": 99,
    "start_time": "2022-03-27T12:10:16.379Z"
   },
   {
    "duration": 41,
    "start_time": "2022-03-27T12:10:16.483Z"
   },
   {
    "duration": 57,
    "start_time": "2022-03-27T12:10:16.527Z"
   },
   {
    "duration": 32,
    "start_time": "2022-03-27T12:10:16.586Z"
   },
   {
    "duration": 87,
    "start_time": "2022-03-27T12:10:16.620Z"
   },
   {
    "duration": 28,
    "start_time": "2022-03-27T12:10:16.710Z"
   },
   {
    "duration": 34,
    "start_time": "2022-03-27T12:10:16.741Z"
   },
   {
    "duration": 180,
    "start_time": "2022-03-27T12:10:16.778Z"
   },
   {
    "duration": 20,
    "start_time": "2022-03-27T12:10:16.961Z"
   },
   {
    "duration": 359,
    "start_time": "2022-03-27T12:10:16.983Z"
   },
   {
    "duration": 9,
    "start_time": "2022-03-27T12:10:17.345Z"
   },
   {
    "duration": 279,
    "start_time": "2022-03-27T12:10:17.367Z"
   },
   {
    "duration": 18,
    "start_time": "2022-03-27T12:10:17.649Z"
   },
   {
    "duration": 303,
    "start_time": "2022-03-27T12:10:17.669Z"
   },
   {
    "duration": 8,
    "start_time": "2022-03-27T12:10:17.975Z"
   },
   {
    "duration": 18,
    "start_time": "2022-03-27T12:10:17.985Z"
   },
   {
    "duration": 298,
    "start_time": "2022-03-27T12:10:18.005Z"
   },
   {
    "duration": 245,
    "start_time": "2022-03-27T12:10:18.306Z"
   },
   {
    "duration": 252,
    "start_time": "2022-03-27T12:10:18.554Z"
   },
   {
    "duration": 8,
    "start_time": "2022-03-27T12:10:18.809Z"
   },
   {
    "duration": 15,
    "start_time": "2022-03-27T12:10:18.820Z"
   },
   {
    "duration": 10,
    "start_time": "2022-03-27T12:12:42.846Z"
   },
   {
    "duration": 11,
    "start_time": "2022-03-27T12:16:07.855Z"
   },
   {
    "duration": 14,
    "start_time": "2022-03-27T12:16:30.445Z"
   },
   {
    "duration": 1931,
    "start_time": "2022-03-27T12:16:41.739Z"
   },
   {
    "duration": 48,
    "start_time": "2022-03-27T12:16:43.672Z"
   },
   {
    "duration": 71,
    "start_time": "2022-03-27T12:16:43.723Z"
   },
   {
    "duration": 103,
    "start_time": "2022-03-27T12:16:43.797Z"
   },
   {
    "duration": 39,
    "start_time": "2022-03-27T12:16:43.902Z"
   },
   {
    "duration": 53,
    "start_time": "2022-03-27T12:16:43.944Z"
   },
   {
    "duration": 114,
    "start_time": "2022-03-27T12:16:44.000Z"
   },
   {
    "duration": 62,
    "start_time": "2022-03-27T12:16:44.116Z"
   },
   {
    "duration": 95,
    "start_time": "2022-03-27T12:16:44.181Z"
   },
   {
    "duration": 30,
    "start_time": "2022-03-27T12:16:44.282Z"
   },
   {
    "duration": 27,
    "start_time": "2022-03-27T12:16:44.315Z"
   },
   {
    "duration": 9,
    "start_time": "2022-03-27T12:16:44.368Z"
   },
   {
    "duration": 100,
    "start_time": "2022-03-27T12:16:44.379Z"
   },
   {
    "duration": 42,
    "start_time": "2022-03-27T12:16:44.481Z"
   },
   {
    "duration": 58,
    "start_time": "2022-03-27T12:16:44.526Z"
   },
   {
    "duration": 31,
    "start_time": "2022-03-27T12:16:44.586Z"
   },
   {
    "duration": 90,
    "start_time": "2022-03-27T12:16:44.619Z"
   },
   {
    "duration": 29,
    "start_time": "2022-03-27T12:16:44.711Z"
   },
   {
    "duration": 30,
    "start_time": "2022-03-27T12:16:44.742Z"
   },
   {
    "duration": 188,
    "start_time": "2022-03-27T12:16:44.774Z"
   },
   {
    "duration": 11,
    "start_time": "2022-03-27T12:16:44.967Z"
   },
   {
    "duration": 16,
    "start_time": "2022-03-27T12:16:44.980Z"
   },
   {
    "duration": 370,
    "start_time": "2022-03-27T12:16:44.998Z"
   },
   {
    "duration": 9,
    "start_time": "2022-03-27T12:16:45.371Z"
   },
   {
    "duration": 295,
    "start_time": "2022-03-27T12:16:45.382Z"
   },
   {
    "duration": 10,
    "start_time": "2022-03-27T12:16:45.679Z"
   },
   {
    "duration": 321,
    "start_time": "2022-03-27T12:16:45.691Z"
   },
   {
    "duration": 8,
    "start_time": "2022-03-27T12:16:46.019Z"
   },
   {
    "duration": 39,
    "start_time": "2022-03-27T12:16:46.030Z"
   },
   {
    "duration": 282,
    "start_time": "2022-03-27T12:16:46.072Z"
   },
   {
    "duration": 257,
    "start_time": "2022-03-27T12:16:46.357Z"
   },
   {
    "duration": 263,
    "start_time": "2022-03-27T12:16:46.617Z"
   },
   {
    "duration": 8,
    "start_time": "2022-03-27T12:16:46.883Z"
   },
   {
    "duration": 16,
    "start_time": "2022-03-27T12:16:46.894Z"
   },
   {
    "duration": 103,
    "start_time": "2022-03-27T12:17:10.947Z"
   },
   {
    "duration": 11,
    "start_time": "2022-03-27T12:17:16.306Z"
   },
   {
    "duration": 7,
    "start_time": "2022-03-27T12:17:20.557Z"
   },
   {
    "duration": 479,
    "start_time": "2022-03-27T12:17:23.598Z"
   },
   {
    "duration": 2057,
    "start_time": "2022-03-27T12:17:35.029Z"
   },
   {
    "duration": 50,
    "start_time": "2022-03-27T12:17:37.089Z"
   },
   {
    "duration": 52,
    "start_time": "2022-03-27T12:17:37.141Z"
   },
   {
    "duration": 109,
    "start_time": "2022-03-27T12:17:37.196Z"
   },
   {
    "duration": 39,
    "start_time": "2022-03-27T12:17:37.307Z"
   },
   {
    "duration": 52,
    "start_time": "2022-03-27T12:17:37.348Z"
   },
   {
    "duration": 96,
    "start_time": "2022-03-27T12:17:37.403Z"
   },
   {
    "duration": 34,
    "start_time": "2022-03-27T12:17:37.501Z"
   },
   {
    "duration": 74,
    "start_time": "2022-03-27T12:17:37.538Z"
   },
   {
    "duration": 53,
    "start_time": "2022-03-27T12:17:37.616Z"
   },
   {
    "duration": 29,
    "start_time": "2022-03-27T12:17:37.671Z"
   },
   {
    "duration": 10,
    "start_time": "2022-03-27T12:17:37.703Z"
   },
   {
    "duration": 118,
    "start_time": "2022-03-27T12:17:37.716Z"
   },
   {
    "duration": 55,
    "start_time": "2022-03-27T12:17:37.837Z"
   },
   {
    "duration": 40,
    "start_time": "2022-03-27T12:17:37.894Z"
   },
   {
    "duration": 55,
    "start_time": "2022-03-27T12:17:37.936Z"
   },
   {
    "duration": 59,
    "start_time": "2022-03-27T12:17:37.993Z"
   },
   {
    "duration": 29,
    "start_time": "2022-03-27T12:17:38.068Z"
   },
   {
    "duration": 13,
    "start_time": "2022-03-27T12:17:38.100Z"
   },
   {
    "duration": 313,
    "start_time": "2022-03-27T12:17:38.116Z"
   },
   {
    "duration": 9,
    "start_time": "2022-03-27T12:17:38.432Z"
   },
   {
    "duration": 36,
    "start_time": "2022-03-27T12:17:38.444Z"
   },
   {
    "duration": 450,
    "start_time": "2022-03-27T12:17:38.482Z"
   },
   {
    "duration": 10,
    "start_time": "2022-03-27T12:17:38.935Z"
   },
   {
    "duration": 292,
    "start_time": "2022-03-27T12:17:38.947Z"
   },
   {
    "duration": 10,
    "start_time": "2022-03-27T12:17:39.240Z"
   },
   {
    "duration": 303,
    "start_time": "2022-03-27T12:17:39.267Z"
   },
   {
    "duration": 10,
    "start_time": "2022-03-27T12:17:39.575Z"
   },
   {
    "duration": 14,
    "start_time": "2022-03-27T12:17:39.587Z"
   },
   {
    "duration": 275,
    "start_time": "2022-03-27T12:17:39.604Z"
   },
   {
    "duration": 330,
    "start_time": "2022-03-27T12:17:39.881Z"
   },
   {
    "duration": 265,
    "start_time": "2022-03-27T12:17:40.213Z"
   },
   {
    "duration": 8,
    "start_time": "2022-03-27T12:17:40.480Z"
   },
   {
    "duration": 16,
    "start_time": "2022-03-27T12:17:40.490Z"
   },
   {
    "duration": 9,
    "start_time": "2022-03-27T12:19:40.855Z"
   },
   {
    "duration": 9,
    "start_time": "2022-03-27T12:22:49.645Z"
   },
   {
    "duration": 1824,
    "start_time": "2022-03-27T12:45:32.497Z"
   },
   {
    "duration": 35,
    "start_time": "2022-03-27T12:45:34.323Z"
   },
   {
    "duration": 32,
    "start_time": "2022-03-27T12:45:34.359Z"
   },
   {
    "duration": 63,
    "start_time": "2022-03-27T12:45:34.394Z"
   },
   {
    "duration": 45,
    "start_time": "2022-03-27T12:45:34.459Z"
   },
   {
    "duration": 26,
    "start_time": "2022-03-27T12:45:34.506Z"
   },
   {
    "duration": 44,
    "start_time": "2022-03-27T12:45:34.534Z"
   },
   {
    "duration": 31,
    "start_time": "2022-03-27T12:45:34.601Z"
   },
   {
    "duration": 71,
    "start_time": "2022-03-27T12:45:34.634Z"
   },
   {
    "duration": 25,
    "start_time": "2022-03-27T12:45:34.709Z"
   },
   {
    "duration": 21,
    "start_time": "2022-03-27T12:45:34.737Z"
   },
   {
    "duration": 15,
    "start_time": "2022-03-27T12:45:34.760Z"
   },
   {
    "duration": 59,
    "start_time": "2022-03-27T12:45:34.802Z"
   },
   {
    "duration": 43,
    "start_time": "2022-03-27T12:45:34.863Z"
   },
   {
    "duration": 28,
    "start_time": "2022-03-27T12:45:34.907Z"
   },
   {
    "duration": 20,
    "start_time": "2022-03-27T12:45:34.937Z"
   },
   {
    "duration": 74,
    "start_time": "2022-03-27T12:45:34.959Z"
   },
   {
    "duration": 22,
    "start_time": "2022-03-27T12:45:35.035Z"
   },
   {
    "duration": 29,
    "start_time": "2022-03-27T12:45:35.059Z"
   },
   {
    "duration": 115,
    "start_time": "2022-03-27T12:45:35.090Z"
   },
   {
    "duration": 7,
    "start_time": "2022-03-27T12:45:35.207Z"
   },
   {
    "duration": 19,
    "start_time": "2022-03-27T12:45:35.216Z"
   },
   {
    "duration": 183,
    "start_time": "2022-03-27T12:45:35.237Z"
   },
   {
    "duration": 6,
    "start_time": "2022-03-27T12:45:35.422Z"
   },
   {
    "duration": 180,
    "start_time": "2022-03-27T12:45:35.430Z"
   },
   {
    "duration": 6,
    "start_time": "2022-03-27T12:45:35.612Z"
   },
   {
    "duration": 526,
    "start_time": "2022-03-27T12:45:35.619Z"
   },
   {
    "duration": 102,
    "start_time": "2022-03-27T12:45:36.148Z"
   },
   {
    "duration": 275,
    "start_time": "2022-03-27T12:45:36.252Z"
   },
   {
    "duration": 451,
    "start_time": "2022-03-27T12:45:36.528Z"
   },
   {
    "duration": 6,
    "start_time": "2022-03-27T12:45:36.980Z"
   },
   {
    "duration": 197,
    "start_time": "2022-03-27T12:45:36.988Z"
   },
   {
    "duration": 14,
    "start_time": "2022-03-27T12:45:37.187Z"
   },
   {
    "duration": 163,
    "start_time": "2022-03-27T12:45:37.202Z"
   },
   {
    "duration": 5,
    "start_time": "2022-03-27T12:45:37.367Z"
   },
   {
    "duration": 70,
    "start_time": "2022-03-27T12:45:37.374Z"
   },
   {
    "duration": 6,
    "start_time": "2022-03-27T12:50:31.605Z"
   },
   {
    "duration": 11,
    "start_time": "2022-03-27T12:58:08.579Z"
   },
   {
    "duration": 9,
    "start_time": "2022-03-27T12:58:13.917Z"
   },
   {
    "duration": 12,
    "start_time": "2022-03-27T12:59:47.336Z"
   },
   {
    "duration": 5,
    "start_time": "2022-03-27T13:05:31.809Z"
   },
   {
    "duration": 2265,
    "start_time": "2022-03-28T05:44:13.807Z"
   },
   {
    "duration": 51,
    "start_time": "2022-03-28T05:44:16.075Z"
   },
   {
    "duration": 59,
    "start_time": "2022-03-28T05:44:16.128Z"
   },
   {
    "duration": 110,
    "start_time": "2022-03-28T05:44:16.190Z"
   },
   {
    "duration": 41,
    "start_time": "2022-03-28T05:44:16.305Z"
   },
   {
    "duration": 58,
    "start_time": "2022-03-28T05:44:16.349Z"
   },
   {
    "duration": 90,
    "start_time": "2022-03-28T05:44:16.410Z"
   },
   {
    "duration": 35,
    "start_time": "2022-03-28T05:44:16.502Z"
   },
   {
    "duration": 79,
    "start_time": "2022-03-28T05:44:16.539Z"
   },
   {
    "duration": 27,
    "start_time": "2022-03-28T05:44:16.620Z"
   },
   {
    "duration": 54,
    "start_time": "2022-03-28T05:44:16.650Z"
   },
   {
    "duration": 10,
    "start_time": "2022-03-28T05:44:16.706Z"
   },
   {
    "duration": 101,
    "start_time": "2022-03-28T05:44:16.718Z"
   },
   {
    "duration": 59,
    "start_time": "2022-03-28T05:44:16.825Z"
   },
   {
    "duration": 40,
    "start_time": "2022-03-28T05:44:16.886Z"
   },
   {
    "duration": 56,
    "start_time": "2022-03-28T05:44:16.928Z"
   },
   {
    "duration": 63,
    "start_time": "2022-03-28T05:44:16.986Z"
   },
   {
    "duration": 50,
    "start_time": "2022-03-28T05:44:17.051Z"
   },
   {
    "duration": 13,
    "start_time": "2022-03-28T05:44:17.103Z"
   },
   {
    "duration": 204,
    "start_time": "2022-03-28T05:44:17.118Z"
   },
   {
    "duration": 7,
    "start_time": "2022-03-28T05:44:17.324Z"
   },
   {
    "duration": 24,
    "start_time": "2022-03-28T05:44:17.333Z"
   },
   {
    "duration": 327,
    "start_time": "2022-03-28T05:44:17.359Z"
   },
   {
    "duration": 8,
    "start_time": "2022-03-28T05:44:17.688Z"
   },
   {
    "duration": 294,
    "start_time": "2022-03-28T05:44:17.698Z"
   },
   {
    "duration": 9,
    "start_time": "2022-03-28T05:44:17.994Z"
   },
   {
    "duration": 510,
    "start_time": "2022-03-28T05:44:18.006Z"
   },
   {
    "duration": 9,
    "start_time": "2022-03-28T05:44:18.519Z"
   },
   {
    "duration": 32,
    "start_time": "2022-03-28T05:44:18.531Z"
   },
   {
    "duration": 254,
    "start_time": "2022-03-28T05:44:18.566Z"
   },
   {
    "duration": 9,
    "start_time": "2022-03-28T05:44:18.823Z"
   },
   {
    "duration": 257,
    "start_time": "2022-03-28T05:44:18.835Z"
   },
   {
    "duration": 8,
    "start_time": "2022-03-28T05:44:19.095Z"
   },
   {
    "duration": 263,
    "start_time": "2022-03-28T05:44:19.105Z"
   },
   {
    "duration": 16,
    "start_time": "2022-03-28T05:44:19.371Z"
   },
   {
    "duration": 14,
    "start_time": "2022-03-28T05:44:19.390Z"
   },
   {
    "duration": 30,
    "start_time": "2022-03-28T05:44:19.407Z"
   },
   {
    "duration": 43,
    "start_time": "2022-03-28T05:47:17.715Z"
   },
   {
    "duration": 3,
    "start_time": "2022-03-28T05:47:37.079Z"
   },
   {
    "duration": 1959,
    "start_time": "2022-03-28T05:50:00.409Z"
   },
   {
    "duration": 50,
    "start_time": "2022-03-28T05:50:02.371Z"
   },
   {
    "duration": 62,
    "start_time": "2022-03-28T05:50:02.423Z"
   },
   {
    "duration": 106,
    "start_time": "2022-03-28T05:50:02.487Z"
   },
   {
    "duration": 42,
    "start_time": "2022-03-28T05:50:02.596Z"
   },
   {
    "duration": 65,
    "start_time": "2022-03-28T05:50:02.640Z"
   },
   {
    "duration": 85,
    "start_time": "2022-03-28T05:50:02.707Z"
   },
   {
    "duration": 4,
    "start_time": "2022-03-28T05:50:02.795Z"
   },
   {
    "duration": 65,
    "start_time": "2022-03-28T05:50:02.802Z"
   },
   {
    "duration": 60,
    "start_time": "2022-03-28T05:50:02.870Z"
   },
   {
    "duration": 28,
    "start_time": "2022-03-28T05:50:02.933Z"
   },
   {
    "duration": 37,
    "start_time": "2022-03-28T05:50:02.983Z"
   },
   {
    "duration": 9,
    "start_time": "2022-03-28T05:50:03.023Z"
   },
   {
    "duration": 112,
    "start_time": "2022-03-28T05:50:03.037Z"
   },
   {
    "duration": 45,
    "start_time": "2022-03-28T05:50:03.151Z"
   },
   {
    "duration": 41,
    "start_time": "2022-03-28T05:50:03.199Z"
   },
   {
    "duration": 55,
    "start_time": "2022-03-28T05:50:03.243Z"
   },
   {
    "duration": 63,
    "start_time": "2022-03-28T05:50:03.301Z"
   },
   {
    "duration": 43,
    "start_time": "2022-03-28T05:50:03.366Z"
   },
   {
    "duration": 35,
    "start_time": "2022-03-28T05:50:03.412Z"
   },
   {
    "duration": 182,
    "start_time": "2022-03-28T05:50:03.450Z"
   },
   {
    "duration": 11,
    "start_time": "2022-03-28T05:50:03.635Z"
   },
   {
    "duration": 33,
    "start_time": "2022-03-28T05:50:03.648Z"
   },
   {
    "duration": 35,
    "start_time": "2022-03-28T05:50:03.684Z"
   },
   {
    "duration": 306,
    "start_time": "2022-03-28T05:50:03.721Z"
   },
   {
    "duration": 9,
    "start_time": "2022-03-28T05:50:04.029Z"
   },
   {
    "duration": 295,
    "start_time": "2022-03-28T05:50:04.041Z"
   },
   {
    "duration": 9,
    "start_time": "2022-03-28T05:50:04.338Z"
   },
   {
    "duration": 327,
    "start_time": "2022-03-28T05:50:04.349Z"
   },
   {
    "duration": 10,
    "start_time": "2022-03-28T05:50:04.683Z"
   },
   {
    "duration": 20,
    "start_time": "2022-03-28T05:50:04.696Z"
   },
   {
    "duration": 285,
    "start_time": "2022-03-28T05:50:04.718Z"
   },
   {
    "duration": 9,
    "start_time": "2022-03-28T05:50:05.005Z"
   },
   {
    "duration": 268,
    "start_time": "2022-03-28T05:50:05.016Z"
   },
   {
    "duration": 9,
    "start_time": "2022-03-28T05:50:05.287Z"
   },
   {
    "duration": 268,
    "start_time": "2022-03-28T05:50:05.298Z"
   },
   {
    "duration": 17,
    "start_time": "2022-03-28T05:50:05.568Z"
   },
   {
    "duration": 25,
    "start_time": "2022-03-28T05:50:05.587Z"
   },
   {
    "duration": 42,
    "start_time": "2022-03-28T05:50:05.615Z"
   },
   {
    "duration": 1951,
    "start_time": "2022-03-28T05:50:28.405Z"
   },
   {
    "duration": 50,
    "start_time": "2022-03-28T05:50:30.360Z"
   },
   {
    "duration": 47,
    "start_time": "2022-03-28T05:50:30.413Z"
   },
   {
    "duration": 123,
    "start_time": "2022-03-28T05:50:30.464Z"
   },
   {
    "duration": 42,
    "start_time": "2022-03-28T05:50:30.590Z"
   },
   {
    "duration": 62,
    "start_time": "2022-03-28T05:50:30.635Z"
   },
   {
    "duration": 65,
    "start_time": "2022-03-28T05:50:30.699Z"
   },
   {
    "duration": 3,
    "start_time": "2022-03-28T05:50:30.784Z"
   },
   {
    "duration": 42,
    "start_time": "2022-03-28T05:50:30.790Z"
   },
   {
    "duration": 80,
    "start_time": "2022-03-28T05:50:30.836Z"
   },
   {
    "duration": 25,
    "start_time": "2022-03-28T05:50:30.919Z"
   },
   {
    "duration": 51,
    "start_time": "2022-03-28T05:50:30.947Z"
   },
   {
    "duration": 23,
    "start_time": "2022-03-28T05:50:31.000Z"
   },
   {
    "duration": 133,
    "start_time": "2022-03-28T05:50:31.026Z"
   },
   {
    "duration": 47,
    "start_time": "2022-03-28T05:50:31.161Z"
   },
   {
    "duration": 40,
    "start_time": "2022-03-28T05:50:31.210Z"
   },
   {
    "duration": 52,
    "start_time": "2022-03-28T05:50:31.252Z"
   },
   {
    "duration": 83,
    "start_time": "2022-03-28T05:50:31.307Z"
   },
   {
    "duration": 31,
    "start_time": "2022-03-28T05:50:31.393Z"
   },
   {
    "duration": 16,
    "start_time": "2022-03-28T05:50:31.426Z"
   },
   {
    "duration": 40,
    "start_time": "2022-03-28T05:50:31.445Z"
   },
   {
    "duration": 191,
    "start_time": "2022-03-28T05:50:31.488Z"
   },
   {
    "duration": 14,
    "start_time": "2022-03-28T05:50:31.683Z"
   },
   {
    "duration": 11,
    "start_time": "2022-03-28T05:50:31.699Z"
   },
   {
    "duration": 26,
    "start_time": "2022-03-28T05:50:31.712Z"
   },
   {
    "duration": 349,
    "start_time": "2022-03-28T05:50:31.741Z"
   },
   {
    "duration": 20,
    "start_time": "2022-03-28T05:50:32.093Z"
   },
   {
    "duration": 419,
    "start_time": "2022-03-28T05:50:32.120Z"
   },
   {
    "duration": 11,
    "start_time": "2022-03-28T05:50:32.541Z"
   },
   {
    "duration": 504,
    "start_time": "2022-03-28T05:50:32.555Z"
   },
   {
    "duration": 9,
    "start_time": "2022-03-28T05:50:33.062Z"
   },
   {
    "duration": 17,
    "start_time": "2022-03-28T05:50:33.086Z"
   },
   {
    "duration": 285,
    "start_time": "2022-03-28T05:50:33.106Z"
   },
   {
    "duration": 9,
    "start_time": "2022-03-28T05:50:33.393Z"
   },
   {
    "duration": 275,
    "start_time": "2022-03-28T05:50:33.405Z"
   },
   {
    "duration": 9,
    "start_time": "2022-03-28T05:50:33.685Z"
   },
   {
    "duration": 286,
    "start_time": "2022-03-28T05:50:33.697Z"
   },
   {
    "duration": 8,
    "start_time": "2022-03-28T05:50:33.986Z"
   },
   {
    "duration": 12,
    "start_time": "2022-03-28T05:50:33.996Z"
   },
   {
    "duration": 16,
    "start_time": "2022-03-28T05:50:34.012Z"
   },
   {
    "duration": 1917,
    "start_time": "2022-03-28T05:54:09.301Z"
   },
   {
    "duration": 46,
    "start_time": "2022-03-28T05:54:11.221Z"
   },
   {
    "duration": 48,
    "start_time": "2022-03-28T05:54:11.270Z"
   },
   {
    "duration": 113,
    "start_time": "2022-03-28T05:54:11.321Z"
   },
   {
    "duration": 49,
    "start_time": "2022-03-28T05:54:11.436Z"
   },
   {
    "duration": 37,
    "start_time": "2022-03-28T05:54:11.487Z"
   },
   {
    "duration": 89,
    "start_time": "2022-03-28T05:54:11.527Z"
   },
   {
    "duration": 4,
    "start_time": "2022-03-28T05:54:12.164Z"
   },
   {
    "duration": 36,
    "start_time": "2022-03-28T05:54:13.706Z"
   },
   {
    "duration": 55,
    "start_time": "2022-03-28T05:54:13.887Z"
   },
   {
    "duration": 27,
    "start_time": "2022-03-28T05:54:14.994Z"
   },
   {
    "duration": 27,
    "start_time": "2022-03-28T05:54:15.226Z"
   },
   {
    "duration": 10,
    "start_time": "2022-03-28T05:54:15.417Z"
   },
   {
    "duration": 88,
    "start_time": "2022-03-28T05:54:16.804Z"
   },
   {
    "duration": 43,
    "start_time": "2022-03-28T05:54:17.905Z"
   },
   {
    "duration": 10,
    "start_time": "2022-03-28T05:54:18.293Z"
   },
   {
    "duration": 32,
    "start_time": "2022-03-28T05:54:33.457Z"
   },
   {
    "duration": 10,
    "start_time": "2022-03-28T05:54:34.067Z"
   },
   {
    "duration": 34,
    "start_time": "2022-03-28T05:54:38.943Z"
   },
   {
    "duration": 14,
    "start_time": "2022-03-28T05:54:38.979Z"
   },
   {
    "duration": 49,
    "start_time": "2022-03-28T05:54:48.609Z"
   },
   {
    "duration": 11,
    "start_time": "2022-03-28T05:54:49.136Z"
   },
   {
    "duration": 11,
    "start_time": "2022-03-28T05:56:53.518Z"
   },
   {
    "duration": 33,
    "start_time": "2022-03-28T05:56:55.732Z"
   },
   {
    "duration": 11,
    "start_time": "2022-03-28T05:56:55.832Z"
   },
   {
    "duration": 32,
    "start_time": "2022-03-28T05:57:00.780Z"
   },
   {
    "duration": 11,
    "start_time": "2022-03-28T05:57:01.062Z"
   },
   {
    "duration": 1973,
    "start_time": "2022-03-28T05:57:44.182Z"
   },
   {
    "duration": 47,
    "start_time": "2022-03-28T05:57:46.157Z"
   },
   {
    "duration": 44,
    "start_time": "2022-03-28T05:57:46.207Z"
   },
   {
    "duration": 111,
    "start_time": "2022-03-28T05:57:46.254Z"
   },
   {
    "duration": 52,
    "start_time": "2022-03-28T05:57:46.367Z"
   },
   {
    "duration": 37,
    "start_time": "2022-03-28T05:57:46.422Z"
   },
   {
    "duration": 67,
    "start_time": "2022-03-28T05:57:46.485Z"
   },
   {
    "duration": 3,
    "start_time": "2022-03-28T05:57:46.555Z"
   },
   {
    "duration": 34,
    "start_time": "2022-03-28T05:57:46.583Z"
   },
   {
    "duration": 82,
    "start_time": "2022-03-28T05:57:46.623Z"
   },
   {
    "duration": 27,
    "start_time": "2022-03-28T05:57:46.708Z"
   },
   {
    "duration": 47,
    "start_time": "2022-03-28T05:57:46.739Z"
   },
   {
    "duration": 9,
    "start_time": "2022-03-28T05:57:46.788Z"
   },
   {
    "duration": 104,
    "start_time": "2022-03-28T05:57:46.799Z"
   },
   {
    "duration": 46,
    "start_time": "2022-03-28T05:57:46.905Z"
   },
   {
    "duration": 64,
    "start_time": "2022-03-28T05:57:46.953Z"
   },
   {
    "duration": 32,
    "start_time": "2022-03-28T05:57:47.019Z"
   },
   {
    "duration": 84,
    "start_time": "2022-03-28T05:57:47.053Z"
   },
   {
    "duration": 47,
    "start_time": "2022-03-28T05:57:47.139Z"
   },
   {
    "duration": 11,
    "start_time": "2022-03-28T05:57:47.188Z"
   },
   {
    "duration": 195,
    "start_time": "2022-03-28T05:57:47.201Z"
   },
   {
    "duration": 6,
    "start_time": "2022-03-28T05:57:47.398Z"
   },
   {
    "duration": 19,
    "start_time": "2022-03-28T05:57:47.406Z"
   },
   {
    "duration": 318,
    "start_time": "2022-03-28T05:57:47.427Z"
   },
   {
    "duration": 9,
    "start_time": "2022-03-28T05:57:47.748Z"
   },
   {
    "duration": 294,
    "start_time": "2022-03-28T05:57:47.759Z"
   },
   {
    "duration": 27,
    "start_time": "2022-03-28T05:57:48.056Z"
   },
   {
    "duration": 321,
    "start_time": "2022-03-28T05:57:48.088Z"
   },
   {
    "duration": 8,
    "start_time": "2022-03-28T05:57:48.411Z"
   },
   {
    "duration": 19,
    "start_time": "2022-03-28T05:57:48.421Z"
   },
   {
    "duration": 273,
    "start_time": "2022-03-28T05:57:48.442Z"
   },
   {
    "duration": 9,
    "start_time": "2022-03-28T05:57:48.717Z"
   },
   {
    "duration": 265,
    "start_time": "2022-03-28T05:57:48.728Z"
   },
   {
    "duration": 7,
    "start_time": "2022-03-28T05:57:48.995Z"
   },
   {
    "duration": 308,
    "start_time": "2022-03-28T05:57:49.004Z"
   },
   {
    "duration": 9,
    "start_time": "2022-03-28T05:57:49.314Z"
   },
   {
    "duration": 12,
    "start_time": "2022-03-28T05:57:49.326Z"
   },
   {
    "duration": 43,
    "start_time": "2022-03-28T05:57:49.341Z"
   },
   {
    "duration": 48,
    "start_time": "2022-03-28T11:08:37.919Z"
   },
   {
    "duration": 1712,
    "start_time": "2022-03-28T11:08:47.046Z"
   },
   {
    "duration": 34,
    "start_time": "2022-03-28T11:08:48.760Z"
   },
   {
    "duration": 34,
    "start_time": "2022-03-28T11:08:48.796Z"
   },
   {
    "duration": 65,
    "start_time": "2022-03-28T11:08:48.832Z"
   },
   {
    "duration": 49,
    "start_time": "2022-03-28T11:08:48.899Z"
   },
   {
    "duration": 41,
    "start_time": "2022-03-28T11:08:48.950Z"
   },
   {
    "duration": 81,
    "start_time": "2022-03-28T11:08:48.993Z"
   },
   {
    "duration": 3,
    "start_time": "2022-03-28T11:08:49.076Z"
   },
   {
    "duration": 44,
    "start_time": "2022-03-28T11:08:49.081Z"
   },
   {
    "duration": 56,
    "start_time": "2022-03-28T11:08:49.135Z"
   },
   {
    "duration": 40,
    "start_time": "2022-03-28T11:08:49.193Z"
   },
   {
    "duration": 24,
    "start_time": "2022-03-28T11:08:49.235Z"
   },
   {
    "duration": 6,
    "start_time": "2022-03-28T11:08:49.261Z"
   },
   {
    "duration": 82,
    "start_time": "2022-03-28T11:08:49.269Z"
   },
   {
    "duration": 30,
    "start_time": "2022-03-28T11:08:49.353Z"
   },
   {
    "duration": 27,
    "start_time": "2022-03-28T11:08:49.384Z"
   },
   {
    "duration": 37,
    "start_time": "2022-03-28T11:08:49.413Z"
   },
   {
    "duration": 37,
    "start_time": "2022-03-28T11:08:49.452Z"
   },
   {
    "duration": 17,
    "start_time": "2022-03-28T11:08:49.491Z"
   },
   {
    "duration": 13,
    "start_time": "2022-03-28T11:08:49.534Z"
   },
   {
    "duration": 111,
    "start_time": "2022-03-28T11:08:49.549Z"
   },
   {
    "duration": 5,
    "start_time": "2022-03-28T11:08:49.662Z"
   },
   {
    "duration": 32,
    "start_time": "2022-03-28T11:08:49.668Z"
   },
   {
    "duration": 177,
    "start_time": "2022-03-28T11:08:49.702Z"
   },
   {
    "duration": 6,
    "start_time": "2022-03-28T11:08:49.882Z"
   },
   {
    "duration": 179,
    "start_time": "2022-03-28T11:08:49.890Z"
   },
   {
    "duration": 7,
    "start_time": "2022-03-28T11:08:50.071Z"
   },
   {
    "duration": 198,
    "start_time": "2022-03-28T11:08:50.082Z"
   },
   {
    "duration": 7,
    "start_time": "2022-03-28T11:08:50.282Z"
   },
   {
    "duration": 14,
    "start_time": "2022-03-28T11:08:50.291Z"
   },
   {
    "duration": 157,
    "start_time": "2022-03-28T11:08:50.307Z"
   },
   {
    "duration": 6,
    "start_time": "2022-03-28T11:08:50.466Z"
   },
   {
    "duration": 160,
    "start_time": "2022-03-28T11:08:50.474Z"
   },
   {
    "duration": 6,
    "start_time": "2022-03-28T11:08:50.636Z"
   },
   {
    "duration": 162,
    "start_time": "2022-03-28T11:08:50.643Z"
   },
   {
    "duration": 6,
    "start_time": "2022-03-28T11:08:50.807Z"
   },
   {
    "duration": 20,
    "start_time": "2022-03-28T11:08:50.814Z"
   },
   {
    "duration": 17,
    "start_time": "2022-03-28T11:08:50.836Z"
   },
   {
    "duration": 2,
    "start_time": "2022-03-28T11:09:12.508Z"
   },
   {
    "duration": 2070,
    "start_time": "2022-03-28T11:09:23.090Z"
   },
   {
    "duration": 34,
    "start_time": "2022-03-28T11:09:25.162Z"
   },
   {
    "duration": 32,
    "start_time": "2022-03-28T11:09:25.198Z"
   },
   {
    "duration": 65,
    "start_time": "2022-03-28T11:09:25.232Z"
   },
   {
    "duration": 36,
    "start_time": "2022-03-28T11:09:25.299Z"
   },
   {
    "duration": 27,
    "start_time": "2022-03-28T11:09:25.336Z"
   },
   {
    "duration": 44,
    "start_time": "2022-03-28T11:09:25.364Z"
   },
   {
    "duration": 23,
    "start_time": "2022-03-28T11:09:25.410Z"
   },
   {
    "duration": 24,
    "start_time": "2022-03-28T11:09:25.434Z"
   },
   {
    "duration": 36,
    "start_time": "2022-03-28T11:09:25.461Z"
   },
   {
    "duration": 44,
    "start_time": "2022-03-28T11:09:25.498Z"
   },
   {
    "duration": 17,
    "start_time": "2022-03-28T11:09:25.544Z"
   },
   {
    "duration": 6,
    "start_time": "2022-03-28T11:09:25.563Z"
   },
   {
    "duration": 75,
    "start_time": "2022-03-28T11:09:25.571Z"
   },
   {
    "duration": 30,
    "start_time": "2022-03-28T11:09:25.648Z"
   },
   {
    "duration": 28,
    "start_time": "2022-03-28T11:09:25.679Z"
   },
   {
    "duration": 42,
    "start_time": "2022-03-28T11:09:25.708Z"
   },
   {
    "duration": 37,
    "start_time": "2022-03-28T11:09:25.751Z"
   },
   {
    "duration": 18,
    "start_time": "2022-03-28T11:09:25.789Z"
   },
   {
    "duration": 34,
    "start_time": "2022-03-28T11:09:25.808Z"
   },
   {
    "duration": 106,
    "start_time": "2022-03-28T11:09:25.843Z"
   },
   {
    "duration": 3,
    "start_time": "2022-03-28T11:09:25.950Z"
   },
   {
    "duration": 17,
    "start_time": "2022-03-28T11:09:25.954Z"
   },
   {
    "duration": 187,
    "start_time": "2022-03-28T11:09:25.972Z"
   },
   {
    "duration": 6,
    "start_time": "2022-03-28T11:09:26.160Z"
   },
   {
    "duration": 169,
    "start_time": "2022-03-28T11:09:26.168Z"
   },
   {
    "duration": 6,
    "start_time": "2022-03-28T11:09:26.339Z"
   },
   {
    "duration": 185,
    "start_time": "2022-03-28T11:09:26.349Z"
   },
   {
    "duration": 6,
    "start_time": "2022-03-28T11:09:26.536Z"
   },
   {
    "duration": 11,
    "start_time": "2022-03-28T11:09:26.544Z"
   },
   {
    "duration": 156,
    "start_time": "2022-03-28T11:09:26.557Z"
   },
   {
    "duration": 6,
    "start_time": "2022-03-28T11:09:26.715Z"
   },
   {
    "duration": 143,
    "start_time": "2022-03-28T11:09:26.733Z"
   },
   {
    "duration": 6,
    "start_time": "2022-03-28T11:09:26.878Z"
   },
   {
    "duration": 159,
    "start_time": "2022-03-28T11:09:26.886Z"
   },
   {
    "duration": 7,
    "start_time": "2022-03-28T11:09:27.047Z"
   },
   {
    "duration": 7,
    "start_time": "2022-03-28T11:09:27.055Z"
   },
   {
    "duration": 25,
    "start_time": "2022-03-28T11:09:27.063Z"
   },
   {
    "duration": 2319,
    "start_time": "2022-03-30T11:39:55.906Z"
   },
   {
    "duration": 48,
    "start_time": "2022-03-30T11:39:58.228Z"
   },
   {
    "duration": 42,
    "start_time": "2022-03-30T11:39:58.279Z"
   },
   {
    "duration": 104,
    "start_time": "2022-03-30T11:39:58.325Z"
   },
   {
    "duration": 48,
    "start_time": "2022-03-30T11:39:58.432Z"
   },
   {
    "duration": 35,
    "start_time": "2022-03-30T11:39:58.482Z"
   },
   {
    "duration": 76,
    "start_time": "2022-03-30T11:39:58.544Z"
   },
   {
    "duration": 20,
    "start_time": "2022-03-30T11:39:58.623Z"
   },
   {
    "duration": 38,
    "start_time": "2022-03-30T11:39:58.646Z"
   },
   {
    "duration": 88,
    "start_time": "2022-03-30T11:39:58.689Z"
   },
   {
    "duration": 25,
    "start_time": "2022-03-30T11:39:58.779Z"
   },
   {
    "duration": 50,
    "start_time": "2022-03-30T11:39:58.806Z"
   },
   {
    "duration": 11,
    "start_time": "2022-03-30T11:39:58.859Z"
   },
   {
    "duration": 99,
    "start_time": "2022-03-30T11:39:58.873Z"
   },
   {
    "duration": 42,
    "start_time": "2022-03-30T11:39:58.975Z"
   },
   {
    "duration": 55,
    "start_time": "2022-03-30T11:39:59.020Z"
   },
   {
    "duration": 29,
    "start_time": "2022-03-30T11:39:59.078Z"
   },
   {
    "duration": 89,
    "start_time": "2022-03-30T11:39:59.110Z"
   },
   {
    "duration": 42,
    "start_time": "2022-03-30T11:39:59.201Z"
   },
   {
    "duration": 13,
    "start_time": "2022-03-30T11:39:59.245Z"
   },
   {
    "duration": 224,
    "start_time": "2022-03-30T11:39:59.262Z"
   },
   {
    "duration": 5,
    "start_time": "2022-03-30T11:39:59.488Z"
   },
   {
    "duration": 19,
    "start_time": "2022-03-30T11:39:59.496Z"
   },
   {
    "duration": 350,
    "start_time": "2022-03-30T11:39:59.518Z"
   },
   {
    "duration": 9,
    "start_time": "2022-03-30T11:39:59.870Z"
   },
   {
    "duration": 292,
    "start_time": "2022-03-30T11:39:59.881Z"
   },
   {
    "duration": 9,
    "start_time": "2022-03-30T11:40:00.175Z"
   },
   {
    "duration": 324,
    "start_time": "2022-03-30T11:40:00.189Z"
   },
   {
    "duration": 26,
    "start_time": "2022-03-30T11:40:00.516Z"
   },
   {
    "duration": 13,
    "start_time": "2022-03-30T11:40:00.544Z"
   },
   {
    "duration": 258,
    "start_time": "2022-03-30T11:40:00.560Z"
   },
   {
    "duration": 9,
    "start_time": "2022-03-30T11:40:00.820Z"
   },
   {
    "duration": 248,
    "start_time": "2022-03-30T11:40:00.844Z"
   },
   {
    "duration": 10,
    "start_time": "2022-03-30T11:40:01.095Z"
   },
   {
    "duration": 282,
    "start_time": "2022-03-30T11:40:01.108Z"
   },
   {
    "duration": 10,
    "start_time": "2022-03-30T11:40:01.393Z"
   },
   {
    "duration": 22,
    "start_time": "2022-03-30T11:40:01.405Z"
   },
   {
    "duration": 26,
    "start_time": "2022-03-30T11:40:01.443Z"
   },
   {
    "duration": 1577,
    "start_time": "2022-03-30T12:52:06.793Z"
   },
   {
    "duration": 34,
    "start_time": "2022-03-30T12:52:08.372Z"
   },
   {
    "duration": 32,
    "start_time": "2022-03-30T12:52:08.407Z"
   },
   {
    "duration": 66,
    "start_time": "2022-03-30T12:52:08.441Z"
   },
   {
    "duration": 40,
    "start_time": "2022-03-30T12:52:08.509Z"
   },
   {
    "duration": 24,
    "start_time": "2022-03-30T12:52:08.551Z"
   },
   {
    "duration": 59,
    "start_time": "2022-03-30T12:52:08.577Z"
   },
   {
    "duration": 3,
    "start_time": "2022-03-30T12:52:08.637Z"
   },
   {
    "duration": 34,
    "start_time": "2022-03-30T12:52:08.641Z"
   },
   {
    "duration": 39,
    "start_time": "2022-03-30T12:52:08.676Z"
   },
   {
    "duration": 32,
    "start_time": "2022-03-30T12:52:08.717Z"
   },
   {
    "duration": 18,
    "start_time": "2022-03-30T12:52:08.751Z"
   },
   {
    "duration": 7,
    "start_time": "2022-03-30T12:52:08.771Z"
   },
   {
    "duration": 81,
    "start_time": "2022-03-30T12:52:08.782Z"
   },
   {
    "duration": 31,
    "start_time": "2022-03-30T12:52:08.865Z"
   },
   {
    "duration": 49,
    "start_time": "2022-03-30T12:52:08.898Z"
   },
   {
    "duration": 20,
    "start_time": "2022-03-30T12:52:08.949Z"
   },
   {
    "duration": 40,
    "start_time": "2022-03-30T12:52:08.971Z"
   },
   {
    "duration": 18,
    "start_time": "2022-03-30T12:52:09.034Z"
   },
   {
    "duration": 10,
    "start_time": "2022-03-30T12:52:09.053Z"
   },
   {
    "duration": 122,
    "start_time": "2022-03-30T12:52:09.064Z"
   },
   {
    "duration": 11,
    "start_time": "2022-03-30T12:52:09.188Z"
   },
   {
    "duration": 193,
    "start_time": "2022-03-30T12:52:09.200Z"
   },
   {
    "duration": 6,
    "start_time": "2022-03-30T12:52:09.395Z"
   },
   {
    "duration": 172,
    "start_time": "2022-03-30T12:52:09.402Z"
   },
   {
    "duration": 6,
    "start_time": "2022-03-30T12:52:09.575Z"
   },
   {
    "duration": 185,
    "start_time": "2022-03-30T12:52:09.583Z"
   },
   {
    "duration": 6,
    "start_time": "2022-03-30T12:52:09.770Z"
   },
   {
    "duration": 9,
    "start_time": "2022-03-30T12:52:09.778Z"
   },
   {
    "duration": 172,
    "start_time": "2022-03-30T12:52:09.789Z"
   },
   {
    "duration": 6,
    "start_time": "2022-03-30T12:52:09.963Z"
   },
   {
    "duration": 163,
    "start_time": "2022-03-30T12:52:09.971Z"
   },
   {
    "duration": 6,
    "start_time": "2022-03-30T12:52:10.136Z"
   },
   {
    "duration": 157,
    "start_time": "2022-03-30T12:52:10.144Z"
   },
   {
    "duration": 6,
    "start_time": "2022-03-30T12:52:10.303Z"
   },
   {
    "duration": 12,
    "start_time": "2022-03-30T12:52:10.311Z"
   },
   {
    "duration": 19,
    "start_time": "2022-03-30T12:52:10.334Z"
   },
   {
    "duration": 1411,
    "start_time": "2022-03-30T12:53:13.930Z"
   },
   {
    "duration": 32,
    "start_time": "2022-03-30T12:53:15.343Z"
   },
   {
    "duration": 31,
    "start_time": "2022-03-30T12:53:15.377Z"
   },
   {
    "duration": 74,
    "start_time": "2022-03-30T12:53:15.409Z"
   },
   {
    "duration": 27,
    "start_time": "2022-03-30T12:53:15.485Z"
   },
   {
    "duration": 42,
    "start_time": "2022-03-30T12:53:15.513Z"
   },
   {
    "duration": 43,
    "start_time": "2022-03-30T12:53:15.557Z"
   },
   {
    "duration": 3,
    "start_time": "2022-03-30T12:53:15.602Z"
   },
   {
    "duration": 45,
    "start_time": "2022-03-30T12:53:15.606Z"
   },
   {
    "duration": 38,
    "start_time": "2022-03-30T12:53:15.652Z"
   },
   {
    "duration": 17,
    "start_time": "2022-03-30T12:53:15.691Z"
   },
   {
    "duration": 16,
    "start_time": "2022-03-30T12:53:15.734Z"
   },
   {
    "duration": 5,
    "start_time": "2022-03-30T12:53:15.752Z"
   },
   {
    "duration": 73,
    "start_time": "2022-03-30T12:53:15.760Z"
   },
   {
    "duration": 28,
    "start_time": "2022-03-30T12:53:15.835Z"
   },
   {
    "duration": 27,
    "start_time": "2022-03-30T12:53:15.865Z"
   },
   {
    "duration": 43,
    "start_time": "2022-03-30T12:53:15.893Z"
   },
   {
    "duration": 37,
    "start_time": "2022-03-30T12:53:15.938Z"
   },
   {
    "duration": 17,
    "start_time": "2022-03-30T12:53:15.977Z"
   },
   {
    "duration": 9,
    "start_time": "2022-03-30T12:53:15.995Z"
   },
   {
    "duration": 129,
    "start_time": "2022-03-30T12:53:16.005Z"
   },
   {
    "duration": 9,
    "start_time": "2022-03-30T12:53:16.135Z"
   },
   {
    "duration": 179,
    "start_time": "2022-03-30T12:53:16.146Z"
   },
   {
    "duration": 7,
    "start_time": "2022-03-30T12:53:16.332Z"
   },
   {
    "duration": 162,
    "start_time": "2022-03-30T12:53:16.340Z"
   },
   {
    "duration": 6,
    "start_time": "2022-03-30T12:53:16.504Z"
   },
   {
    "duration": 170,
    "start_time": "2022-03-30T12:53:16.512Z"
   },
   {
    "duration": 5,
    "start_time": "2022-03-30T12:53:16.684Z"
   },
   {
    "duration": 21,
    "start_time": "2022-03-30T12:53:16.691Z"
   },
   {
    "duration": 149,
    "start_time": "2022-03-30T12:53:16.714Z"
   },
   {
    "duration": 6,
    "start_time": "2022-03-30T12:53:16.864Z"
   },
   {
    "duration": 171,
    "start_time": "2022-03-30T12:53:16.872Z"
   },
   {
    "duration": 6,
    "start_time": "2022-03-30T12:53:17.045Z"
   },
   {
    "duration": 159,
    "start_time": "2022-03-30T12:53:17.053Z"
   },
   {
    "duration": 6,
    "start_time": "2022-03-30T12:53:17.213Z"
   },
   {
    "duration": 5,
    "start_time": "2022-03-30T12:53:17.232Z"
   },
   {
    "duration": 15,
    "start_time": "2022-03-30T12:53:17.239Z"
   }
  ],
  "kernelspec": {
   "display_name": "Python 3 (ipykernel)",
   "language": "python",
   "name": "python3"
  },
  "language_info": {
   "codemirror_mode": {
    "name": "ipython",
    "version": 3
   },
   "file_extension": ".py",
   "mimetype": "text/x-python",
   "name": "python",
   "nbconvert_exporter": "python",
   "pygments_lexer": "ipython3",
   "version": "3.9.5"
  },
  "toc": {
   "base_numbering": 1,
   "nav_menu": {
    "height": "264px",
    "width": "306px"
   },
   "number_sections": true,
   "sideBar": true,
   "skip_h1_title": true,
   "title_cell": "Table of Contents",
   "title_sidebar": "Contents",
   "toc_cell": false,
   "toc_position": {
    "height": "789px",
    "left": "23px",
    "top": "111.125px",
    "width": "366.391px"
   },
   "toc_section_display": true,
   "toc_window_display": true
  }
 },
 "nbformat": 4,
 "nbformat_minor": 2
}
