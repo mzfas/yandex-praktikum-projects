{
 "cells": [
  {
   "cell_type": "markdown",
   "metadata": {},
   "source": [
    "**Содержание**\n",
    "* [Название проекта.](#Name)\n",
    "    -  [Цель исследования.](#purpose)\n",
    "    -  [Задачи исследования.](#goal)\n",
    "    -  [Исходные данные.](#data)\n",
    "    \n",
    " [Обзор данных.](#overview)\n",
    " \n",
    " [Предобработка данных.](#preprocessing)\n",
    "    - [2.1 Обработка пропусков.](#skip)\n",
    "    - [2.2 Замена типа данных.](#type)\n",
    "    - [2.3 Обработка дупликатов.](#duplicates)\n",
    "    - [2.5 Категоризация данных.](#category)\n",
    "    \n",
    " [Проверка гипотез.](#hypothesis)\n",
    " \n",
    " [Общий вывод.](#conclusion)"
   ]
  },
  {
   "cell_type": "markdown",
   "metadata": {},
   "source": [
    "<a id='Name'></a>\n",
    "# 1. Исследование надёжности заёмщиков "
   ]
  },
  {
   "cell_type": "markdown",
   "metadata": {},
   "source": [
    "<a id='purpose'></a>\n",
    "**Цель исследования** — разобраться:\n",
    "1. Влияет ли количество детей и семейное положение клиента на факт погашения кредита в срок?\n",
    "2. Есть ли зависимость между уровнем дохода и возвратом кредита в срок?\n",
    "3. Как разные цели кредита влияют на его возврат в срок?"
   ]
  },
  {
   "cell_type": "markdown",
   "metadata": {},
   "source": [
    "<a id='goal'></a>\n",
    "**Задачи исследования:**\n",
    "1. Провести анализ общей информации.\n",
    "2. Выполнить предобработку данных.\n",
    "3. Проверить гипотезы.\n",
    "4. Составить выводы на основе полученных результатов."
   ]
  },
  {
   "cell_type": "markdown",
   "metadata": {},
   "source": [
    "<a id='data'></a>\n",
    "**Исходные данные:**\n",
    "Статистика о платёжеспособности клиентов от кредитного отдела банка."
   ]
  },
  {
   "cell_type": "markdown",
   "metadata": {},
   "source": [
    "Результаты исследования будут учтены при построении модели **кредитного скоринга** — специальной системы, которая оценивает способность потенциального заёмщика вернуть кредит банку."
   ]
  },
  {
   "cell_type": "markdown",
   "metadata": {},
   "source": [
    "<a id='overview'></a>\n",
    "# 2. Изучение файлов с данными, получение общей информации, загрузка библиотек."
   ]
  },
  {
   "cell_type": "code",
   "execution_count": 1,
   "metadata": {},
   "outputs": [
    {
     "name": "stdout",
     "output_type": "stream",
     "text": [
      "<class 'pandas.core.frame.DataFrame'>\n",
      "RangeIndex: 21525 entries, 0 to 21524\n",
      "Data columns (total 12 columns):\n",
      " #   Column            Non-Null Count  Dtype  \n",
      "---  ------            --------------  -----  \n",
      " 0   children          21525 non-null  int64  \n",
      " 1   days_employed     19351 non-null  float64\n",
      " 2   dob_years         21525 non-null  int64  \n",
      " 3   education         21525 non-null  object \n",
      " 4   education_id      21525 non-null  int64  \n",
      " 5   family_status     21525 non-null  object \n",
      " 6   family_status_id  21525 non-null  int64  \n",
      " 7   gender            21525 non-null  object \n",
      " 8   income_type       21525 non-null  object \n",
      " 9   debt              21525 non-null  int64  \n",
      " 10  total_income      19351 non-null  float64\n",
      " 11  purpose           21525 non-null  object \n",
      "dtypes: float64(2), int64(5), object(5)\n",
      "memory usage: 2.0+ MB\n"
     ]
    },
    {
     "data": {
      "text/html": [
       "<div>\n",
       "<style scoped>\n",
       "    .dataframe tbody tr th:only-of-type {\n",
       "        vertical-align: middle;\n",
       "    }\n",
       "\n",
       "    .dataframe tbody tr th {\n",
       "        vertical-align: top;\n",
       "    }\n",
       "\n",
       "    .dataframe thead th {\n",
       "        text-align: right;\n",
       "    }\n",
       "</style>\n",
       "<table border=\"1\" class=\"dataframe\">\n",
       "  <thead>\n",
       "    <tr style=\"text-align: right;\">\n",
       "      <th></th>\n",
       "      <th>children</th>\n",
       "      <th>days_employed</th>\n",
       "      <th>dob_years</th>\n",
       "      <th>education</th>\n",
       "      <th>education_id</th>\n",
       "      <th>family_status</th>\n",
       "      <th>family_status_id</th>\n",
       "      <th>gender</th>\n",
       "      <th>income_type</th>\n",
       "      <th>debt</th>\n",
       "      <th>total_income</th>\n",
       "      <th>purpose</th>\n",
       "    </tr>\n",
       "  </thead>\n",
       "  <tbody>\n",
       "    <tr>\n",
       "      <th>0</th>\n",
       "      <td>1</td>\n",
       "      <td>-8437.673028</td>\n",
       "      <td>42</td>\n",
       "      <td>высшее</td>\n",
       "      <td>0</td>\n",
       "      <td>женат / замужем</td>\n",
       "      <td>0</td>\n",
       "      <td>F</td>\n",
       "      <td>сотрудник</td>\n",
       "      <td>0</td>\n",
       "      <td>253875.639453</td>\n",
       "      <td>покупка жилья</td>\n",
       "    </tr>\n",
       "    <tr>\n",
       "      <th>1</th>\n",
       "      <td>1</td>\n",
       "      <td>-4024.803754</td>\n",
       "      <td>36</td>\n",
       "      <td>среднее</td>\n",
       "      <td>1</td>\n",
       "      <td>женат / замужем</td>\n",
       "      <td>0</td>\n",
       "      <td>F</td>\n",
       "      <td>сотрудник</td>\n",
       "      <td>0</td>\n",
       "      <td>112080.014102</td>\n",
       "      <td>приобретение автомобиля</td>\n",
       "    </tr>\n",
       "    <tr>\n",
       "      <th>2</th>\n",
       "      <td>0</td>\n",
       "      <td>-5623.422610</td>\n",
       "      <td>33</td>\n",
       "      <td>Среднее</td>\n",
       "      <td>1</td>\n",
       "      <td>женат / замужем</td>\n",
       "      <td>0</td>\n",
       "      <td>M</td>\n",
       "      <td>сотрудник</td>\n",
       "      <td>0</td>\n",
       "      <td>145885.952297</td>\n",
       "      <td>покупка жилья</td>\n",
       "    </tr>\n",
       "    <tr>\n",
       "      <th>3</th>\n",
       "      <td>3</td>\n",
       "      <td>-4124.747207</td>\n",
       "      <td>32</td>\n",
       "      <td>среднее</td>\n",
       "      <td>1</td>\n",
       "      <td>женат / замужем</td>\n",
       "      <td>0</td>\n",
       "      <td>M</td>\n",
       "      <td>сотрудник</td>\n",
       "      <td>0</td>\n",
       "      <td>267628.550329</td>\n",
       "      <td>дополнительное образование</td>\n",
       "    </tr>\n",
       "    <tr>\n",
       "      <th>4</th>\n",
       "      <td>0</td>\n",
       "      <td>340266.072047</td>\n",
       "      <td>53</td>\n",
       "      <td>среднее</td>\n",
       "      <td>1</td>\n",
       "      <td>гражданский брак</td>\n",
       "      <td>1</td>\n",
       "      <td>F</td>\n",
       "      <td>пенсионер</td>\n",
       "      <td>0</td>\n",
       "      <td>158616.077870</td>\n",
       "      <td>сыграть свадьбу</td>\n",
       "    </tr>\n",
       "    <tr>\n",
       "      <th>5</th>\n",
       "      <td>0</td>\n",
       "      <td>-926.185831</td>\n",
       "      <td>27</td>\n",
       "      <td>высшее</td>\n",
       "      <td>0</td>\n",
       "      <td>гражданский брак</td>\n",
       "      <td>1</td>\n",
       "      <td>M</td>\n",
       "      <td>компаньон</td>\n",
       "      <td>0</td>\n",
       "      <td>255763.565419</td>\n",
       "      <td>покупка жилья</td>\n",
       "    </tr>\n",
       "    <tr>\n",
       "      <th>6</th>\n",
       "      <td>0</td>\n",
       "      <td>-2879.202052</td>\n",
       "      <td>43</td>\n",
       "      <td>высшее</td>\n",
       "      <td>0</td>\n",
       "      <td>женат / замужем</td>\n",
       "      <td>0</td>\n",
       "      <td>F</td>\n",
       "      <td>компаньон</td>\n",
       "      <td>0</td>\n",
       "      <td>240525.971920</td>\n",
       "      <td>операции с жильем</td>\n",
       "    </tr>\n",
       "    <tr>\n",
       "      <th>7</th>\n",
       "      <td>0</td>\n",
       "      <td>-152.779569</td>\n",
       "      <td>50</td>\n",
       "      <td>СРЕДНЕЕ</td>\n",
       "      <td>1</td>\n",
       "      <td>женат / замужем</td>\n",
       "      <td>0</td>\n",
       "      <td>M</td>\n",
       "      <td>сотрудник</td>\n",
       "      <td>0</td>\n",
       "      <td>135823.934197</td>\n",
       "      <td>образование</td>\n",
       "    </tr>\n",
       "    <tr>\n",
       "      <th>8</th>\n",
       "      <td>2</td>\n",
       "      <td>-6929.865299</td>\n",
       "      <td>35</td>\n",
       "      <td>ВЫСШЕЕ</td>\n",
       "      <td>0</td>\n",
       "      <td>гражданский брак</td>\n",
       "      <td>1</td>\n",
       "      <td>F</td>\n",
       "      <td>сотрудник</td>\n",
       "      <td>0</td>\n",
       "      <td>95856.832424</td>\n",
       "      <td>на проведение свадьбы</td>\n",
       "    </tr>\n",
       "    <tr>\n",
       "      <th>9</th>\n",
       "      <td>0</td>\n",
       "      <td>-2188.756445</td>\n",
       "      <td>41</td>\n",
       "      <td>среднее</td>\n",
       "      <td>1</td>\n",
       "      <td>женат / замужем</td>\n",
       "      <td>0</td>\n",
       "      <td>M</td>\n",
       "      <td>сотрудник</td>\n",
       "      <td>0</td>\n",
       "      <td>144425.938277</td>\n",
       "      <td>покупка жилья для семьи</td>\n",
       "    </tr>\n",
       "    <tr>\n",
       "      <th>10</th>\n",
       "      <td>2</td>\n",
       "      <td>-4171.483647</td>\n",
       "      <td>36</td>\n",
       "      <td>высшее</td>\n",
       "      <td>0</td>\n",
       "      <td>женат / замужем</td>\n",
       "      <td>0</td>\n",
       "      <td>M</td>\n",
       "      <td>компаньон</td>\n",
       "      <td>0</td>\n",
       "      <td>113943.491460</td>\n",
       "      <td>покупка недвижимости</td>\n",
       "    </tr>\n",
       "    <tr>\n",
       "      <th>11</th>\n",
       "      <td>0</td>\n",
       "      <td>-792.701887</td>\n",
       "      <td>40</td>\n",
       "      <td>среднее</td>\n",
       "      <td>1</td>\n",
       "      <td>женат / замужем</td>\n",
       "      <td>0</td>\n",
       "      <td>F</td>\n",
       "      <td>сотрудник</td>\n",
       "      <td>0</td>\n",
       "      <td>77069.234271</td>\n",
       "      <td>покупка коммерческой недвижимости</td>\n",
       "    </tr>\n",
       "    <tr>\n",
       "      <th>12</th>\n",
       "      <td>0</td>\n",
       "      <td>NaN</td>\n",
       "      <td>65</td>\n",
       "      <td>среднее</td>\n",
       "      <td>1</td>\n",
       "      <td>гражданский брак</td>\n",
       "      <td>1</td>\n",
       "      <td>M</td>\n",
       "      <td>пенсионер</td>\n",
       "      <td>0</td>\n",
       "      <td>NaN</td>\n",
       "      <td>сыграть свадьбу</td>\n",
       "    </tr>\n",
       "    <tr>\n",
       "      <th>13</th>\n",
       "      <td>0</td>\n",
       "      <td>-1846.641941</td>\n",
       "      <td>54</td>\n",
       "      <td>неоконченное высшее</td>\n",
       "      <td>2</td>\n",
       "      <td>женат / замужем</td>\n",
       "      <td>0</td>\n",
       "      <td>F</td>\n",
       "      <td>сотрудник</td>\n",
       "      <td>0</td>\n",
       "      <td>130458.228857</td>\n",
       "      <td>приобретение автомобиля</td>\n",
       "    </tr>\n",
       "    <tr>\n",
       "      <th>14</th>\n",
       "      <td>0</td>\n",
       "      <td>-1844.956182</td>\n",
       "      <td>56</td>\n",
       "      <td>высшее</td>\n",
       "      <td>0</td>\n",
       "      <td>гражданский брак</td>\n",
       "      <td>1</td>\n",
       "      <td>F</td>\n",
       "      <td>компаньон</td>\n",
       "      <td>1</td>\n",
       "      <td>165127.911772</td>\n",
       "      <td>покупка жилой недвижимости</td>\n",
       "    </tr>\n",
       "  </tbody>\n",
       "</table>\n",
       "</div>"
      ],
      "text/plain": [
       "    children  days_employed  dob_years            education  education_id  \\\n",
       "0          1   -8437.673028         42               высшее             0   \n",
       "1          1   -4024.803754         36              среднее             1   \n",
       "2          0   -5623.422610         33              Среднее             1   \n",
       "3          3   -4124.747207         32              среднее             1   \n",
       "4          0  340266.072047         53              среднее             1   \n",
       "5          0    -926.185831         27               высшее             0   \n",
       "6          0   -2879.202052         43               высшее             0   \n",
       "7          0    -152.779569         50              СРЕДНЕЕ             1   \n",
       "8          2   -6929.865299         35               ВЫСШЕЕ             0   \n",
       "9          0   -2188.756445         41              среднее             1   \n",
       "10         2   -4171.483647         36               высшее             0   \n",
       "11         0    -792.701887         40              среднее             1   \n",
       "12         0            NaN         65              среднее             1   \n",
       "13         0   -1846.641941         54  неоконченное высшее             2   \n",
       "14         0   -1844.956182         56               высшее             0   \n",
       "\n",
       "       family_status  family_status_id gender income_type  debt  \\\n",
       "0    женат / замужем                 0      F   сотрудник     0   \n",
       "1    женат / замужем                 0      F   сотрудник     0   \n",
       "2    женат / замужем                 0      M   сотрудник     0   \n",
       "3    женат / замужем                 0      M   сотрудник     0   \n",
       "4   гражданский брак                 1      F   пенсионер     0   \n",
       "5   гражданский брак                 1      M   компаньон     0   \n",
       "6    женат / замужем                 0      F   компаньон     0   \n",
       "7    женат / замужем                 0      M   сотрудник     0   \n",
       "8   гражданский брак                 1      F   сотрудник     0   \n",
       "9    женат / замужем                 0      M   сотрудник     0   \n",
       "10   женат / замужем                 0      M   компаньон     0   \n",
       "11   женат / замужем                 0      F   сотрудник     0   \n",
       "12  гражданский брак                 1      M   пенсионер     0   \n",
       "13   женат / замужем                 0      F   сотрудник     0   \n",
       "14  гражданский брак                 1      F   компаньон     1   \n",
       "\n",
       "     total_income                            purpose  \n",
       "0   253875.639453                      покупка жилья  \n",
       "1   112080.014102            приобретение автомобиля  \n",
       "2   145885.952297                      покупка жилья  \n",
       "3   267628.550329         дополнительное образование  \n",
       "4   158616.077870                    сыграть свадьбу  \n",
       "5   255763.565419                      покупка жилья  \n",
       "6   240525.971920                  операции с жильем  \n",
       "7   135823.934197                        образование  \n",
       "8    95856.832424              на проведение свадьбы  \n",
       "9   144425.938277            покупка жилья для семьи  \n",
       "10  113943.491460               покупка недвижимости  \n",
       "11   77069.234271  покупка коммерческой недвижимости  \n",
       "12            NaN                    сыграть свадьбу  \n",
       "13  130458.228857            приобретение автомобиля  \n",
       "14  165127.911772         покупка жилой недвижимости  "
      ]
     },
     "metadata": {},
     "output_type": "display_data"
    }
   ],
   "source": [
    "#импортируем нужные библиотеки\n",
    "import pandas as pd \n",
    "from pymystem3 import Mystem\n",
    "m = Mystem()\n",
    "\n",
    "df = pd.read_csv('/datasets/data.csv') \n",
    "df.info() \n",
    "display(df.head(15)) "
   ]
  },
  {
   "cell_type": "markdown",
   "metadata": {},
   "source": [
    "**Вывод**"
   ]
  },
  {
   "cell_type": "markdown",
   "metadata": {},
   "source": [
    "Изучив общую информацию видим несколько проблем с данными: в столбце days_employed и total_income имеются пропущенные значения. Также days_empoloyed имеет отрицательные значения и тип float, а должен быть int, так как в нем записан трудовой стаж в целых днях. В столбец total_income также имеет тип float, для удобства вычеслений можно привести его к целочисленному типу.\n",
    "Отобразив первые 15 строк таблицы видим, что столбец days_employed помимо пропусков имеет отрицательные значения, а столбец education содержит дупликаты.\n"
   ]
  },
  {
   "cell_type": "markdown",
   "metadata": {},
   "source": [
    "<a id='preprocessing'></a>\n",
    "##  Предобработка данных"
   ]
  },
  {
   "cell_type": "markdown",
   "metadata": {},
   "source": [
    "<a id='skip'></a>\n",
    "### Обработка пропусков"
   ]
  },
  {
   "cell_type": "code",
   "execution_count": 2,
   "metadata": {},
   "outputs": [
    {
     "name": "stdout",
     "output_type": "stream",
     "text": [
      " 0     14149\n",
      " 1      4818\n",
      " 2      2055\n",
      " 3       330\n",
      " 20       76\n",
      "-1        47\n",
      " 4        41\n",
      " 5         9\n",
      "Name: children, dtype: int64\n",
      "среднее                13750\n",
      "высшее                  4718\n",
      "СРЕДНЕЕ                  772\n",
      "Среднее                  711\n",
      "неоконченное высшее      668\n",
      "ВЫСШЕЕ                   274\n",
      "Высшее                   268\n",
      "начальное                250\n",
      "Неоконченное высшее       47\n",
      "НЕОКОНЧЕННОЕ ВЫСШЕЕ       29\n",
      "НАЧАЛЬНОЕ                 17\n",
      "Начальное                 15\n",
      "ученая степень             4\n",
      "Ученая степень             1\n",
      "УЧЕНАЯ СТЕПЕНЬ             1\n",
      "Name: education, dtype: int64\n"
     ]
    }
   ],
   "source": [
    "#методом value_counts() посмотрим уникальные значения в столбцах children и education.\n",
    "\n",
    "print(df['children'].value_counts()) \n",
    "print(df['education'].value_counts()) \n",
    "#выдвинул гипотезу, что в случае с 20 детьми был поставлен лишний 0 и заменил значение на 2.\n",
    "df['children'] = df['children'].replace(20, 2) "
   ]
  },
  {
   "cell_type": "markdown",
   "metadata": {},
   "source": [
    "**Вывод**\n",
    "\n",
    "В столбце children видим отрицательные значения и одно сильно выделяющееся: 20. Безусловно это ошибки в данных, которые необходимо обработать. В education видим дупликаты из-за разных регистров, это также следует исправить."
   ]
  },
  {
   "cell_type": "code",
   "execution_count": 3,
   "metadata": {},
   "outputs": [],
   "source": [
    "#функция, которая умножает отрицательные значения на -1, если значение положительное, то функция возвращает это значение\n",
    "def to_pos(value): \n",
    "    if value < 0:\n",
    "        value *= -1\n",
    "        return value\n",
    "    else:\n",
    "        return value\n",
    "#применяем функцию к нужным столбцам\n",
    "df['days_employed'] = df['days_employed'].apply(to_pos) \n",
    "df['children'] = df['children'].apply(to_pos)\n"
   ]
  },
  {
   "cell_type": "code",
   "execution_count": 4,
   "metadata": {
    "scrolled": true
   },
   "outputs": [
    {
     "name": "stdout",
     "output_type": "stream",
     "text": [
      "<class 'pandas.core.frame.DataFrame'>\n",
      "RangeIndex: 21525 entries, 0 to 21524\n",
      "Data columns (total 12 columns):\n",
      " #   Column            Non-Null Count  Dtype  \n",
      "---  ------            --------------  -----  \n",
      " 0   children          21525 non-null  int64  \n",
      " 1   days_employed     21525 non-null  float64\n",
      " 2   dob_years         21525 non-null  int64  \n",
      " 3   education         21525 non-null  object \n",
      " 4   education_id      21525 non-null  int64  \n",
      " 5   family_status     21525 non-null  object \n",
      " 6   family_status_id  21525 non-null  int64  \n",
      " 7   gender            21525 non-null  object \n",
      " 8   income_type       21525 non-null  object \n",
      " 9   debt              21525 non-null  int64  \n",
      " 10  total_income      21525 non-null  float64\n",
      " 11  purpose           21525 non-null  object \n",
      "dtypes: float64(2), int64(5), object(5)\n",
      "memory usage: 2.0+ MB\n"
     ]
    }
   ],
   "source": [
    "df['days_employed'] = df['days_employed'].fillna(df.groupby('income_type')['days_employed'].transform('median'))\n",
    "df['total_income'] = df['total_income'].fillna(df.groupby('income_type')['days_employed'].transform('median'))\n",
    "df.info() "
   ]
  },
  {
   "cell_type": "markdown",
   "metadata": {},
   "source": [
    "**Вывод**"
   ]
  },
  {
   "cell_type": "markdown",
   "metadata": {},
   "source": [
    "В слобцах days_employed и total_income были обнаружены пропуски NaN. Причиной этому могут быть ошибки при вводе данных или ошибки при выгрузке. NaN принадлежит типу float, следовательно с ним можно проводить математические операции, но для получения более точных результатов лучше заполним эти пропуски используя метод .fillna(), позволяющий заполнить значения NaN в определенных столбцах датафрейма. Ежемесячный доход и трудовой стаж - количественные переменные, поэтому заполняем пропуски в строках медианным значением в соответствии с типом занятости человека. Медиана выбрана, тк среднее значение может некорректно охарактеризовать данные: некоторые значения могут существенно выделяться среди большинства."
   ]
  },
  {
   "cell_type": "markdown",
   "metadata": {},
   "source": [
    "<a id='type'></a>\n",
    "### Замена типа данных"
   ]
  },
  {
   "cell_type": "code",
   "execution_count": 5,
   "metadata": {
    "scrolled": true
   },
   "outputs": [
    {
     "name": "stdout",
     "output_type": "stream",
     "text": [
      "<class 'pandas.core.frame.DataFrame'>\n",
      "RangeIndex: 21525 entries, 0 to 21524\n",
      "Data columns (total 12 columns):\n",
      " #   Column            Non-Null Count  Dtype \n",
      "---  ------            --------------  ----- \n",
      " 0   children          21525 non-null  int64 \n",
      " 1   days_employed     21525 non-null  int64 \n",
      " 2   dob_years         21525 non-null  int64 \n",
      " 3   education         21525 non-null  object\n",
      " 4   education_id      21525 non-null  int64 \n",
      " 5   family_status     21525 non-null  object\n",
      " 6   family_status_id  21525 non-null  int64 \n",
      " 7   gender            21525 non-null  object\n",
      " 8   income_type       21525 non-null  object\n",
      " 9   debt              21525 non-null  int64 \n",
      " 10  total_income      21525 non-null  int64 \n",
      " 11  purpose           21525 non-null  object\n",
      "dtypes: int64(7), object(5)\n",
      "memory usage: 2.0+ MB\n"
     ]
    }
   ],
   "source": [
    "#заменим типы данных в столбцах с float на int методом .astype()\n",
    "df['days_employed'] = df['days_employed'].astype('int') \n",
    "df['total_income'] = df['total_income'].astype('int')\n",
    "df.info()"
   ]
  },
  {
   "cell_type": "markdown",
   "metadata": {},
   "source": [
    "**Вывод**"
   ]
  },
  {
   "cell_type": "markdown",
   "metadata": {},
   "source": [
    "Трудовой стаж и заработок приведены к целочисленным значениям методом .astype(), который позволяет изменять тип данных целых столбцов. Это упростит расчеты в дальнейшем."
   ]
  },
  {
   "cell_type": "markdown",
   "metadata": {},
   "source": [
    "<a id='duplicates'></a>\n",
    "### Обработка дубликатов"
   ]
  },
  {
   "cell_type": "code",
   "execution_count": 6,
   "metadata": {},
   "outputs": [
    {
     "name": "stdout",
     "output_type": "stream",
     "text": [
      "среднее                15233\n",
      "высшее                  5260\n",
      "неоконченное высшее      744\n",
      "начальное                282\n",
      "ученая степень             6\n",
      "Name: education, dtype: int64\n"
     ]
    }
   ],
   "source": [
    "#Приведем строки столбца education к нижнему регистру\n",
    "df['education'] = df['education'].str.lower() \n",
    "print(df['education'].value_counts())"
   ]
  },
  {
   "cell_type": "code",
   "execution_count": 7,
   "metadata": {},
   "outputs": [
    {
     "name": "stdout",
     "output_type": "stream",
     "text": [
      "Количество явных дубликатов: 0\n"
     ]
    }
   ],
   "source": [
    "#избавимся от явных дупликатов\n",
    "\n",
    "df = df.drop_duplicates().reset_index(drop=True)\n",
    "print('Количество явных дубликатов:', df.duplicated().sum())"
   ]
  },
  {
   "cell_type": "markdown",
   "metadata": {},
   "source": [
    "**Вывод**"
   ]
  },
  {
   "cell_type": "markdown",
   "metadata": {},
   "source": [
    "В исходном датафрейме имеется некоторое количество дубликатов. Причиной их появления могут быть ошибки при занесении информации в таблицу.\n",
    "Некоторые строки столбца education отличались регистром, приведя их нижнему регистру методом str.lower() мы избавились от неявных дубликатов.\n",
    "Также методом .drop_duplicates() избавиляемся от явных дубликатов таблицы. Для проверки выведем их количество после применения данного метода."
   ]
  },
  {
   "cell_type": "markdown",
   "metadata": {},
   "source": [
    "<a id='category'></a>\n",
    "###  Категоризация данных"
   ]
  },
  {
   "cell_type": "code",
   "execution_count": 8,
   "metadata": {
    "scrolled": true
   },
   "outputs": [
    {
     "data": {
      "text/html": [
       "<div>\n",
       "<style scoped>\n",
       "    .dataframe tbody tr th:only-of-type {\n",
       "        vertical-align: middle;\n",
       "    }\n",
       "\n",
       "    .dataframe tbody tr th {\n",
       "        vertical-align: top;\n",
       "    }\n",
       "\n",
       "    .dataframe thead th {\n",
       "        text-align: right;\n",
       "    }\n",
       "</style>\n",
       "<table border=\"1\" class=\"dataframe\">\n",
       "  <thead>\n",
       "    <tr style=\"text-align: right;\">\n",
       "      <th></th>\n",
       "      <th>children</th>\n",
       "      <th>days_employed</th>\n",
       "      <th>dob_years</th>\n",
       "      <th>education</th>\n",
       "      <th>education_id</th>\n",
       "      <th>family_status</th>\n",
       "      <th>family_status_id</th>\n",
       "      <th>gender</th>\n",
       "      <th>income_type</th>\n",
       "      <th>debt</th>\n",
       "      <th>total_income</th>\n",
       "      <th>purpose</th>\n",
       "      <th>purpose_category</th>\n",
       "      <th>income_category</th>\n",
       "    </tr>\n",
       "  </thead>\n",
       "  <tbody>\n",
       "    <tr>\n",
       "      <th>0</th>\n",
       "      <td>1</td>\n",
       "      <td>8437</td>\n",
       "      <td>42</td>\n",
       "      <td>высшее</td>\n",
       "      <td>0</td>\n",
       "      <td>женат / замужем</td>\n",
       "      <td>0</td>\n",
       "      <td>F</td>\n",
       "      <td>сотрудник</td>\n",
       "      <td>0</td>\n",
       "      <td>253875</td>\n",
       "      <td>покупка жилья</td>\n",
       "      <td>недвижимость</td>\n",
       "      <td>очень высокий</td>\n",
       "    </tr>\n",
       "    <tr>\n",
       "      <th>1</th>\n",
       "      <td>1</td>\n",
       "      <td>4024</td>\n",
       "      <td>36</td>\n",
       "      <td>среднее</td>\n",
       "      <td>1</td>\n",
       "      <td>женат / замужем</td>\n",
       "      <td>0</td>\n",
       "      <td>F</td>\n",
       "      <td>сотрудник</td>\n",
       "      <td>0</td>\n",
       "      <td>112080</td>\n",
       "      <td>приобретение автомобиля</td>\n",
       "      <td>автомобиль</td>\n",
       "      <td>высокий</td>\n",
       "    </tr>\n",
       "    <tr>\n",
       "      <th>2</th>\n",
       "      <td>0</td>\n",
       "      <td>5623</td>\n",
       "      <td>33</td>\n",
       "      <td>среднее</td>\n",
       "      <td>1</td>\n",
       "      <td>женат / замужем</td>\n",
       "      <td>0</td>\n",
       "      <td>M</td>\n",
       "      <td>сотрудник</td>\n",
       "      <td>0</td>\n",
       "      <td>145885</td>\n",
       "      <td>покупка жилья</td>\n",
       "      <td>недвижимость</td>\n",
       "      <td>высокий</td>\n",
       "    </tr>\n",
       "    <tr>\n",
       "      <th>3</th>\n",
       "      <td>3</td>\n",
       "      <td>4124</td>\n",
       "      <td>32</td>\n",
       "      <td>среднее</td>\n",
       "      <td>1</td>\n",
       "      <td>женат / замужем</td>\n",
       "      <td>0</td>\n",
       "      <td>M</td>\n",
       "      <td>сотрудник</td>\n",
       "      <td>0</td>\n",
       "      <td>267628</td>\n",
       "      <td>дополнительное образование</td>\n",
       "      <td>образование</td>\n",
       "      <td>очень высокий</td>\n",
       "    </tr>\n",
       "    <tr>\n",
       "      <th>4</th>\n",
       "      <td>0</td>\n",
       "      <td>340266</td>\n",
       "      <td>53</td>\n",
       "      <td>среднее</td>\n",
       "      <td>1</td>\n",
       "      <td>гражданский брак</td>\n",
       "      <td>1</td>\n",
       "      <td>F</td>\n",
       "      <td>пенсионер</td>\n",
       "      <td>0</td>\n",
       "      <td>158616</td>\n",
       "      <td>сыграть свадьбу</td>\n",
       "      <td>свадьба</td>\n",
       "      <td>очень высокий</td>\n",
       "    </tr>\n",
       "    <tr>\n",
       "      <th>5</th>\n",
       "      <td>0</td>\n",
       "      <td>926</td>\n",
       "      <td>27</td>\n",
       "      <td>высшее</td>\n",
       "      <td>0</td>\n",
       "      <td>гражданский брак</td>\n",
       "      <td>1</td>\n",
       "      <td>M</td>\n",
       "      <td>компаньон</td>\n",
       "      <td>0</td>\n",
       "      <td>255763</td>\n",
       "      <td>покупка жилья</td>\n",
       "      <td>недвижимость</td>\n",
       "      <td>очень высокий</td>\n",
       "    </tr>\n",
       "    <tr>\n",
       "      <th>6</th>\n",
       "      <td>0</td>\n",
       "      <td>2879</td>\n",
       "      <td>43</td>\n",
       "      <td>высшее</td>\n",
       "      <td>0</td>\n",
       "      <td>женат / замужем</td>\n",
       "      <td>0</td>\n",
       "      <td>F</td>\n",
       "      <td>компаньон</td>\n",
       "      <td>0</td>\n",
       "      <td>240525</td>\n",
       "      <td>операции с жильем</td>\n",
       "      <td>недвижимость</td>\n",
       "      <td>очень высокий</td>\n",
       "    </tr>\n",
       "    <tr>\n",
       "      <th>7</th>\n",
       "      <td>0</td>\n",
       "      <td>152</td>\n",
       "      <td>50</td>\n",
       "      <td>среднее</td>\n",
       "      <td>1</td>\n",
       "      <td>женат / замужем</td>\n",
       "      <td>0</td>\n",
       "      <td>M</td>\n",
       "      <td>сотрудник</td>\n",
       "      <td>0</td>\n",
       "      <td>135823</td>\n",
       "      <td>образование</td>\n",
       "      <td>образование</td>\n",
       "      <td>высокий</td>\n",
       "    </tr>\n",
       "    <tr>\n",
       "      <th>8</th>\n",
       "      <td>2</td>\n",
       "      <td>6929</td>\n",
       "      <td>35</td>\n",
       "      <td>высшее</td>\n",
       "      <td>0</td>\n",
       "      <td>гражданский брак</td>\n",
       "      <td>1</td>\n",
       "      <td>F</td>\n",
       "      <td>сотрудник</td>\n",
       "      <td>0</td>\n",
       "      <td>95856</td>\n",
       "      <td>на проведение свадьбы</td>\n",
       "      <td>свадьба</td>\n",
       "      <td>средний</td>\n",
       "    </tr>\n",
       "    <tr>\n",
       "      <th>9</th>\n",
       "      <td>0</td>\n",
       "      <td>2188</td>\n",
       "      <td>41</td>\n",
       "      <td>среднее</td>\n",
       "      <td>1</td>\n",
       "      <td>женат / замужем</td>\n",
       "      <td>0</td>\n",
       "      <td>M</td>\n",
       "      <td>сотрудник</td>\n",
       "      <td>0</td>\n",
       "      <td>144425</td>\n",
       "      <td>покупка жилья для семьи</td>\n",
       "      <td>недвижимость</td>\n",
       "      <td>высокий</td>\n",
       "    </tr>\n",
       "    <tr>\n",
       "      <th>10</th>\n",
       "      <td>2</td>\n",
       "      <td>4171</td>\n",
       "      <td>36</td>\n",
       "      <td>высшее</td>\n",
       "      <td>0</td>\n",
       "      <td>женат / замужем</td>\n",
       "      <td>0</td>\n",
       "      <td>M</td>\n",
       "      <td>компаньон</td>\n",
       "      <td>0</td>\n",
       "      <td>113943</td>\n",
       "      <td>покупка недвижимости</td>\n",
       "      <td>недвижимость</td>\n",
       "      <td>высокий</td>\n",
       "    </tr>\n",
       "    <tr>\n",
       "      <th>11</th>\n",
       "      <td>0</td>\n",
       "      <td>792</td>\n",
       "      <td>40</td>\n",
       "      <td>среднее</td>\n",
       "      <td>1</td>\n",
       "      <td>женат / замужем</td>\n",
       "      <td>0</td>\n",
       "      <td>F</td>\n",
       "      <td>сотрудник</td>\n",
       "      <td>0</td>\n",
       "      <td>77069</td>\n",
       "      <td>покупка коммерческой недвижимости</td>\n",
       "      <td>недвижимость</td>\n",
       "      <td>средний</td>\n",
       "    </tr>\n",
       "    <tr>\n",
       "      <th>12</th>\n",
       "      <td>0</td>\n",
       "      <td>365213</td>\n",
       "      <td>65</td>\n",
       "      <td>среднее</td>\n",
       "      <td>1</td>\n",
       "      <td>гражданский брак</td>\n",
       "      <td>1</td>\n",
       "      <td>M</td>\n",
       "      <td>пенсионер</td>\n",
       "      <td>0</td>\n",
       "      <td>365213</td>\n",
       "      <td>сыграть свадьбу</td>\n",
       "      <td>свадьба</td>\n",
       "      <td>очень высокий</td>\n",
       "    </tr>\n",
       "    <tr>\n",
       "      <th>13</th>\n",
       "      <td>0</td>\n",
       "      <td>1846</td>\n",
       "      <td>54</td>\n",
       "      <td>неоконченное высшее</td>\n",
       "      <td>2</td>\n",
       "      <td>женат / замужем</td>\n",
       "      <td>0</td>\n",
       "      <td>F</td>\n",
       "      <td>сотрудник</td>\n",
       "      <td>0</td>\n",
       "      <td>130458</td>\n",
       "      <td>приобретение автомобиля</td>\n",
       "      <td>автомобиль</td>\n",
       "      <td>высокий</td>\n",
       "    </tr>\n",
       "    <tr>\n",
       "      <th>14</th>\n",
       "      <td>0</td>\n",
       "      <td>1844</td>\n",
       "      <td>56</td>\n",
       "      <td>высшее</td>\n",
       "      <td>0</td>\n",
       "      <td>гражданский брак</td>\n",
       "      <td>1</td>\n",
       "      <td>F</td>\n",
       "      <td>компаньон</td>\n",
       "      <td>1</td>\n",
       "      <td>165127</td>\n",
       "      <td>покупка жилой недвижимости</td>\n",
       "      <td>недвижимость</td>\n",
       "      <td>очень высокий</td>\n",
       "    </tr>\n",
       "    <tr>\n",
       "      <th>15</th>\n",
       "      <td>1</td>\n",
       "      <td>972</td>\n",
       "      <td>26</td>\n",
       "      <td>среднее</td>\n",
       "      <td>1</td>\n",
       "      <td>женат / замужем</td>\n",
       "      <td>0</td>\n",
       "      <td>F</td>\n",
       "      <td>сотрудник</td>\n",
       "      <td>0</td>\n",
       "      <td>116820</td>\n",
       "      <td>строительство собственной недвижимости</td>\n",
       "      <td>недвижимость</td>\n",
       "      <td>высокий</td>\n",
       "    </tr>\n",
       "    <tr>\n",
       "      <th>16</th>\n",
       "      <td>0</td>\n",
       "      <td>1719</td>\n",
       "      <td>35</td>\n",
       "      <td>среднее</td>\n",
       "      <td>1</td>\n",
       "      <td>женат / замужем</td>\n",
       "      <td>0</td>\n",
       "      <td>F</td>\n",
       "      <td>сотрудник</td>\n",
       "      <td>0</td>\n",
       "      <td>289202</td>\n",
       "      <td>недвижимость</td>\n",
       "      <td>недвижимость</td>\n",
       "      <td>очень высокий</td>\n",
       "    </tr>\n",
       "    <tr>\n",
       "      <th>17</th>\n",
       "      <td>0</td>\n",
       "      <td>2369</td>\n",
       "      <td>33</td>\n",
       "      <td>высшее</td>\n",
       "      <td>0</td>\n",
       "      <td>гражданский брак</td>\n",
       "      <td>1</td>\n",
       "      <td>M</td>\n",
       "      <td>сотрудник</td>\n",
       "      <td>0</td>\n",
       "      <td>90410</td>\n",
       "      <td>строительство недвижимости</td>\n",
       "      <td>недвижимость</td>\n",
       "      <td>средний</td>\n",
       "    </tr>\n",
       "    <tr>\n",
       "      <th>18</th>\n",
       "      <td>0</td>\n",
       "      <td>400281</td>\n",
       "      <td>53</td>\n",
       "      <td>среднее</td>\n",
       "      <td>1</td>\n",
       "      <td>вдовец / вдова</td>\n",
       "      <td>2</td>\n",
       "      <td>F</td>\n",
       "      <td>пенсионер</td>\n",
       "      <td>0</td>\n",
       "      <td>56823</td>\n",
       "      <td>на покупку подержанного автомобиля</td>\n",
       "      <td>автомобиль</td>\n",
       "      <td>средний</td>\n",
       "    </tr>\n",
       "    <tr>\n",
       "      <th>19</th>\n",
       "      <td>0</td>\n",
       "      <td>10038</td>\n",
       "      <td>48</td>\n",
       "      <td>среднее</td>\n",
       "      <td>1</td>\n",
       "      <td>в разводе</td>\n",
       "      <td>3</td>\n",
       "      <td>F</td>\n",
       "      <td>сотрудник</td>\n",
       "      <td>0</td>\n",
       "      <td>242831</td>\n",
       "      <td>на покупку своего автомобиля</td>\n",
       "      <td>автомобиль</td>\n",
       "      <td>очень высокий</td>\n",
       "    </tr>\n",
       "  </tbody>\n",
       "</table>\n",
       "</div>"
      ],
      "text/plain": [
       "    children  days_employed  dob_years            education  education_id  \\\n",
       "0          1           8437         42               высшее             0   \n",
       "1          1           4024         36              среднее             1   \n",
       "2          0           5623         33              среднее             1   \n",
       "3          3           4124         32              среднее             1   \n",
       "4          0         340266         53              среднее             1   \n",
       "5          0            926         27               высшее             0   \n",
       "6          0           2879         43               высшее             0   \n",
       "7          0            152         50              среднее             1   \n",
       "8          2           6929         35               высшее             0   \n",
       "9          0           2188         41              среднее             1   \n",
       "10         2           4171         36               высшее             0   \n",
       "11         0            792         40              среднее             1   \n",
       "12         0         365213         65              среднее             1   \n",
       "13         0           1846         54  неоконченное высшее             2   \n",
       "14         0           1844         56               высшее             0   \n",
       "15         1            972         26              среднее             1   \n",
       "16         0           1719         35              среднее             1   \n",
       "17         0           2369         33               высшее             0   \n",
       "18         0         400281         53              среднее             1   \n",
       "19         0          10038         48              среднее             1   \n",
       "\n",
       "       family_status  family_status_id gender income_type  debt  total_income  \\\n",
       "0    женат / замужем                 0      F   сотрудник     0        253875   \n",
       "1    женат / замужем                 0      F   сотрудник     0        112080   \n",
       "2    женат / замужем                 0      M   сотрудник     0        145885   \n",
       "3    женат / замужем                 0      M   сотрудник     0        267628   \n",
       "4   гражданский брак                 1      F   пенсионер     0        158616   \n",
       "5   гражданский брак                 1      M   компаньон     0        255763   \n",
       "6    женат / замужем                 0      F   компаньон     0        240525   \n",
       "7    женат / замужем                 0      M   сотрудник     0        135823   \n",
       "8   гражданский брак                 1      F   сотрудник     0         95856   \n",
       "9    женат / замужем                 0      M   сотрудник     0        144425   \n",
       "10   женат / замужем                 0      M   компаньон     0        113943   \n",
       "11   женат / замужем                 0      F   сотрудник     0         77069   \n",
       "12  гражданский брак                 1      M   пенсионер     0        365213   \n",
       "13   женат / замужем                 0      F   сотрудник     0        130458   \n",
       "14  гражданский брак                 1      F   компаньон     1        165127   \n",
       "15   женат / замужем                 0      F   сотрудник     0        116820   \n",
       "16   женат / замужем                 0      F   сотрудник     0        289202   \n",
       "17  гражданский брак                 1      M   сотрудник     0         90410   \n",
       "18    вдовец / вдова                 2      F   пенсионер     0         56823   \n",
       "19         в разводе                 3      F   сотрудник     0        242831   \n",
       "\n",
       "                                   purpose purpose_category income_category  \n",
       "0                            покупка жилья     недвижимость   очень высокий  \n",
       "1                  приобретение автомобиля       автомобиль         высокий  \n",
       "2                            покупка жилья     недвижимость         высокий  \n",
       "3               дополнительное образование      образование   очень высокий  \n",
       "4                          сыграть свадьбу          свадьба   очень высокий  \n",
       "5                            покупка жилья     недвижимость   очень высокий  \n",
       "6                        операции с жильем     недвижимость   очень высокий  \n",
       "7                              образование      образование         высокий  \n",
       "8                    на проведение свадьбы          свадьба         средний  \n",
       "9                  покупка жилья для семьи     недвижимость         высокий  \n",
       "10                    покупка недвижимости     недвижимость         высокий  \n",
       "11       покупка коммерческой недвижимости     недвижимость         средний  \n",
       "12                         сыграть свадьбу          свадьба   очень высокий  \n",
       "13                 приобретение автомобиля       автомобиль         высокий  \n",
       "14              покупка жилой недвижимости     недвижимость   очень высокий  \n",
       "15  строительство собственной недвижимости     недвижимость         высокий  \n",
       "16                            недвижимость     недвижимость   очень высокий  \n",
       "17              строительство недвижимости     недвижимость         средний  \n",
       "18      на покупку подержанного автомобиля       автомобиль         средний  \n",
       "19            на покупку своего автомобиля       автомобиль   очень высокий  "
      ]
     },
     "metadata": {},
     "output_type": "display_data"
    }
   ],
   "source": [
    "#по рекомандации преподавателя написал функцию, которая лемматизирует и сразу делает категоризацию, \n",
    "#применил ее указав параметр axis=1, чтобы на вход в функцию отправлялись строки\n",
    "def create_category_purpose(row):      \n",
    "    lem_purpose = m.lemmatize(row['purpose'])\n",
    "                                                             \n",
    "    if 'автомобиль' in lem_purpose:                          \n",
    "        return 'автомобиль'\n",
    "    if ('жилье' in lem_purpose) or ('недвижимость' in lem_purpose):\n",
    "        return 'недвижимость'\n",
    "    if 'образование' in lem_purpose:\n",
    "        return 'образование'\n",
    "    if 'свадьба' in lem_purpose:\n",
    "        return 'свадьба'\n",
    "    return 'другое'\n",
    "\n",
    "#не уверен на счет правильности категоризцаии заработка, показалось логичным поделилить их на 4 категории с шагом 50000\n",
    "\n",
    "def create_income_category(row):\n",
    "    income = row['total_income']\n",
    "    if income <= 50000:\n",
    "        return 'низкий'\n",
    "    if income > 50000 and income <= 100000:\n",
    "        return 'средний'\n",
    "    if income > 100000 and income <= 150000:\n",
    "        return 'высокий'\n",
    "    if income > 150000:\n",
    "        return 'очень высокий'\n",
    "    \n",
    "df['purpose_category'] = df.apply(create_category_purpose, axis=1)\n",
    "df['income_category'] = df.apply(create_income_category, axis=1)\n",
    "display(df.head(20))"
   ]
  },
  {
   "cell_type": "markdown",
   "metadata": {},
   "source": [
    "**Вывод**"
   ]
  },
  {
   "cell_type": "markdown",
   "metadata": {},
   "source": [
    "Благодаря двум функциям создаем два столбца таблицы, в которые будут занесены категории целей получения кредита и категории заработка соответственно. Новые столбцы помогут нам в ответе на вопросы, поставленные в целях данного иследования."
   ]
  },
  {
   "cell_type": "markdown",
   "metadata": {},
   "source": [
    "<a id='hypothesis'></a>\n",
    "##  Проверка гипотез."
   ]
  },
  {
   "cell_type": "markdown",
   "metadata": {},
   "source": [
    "- Есть ли зависимость между наличием детей и возвратом кредита в срок?"
   ]
  },
  {
   "cell_type": "code",
   "execution_count": 9,
   "metadata": {
    "scrolled": true
   },
   "outputs": [
    {
     "data": {
      "text/html": [
       "<div>\n",
       "<style scoped>\n",
       "    .dataframe tbody tr th:only-of-type {\n",
       "        vertical-align: middle;\n",
       "    }\n",
       "\n",
       "    .dataframe tbody tr th {\n",
       "        vertical-align: top;\n",
       "    }\n",
       "\n",
       "    .dataframe thead th {\n",
       "        text-align: right;\n",
       "    }\n",
       "</style>\n",
       "<table border=\"1\" class=\"dataframe\">\n",
       "  <thead>\n",
       "    <tr style=\"text-align: right;\">\n",
       "      <th>debt</th>\n",
       "      <th>0</th>\n",
       "      <th>1</th>\n",
       "      <th>percent</th>\n",
       "    </tr>\n",
       "    <tr>\n",
       "      <th>children</th>\n",
       "      <th></th>\n",
       "      <th></th>\n",
       "      <th></th>\n",
       "    </tr>\n",
       "  </thead>\n",
       "  <tbody>\n",
       "    <tr>\n",
       "      <th>4</th>\n",
       "      <td>37.0</td>\n",
       "      <td>4.0</td>\n",
       "      <td>9.756098</td>\n",
       "    </tr>\n",
       "    <tr>\n",
       "      <th>2</th>\n",
       "      <td>1926.0</td>\n",
       "      <td>202.0</td>\n",
       "      <td>9.492481</td>\n",
       "    </tr>\n",
       "    <tr>\n",
       "      <th>1</th>\n",
       "      <td>4410.0</td>\n",
       "      <td>445.0</td>\n",
       "      <td>9.165808</td>\n",
       "    </tr>\n",
       "    <tr>\n",
       "      <th>3</th>\n",
       "      <td>303.0</td>\n",
       "      <td>27.0</td>\n",
       "      <td>8.181818</td>\n",
       "    </tr>\n",
       "    <tr>\n",
       "      <th>0</th>\n",
       "      <td>13028.0</td>\n",
       "      <td>1063.0</td>\n",
       "      <td>7.543822</td>\n",
       "    </tr>\n",
       "    <tr>\n",
       "      <th>5</th>\n",
       "      <td>9.0</td>\n",
       "      <td>NaN</td>\n",
       "      <td>NaN</td>\n",
       "    </tr>\n",
       "  </tbody>\n",
       "</table>\n",
       "</div>"
      ],
      "text/plain": [
       "debt            0       1   percent\n",
       "children                           \n",
       "4            37.0     4.0  9.756098\n",
       "2          1926.0   202.0  9.492481\n",
       "1          4410.0   445.0  9.165808\n",
       "3           303.0    27.0  8.181818\n",
       "0         13028.0  1063.0  7.543822\n",
       "5             9.0     NaN       NaN"
      ]
     },
     "metadata": {},
     "output_type": "display_data"
    }
   ],
   "source": [
    "pivot_table_children = df.pivot_table(index='children', columns= 'debt', values='days_employed', aggfunc='count')\n",
    "pivot_table_children['percent'] = pivot_table_children[1]/(pivot_table_children[0] + pivot_table_children[1]) * 100\n",
    "display(pivot_table_children.sort_values(by='percent', ascending=False))"
   ]
  },
  {
   "cell_type": "markdown",
   "metadata": {},
   "source": [
    "**Вывод**"
   ]
  },
  {
   "cell_type": "markdown",
   "metadata": {},
   "source": [
    "По таблице видно, что чем больше детей, тем более высока вероятность задержки выплаты кредита. Хотя это правило не работает для людей с 3 детьми, тк вероятность задержки у людей с одним/двумя детьми выше. Значение NaN показывает, что должников среди людей с 5 детьми нет.\n"
   ]
  },
  {
   "cell_type": "markdown",
   "metadata": {},
   "source": [
    "- Есть ли зависимость между семейным положением и возвратом кредита в срок?"
   ]
  },
  {
   "cell_type": "code",
   "execution_count": 10,
   "metadata": {},
   "outputs": [
    {
     "data": {
      "text/html": [
       "<div>\n",
       "<style scoped>\n",
       "    .dataframe tbody tr th:only-of-type {\n",
       "        vertical-align: middle;\n",
       "    }\n",
       "\n",
       "    .dataframe tbody tr th {\n",
       "        vertical-align: top;\n",
       "    }\n",
       "\n",
       "    .dataframe thead th {\n",
       "        text-align: right;\n",
       "    }\n",
       "</style>\n",
       "<table border=\"1\" class=\"dataframe\">\n",
       "  <thead>\n",
       "    <tr style=\"text-align: right;\">\n",
       "      <th>debt</th>\n",
       "      <th>0</th>\n",
       "      <th>1</th>\n",
       "      <th>percent</th>\n",
       "    </tr>\n",
       "    <tr>\n",
       "      <th>family_status</th>\n",
       "      <th></th>\n",
       "      <th></th>\n",
       "      <th></th>\n",
       "    </tr>\n",
       "  </thead>\n",
       "  <tbody>\n",
       "    <tr>\n",
       "      <th>Не женат / не замужем</th>\n",
       "      <td>2536</td>\n",
       "      <td>274</td>\n",
       "      <td>9.750890</td>\n",
       "    </tr>\n",
       "    <tr>\n",
       "      <th>гражданский брак</th>\n",
       "      <td>3763</td>\n",
       "      <td>388</td>\n",
       "      <td>9.347145</td>\n",
       "    </tr>\n",
       "    <tr>\n",
       "      <th>женат / замужем</th>\n",
       "      <td>11408</td>\n",
       "      <td>931</td>\n",
       "      <td>7.545182</td>\n",
       "    </tr>\n",
       "    <tr>\n",
       "      <th>в разводе</th>\n",
       "      <td>1110</td>\n",
       "      <td>85</td>\n",
       "      <td>7.112971</td>\n",
       "    </tr>\n",
       "    <tr>\n",
       "      <th>вдовец / вдова</th>\n",
       "      <td>896</td>\n",
       "      <td>63</td>\n",
       "      <td>6.569343</td>\n",
       "    </tr>\n",
       "  </tbody>\n",
       "</table>\n",
       "</div>"
      ],
      "text/plain": [
       "debt                       0    1   percent\n",
       "family_status                              \n",
       "Не женат / не замужем   2536  274  9.750890\n",
       "гражданский брак        3763  388  9.347145\n",
       "женат / замужем        11408  931  7.545182\n",
       "в разводе               1110   85  7.112971\n",
       "вдовец / вдова           896   63  6.569343"
      ]
     },
     "metadata": {},
     "output_type": "display_data"
    }
   ],
   "source": [
    "pivot_table_family = df.pivot_table(index='family_status', columns= 'debt', values='days_employed', aggfunc='count')\n",
    "pivot_table_family['percent'] = pivot_table_family[1]/(pivot_table_family[0] + pivot_table_family[1]) * 100\n",
    "display(pivot_table_family.sort_values(by='percent', ascending=False))"
   ]
  },
  {
   "cell_type": "markdown",
   "metadata": {},
   "source": [
    "**Вывод**"
   ]
  },
  {
   "cell_type": "markdown",
   "metadata": {},
   "source": [
    "Люди, не состоящие в браке имеют большую вероятность невыплаты кредита в срок. Вдовы и вдовцы, а также люди в разводе имеют наименьшую вероятность просрочить выплату.\n",
    "Я бы предположил, что люди состоящие в браке помогают друг другу в выплате кредита, поэтому они имеют меньший процент вероятности просрочки кредита. Но в таком случае непонятно, почему вдовы/вдовцы и люди в разводе имеют еще более меньший процент."
   ]
  },
  {
   "cell_type": "markdown",
   "metadata": {},
   "source": [
    "- Есть ли зависимость между уровнем дохода и возвратом кредита в срок?"
   ]
  },
  {
   "cell_type": "code",
   "execution_count": 11,
   "metadata": {},
   "outputs": [
    {
     "data": {
      "text/html": [
       "<div>\n",
       "<style scoped>\n",
       "    .dataframe tbody tr th:only-of-type {\n",
       "        vertical-align: middle;\n",
       "    }\n",
       "\n",
       "    .dataframe tbody tr th {\n",
       "        vertical-align: top;\n",
       "    }\n",
       "\n",
       "    .dataframe thead th {\n",
       "        text-align: right;\n",
       "    }\n",
       "</style>\n",
       "<table border=\"1\" class=\"dataframe\">\n",
       "  <thead>\n",
       "    <tr style=\"text-align: right;\">\n",
       "      <th>debt</th>\n",
       "      <th>0</th>\n",
       "      <th>1</th>\n",
       "      <th>percent</th>\n",
       "    </tr>\n",
       "    <tr>\n",
       "      <th>income_category</th>\n",
       "      <th></th>\n",
       "      <th></th>\n",
       "      <th></th>\n",
       "    </tr>\n",
       "  </thead>\n",
       "  <tbody>\n",
       "    <tr>\n",
       "      <th>высокий</th>\n",
       "      <td>5213</td>\n",
       "      <td>491</td>\n",
       "      <td>8.607994</td>\n",
       "    </tr>\n",
       "    <tr>\n",
       "      <th>средний</th>\n",
       "      <td>3760</td>\n",
       "      <td>331</td>\n",
       "      <td>8.090931</td>\n",
       "    </tr>\n",
       "    <tr>\n",
       "      <th>очень высокий</th>\n",
       "      <td>8809</td>\n",
       "      <td>761</td>\n",
       "      <td>7.951933</td>\n",
       "    </tr>\n",
       "    <tr>\n",
       "      <th>низкий</th>\n",
       "      <td>1931</td>\n",
       "      <td>158</td>\n",
       "      <td>7.563427</td>\n",
       "    </tr>\n",
       "  </tbody>\n",
       "</table>\n",
       "</div>"
      ],
      "text/plain": [
       "debt                0    1   percent\n",
       "income_category                     \n",
       "высокий          5213  491  8.607994\n",
       "средний          3760  331  8.090931\n",
       "очень высокий    8809  761  7.951933\n",
       "низкий           1931  158  7.563427"
      ]
     },
     "metadata": {},
     "output_type": "display_data"
    }
   ],
   "source": [
    "pivot_table_income = df.pivot_table(index='income_category', columns= 'debt', values='days_employed', aggfunc='count')\n",
    "pivot_table_income['percent'] = pivot_table_income[1]/(pivot_table_income[0] + pivot_table_income[1]) * 100\n",
    "display(pivot_table_income.sort_values(by='percent', ascending=False))"
   ]
  },
  {
   "cell_type": "markdown",
   "metadata": {},
   "source": [
    "**Вывод**"
   ]
  },
  {
   "cell_type": "markdown",
   "metadata": {},
   "source": [
    "Люди, имеющие низкий зароботок имеют самый маленький процент по невыплатам. Люди с очень высоким заработком на третьем месте. Зависимости нет."
   ]
  },
  {
   "cell_type": "markdown",
   "metadata": {},
   "source": [
    "- Как разные цели кредита влияют на его возврат в срок?"
   ]
  },
  {
   "cell_type": "code",
   "execution_count": 12,
   "metadata": {
    "scrolled": true
   },
   "outputs": [
    {
     "data": {
      "text/html": [
       "<div>\n",
       "<style scoped>\n",
       "    .dataframe tbody tr th:only-of-type {\n",
       "        vertical-align: middle;\n",
       "    }\n",
       "\n",
       "    .dataframe tbody tr th {\n",
       "        vertical-align: top;\n",
       "    }\n",
       "\n",
       "    .dataframe thead th {\n",
       "        text-align: right;\n",
       "    }\n",
       "</style>\n",
       "<table border=\"1\" class=\"dataframe\">\n",
       "  <thead>\n",
       "    <tr style=\"text-align: right;\">\n",
       "      <th>debt</th>\n",
       "      <th>0</th>\n",
       "      <th>1</th>\n",
       "      <th>percent</th>\n",
       "    </tr>\n",
       "    <tr>\n",
       "      <th>purpose_category</th>\n",
       "      <th></th>\n",
       "      <th></th>\n",
       "      <th></th>\n",
       "    </tr>\n",
       "  </thead>\n",
       "  <tbody>\n",
       "    <tr>\n",
       "      <th>автомобиль</th>\n",
       "      <td>3903</td>\n",
       "      <td>403</td>\n",
       "      <td>9.359034</td>\n",
       "    </tr>\n",
       "    <tr>\n",
       "      <th>образование</th>\n",
       "      <td>3643</td>\n",
       "      <td>370</td>\n",
       "      <td>9.220035</td>\n",
       "    </tr>\n",
       "    <tr>\n",
       "      <th>свадьба</th>\n",
       "      <td>2138</td>\n",
       "      <td>186</td>\n",
       "      <td>8.003442</td>\n",
       "    </tr>\n",
       "    <tr>\n",
       "      <th>недвижимость</th>\n",
       "      <td>10029</td>\n",
       "      <td>782</td>\n",
       "      <td>7.233373</td>\n",
       "    </tr>\n",
       "  </tbody>\n",
       "</table>\n",
       "</div>"
      ],
      "text/plain": [
       "debt                  0    1   percent\n",
       "purpose_category                      \n",
       "автомобиль         3903  403  9.359034\n",
       "образование        3643  370  9.220035\n",
       "свадьба            2138  186  8.003442\n",
       "недвижимость      10029  782  7.233373"
      ]
     },
     "metadata": {},
     "output_type": "display_data"
    }
   ],
   "source": [
    "pivot_table_purpose_category = df.pivot_table(index='purpose_category', columns= 'debt', values='days_employed', aggfunc='count')\n",
    "pivot_table_purpose_category['percent'] = pivot_table_purpose_category[1]/(pivot_table_purpose_category[0] + pivot_table_purpose_category[1]) * 100\n",
    "display(pivot_table_purpose_category.sort_values(by='percent', ascending=False))"
   ]
  },
  {
   "cell_type": "markdown",
   "metadata": {},
   "source": [
    "**Вывод**"
   ]
  },
  {
   "cell_type": "markdown",
   "metadata": {},
   "source": [
    "Люди, целью которых является покупка автомобиля или получение образования имеют больший шанс не выплатить кредит вовремя. "
   ]
  },
  {
   "cell_type": "markdown",
   "metadata": {},
   "source": [
    "<a id='conclusion'></a>\n",
    "##  Общий вывод"
   ]
  },
  {
   "cell_type": "markdown",
   "metadata": {},
   "source": [
    "В результате исследования мы смогли получить ответы на все интересующие нас вопросы, а именно: выяснили как влияет количество детей и семейное положение, разные цели и уровень дохода клиента на факт погашения кредита в срок. Чтобы получить корректные ответы была проведена предобработка исходных данных: замена типов данных у нужных нам столбцов, заполнение пропусков и удаление дупликатов. Все эти ошибки могли повлиять на правильность выводов в каждом пункте проекта. Для более лучшего восприятия результатов построены таблицы, изучив которые можно составить общую картину клиентов. Вероятнее всего у людей могут возникнуть проблемы с выплатой в случае, если: они не состоят в браке, у них имеются дети и целью взятия кредита являются покупка автомобиля, либо получения образования.\n",
    "\n"
   ]
  },
  {
   "cell_type": "code",
   "execution_count": null,
   "metadata": {},
   "outputs": [],
   "source": []
  }
 ],
 "metadata": {
  "ExecuteTimeLog": [
   {
    "duration": 966,
    "start_time": "2022-01-04T10:43:06.193Z"
   },
   {
    "duration": 64,
    "start_time": "2022-01-04T10:43:15.206Z"
   },
   {
    "duration": 71,
    "start_time": "2022-01-04T10:43:26.548Z"
   },
   {
    "duration": 57,
    "start_time": "2022-01-04T10:48:29.398Z"
   },
   {
    "duration": 307,
    "start_time": "2022-01-04T11:21:42.080Z"
   },
   {
    "duration": 64,
    "start_time": "2022-01-04T11:21:47.990Z"
   },
   {
    "duration": 71,
    "start_time": "2022-01-04T11:22:21.124Z"
   },
   {
    "duration": 4,
    "start_time": "2022-01-04T12:08:07.308Z"
   },
   {
    "duration": 12,
    "start_time": "2022-01-04T12:08:12.140Z"
   },
   {
    "duration": 58,
    "start_time": "2022-01-04T12:10:00.050Z"
   },
   {
    "duration": 72,
    "start_time": "2022-01-04T12:37:52.408Z"
   },
   {
    "duration": 5,
    "start_time": "2022-01-04T13:22:23.013Z"
   },
   {
    "duration": 5,
    "start_time": "2022-01-04T13:22:25.203Z"
   },
   {
    "duration": 12,
    "start_time": "2022-01-04T13:22:30.599Z"
   },
   {
    "duration": 432,
    "start_time": "2022-01-06T08:53:55.531Z"
   },
   {
    "duration": 447,
    "start_time": "2022-01-06T08:54:17.496Z"
   },
   {
    "duration": 842,
    "start_time": "2022-01-06T08:54:26.690Z"
   },
   {
    "duration": 315,
    "start_time": "2022-01-06T08:54:39.430Z"
   },
   {
    "duration": 314,
    "start_time": "2022-01-06T08:54:50.072Z"
   },
   {
    "duration": 18,
    "start_time": "2022-01-06T08:54:55.909Z"
   },
   {
    "duration": 9993,
    "start_time": "2022-01-06T08:55:03.653Z"
   },
   {
    "duration": 315,
    "start_time": "2022-01-06T08:55:23.544Z"
   },
   {
    "duration": 95,
    "start_time": "2022-01-06T08:55:30.258Z"
   },
   {
    "duration": 74,
    "start_time": "2022-01-06T08:58:18.899Z"
   },
   {
    "duration": 77,
    "start_time": "2022-01-06T09:03:07.189Z"
   },
   {
    "duration": 17,
    "start_time": "2022-01-06T09:03:11.053Z"
   },
   {
    "duration": 66,
    "start_time": "2022-01-06T09:03:54.366Z"
   },
   {
    "duration": 76,
    "start_time": "2022-01-06T09:04:05.911Z"
   },
   {
    "duration": 76,
    "start_time": "2022-01-06T09:05:10.645Z"
   },
   {
    "duration": 77,
    "start_time": "2022-01-06T09:05:33.738Z"
   },
   {
    "duration": 393,
    "start_time": "2022-01-06T10:00:21.406Z"
   },
   {
    "duration": 404,
    "start_time": "2022-01-06T10:03:18.800Z"
   },
   {
    "duration": 18,
    "start_time": "2022-01-06T10:03:30.009Z"
   },
   {
    "duration": 5,
    "start_time": "2022-01-06T10:03:34.850Z"
   },
   {
    "duration": 17,
    "start_time": "2022-01-06T10:03:39.888Z"
   },
   {
    "duration": 39,
    "start_time": "2022-01-06T10:03:52.425Z"
   },
   {
    "duration": 5,
    "start_time": "2022-01-06T10:09:46.488Z"
   },
   {
    "duration": 5,
    "start_time": "2022-01-06T10:23:16.964Z"
   },
   {
    "duration": 21,
    "start_time": "2022-01-06T10:27:25.842Z"
   },
   {
    "duration": 71,
    "start_time": "2022-01-06T10:30:57.590Z"
   },
   {
    "duration": 101,
    "start_time": "2022-01-06T10:45:15.088Z"
   },
   {
    "duration": 134,
    "start_time": "2022-01-06T10:56:38.424Z"
   },
   {
    "duration": 388,
    "start_time": "2022-01-06T10:56:44.029Z"
   },
   {
    "duration": 9,
    "start_time": "2022-01-06T10:57:45.308Z"
   },
   {
    "duration": 40,
    "start_time": "2022-01-06T10:57:54.335Z"
   },
   {
    "duration": 39,
    "start_time": "2022-01-06T10:58:02.036Z"
   },
   {
    "duration": 385,
    "start_time": "2022-01-06T11:01:54.697Z"
   },
   {
    "duration": 378,
    "start_time": "2022-01-06T11:03:13.113Z"
   },
   {
    "duration": 430,
    "start_time": "2022-01-06T11:03:22.638Z"
   },
   {
    "duration": 490,
    "start_time": "2022-01-06T11:03:28.694Z"
   },
   {
    "duration": 4,
    "start_time": "2022-01-06T11:04:00.427Z"
   },
   {
    "duration": 4,
    "start_time": "2022-01-06T11:04:11.339Z"
   },
   {
    "duration": 34,
    "start_time": "2022-01-06T11:04:21.804Z"
   },
   {
    "duration": 33,
    "start_time": "2022-01-06T11:04:43.621Z"
   },
   {
    "duration": 364,
    "start_time": "2022-01-06T11:05:56.768Z"
   },
   {
    "duration": 11,
    "start_time": "2022-01-06T11:08:52.258Z"
   },
   {
    "duration": 41,
    "start_time": "2022-01-06T11:09:06.392Z"
   },
   {
    "duration": 400,
    "start_time": "2022-01-06T11:10:55.576Z"
   },
   {
    "duration": 9,
    "start_time": "2022-01-06T11:11:19.861Z"
   },
   {
    "duration": 17,
    "start_time": "2022-01-06T11:11:21.998Z"
   },
   {
    "duration": 8,
    "start_time": "2022-01-06T11:12:21.279Z"
   },
   {
    "duration": 12,
    "start_time": "2022-01-06T11:13:20.040Z"
   },
   {
    "duration": 12,
    "start_time": "2022-01-06T11:13:20.848Z"
   },
   {
    "duration": 20,
    "start_time": "2022-01-06T11:13:22.797Z"
   },
   {
    "duration": 14,
    "start_time": "2022-01-06T11:13:38.442Z"
   },
   {
    "duration": 10,
    "start_time": "2022-01-06T11:13:38.994Z"
   },
   {
    "duration": 15,
    "start_time": "2022-01-06T11:17:12.214Z"
   },
   {
    "duration": 43,
    "start_time": "2022-01-06T11:17:19.192Z"
   },
   {
    "duration": 2098,
    "start_time": "2022-01-06T11:17:33.951Z"
   },
   {
    "duration": 327,
    "start_time": "2022-01-06T11:17:38.197Z"
   },
   {
    "duration": 326,
    "start_time": "2022-01-06T11:17:46.784Z"
   },
   {
    "duration": 1709,
    "start_time": "2022-01-06T11:17:56.206Z"
   },
   {
    "duration": 73,
    "start_time": "2022-01-06T11:19:07.227Z"
   },
   {
    "duration": 63,
    "start_time": "2022-01-06T11:19:09.064Z"
   },
   {
    "duration": 100,
    "start_time": "2022-01-06T11:23:30.843Z"
   },
   {
    "duration": 102,
    "start_time": "2022-01-06T11:24:45.430Z"
   },
   {
    "duration": 99,
    "start_time": "2022-01-06T11:25:29.707Z"
   },
   {
    "duration": 46,
    "start_time": "2022-01-06T11:26:18.209Z"
   },
   {
    "duration": 9,
    "start_time": "2022-01-06T11:26:26.346Z"
   },
   {
    "duration": 20,
    "start_time": "2022-01-06T11:26:29.782Z"
   },
   {
    "duration": 21,
    "start_time": "2022-01-06T11:29:05.234Z"
   },
   {
    "duration": 19,
    "start_time": "2022-01-06T11:29:55.855Z"
   },
   {
    "duration": 39,
    "start_time": "2022-01-06T11:31:57.492Z"
   },
   {
    "duration": 43,
    "start_time": "2022-01-06T11:33:57.438Z"
   },
   {
    "duration": 21,
    "start_time": "2022-01-06T11:34:24.771Z"
   },
   {
    "duration": 17,
    "start_time": "2022-01-06T11:34:27.128Z"
   },
   {
    "duration": 104,
    "start_time": "2022-01-06T11:34:31.372Z"
   },
   {
    "duration": 47,
    "start_time": "2022-01-06T11:34:36.655Z"
   },
   {
    "duration": 396,
    "start_time": "2022-01-07T08:08:16.025Z"
   },
   {
    "duration": 676,
    "start_time": "2022-01-07T08:08:21.920Z"
   },
   {
    "duration": 44,
    "start_time": "2022-01-07T08:08:24.620Z"
   },
   {
    "duration": 21,
    "start_time": "2022-01-07T08:08:26.559Z"
   },
   {
    "duration": 19,
    "start_time": "2022-01-07T08:08:28.529Z"
   },
   {
    "duration": 7,
    "start_time": "2022-01-07T08:08:30.383Z"
   },
   {
    "duration": 6,
    "start_time": "2022-01-07T08:12:44.090Z"
   },
   {
    "duration": 24,
    "start_time": "2022-01-07T08:13:34.990Z"
   },
   {
    "duration": 7,
    "start_time": "2022-01-07T08:15:01.439Z"
   },
   {
    "duration": 14,
    "start_time": "2022-01-07T08:18:55.590Z"
   },
   {
    "duration": 17,
    "start_time": "2022-01-07T08:19:04.379Z"
   },
   {
    "duration": 19,
    "start_time": "2022-01-07T08:22:13.875Z"
   },
   {
    "duration": 15,
    "start_time": "2022-01-07T08:22:18.860Z"
   },
   {
    "duration": 18,
    "start_time": "2022-01-07T08:23:03.530Z"
   },
   {
    "duration": 16,
    "start_time": "2022-01-07T08:24:44.866Z"
   },
   {
    "duration": 19,
    "start_time": "2022-01-07T08:25:07.593Z"
   },
   {
    "duration": 23,
    "start_time": "2022-01-07T08:25:10.840Z"
   },
   {
    "duration": 11,
    "start_time": "2022-01-07T08:25:25.764Z"
   },
   {
    "duration": 16,
    "start_time": "2022-01-07T08:25:29.361Z"
   },
   {
    "duration": 74,
    "start_time": "2022-01-07T08:37:08.740Z"
   },
   {
    "duration": 71,
    "start_time": "2022-01-07T08:37:12.070Z"
   },
   {
    "duration": 254,
    "start_time": "2022-01-07T08:41:55.425Z"
   },
   {
    "duration": 3463,
    "start_time": "2022-01-07T08:45:55.621Z"
   },
   {
    "duration": 2947,
    "start_time": "2022-01-07T08:46:51.688Z"
   },
   {
    "duration": 3029,
    "start_time": "2022-01-07T08:47:13.268Z"
   },
   {
    "duration": 85,
    "start_time": "2022-01-07T10:00:31.035Z"
   },
   {
    "duration": 3046,
    "start_time": "2022-01-07T10:00:39.574Z"
   },
   {
    "duration": 879,
    "start_time": "2022-01-10T08:29:53.839Z"
   },
   {
    "duration": 45,
    "start_time": "2022-01-10T08:29:57.252Z"
   },
   {
    "duration": 20,
    "start_time": "2022-01-10T08:29:59.347Z"
   },
   {
    "duration": 21,
    "start_time": "2022-01-10T08:30:01.345Z"
   },
   {
    "duration": 23,
    "start_time": "2022-01-10T08:30:03.060Z"
   },
   {
    "duration": 4897,
    "start_time": "2022-01-10T08:30:05.570Z"
   },
   {
    "duration": 6,
    "start_time": "2022-01-10T08:30:15.683Z"
   },
   {
    "duration": 572,
    "start_time": "2022-01-10T08:35:40.353Z"
   },
   {
    "duration": 5985,
    "start_time": "2022-01-10T08:35:49.873Z"
   },
   {
    "duration": 5797,
    "start_time": "2022-01-10T08:36:12.432Z"
   },
   {
    "duration": 5035,
    "start_time": "2022-01-10T08:36:50.219Z"
   },
   {
    "duration": 5583,
    "start_time": "2022-01-10T08:42:16.772Z"
   },
   {
    "duration": 5233,
    "start_time": "2022-01-10T08:43:25.825Z"
   },
   {
    "duration": 6135,
    "start_time": "2022-01-10T09:21:37.361Z"
   },
   {
    "duration": 286,
    "start_time": "2022-01-10T09:30:38.275Z"
   },
   {
    "duration": 10,
    "start_time": "2022-01-10T09:30:59.488Z"
   },
   {
    "duration": 9,
    "start_time": "2022-01-10T09:33:14.059Z"
   },
   {
    "duration": 8,
    "start_time": "2022-01-10T09:34:50.314Z"
   },
   {
    "duration": 9,
    "start_time": "2022-01-10T09:34:57.034Z"
   },
   {
    "duration": 16,
    "start_time": "2022-01-10T09:39:52.595Z"
   },
   {
    "duration": 2409,
    "start_time": "2022-01-10T09:40:08.172Z"
   },
   {
    "duration": 119,
    "start_time": "2022-01-10T09:40:21.831Z"
   },
   {
    "duration": 2428,
    "start_time": "2022-01-10T09:40:30.442Z"
   },
   {
    "duration": 10,
    "start_time": "2022-01-10T09:41:07.227Z"
   },
   {
    "duration": 6,
    "start_time": "2022-01-10T09:46:23.875Z"
   },
   {
    "duration": 7,
    "start_time": "2022-01-10T09:46:32.035Z"
   },
   {
    "duration": 27,
    "start_time": "2022-01-10T09:47:25.055Z"
   },
   {
    "duration": 53,
    "start_time": "2022-01-10T09:48:12.761Z"
   },
   {
    "duration": 21,
    "start_time": "2022-01-10T09:48:15.569Z"
   },
   {
    "duration": 18,
    "start_time": "2022-01-10T09:48:18.198Z"
   },
   {
    "duration": 25,
    "start_time": "2022-01-10T09:48:20.436Z"
   },
   {
    "duration": 5335,
    "start_time": "2022-01-10T09:48:47.578Z"
   },
   {
    "duration": 25,
    "start_time": "2022-01-10T09:48:57.138Z"
   },
   {
    "duration": 92,
    "start_time": "2022-01-10T09:49:01.993Z"
   },
   {
    "duration": 9,
    "start_time": "2022-01-10T09:49:05.022Z"
   },
   {
    "duration": 7,
    "start_time": "2022-01-10T09:49:06.973Z"
   },
   {
    "duration": 24,
    "start_time": "2022-01-10T09:57:58.536Z"
   },
   {
    "duration": 23,
    "start_time": "2022-01-10T09:58:11.065Z"
   },
   {
    "duration": 413,
    "start_time": "2022-01-10T10:09:10.358Z"
   },
   {
    "duration": 23,
    "start_time": "2022-01-10T10:09:17.620Z"
   },
   {
    "duration": 24,
    "start_time": "2022-01-10T10:09:31.208Z"
   },
   {
    "duration": 29,
    "start_time": "2022-01-10T10:09:44.769Z"
   },
   {
    "duration": 7073,
    "start_time": "2022-01-10T10:24:58.720Z"
   },
   {
    "duration": 6685,
    "start_time": "2022-01-10T10:27:17.247Z"
   },
   {
    "duration": 7459,
    "start_time": "2022-01-10T10:27:32.970Z"
   },
   {
    "duration": 5,
    "start_time": "2022-01-10T10:30:10.620Z"
   },
   {
    "duration": 5951,
    "start_time": "2022-01-10T10:31:43.161Z"
   },
   {
    "duration": 17,
    "start_time": "2022-01-10T10:33:32.072Z"
   },
   {
    "duration": 36,
    "start_time": "2022-01-10T10:34:28.020Z"
   },
   {
    "duration": 21,
    "start_time": "2022-01-10T10:35:38.987Z"
   },
   {
    "duration": 23,
    "start_time": "2022-01-10T10:40:10.325Z"
   },
   {
    "duration": 27,
    "start_time": "2022-01-10T10:40:13.755Z"
   },
   {
    "duration": 25,
    "start_time": "2022-01-10T10:40:15.851Z"
   },
   {
    "duration": 6140,
    "start_time": "2022-01-10T10:40:18.369Z"
   },
   {
    "duration": 9,
    "start_time": "2022-01-10T10:40:24.524Z"
   },
   {
    "duration": 20,
    "start_time": "2022-01-10T10:40:24.536Z"
   },
   {
    "duration": 277,
    "start_time": "2022-01-10T10:47:48.609Z"
   },
   {
    "duration": 31,
    "start_time": "2022-01-10T10:48:06.619Z"
   },
   {
    "duration": 26,
    "start_time": "2022-01-10T10:48:34.673Z"
   },
   {
    "duration": 104,
    "start_time": "2022-01-10T11:00:42.909Z"
   },
   {
    "duration": 6466,
    "start_time": "2022-01-10T11:01:45.368Z"
   },
   {
    "duration": 6807,
    "start_time": "2022-01-10T11:02:03.294Z"
   },
   {
    "duration": 6885,
    "start_time": "2022-01-10T11:02:21.194Z"
   },
   {
    "duration": 6624,
    "start_time": "2022-01-10T11:03:41.925Z"
   },
   {
    "duration": 6597,
    "start_time": "2022-01-10T11:04:12.593Z"
   },
   {
    "duration": 333,
    "start_time": "2022-01-10T11:06:39.302Z"
   },
   {
    "duration": 21,
    "start_time": "2022-01-10T11:06:54.675Z"
   },
   {
    "duration": 27,
    "start_time": "2022-01-10T11:07:26.528Z"
   },
   {
    "duration": 23,
    "start_time": "2022-01-10T11:13:41.511Z"
   },
   {
    "duration": 6754,
    "start_time": "2022-01-10T11:15:17.235Z"
   },
   {
    "duration": 32,
    "start_time": "2022-01-10T11:20:31.528Z"
   },
   {
    "duration": 31,
    "start_time": "2022-01-10T11:20:44.122Z"
   },
   {
    "duration": 115,
    "start_time": "2022-01-10T11:24:03.380Z"
   },
   {
    "duration": 91,
    "start_time": "2022-01-10T11:24:57.226Z"
   },
   {
    "duration": 66,
    "start_time": "2022-01-10T11:25:36.454Z"
   },
   {
    "duration": 24,
    "start_time": "2022-01-10T11:25:44.127Z"
   },
   {
    "duration": 30,
    "start_time": "2022-01-10T11:25:56.741Z"
   },
   {
    "duration": 20,
    "start_time": "2022-01-10T11:26:49.716Z"
   },
   {
    "duration": 9,
    "start_time": "2022-01-10T11:27:07.868Z"
   },
   {
    "duration": 26,
    "start_time": "2022-01-10T11:27:25.347Z"
   },
   {
    "duration": 100,
    "start_time": "2022-01-10T11:27:38.143Z"
   },
   {
    "duration": 7346,
    "start_time": "2022-01-10T11:29:24.538Z"
   },
   {
    "duration": 31,
    "start_time": "2022-01-10T11:30:29.157Z"
   },
   {
    "duration": 10,
    "start_time": "2022-01-10T11:31:14.532Z"
   },
   {
    "duration": 12,
    "start_time": "2022-01-10T11:32:57.433Z"
   },
   {
    "duration": 10,
    "start_time": "2022-01-10T11:33:05.989Z"
   },
   {
    "duration": 11,
    "start_time": "2022-01-10T11:34:12.157Z"
   },
   {
    "duration": 11,
    "start_time": "2022-01-10T11:34:40.139Z"
   },
   {
    "duration": 12,
    "start_time": "2022-01-10T11:34:53.072Z"
   },
   {
    "duration": 216,
    "start_time": "2022-01-12T13:43:12.761Z"
   },
   {
    "duration": 645,
    "start_time": "2022-01-12T13:43:22.489Z"
   },
   {
    "duration": 8,
    "start_time": "2022-01-12T13:43:23.136Z"
   },
   {
    "duration": 28,
    "start_time": "2022-01-12T13:43:23.146Z"
   },
   {
    "duration": 24,
    "start_time": "2022-01-12T13:43:23.176Z"
   },
   {
    "duration": 13,
    "start_time": "2022-01-12T13:43:23.201Z"
   },
   {
    "duration": 16,
    "start_time": "2022-01-12T13:43:23.216Z"
   },
   {
    "duration": 244,
    "start_time": "2022-01-12T13:43:23.234Z"
   },
   {
    "duration": 0,
    "start_time": "2022-01-12T13:43:23.480Z"
   },
   {
    "duration": -2,
    "start_time": "2022-01-12T13:43:23.483Z"
   },
   {
    "duration": -2,
    "start_time": "2022-01-12T13:43:23.484Z"
   },
   {
    "duration": -2,
    "start_time": "2022-01-12T13:43:23.485Z"
   },
   {
    "duration": -2,
    "start_time": "2022-01-12T13:43:23.486Z"
   },
   {
    "duration": -2,
    "start_time": "2022-01-12T13:43:23.487Z"
   },
   {
    "duration": 173,
    "start_time": "2022-01-12T13:43:29.503Z"
   },
   {
    "duration": 70,
    "start_time": "2022-01-12T13:43:33.962Z"
   },
   {
    "duration": 10,
    "start_time": "2022-01-12T13:43:37.039Z"
   },
   {
    "duration": 181,
    "start_time": "2022-01-12T13:43:44.530Z"
   },
   {
    "duration": 4631,
    "start_time": "2022-01-12T13:43:56.849Z"
   },
   {
    "duration": 15,
    "start_time": "2022-01-12T13:45:29.695Z"
   },
   {
    "duration": 67,
    "start_time": "2022-01-12T13:46:12.913Z"
   },
   {
    "duration": 66,
    "start_time": "2022-01-12T13:52:50.321Z"
   },
   {
    "duration": 20,
    "start_time": "2022-01-12T14:15:17.321Z"
   },
   {
    "duration": 4453,
    "start_time": "2022-01-12T14:59:58.525Z"
   },
   {
    "duration": 3856,
    "start_time": "2022-01-12T15:00:16.777Z"
   },
   {
    "duration": 3700,
    "start_time": "2022-01-12T15:39:50.975Z"
   },
   {
    "duration": 17,
    "start_time": "2022-01-12T15:40:11.354Z"
   },
   {
    "duration": 89,
    "start_time": "2022-01-12T15:40:28.297Z"
   },
   {
    "duration": 10,
    "start_time": "2022-01-12T15:40:30.626Z"
   },
   {
    "duration": 16,
    "start_time": "2022-01-12T15:40:32.379Z"
   },
   {
    "duration": 13,
    "start_time": "2022-01-12T15:40:34.122Z"
   },
   {
    "duration": 13,
    "start_time": "2022-01-12T15:40:36.041Z"
   },
   {
    "duration": 17,
    "start_time": "2022-01-12T15:40:38.076Z"
   },
   {
    "duration": 4353,
    "start_time": "2022-01-12T15:40:40.876Z"
   },
   {
    "duration": 19,
    "start_time": "2022-01-12T15:40:45.231Z"
   },
   {
    "duration": 9,
    "start_time": "2022-01-12T15:40:45.725Z"
   },
   {
    "duration": 15,
    "start_time": "2022-01-12T15:40:47.790Z"
   },
   {
    "duration": 18,
    "start_time": "2022-01-12T15:40:50.032Z"
   },
   {
    "duration": 15,
    "start_time": "2022-01-12T15:44:13.718Z"
   },
   {
    "duration": 15,
    "start_time": "2022-01-12T15:44:22.451Z"
   },
   {
    "duration": 15,
    "start_time": "2022-01-12T16:01:02.218Z"
   },
   {
    "duration": 882,
    "start_time": "2022-01-14T09:08:38.965Z"
   },
   {
    "duration": 20,
    "start_time": "2022-01-14T09:08:39.849Z"
   },
   {
    "duration": 26,
    "start_time": "2022-01-14T09:08:39.872Z"
   },
   {
    "duration": 19,
    "start_time": "2022-01-14T09:08:39.901Z"
   },
   {
    "duration": 51,
    "start_time": "2022-01-14T09:08:39.922Z"
   },
   {
    "duration": 23,
    "start_time": "2022-01-14T09:08:39.976Z"
   },
   {
    "duration": 9,
    "start_time": "2022-01-14T09:08:40.002Z"
   },
   {
    "duration": 6389,
    "start_time": "2022-01-14T09:08:40.014Z"
   },
   {
    "duration": 32,
    "start_time": "2022-01-14T09:08:46.407Z"
   },
   {
    "duration": 38,
    "start_time": "2022-01-14T09:08:46.441Z"
   },
   {
    "duration": 23,
    "start_time": "2022-01-14T09:08:46.482Z"
   },
   {
    "duration": 23,
    "start_time": "2022-01-14T09:08:46.507Z"
   },
   {
    "duration": 13,
    "start_time": "2022-01-14T09:13:30.187Z"
   },
   {
    "duration": 463,
    "start_time": "2022-01-14T09:30:25.857Z"
   },
   {
    "duration": 30,
    "start_time": "2022-01-14T09:30:55.273Z"
   },
   {
    "duration": 8,
    "start_time": "2022-01-14T09:34:27.505Z"
   },
   {
    "duration": 871,
    "start_time": "2022-01-14T09:42:58.225Z"
   },
   {
    "duration": 13,
    "start_time": "2022-01-14T09:42:59.099Z"
   },
   {
    "duration": 53,
    "start_time": "2022-01-14T09:42:59.115Z"
   },
   {
    "duration": 14,
    "start_time": "2022-01-14T09:42:59.171Z"
   },
   {
    "duration": 22,
    "start_time": "2022-01-14T09:42:59.188Z"
   },
   {
    "duration": 20,
    "start_time": "2022-01-14T09:42:59.213Z"
   },
   {
    "duration": 24,
    "start_time": "2022-01-14T09:42:59.268Z"
   },
   {
    "duration": 5,
    "start_time": "2022-01-14T09:42:59.294Z"
   },
   {
    "duration": 7002,
    "start_time": "2022-01-14T09:42:59.303Z"
   },
   {
    "duration": 29,
    "start_time": "2022-01-14T09:43:06.308Z"
   },
   {
    "duration": 48,
    "start_time": "2022-01-14T09:43:06.340Z"
   },
   {
    "duration": 31,
    "start_time": "2022-01-14T09:43:06.391Z"
   },
   {
    "duration": 51,
    "start_time": "2022-01-14T09:43:06.425Z"
   },
   {
    "duration": 892,
    "start_time": "2022-01-15T05:01:51.421Z"
   },
   {
    "duration": 13,
    "start_time": "2022-01-15T05:01:53.522Z"
   },
   {
    "duration": 26,
    "start_time": "2022-01-15T05:01:55.590Z"
   },
   {
    "duration": 20,
    "start_time": "2022-01-15T05:02:03.193Z"
   },
   {
    "duration": 10,
    "start_time": "2022-01-15T05:11:43.093Z"
   },
   {
    "duration": 23,
    "start_time": "2022-01-15T05:11:50.106Z"
   },
   {
    "duration": 10,
    "start_time": "2022-01-15T05:11:52.785Z"
   },
   {
    "duration": 21,
    "start_time": "2022-01-15T05:11:59.542Z"
   },
   {
    "duration": 15,
    "start_time": "2022-01-15T05:14:25.517Z"
   },
   {
    "duration": 24,
    "start_time": "2022-01-15T05:14:27.956Z"
   },
   {
    "duration": 11,
    "start_time": "2022-01-15T05:14:30.373Z"
   },
   {
    "duration": 15,
    "start_time": "2022-01-15T05:14:32.011Z"
   },
   {
    "duration": 92,
    "start_time": "2022-01-15T05:14:36.429Z"
   },
   {
    "duration": 12,
    "start_time": "2022-01-15T05:14:40.317Z"
   },
   {
    "duration": 26,
    "start_time": "2022-01-15T05:14:42.681Z"
   },
   {
    "duration": 11,
    "start_time": "2022-01-15T05:14:44.742Z"
   },
   {
    "duration": 16,
    "start_time": "2022-01-15T05:14:46.888Z"
   },
   {
    "duration": 21,
    "start_time": "2022-01-15T05:14:51.075Z"
   },
   {
    "duration": 20,
    "start_time": "2022-01-15T05:15:20.420Z"
   },
   {
    "duration": 516,
    "start_time": "2022-01-15T05:16:17.842Z"
   },
   {
    "duration": 27,
    "start_time": "2022-01-15T05:16:23.518Z"
   },
   {
    "duration": 26,
    "start_time": "2022-01-15T05:16:47.897Z"
   },
   {
    "duration": 49,
    "start_time": "2022-01-15T05:19:18.577Z"
   },
   {
    "duration": 45,
    "start_time": "2022-01-15T05:37:51.074Z"
   },
   {
    "duration": 45,
    "start_time": "2022-01-15T05:38:05.844Z"
   },
   {
    "duration": 43,
    "start_time": "2022-01-15T05:38:20.746Z"
   },
   {
    "duration": 67,
    "start_time": "2022-01-15T05:39:16.740Z"
   },
   {
    "duration": 101,
    "start_time": "2022-01-15T05:39:30.362Z"
   },
   {
    "duration": 445,
    "start_time": "2022-01-15T05:39:51.892Z"
   },
   {
    "duration": 435,
    "start_time": "2022-01-15T05:40:19.404Z"
   },
   {
    "duration": 448,
    "start_time": "2022-01-15T05:40:31.787Z"
   },
   {
    "duration": 421,
    "start_time": "2022-01-15T05:41:00.556Z"
   },
   {
    "duration": 414,
    "start_time": "2022-01-15T05:41:18.187Z"
   },
   {
    "duration": 54,
    "start_time": "2022-01-15T05:41:39.248Z"
   },
   {
    "duration": 23,
    "start_time": "2022-01-15T05:41:42.966Z"
   },
   {
    "duration": 54,
    "start_time": "2022-01-15T05:41:45.009Z"
   },
   {
    "duration": 94,
    "start_time": "2022-01-15T05:41:54.160Z"
   },
   {
    "duration": 13,
    "start_time": "2022-01-15T05:41:56.960Z"
   },
   {
    "duration": 25,
    "start_time": "2022-01-15T05:41:58.937Z"
   },
   {
    "duration": 11,
    "start_time": "2022-01-15T05:42:00.969Z"
   },
   {
    "duration": 50,
    "start_time": "2022-01-15T05:42:02.915Z"
   },
   {
    "duration": 18,
    "start_time": "2022-01-15T05:42:05.887Z"
   },
   {
    "duration": 44,
    "start_time": "2022-01-15T05:42:09.157Z"
   },
   {
    "duration": 138,
    "start_time": "2022-01-15T05:42:35.700Z"
   },
   {
    "duration": 21,
    "start_time": "2022-01-15T05:42:41.228Z"
   },
   {
    "duration": 43,
    "start_time": "2022-01-15T05:43:02.798Z"
   },
   {
    "duration": 55,
    "start_time": "2022-01-15T05:43:04.677Z"
   },
   {
    "duration": 421,
    "start_time": "2022-01-15T05:43:17.659Z"
   },
   {
    "duration": 411,
    "start_time": "2022-01-15T05:44:01.531Z"
   },
   {
    "duration": 25,
    "start_time": "2022-01-15T05:44:06.158Z"
   },
   {
    "duration": 434,
    "start_time": "2022-01-15T05:44:09.216Z"
   },
   {
    "duration": 36,
    "start_time": "2022-01-15T05:45:00.764Z"
   },
   {
    "duration": 25,
    "start_time": "2022-01-15T05:45:06.870Z"
   },
   {
    "duration": 33,
    "start_time": "2022-01-15T05:45:09.530Z"
   },
   {
    "duration": 60,
    "start_time": "2022-01-15T05:45:13.580Z"
   },
   {
    "duration": 62,
    "start_time": "2022-01-15T05:45:25.451Z"
   },
   {
    "duration": 56,
    "start_time": "2022-01-15T05:45:33.441Z"
   },
   {
    "duration": 82,
    "start_time": "2022-01-15T05:46:06.263Z"
   },
   {
    "duration": 54,
    "start_time": "2022-01-15T05:46:49.854Z"
   },
   {
    "duration": 61,
    "start_time": "2022-01-15T05:47:16.753Z"
   },
   {
    "duration": 52,
    "start_time": "2022-01-15T05:47:24.526Z"
   },
   {
    "duration": 4,
    "start_time": "2022-01-15T05:49:24.594Z"
   },
   {
    "duration": 4,
    "start_time": "2022-01-15T05:49:29.122Z"
   },
   {
    "duration": 126,
    "start_time": "2022-01-15T05:49:36.715Z"
   },
   {
    "duration": 4,
    "start_time": "2022-01-15T05:49:44.204Z"
   },
   {
    "duration": 172,
    "start_time": "2022-01-15T05:53:04.876Z"
   },
   {
    "duration": 125,
    "start_time": "2022-01-15T05:53:10.998Z"
   },
   {
    "duration": 136,
    "start_time": "2022-01-15T05:53:16.666Z"
   },
   {
    "duration": 5,
    "start_time": "2022-01-15T05:53:35.691Z"
   },
   {
    "duration": 5,
    "start_time": "2022-01-15T05:54:53.180Z"
   },
   {
    "duration": 430,
    "start_time": "2022-01-15T05:55:33.070Z"
   },
   {
    "duration": 5,
    "start_time": "2022-01-15T05:56:46.825Z"
   },
   {
    "duration": 4513,
    "start_time": "2022-01-15T05:58:09.898Z"
   },
   {
    "duration": 3537,
    "start_time": "2022-01-15T05:58:30.052Z"
   },
   {
    "duration": 3578,
    "start_time": "2022-01-15T06:00:52.661Z"
   },
   {
    "duration": 439,
    "start_time": "2022-01-15T06:13:35.462Z"
   },
   {
    "duration": 559,
    "start_time": "2022-01-15T06:13:48.501Z"
   },
   {
    "duration": 133,
    "start_time": "2022-01-15T06:14:10.878Z"
   },
   {
    "duration": 14,
    "start_time": "2022-01-15T06:14:11.015Z"
   },
   {
    "duration": 26,
    "start_time": "2022-01-15T06:14:11.032Z"
   },
   {
    "duration": 42,
    "start_time": "2022-01-15T06:14:11.061Z"
   },
   {
    "duration": 46,
    "start_time": "2022-01-15T06:14:11.106Z"
   },
   {
    "duration": 50,
    "start_time": "2022-01-15T06:14:11.155Z"
   },
   {
    "duration": 23,
    "start_time": "2022-01-15T06:14:11.207Z"
   },
   {
    "duration": 73,
    "start_time": "2022-01-15T06:14:11.233Z"
   },
   {
    "duration": 4565,
    "start_time": "2022-01-15T06:14:11.308Z"
   },
   {
    "duration": 5174,
    "start_time": "2022-01-15T06:14:15.876Z"
   },
   {
    "duration": 3,
    "start_time": "2022-01-15T06:14:21.052Z"
   },
   {
    "duration": 45,
    "start_time": "2022-01-15T06:14:21.057Z"
   },
   {
    "duration": 3,
    "start_time": "2022-01-15T06:14:21.104Z"
   },
   {
    "duration": 57,
    "start_time": "2022-01-15T06:14:21.145Z"
   },
   {
    "duration": 28,
    "start_time": "2022-01-15T06:16:41.741Z"
   },
   {
    "duration": 38,
    "start_time": "2022-01-15T06:16:54.079Z"
   },
   {
    "duration": 30,
    "start_time": "2022-01-15T06:23:33.009Z"
   },
   {
    "duration": 31,
    "start_time": "2022-01-15T06:24:09.788Z"
   },
   {
    "duration": 31,
    "start_time": "2022-01-15T06:25:19.415Z"
   },
   {
    "duration": 543,
    "start_time": "2022-01-15T06:25:27.486Z"
   },
   {
    "duration": 47,
    "start_time": "2022-01-15T06:25:33.851Z"
   },
   {
    "duration": 47,
    "start_time": "2022-01-15T06:29:37.223Z"
   },
   {
    "duration": 1656,
    "start_time": "2022-01-15T06:31:29.873Z"
   },
   {
    "duration": 56,
    "start_time": "2022-01-15T06:32:52.813Z"
   },
   {
    "duration": 52,
    "start_time": "2022-01-15T06:33:55.606Z"
   },
   {
    "duration": 31,
    "start_time": "2022-01-15T06:34:14.598Z"
   },
   {
    "duration": 33,
    "start_time": "2022-01-15T06:36:44.630Z"
   },
   {
    "duration": 34,
    "start_time": "2022-01-15T06:39:00.403Z"
   },
   {
    "duration": 32,
    "start_time": "2022-01-15T06:39:41.098Z"
   },
   {
    "duration": 667,
    "start_time": "2022-01-15T06:43:00.485Z"
   },
   {
    "duration": 3654,
    "start_time": "2022-01-15T06:43:18.899Z"
   },
   {
    "duration": 5060,
    "start_time": "2022-01-15T06:43:30.861Z"
   },
   {
    "duration": 52,
    "start_time": "2022-01-15T06:45:08.585Z"
   },
   {
    "duration": 29,
    "start_time": "2022-01-15T06:45:23.634Z"
   },
   {
    "duration": 73,
    "start_time": "2022-01-15T06:50:38.851Z"
   },
   {
    "duration": 53,
    "start_time": "2022-01-15T06:50:42.906Z"
   },
   {
    "duration": 29,
    "start_time": "2022-01-15T06:53:59.028Z"
   },
   {
    "duration": 32,
    "start_time": "2022-01-15T06:54:22.757Z"
   },
   {
    "duration": 33,
    "start_time": "2022-01-15T06:59:36.551Z"
   },
   {
    "duration": 31,
    "start_time": "2022-01-15T06:59:48.988Z"
   },
   {
    "duration": 573,
    "start_time": "2022-01-15T07:02:11.676Z"
   },
   {
    "duration": 37,
    "start_time": "2022-01-15T07:02:17.053Z"
   },
   {
    "duration": 572,
    "start_time": "2022-01-15T07:02:44.712Z"
   },
   {
    "duration": 32,
    "start_time": "2022-01-15T07:02:51.011Z"
   },
   {
    "duration": 30,
    "start_time": "2022-01-15T07:03:26.614Z"
   },
   {
    "duration": 645,
    "start_time": "2022-01-15T09:01:37.068Z"
   },
   {
    "duration": 8,
    "start_time": "2022-01-15T09:01:37.715Z"
   },
   {
    "duration": 37,
    "start_time": "2022-01-15T09:01:37.724Z"
   },
   {
    "duration": 18,
    "start_time": "2022-01-15T09:01:37.762Z"
   },
   {
    "duration": 32,
    "start_time": "2022-01-15T09:01:37.781Z"
   },
   {
    "duration": 14,
    "start_time": "2022-01-15T09:01:37.814Z"
   },
   {
    "duration": 18,
    "start_time": "2022-01-15T09:01:37.829Z"
   },
   {
    "duration": 37,
    "start_time": "2022-01-15T09:01:37.850Z"
   },
   {
    "duration": 3317,
    "start_time": "2022-01-15T09:01:37.889Z"
   },
   {
    "duration": 3527,
    "start_time": "2022-01-15T09:01:41.209Z"
   },
   {
    "duration": 27,
    "start_time": "2022-01-15T09:01:44.737Z"
   },
   {
    "duration": 20,
    "start_time": "2022-01-15T09:01:44.766Z"
   },
   {
    "duration": 19,
    "start_time": "2022-01-15T09:01:44.787Z"
   },
   {
    "duration": 49,
    "start_time": "2022-01-15T09:01:44.808Z"
   },
   {
    "duration": 3017,
    "start_time": "2022-01-15T09:02:45.255Z"
   },
   {
    "duration": 85,
    "start_time": "2022-01-15T10:48:47.628Z"
   },
   {
    "duration": 10,
    "start_time": "2022-01-15T10:48:51.510Z"
   },
   {
    "duration": 16,
    "start_time": "2022-01-15T10:48:53.703Z"
   },
   {
    "duration": 8,
    "start_time": "2022-01-15T10:48:54.942Z"
   },
   {
    "duration": 18,
    "start_time": "2022-01-15T10:48:55.491Z"
   },
   {
    "duration": 14,
    "start_time": "2022-01-15T10:48:57.577Z"
   },
   {
    "duration": 14,
    "start_time": "2022-01-15T10:48:58.481Z"
   },
   {
    "duration": 31,
    "start_time": "2022-01-15T10:48:58.732Z"
   },
   {
    "duration": 3863,
    "start_time": "2022-01-15T10:48:59.478Z"
   },
   {
    "duration": 4077,
    "start_time": "2022-01-15T10:49:03.344Z"
   },
   {
    "duration": 33,
    "start_time": "2022-01-15T10:49:07.424Z"
   },
   {
    "duration": 18,
    "start_time": "2022-01-15T10:49:07.459Z"
   },
   {
    "duration": 18,
    "start_time": "2022-01-15T10:49:07.479Z"
   },
   {
    "duration": 44,
    "start_time": "2022-01-15T10:49:07.498Z"
   },
   {
    "duration": 665,
    "start_time": "2022-01-15T11:58:00.718Z"
   },
   {
    "duration": 368,
    "start_time": "2022-01-15T12:32:37.286Z"
   },
   {
    "duration": 236,
    "start_time": "2022-01-15T12:33:23.076Z"
   },
   {
    "duration": 257,
    "start_time": "2022-01-15T12:34:02.392Z"
   },
   {
    "duration": 246,
    "start_time": "2022-01-15T12:34:10.147Z"
   },
   {
    "duration": 228,
    "start_time": "2022-01-15T12:34:47.951Z"
   },
   {
    "duration": 460,
    "start_time": "2022-01-15T12:34:51.354Z"
   },
   {
    "duration": 244,
    "start_time": "2022-01-15T12:36:06.000Z"
   },
   {
    "duration": 64,
    "start_time": "2022-01-15T12:36:10.567Z"
   },
   {
    "duration": 7,
    "start_time": "2022-01-15T12:36:10.633Z"
   },
   {
    "duration": 28,
    "start_time": "2022-01-15T12:36:10.643Z"
   },
   {
    "duration": 9,
    "start_time": "2022-01-15T12:36:10.673Z"
   },
   {
    "duration": 23,
    "start_time": "2022-01-15T12:36:10.683Z"
   },
   {
    "duration": 12,
    "start_time": "2022-01-15T12:36:10.707Z"
   },
   {
    "duration": 14,
    "start_time": "2022-01-15T12:36:10.720Z"
   },
   {
    "duration": 28,
    "start_time": "2022-01-15T12:36:10.741Z"
   },
   {
    "duration": 3321,
    "start_time": "2022-01-15T12:36:10.771Z"
   },
   {
    "duration": 3493,
    "start_time": "2022-01-15T12:36:14.094Z"
   },
   {
    "duration": 25,
    "start_time": "2022-01-15T12:36:17.588Z"
   },
   {
    "duration": 32,
    "start_time": "2022-01-15T12:36:17.615Z"
   },
   {
    "duration": 17,
    "start_time": "2022-01-15T12:36:17.648Z"
   },
   {
    "duration": 20,
    "start_time": "2022-01-15T12:36:17.667Z"
   },
   {
    "duration": 758,
    "start_time": "2022-01-15T12:47:03.510Z"
   },
   {
    "duration": 8,
    "start_time": "2022-01-15T12:47:04.270Z"
   },
   {
    "duration": 17,
    "start_time": "2022-01-15T12:47:04.280Z"
   },
   {
    "duration": 13,
    "start_time": "2022-01-15T12:47:04.299Z"
   },
   {
    "duration": 42,
    "start_time": "2022-01-15T12:47:04.314Z"
   },
   {
    "duration": 15,
    "start_time": "2022-01-15T12:47:04.359Z"
   },
   {
    "duration": 17,
    "start_time": "2022-01-15T12:47:04.376Z"
   },
   {
    "duration": 60,
    "start_time": "2022-01-15T12:47:04.396Z"
   },
   {
    "duration": 3557,
    "start_time": "2022-01-15T12:47:04.458Z"
   },
   {
    "duration": 4009,
    "start_time": "2022-01-15T12:47:08.018Z"
   },
   {
    "duration": 40,
    "start_time": "2022-01-15T12:47:12.029Z"
   },
   {
    "duration": 24,
    "start_time": "2022-01-15T12:47:12.072Z"
   },
   {
    "duration": 21,
    "start_time": "2022-01-15T12:47:12.098Z"
   },
   {
    "duration": 23,
    "start_time": "2022-01-15T12:47:12.141Z"
   },
   {
    "duration": 824,
    "start_time": "2022-01-16T07:15:49.679Z"
   },
   {
    "duration": 22,
    "start_time": "2022-01-16T07:15:50.506Z"
   },
   {
    "duration": 25,
    "start_time": "2022-01-16T07:15:50.531Z"
   },
   {
    "duration": 10,
    "start_time": "2022-01-16T07:15:50.559Z"
   },
   {
    "duration": 57,
    "start_time": "2022-01-16T07:15:50.571Z"
   },
   {
    "duration": 18,
    "start_time": "2022-01-16T07:15:50.631Z"
   },
   {
    "duration": 20,
    "start_time": "2022-01-16T07:15:50.651Z"
   },
   {
    "duration": 69,
    "start_time": "2022-01-16T07:15:50.674Z"
   },
   {
    "duration": 4531,
    "start_time": "2022-01-16T07:15:50.745Z"
   },
   {
    "duration": 5699,
    "start_time": "2022-01-16T07:15:55.278Z"
   },
   {
    "duration": 47,
    "start_time": "2022-01-16T07:16:00.980Z"
   },
   {
    "duration": 30,
    "start_time": "2022-01-16T07:16:01.029Z"
   },
   {
    "duration": 27,
    "start_time": "2022-01-16T07:16:01.061Z"
   },
   {
    "duration": 57,
    "start_time": "2022-01-16T07:16:01.090Z"
   },
   {
    "duration": 1193,
    "start_time": "2022-01-16T12:13:17.023Z"
   },
   {
    "duration": 18,
    "start_time": "2022-01-16T12:13:18.223Z"
   },
   {
    "duration": 47,
    "start_time": "2022-01-16T12:13:18.246Z"
   },
   {
    "duration": 41,
    "start_time": "2022-01-16T12:13:18.297Z"
   },
   {
    "duration": 34,
    "start_time": "2022-01-16T12:13:18.341Z"
   },
   {
    "duration": 18,
    "start_time": "2022-01-16T12:13:18.378Z"
   },
   {
    "duration": 23,
    "start_time": "2022-01-16T12:13:18.424Z"
   },
   {
    "duration": 45,
    "start_time": "2022-01-16T12:13:18.449Z"
   },
   {
    "duration": 5429,
    "start_time": "2022-01-16T12:13:18.523Z"
   },
   {
    "duration": 6362,
    "start_time": "2022-01-16T12:13:23.956Z"
   },
   {
    "duration": 41,
    "start_time": "2022-01-16T12:13:30.324Z"
   },
   {
    "duration": 30,
    "start_time": "2022-01-16T12:13:30.368Z"
   },
   {
    "duration": 30,
    "start_time": "2022-01-16T12:13:30.423Z"
   },
   {
    "duration": 29,
    "start_time": "2022-01-16T12:13:30.456Z"
   },
   {
    "duration": 782,
    "start_time": "2022-09-06T15:49:40.721Z"
   },
   {
    "duration": 9,
    "start_time": "2022-09-06T15:49:41.504Z"
   },
   {
    "duration": 18,
    "start_time": "2022-09-06T15:49:41.514Z"
   },
   {
    "duration": 9,
    "start_time": "2022-09-06T15:49:41.534Z"
   },
   {
    "duration": 20,
    "start_time": "2022-09-06T15:49:41.544Z"
   },
   {
    "duration": 46,
    "start_time": "2022-09-06T15:49:41.565Z"
   },
   {
    "duration": 18,
    "start_time": "2022-09-06T15:49:41.613Z"
   },
   {
    "duration": 35,
    "start_time": "2022-09-06T15:49:41.633Z"
   },
   {
    "duration": 3562,
    "start_time": "2022-09-06T15:49:41.687Z"
   },
   {
    "duration": 3749,
    "start_time": "2022-09-06T15:49:45.252Z"
   },
   {
    "duration": 23,
    "start_time": "2022-09-06T15:49:49.002Z"
   },
   {
    "duration": 24,
    "start_time": "2022-09-06T15:49:49.026Z"
   },
   {
    "duration": 51,
    "start_time": "2022-09-06T15:49:49.052Z"
   },
   {
    "duration": 31,
    "start_time": "2022-09-06T15:49:49.104Z"
   },
   {
    "duration": 488,
    "start_time": "2022-09-06T15:51:25.340Z"
   },
   {
    "duration": 8,
    "start_time": "2022-09-06T15:51:25.831Z"
   },
   {
    "duration": 25,
    "start_time": "2022-09-06T15:51:25.840Z"
   },
   {
    "duration": 39,
    "start_time": "2022-09-06T15:51:25.867Z"
   },
   {
    "duration": 16,
    "start_time": "2022-09-06T15:51:25.908Z"
   },
   {
    "duration": 15,
    "start_time": "2022-09-06T15:51:25.926Z"
   },
   {
    "duration": 47,
    "start_time": "2022-09-06T15:51:25.943Z"
   },
   {
    "duration": 4039,
    "start_time": "2022-09-06T15:51:25.992Z"
   },
   {
    "duration": 25,
    "start_time": "2022-09-06T15:51:30.033Z"
   },
   {
    "duration": 43,
    "start_time": "2022-09-06T15:51:30.060Z"
   },
   {
    "duration": 19,
    "start_time": "2022-09-06T15:51:30.105Z"
   },
   {
    "duration": 17,
    "start_time": "2022-09-06T15:51:30.125Z"
   }
  ],
  "kernelspec": {
   "display_name": "Python 3 (ipykernel)",
   "language": "python",
   "name": "python3"
  },
  "language_info": {
   "codemirror_mode": {
    "name": "ipython",
    "version": 3
   },
   "file_extension": ".py",
   "mimetype": "text/x-python",
   "name": "python",
   "nbconvert_exporter": "python",
   "pygments_lexer": "ipython3",
   "version": "3.9.5"
  },
  "toc": {
   "base_numbering": 1,
   "nav_menu": {
    "height": "726px",
    "width": "348px"
   },
   "number_sections": true,
   "sideBar": true,
   "skip_h1_title": true,
   "title_cell": "Table of Contents",
   "title_sidebar": "Contents",
   "toc_cell": false,
   "toc_position": {},
   "toc_section_display": true,
   "toc_window_display": true
  }
 },
 "nbformat": 4,
 "nbformat_minor": 2
}
