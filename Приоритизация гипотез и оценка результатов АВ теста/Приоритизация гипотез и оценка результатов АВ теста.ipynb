{
 "cells": [
  {
   "cell_type": "markdown",
   "metadata": {},
   "source": [
    "# Приоритизация гипотез и оценка результатов А/В-теста.\n"
   ]
  },
  {
   "cell_type": "markdown",
   "metadata": {},
   "source": [
    "# Описание проекта"
   ]
  },
  {
   "cell_type": "markdown",
   "metadata": {},
   "source": [
    "Вы — аналитик крупного интернет-магазина. Вместе с отделом маркетинга вы подготовили список гипотез для увеличения выручки."
   ]
  },
  {
   "cell_type": "markdown",
   "metadata": {},
   "source": [
    "**Цели и задачи исследования:**\n",
    "- Приоритизировать гипотезы;\n",
    "- Запустить A/B-тест;\n",
    "- Проанализировать результаты."
   ]
  },
  {
   "cell_type": "markdown",
   "metadata": {},
   "source": [
    "**Описание данных**\n",
    "\n",
    "Файл `/datasets/hypothesis.csv.` \n",
    "- `Hypothesis` — краткое описание гипотезы;\n",
    "- `Reach` — охват пользователей по 10-балльной шкале;\n",
    "- `Impact` — влияние на пользователей по 10-балльной шкале;\n",
    "- `Confidence` — уверенность в гипотезе по 10-балльной шкале;\n",
    "- `Efforts` — затраты ресурсов на проверку гипотезы по 10-балльной шкале. Чем больше значение Efforts, тем дороже проверка гипотезы.\n",
    "\n",
    "Файл `/datasets/orders.csv.`\n",
    "- `transactionId` — идентификатор заказа;\n",
    "- `visitorId` — идентификатор пользователя, совершившего заказ;\n",
    "- `date` — дата, когда был совершён заказ;\n",
    "- `revenue` — выручка заказа;\n",
    "- `group` — группа A/B-теста, в которую попал заказ.\n",
    "\n",
    "Файл `/datasets/visitors.csv.` \n",
    "- `date` — дата;\n",
    "- `group` — группа A/B-теста;\n",
    "- `visitors` — количество пользователей в указанную дату в указанной группе A/B-теста"
   ]
  },
  {
   "cell_type": "markdown",
   "metadata": {},
   "source": [
    "## Загрузка библиотек.  Предобработка исходных данных."
   ]
  },
  {
   "cell_type": "code",
   "execution_count": 48,
   "metadata": {},
   "outputs": [],
   "source": [
    "import pandas as pd\n",
    "import scipy.stats as stats\n",
    "import datetime as dt\n",
    "import numpy as np\n",
    "import matplotlib.pyplot as plt"
   ]
  },
  {
   "cell_type": "code",
   "execution_count": 49,
   "metadata": {},
   "outputs": [],
   "source": [
    "hypothesis = pd.read_csv('/datasets/hypothesis.csv') \n",
    "orders = pd.read_csv('/datasets/orders.csv')\n",
    "visitors = pd.read_csv('/datasets/visitors.csv')"
   ]
  },
  {
   "cell_type": "markdown",
   "metadata": {},
   "source": [
    "### Таблица Hypothesis. "
   ]
  },
  {
   "cell_type": "code",
   "execution_count": 50,
   "metadata": {},
   "outputs": [
    {
     "data": {
      "text/html": [
       "<div>\n",
       "<style scoped>\n",
       "    .dataframe tbody tr th:only-of-type {\n",
       "        vertical-align: middle;\n",
       "    }\n",
       "\n",
       "    .dataframe tbody tr th {\n",
       "        vertical-align: top;\n",
       "    }\n",
       "\n",
       "    .dataframe thead th {\n",
       "        text-align: right;\n",
       "    }\n",
       "</style>\n",
       "<table border=\"1\" class=\"dataframe\">\n",
       "  <thead>\n",
       "    <tr style=\"text-align: right;\">\n",
       "      <th></th>\n",
       "      <th>Hypothesis</th>\n",
       "      <th>Reach</th>\n",
       "      <th>Impact</th>\n",
       "      <th>Confidence</th>\n",
       "      <th>Efforts</th>\n",
       "    </tr>\n",
       "  </thead>\n",
       "  <tbody>\n",
       "    <tr>\n",
       "      <th>0</th>\n",
       "      <td>Добавить два новых канала привлечения трафика, что позволит привлекать на 30% больше пользователей</td>\n",
       "      <td>3</td>\n",
       "      <td>10</td>\n",
       "      <td>8</td>\n",
       "      <td>6</td>\n",
       "    </tr>\n",
       "    <tr>\n",
       "      <th>1</th>\n",
       "      <td>Запустить собственную службу доставки, что сократит срок доставки заказов</td>\n",
       "      <td>2</td>\n",
       "      <td>5</td>\n",
       "      <td>4</td>\n",
       "      <td>10</td>\n",
       "    </tr>\n",
       "    <tr>\n",
       "      <th>2</th>\n",
       "      <td>Добавить блоки рекомендаций товаров на сайт интернет магазина, чтобы повысить конверсию и средни...</td>\n",
       "      <td>8</td>\n",
       "      <td>3</td>\n",
       "      <td>7</td>\n",
       "      <td>3</td>\n",
       "    </tr>\n",
       "    <tr>\n",
       "      <th>3</th>\n",
       "      <td>Изменить структура категорий, что увеличит конверсию, т.к. пользователи быстрее найдут нужный товар</td>\n",
       "      <td>8</td>\n",
       "      <td>3</td>\n",
       "      <td>3</td>\n",
       "      <td>8</td>\n",
       "    </tr>\n",
       "    <tr>\n",
       "      <th>4</th>\n",
       "      <td>Изменить цвет фона главной страницы, чтобы увеличить вовлеченность пользователей</td>\n",
       "      <td>3</td>\n",
       "      <td>1</td>\n",
       "      <td>1</td>\n",
       "      <td>1</td>\n",
       "    </tr>\n",
       "    <tr>\n",
       "      <th>5</th>\n",
       "      <td>Добавить страницу отзывов клиентов о магазине, что позволит увеличить количество заказов</td>\n",
       "      <td>3</td>\n",
       "      <td>2</td>\n",
       "      <td>2</td>\n",
       "      <td>3</td>\n",
       "    </tr>\n",
       "    <tr>\n",
       "      <th>6</th>\n",
       "      <td>Показать на главной странице баннеры с актуальными акциями и распродажами, чтобы увеличить конве...</td>\n",
       "      <td>5</td>\n",
       "      <td>3</td>\n",
       "      <td>8</td>\n",
       "      <td>3</td>\n",
       "    </tr>\n",
       "    <tr>\n",
       "      <th>7</th>\n",
       "      <td>Добавить форму подписки на все основные страницы, чтобы собрать базу клиентов для email-рассылок</td>\n",
       "      <td>10</td>\n",
       "      <td>7</td>\n",
       "      <td>8</td>\n",
       "      <td>5</td>\n",
       "    </tr>\n",
       "    <tr>\n",
       "      <th>8</th>\n",
       "      <td>Запустить акцию, дающую скидку на товар в день рождения</td>\n",
       "      <td>1</td>\n",
       "      <td>9</td>\n",
       "      <td>9</td>\n",
       "      <td>5</td>\n",
       "    </tr>\n",
       "  </tbody>\n",
       "</table>\n",
       "</div>"
      ],
      "text/plain": [
       "                                                                                            Hypothesis  \\\n",
       "0   Добавить два новых канала привлечения трафика, что позволит привлекать на 30% больше пользователей   \n",
       "1                            Запустить собственную службу доставки, что сократит срок доставки заказов   \n",
       "2  Добавить блоки рекомендаций товаров на сайт интернет магазина, чтобы повысить конверсию и средни...   \n",
       "3  Изменить структура категорий, что увеличит конверсию, т.к. пользователи быстрее найдут нужный товар   \n",
       "4                     Изменить цвет фона главной страницы, чтобы увеличить вовлеченность пользователей   \n",
       "5             Добавить страницу отзывов клиентов о магазине, что позволит увеличить количество заказов   \n",
       "6  Показать на главной странице баннеры с актуальными акциями и распродажами, чтобы увеличить конве...   \n",
       "7     Добавить форму подписки на все основные страницы, чтобы собрать базу клиентов для email-рассылок   \n",
       "8                                              Запустить акцию, дающую скидку на товар в день рождения   \n",
       "\n",
       "   Reach  Impact  Confidence  Efforts  \n",
       "0      3      10           8        6  \n",
       "1      2       5           4       10  \n",
       "2      8       3           7        3  \n",
       "3      8       3           3        8  \n",
       "4      3       1           1        1  \n",
       "5      3       2           2        3  \n",
       "6      5       3           8        3  \n",
       "7     10       7           8        5  \n",
       "8      1       9           9        5  "
      ]
     },
     "metadata": {},
     "output_type": "display_data"
    }
   ],
   "source": [
    "display(hypothesis)"
   ]
  },
  {
   "cell_type": "markdown",
   "metadata": {},
   "source": [
    "Для удобства приведем названия столбцов к змеиному регистру методом `str.lower`. Проверим результат. "
   ]
  },
  {
   "cell_type": "code",
   "execution_count": 51,
   "metadata": {
    "scrolled": true
   },
   "outputs": [
    {
     "data": {
      "text/html": [
       "<div>\n",
       "<style scoped>\n",
       "    .dataframe tbody tr th:only-of-type {\n",
       "        vertical-align: middle;\n",
       "    }\n",
       "\n",
       "    .dataframe tbody tr th {\n",
       "        vertical-align: top;\n",
       "    }\n",
       "\n",
       "    .dataframe thead th {\n",
       "        text-align: right;\n",
       "    }\n",
       "</style>\n",
       "<table border=\"1\" class=\"dataframe\">\n",
       "  <thead>\n",
       "    <tr style=\"text-align: right;\">\n",
       "      <th></th>\n",
       "      <th>hypothesis</th>\n",
       "      <th>reach</th>\n",
       "      <th>impact</th>\n",
       "      <th>confidence</th>\n",
       "      <th>efforts</th>\n",
       "    </tr>\n",
       "  </thead>\n",
       "  <tbody>\n",
       "    <tr>\n",
       "      <th>0</th>\n",
       "      <td>Добавить два новых канала привлечения трафика, что позволит привлекать на 30% больше пользователей</td>\n",
       "      <td>3</td>\n",
       "      <td>10</td>\n",
       "      <td>8</td>\n",
       "      <td>6</td>\n",
       "    </tr>\n",
       "    <tr>\n",
       "      <th>1</th>\n",
       "      <td>Запустить собственную службу доставки, что сократит срок доставки заказов</td>\n",
       "      <td>2</td>\n",
       "      <td>5</td>\n",
       "      <td>4</td>\n",
       "      <td>10</td>\n",
       "    </tr>\n",
       "    <tr>\n",
       "      <th>2</th>\n",
       "      <td>Добавить блоки рекомендаций товаров на сайт интернет магазина, чтобы повысить конверсию и средни...</td>\n",
       "      <td>8</td>\n",
       "      <td>3</td>\n",
       "      <td>7</td>\n",
       "      <td>3</td>\n",
       "    </tr>\n",
       "    <tr>\n",
       "      <th>3</th>\n",
       "      <td>Изменить структура категорий, что увеличит конверсию, т.к. пользователи быстрее найдут нужный товар</td>\n",
       "      <td>8</td>\n",
       "      <td>3</td>\n",
       "      <td>3</td>\n",
       "      <td>8</td>\n",
       "    </tr>\n",
       "    <tr>\n",
       "      <th>4</th>\n",
       "      <td>Изменить цвет фона главной страницы, чтобы увеличить вовлеченность пользователей</td>\n",
       "      <td>3</td>\n",
       "      <td>1</td>\n",
       "      <td>1</td>\n",
       "      <td>1</td>\n",
       "    </tr>\n",
       "    <tr>\n",
       "      <th>5</th>\n",
       "      <td>Добавить страницу отзывов клиентов о магазине, что позволит увеличить количество заказов</td>\n",
       "      <td>3</td>\n",
       "      <td>2</td>\n",
       "      <td>2</td>\n",
       "      <td>3</td>\n",
       "    </tr>\n",
       "    <tr>\n",
       "      <th>6</th>\n",
       "      <td>Показать на главной странице баннеры с актуальными акциями и распродажами, чтобы увеличить конве...</td>\n",
       "      <td>5</td>\n",
       "      <td>3</td>\n",
       "      <td>8</td>\n",
       "      <td>3</td>\n",
       "    </tr>\n",
       "    <tr>\n",
       "      <th>7</th>\n",
       "      <td>Добавить форму подписки на все основные страницы, чтобы собрать базу клиентов для email-рассылок</td>\n",
       "      <td>10</td>\n",
       "      <td>7</td>\n",
       "      <td>8</td>\n",
       "      <td>5</td>\n",
       "    </tr>\n",
       "    <tr>\n",
       "      <th>8</th>\n",
       "      <td>Запустить акцию, дающую скидку на товар в день рождения</td>\n",
       "      <td>1</td>\n",
       "      <td>9</td>\n",
       "      <td>9</td>\n",
       "      <td>5</td>\n",
       "    </tr>\n",
       "  </tbody>\n",
       "</table>\n",
       "</div>"
      ],
      "text/plain": [
       "                                                                                            hypothesis  \\\n",
       "0   Добавить два новых канала привлечения трафика, что позволит привлекать на 30% больше пользователей   \n",
       "1                            Запустить собственную службу доставки, что сократит срок доставки заказов   \n",
       "2  Добавить блоки рекомендаций товаров на сайт интернет магазина, чтобы повысить конверсию и средни...   \n",
       "3  Изменить структура категорий, что увеличит конверсию, т.к. пользователи быстрее найдут нужный товар   \n",
       "4                     Изменить цвет фона главной страницы, чтобы увеличить вовлеченность пользователей   \n",
       "5             Добавить страницу отзывов клиентов о магазине, что позволит увеличить количество заказов   \n",
       "6  Показать на главной странице баннеры с актуальными акциями и распродажами, чтобы увеличить конве...   \n",
       "7     Добавить форму подписки на все основные страницы, чтобы собрать базу клиентов для email-рассылок   \n",
       "8                                              Запустить акцию, дающую скидку на товар в день рождения   \n",
       "\n",
       "   reach  impact  confidence  efforts  \n",
       "0      3      10           8        6  \n",
       "1      2       5           4       10  \n",
       "2      8       3           7        3  \n",
       "3      8       3           3        8  \n",
       "4      3       1           1        1  \n",
       "5      3       2           2        3  \n",
       "6      5       3           8        3  \n",
       "7     10       7           8        5  \n",
       "8      1       9           9        5  "
      ]
     },
     "metadata": {},
     "output_type": "display_data"
    }
   ],
   "source": [
    "hypothesis.columns = hypothesis.columns.str.lower()\n",
    "display(hypothesis)"
   ]
  },
  {
   "cell_type": "markdown",
   "metadata": {},
   "source": [
    "### Таблица Orders."
   ]
  },
  {
   "cell_type": "code",
   "execution_count": 52,
   "metadata": {},
   "outputs": [
    {
     "name": "stdout",
     "output_type": "stream",
     "text": [
      "<class 'pandas.core.frame.DataFrame'>\n",
      "RangeIndex: 1197 entries, 0 to 1196\n",
      "Data columns (total 5 columns):\n",
      " #   Column         Non-Null Count  Dtype \n",
      "---  ------         --------------  ----- \n",
      " 0   transactionId  1197 non-null   int64 \n",
      " 1   visitorId      1197 non-null   int64 \n",
      " 2   date           1197 non-null   object\n",
      " 3   revenue        1197 non-null   int64 \n",
      " 4   group          1197 non-null   object\n",
      "dtypes: int64(3), object(2)\n",
      "memory usage: 46.9+ KB\n"
     ]
    },
    {
     "data": {
      "text/html": [
       "<div>\n",
       "<style scoped>\n",
       "    .dataframe tbody tr th:only-of-type {\n",
       "        vertical-align: middle;\n",
       "    }\n",
       "\n",
       "    .dataframe tbody tr th {\n",
       "        vertical-align: top;\n",
       "    }\n",
       "\n",
       "    .dataframe thead th {\n",
       "        text-align: right;\n",
       "    }\n",
       "</style>\n",
       "<table border=\"1\" class=\"dataframe\">\n",
       "  <thead>\n",
       "    <tr style=\"text-align: right;\">\n",
       "      <th></th>\n",
       "      <th>transactionId</th>\n",
       "      <th>visitorId</th>\n",
       "      <th>date</th>\n",
       "      <th>revenue</th>\n",
       "      <th>group</th>\n",
       "    </tr>\n",
       "  </thead>\n",
       "  <tbody>\n",
       "    <tr>\n",
       "      <th>0</th>\n",
       "      <td>3667963787</td>\n",
       "      <td>3312258926</td>\n",
       "      <td>2019-08-15</td>\n",
       "      <td>1650</td>\n",
       "      <td>B</td>\n",
       "    </tr>\n",
       "    <tr>\n",
       "      <th>1</th>\n",
       "      <td>2804400009</td>\n",
       "      <td>3642806036</td>\n",
       "      <td>2019-08-15</td>\n",
       "      <td>730</td>\n",
       "      <td>B</td>\n",
       "    </tr>\n",
       "    <tr>\n",
       "      <th>2</th>\n",
       "      <td>2961555356</td>\n",
       "      <td>4069496402</td>\n",
       "      <td>2019-08-15</td>\n",
       "      <td>400</td>\n",
       "      <td>A</td>\n",
       "    </tr>\n",
       "    <tr>\n",
       "      <th>3</th>\n",
       "      <td>3797467345</td>\n",
       "      <td>1196621759</td>\n",
       "      <td>2019-08-15</td>\n",
       "      <td>9759</td>\n",
       "      <td>B</td>\n",
       "    </tr>\n",
       "    <tr>\n",
       "      <th>4</th>\n",
       "      <td>2282983706</td>\n",
       "      <td>2322279887</td>\n",
       "      <td>2019-08-15</td>\n",
       "      <td>2308</td>\n",
       "      <td>B</td>\n",
       "    </tr>\n",
       "    <tr>\n",
       "      <th>...</th>\n",
       "      <td>...</td>\n",
       "      <td>...</td>\n",
       "      <td>...</td>\n",
       "      <td>...</td>\n",
       "      <td>...</td>\n",
       "    </tr>\n",
       "    <tr>\n",
       "      <th>1192</th>\n",
       "      <td>2662137336</td>\n",
       "      <td>3733762160</td>\n",
       "      <td>2019-08-14</td>\n",
       "      <td>6490</td>\n",
       "      <td>B</td>\n",
       "    </tr>\n",
       "    <tr>\n",
       "      <th>1193</th>\n",
       "      <td>2203539145</td>\n",
       "      <td>370388673</td>\n",
       "      <td>2019-08-14</td>\n",
       "      <td>3190</td>\n",
       "      <td>A</td>\n",
       "    </tr>\n",
       "    <tr>\n",
       "      <th>1194</th>\n",
       "      <td>1807773912</td>\n",
       "      <td>573423106</td>\n",
       "      <td>2019-08-14</td>\n",
       "      <td>10550</td>\n",
       "      <td>A</td>\n",
       "    </tr>\n",
       "    <tr>\n",
       "      <th>1195</th>\n",
       "      <td>1947021204</td>\n",
       "      <td>1614305549</td>\n",
       "      <td>2019-08-14</td>\n",
       "      <td>100</td>\n",
       "      <td>A</td>\n",
       "    </tr>\n",
       "    <tr>\n",
       "      <th>1196</th>\n",
       "      <td>3936777065</td>\n",
       "      <td>2108080724</td>\n",
       "      <td>2019-08-15</td>\n",
       "      <td>202740</td>\n",
       "      <td>B</td>\n",
       "    </tr>\n",
       "  </tbody>\n",
       "</table>\n",
       "<p>1197 rows × 5 columns</p>\n",
       "</div>"
      ],
      "text/plain": [
       "      transactionId   visitorId        date  revenue group\n",
       "0        3667963787  3312258926  2019-08-15     1650     B\n",
       "1        2804400009  3642806036  2019-08-15      730     B\n",
       "2        2961555356  4069496402  2019-08-15      400     A\n",
       "3        3797467345  1196621759  2019-08-15     9759     B\n",
       "4        2282983706  2322279887  2019-08-15     2308     B\n",
       "...             ...         ...         ...      ...   ...\n",
       "1192     2662137336  3733762160  2019-08-14     6490     B\n",
       "1193     2203539145   370388673  2019-08-14     3190     A\n",
       "1194     1807773912   573423106  2019-08-14    10550     A\n",
       "1195     1947021204  1614305549  2019-08-14      100     A\n",
       "1196     3936777065  2108080724  2019-08-15   202740     B\n",
       "\n",
       "[1197 rows x 5 columns]"
      ]
     },
     "metadata": {},
     "output_type": "display_data"
    }
   ],
   "source": [
    "orders.info()\n",
    "display(orders)"
   ]
  },
  {
   "cell_type": "markdown",
   "metadata": {},
   "source": [
    "Переименуем столбцы `transactionId` и `visitorId`  в соответствии с хорошем стилем, а также изменим тип данных в столбце с датой совершения заказа."
   ]
  },
  {
   "cell_type": "code",
   "execution_count": 53,
   "metadata": {},
   "outputs": [
    {
     "name": "stdout",
     "output_type": "stream",
     "text": [
      "<class 'pandas.core.frame.DataFrame'>\n",
      "RangeIndex: 1197 entries, 0 to 1196\n",
      "Data columns (total 5 columns):\n",
      " #   Column          Non-Null Count  Dtype         \n",
      "---  ------          --------------  -----         \n",
      " 0   transaction_id  1197 non-null   int64         \n",
      " 1   visitor_id      1197 non-null   int64         \n",
      " 2   date            1197 non-null   datetime64[ns]\n",
      " 3   revenue         1197 non-null   int64         \n",
      " 4   group           1197 non-null   object        \n",
      "dtypes: datetime64[ns](1), int64(3), object(1)\n",
      "memory usage: 46.9+ KB\n"
     ]
    }
   ],
   "source": [
    "#переименовываем столбцы\n",
    "orders = orders.rename(columns={'transactionId':'transaction_id', 'visitorId':'visitor_id'})\n",
    "\n",
    "#меняем тип данных\n",
    "visitors['date'] = pd.to_datetime(visitors['date'], format='%Y-%m-%d')\n",
    "orders['date'] = pd.to_datetime(orders['date'], format='%Y-%m-%d')\n",
    "\n",
    "#проверяем, сработали ли предыдущие шаги\n",
    "orders.info()"
   ]
  },
  {
   "cell_type": "markdown",
   "metadata": {},
   "source": [
    "### Таблица Visitors."
   ]
  },
  {
   "cell_type": "code",
   "execution_count": 54,
   "metadata": {},
   "outputs": [
    {
     "name": "stdout",
     "output_type": "stream",
     "text": [
      "<class 'pandas.core.frame.DataFrame'>\n",
      "RangeIndex: 62 entries, 0 to 61\n",
      "Data columns (total 3 columns):\n",
      " #   Column    Non-Null Count  Dtype         \n",
      "---  ------    --------------  -----         \n",
      " 0   date      62 non-null     datetime64[ns]\n",
      " 1   group     62 non-null     object        \n",
      " 2   visitors  62 non-null     int64         \n",
      "dtypes: datetime64[ns](1), int64(1), object(1)\n",
      "memory usage: 1.6+ KB\n"
     ]
    },
    {
     "data": {
      "text/html": [
       "<div>\n",
       "<style scoped>\n",
       "    .dataframe tbody tr th:only-of-type {\n",
       "        vertical-align: middle;\n",
       "    }\n",
       "\n",
       "    .dataframe tbody tr th {\n",
       "        vertical-align: top;\n",
       "    }\n",
       "\n",
       "    .dataframe thead th {\n",
       "        text-align: right;\n",
       "    }\n",
       "</style>\n",
       "<table border=\"1\" class=\"dataframe\">\n",
       "  <thead>\n",
       "    <tr style=\"text-align: right;\">\n",
       "      <th></th>\n",
       "      <th>date</th>\n",
       "      <th>group</th>\n",
       "      <th>visitors</th>\n",
       "    </tr>\n",
       "  </thead>\n",
       "  <tbody>\n",
       "    <tr>\n",
       "      <th>0</th>\n",
       "      <td>2019-08-01</td>\n",
       "      <td>A</td>\n",
       "      <td>719</td>\n",
       "    </tr>\n",
       "    <tr>\n",
       "      <th>1</th>\n",
       "      <td>2019-08-02</td>\n",
       "      <td>A</td>\n",
       "      <td>619</td>\n",
       "    </tr>\n",
       "    <tr>\n",
       "      <th>2</th>\n",
       "      <td>2019-08-03</td>\n",
       "      <td>A</td>\n",
       "      <td>507</td>\n",
       "    </tr>\n",
       "    <tr>\n",
       "      <th>3</th>\n",
       "      <td>2019-08-04</td>\n",
       "      <td>A</td>\n",
       "      <td>717</td>\n",
       "    </tr>\n",
       "    <tr>\n",
       "      <th>4</th>\n",
       "      <td>2019-08-05</td>\n",
       "      <td>A</td>\n",
       "      <td>756</td>\n",
       "    </tr>\n",
       "    <tr>\n",
       "      <th>...</th>\n",
       "      <td>...</td>\n",
       "      <td>...</td>\n",
       "      <td>...</td>\n",
       "    </tr>\n",
       "    <tr>\n",
       "      <th>57</th>\n",
       "      <td>2019-08-27</td>\n",
       "      <td>B</td>\n",
       "      <td>720</td>\n",
       "    </tr>\n",
       "    <tr>\n",
       "      <th>58</th>\n",
       "      <td>2019-08-28</td>\n",
       "      <td>B</td>\n",
       "      <td>654</td>\n",
       "    </tr>\n",
       "    <tr>\n",
       "      <th>59</th>\n",
       "      <td>2019-08-29</td>\n",
       "      <td>B</td>\n",
       "      <td>531</td>\n",
       "    </tr>\n",
       "    <tr>\n",
       "      <th>60</th>\n",
       "      <td>2019-08-30</td>\n",
       "      <td>B</td>\n",
       "      <td>490</td>\n",
       "    </tr>\n",
       "    <tr>\n",
       "      <th>61</th>\n",
       "      <td>2019-08-31</td>\n",
       "      <td>B</td>\n",
       "      <td>718</td>\n",
       "    </tr>\n",
       "  </tbody>\n",
       "</table>\n",
       "<p>62 rows × 3 columns</p>\n",
       "</div>"
      ],
      "text/plain": [
       "         date group  visitors\n",
       "0  2019-08-01     A       719\n",
       "1  2019-08-02     A       619\n",
       "2  2019-08-03     A       507\n",
       "3  2019-08-04     A       717\n",
       "4  2019-08-05     A       756\n",
       "..        ...   ...       ...\n",
       "57 2019-08-27     B       720\n",
       "58 2019-08-28     B       654\n",
       "59 2019-08-29     B       531\n",
       "60 2019-08-30     B       490\n",
       "61 2019-08-31     B       718\n",
       "\n",
       "[62 rows x 3 columns]"
      ]
     },
     "metadata": {},
     "output_type": "display_data"
    }
   ],
   "source": [
    "visitors.info()\n",
    "display(visitors)"
   ]
  },
  {
   "cell_type": "markdown",
   "metadata": {},
   "source": [
    "Изменим тип данных в столбце с датой."
   ]
  },
  {
   "cell_type": "code",
   "execution_count": 55,
   "metadata": {},
   "outputs": [],
   "source": [
    "visitors['date'] = pd.to_datetime(visitors['date'], format='%Y-%m-%d')"
   ]
  },
  {
   "cell_type": "markdown",
   "metadata": {},
   "source": [
    "## Обработка дубликатов.\n"
   ]
  },
  {
   "cell_type": "markdown",
   "metadata": {},
   "source": [
    "Проверим наши таблицы на наличие дубликатов. "
   ]
  },
  {
   "cell_type": "code",
   "execution_count": 56,
   "metadata": {},
   "outputs": [
    {
     "name": "stdout",
     "output_type": "stream",
     "text": [
      "0\n",
      "0\n",
      "0\n"
     ]
    }
   ],
   "source": [
    "print(hypothesis.duplicated().sum())\n",
    "print(orders.duplicated().sum())\n",
    "print(visitors.duplicated().sum())"
   ]
  },
  {
   "cell_type": "markdown",
   "metadata": {},
   "source": [
    "Дубликатов не обнаружено, теперь проверим, есть ли пользователи, которые попали в обе группы одновременно. "
   ]
  },
  {
   "cell_type": "code",
   "execution_count": 57,
   "metadata": {},
   "outputs": [
    {
     "name": "stdout",
     "output_type": "stream",
     "text": [
      "58\n"
     ]
    },
    {
     "data": {
      "text/html": [
       "<div>\n",
       "<style scoped>\n",
       "    .dataframe tbody tr th:only-of-type {\n",
       "        vertical-align: middle;\n",
       "    }\n",
       "\n",
       "    .dataframe tbody tr th {\n",
       "        vertical-align: top;\n",
       "    }\n",
       "\n",
       "    .dataframe thead th {\n",
       "        text-align: right;\n",
       "    }\n",
       "</style>\n",
       "<table border=\"1\" class=\"dataframe\">\n",
       "  <thead>\n",
       "    <tr style=\"text-align: right;\">\n",
       "      <th></th>\n",
       "      <th>visitor_id</th>\n",
       "      <th>group</th>\n",
       "    </tr>\n",
       "  </thead>\n",
       "  <tbody>\n",
       "    <tr>\n",
       "      <th>0</th>\n",
       "      <td>8300375</td>\n",
       "      <td>2</td>\n",
       "    </tr>\n",
       "    <tr>\n",
       "      <th>1</th>\n",
       "      <td>199603092</td>\n",
       "      <td>2</td>\n",
       "    </tr>\n",
       "    <tr>\n",
       "      <th>2</th>\n",
       "      <td>232979603</td>\n",
       "      <td>2</td>\n",
       "    </tr>\n",
       "    <tr>\n",
       "      <th>3</th>\n",
       "      <td>237748145</td>\n",
       "      <td>2</td>\n",
       "    </tr>\n",
       "    <tr>\n",
       "      <th>4</th>\n",
       "      <td>276558944</td>\n",
       "      <td>2</td>\n",
       "    </tr>\n",
       "  </tbody>\n",
       "</table>\n",
       "</div>"
      ],
      "text/plain": [
       "   visitor_id  group\n",
       "0     8300375      2\n",
       "1   199603092      2\n",
       "2   232979603      2\n",
       "3   237748145      2\n",
       "4   276558944      2"
      ]
     },
     "metadata": {},
     "output_type": "display_data"
    }
   ],
   "source": [
    "duplicate_users = orders.groupby('visitor_id').agg({'group':'nunique'}).query('group > 1').reset_index()\n",
    "print(len(duplicate_users))\n",
    "display(duplicate_users.head(5))"
   ]
  },
  {
   "cell_type": "markdown",
   "metadata": {},
   "source": [
    "58 пользователей попали и в группу A и в группу B. Для корректного теста удалим их из таблицы Orders. Для этого создадим список `duplicates`и скопируем в него их `visitor_id` , далее сделаем срез данных `query()`."
   ]
  },
  {
   "cell_type": "code",
   "execution_count": 58,
   "metadata": {},
   "outputs": [],
   "source": [
    "duplicates = duplicate_users['visitor_id'].tolist()"
   ]
  },
  {
   "cell_type": "code",
   "execution_count": 59,
   "metadata": {},
   "outputs": [],
   "source": [
    "orders = orders.query('visitor_id not in @duplicates')"
   ]
  },
  {
   "cell_type": "markdown",
   "metadata": {},
   "source": [
    "Таблица `orders` отфильтрована от пользователей, попавших в обе группы. "
   ]
  },
  {
   "cell_type": "markdown",
   "metadata": {},
   "source": [
    "## Приоритизация гипотез."
   ]
  },
  {
   "cell_type": "markdown",
   "metadata": {},
   "source": [
    "### Расчет ICE."
   ]
  },
  {
   "cell_type": "markdown",
   "metadata": {},
   "source": [
    "Посчитаем ICE и добавим его в новый столбец таблицы. Выведем обновленную таблицу и отсортируем ее в порядке убывания приоритета."
   ]
  },
  {
   "cell_type": "code",
   "execution_count": 60,
   "metadata": {},
   "outputs": [
    {
     "data": {
      "text/html": [
       "<div>\n",
       "<style scoped>\n",
       "    .dataframe tbody tr th:only-of-type {\n",
       "        vertical-align: middle;\n",
       "    }\n",
       "\n",
       "    .dataframe tbody tr th {\n",
       "        vertical-align: top;\n",
       "    }\n",
       "\n",
       "    .dataframe thead th {\n",
       "        text-align: right;\n",
       "    }\n",
       "</style>\n",
       "<table border=\"1\" class=\"dataframe\">\n",
       "  <thead>\n",
       "    <tr style=\"text-align: right;\">\n",
       "      <th></th>\n",
       "      <th>hypothesis</th>\n",
       "      <th>reach</th>\n",
       "      <th>impact</th>\n",
       "      <th>confidence</th>\n",
       "      <th>efforts</th>\n",
       "      <th>ICE</th>\n",
       "    </tr>\n",
       "  </thead>\n",
       "  <tbody>\n",
       "    <tr>\n",
       "      <th>8</th>\n",
       "      <td>Запустить акцию, дающую скидку на товар в день рождения</td>\n",
       "      <td>1</td>\n",
       "      <td>9</td>\n",
       "      <td>9</td>\n",
       "      <td>5</td>\n",
       "      <td>16.200000</td>\n",
       "    </tr>\n",
       "    <tr>\n",
       "      <th>0</th>\n",
       "      <td>Добавить два новых канала привлечения трафика, что позволит привлекать на 30% больше пользователей</td>\n",
       "      <td>3</td>\n",
       "      <td>10</td>\n",
       "      <td>8</td>\n",
       "      <td>6</td>\n",
       "      <td>13.333333</td>\n",
       "    </tr>\n",
       "    <tr>\n",
       "      <th>7</th>\n",
       "      <td>Добавить форму подписки на все основные страницы, чтобы собрать базу клиентов для email-рассылок</td>\n",
       "      <td>10</td>\n",
       "      <td>7</td>\n",
       "      <td>8</td>\n",
       "      <td>5</td>\n",
       "      <td>11.200000</td>\n",
       "    </tr>\n",
       "    <tr>\n",
       "      <th>6</th>\n",
       "      <td>Показать на главной странице баннеры с актуальными акциями и распродажами, чтобы увеличить конве...</td>\n",
       "      <td>5</td>\n",
       "      <td>3</td>\n",
       "      <td>8</td>\n",
       "      <td>3</td>\n",
       "      <td>8.000000</td>\n",
       "    </tr>\n",
       "    <tr>\n",
       "      <th>2</th>\n",
       "      <td>Добавить блоки рекомендаций товаров на сайт интернет магазина, чтобы повысить конверсию и средни...</td>\n",
       "      <td>8</td>\n",
       "      <td>3</td>\n",
       "      <td>7</td>\n",
       "      <td>3</td>\n",
       "      <td>7.000000</td>\n",
       "    </tr>\n",
       "    <tr>\n",
       "      <th>1</th>\n",
       "      <td>Запустить собственную службу доставки, что сократит срок доставки заказов</td>\n",
       "      <td>2</td>\n",
       "      <td>5</td>\n",
       "      <td>4</td>\n",
       "      <td>10</td>\n",
       "      <td>2.000000</td>\n",
       "    </tr>\n",
       "    <tr>\n",
       "      <th>5</th>\n",
       "      <td>Добавить страницу отзывов клиентов о магазине, что позволит увеличить количество заказов</td>\n",
       "      <td>3</td>\n",
       "      <td>2</td>\n",
       "      <td>2</td>\n",
       "      <td>3</td>\n",
       "      <td>1.333333</td>\n",
       "    </tr>\n",
       "    <tr>\n",
       "      <th>3</th>\n",
       "      <td>Изменить структура категорий, что увеличит конверсию, т.к. пользователи быстрее найдут нужный товар</td>\n",
       "      <td>8</td>\n",
       "      <td>3</td>\n",
       "      <td>3</td>\n",
       "      <td>8</td>\n",
       "      <td>1.125000</td>\n",
       "    </tr>\n",
       "    <tr>\n",
       "      <th>4</th>\n",
       "      <td>Изменить цвет фона главной страницы, чтобы увеличить вовлеченность пользователей</td>\n",
       "      <td>3</td>\n",
       "      <td>1</td>\n",
       "      <td>1</td>\n",
       "      <td>1</td>\n",
       "      <td>1.000000</td>\n",
       "    </tr>\n",
       "  </tbody>\n",
       "</table>\n",
       "</div>"
      ],
      "text/plain": [
       "                                                                                            hypothesis  \\\n",
       "8                                              Запустить акцию, дающую скидку на товар в день рождения   \n",
       "0   Добавить два новых канала привлечения трафика, что позволит привлекать на 30% больше пользователей   \n",
       "7     Добавить форму подписки на все основные страницы, чтобы собрать базу клиентов для email-рассылок   \n",
       "6  Показать на главной странице баннеры с актуальными акциями и распродажами, чтобы увеличить конве...   \n",
       "2  Добавить блоки рекомендаций товаров на сайт интернет магазина, чтобы повысить конверсию и средни...   \n",
       "1                            Запустить собственную службу доставки, что сократит срок доставки заказов   \n",
       "5             Добавить страницу отзывов клиентов о магазине, что позволит увеличить количество заказов   \n",
       "3  Изменить структура категорий, что увеличит конверсию, т.к. пользователи быстрее найдут нужный товар   \n",
       "4                     Изменить цвет фона главной страницы, чтобы увеличить вовлеченность пользователей   \n",
       "\n",
       "   reach  impact  confidence  efforts        ICE  \n",
       "8      1       9           9        5  16.200000  \n",
       "0      3      10           8        6  13.333333  \n",
       "7     10       7           8        5  11.200000  \n",
       "6      5       3           8        3   8.000000  \n",
       "2      8       3           7        3   7.000000  \n",
       "1      2       5           4       10   2.000000  \n",
       "5      3       2           2        3   1.333333  \n",
       "3      8       3           3        8   1.125000  \n",
       "4      3       1           1        1   1.000000  "
      ]
     },
     "metadata": {},
     "output_type": "display_data"
    }
   ],
   "source": [
    "hypothesis['ICE'] = (hypothesis['impact'] * hypothesis['confidence']) / hypothesis['efforts']\n",
    "display(hypothesis.sort_values(by='ICE', ascending=False))"
   ]
  },
  {
   "cell_type": "markdown",
   "metadata": {},
   "source": [
    "Наиболее перспективные гипотезы по ICE: `9`, `1`, `8`, `7` и `3`. Остальные гипотезы по уровню ICE сильно остают от лидеров.  "
   ]
  },
  {
   "cell_type": "markdown",
   "metadata": {},
   "source": [
    "### Расчет RICE."
   ]
  },
  {
   "cell_type": "markdown",
   "metadata": {},
   "source": [
    "Проведем похожие на прошлый шаг действия и расчитаем RICE. "
   ]
  },
  {
   "cell_type": "code",
   "execution_count": 61,
   "metadata": {},
   "outputs": [
    {
     "data": {
      "text/html": [
       "<div>\n",
       "<style scoped>\n",
       "    .dataframe tbody tr th:only-of-type {\n",
       "        vertical-align: middle;\n",
       "    }\n",
       "\n",
       "    .dataframe tbody tr th {\n",
       "        vertical-align: top;\n",
       "    }\n",
       "\n",
       "    .dataframe thead th {\n",
       "        text-align: right;\n",
       "    }\n",
       "</style>\n",
       "<table border=\"1\" class=\"dataframe\">\n",
       "  <thead>\n",
       "    <tr style=\"text-align: right;\">\n",
       "      <th></th>\n",
       "      <th>hypothesis</th>\n",
       "      <th>reach</th>\n",
       "      <th>impact</th>\n",
       "      <th>confidence</th>\n",
       "      <th>efforts</th>\n",
       "      <th>ICE</th>\n",
       "      <th>RICE</th>\n",
       "    </tr>\n",
       "  </thead>\n",
       "  <tbody>\n",
       "    <tr>\n",
       "      <th>7</th>\n",
       "      <td>Добавить форму подписки на все основные страницы, чтобы собрать базу клиентов для email-рассылок</td>\n",
       "      <td>10</td>\n",
       "      <td>7</td>\n",
       "      <td>8</td>\n",
       "      <td>5</td>\n",
       "      <td>11.20</td>\n",
       "      <td>112.0</td>\n",
       "    </tr>\n",
       "    <tr>\n",
       "      <th>2</th>\n",
       "      <td>Добавить блоки рекомендаций товаров на сайт интернет магазина, чтобы повысить конверсию и средни...</td>\n",
       "      <td>8</td>\n",
       "      <td>3</td>\n",
       "      <td>7</td>\n",
       "      <td>3</td>\n",
       "      <td>7.00</td>\n",
       "      <td>56.0</td>\n",
       "    </tr>\n",
       "    <tr>\n",
       "      <th>0</th>\n",
       "      <td>Добавить два новых канала привлечения трафика, что позволит привлекать на 30% больше пользователей</td>\n",
       "      <td>3</td>\n",
       "      <td>10</td>\n",
       "      <td>8</td>\n",
       "      <td>6</td>\n",
       "      <td>13.33</td>\n",
       "      <td>40.0</td>\n",
       "    </tr>\n",
       "    <tr>\n",
       "      <th>6</th>\n",
       "      <td>Показать на главной странице баннеры с актуальными акциями и распродажами, чтобы увеличить конве...</td>\n",
       "      <td>5</td>\n",
       "      <td>3</td>\n",
       "      <td>8</td>\n",
       "      <td>3</td>\n",
       "      <td>8.00</td>\n",
       "      <td>40.0</td>\n",
       "    </tr>\n",
       "    <tr>\n",
       "      <th>8</th>\n",
       "      <td>Запустить акцию, дающую скидку на товар в день рождения</td>\n",
       "      <td>1</td>\n",
       "      <td>9</td>\n",
       "      <td>9</td>\n",
       "      <td>5</td>\n",
       "      <td>16.20</td>\n",
       "      <td>16.2</td>\n",
       "    </tr>\n",
       "    <tr>\n",
       "      <th>3</th>\n",
       "      <td>Изменить структура категорий, что увеличит конверсию, т.к. пользователи быстрее найдут нужный товар</td>\n",
       "      <td>8</td>\n",
       "      <td>3</td>\n",
       "      <td>3</td>\n",
       "      <td>8</td>\n",
       "      <td>1.12</td>\n",
       "      <td>9.0</td>\n",
       "    </tr>\n",
       "    <tr>\n",
       "      <th>1</th>\n",
       "      <td>Запустить собственную службу доставки, что сократит срок доставки заказов</td>\n",
       "      <td>2</td>\n",
       "      <td>5</td>\n",
       "      <td>4</td>\n",
       "      <td>10</td>\n",
       "      <td>2.00</td>\n",
       "      <td>4.0</td>\n",
       "    </tr>\n",
       "    <tr>\n",
       "      <th>5</th>\n",
       "      <td>Добавить страницу отзывов клиентов о магазине, что позволит увеличить количество заказов</td>\n",
       "      <td>3</td>\n",
       "      <td>2</td>\n",
       "      <td>2</td>\n",
       "      <td>3</td>\n",
       "      <td>1.33</td>\n",
       "      <td>4.0</td>\n",
       "    </tr>\n",
       "    <tr>\n",
       "      <th>4</th>\n",
       "      <td>Изменить цвет фона главной страницы, чтобы увеличить вовлеченность пользователей</td>\n",
       "      <td>3</td>\n",
       "      <td>1</td>\n",
       "      <td>1</td>\n",
       "      <td>1</td>\n",
       "      <td>1.00</td>\n",
       "      <td>3.0</td>\n",
       "    </tr>\n",
       "  </tbody>\n",
       "</table>\n",
       "</div>"
      ],
      "text/plain": [
       "                                                                                            hypothesis  \\\n",
       "7     Добавить форму подписки на все основные страницы, чтобы собрать базу клиентов для email-рассылок   \n",
       "2  Добавить блоки рекомендаций товаров на сайт интернет магазина, чтобы повысить конверсию и средни...   \n",
       "0   Добавить два новых канала привлечения трафика, что позволит привлекать на 30% больше пользователей   \n",
       "6  Показать на главной странице баннеры с актуальными акциями и распродажами, чтобы увеличить конве...   \n",
       "8                                              Запустить акцию, дающую скидку на товар в день рождения   \n",
       "3  Изменить структура категорий, что увеличит конверсию, т.к. пользователи быстрее найдут нужный товар   \n",
       "1                            Запустить собственную службу доставки, что сократит срок доставки заказов   \n",
       "5             Добавить страницу отзывов клиентов о магазине, что позволит увеличить количество заказов   \n",
       "4                     Изменить цвет фона главной страницы, чтобы увеличить вовлеченность пользователей   \n",
       "\n",
       "   reach  impact  confidence  efforts    ICE   RICE  \n",
       "7     10       7           8        5  11.20  112.0  \n",
       "2      8       3           7        3   7.00   56.0  \n",
       "0      3      10           8        6  13.33   40.0  \n",
       "6      5       3           8        3   8.00   40.0  \n",
       "8      1       9           9        5  16.20   16.2  \n",
       "3      8       3           3        8   1.12    9.0  \n",
       "1      2       5           4       10   2.00    4.0  \n",
       "5      3       2           2        3   1.33    4.0  \n",
       "4      3       1           1        1   1.00    3.0  "
      ]
     },
     "metadata": {},
     "output_type": "display_data"
    }
   ],
   "source": [
    "pd.options.display.max_colwidth = 100 # Для того, чтобы гипотезы отобразились целиком\n",
    "\n",
    "hypothesis['RICE'] = hypothesis['reach'] * hypothesis['impact'] * hypothesis['confidence'] / hypothesis['efforts']\n",
    "hypothesis['ICE'] = hypothesis['ICE'].round(2)\n",
    "display(hypothesis.sort_values(by='RICE', ascending=False))"
   ]
  },
  {
   "cell_type": "markdown",
   "metadata": {},
   "source": [
    "Пятерка наиболее перспективных гипотез по RICE осталсь прежней, однако изменился их порядок:  `8`, `3`, `1`, `7`, `9`. \n",
    "\n",
    "Приоритизация гипотез изменилась из-за учета столбца `reach` с охватом пользователей. Например, у первого места по ICE - гипотезы под номером 9, этот параметр равняется 1, поэтому приоритет данной гипотезы по RICE значительно отстает от гипотезы 8, у которой `reach` равен 10. "
   ]
  },
  {
   "cell_type": "markdown",
   "metadata": {},
   "source": [
    "## Анализ A/B теста. "
   ]
  },
  {
   "cell_type": "markdown",
   "metadata": {},
   "source": [
    "### График кумулятивной выручки по группам."
   ]
  },
  {
   "cell_type": "markdown",
   "metadata": {},
   "source": [
    "Для начала создадим таблицу кумулятивной выручки по дням и группам A/B-тестирования."
   ]
  },
  {
   "cell_type": "code",
   "execution_count": 62,
   "metadata": {},
   "outputs": [
    {
     "name": "stdout",
     "output_type": "stream",
     "text": [
      "        date group  orders  buyers  revenue  visitors\n",
      "0 2019-08-01     A      23      19   142779       719\n",
      "1 2019-08-01     B      17      17    59758       713\n",
      "2 2019-08-02     A      42      36   234381      1338\n",
      "3 2019-08-02     B      40      39   221801      1294\n",
      "4 2019-08-03     A      66      60   346854      1845\n",
      "5 2019-08-03     B      54      53   288850      1803\n",
      "6 2019-08-04     A      77      71   388030      2562\n",
      "7 2019-08-04     B      68      66   385740      2573\n",
      "8 2019-08-05     A      99      92   474413      3318\n",
      "9 2019-08-05     B      89      87   475648      3280\n"
     ]
    }
   ],
   "source": [
    "# создаем массив уникальных пар значений дат и групп теста\n",
    "datesgroups = orders[['date','group']].drop_duplicates() \n",
    "\n",
    "# получаем агрегированные кумулятивные по дням данные о посетителях\n",
    "visitorsaggregated = datesgroups.apply(\n",
    "    lambda x: visitors[np.logical_and(visitors['date'] <= x['date'], visitors['group'] == x['group'])].agg(\n",
    "        {'date' : 'max', 'group' : 'max', 'visitors' : 'sum'}), axis=1).sort_values(by=['date','group']\n",
    "                                                                                   ) \n",
    "# получаем агрегированные кумулятивные по дням данные о заказах \n",
    "ordersaggregated = datesgroups.apply(\n",
    "    lambda x: orders[np.logical_and(orders['date'] <= x['date'], orders['group'] == x['group'])].agg(\n",
    "        {'date' : 'max', 'group' : 'max', 'transaction_id' : 'nunique', 'visitor_id' : 'nunique', 'revenue' : 'sum'}\n",
    "    ), axis=1).sort_values(by=['date','group'])\n",
    "\n",
    "\n",
    "# объединяем кумулятивные данные в одной таблице и присваиваем ее столбцам понятные названия\n",
    "cumulative_data = ordersaggregated.merge(visitorsaggregated, left_on=['date', 'group'], right_on=['date', 'group'])\n",
    "cumulative_data.columns = ['date', 'group', 'orders', 'buyers', 'revenue', 'visitors']\n",
    "print(cumulative_data.head(10))"
   ]
  },
  {
   "cell_type": "markdown",
   "metadata": {},
   "source": [
    "Теперь можем приступить к построению графиков. "
   ]
  },
  {
   "cell_type": "code",
   "execution_count": 63,
   "metadata": {},
   "outputs": [
    {
     "data": {
      "image/png": "[encoded data removed]",
      "text/plain": [
       "<Figure size 1080x720 with 1 Axes>"
      ]
     },
     "metadata": {
      "needs_background": "light"
     },
     "output_type": "display_data"
    }
   ],
   "source": [
    "# датафрейм с кумулятивным количеством заказов и кумулятивной выручкой по дням в группе А\n",
    "cumulative_revenue_a = cumulative_data[cumulative_data['group']=='A'][['date','revenue', 'orders']]\n",
    "\n",
    "# датафрейм с кумулятивным количеством заказов и кумулятивной выручкой по дням в группе B\n",
    "cumulative_revenue_b = cumulative_data[cumulative_data['group']=='B'][['date','revenue', 'orders']]\n",
    "\n",
    "plt.figure(figsize=(15,10))\n",
    "plt.ylabel('Выручка')\n",
    "plt.xlabel('Дата')\n",
    "plt.title('График кумулятивной выручки по группам')\n",
    "# Строим график выручки группы А\n",
    "plt.plot(cumulative_revenue_a['date'], cumulative_revenue_a['revenue'], label='A')\n",
    "\n",
    "# Строим график выручки группы B\n",
    "plt.plot(cumulative_revenue_b['date'], cumulative_revenue_b['revenue'], label='B')\n",
    "\n",
    "\n",
    "plt.legend();"
   ]
  },
  {
   "cell_type": "markdown",
   "metadata": {},
   "source": [
    "Выручка обеих групп увеличивается в течение всего теста. Это хорошо. Однако если с группой А мы наблюдаем равномерное увеличение выручки, то в случае с группой B видим резкий скачок выручки 18 августа, это может сигнализировать о всплесках числа заказов, либо о появлении очень дорогих заказов в выборке."
   ]
  },
  {
   "cell_type": "markdown",
   "metadata": {},
   "source": [
    "### График кумулятивного среднего чека по группам."
   ]
  },
  {
   "cell_type": "markdown",
   "metadata": {},
   "source": [
    "Для этого разделим кумулятивную выручку на кумулятивное число заказов и построим график. "
   ]
  },
  {
   "cell_type": "code",
   "execution_count": 64,
   "metadata": {},
   "outputs": [
    {
     "data": {
      "image/png": "[encoded data removed]",
      "text/plain": [
       "<Figure size 1080x720 with 1 Axes>"
      ]
     },
     "metadata": {
      "needs_background": "light"
     },
     "output_type": "display_data"
    }
   ],
   "source": [
    "plt.figure(figsize=(15,10))\n",
    "plt.ylabel('Сумма среднего чека')\n",
    "plt.xlabel('Дата')\n",
    "plt.title('График кумулятивного среднего чека по группам.')\n",
    "plt.plot(cumulative_revenue_a['date'], cumulative_revenue_a['revenue']/cumulative_revenue_a['orders'], label='A')\n",
    "plt.plot(cumulative_revenue_b['date'], cumulative_revenue_b['revenue']/cumulative_revenue_b['orders'], label='B')\n",
    "plt.legend();"
   ]
  },
  {
   "cell_type": "markdown",
   "metadata": {},
   "source": [
    "Для группы A видим падение среднего чека в начале, однако затем сумма поднимается до значения примерно в 7000 и стабилизируется. \n",
    "\n",
    "С группой B совсем другая картина. Также как и в случае с графиком с выручкой наблюдается резкий всплеск в 18 августа, после чего средний чек начинает плавно падать, скорее всего эту группу попали очень крупные заказы, искажающие общую картину."
   ]
  },
  {
   "cell_type": "markdown",
   "metadata": {},
   "source": [
    "### График относительного изменения кумулятивного среднего чека группы B к группе A. "
   ]
  },
  {
   "cell_type": "code",
   "execution_count": 65,
   "metadata": {},
   "outputs": [
    {
     "data": {
      "image/png": "[encoded data removed]",
      "text/plain": [
       "<Figure size 1080x720 with 1 Axes>"
      ]
     },
     "metadata": {
      "needs_background": "light"
     },
     "output_type": "display_data"
    }
   ],
   "source": [
    "# собираем данные в одном датафрейме\n",
    "merged_cumulative_revenue = cumulative_revenue_a.merge(\n",
    "    cumulative_revenue_b, left_on='date', right_on='date', how='left', suffixes=['A', 'B']\n",
    ")\n",
    "\n",
    "plt.figure(figsize=(15,10))\n",
    "plt.ylabel('Относительное изменение')\n",
    "plt.xlabel('Дата')\n",
    "plt.title('График относительного изменения кумулятивного среднего чека группы B к группе A.')\n",
    "# cтроим отношение средних чеков\n",
    "plt.plot(merged_cumulative_revenue['date'], \n",
    "         (merged_cumulative_revenue['revenueB']/merged_cumulative_revenue['ordersB'])/\n",
    "         (merged_cumulative_revenue['revenueA']/merged_cumulative_revenue['ordersA'])-1)\n",
    "\n",
    "# добавляем ось X\n",
    "plt.axhline(y=0, color='red', linestyle='--');"
   ]
  },
  {
   "cell_type": "markdown",
   "metadata": {},
   "source": [
    "График различия между группами резко скачет в нескольких точках. Это опять-таки говорит нам о наличии крупных заказах."
   ]
  },
  {
   "cell_type": "markdown",
   "metadata": {},
   "source": [
    "### График кумулятивной конверсии по группам."
   ]
  },
  {
   "cell_type": "code",
   "execution_count": 66,
   "metadata": {},
   "outputs": [
    {
     "data": {
      "image/png": "[encoded data removed]",
      "text/plain": [
       "<Figure size 1080x720 with 1 Axes>"
      ]
     },
     "metadata": {
      "needs_background": "light"
     },
     "output_type": "display_data"
    }
   ],
   "source": [
    "# считаем кумулятивную конверсию\n",
    "cumulative_data['conversion'] = cumulative_data['orders']/cumulative_data['visitors']\n",
    "\n",
    "# отделяем данные по группе A\n",
    "cumulative_data_a = cumulative_data[cumulative_data['group']=='A']\n",
    "\n",
    "# отделяем данные по группе B\n",
    "cumulative_data_b = cumulative_data[cumulative_data['group']=='B']\n",
    "\n",
    "plt.figure(figsize=(15,10))\n",
    "plt.ylabel('Конверсия')\n",
    "plt.xlabel('Дата')\n",
    "plt.title('График кумулятивной конверсии по группам.')\n",
    "# строим графики\n",
    "plt.plot(cumulative_data_a['date'], cumulative_data_a['conversion'], label='A')\n",
    "plt.plot(cumulative_data_b['date'], cumulative_data_b['conversion'], label='B')\n",
    "plt.legend();"
   ]
  },
  {
   "cell_type": "markdown",
   "metadata": {},
   "source": [
    "Изначально конверсия группы А была выше группы B, однако начиная с 6 августа группа B вырвалась вперед, а группа A сильно просела. "
   ]
  },
  {
   "cell_type": "markdown",
   "metadata": {},
   "source": [
    "### График относительного изменения кумулятивной конверсии группы B к группе A."
   ]
  },
  {
   "cell_type": "code",
   "execution_count": 67,
   "metadata": {},
   "outputs": [
    {
     "data": {
      "image/png": "[encoded data removed]",
      "text/plain": [
       "<Figure size 1080x720 with 1 Axes>"
      ]
     },
     "metadata": {
      "needs_background": "light"
     },
     "output_type": "display_data"
    }
   ],
   "source": [
    "# объединим данные обеих групп\n",
    "merged_cumulative_conversions = cumulative_data_a[['date','conversion']].merge(\n",
    "    cumulative_data_b[['date','conversion']], left_on='date', right_on='date', how='left', suffixes=['A', 'B']\n",
    ")\n",
    "\n",
    "plt.figure(figsize=(15,10))\n",
    "plt.ylabel('Конверсия группы B')\n",
    "plt.xlabel('Дата')\n",
    "plt.title('График относительного изменения кумулятивной конверсии группы B к группе A.')\n",
    "# строим график\n",
    "plt.plot(\n",
    "    merged_cumulative_conversions['date'],\n",
    "    merged_cumulative_conversions['conversionB']/merged_cumulative_conversions['conversionA']-1,\n",
    "    label=\"Относительный прирост конверсии группы B относительно группы A\"\n",
    ")\n",
    "plt.legend()\n",
    "\n",
    "#добавим пунктирные линии\n",
    "plt.axhline(y=0, color='red', linestyle='--')\n",
    "plt.axhline(y=0.1, color='blue', linestyle='--')\n",
    "plt.axhline(y=0.15, color='black', linestyle='--');"
   ]
  },
  {
   "cell_type": "markdown",
   "metadata": {},
   "source": [
    "Почти с самого начала теста конверсия группы B выше группы A. В пике она была выше более чем на `20%`, но в последствии снизилась до примерно `13%`. "
   ]
  },
  {
   "cell_type": "markdown",
   "metadata": {},
   "source": [
    "### Точечный график количества заказов по пользователям."
   ]
  },
  {
   "cell_type": "markdown",
   "metadata": {},
   "source": [
    "Создадим новый датфрейм с двумя столбцами: `user_id` с идентификатором пользователя, совершившего заказ и  `orders` с количеством заказов. "
   ]
  },
  {
   "cell_type": "code",
   "execution_count": 68,
   "metadata": {},
   "outputs": [
    {
     "data": {
      "text/html": [
       "<div>\n",
       "<style scoped>\n",
       "    .dataframe tbody tr th:only-of-type {\n",
       "        vertical-align: middle;\n",
       "    }\n",
       "\n",
       "    .dataframe tbody tr th {\n",
       "        vertical-align: top;\n",
       "    }\n",
       "\n",
       "    .dataframe thead th {\n",
       "        text-align: right;\n",
       "    }\n",
       "</style>\n",
       "<table border=\"1\" class=\"dataframe\">\n",
       "  <thead>\n",
       "    <tr style=\"text-align: right;\">\n",
       "      <th></th>\n",
       "      <th>user_id</th>\n",
       "      <th>orders</th>\n",
       "    </tr>\n",
       "  </thead>\n",
       "  <tbody>\n",
       "    <tr>\n",
       "      <th>908</th>\n",
       "      <td>3967698036</td>\n",
       "      <td>3</td>\n",
       "    </tr>\n",
       "    <tr>\n",
       "      <th>55</th>\n",
       "      <td>249864742</td>\n",
       "      <td>3</td>\n",
       "    </tr>\n",
       "    <tr>\n",
       "      <th>478</th>\n",
       "      <td>2108163459</td>\n",
       "      <td>3</td>\n",
       "    </tr>\n",
       "    <tr>\n",
       "      <th>687</th>\n",
       "      <td>2988190573</td>\n",
       "      <td>3</td>\n",
       "    </tr>\n",
       "    <tr>\n",
       "      <th>890</th>\n",
       "      <td>3908431265</td>\n",
       "      <td>3</td>\n",
       "    </tr>\n",
       "    <tr>\n",
       "      <th>138</th>\n",
       "      <td>611059232</td>\n",
       "      <td>3</td>\n",
       "    </tr>\n",
       "    <tr>\n",
       "      <th>632</th>\n",
       "      <td>2742574263</td>\n",
       "      <td>3</td>\n",
       "    </tr>\n",
       "    <tr>\n",
       "      <th>157</th>\n",
       "      <td>678354126</td>\n",
       "      <td>2</td>\n",
       "    </tr>\n",
       "    <tr>\n",
       "      <th>323</th>\n",
       "      <td>1404560065</td>\n",
       "      <td>2</td>\n",
       "    </tr>\n",
       "    <tr>\n",
       "      <th>452</th>\n",
       "      <td>1985475298</td>\n",
       "      <td>2</td>\n",
       "    </tr>\n",
       "  </tbody>\n",
       "</table>\n",
       "</div>"
      ],
      "text/plain": [
       "        user_id  orders\n",
       "908  3967698036       3\n",
       "55    249864742       3\n",
       "478  2108163459       3\n",
       "687  2988190573       3\n",
       "890  3908431265       3\n",
       "138   611059232       3\n",
       "632  2742574263       3\n",
       "157   678354126       2\n",
       "323  1404560065       2\n",
       "452  1985475298       2"
      ]
     },
     "metadata": {},
     "output_type": "display_data"
    }
   ],
   "source": [
    "#сгруппируем данные по идентификатору пользователя и \n",
    "orders_by_users = (\n",
    "    orders.groupby('visitor_id', as_index=False)\n",
    "    .agg({'transaction_id':'nunique'})\n",
    ")\n",
    "\n",
    "orders_by_users.columns = ['user_id','orders']\n",
    "\n",
    "display(orders_by_users.sort_values(by='orders', ascending=False).head(10))"
   ]
  },
  {
   "cell_type": "markdown",
   "metadata": {},
   "source": [
    "Теперь перейдем к визуальному анализу. Построим гистограмму распределения числа заказов по пользователям и диаграмму. "
   ]
  },
  {
   "cell_type": "code",
   "execution_count": 69,
   "metadata": {},
   "outputs": [
    {
     "data": {
      "image/png": "[encoded data removed]",
      "text/plain": [
       "<Figure size 432x288 with 1 Axes>"
      ]
     },
     "metadata": {
      "needs_background": "light"
     },
     "output_type": "display_data"
    }
   ],
   "source": [
    "plt.hist(orders_by_users['orders']);"
   ]
  },
  {
   "cell_type": "markdown",
   "metadata": {},
   "source": [
    "Подавляющее большинство пользователей совершило всего один заказ, однако понять сколько пользователей совершили 2 и более заказов по гистограмме трудно. Построим диаграмму."
   ]
  },
  {
   "cell_type": "code",
   "execution_count": 70,
   "metadata": {},
   "outputs": [
    {
     "data": {
      "image/png": "[encoded data removed]",
      "text/plain": [
       "<Figure size 432x288 with 1 Axes>"
      ]
     },
     "metadata": {
      "needs_background": "light"
     },
     "output_type": "display_data"
    }
   ],
   "source": [
    "x = pd.Series(range(0, len(orders_by_users)))\n",
    "\n",
    "plt.scatter(x, orders_by_users['orders']);"
   ]
  },
  {
   "cell_type": "markdown",
   "metadata": {},
   "source": [
    "Пользователей, совершивших более 2 заказов, очень мало по сравнению с пользователями с количеством заказов равным одному или двум. Такие пользователми вполне могут быть аномалиями. "
   ]
  },
  {
   "cell_type": "markdown",
   "metadata": {},
   "source": [
    "### Подсчет 95-й и 99-й перцентили количества заказов на пользователя. Выбор границы для определения аномальных пользователей."
   ]
  },
  {
   "cell_type": "markdown",
   "metadata": {},
   "source": [
    "Посчитаем 95-й и 99-й перцентили. "
   ]
  },
  {
   "cell_type": "code",
   "execution_count": 71,
   "metadata": {},
   "outputs": [
    {
     "name": "stdout",
     "output_type": "stream",
     "text": [
      "[1. 2.]\n"
     ]
    }
   ],
   "source": [
    "print(np.percentile(orders_by_users['orders'], [95, 99]))"
   ]
  },
  {
   "cell_type": "markdown",
   "metadata": {},
   "source": [
    "Не более `5%` пользователей совершали больше двух заказов и не более `1%` - больше четырех заказов.\n",
    "\n",
    "Определим границу числа заказов на одного пользователя равной `2`. Остальных пользователей будем считать аномальными и отсеим их."
   ]
  },
  {
   "cell_type": "markdown",
   "metadata": {},
   "source": [
    "### Точечный график стоимостей заказов."
   ]
  },
  {
   "cell_type": "code",
   "execution_count": 72,
   "metadata": {},
   "outputs": [
    {
     "data": {
      "image/png": "[encoded data removed]",
      "text/plain": [
       "<Figure size 432x288 with 1 Axes>"
      ]
     },
     "metadata": {
      "needs_background": "light"
     },
     "output_type": "display_data"
    }
   ],
   "source": [
    "x = pd.Series(range(0, len(orders['revenue'])))\n",
    "\n",
    "plt.scatter(x, orders['revenue']);"
   ]
  },
  {
   "cell_type": "markdown",
   "metadata": {},
   "source": [
    "Почти все заказы интернет-магазина на сумму менее `100000`. Наблюдаем аномалию: заказ, стоимость которого превышает `1200000`.\n",
    "\n",
    "Однако по такому графику тяжело определить границу аномальных заказов. Построим тот же график, но ограничим ось Y до `200000`."
   ]
  },
  {
   "cell_type": "code",
   "execution_count": 73,
   "metadata": {},
   "outputs": [
    {
     "data": {
      "image/png": "[encoded data removed]",
      "text/plain": [
       "<Figure size 432x288 with 1 Axes>"
      ]
     },
     "metadata": {
      "needs_background": "light"
     },
     "output_type": "display_data"
    }
   ],
   "source": [
    "x = pd.Series(range(0, len(orders['revenue'])))\n",
    "\n",
    "plt.ylim(0, 200000)\n",
    "\n",
    "plt.scatter(x, orders['revenue']);"
   ]
  },
  {
   "cell_type": "markdown",
   "metadata": {},
   "source": [
    "Намного нагляднее. По такому графику можно выбрать границу заказов с аномально высокой стоимостью в районе `25000`.\n",
    "Так как обычно принято отсеивать от 1% до 5% наблюдений с крайними значениями, необходимо найти 95-й и 99-й перцентили стоимости заказов."
   ]
  },
  {
   "cell_type": "markdown",
   "metadata": {},
   "source": [
    "### Подсчет 95-й и 99-й перцентили стоимости заказов. Выбор границы для определения аномальных заказов."
   ]
  },
  {
   "cell_type": "code",
   "execution_count": 74,
   "metadata": {},
   "outputs": [
    {
     "name": "stdout",
     "output_type": "stream",
     "text": [
      "[26785. 53904.]\n"
     ]
    }
   ],
   "source": [
    "print(np.percentile(orders['revenue'], [95, 99]))"
   ]
  },
  {
   "cell_type": "markdown",
   "metadata": {},
   "source": [
    "Не более, чем у 5% заказов чек дороже `28000`. И не больше, чем у 1% заказов - выше 58233. \n",
    "\n",
    "Установим границу стоимости заказов равной `28000`. \n",
    "Все заказы, имеющие большую стоимость будем считать аномалией и отсеим. "
   ]
  },
  {
   "cell_type": "markdown",
   "metadata": {},
   "source": [
    "### Подсчет статистической значимости различий в конверсии между группами по «сырым» данным. "
   ]
  },
  {
   "cell_type": "markdown",
   "metadata": {},
   "source": [
    "Создадим новые таблицы: `orders_by_a` и `orders_by_b`, где для пользователей групп A и B, совершивших хотя бы 1 заказ, будет указано число заказов."
   ]
  },
  {
   "cell_type": "code",
   "execution_count": 75,
   "metadata": {},
   "outputs": [
    {
     "data": {
      "text/html": [
       "<div>\n",
       "<style scoped>\n",
       "    .dataframe tbody tr th:only-of-type {\n",
       "        vertical-align: middle;\n",
       "    }\n",
       "\n",
       "    .dataframe tbody tr th {\n",
       "        vertical-align: top;\n",
       "    }\n",
       "\n",
       "    .dataframe thead th {\n",
       "        text-align: right;\n",
       "    }\n",
       "</style>\n",
       "<table border=\"1\" class=\"dataframe\">\n",
       "  <thead>\n",
       "    <tr style=\"text-align: right;\">\n",
       "      <th></th>\n",
       "      <th>user_id</th>\n",
       "      <th>orders</th>\n",
       "    </tr>\n",
       "  </thead>\n",
       "  <tbody>\n",
       "    <tr>\n",
       "      <th>0</th>\n",
       "      <td>11685486</td>\n",
       "      <td>1</td>\n",
       "    </tr>\n",
       "    <tr>\n",
       "      <th>1</th>\n",
       "      <td>54447517</td>\n",
       "      <td>1</td>\n",
       "    </tr>\n",
       "    <tr>\n",
       "      <th>2</th>\n",
       "      <td>66685450</td>\n",
       "      <td>1</td>\n",
       "    </tr>\n",
       "  </tbody>\n",
       "</table>\n",
       "</div>"
      ],
      "text/plain": [
       "    user_id  orders\n",
       "0  11685486       1\n",
       "1  54447517       1\n",
       "2  66685450       1"
      ]
     },
     "metadata": {},
     "output_type": "display_data"
    },
    {
     "data": {
      "text/html": [
       "<div>\n",
       "<style scoped>\n",
       "    .dataframe tbody tr th:only-of-type {\n",
       "        vertical-align: middle;\n",
       "    }\n",
       "\n",
       "    .dataframe tbody tr th {\n",
       "        vertical-align: top;\n",
       "    }\n",
       "\n",
       "    .dataframe thead th {\n",
       "        text-align: right;\n",
       "    }\n",
       "</style>\n",
       "<table border=\"1\" class=\"dataframe\">\n",
       "  <thead>\n",
       "    <tr style=\"text-align: right;\">\n",
       "      <th></th>\n",
       "      <th>user_id</th>\n",
       "      <th>orders</th>\n",
       "    </tr>\n",
       "  </thead>\n",
       "  <tbody>\n",
       "    <tr>\n",
       "      <th>0</th>\n",
       "      <td>5114589</td>\n",
       "      <td>1</td>\n",
       "    </tr>\n",
       "    <tr>\n",
       "      <th>1</th>\n",
       "      <td>6958315</td>\n",
       "      <td>1</td>\n",
       "    </tr>\n",
       "    <tr>\n",
       "      <th>2</th>\n",
       "      <td>39475350</td>\n",
       "      <td>1</td>\n",
       "    </tr>\n",
       "  </tbody>\n",
       "</table>\n",
       "</div>"
      ],
      "text/plain": [
       "    user_id  orders\n",
       "0   5114589       1\n",
       "1   6958315       1\n",
       "2  39475350       1"
      ]
     },
     "metadata": {},
     "output_type": "display_data"
    }
   ],
   "source": [
    "orders_by_a = (\n",
    "    orders[orders['group'] == 'A']\n",
    "    .groupby('visitor_id', as_index=False)\n",
    "    .agg({'transaction_id': 'nunique'})\n",
    ")\n",
    "orders_by_a.columns = ['user_id', 'orders']\n",
    "\n",
    "orders_by_b = (\n",
    "    orders[orders['group'] == 'B']\n",
    "    .groupby('visitor_id', as_index=False)\n",
    "    .agg({'transaction_id': 'nunique'})\n",
    ")\n",
    "orders_by_b.columns = ['user_id', 'orders'] \n",
    "\n",
    "display(orders_by_a.head(3))\n",
    "display(orders_by_b.head(3))"
   ]
  },
  {
   "cell_type": "markdown",
   "metadata": {},
   "source": [
    "Так же таблицы `visitors_a_daily` с количеством пользователей группы A в указанную дату и `visitors_a_cummulative` c кумулятивным числом пользователей на каждую дату. "
   ]
  },
  {
   "cell_type": "code",
   "execution_count": 76,
   "metadata": {},
   "outputs": [
    {
     "data": {
      "text/html": [
       "<div>\n",
       "<style scoped>\n",
       "    .dataframe tbody tr th:only-of-type {\n",
       "        vertical-align: middle;\n",
       "    }\n",
       "\n",
       "    .dataframe tbody tr th {\n",
       "        vertical-align: top;\n",
       "    }\n",
       "\n",
       "    .dataframe thead th {\n",
       "        text-align: right;\n",
       "    }\n",
       "</style>\n",
       "<table border=\"1\" class=\"dataframe\">\n",
       "  <thead>\n",
       "    <tr style=\"text-align: right;\">\n",
       "      <th></th>\n",
       "      <th>date</th>\n",
       "      <th>visitors_per_date_a</th>\n",
       "    </tr>\n",
       "  </thead>\n",
       "  <tbody>\n",
       "    <tr>\n",
       "      <th>0</th>\n",
       "      <td>2019-08-01</td>\n",
       "      <td>719</td>\n",
       "    </tr>\n",
       "    <tr>\n",
       "      <th>1</th>\n",
       "      <td>2019-08-02</td>\n",
       "      <td>619</td>\n",
       "    </tr>\n",
       "    <tr>\n",
       "      <th>2</th>\n",
       "      <td>2019-08-03</td>\n",
       "      <td>507</td>\n",
       "    </tr>\n",
       "    <tr>\n",
       "      <th>3</th>\n",
       "      <td>2019-08-04</td>\n",
       "      <td>717</td>\n",
       "    </tr>\n",
       "    <tr>\n",
       "      <th>4</th>\n",
       "      <td>2019-08-05</td>\n",
       "      <td>756</td>\n",
       "    </tr>\n",
       "  </tbody>\n",
       "</table>\n",
       "</div>"
      ],
      "text/plain": [
       "        date  visitors_per_date_a\n",
       "0 2019-08-01                  719\n",
       "1 2019-08-02                  619\n",
       "2 2019-08-03                  507\n",
       "3 2019-08-04                  717\n",
       "4 2019-08-05                  756"
      ]
     },
     "metadata": {},
     "output_type": "display_data"
    },
    {
     "data": {
      "text/html": [
       "<div>\n",
       "<style scoped>\n",
       "    .dataframe tbody tr th:only-of-type {\n",
       "        vertical-align: middle;\n",
       "    }\n",
       "\n",
       "    .dataframe tbody tr th {\n",
       "        vertical-align: top;\n",
       "    }\n",
       "\n",
       "    .dataframe thead th {\n",
       "        text-align: right;\n",
       "    }\n",
       "</style>\n",
       "<table border=\"1\" class=\"dataframe\">\n",
       "  <thead>\n",
       "    <tr style=\"text-align: right;\">\n",
       "      <th></th>\n",
       "      <th>date</th>\n",
       "      <th>visitors_cummulative_a</th>\n",
       "    </tr>\n",
       "  </thead>\n",
       "  <tbody>\n",
       "    <tr>\n",
       "      <th>0</th>\n",
       "      <td>2019-08-01</td>\n",
       "      <td>719</td>\n",
       "    </tr>\n",
       "    <tr>\n",
       "      <th>1</th>\n",
       "      <td>2019-08-02</td>\n",
       "      <td>1338</td>\n",
       "    </tr>\n",
       "    <tr>\n",
       "      <th>2</th>\n",
       "      <td>2019-08-03</td>\n",
       "      <td>1845</td>\n",
       "    </tr>\n",
       "    <tr>\n",
       "      <th>3</th>\n",
       "      <td>2019-08-04</td>\n",
       "      <td>2562</td>\n",
       "    </tr>\n",
       "    <tr>\n",
       "      <th>4</th>\n",
       "      <td>2019-08-05</td>\n",
       "      <td>3318</td>\n",
       "    </tr>\n",
       "  </tbody>\n",
       "</table>\n",
       "</div>"
      ],
      "text/plain": [
       "        date  visitors_cummulative_a\n",
       "0 2019-08-01                     719\n",
       "1 2019-08-02                    1338\n",
       "2 2019-08-03                    1845\n",
       "3 2019-08-04                    2562\n",
       "4 2019-08-05                    3318"
      ]
     },
     "metadata": {},
     "output_type": "display_data"
    }
   ],
   "source": [
    "visitors_a_daily = visitors[visitors['group'] == 'A'][['date', 'visitors']]\n",
    "visitors_a_daily.columns = ['date', 'visitors_per_date_a']\n",
    "\n",
    "visitors_a_cummulative = visitors_a_daily.apply(\n",
    "    lambda x: visitors_a_daily[visitors_a_daily['date'] <= x['date']].agg(\n",
    "        {'date': 'max', 'visitors_per_date_a': 'sum'}\n",
    "    ),\n",
    "    axis=1,\n",
    ")\n",
    "\n",
    "visitors_a_cummulative.columns = ['date', 'visitors_cummulative_a']\n",
    "\n",
    "display(visitors_a_daily.head(5))\n",
    "display(visitors_a_cummulative.head(5))"
   ]
  },
  {
   "cell_type": "markdown",
   "metadata": {},
   "source": [
    "Такие же таблицы построим для пользователей группы B. \n"
   ]
  },
  {
   "cell_type": "code",
   "execution_count": 77,
   "metadata": {},
   "outputs": [
    {
     "data": {
      "text/html": [
       "<div>\n",
       "<style scoped>\n",
       "    .dataframe tbody tr th:only-of-type {\n",
       "        vertical-align: middle;\n",
       "    }\n",
       "\n",
       "    .dataframe tbody tr th {\n",
       "        vertical-align: top;\n",
       "    }\n",
       "\n",
       "    .dataframe thead th {\n",
       "        text-align: right;\n",
       "    }\n",
       "</style>\n",
       "<table border=\"1\" class=\"dataframe\">\n",
       "  <thead>\n",
       "    <tr style=\"text-align: right;\">\n",
       "      <th></th>\n",
       "      <th>date</th>\n",
       "      <th>visitors_per_date_b</th>\n",
       "    </tr>\n",
       "  </thead>\n",
       "  <tbody>\n",
       "    <tr>\n",
       "      <th>31</th>\n",
       "      <td>2019-08-01</td>\n",
       "      <td>713</td>\n",
       "    </tr>\n",
       "    <tr>\n",
       "      <th>32</th>\n",
       "      <td>2019-08-02</td>\n",
       "      <td>581</td>\n",
       "    </tr>\n",
       "    <tr>\n",
       "      <th>33</th>\n",
       "      <td>2019-08-03</td>\n",
       "      <td>509</td>\n",
       "    </tr>\n",
       "    <tr>\n",
       "      <th>34</th>\n",
       "      <td>2019-08-04</td>\n",
       "      <td>770</td>\n",
       "    </tr>\n",
       "    <tr>\n",
       "      <th>35</th>\n",
       "      <td>2019-08-05</td>\n",
       "      <td>707</td>\n",
       "    </tr>\n",
       "  </tbody>\n",
       "</table>\n",
       "</div>"
      ],
      "text/plain": [
       "         date  visitors_per_date_b\n",
       "31 2019-08-01                  713\n",
       "32 2019-08-02                  581\n",
       "33 2019-08-03                  509\n",
       "34 2019-08-04                  770\n",
       "35 2019-08-05                  707"
      ]
     },
     "metadata": {},
     "output_type": "display_data"
    },
    {
     "data": {
      "text/html": [
       "<div>\n",
       "<style scoped>\n",
       "    .dataframe tbody tr th:only-of-type {\n",
       "        vertical-align: middle;\n",
       "    }\n",
       "\n",
       "    .dataframe tbody tr th {\n",
       "        vertical-align: top;\n",
       "    }\n",
       "\n",
       "    .dataframe thead th {\n",
       "        text-align: right;\n",
       "    }\n",
       "</style>\n",
       "<table border=\"1\" class=\"dataframe\">\n",
       "  <thead>\n",
       "    <tr style=\"text-align: right;\">\n",
       "      <th></th>\n",
       "      <th>date</th>\n",
       "      <th>visitors_cummulative_b</th>\n",
       "    </tr>\n",
       "  </thead>\n",
       "  <tbody>\n",
       "    <tr>\n",
       "      <th>31</th>\n",
       "      <td>2019-08-01</td>\n",
       "      <td>713</td>\n",
       "    </tr>\n",
       "    <tr>\n",
       "      <th>32</th>\n",
       "      <td>2019-08-02</td>\n",
       "      <td>1294</td>\n",
       "    </tr>\n",
       "    <tr>\n",
       "      <th>33</th>\n",
       "      <td>2019-08-03</td>\n",
       "      <td>1803</td>\n",
       "    </tr>\n",
       "    <tr>\n",
       "      <th>34</th>\n",
       "      <td>2019-08-04</td>\n",
       "      <td>2573</td>\n",
       "    </tr>\n",
       "    <tr>\n",
       "      <th>35</th>\n",
       "      <td>2019-08-05</td>\n",
       "      <td>3280</td>\n",
       "    </tr>\n",
       "  </tbody>\n",
       "</table>\n",
       "</div>"
      ],
      "text/plain": [
       "         date  visitors_cummulative_b\n",
       "31 2019-08-01                     713\n",
       "32 2019-08-02                    1294\n",
       "33 2019-08-03                    1803\n",
       "34 2019-08-04                    2573\n",
       "35 2019-08-05                    3280"
      ]
     },
     "metadata": {},
     "output_type": "display_data"
    }
   ],
   "source": [
    "visitors_b_daily = visitors[visitors['group'] == 'B'][['date', 'visitors']]\n",
    "visitors_b_daily.columns = ['date', 'visitors_per_date_b']\n",
    "\n",
    "visitors_b_cummulative = visitors_b_daily.apply(\n",
    "    lambda x: visitors_b_daily[visitors_b_daily['date'] <= x['date']].agg(\n",
    "        {'date': 'max', 'visitors_per_date_b': 'sum'}\n",
    "    ),\n",
    "    axis=1,\n",
    ")\n",
    "\n",
    "visitors_b_cummulative.columns = ['date', 'visitors_cummulative_b']\n",
    "\n",
    "display(visitors_b_daily.head(5))\n",
    "display(visitors_b_cummulative.head(5))"
   ]
  },
  {
   "cell_type": "markdown",
   "metadata": {},
   "source": [
    "Теперь таблицы:\n",
    "- `orders_a_daily`, которая будет содержать в себе количество заказов за каждый день и суммарную выручку группы A\n",
    "- `orders_a_cummulative`, содержащую кумулятивное число заказов и выручку за каждый день группы A"
   ]
  },
  {
   "cell_type": "code",
   "execution_count": 78,
   "metadata": {},
   "outputs": [
    {
     "data": {
      "text/html": [
       "<div>\n",
       "<style scoped>\n",
       "    .dataframe tbody tr th:only-of-type {\n",
       "        vertical-align: middle;\n",
       "    }\n",
       "\n",
       "    .dataframe tbody tr th {\n",
       "        vertical-align: top;\n",
       "    }\n",
       "\n",
       "    .dataframe thead th {\n",
       "        text-align: right;\n",
       "    }\n",
       "</style>\n",
       "<table border=\"1\" class=\"dataframe\">\n",
       "  <thead>\n",
       "    <tr style=\"text-align: right;\">\n",
       "      <th></th>\n",
       "      <th>date</th>\n",
       "      <th>orders_per_date_a</th>\n",
       "      <th>revenue_per_date_a</th>\n",
       "    </tr>\n",
       "  </thead>\n",
       "  <tbody>\n",
       "    <tr>\n",
       "      <th>0</th>\n",
       "      <td>2019-08-01</td>\n",
       "      <td>23</td>\n",
       "      <td>142779</td>\n",
       "    </tr>\n",
       "    <tr>\n",
       "      <th>1</th>\n",
       "      <td>2019-08-02</td>\n",
       "      <td>19</td>\n",
       "      <td>91602</td>\n",
       "    </tr>\n",
       "    <tr>\n",
       "      <th>2</th>\n",
       "      <td>2019-08-03</td>\n",
       "      <td>24</td>\n",
       "      <td>112473</td>\n",
       "    </tr>\n",
       "    <tr>\n",
       "      <th>3</th>\n",
       "      <td>2019-08-04</td>\n",
       "      <td>11</td>\n",
       "      <td>41176</td>\n",
       "    </tr>\n",
       "    <tr>\n",
       "      <th>4</th>\n",
       "      <td>2019-08-05</td>\n",
       "      <td>22</td>\n",
       "      <td>86383</td>\n",
       "    </tr>\n",
       "  </tbody>\n",
       "</table>\n",
       "</div>"
      ],
      "text/plain": [
       "        date  orders_per_date_a  revenue_per_date_a\n",
       "0 2019-08-01                 23              142779\n",
       "1 2019-08-02                 19               91602\n",
       "2 2019-08-03                 24              112473\n",
       "3 2019-08-04                 11               41176\n",
       "4 2019-08-05                 22               86383"
      ]
     },
     "metadata": {},
     "output_type": "display_data"
    },
    {
     "data": {
      "text/html": [
       "<div>\n",
       "<style scoped>\n",
       "    .dataframe tbody tr th:only-of-type {\n",
       "        vertical-align: middle;\n",
       "    }\n",
       "\n",
       "    .dataframe tbody tr th {\n",
       "        vertical-align: top;\n",
       "    }\n",
       "\n",
       "    .dataframe thead th {\n",
       "        text-align: right;\n",
       "    }\n",
       "</style>\n",
       "<table border=\"1\" class=\"dataframe\">\n",
       "  <thead>\n",
       "    <tr style=\"text-align: right;\">\n",
       "      <th></th>\n",
       "      <th>date</th>\n",
       "      <th>orders_cummulative_a</th>\n",
       "      <th>revenue_cummulative_a</th>\n",
       "    </tr>\n",
       "  </thead>\n",
       "  <tbody>\n",
       "    <tr>\n",
       "      <th>0</th>\n",
       "      <td>2019-08-01</td>\n",
       "      <td>23</td>\n",
       "      <td>142779</td>\n",
       "    </tr>\n",
       "    <tr>\n",
       "      <th>1</th>\n",
       "      <td>2019-08-02</td>\n",
       "      <td>42</td>\n",
       "      <td>234381</td>\n",
       "    </tr>\n",
       "    <tr>\n",
       "      <th>2</th>\n",
       "      <td>2019-08-03</td>\n",
       "      <td>66</td>\n",
       "      <td>346854</td>\n",
       "    </tr>\n",
       "    <tr>\n",
       "      <th>3</th>\n",
       "      <td>2019-08-04</td>\n",
       "      <td>77</td>\n",
       "      <td>388030</td>\n",
       "    </tr>\n",
       "    <tr>\n",
       "      <th>4</th>\n",
       "      <td>2019-08-05</td>\n",
       "      <td>99</td>\n",
       "      <td>474413</td>\n",
       "    </tr>\n",
       "  </tbody>\n",
       "</table>\n",
       "</div>"
      ],
      "text/plain": [
       "        date  orders_cummulative_a  revenue_cummulative_a\n",
       "0 2019-08-01                    23                 142779\n",
       "1 2019-08-02                    42                 234381\n",
       "2 2019-08-03                    66                 346854\n",
       "3 2019-08-04                    77                 388030\n",
       "4 2019-08-05                    99                 474413"
      ]
     },
     "metadata": {},
     "output_type": "display_data"
    }
   ],
   "source": [
    "orders_a_daily = (\n",
    "    orders[orders['group'] == 'A'][['date', 'transaction_id', 'visitor_id', 'revenue']]\n",
    "    .groupby('date', as_index=False)\n",
    "    .agg({'transaction_id': pd.Series.nunique, 'revenue': 'sum'})\n",
    ")\n",
    "orders_a_daily.columns = ['date', 'orders_per_date_a', 'revenue_per_date_a']\n",
    "\n",
    "orders_a_cummulative = orders_a_daily.apply(\n",
    "    lambda x: orders_a_daily[orders_a_daily['date'] <= x['date']].agg(\n",
    "        {'date': 'max', 'orders_per_date_a': 'sum', 'revenue_per_date_a': 'sum'}\n",
    "    ),\n",
    "    axis=1,\n",
    ").sort_values(by=['date'])\n",
    "\n",
    "orders_a_cummulative.columns = ['date', 'orders_cummulative_a','revenue_cummulative_a']\n",
    "\n",
    "display(orders_a_daily.head(5))\n",
    "display(orders_a_cummulative.head(5))"
   ]
  },
  {
   "cell_type": "markdown",
   "metadata": {},
   "source": [
    "Аналогично для группы B: таблицы `orders_b_daily` и `orders_b_cummulative`"
   ]
  },
  {
   "cell_type": "code",
   "execution_count": 79,
   "metadata": {},
   "outputs": [
    {
     "data": {
      "text/html": [
       "<div>\n",
       "<style scoped>\n",
       "    .dataframe tbody tr th:only-of-type {\n",
       "        vertical-align: middle;\n",
       "    }\n",
       "\n",
       "    .dataframe tbody tr th {\n",
       "        vertical-align: top;\n",
       "    }\n",
       "\n",
       "    .dataframe thead th {\n",
       "        text-align: right;\n",
       "    }\n",
       "</style>\n",
       "<table border=\"1\" class=\"dataframe\">\n",
       "  <thead>\n",
       "    <tr style=\"text-align: right;\">\n",
       "      <th></th>\n",
       "      <th>date</th>\n",
       "      <th>orders_per_date_b</th>\n",
       "      <th>revenue_per_date_b</th>\n",
       "    </tr>\n",
       "  </thead>\n",
       "  <tbody>\n",
       "    <tr>\n",
       "      <th>0</th>\n",
       "      <td>2019-08-01</td>\n",
       "      <td>17</td>\n",
       "      <td>59758</td>\n",
       "    </tr>\n",
       "    <tr>\n",
       "      <th>1</th>\n",
       "      <td>2019-08-02</td>\n",
       "      <td>23</td>\n",
       "      <td>162043</td>\n",
       "    </tr>\n",
       "    <tr>\n",
       "      <th>2</th>\n",
       "      <td>2019-08-03</td>\n",
       "      <td>14</td>\n",
       "      <td>67049</td>\n",
       "    </tr>\n",
       "    <tr>\n",
       "      <th>3</th>\n",
       "      <td>2019-08-04</td>\n",
       "      <td>14</td>\n",
       "      <td>96890</td>\n",
       "    </tr>\n",
       "    <tr>\n",
       "      <th>4</th>\n",
       "      <td>2019-08-05</td>\n",
       "      <td>21</td>\n",
       "      <td>89908</td>\n",
       "    </tr>\n",
       "  </tbody>\n",
       "</table>\n",
       "</div>"
      ],
      "text/plain": [
       "        date  orders_per_date_b  revenue_per_date_b\n",
       "0 2019-08-01                 17               59758\n",
       "1 2019-08-02                 23              162043\n",
       "2 2019-08-03                 14               67049\n",
       "3 2019-08-04                 14               96890\n",
       "4 2019-08-05                 21               89908"
      ]
     },
     "metadata": {},
     "output_type": "display_data"
    },
    {
     "data": {
      "text/html": [
       "<div>\n",
       "<style scoped>\n",
       "    .dataframe tbody tr th:only-of-type {\n",
       "        vertical-align: middle;\n",
       "    }\n",
       "\n",
       "    .dataframe tbody tr th {\n",
       "        vertical-align: top;\n",
       "    }\n",
       "\n",
       "    .dataframe thead th {\n",
       "        text-align: right;\n",
       "    }\n",
       "</style>\n",
       "<table border=\"1\" class=\"dataframe\">\n",
       "  <thead>\n",
       "    <tr style=\"text-align: right;\">\n",
       "      <th></th>\n",
       "      <th>date</th>\n",
       "      <th>orders_cummulative_b</th>\n",
       "      <th>revenue_cummulative_b</th>\n",
       "    </tr>\n",
       "  </thead>\n",
       "  <tbody>\n",
       "    <tr>\n",
       "      <th>0</th>\n",
       "      <td>2019-08-01</td>\n",
       "      <td>17</td>\n",
       "      <td>59758</td>\n",
       "    </tr>\n",
       "    <tr>\n",
       "      <th>1</th>\n",
       "      <td>2019-08-02</td>\n",
       "      <td>40</td>\n",
       "      <td>221801</td>\n",
       "    </tr>\n",
       "    <tr>\n",
       "      <th>2</th>\n",
       "      <td>2019-08-03</td>\n",
       "      <td>54</td>\n",
       "      <td>288850</td>\n",
       "    </tr>\n",
       "    <tr>\n",
       "      <th>3</th>\n",
       "      <td>2019-08-04</td>\n",
       "      <td>68</td>\n",
       "      <td>385740</td>\n",
       "    </tr>\n",
       "    <tr>\n",
       "      <th>4</th>\n",
       "      <td>2019-08-05</td>\n",
       "      <td>89</td>\n",
       "      <td>475648</td>\n",
       "    </tr>\n",
       "  </tbody>\n",
       "</table>\n",
       "</div>"
      ],
      "text/plain": [
       "        date  orders_cummulative_b  revenue_cummulative_b\n",
       "0 2019-08-01                    17                  59758\n",
       "1 2019-08-02                    40                 221801\n",
       "2 2019-08-03                    54                 288850\n",
       "3 2019-08-04                    68                 385740\n",
       "4 2019-08-05                    89                 475648"
      ]
     },
     "metadata": {},
     "output_type": "display_data"
    }
   ],
   "source": [
    "orders_b_daily = (\n",
    "    orders[orders['group'] == 'B'][['date', 'transaction_id', 'visitor_id', 'revenue']]\n",
    "    .groupby('date', as_index=False)\n",
    "    .agg({'transaction_id': pd.Series.nunique, 'revenue': 'sum'})\n",
    ")\n",
    "orders_b_daily.columns = ['date', 'orders_per_date_b', 'revenue_per_date_b']\n",
    "\n",
    "orders_b_cummulative = orders_b_daily.apply(\n",
    "    lambda x: orders_b_daily[orders_b_daily['date'] <= x['date']].agg(\n",
    "        {'date': 'max', 'orders_per_date_b': 'sum', 'revenue_per_date_b': 'sum'}\n",
    "    ),\n",
    "    axis=1,\n",
    ").sort_values(by=['date'])\n",
    "\n",
    "orders_b_cummulative.columns = ['date', 'orders_cummulative_b', 'revenue_cummulative_b']\n",
    "\n",
    "display(orders_b_daily.head(5))\n",
    "display(orders_b_cummulative.head(5))"
   ]
  },
  {
   "cell_type": "markdown",
   "metadata": {},
   "source": [
    "Объединим наши новые таблицы в один датафрейм *data* методом `merge()`"
   ]
  },
  {
   "cell_type": "code",
   "execution_count": 80,
   "metadata": {},
   "outputs": [
    {
     "data": {
      "text/html": [
       "<div>\n",
       "<style scoped>\n",
       "    .dataframe tbody tr th:only-of-type {\n",
       "        vertical-align: middle;\n",
       "    }\n",
       "\n",
       "    .dataframe tbody tr th {\n",
       "        vertical-align: top;\n",
       "    }\n",
       "\n",
       "    .dataframe thead th {\n",
       "        text-align: right;\n",
       "    }\n",
       "</style>\n",
       "<table border=\"1\" class=\"dataframe\">\n",
       "  <thead>\n",
       "    <tr style=\"text-align: right;\">\n",
       "      <th></th>\n",
       "      <th>date</th>\n",
       "      <th>orders_per_date_a</th>\n",
       "      <th>revenue_per_date_a</th>\n",
       "      <th>orders_per_date_b</th>\n",
       "      <th>revenue_per_date_b</th>\n",
       "      <th>orders_cummulative_a</th>\n",
       "      <th>revenue_cummulative_a</th>\n",
       "      <th>orders_cummulative_b</th>\n",
       "      <th>revenue_cummulative_b</th>\n",
       "      <th>visitors_per_date_a</th>\n",
       "      <th>visitors_per_date_b</th>\n",
       "      <th>visitors_cummulative_a</th>\n",
       "      <th>visitors_cummulative_b</th>\n",
       "    </tr>\n",
       "  </thead>\n",
       "  <tbody>\n",
       "    <tr>\n",
       "      <th>0</th>\n",
       "      <td>2019-08-01</td>\n",
       "      <td>23</td>\n",
       "      <td>142779</td>\n",
       "      <td>17</td>\n",
       "      <td>59758</td>\n",
       "      <td>23</td>\n",
       "      <td>142779</td>\n",
       "      <td>17</td>\n",
       "      <td>59758</td>\n",
       "      <td>719</td>\n",
       "      <td>713</td>\n",
       "      <td>719</td>\n",
       "      <td>713</td>\n",
       "    </tr>\n",
       "    <tr>\n",
       "      <th>1</th>\n",
       "      <td>2019-08-02</td>\n",
       "      <td>19</td>\n",
       "      <td>91602</td>\n",
       "      <td>23</td>\n",
       "      <td>162043</td>\n",
       "      <td>42</td>\n",
       "      <td>234381</td>\n",
       "      <td>40</td>\n",
       "      <td>221801</td>\n",
       "      <td>619</td>\n",
       "      <td>581</td>\n",
       "      <td>1338</td>\n",
       "      <td>1294</td>\n",
       "    </tr>\n",
       "    <tr>\n",
       "      <th>2</th>\n",
       "      <td>2019-08-03</td>\n",
       "      <td>24</td>\n",
       "      <td>112473</td>\n",
       "      <td>14</td>\n",
       "      <td>67049</td>\n",
       "      <td>66</td>\n",
       "      <td>346854</td>\n",
       "      <td>54</td>\n",
       "      <td>288850</td>\n",
       "      <td>507</td>\n",
       "      <td>509</td>\n",
       "      <td>1845</td>\n",
       "      <td>1803</td>\n",
       "    </tr>\n",
       "    <tr>\n",
       "      <th>3</th>\n",
       "      <td>2019-08-04</td>\n",
       "      <td>11</td>\n",
       "      <td>41176</td>\n",
       "      <td>14</td>\n",
       "      <td>96890</td>\n",
       "      <td>77</td>\n",
       "      <td>388030</td>\n",
       "      <td>68</td>\n",
       "      <td>385740</td>\n",
       "      <td>717</td>\n",
       "      <td>770</td>\n",
       "      <td>2562</td>\n",
       "      <td>2573</td>\n",
       "    </tr>\n",
       "    <tr>\n",
       "      <th>4</th>\n",
       "      <td>2019-08-05</td>\n",
       "      <td>22</td>\n",
       "      <td>86383</td>\n",
       "      <td>21</td>\n",
       "      <td>89908</td>\n",
       "      <td>99</td>\n",
       "      <td>474413</td>\n",
       "      <td>89</td>\n",
       "      <td>475648</td>\n",
       "      <td>756</td>\n",
       "      <td>707</td>\n",
       "      <td>3318</td>\n",
       "      <td>3280</td>\n",
       "    </tr>\n",
       "  </tbody>\n",
       "</table>\n",
       "</div>"
      ],
      "text/plain": [
       "        date  orders_per_date_a  revenue_per_date_a  orders_per_date_b  \\\n",
       "0 2019-08-01                 23              142779                 17   \n",
       "1 2019-08-02                 19               91602                 23   \n",
       "2 2019-08-03                 24              112473                 14   \n",
       "3 2019-08-04                 11               41176                 14   \n",
       "4 2019-08-05                 22               86383                 21   \n",
       "\n",
       "   revenue_per_date_b  orders_cummulative_a  revenue_cummulative_a  \\\n",
       "0               59758                    23                 142779   \n",
       "1              162043                    42                 234381   \n",
       "2               67049                    66                 346854   \n",
       "3               96890                    77                 388030   \n",
       "4               89908                    99                 474413   \n",
       "\n",
       "   orders_cummulative_b  revenue_cummulative_b  visitors_per_date_a  \\\n",
       "0                    17                  59758                  719   \n",
       "1                    40                 221801                  619   \n",
       "2                    54                 288850                  507   \n",
       "3                    68                 385740                  717   \n",
       "4                    89                 475648                  756   \n",
       "\n",
       "   visitors_per_date_b  visitors_cummulative_a  visitors_cummulative_b  \n",
       "0                  713                     719                     713  \n",
       "1                  581                    1338                    1294  \n",
       "2                  509                    1845                    1803  \n",
       "3                  770                    2562                    2573  \n",
       "4                  707                    3318                    3280  "
      ]
     },
     "metadata": {},
     "output_type": "display_data"
    }
   ],
   "source": [
    "data = (\n",
    "    orders_a_daily.merge(\n",
    "        orders_b_daily, left_on='date', right_on='date', how='left'\n",
    "    )\n",
    "    .merge(orders_a_cummulative, left_on='date', right_on='date', how='left')\n",
    "    .merge(orders_b_cummulative, left_on='date', right_on='date', how='left')\n",
    "    .merge(visitors_a_daily, left_on='date', right_on='date', how='left')\n",
    "    .merge(visitors_b_daily, left_on='date', right_on='date', how='left')\n",
    "    .merge(visitors_a_cummulative, left_on='date', right_on='date', how='left')\n",
    "    .merge(visitors_b_cummulative, left_on='date', right_on='date', how='left')\n",
    ")\n",
    "\n",
    "display(data.head(5)) "
   ]
  },
  {
   "cell_type": "markdown",
   "metadata": {},
   "source": [
    "Все нужные данные собраны в одну таблицу, содержащую в себе:\n",
    "- `orders_per_date_a` — количество заказов в выбранную дату в группе A;\n",
    "- `revenue_per_date_a` — суммарная выручка в выбранную дату в группе A;\n",
    "- `orders_per_date_b` — количество заказов в выбранную дату в группе B;\n",
    "- `revenue_per_date_b` — суммарная выручка в выбранную дату в группе B;\n",
    "- `orders_cummulative_a` — суммарное число заказов до выбранной даты включительно в группе A;\n",
    "- `revenue_cummulative_a` — суммарная выручка до выбранной даты включительно в группе A;\n",
    "- `orders_cummulative_b` — суммарное количество заказов до выбранной даты включительно в группе B;\n",
    "- `revenue_cummulative_b` — суммарная выручка до выбранной даты включительно в группе B;\n",
    "- `visitors_per_date_a` — количество пользователей в выбранную дату в группе A;\n",
    "- `visitors_per_date_b` — количество пользователей в выбранную дату в группе B;\n",
    "- `visitors_cummulative_a` — количество пользователей до выбранной даты включительно в группе A;\n",
    "- `visitors_cummulative_b` — количество пользователей до выбранной даты включительно в группе B"
   ]
  },
  {
   "cell_type": "markdown",
   "metadata": {},
   "source": [
    "Объявим переменные `sample_a` и `sample_b`, в которых пользователям из разных групп будет соответствовать количество заказов. А А тем, кто ничего не заказал, будут соответствовать нули."
   ]
  },
  {
   "cell_type": "code",
   "execution_count": 81,
   "metadata": {},
   "outputs": [],
   "source": [
    "sample_a = pd.concat(\n",
    "    [orders_by_a['orders'],pd.Series(\n",
    "        0, index=np.arange(data['visitors_per_date_a'].sum() - len(orders_by_a['orders'])),name='orders')],axis=0)\n",
    "\n",
    "sample_b = pd.concat(\n",
    "    [orders_by_b['orders'],pd.Series(0, index=np.arange(data['visitors_per_date_b'].sum() - len(orders_by_b['orders'])),\n",
    "                                     name='orders')],axis=0)"
   ]
  },
  {
   "cell_type": "markdown",
   "metadata": {},
   "source": [
    "Сформулируем гипотезы:\n",
    "- `Нулевая`: различий в конверсии между группами нет. \n",
    "- `Альтернативная`: различия в конверсии между группами есть."
   ]
  },
  {
   "cell_type": "markdown",
   "metadata": {},
   "source": [
    "Теперь посчитаем статистическую значимость различия конверсии групп с помощью теста Манна-Уитни.\n",
    "\n",
    "Округлим p-value и относительное различие в конверсии между группами до 3 знаков после запятой. "
   ]
  },
  {
   "cell_type": "code",
   "execution_count": 82,
   "metadata": {},
   "outputs": [
    {
     "name": "stdout",
     "output_type": "stream",
     "text": [
      "0.011\n",
      "0.160\n"
     ]
    }
   ],
   "source": [
    "print(\"{0:.3f}\".format(stats.mannwhitneyu(sample_a, sample_b)[1]))\n",
    "\n",
    "print(\"{0:.3f}\".format(sample_b.mean() / sample_a.mean() - 1))\n"
   ]
  },
  {
   "cell_type": "markdown",
   "metadata": {},
   "source": [
    "P-value меньше 0.05. Это дает нам основание отвергнуть нулевую гипотезу. \n",
    "\n",
    "Анализ сырых данных показывает нам, что в конверсии между группами есть статистически значимые различия. \n",
    "\n",
    "Относительный прирост конверсии группы B к конверсии группы A составляет 13.8%."
   ]
  },
  {
   "cell_type": "markdown",
   "metadata": {},
   "source": [
    "### Подсчет статистической значимости различий в среднем чеке заказа между группами по «сырым» данным."
   ]
  },
  {
   "cell_type": "markdown",
   "metadata": {},
   "source": [
    "Сформулируем гипотезы:\n",
    "- `Нулевая гипотеза`: различий в среднем чеке между группами нет. \n",
    "- `Альтернативная гипотеза` : различия в среднем чеке между группами есть."
   ]
  },
  {
   "cell_type": "code",
   "execution_count": 83,
   "metadata": {},
   "outputs": [
    {
     "name": "stdout",
     "output_type": "stream",
     "text": [
      "0.829\n",
      "0.287\n"
     ]
    }
   ],
   "source": [
    "print('{0:.3f}'.format(stats.mannwhitneyu(orders[orders['group']=='A']['revenue'], orders[orders['group']=='B']['revenue'])[1]))\n",
    "print('{0:.3f}'.format(orders[orders['group']=='B']['revenue'].mean()/orders[orders['group']=='A']['revenue'].mean()-1)) "
   ]
  },
  {
   "cell_type": "markdown",
   "metadata": {},
   "source": [
    "P-value значительно больше 0.05. Значит, оснований отвергать нулевую гипотезу и считать, что в среднем чеке есть различия, нет. Стоит отметить, что относительное различие среднего чека целых 25%. Скорее всего это из-за аномальных заказов, разберемся с ними позже. "
   ]
  },
  {
   "cell_type": "markdown",
   "metadata": {},
   "source": [
    "### Подсчет статистической значимости различий в конверсии между группами по «очищенным» данным. "
   ]
  },
  {
   "cell_type": "markdown",
   "metadata": {},
   "source": [
    "\"Очистим\" наши данные. Примем за аномальных пользователей тех, кто совершил от 2 заказов или совершил заказ дороже 28 000. Сделаем срезы пользователей с числом заказов больше 2 — `users_with_many_orders` и пользователей, совершивших заказы дороже 28 000 — `users_with_expensive_orders`. Объединим их в таблице `abnormal_users` и посчитаем, сколько их всего. "
   ]
  },
  {
   "cell_type": "code",
   "execution_count": 84,
   "metadata": {},
   "outputs": [
    {
     "data": {
      "text/plain": [
       "1099    148427295\n",
       "928     204675465\n",
       "33      249864742\n",
       "684     358944393\n",
       "648     382846391\n",
       "dtype: int64"
      ]
     },
     "metadata": {},
     "output_type": "display_data"
    },
    {
     "name": "stdout",
     "output_type": "stream",
     "text": [
      "Аномальных пользователей: 55\n"
     ]
    }
   ],
   "source": [
    "users_with_many_orders = pd.concat(\n",
    "    [\n",
    "        orders_by_a[orders_by_a['orders'] > 2]['user_id'],\n",
    "        orders_by_b[orders_by_b['orders'] > 2]['user_id'],\n",
    "    ],\n",
    "    axis=0,\n",
    ")\n",
    "\n",
    "users_with_expensive_orders = orders[orders['revenue'] > 28000]['visitor_id']\n",
    "\n",
    "abnormal_users = (\n",
    "    pd.concat([users_with_many_orders, users_with_expensive_orders], axis=0)\n",
    "    .drop_duplicates()\n",
    "    .sort_values()\n",
    ")\n",
    "\n",
    "display(abnormal_users.head(5))\n",
    "print('Аномальных пользователей:',abnormal_users.shape[0]) "
   ]
  },
  {
   "cell_type": "markdown",
   "metadata": {},
   "source": [
    "Теперь приступим к подсчету статистической значимости различий в конверсии между группами теста по очищенным данным.\n",
    "\n",
    "Создадим выборки количества заказов по пользователям по группам теста: `sample_a_filtered` и `sample_b_filtered`."
   ]
  },
  {
   "cell_type": "code",
   "execution_count": 85,
   "metadata": {},
   "outputs": [],
   "source": [
    "sample_a_filtered = pd.concat(\n",
    "    [\n",
    "        orders_by_a[\n",
    "            np.logical_not(orders_by_a['user_id'].isin(abnormal_users))\n",
    "        ]['orders'],\n",
    "        pd.Series(\n",
    "            0,\n",
    "            index=np.arange(\n",
    "                data['visitors_per_date_a'].sum() - len(orders_by_a['orders'])\n",
    "            ),\n",
    "            name='orders',\n",
    "        ),\n",
    "    ],\n",
    "    axis=0,\n",
    ") \n",
    "\n",
    "sample_b_filtered = pd.concat(\n",
    "    [\n",
    "        orders_by_b[\n",
    "            np.logical_not(orders_by_b['user_id'].isin(abnormal_users))\n",
    "        ]['orders'],\n",
    "        pd.Series(\n",
    "            0,\n",
    "            index=np.arange(\n",
    "                data['visitors_per_date_b'].sum() - len(orders_by_b['orders'])\n",
    "            ),\n",
    "            name='orders',\n",
    "        ),\n",
    "    ],\n",
    "    axis=0,\n",
    ") "
   ]
  },
  {
   "cell_type": "markdown",
   "metadata": {},
   "source": [
    "И применим статистический критерий Манна-Уитни к полученным выборкам."
   ]
  },
  {
   "cell_type": "code",
   "execution_count": 86,
   "metadata": {},
   "outputs": [
    {
     "name": "stdout",
     "output_type": "stream",
     "text": [
      "0.009\n",
      "0.189\n"
     ]
    }
   ],
   "source": [
    "print('{0:.3f}'.format(stats.mannwhitneyu(sample_a_filtered, sample_b_filtered)[1]))\n",
    "print('{0:.3f}'.format(sample_b_filtered.mean()/sample_a_filtered.mean()-1)) "
   ]
  },
  {
   "cell_type": "markdown",
   "metadata": {},
   "source": [
    "Результаты по конверсии практически не изменились. \n",
    "\n",
    "P-value также меньше 0.05. Однако относительный прирост конверсии группы B немного подрос и теперь составляет 17% вместо 13% по \"сырым\" данным."
   ]
  },
  {
   "cell_type": "markdown",
   "metadata": {},
   "source": [
    "### Подсчет статистической значимости различий в среднем чеке заказа между группами по «очищенным» данным."
   ]
  },
  {
   "cell_type": "code",
   "execution_count": 87,
   "metadata": {},
   "outputs": [
    {
     "name": "stdout",
     "output_type": "stream",
     "text": [
      "0.762\n",
      "-0.022\n"
     ]
    }
   ],
   "source": [
    "print(\n",
    "    '{0:.3f}'.format(\n",
    "        stats.mannwhitneyu(\n",
    "            orders[\n",
    "                np.logical_and(\n",
    "                    orders['group'] == 'A',\n",
    "                    np.logical_not(orders['visitor_id'].isin(abnormal_users)),\n",
    "                )\n",
    "            ]['revenue'],\n",
    "            orders[\n",
    "                np.logical_and(\n",
    "                    orders['group'] == 'B',\n",
    "                    np.logical_not(orders['visitor_id'].isin(abnormal_users)),\n",
    "                )\n",
    "            ]['revenue'],\n",
    "        )[1]\n",
    "    )\n",
    ")\n",
    "\n",
    "print(\n",
    "    \"{0:.3f}\".format(\n",
    "        orders[\n",
    "            np.logical_and(\n",
    "                orders['group'] == 'B',\n",
    "                np.logical_not(orders['visitor_id'].isin(abnormal_users)),\n",
    "            )\n",
    "        ]['revenue'].mean()\n",
    "        / orders[\n",
    "            np.logical_and(\n",
    "                orders['group'] == 'A',\n",
    "                np.logical_not(orders['visitor_id'].isin(abnormal_users)),\n",
    "            )\n",
    "        ]['revenue'].mean()\n",
    "        - 1\n",
    "    )\n",
    ") "
   ]
  },
  {
   "cell_type": "markdown",
   "metadata": {},
   "source": [
    "P-value практически не изменился, но разница между сегментами сократилась с 25% до 2%. Такое большое изменение разницы между группами показывает нам, насколько сильно аномалии влиляли на результаты A/B теста. "
   ]
  },
  {
   "cell_type": "markdown",
   "metadata": {},
   "source": [
    "## Вывод"
   ]
  },
  {
   "cell_type": "markdown",
   "metadata": {},
   "source": [
    "Исходя из анализа A/B теста можем сделать следующие выводы: \n",
    "- Есть статистически значимые различия по конверсии между группами как по «сырым», так и по данным после фильтрации аномалий;\n",
    "- Как по сырым, так и по отфильтрованным данным - нет статистически значимого различия по среднему чеку между группами;\n",
    "\n",
    "Тест можно остановить и считать успешным. Группа B лучше, чем группа A, т.к. при одинаковом среднем чеке имеет большую конверсию из пользователей в покупателей. "
   ]
  }
 ],
 "metadata": {
  "ExecuteTimeLog": [
   {
    "duration": 68,
    "start_time": "2022-05-08T13:47:10.218Z"
   },
   {
    "duration": 408,
    "start_time": "2022-05-08T13:47:13.195Z"
   },
   {
    "duration": 87,
    "start_time": "2022-05-08T13:47:13.605Z"
   },
   {
    "duration": 18,
    "start_time": "2022-05-08T13:48:01.556Z"
   },
   {
    "duration": 5,
    "start_time": "2022-05-08T13:52:22.930Z"
   },
   {
    "duration": 7,
    "start_time": "2022-05-08T13:52:30.838Z"
   },
   {
    "duration": 803,
    "start_time": "2022-05-08T13:54:07.084Z"
   },
   {
    "duration": 8,
    "start_time": "2022-05-08T13:54:36.669Z"
   },
   {
    "duration": 8,
    "start_time": "2022-05-08T13:55:48.863Z"
   },
   {
    "duration": 14,
    "start_time": "2022-05-08T13:55:58.152Z"
   },
   {
    "duration": 10,
    "start_time": "2022-05-08T13:56:15.994Z"
   },
   {
    "duration": 13,
    "start_time": "2022-05-08T14:03:07.316Z"
   },
   {
    "duration": 3,
    "start_time": "2022-05-08T14:11:59.884Z"
   },
   {
    "duration": 12,
    "start_time": "2022-05-08T14:17:37.631Z"
   },
   {
    "duration": 9,
    "start_time": "2022-05-08T14:17:45.846Z"
   },
   {
    "duration": 17,
    "start_time": "2022-05-08T14:17:50.070Z"
   },
   {
    "duration": 4,
    "start_time": "2022-05-08T14:22:27.351Z"
   },
   {
    "duration": 12,
    "start_time": "2022-05-08T14:22:34.159Z"
   },
   {
    "duration": 239,
    "start_time": "2022-05-08T14:22:42.943Z"
   },
   {
    "duration": 456,
    "start_time": "2022-05-08T14:22:59.229Z"
   },
   {
    "duration": 111,
    "start_time": "2022-05-08T14:22:59.688Z"
   },
   {
    "duration": 31,
    "start_time": "2022-05-08T14:22:59.803Z"
   },
   {
    "duration": 18,
    "start_time": "2022-05-08T14:22:59.836Z"
   },
   {
    "duration": 16,
    "start_time": "2022-05-08T14:22:59.856Z"
   },
   {
    "duration": 15,
    "start_time": "2022-05-08T14:22:59.874Z"
   },
   {
    "duration": 36,
    "start_time": "2022-05-08T14:22:59.890Z"
   },
   {
    "duration": 21,
    "start_time": "2022-05-08T14:22:59.928Z"
   },
   {
    "duration": 17,
    "start_time": "2022-05-08T14:23:23.341Z"
   },
   {
    "duration": 74,
    "start_time": "2022-05-08T14:24:07.328Z"
   },
   {
    "duration": 32,
    "start_time": "2022-05-08T14:24:10.823Z"
   },
   {
    "duration": 515,
    "start_time": "2022-05-08T14:25:07.856Z"
   },
   {
    "duration": 968,
    "start_time": "2022-05-08T14:27:28.948Z"
   },
   {
    "duration": 55,
    "start_time": "2022-05-09T09:53:44.948Z"
   },
   {
    "duration": 820,
    "start_time": "2022-05-09T09:53:50.029Z"
   },
   {
    "duration": 44,
    "start_time": "2022-05-09T09:53:50.851Z"
   },
   {
    "duration": 15,
    "start_time": "2022-05-09T09:53:50.897Z"
   },
   {
    "duration": 8,
    "start_time": "2022-05-09T09:53:50.914Z"
   },
   {
    "duration": 13,
    "start_time": "2022-05-09T09:53:51.212Z"
   },
   {
    "duration": 11,
    "start_time": "2022-05-09T09:53:51.839Z"
   },
   {
    "duration": 35,
    "start_time": "2022-05-09T09:53:52.472Z"
   },
   {
    "duration": 891,
    "start_time": "2022-05-09T09:53:52.835Z"
   },
   {
    "duration": 23,
    "start_time": "2022-05-09T09:54:19.503Z"
   },
   {
    "duration": 21,
    "start_time": "2022-05-09T09:54:33.149Z"
   },
   {
    "duration": 165,
    "start_time": "2022-05-09T10:00:14.164Z"
   },
   {
    "duration": 154,
    "start_time": "2022-05-09T10:01:37.155Z"
   },
   {
    "duration": 30,
    "start_time": "2022-05-09T10:01:53.800Z"
   },
   {
    "duration": 437,
    "start_time": "2022-05-09T10:02:49.629Z"
   },
   {
    "duration": 274,
    "start_time": "2022-05-09T10:07:02.869Z"
   },
   {
    "duration": 435,
    "start_time": "2022-05-09T10:07:08.108Z"
   },
   {
    "duration": 261,
    "start_time": "2022-05-09T10:07:12.590Z"
   },
   {
    "duration": 286,
    "start_time": "2022-05-09T10:07:33.058Z"
   },
   {
    "duration": 19,
    "start_time": "2022-05-09T10:08:25.209Z"
   },
   {
    "duration": 11,
    "start_time": "2022-05-09T10:11:17.056Z"
   },
   {
    "duration": 464,
    "start_time": "2022-05-09T10:11:30.490Z"
   },
   {
    "duration": 238,
    "start_time": "2022-05-09T10:11:35.702Z"
   },
   {
    "duration": 178,
    "start_time": "2022-05-09T10:11:49.024Z"
   },
   {
    "duration": 151,
    "start_time": "2022-05-09T10:14:29.389Z"
   },
   {
    "duration": 167,
    "start_time": "2022-05-09T10:16:19.743Z"
   },
   {
    "duration": 101,
    "start_time": "2022-05-09T10:22:17.183Z"
   },
   {
    "duration": 273,
    "start_time": "2022-05-09T10:22:28.967Z"
   },
   {
    "duration": 236,
    "start_time": "2022-05-09T10:22:38.131Z"
   },
   {
    "duration": 159,
    "start_time": "2022-05-09T10:26:17.094Z"
   },
   {
    "duration": 235,
    "start_time": "2022-05-09T10:32:33.206Z"
   },
   {
    "duration": 166,
    "start_time": "2022-05-09T10:32:37.764Z"
   },
   {
    "duration": 349,
    "start_time": "2022-05-09T10:41:20.345Z"
   },
   {
    "duration": 264,
    "start_time": "2022-05-09T10:41:26.100Z"
   },
   {
    "duration": 276,
    "start_time": "2022-05-09T10:50:35.486Z"
   },
   {
    "duration": 4,
    "start_time": "2022-05-09T10:56:47.489Z"
   },
   {
    "duration": 208,
    "start_time": "2022-05-09T10:57:16.543Z"
   },
   {
    "duration": 186,
    "start_time": "2022-05-09T10:57:30.032Z"
   },
   {
    "duration": 214,
    "start_time": "2022-05-09T10:59:28.388Z"
   },
   {
    "duration": 204,
    "start_time": "2022-05-09T10:59:40.491Z"
   },
   {
    "duration": 194,
    "start_time": "2022-05-09T11:00:42.454Z"
   },
   {
    "duration": 186,
    "start_time": "2022-05-09T11:00:46.722Z"
   },
   {
    "duration": 416,
    "start_time": "2022-05-09T11:05:10.937Z"
   },
   {
    "duration": 334,
    "start_time": "2022-05-09T11:05:16.060Z"
   },
   {
    "duration": 306,
    "start_time": "2022-05-09T11:05:38.538Z"
   },
   {
    "duration": 249,
    "start_time": "2022-05-09T11:05:44.209Z"
   },
   {
    "duration": 328,
    "start_time": "2022-05-09T11:06:03.058Z"
   },
   {
    "duration": 305,
    "start_time": "2022-05-09T11:10:33.686Z"
   },
   {
    "duration": 301,
    "start_time": "2022-05-09T11:10:38.918Z"
   },
   {
    "duration": 348,
    "start_time": "2022-05-09T11:11:12.246Z"
   },
   {
    "duration": 278,
    "start_time": "2022-05-09T11:11:54.518Z"
   },
   {
    "duration": 312,
    "start_time": "2022-05-09T11:14:44.936Z"
   },
   {
    "duration": 343,
    "start_time": "2022-05-09T11:17:29.362Z"
   },
   {
    "duration": 8,
    "start_time": "2022-05-09T11:26:49.171Z"
   },
   {
    "duration": 11,
    "start_time": "2022-05-09T11:27:11.532Z"
   },
   {
    "duration": 12,
    "start_time": "2022-05-09T11:28:48.341Z"
   },
   {
    "duration": 115,
    "start_time": "2022-05-09T11:33:06.848Z"
   },
   {
    "duration": 208,
    "start_time": "2022-05-09T11:33:09.845Z"
   },
   {
    "duration": 12,
    "start_time": "2022-05-09T11:36:36.316Z"
   },
   {
    "duration": 119,
    "start_time": "2022-05-09T11:36:40.369Z"
   },
   {
    "duration": 109,
    "start_time": "2022-05-09T11:36:44.290Z"
   },
   {
    "duration": 140,
    "start_time": "2022-05-09T11:45:50.597Z"
   },
   {
    "duration": 4,
    "start_time": "2022-05-09T11:46:09.831Z"
   },
   {
    "duration": 1089,
    "start_time": "2022-05-09T12:50:27.813Z"
   },
   {
    "duration": 117,
    "start_time": "2022-05-09T12:50:28.905Z"
   },
   {
    "duration": 12,
    "start_time": "2022-05-09T12:50:29.024Z"
   },
   {
    "duration": 8,
    "start_time": "2022-05-09T12:50:29.038Z"
   },
   {
    "duration": 17,
    "start_time": "2022-05-09T12:50:29.049Z"
   },
   {
    "duration": 20,
    "start_time": "2022-05-09T12:50:29.068Z"
   },
   {
    "duration": 37,
    "start_time": "2022-05-09T12:50:29.090Z"
   },
   {
    "duration": 22,
    "start_time": "2022-05-09T12:50:29.128Z"
   },
   {
    "duration": 290,
    "start_time": "2022-05-09T12:50:29.172Z"
   },
   {
    "duration": 11,
    "start_time": "2022-05-09T12:50:29.464Z"
   },
   {
    "duration": 266,
    "start_time": "2022-05-09T12:50:29.480Z"
   },
   {
    "duration": 181,
    "start_time": "2022-05-09T12:50:29.748Z"
   },
   {
    "duration": 332,
    "start_time": "2022-05-09T12:50:29.931Z"
   },
   {
    "duration": 190,
    "start_time": "2022-05-09T12:50:30.275Z"
   },
   {
    "duration": 312,
    "start_time": "2022-05-09T12:50:30.472Z"
   },
   {
    "duration": 12,
    "start_time": "2022-05-09T12:50:30.788Z"
   },
   {
    "duration": 113,
    "start_time": "2022-05-09T12:50:30.802Z"
   },
   {
    "duration": 115,
    "start_time": "2022-05-09T12:50:30.917Z"
   },
   {
    "duration": 5,
    "start_time": "2022-05-09T12:50:31.034Z"
   },
   {
    "duration": 127,
    "start_time": "2022-05-09T12:53:43.091Z"
   },
   {
    "duration": 120,
    "start_time": "2022-05-09T12:53:47.319Z"
   },
   {
    "duration": 117,
    "start_time": "2022-05-09T12:56:53.877Z"
   },
   {
    "duration": 199,
    "start_time": "2022-05-09T12:59:13.571Z"
   },
   {
    "duration": 109,
    "start_time": "2022-05-09T13:00:19.226Z"
   },
   {
    "duration": 131,
    "start_time": "2022-05-09T13:00:25.270Z"
   },
   {
    "duration": 130,
    "start_time": "2022-05-09T13:00:32.136Z"
   },
   {
    "duration": 130,
    "start_time": "2022-05-09T13:00:35.515Z"
   },
   {
    "duration": 109,
    "start_time": "2022-05-09T13:00:43.311Z"
   },
   {
    "duration": 112,
    "start_time": "2022-05-09T13:00:47.722Z"
   },
   {
    "duration": 131,
    "start_time": "2022-05-09T13:01:09.922Z"
   },
   {
    "duration": 141,
    "start_time": "2022-05-09T13:06:21.561Z"
   },
   {
    "duration": 126,
    "start_time": "2022-05-09T13:08:45.029Z"
   },
   {
    "duration": 4,
    "start_time": "2022-05-09T13:11:02.843Z"
   },
   {
    "duration": 142,
    "start_time": "2022-05-09T13:20:29.491Z"
   },
   {
    "duration": 13,
    "start_time": "2022-05-09T13:21:27.167Z"
   },
   {
    "duration": 23,
    "start_time": "2022-05-09T13:21:49.013Z"
   },
   {
    "duration": 11,
    "start_time": "2022-05-09T13:22:45.053Z"
   },
   {
    "duration": 11,
    "start_time": "2022-05-09T13:22:53.700Z"
   },
   {
    "duration": 60,
    "start_time": "2022-05-09T13:33:00.625Z"
   },
   {
    "duration": 55,
    "start_time": "2022-05-09T13:33:09.986Z"
   },
   {
    "duration": 55,
    "start_time": "2022-05-09T13:33:38.656Z"
   },
   {
    "duration": 54,
    "start_time": "2022-05-09T13:34:57.125Z"
   },
   {
    "duration": 57,
    "start_time": "2022-05-09T13:35:11.586Z"
   },
   {
    "duration": 44,
    "start_time": "2022-05-09T13:39:59.697Z"
   },
   {
    "duration": 45,
    "start_time": "2022-05-09T13:42:46.162Z"
   },
   {
    "duration": 134,
    "start_time": "2022-05-09T13:43:11.051Z"
   },
   {
    "duration": 54,
    "start_time": "2022-05-09T13:43:15.703Z"
   },
   {
    "duration": 54,
    "start_time": "2022-05-09T13:43:38.657Z"
   },
   {
    "duration": 19,
    "start_time": "2022-05-09T13:44:09.642Z"
   },
   {
    "duration": 17,
    "start_time": "2022-05-09T13:44:15.799Z"
   },
   {
    "duration": 18,
    "start_time": "2022-05-09T13:44:25.470Z"
   },
   {
    "duration": 58,
    "start_time": "2022-05-09T13:49:30.105Z"
   },
   {
    "duration": 64,
    "start_time": "2022-05-09T13:49:54.588Z"
   },
   {
    "duration": 27,
    "start_time": "2022-05-09T13:59:21.054Z"
   },
   {
    "duration": 66,
    "start_time": "2022-05-09T13:59:49.347Z"
   },
   {
    "duration": 65,
    "start_time": "2022-05-09T14:00:03.866Z"
   },
   {
    "duration": 30,
    "start_time": "2022-05-09T14:05:15.460Z"
   },
   {
    "duration": 10,
    "start_time": "2022-05-09T14:11:20.328Z"
   },
   {
    "duration": 6,
    "start_time": "2022-05-09T14:12:50.624Z"
   },
   {
    "duration": 8,
    "start_time": "2022-05-09T14:13:11.647Z"
   },
   {
    "duration": 6,
    "start_time": "2022-05-09T14:13:16.929Z"
   },
   {
    "duration": 22,
    "start_time": "2022-05-09T14:16:54.869Z"
   },
   {
    "duration": 22,
    "start_time": "2022-05-09T14:17:02.614Z"
   },
   {
    "duration": 23,
    "start_time": "2022-05-09T14:17:07.403Z"
   },
   {
    "duration": 10,
    "start_time": "2022-05-09T14:29:19.889Z"
   },
   {
    "duration": 11,
    "start_time": "2022-05-09T14:29:56.375Z"
   },
   {
    "duration": 11,
    "start_time": "2022-05-09T14:30:00.342Z"
   },
   {
    "duration": 1747,
    "start_time": "2022-05-09T14:53:15.241Z"
   },
   {
    "duration": 1971,
    "start_time": "2022-05-09T14:54:13.547Z"
   },
   {
    "duration": 9,
    "start_time": "2022-05-09T14:54:29.952Z"
   },
   {
    "duration": 11,
    "start_time": "2022-05-09T14:54:40.123Z"
   },
   {
    "duration": 11,
    "start_time": "2022-05-09T14:54:43.867Z"
   },
   {
    "duration": 10,
    "start_time": "2022-05-09T14:55:10.328Z"
   },
   {
    "duration": 1017,
    "start_time": "2022-05-09T14:56:13.109Z"
   },
   {
    "duration": 94,
    "start_time": "2022-05-09T14:56:14.128Z"
   },
   {
    "duration": 11,
    "start_time": "2022-05-09T14:56:14.224Z"
   },
   {
    "duration": 8,
    "start_time": "2022-05-09T14:56:14.237Z"
   },
   {
    "duration": 12,
    "start_time": "2022-05-09T14:56:14.247Z"
   },
   {
    "duration": 13,
    "start_time": "2022-05-09T14:56:14.260Z"
   },
   {
    "duration": 29,
    "start_time": "2022-05-09T14:56:14.274Z"
   },
   {
    "duration": 18,
    "start_time": "2022-05-09T14:56:14.305Z"
   },
   {
    "duration": 282,
    "start_time": "2022-05-09T14:56:14.325Z"
   },
   {
    "duration": 4,
    "start_time": "2022-05-09T14:56:14.608Z"
   },
   {
    "duration": 249,
    "start_time": "2022-05-09T14:56:14.613Z"
   },
   {
    "duration": 167,
    "start_time": "2022-05-09T14:56:14.864Z"
   },
   {
    "duration": 289,
    "start_time": "2022-05-09T14:56:15.033Z"
   },
   {
    "duration": 180,
    "start_time": "2022-05-09T14:56:15.325Z"
   },
   {
    "duration": 277,
    "start_time": "2022-05-09T14:56:15.506Z"
   },
   {
    "duration": 12,
    "start_time": "2022-05-09T14:56:15.785Z"
   },
   {
    "duration": 116,
    "start_time": "2022-05-09T14:56:15.799Z"
   },
   {
    "duration": 118,
    "start_time": "2022-05-09T14:56:15.916Z"
   },
   {
    "duration": 5,
    "start_time": "2022-05-09T14:56:16.036Z"
   },
   {
    "duration": 135,
    "start_time": "2022-05-09T14:56:16.043Z"
   },
   {
    "duration": 127,
    "start_time": "2022-05-09T14:56:16.180Z"
   },
   {
    "duration": 4,
    "start_time": "2022-05-09T14:56:16.309Z"
   },
   {
    "duration": 22,
    "start_time": "2022-05-09T14:56:16.315Z"
   },
   {
    "duration": 108,
    "start_time": "2022-05-09T14:56:16.338Z"
   },
   {
    "duration": 0,
    "start_time": "2022-05-09T14:56:16.447Z"
   },
   {
    "duration": 0,
    "start_time": "2022-05-09T14:56:16.449Z"
   },
   {
    "duration": 0,
    "start_time": "2022-05-09T14:56:16.450Z"
   },
   {
    "duration": 0,
    "start_time": "2022-05-09T14:56:16.451Z"
   },
   {
    "duration": 0,
    "start_time": "2022-05-09T14:56:16.451Z"
   },
   {
    "duration": 0,
    "start_time": "2022-05-09T14:56:16.453Z"
   },
   {
    "duration": 0,
    "start_time": "2022-05-09T14:56:16.453Z"
   },
   {
    "duration": 0,
    "start_time": "2022-05-09T14:56:16.454Z"
   },
   {
    "duration": 11,
    "start_time": "2022-05-09T14:56:39.992Z"
   },
   {
    "duration": 12,
    "start_time": "2022-05-09T14:56:42.790Z"
   },
   {
    "duration": 10,
    "start_time": "2022-05-09T14:56:45.630Z"
   },
   {
    "duration": 3,
    "start_time": "2022-05-09T14:56:51.141Z"
   },
   {
    "duration": 38,
    "start_time": "2022-05-09T14:56:51.146Z"
   },
   {
    "duration": 8,
    "start_time": "2022-05-09T14:56:51.185Z"
   },
   {
    "duration": 11,
    "start_time": "2022-05-09T14:56:51.194Z"
   },
   {
    "duration": 11,
    "start_time": "2022-05-09T14:56:51.207Z"
   },
   {
    "duration": 14,
    "start_time": "2022-05-09T14:56:51.220Z"
   },
   {
    "duration": 129,
    "start_time": "2022-05-09T14:56:51.236Z"
   },
   {
    "duration": 28,
    "start_time": "2022-05-09T14:56:51.366Z"
   },
   {
    "duration": 276,
    "start_time": "2022-05-09T14:56:51.397Z"
   },
   {
    "duration": 4,
    "start_time": "2022-05-09T14:56:51.674Z"
   },
   {
    "duration": 174,
    "start_time": "2022-05-09T14:56:51.680Z"
   },
   {
    "duration": 163,
    "start_time": "2022-05-09T14:56:51.855Z"
   },
   {
    "duration": 242,
    "start_time": "2022-05-09T14:56:52.020Z"
   },
   {
    "duration": 175,
    "start_time": "2022-05-09T14:56:52.265Z"
   },
   {
    "duration": 308,
    "start_time": "2022-05-09T14:56:52.442Z"
   },
   {
    "duration": 25,
    "start_time": "2022-05-09T14:56:52.752Z"
   },
   {
    "duration": 99,
    "start_time": "2022-05-09T14:56:52.779Z"
   },
   {
    "duration": 97,
    "start_time": "2022-05-09T14:56:52.880Z"
   },
   {
    "duration": 4,
    "start_time": "2022-05-09T14:56:52.979Z"
   },
   {
    "duration": 128,
    "start_time": "2022-05-09T14:56:52.984Z"
   },
   {
    "duration": 130,
    "start_time": "2022-05-09T14:56:53.113Z"
   },
   {
    "duration": 4,
    "start_time": "2022-05-09T14:56:53.245Z"
   },
   {
    "duration": 28,
    "start_time": "2022-05-09T14:56:53.250Z"
   },
   {
    "duration": 12,
    "start_time": "2022-05-09T14:56:53.279Z"
   },
   {
    "duration": 0,
    "start_time": "2022-05-09T14:56:53.292Z"
   },
   {
    "duration": 0,
    "start_time": "2022-05-09T14:56:53.293Z"
   },
   {
    "duration": 0,
    "start_time": "2022-05-09T14:56:53.294Z"
   },
   {
    "duration": 0,
    "start_time": "2022-05-09T14:56:53.295Z"
   },
   {
    "duration": 0,
    "start_time": "2022-05-09T14:56:53.297Z"
   },
   {
    "duration": 0,
    "start_time": "2022-05-09T14:56:53.297Z"
   },
   {
    "duration": 0,
    "start_time": "2022-05-09T14:56:53.298Z"
   },
   {
    "duration": 0,
    "start_time": "2022-05-09T14:56:53.299Z"
   },
   {
    "duration": 54,
    "start_time": "2022-05-09T14:57:18.914Z"
   },
   {
    "duration": 3,
    "start_time": "2022-05-09T14:57:27.532Z"
   },
   {
    "duration": 37,
    "start_time": "2022-05-09T14:57:27.537Z"
   },
   {
    "duration": 8,
    "start_time": "2022-05-09T14:57:27.576Z"
   },
   {
    "duration": 11,
    "start_time": "2022-05-09T14:57:27.585Z"
   },
   {
    "duration": 11,
    "start_time": "2022-05-09T14:57:27.598Z"
   },
   {
    "duration": 13,
    "start_time": "2022-05-09T14:57:27.610Z"
   },
   {
    "duration": 59,
    "start_time": "2022-05-09T14:57:27.624Z"
   },
   {
    "duration": 20,
    "start_time": "2022-05-09T14:57:27.685Z"
   },
   {
    "duration": 276,
    "start_time": "2022-05-09T14:57:27.707Z"
   },
   {
    "duration": 4,
    "start_time": "2022-05-09T14:57:27.985Z"
   },
   {
    "duration": 178,
    "start_time": "2022-05-09T14:57:27.990Z"
   },
   {
    "duration": 253,
    "start_time": "2022-05-09T14:57:28.170Z"
   },
   {
    "duration": 252,
    "start_time": "2022-05-09T14:57:28.425Z"
   },
   {
    "duration": 179,
    "start_time": "2022-05-09T14:57:28.680Z"
   },
   {
    "duration": 303,
    "start_time": "2022-05-09T14:57:28.861Z"
   },
   {
    "duration": 12,
    "start_time": "2022-05-09T14:57:29.173Z"
   },
   {
    "duration": 109,
    "start_time": "2022-05-09T14:57:29.186Z"
   },
   {
    "duration": 115,
    "start_time": "2022-05-09T14:57:29.297Z"
   },
   {
    "duration": 4,
    "start_time": "2022-05-09T14:57:29.413Z"
   },
   {
    "duration": 122,
    "start_time": "2022-05-09T14:57:29.418Z"
   },
   {
    "duration": 127,
    "start_time": "2022-05-09T14:57:29.542Z"
   },
   {
    "duration": 4,
    "start_time": "2022-05-09T14:57:29.674Z"
   },
   {
    "duration": 18,
    "start_time": "2022-05-09T14:57:29.680Z"
   },
   {
    "duration": 74,
    "start_time": "2022-05-09T14:57:29.700Z"
   },
   {
    "duration": 53,
    "start_time": "2022-05-09T14:57:29.777Z"
   },
   {
    "duration": 91,
    "start_time": "2022-05-09T14:57:29.832Z"
   },
   {
    "duration": 73,
    "start_time": "2022-05-09T14:57:29.925Z"
   },
   {
    "duration": 30,
    "start_time": "2022-05-09T14:57:30.000Z"
   },
   {
    "duration": 9,
    "start_time": "2022-05-09T14:57:30.032Z"
   },
   {
    "duration": 51,
    "start_time": "2022-05-09T14:57:30.042Z"
   },
   {
    "duration": 10,
    "start_time": "2022-05-09T14:57:30.095Z"
   },
   {
    "duration": 11,
    "start_time": "2022-05-09T14:57:30.107Z"
   },
   {
    "duration": 8,
    "start_time": "2022-05-09T15:04:17.068Z"
   },
   {
    "duration": 7,
    "start_time": "2022-05-09T15:05:11.158Z"
   },
   {
    "duration": 8,
    "start_time": "2022-05-09T15:06:03.477Z"
   },
   {
    "duration": 23,
    "start_time": "2022-05-09T15:06:49.064Z"
   },
   {
    "duration": 14,
    "start_time": "2022-05-09T15:16:29.096Z"
   },
   {
    "duration": 3,
    "start_time": "2022-05-09T17:01:57.144Z"
   },
   {
    "duration": 53,
    "start_time": "2022-05-09T17:01:57.149Z"
   },
   {
    "duration": 8,
    "start_time": "2022-05-09T17:01:57.204Z"
   },
   {
    "duration": 12,
    "start_time": "2022-05-09T17:01:57.213Z"
   },
   {
    "duration": 10,
    "start_time": "2022-05-09T17:01:57.227Z"
   },
   {
    "duration": 13,
    "start_time": "2022-05-09T17:01:57.239Z"
   },
   {
    "duration": 50,
    "start_time": "2022-05-09T17:01:57.254Z"
   },
   {
    "duration": 19,
    "start_time": "2022-05-09T17:01:57.306Z"
   },
   {
    "duration": 301,
    "start_time": "2022-05-09T17:01:57.327Z"
   },
   {
    "duration": 4,
    "start_time": "2022-05-09T17:01:57.629Z"
   },
   {
    "duration": 190,
    "start_time": "2022-05-09T17:01:57.635Z"
   },
   {
    "duration": 186,
    "start_time": "2022-05-09T17:01:57.827Z"
   },
   {
    "duration": 371,
    "start_time": "2022-05-09T17:01:58.015Z"
   },
   {
    "duration": 215,
    "start_time": "2022-05-09T17:01:58.391Z"
   },
   {
    "duration": 290,
    "start_time": "2022-05-09T17:01:58.608Z"
   },
   {
    "duration": 11,
    "start_time": "2022-05-09T17:01:58.900Z"
   },
   {
    "duration": 113,
    "start_time": "2022-05-09T17:01:58.912Z"
   },
   {
    "duration": 119,
    "start_time": "2022-05-09T17:01:59.027Z"
   },
   {
    "duration": 4,
    "start_time": "2022-05-09T17:01:59.148Z"
   },
   {
    "duration": 137,
    "start_time": "2022-05-09T17:01:59.154Z"
   },
   {
    "duration": 147,
    "start_time": "2022-05-09T17:01:59.294Z"
   },
   {
    "duration": 4,
    "start_time": "2022-05-09T17:01:59.443Z"
   },
   {
    "duration": 30,
    "start_time": "2022-05-09T17:01:59.449Z"
   },
   {
    "duration": 52,
    "start_time": "2022-05-09T17:01:59.481Z"
   },
   {
    "duration": 72,
    "start_time": "2022-05-09T17:01:59.535Z"
   },
   {
    "duration": 84,
    "start_time": "2022-05-09T17:01:59.609Z"
   },
   {
    "duration": 65,
    "start_time": "2022-05-09T17:01:59.694Z"
   },
   {
    "duration": 35,
    "start_time": "2022-05-09T17:01:59.760Z"
   },
   {
    "duration": 7,
    "start_time": "2022-05-09T17:01:59.798Z"
   },
   {
    "duration": 24,
    "start_time": "2022-05-09T17:01:59.807Z"
   },
   {
    "duration": 41,
    "start_time": "2022-05-09T17:01:59.833Z"
   },
   {
    "duration": 11,
    "start_time": "2022-05-09T17:01:59.876Z"
   },
   {
    "duration": 11,
    "start_time": "2022-05-09T17:01:59.889Z"
   },
   {
    "duration": 25,
    "start_time": "2022-05-09T17:01:59.901Z"
   },
   {
    "duration": 14,
    "start_time": "2022-05-09T17:01:59.927Z"
   },
   {
    "duration": 236,
    "start_time": "2022-05-09T17:02:06.794Z"
   },
   {
    "duration": 172,
    "start_time": "2022-05-09T17:02:22.868Z"
   },
   {
    "duration": 163,
    "start_time": "2022-05-09T17:02:28.175Z"
   },
   {
    "duration": 172,
    "start_time": "2022-05-09T17:02:32.009Z"
   },
   {
    "duration": 157,
    "start_time": "2022-05-09T17:02:43.523Z"
   },
   {
    "duration": 157,
    "start_time": "2022-05-09T17:02:49.478Z"
   },
   {
    "duration": 172,
    "start_time": "2022-05-09T17:03:09.765Z"
   },
   {
    "duration": 418,
    "start_time": "2022-05-09T17:03:19.878Z"
   },
   {
    "duration": 691,
    "start_time": "2022-05-09T17:03:36.226Z"
   },
   {
    "duration": 278,
    "start_time": "2022-05-09T17:03:45.516Z"
   },
   {
    "duration": 1164,
    "start_time": "2022-05-10T15:12:41.565Z"
   },
   {
    "duration": 113,
    "start_time": "2022-05-10T15:12:42.731Z"
   },
   {
    "duration": 13,
    "start_time": "2022-05-10T15:12:42.845Z"
   },
   {
    "duration": 9,
    "start_time": "2022-05-10T15:12:42.860Z"
   },
   {
    "duration": 12,
    "start_time": "2022-05-10T15:12:42.870Z"
   },
   {
    "duration": 10,
    "start_time": "2022-05-10T15:12:42.884Z"
   },
   {
    "duration": 32,
    "start_time": "2022-05-10T15:12:42.896Z"
   },
   {
    "duration": 21,
    "start_time": "2022-05-10T15:12:42.947Z"
   },
   {
    "duration": 277,
    "start_time": "2022-05-10T15:12:42.970Z"
   },
   {
    "duration": 5,
    "start_time": "2022-05-10T15:12:43.251Z"
   },
   {
    "duration": 359,
    "start_time": "2022-05-10T15:12:43.257Z"
   },
   {
    "duration": 154,
    "start_time": "2022-05-10T15:12:43.618Z"
   },
   {
    "duration": 289,
    "start_time": "2022-05-10T15:12:43.773Z"
   },
   {
    "duration": 173,
    "start_time": "2022-05-10T15:12:44.064Z"
   },
   {
    "duration": 296,
    "start_time": "2022-05-10T15:12:44.239Z"
   },
   {
    "duration": 21,
    "start_time": "2022-05-10T15:12:44.538Z"
   },
   {
    "duration": 112,
    "start_time": "2022-05-10T15:12:44.561Z"
   },
   {
    "duration": 107,
    "start_time": "2022-05-10T15:12:44.675Z"
   },
   {
    "duration": 4,
    "start_time": "2022-05-10T15:12:44.783Z"
   },
   {
    "duration": 127,
    "start_time": "2022-05-10T15:12:44.789Z"
   },
   {
    "duration": 144,
    "start_time": "2022-05-10T15:12:44.918Z"
   },
   {
    "duration": 23,
    "start_time": "2022-05-10T15:12:45.075Z"
   },
   {
    "duration": 37,
    "start_time": "2022-05-10T15:12:45.110Z"
   },
   {
    "duration": 128,
    "start_time": "2022-05-10T15:12:45.149Z"
   },
   {
    "duration": 51,
    "start_time": "2022-05-10T15:12:45.278Z"
   },
   {
    "duration": 78,
    "start_time": "2022-05-10T15:12:45.331Z"
   },
   {
    "duration": 71,
    "start_time": "2022-05-10T15:12:45.411Z"
   },
   {
    "duration": 26,
    "start_time": "2022-05-10T15:12:45.485Z"
   },
   {
    "duration": 5,
    "start_time": "2022-05-10T15:12:45.512Z"
   },
   {
    "duration": 49,
    "start_time": "2022-05-10T15:12:45.519Z"
   },
   {
    "duration": 9,
    "start_time": "2022-05-10T15:12:45.569Z"
   },
   {
    "duration": 9,
    "start_time": "2022-05-10T15:12:45.580Z"
   },
   {
    "duration": 7,
    "start_time": "2022-05-10T15:12:45.591Z"
   },
   {
    "duration": 20,
    "start_time": "2022-05-10T15:12:45.599Z"
   },
   {
    "duration": 40,
    "start_time": "2022-05-10T15:12:45.621Z"
   },
   {
    "duration": 119,
    "start_time": "2022-05-10T15:47:18.535Z"
   },
   {
    "duration": 22,
    "start_time": "2022-05-10T15:47:46.426Z"
   },
   {
    "duration": 18,
    "start_time": "2022-05-10T15:47:46.784Z"
   },
   {
    "duration": 20,
    "start_time": "2022-05-10T15:47:47.193Z"
   },
   {
    "duration": 25,
    "start_time": "2022-05-10T15:48:00.765Z"
   },
   {
    "duration": 4,
    "start_time": "2022-05-10T15:48:04.540Z"
   },
   {
    "duration": 49,
    "start_time": "2022-05-10T15:48:04.546Z"
   },
   {
    "duration": 8,
    "start_time": "2022-05-10T15:48:04.597Z"
   },
   {
    "duration": 9,
    "start_time": "2022-05-10T15:48:04.606Z"
   },
   {
    "duration": 24,
    "start_time": "2022-05-10T15:48:04.617Z"
   },
   {
    "duration": 22,
    "start_time": "2022-05-10T15:48:04.643Z"
   },
   {
    "duration": 24,
    "start_time": "2022-05-10T15:48:04.667Z"
   },
   {
    "duration": 6,
    "start_time": "2022-05-10T15:48:04.692Z"
   },
   {
    "duration": 13,
    "start_time": "2022-05-10T15:48:04.700Z"
   },
   {
    "duration": 49,
    "start_time": "2022-05-10T15:48:04.714Z"
   },
   {
    "duration": 308,
    "start_time": "2022-05-10T15:48:04.765Z"
   },
   {
    "duration": 6,
    "start_time": "2022-05-10T15:48:05.075Z"
   },
   {
    "duration": 313,
    "start_time": "2022-05-10T15:48:05.082Z"
   },
   {
    "duration": 174,
    "start_time": "2022-05-10T15:48:05.398Z"
   },
   {
    "duration": 250,
    "start_time": "2022-05-10T15:48:05.574Z"
   },
   {
    "duration": 227,
    "start_time": "2022-05-10T15:48:05.826Z"
   },
   {
    "duration": 297,
    "start_time": "2022-05-10T15:48:06.055Z"
   },
   {
    "duration": 15,
    "start_time": "2022-05-10T15:48:06.354Z"
   },
   {
    "duration": 102,
    "start_time": "2022-05-10T15:48:06.371Z"
   },
   {
    "duration": 106,
    "start_time": "2022-05-10T15:48:06.475Z"
   },
   {
    "duration": 4,
    "start_time": "2022-05-10T15:48:06.583Z"
   },
   {
    "duration": 119,
    "start_time": "2022-05-10T15:48:06.588Z"
   },
   {
    "duration": 124,
    "start_time": "2022-05-10T15:48:06.710Z"
   },
   {
    "duration": 5,
    "start_time": "2022-05-10T15:48:06.836Z"
   },
   {
    "duration": 26,
    "start_time": "2022-05-10T15:48:06.847Z"
   },
   {
    "duration": 52,
    "start_time": "2022-05-10T15:48:06.875Z"
   },
   {
    "duration": 61,
    "start_time": "2022-05-10T15:48:06.947Z"
   },
   {
    "duration": 86,
    "start_time": "2022-05-10T15:48:07.010Z"
   },
   {
    "duration": 87,
    "start_time": "2022-05-10T15:48:07.097Z"
   },
   {
    "duration": 27,
    "start_time": "2022-05-10T15:48:07.186Z"
   },
   {
    "duration": 7,
    "start_time": "2022-05-10T15:48:07.214Z"
   },
   {
    "duration": 56,
    "start_time": "2022-05-10T15:48:07.222Z"
   },
   {
    "duration": 10,
    "start_time": "2022-05-10T15:48:07.279Z"
   },
   {
    "duration": 15,
    "start_time": "2022-05-10T15:48:07.292Z"
   },
   {
    "duration": 8,
    "start_time": "2022-05-10T15:48:07.308Z"
   },
   {
    "duration": 54,
    "start_time": "2022-05-10T15:48:07.317Z"
   },
   {
    "duration": 18,
    "start_time": "2022-05-10T15:48:07.373Z"
   },
   {
    "duration": 33,
    "start_time": "2022-05-10T15:48:21.558Z"
   },
   {
    "duration": 153,
    "start_time": "2022-05-10T15:50:56.857Z"
   },
   {
    "duration": 169,
    "start_time": "2022-05-10T15:51:01.396Z"
   },
   {
    "duration": 1042,
    "start_time": "2022-05-10T15:54:59.567Z"
   },
   {
    "duration": 101,
    "start_time": "2022-05-10T15:55:00.611Z"
   },
   {
    "duration": 16,
    "start_time": "2022-05-10T15:55:00.714Z"
   },
   {
    "duration": 10,
    "start_time": "2022-05-10T15:55:00.733Z"
   },
   {
    "duration": 47,
    "start_time": "2022-05-10T15:55:00.745Z"
   },
   {
    "duration": 18,
    "start_time": "2022-05-10T15:55:00.795Z"
   },
   {
    "duration": 17,
    "start_time": "2022-05-10T15:55:00.815Z"
   },
   {
    "duration": 4,
    "start_time": "2022-05-10T15:55:00.834Z"
   },
   {
    "duration": 32,
    "start_time": "2022-05-10T15:55:00.839Z"
   },
   {
    "duration": 13,
    "start_time": "2022-05-10T15:55:00.873Z"
   },
   {
    "duration": 293,
    "start_time": "2022-05-10T15:55:00.888Z"
   },
   {
    "duration": 101,
    "start_time": "2022-05-10T15:55:01.182Z"
   },
   {
    "duration": 0,
    "start_time": "2022-05-10T15:55:01.285Z"
   },
   {
    "duration": 0,
    "start_time": "2022-05-10T15:55:01.286Z"
   },
   {
    "duration": 0,
    "start_time": "2022-05-10T15:55:01.288Z"
   },
   {
    "duration": 0,
    "start_time": "2022-05-10T15:55:01.289Z"
   },
   {
    "duration": 0,
    "start_time": "2022-05-10T15:55:01.291Z"
   },
   {
    "duration": 0,
    "start_time": "2022-05-10T15:55:01.292Z"
   },
   {
    "duration": 0,
    "start_time": "2022-05-10T15:55:01.293Z"
   },
   {
    "duration": 0,
    "start_time": "2022-05-10T15:55:01.295Z"
   },
   {
    "duration": 0,
    "start_time": "2022-05-10T15:55:01.296Z"
   },
   {
    "duration": 0,
    "start_time": "2022-05-10T15:55:01.297Z"
   },
   {
    "duration": 0,
    "start_time": "2022-05-10T15:55:01.299Z"
   },
   {
    "duration": 0,
    "start_time": "2022-05-10T15:55:01.300Z"
   },
   {
    "duration": 0,
    "start_time": "2022-05-10T15:55:01.301Z"
   },
   {
    "duration": 0,
    "start_time": "2022-05-10T15:55:01.303Z"
   },
   {
    "duration": 0,
    "start_time": "2022-05-10T15:55:01.304Z"
   },
   {
    "duration": 0,
    "start_time": "2022-05-10T15:55:01.306Z"
   },
   {
    "duration": 0,
    "start_time": "2022-05-10T15:55:01.307Z"
   },
   {
    "duration": 1,
    "start_time": "2022-05-10T15:55:01.347Z"
   },
   {
    "duration": 0,
    "start_time": "2022-05-10T15:55:01.349Z"
   },
   {
    "duration": 0,
    "start_time": "2022-05-10T15:55:01.350Z"
   },
   {
    "duration": 0,
    "start_time": "2022-05-10T15:55:01.357Z"
   },
   {
    "duration": 0,
    "start_time": "2022-05-10T15:55:01.359Z"
   },
   {
    "duration": 0,
    "start_time": "2022-05-10T15:55:01.360Z"
   },
   {
    "duration": 0,
    "start_time": "2022-05-10T15:55:01.362Z"
   },
   {
    "duration": 277,
    "start_time": "2022-05-10T15:55:31.498Z"
   },
   {
    "duration": 444,
    "start_time": "2022-05-10T15:55:33.107Z"
   },
   {
    "duration": 1373,
    "start_time": "2022-05-10T15:55:41.911Z"
   },
   {
    "duration": 91,
    "start_time": "2022-05-10T15:55:43.286Z"
   },
   {
    "duration": 11,
    "start_time": "2022-05-10T15:55:43.380Z"
   },
   {
    "duration": 17,
    "start_time": "2022-05-10T15:55:43.393Z"
   },
   {
    "duration": 24,
    "start_time": "2022-05-10T15:55:43.411Z"
   },
   {
    "duration": 21,
    "start_time": "2022-05-10T15:55:43.436Z"
   },
   {
    "duration": 35,
    "start_time": "2022-05-10T15:55:43.458Z"
   },
   {
    "duration": 17,
    "start_time": "2022-05-10T15:55:43.495Z"
   },
   {
    "duration": 18,
    "start_time": "2022-05-10T15:55:43.513Z"
   },
   {
    "duration": 10,
    "start_time": "2022-05-10T15:55:43.533Z"
   },
   {
    "duration": 394,
    "start_time": "2022-05-10T15:55:43.544Z"
   },
   {
    "duration": 0,
    "start_time": "2022-05-10T15:55:43.940Z"
   },
   {
    "duration": 0,
    "start_time": "2022-05-10T15:55:43.947Z"
   },
   {
    "duration": 0,
    "start_time": "2022-05-10T15:55:43.949Z"
   },
   {
    "duration": 0,
    "start_time": "2022-05-10T15:55:43.950Z"
   },
   {
    "duration": 0,
    "start_time": "2022-05-10T15:55:43.951Z"
   },
   {
    "duration": 0,
    "start_time": "2022-05-10T15:55:43.953Z"
   },
   {
    "duration": 0,
    "start_time": "2022-05-10T15:55:43.954Z"
   },
   {
    "duration": 0,
    "start_time": "2022-05-10T15:55:43.956Z"
   },
   {
    "duration": 0,
    "start_time": "2022-05-10T15:55:43.956Z"
   },
   {
    "duration": 0,
    "start_time": "2022-05-10T15:55:43.957Z"
   },
   {
    "duration": 0,
    "start_time": "2022-05-10T15:55:43.959Z"
   },
   {
    "duration": 0,
    "start_time": "2022-05-10T15:55:43.959Z"
   },
   {
    "duration": 0,
    "start_time": "2022-05-10T15:55:43.960Z"
   },
   {
    "duration": 0,
    "start_time": "2022-05-10T15:55:43.961Z"
   },
   {
    "duration": 0,
    "start_time": "2022-05-10T15:55:43.962Z"
   },
   {
    "duration": 0,
    "start_time": "2022-05-10T15:55:43.963Z"
   },
   {
    "duration": 0,
    "start_time": "2022-05-10T15:55:43.964Z"
   },
   {
    "duration": 0,
    "start_time": "2022-05-10T15:55:43.965Z"
   },
   {
    "duration": 0,
    "start_time": "2022-05-10T15:55:43.966Z"
   },
   {
    "duration": 0,
    "start_time": "2022-05-10T15:55:43.967Z"
   },
   {
    "duration": 0,
    "start_time": "2022-05-10T15:55:43.968Z"
   },
   {
    "duration": 0,
    "start_time": "2022-05-10T15:55:43.970Z"
   },
   {
    "duration": 0,
    "start_time": "2022-05-10T15:55:43.971Z"
   },
   {
    "duration": 0,
    "start_time": "2022-05-10T15:55:43.974Z"
   },
   {
    "duration": 0,
    "start_time": "2022-05-10T15:55:43.976Z"
   },
   {
    "duration": 282,
    "start_time": "2022-05-10T15:56:04.333Z"
   },
   {
    "duration": 3,
    "start_time": "2022-05-10T15:56:08.690Z"
   },
   {
    "duration": 35,
    "start_time": "2022-05-10T15:56:08.695Z"
   },
   {
    "duration": 8,
    "start_time": "2022-05-10T15:56:08.731Z"
   },
   {
    "duration": 19,
    "start_time": "2022-05-10T15:56:08.741Z"
   },
   {
    "duration": 24,
    "start_time": "2022-05-10T15:56:08.763Z"
   },
   {
    "duration": 14,
    "start_time": "2022-05-10T15:56:08.788Z"
   },
   {
    "duration": 27,
    "start_time": "2022-05-10T15:56:08.804Z"
   },
   {
    "duration": 23,
    "start_time": "2022-05-10T15:56:08.833Z"
   },
   {
    "duration": 23,
    "start_time": "2022-05-10T15:56:08.858Z"
   },
   {
    "duration": 13,
    "start_time": "2022-05-10T15:56:08.883Z"
   },
   {
    "duration": 286,
    "start_time": "2022-05-10T15:56:08.898Z"
   },
   {
    "duration": 297,
    "start_time": "2022-05-10T15:56:09.186Z"
   },
   {
    "duration": 167,
    "start_time": "2022-05-10T15:56:09.485Z"
   },
   {
    "duration": 276,
    "start_time": "2022-05-10T15:56:09.656Z"
   },
   {
    "duration": 179,
    "start_time": "2022-05-10T15:56:09.934Z"
   },
   {
    "duration": 329,
    "start_time": "2022-05-10T15:56:10.115Z"
   },
   {
    "duration": 12,
    "start_time": "2022-05-10T15:56:10.447Z"
   },
   {
    "duration": 134,
    "start_time": "2022-05-10T15:56:10.460Z"
   },
   {
    "duration": 121,
    "start_time": "2022-05-10T15:56:10.596Z"
   },
   {
    "duration": 5,
    "start_time": "2022-05-10T15:56:10.718Z"
   },
   {
    "duration": 158,
    "start_time": "2022-05-10T15:56:10.725Z"
   },
   {
    "duration": 284,
    "start_time": "2022-05-10T15:56:10.885Z"
   },
   {
    "duration": 4,
    "start_time": "2022-05-10T15:56:11.171Z"
   },
   {
    "duration": 26,
    "start_time": "2022-05-10T15:56:11.177Z"
   },
   {
    "duration": 95,
    "start_time": "2022-05-10T15:56:11.204Z"
   },
   {
    "duration": 85,
    "start_time": "2022-05-10T15:56:11.301Z"
   },
   {
    "duration": 85,
    "start_time": "2022-05-10T15:56:11.387Z"
   },
   {
    "duration": 110,
    "start_time": "2022-05-10T15:56:11.474Z"
   },
   {
    "duration": 30,
    "start_time": "2022-05-10T15:56:11.586Z"
   },
   {
    "duration": 7,
    "start_time": "2022-05-10T15:56:11.618Z"
   },
   {
    "duration": 80,
    "start_time": "2022-05-10T15:56:11.627Z"
   },
   {
    "duration": 12,
    "start_time": "2022-05-10T15:56:11.709Z"
   },
   {
    "duration": 11,
    "start_time": "2022-05-10T15:56:11.722Z"
   },
   {
    "duration": 28,
    "start_time": "2022-05-10T15:56:11.735Z"
   },
   {
    "duration": 25,
    "start_time": "2022-05-10T15:56:11.766Z"
   },
   {
    "duration": 12,
    "start_time": "2022-05-10T15:56:11.793Z"
   },
   {
    "duration": 229,
    "start_time": "2022-05-10T15:58:03.494Z"
   },
   {
    "duration": 310,
    "start_time": "2022-05-10T15:59:12.276Z"
   },
   {
    "duration": 238,
    "start_time": "2022-05-10T15:59:29.462Z"
   },
   {
    "duration": 430,
    "start_time": "2022-05-10T15:59:59.631Z"
   },
   {
    "duration": 3,
    "start_time": "2022-05-10T16:00:53.915Z"
   },
   {
    "duration": 37,
    "start_time": "2022-05-10T16:00:53.920Z"
   },
   {
    "duration": 10,
    "start_time": "2022-05-10T16:00:53.959Z"
   },
   {
    "duration": 9,
    "start_time": "2022-05-10T16:00:53.970Z"
   },
   {
    "duration": 17,
    "start_time": "2022-05-10T16:00:53.982Z"
   },
   {
    "duration": 13,
    "start_time": "2022-05-10T16:00:54.001Z"
   },
   {
    "duration": 46,
    "start_time": "2022-05-10T16:00:54.015Z"
   },
   {
    "duration": 3,
    "start_time": "2022-05-10T16:00:54.063Z"
   },
   {
    "duration": 10,
    "start_time": "2022-05-10T16:00:54.068Z"
   },
   {
    "duration": 12,
    "start_time": "2022-05-10T16:00:54.080Z"
   },
   {
    "duration": 279,
    "start_time": "2022-05-10T16:00:54.093Z"
   },
   {
    "duration": 212,
    "start_time": "2022-05-10T16:00:54.373Z"
   },
   {
    "duration": 199,
    "start_time": "2022-05-10T16:00:54.587Z"
   },
   {
    "duration": 281,
    "start_time": "2022-05-10T16:00:54.790Z"
   },
   {
    "duration": 217,
    "start_time": "2022-05-10T16:00:55.073Z"
   },
   {
    "duration": 316,
    "start_time": "2022-05-10T16:00:55.292Z"
   },
   {
    "duration": 10,
    "start_time": "2022-05-10T16:00:55.610Z"
   },
   {
    "duration": 107,
    "start_time": "2022-05-10T16:00:55.621Z"
   },
   {
    "duration": 179,
    "start_time": "2022-05-10T16:00:55.729Z"
   },
   {
    "duration": 4,
    "start_time": "2022-05-10T16:00:55.909Z"
   },
   {
    "duration": 119,
    "start_time": "2022-05-10T16:00:55.915Z"
   },
   {
    "duration": 123,
    "start_time": "2022-05-10T16:00:56.036Z"
   },
   {
    "duration": 6,
    "start_time": "2022-05-10T16:00:56.161Z"
   },
   {
    "duration": 18,
    "start_time": "2022-05-10T16:00:56.169Z"
   },
   {
    "duration": 79,
    "start_time": "2022-05-10T16:00:56.188Z"
   },
   {
    "duration": 50,
    "start_time": "2022-05-10T16:00:56.269Z"
   },
   {
    "duration": 79,
    "start_time": "2022-05-10T16:00:56.320Z"
   },
   {
    "duration": 74,
    "start_time": "2022-05-10T16:00:56.401Z"
   },
   {
    "duration": 27,
    "start_time": "2022-05-10T16:00:56.476Z"
   },
   {
    "duration": 6,
    "start_time": "2022-05-10T16:00:56.504Z"
   },
   {
    "duration": 42,
    "start_time": "2022-05-10T16:00:56.511Z"
   },
   {
    "duration": 11,
    "start_time": "2022-05-10T16:00:56.555Z"
   },
   {
    "duration": 10,
    "start_time": "2022-05-10T16:00:56.568Z"
   },
   {
    "duration": 7,
    "start_time": "2022-05-10T16:00:56.579Z"
   },
   {
    "duration": 23,
    "start_time": "2022-05-10T16:00:56.587Z"
   },
   {
    "duration": 41,
    "start_time": "2022-05-10T16:00:56.611Z"
   },
   {
    "duration": 1091,
    "start_time": "2022-05-11T20:27:39.729Z"
   },
   {
    "duration": 110,
    "start_time": "2022-05-11T20:27:40.822Z"
   },
   {
    "duration": 14,
    "start_time": "2022-05-11T20:27:40.933Z"
   },
   {
    "duration": 14,
    "start_time": "2022-05-11T20:27:40.949Z"
   },
   {
    "duration": 30,
    "start_time": "2022-05-11T20:27:40.964Z"
   },
   {
    "duration": 25,
    "start_time": "2022-05-11T20:27:40.996Z"
   },
   {
    "duration": 26,
    "start_time": "2022-05-11T20:27:41.023Z"
   },
   {
    "duration": 5,
    "start_time": "2022-05-11T20:27:41.052Z"
   },
   {
    "duration": 31,
    "start_time": "2022-05-11T20:27:41.060Z"
   },
   {
    "duration": 16,
    "start_time": "2022-05-11T20:27:41.094Z"
   },
   {
    "duration": 330,
    "start_time": "2022-05-11T20:27:41.112Z"
   },
   {
    "duration": 318,
    "start_time": "2022-05-11T20:27:41.444Z"
   },
   {
    "duration": 221,
    "start_time": "2022-05-11T20:27:41.764Z"
   },
   {
    "duration": 337,
    "start_time": "2022-05-11T20:27:41.987Z"
   },
   {
    "duration": 274,
    "start_time": "2022-05-11T20:27:42.326Z"
   },
   {
    "duration": 351,
    "start_time": "2022-05-11T20:27:42.605Z"
   },
   {
    "duration": 11,
    "start_time": "2022-05-11T20:27:42.958Z"
   },
   {
    "duration": 139,
    "start_time": "2022-05-11T20:27:42.971Z"
   },
   {
    "duration": 106,
    "start_time": "2022-05-11T20:27:43.112Z"
   },
   {
    "duration": 4,
    "start_time": "2022-05-11T20:27:43.220Z"
   },
   {
    "duration": 133,
    "start_time": "2022-05-11T20:27:43.226Z"
   },
   {
    "duration": 144,
    "start_time": "2022-05-11T20:27:43.361Z"
   },
   {
    "duration": 5,
    "start_time": "2022-05-11T20:27:43.506Z"
   },
   {
    "duration": 21,
    "start_time": "2022-05-11T20:27:43.512Z"
   },
   {
    "duration": 170,
    "start_time": "2022-05-11T20:27:43.535Z"
   },
   {
    "duration": 53,
    "start_time": "2022-05-11T20:27:43.706Z"
   },
   {
    "duration": 80,
    "start_time": "2022-05-11T20:27:43.761Z"
   },
   {
    "duration": 78,
    "start_time": "2022-05-11T20:27:43.844Z"
   },
   {
    "duration": 28,
    "start_time": "2022-05-11T20:27:43.923Z"
   },
   {
    "duration": 5,
    "start_time": "2022-05-11T20:27:43.953Z"
   },
   {
    "duration": 54,
    "start_time": "2022-05-11T20:27:43.960Z"
   },
   {
    "duration": 19,
    "start_time": "2022-05-11T20:27:44.016Z"
   },
   {
    "duration": 14,
    "start_time": "2022-05-11T20:27:44.036Z"
   },
   {
    "duration": 8,
    "start_time": "2022-05-11T20:27:44.051Z"
   },
   {
    "duration": 47,
    "start_time": "2022-05-11T20:27:44.060Z"
   },
   {
    "duration": 13,
    "start_time": "2022-05-11T20:27:44.109Z"
   },
   {
    "duration": 23,
    "start_time": "2022-05-11T20:31:53.574Z"
   },
   {
    "duration": 16,
    "start_time": "2022-05-11T20:37:56.292Z"
   },
   {
    "duration": 22,
    "start_time": "2022-05-11T20:38:05.689Z"
   },
   {
    "duration": 11,
    "start_time": "2022-05-11T20:38:17.512Z"
   },
   {
    "duration": 1097,
    "start_time": "2022-07-22T21:31:24.302Z"
   },
   {
    "duration": 296,
    "start_time": "2022-07-22T21:31:25.402Z"
   },
   {
    "duration": 13,
    "start_time": "2022-07-22T21:31:25.700Z"
   },
   {
    "duration": 8,
    "start_time": "2022-07-22T21:31:25.714Z"
   },
   {
    "duration": 20,
    "start_time": "2022-07-22T21:31:25.723Z"
   },
   {
    "duration": 13,
    "start_time": "2022-07-22T21:31:25.745Z"
   },
   {
    "duration": 16,
    "start_time": "2022-07-22T21:31:25.760Z"
   },
   {
    "duration": 3,
    "start_time": "2022-07-22T21:31:25.777Z"
   },
   {
    "duration": 9,
    "start_time": "2022-07-22T21:31:25.782Z"
   },
   {
    "duration": 11,
    "start_time": "2022-07-22T21:31:25.793Z"
   },
   {
    "duration": 3,
    "start_time": "2022-07-22T21:31:25.806Z"
   },
   {
    "duration": 38,
    "start_time": "2022-07-22T21:31:25.811Z"
   },
   {
    "duration": 17,
    "start_time": "2022-07-22T21:31:25.850Z"
   },
   {
    "duration": 21,
    "start_time": "2022-07-22T21:31:25.869Z"
   },
   {
    "duration": 272,
    "start_time": "2022-07-22T21:31:25.892Z"
   },
   {
    "duration": 289,
    "start_time": "2022-07-22T21:31:26.167Z"
   },
   {
    "duration": 230,
    "start_time": "2022-07-22T21:31:26.458Z"
   },
   {
    "duration": 390,
    "start_time": "2022-07-22T21:31:26.690Z"
   },
   {
    "duration": 503,
    "start_time": "2022-07-22T21:31:27.082Z"
   },
   {
    "duration": 582,
    "start_time": "2022-07-22T21:31:27.586Z"
   },
   {
    "duration": 11,
    "start_time": "2022-07-22T21:31:28.170Z"
   },
   {
    "duration": 268,
    "start_time": "2022-07-22T21:31:28.182Z"
   },
   {
    "duration": 223,
    "start_time": "2022-07-22T21:31:28.451Z"
   },
   {
    "duration": 5,
    "start_time": "2022-07-22T21:31:28.675Z"
   },
   {
    "duration": 152,
    "start_time": "2022-07-22T21:31:28.681Z"
   },
   {
    "duration": 171,
    "start_time": "2022-07-22T21:31:28.835Z"
   },
   {
    "duration": 7,
    "start_time": "2022-07-22T21:31:29.008Z"
   },
   {
    "duration": 42,
    "start_time": "2022-07-22T21:31:29.018Z"
   },
   {
    "duration": 152,
    "start_time": "2022-07-22T21:31:29.062Z"
   },
   {
    "duration": 63,
    "start_time": "2022-07-22T21:31:29.216Z"
   },
   {
    "duration": 80,
    "start_time": "2022-07-22T21:31:29.281Z"
   },
   {
    "duration": 60,
    "start_time": "2022-07-22T21:31:29.363Z"
   },
   {
    "duration": 43,
    "start_time": "2022-07-22T21:31:29.425Z"
   },
   {
    "duration": 7,
    "start_time": "2022-07-22T21:31:29.470Z"
   },
   {
    "duration": 46,
    "start_time": "2022-07-22T21:31:29.478Z"
   },
   {
    "duration": 21,
    "start_time": "2022-07-22T21:31:29.526Z"
   },
   {
    "duration": 15,
    "start_time": "2022-07-22T21:31:29.548Z"
   },
   {
    "duration": 27,
    "start_time": "2022-07-22T21:31:29.565Z"
   },
   {
    "duration": 45,
    "start_time": "2022-07-22T21:31:29.594Z"
   },
   {
    "duration": 13,
    "start_time": "2022-07-22T21:31:29.640Z"
   },
   {
    "duration": 57,
    "start_time": "2022-09-06T16:48:09.510Z"
   },
   {
    "duration": 1026,
    "start_time": "2022-09-06T16:48:12.325Z"
   },
   {
    "duration": 246,
    "start_time": "2022-09-06T16:48:13.353Z"
   },
   {
    "duration": 11,
    "start_time": "2022-09-06T16:48:13.602Z"
   },
   {
    "duration": 9,
    "start_time": "2022-09-06T16:48:13.615Z"
   },
   {
    "duration": 24,
    "start_time": "2022-09-06T16:48:13.625Z"
   },
   {
    "duration": 20,
    "start_time": "2022-09-06T16:48:13.651Z"
   },
   {
    "duration": 22,
    "start_time": "2022-09-06T16:48:13.688Z"
   },
   {
    "duration": 25,
    "start_time": "2022-09-06T16:48:13.712Z"
   },
   {
    "duration": 48,
    "start_time": "2022-09-06T16:48:13.738Z"
   },
   {
    "duration": 31,
    "start_time": "2022-09-06T16:48:13.790Z"
   },
   {
    "duration": 27,
    "start_time": "2022-09-06T16:48:13.823Z"
   },
   {
    "duration": 49,
    "start_time": "2022-09-06T16:48:13.852Z"
   },
   {
    "duration": 46,
    "start_time": "2022-09-06T16:48:13.903Z"
   },
   {
    "duration": 27,
    "start_time": "2022-09-06T16:48:13.951Z"
   },
   {
    "duration": 37,
    "start_time": "2022-09-06T16:48:13.980Z"
   },
   {
    "duration": 308,
    "start_time": "2022-09-06T16:48:14.019Z"
   },
   {
    "duration": 326,
    "start_time": "2022-09-06T16:48:14.329Z"
   },
   {
    "duration": 253,
    "start_time": "2022-09-06T16:48:14.657Z"
   },
   {
    "duration": 321,
    "start_time": "2022-09-06T16:48:14.913Z"
   },
   {
    "duration": 270,
    "start_time": "2022-09-06T16:48:15.237Z"
   },
   {
    "duration": 348,
    "start_time": "2022-09-06T16:48:15.509Z"
   },
   {
    "duration": 13,
    "start_time": "2022-09-06T16:48:15.859Z"
   },
   {
    "duration": 140,
    "start_time": "2022-09-06T16:48:15.888Z"
   },
   {
    "duration": 146,
    "start_time": "2022-09-06T16:48:16.030Z"
   },
   {
    "duration": 11,
    "start_time": "2022-09-06T16:48:16.178Z"
   },
   {
    "duration": 135,
    "start_time": "2022-09-06T16:48:16.190Z"
   },
   {
    "duration": 170,
    "start_time": "2022-09-06T16:48:16.327Z"
   },
   {
    "duration": 6,
    "start_time": "2022-09-06T16:48:16.502Z"
   },
   {
    "duration": 31,
    "start_time": "2022-09-06T16:48:16.510Z"
   },
   {
    "duration": 179,
    "start_time": "2022-09-06T16:48:16.543Z"
   },
   {
    "duration": 72,
    "start_time": "2022-09-06T16:48:16.723Z"
   },
   {
    "duration": 69,
    "start_time": "2022-09-06T16:48:16.797Z"
   },
   {
    "duration": 72,
    "start_time": "2022-09-06T16:48:16.886Z"
   },
   {
    "duration": 42,
    "start_time": "2022-09-06T16:48:16.959Z"
   },
   {
    "duration": 7,
    "start_time": "2022-09-06T16:48:17.002Z"
   },
   {
    "duration": 27,
    "start_time": "2022-09-06T16:48:17.011Z"
   },
   {
    "duration": 14,
    "start_time": "2022-09-06T16:48:17.040Z"
   },
   {
    "duration": 42,
    "start_time": "2022-09-06T16:48:17.056Z"
   },
   {
    "duration": 13,
    "start_time": "2022-09-06T16:48:17.100Z"
   },
   {
    "duration": 25,
    "start_time": "2022-09-06T16:48:17.115Z"
   },
   {
    "duration": 15,
    "start_time": "2022-09-06T16:48:17.142Z"
   },
   {
    "duration": 3,
    "start_time": "2022-09-06T16:49:00.756Z"
   },
   {
    "duration": 6,
    "start_time": "2022-09-06T16:49:02.160Z"
   },
   {
    "duration": 14,
    "start_time": "2022-09-06T16:50:00.117Z"
   },
   {
    "duration": 18,
    "start_time": "2022-09-06T16:50:40.601Z"
   },
   {
    "duration": 14,
    "start_time": "2022-09-06T16:51:23.780Z"
   },
   {
    "duration": 13,
    "start_time": "2022-09-06T16:53:18.286Z"
   },
   {
    "duration": 78,
    "start_time": "2022-09-06T16:53:18.301Z"
   },
   {
    "duration": 18,
    "start_time": "2022-09-06T16:53:18.381Z"
   },
   {
    "duration": 18,
    "start_time": "2022-09-06T16:53:18.401Z"
   },
   {
    "duration": 35,
    "start_time": "2022-09-06T16:53:18.421Z"
   },
   {
    "duration": 15,
    "start_time": "2022-09-06T16:53:18.457Z"
   },
   {
    "duration": 24,
    "start_time": "2022-09-06T16:53:18.474Z"
   },
   {
    "duration": 11,
    "start_time": "2022-09-06T16:53:18.500Z"
   },
   {
    "duration": 24,
    "start_time": "2022-09-06T16:53:18.513Z"
   },
   {
    "duration": 23,
    "start_time": "2022-09-06T16:53:18.538Z"
   },
   {
    "duration": 20,
    "start_time": "2022-09-06T16:53:18.563Z"
   },
   {
    "duration": 21,
    "start_time": "2022-09-06T16:53:18.584Z"
   },
   {
    "duration": 19,
    "start_time": "2022-09-06T16:53:18.607Z"
   },
   {
    "duration": 33,
    "start_time": "2022-09-06T16:53:18.630Z"
   },
   {
    "duration": 331,
    "start_time": "2022-09-06T16:53:18.664Z"
   },
   {
    "duration": 247,
    "start_time": "2022-09-06T16:53:19.000Z"
   },
   {
    "duration": 264,
    "start_time": "2022-09-06T16:53:19.249Z"
   },
   {
    "duration": 339,
    "start_time": "2022-09-06T16:53:19.514Z"
   },
   {
    "duration": 275,
    "start_time": "2022-09-06T16:53:19.854Z"
   },
   {
    "duration": 344,
    "start_time": "2022-09-06T16:53:20.131Z"
   },
   {
    "duration": 17,
    "start_time": "2022-09-06T16:53:20.486Z"
   },
   {
    "duration": 126,
    "start_time": "2022-09-06T16:53:20.505Z"
   },
   {
    "duration": 135,
    "start_time": "2022-09-06T16:53:20.633Z"
   },
   {
    "duration": 16,
    "start_time": "2022-09-06T16:53:20.770Z"
   },
   {
    "duration": 121,
    "start_time": "2022-09-06T16:53:20.789Z"
   },
   {
    "duration": 141,
    "start_time": "2022-09-06T16:53:20.912Z"
   },
   {
    "duration": 4,
    "start_time": "2022-09-06T16:53:21.055Z"
   },
   {
    "duration": 43,
    "start_time": "2022-09-06T16:53:21.060Z"
   },
   {
    "duration": 53,
    "start_time": "2022-09-06T16:53:21.105Z"
   },
   {
    "duration": 68,
    "start_time": "2022-09-06T16:53:21.160Z"
   },
   {
    "duration": 81,
    "start_time": "2022-09-06T16:53:21.229Z"
   },
   {
    "duration": 86,
    "start_time": "2022-09-06T16:53:21.312Z"
   },
   {
    "duration": 30,
    "start_time": "2022-09-06T16:53:21.402Z"
   },
   {
    "duration": 5,
    "start_time": "2022-09-06T16:53:21.434Z"
   },
   {
    "duration": 35,
    "start_time": "2022-09-06T16:53:21.441Z"
   },
   {
    "duration": 18,
    "start_time": "2022-09-06T16:53:21.486Z"
   },
   {
    "duration": 10,
    "start_time": "2022-09-06T16:53:21.506Z"
   },
   {
    "duration": 9,
    "start_time": "2022-09-06T16:53:21.519Z"
   },
   {
    "duration": 38,
    "start_time": "2022-09-06T16:53:21.530Z"
   },
   {
    "duration": 33,
    "start_time": "2022-09-06T16:53:21.569Z"
   }
  ],
  "kernelspec": {
   "display_name": "Python 3 (ipykernel)",
   "language": "python",
   "name": "python3"
  },
  "language_info": {
   "codemirror_mode": {
    "name": "ipython",
    "version": 3
   },
   "file_extension": ".py",
   "mimetype": "text/x-python",
   "name": "python",
   "nbconvert_exporter": "python",
   "pygments_lexer": "ipython3",
   "version": "3.9.5"
  },
  "toc": {
   "base_numbering": 1,
   "nav_menu": {},
   "number_sections": false,
   "sideBar": true,
   "skip_h1_title": false,
   "title_cell": "Table of Contents",
   "title_sidebar": "Contents",
   "toc_cell": false,
   "toc_position": {
    "height": "calc(100% - 180px)",
    "left": "10px",
    "top": "150px",
    "width": "382.386px"
   },
   "toc_section_display": true,
   "toc_window_display": true
  }
 },
 "nbformat": 4,
 "nbformat_minor": 2
}
