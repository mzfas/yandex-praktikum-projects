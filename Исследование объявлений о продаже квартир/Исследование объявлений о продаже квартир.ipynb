{
 "cells": [
  {
   "cell_type": "markdown",
   "metadata": {
    "toc": true
   },
   "source": [
    "<h1>Содержание<span class=\"tocSkip\"></span></h1>\n",
    "<div class=\"toc\"><ul class=\"toc-item\"><li><span><a href=\"#Изучение-данных-из-файла\" data-toc-modified-id=\"Изучение-данных-из-файла-1\"><span class=\"toc-item-num\">1&nbsp;&nbsp;</span>Изучение данных из файла</a></span><ul class=\"toc-item\"><li><span><a href=\"#Вывод\" data-toc-modified-id=\"Вывод-1.1\"><span class=\"toc-item-num\">1.1&nbsp;&nbsp;</span>Вывод</a></span></li></ul></li><li><span><a href=\"#Предобработка-данных\" data-toc-modified-id=\"Предобработка-данных-2\"><span class=\"toc-item-num\">2&nbsp;&nbsp;</span>Предобработка данных</a></span><ul class=\"toc-item\"><li><span><a href=\"#Вывод\" data-toc-modified-id=\"Вывод-2.1\"><span class=\"toc-item-num\">2.1&nbsp;&nbsp;</span>Вывод</a></span></li></ul></li><li><span><a href=\"#Расчёты-и-добавление-результатов-в-таблицу\" data-toc-modified-id=\"Расчёты-и-добавление-результатов-в-таблицу-3\"><span class=\"toc-item-num\">3&nbsp;&nbsp;</span>Расчёты и добавление результатов в таблицу</a></span><ul class=\"toc-item\"><li><span><a href=\"#Вывод\" data-toc-modified-id=\"Вывод-3.1\"><span class=\"toc-item-num\">3.1&nbsp;&nbsp;</span>Вывод</a></span></li></ul></li><li><span><a href=\"#Исследовательский-анализ-данных\" data-toc-modified-id=\"Исследовательский-анализ-данных-4\"><span class=\"toc-item-num\">4&nbsp;&nbsp;</span>Исследовательский анализ данных</a></span><ul class=\"toc-item\"><li><span><a href=\"#Вывод:\" data-toc-modified-id=\"Вывод:-4.1\"><span class=\"toc-item-num\">4.1&nbsp;&nbsp;</span>Вывод:</a></span></li></ul></li><li><span><a href=\"#Общий-вывод\" data-toc-modified-id=\"Общий-вывод-5\"><span class=\"toc-item-num\">5&nbsp;&nbsp;</span>Общий вывод</a></span></li></ul></div>"
   ]
  },
  {
   "cell_type": "markdown",
   "metadata": {},
   "source": [
    "# Исследование объявлений о продаже квартир\n",
    "\n",
    "**Задачи исследования:** \n",
    "1. Провести анализ общей информации.\n",
    "2. Выполнить предобработку данных.\n",
    "3. Провести исследовательский анализ данных. Выяснить какие факторы больше всего влияют на стоимость квартиры.\n",
    "4. Составить выводы на основе полученных результатов.\n",
    "\n",
    "**Исходные данные:** архив объявлений Яндекс.Недвижимость о продаже квартир в Санкт-Петербурге и соседних населённых пунктах за несколько лет.\n",
    "\n",
    "Результаты исследования помогут построить автоматизированную систему, которая будет отслеживать аномалии и мошенническую деятельность. \n",
    " "
   ]
  },
  {
   "cell_type": "markdown",
   "metadata": {},
   "source": [
    "**Описание данных:**\n",
    "- `airports_nearest` — расстояние до ближайшего аэропорта в метрах (м)\n",
    "- `balcony` — число балконов\n",
    "- `ceiling_height` — высота потолков (м)\n",
    "- `cityCenters_nearest` — расстояние до центра города (м)\n",
    "- `days_exposition` — сколько дней было размещено объявление (от публикации до снятия)\n",
    "- `first_day_exposition` — дата публикации\n",
    "- `floor` — этаж\n",
    "- `floors_total` — всего этажей в доме\n",
    "- `is_apartment` — апартаменты (булев тип)\n",
    "- `kitchen_area` — площадь кухни в квадратных метрах (м²)\n",
    "- `last_price` — цена на момент снятия с публикации\n",
    "- `living_area` — жилая площадь в квадратных метрах (м²)\n",
    "- `locality_name` — название населённого пункта\n",
    "- `open_plan` — свободная планировка (булев тип)\n",
    "- `parks_around3000` — число парков в радиусе 3 км\n",
    "- `parks_nearest` — расстояние до ближайшего парка (м)\n",
    "- `ponds_around3000` — число водоёмов в радиусе 3 км\n",
    "- `ponds_nearest` — расстояние до ближайшего водоёма (м)\n",
    "- `rooms` — число комнат\n",
    "- `studio` — квартира-студия (булев тип)\n",
    "- `total_area` — площадь квартиры в квадратных метрах (м²)\n",
    "- `total_images` — число фотографий квартиры в объявлении"
   ]
  },
  {
   "cell_type": "markdown",
   "metadata": {},
   "source": [
    "## Изучение данных из файла"
   ]
  },
  {
   "cell_type": "code",
   "execution_count": 1,
   "metadata": {},
   "outputs": [],
   "source": [
    "import pandas as pd\n",
    "import matplotlib.pyplot as plt\n",
    "df = pd.read_csv('/datasets/real_estate_data.csv', sep='\\t')"
   ]
  },
  {
   "cell_type": "code",
   "execution_count": 2,
   "metadata": {},
   "outputs": [
    {
     "name": "stdout",
     "output_type": "stream",
     "text": [
      "<class 'pandas.core.frame.DataFrame'>\n",
      "RangeIndex: 23699 entries, 0 to 23698\n",
      "Data columns (total 22 columns):\n",
      " #   Column                Non-Null Count  Dtype  \n",
      "---  ------                --------------  -----  \n",
      " 0   total_images          23699 non-null  int64  \n",
      " 1   last_price            23699 non-null  float64\n",
      " 2   total_area            23699 non-null  float64\n",
      " 3   first_day_exposition  23699 non-null  object \n",
      " 4   rooms                 23699 non-null  int64  \n",
      " 5   ceiling_height        14504 non-null  float64\n",
      " 6   floors_total          23613 non-null  float64\n",
      " 7   living_area           21796 non-null  float64\n",
      " 8   floor                 23699 non-null  int64  \n",
      " 9   is_apartment          2775 non-null   object \n",
      " 10  studio                23699 non-null  bool   \n",
      " 11  open_plan             23699 non-null  bool   \n",
      " 12  kitchen_area          21421 non-null  float64\n",
      " 13  balcony               12180 non-null  float64\n",
      " 14  locality_name         23650 non-null  object \n",
      " 15  airports_nearest      18157 non-null  float64\n",
      " 16  cityCenters_nearest   18180 non-null  float64\n",
      " 17  parks_around3000      18181 non-null  float64\n",
      " 18  parks_nearest         8079 non-null   float64\n",
      " 19  ponds_around3000      18181 non-null  float64\n",
      " 20  ponds_nearest         9110 non-null   float64\n",
      " 21  days_exposition       20518 non-null  float64\n",
      "dtypes: bool(2), float64(14), int64(3), object(3)\n",
      "memory usage: 3.7+ MB\n"
     ]
    },
    {
     "data": {
      "text/html": [
       "<div>\n",
       "<style scoped>\n",
       "    .dataframe tbody tr th:only-of-type {\n",
       "        vertical-align: middle;\n",
       "    }\n",
       "\n",
       "    .dataframe tbody tr th {\n",
       "        vertical-align: top;\n",
       "    }\n",
       "\n",
       "    .dataframe thead th {\n",
       "        text-align: right;\n",
       "    }\n",
       "</style>\n",
       "<table border=\"1\" class=\"dataframe\">\n",
       "  <thead>\n",
       "    <tr style=\"text-align: right;\">\n",
       "      <th></th>\n",
       "      <th>count</th>\n",
       "      <th>mean</th>\n",
       "      <th>std</th>\n",
       "      <th>min</th>\n",
       "      <th>25%</th>\n",
       "      <th>50%</th>\n",
       "      <th>75%</th>\n",
       "      <th>max</th>\n",
       "    </tr>\n",
       "  </thead>\n",
       "  <tbody>\n",
       "    <tr>\n",
       "      <th>total_images</th>\n",
       "      <td>23699.0</td>\n",
       "      <td>9.858475e+00</td>\n",
       "      <td>5.682529e+00</td>\n",
       "      <td>0.0</td>\n",
       "      <td>6.00</td>\n",
       "      <td>9.00</td>\n",
       "      <td>14.0</td>\n",
       "      <td>50.0</td>\n",
       "    </tr>\n",
       "    <tr>\n",
       "      <th>last_price</th>\n",
       "      <td>23699.0</td>\n",
       "      <td>6.541549e+06</td>\n",
       "      <td>1.088701e+07</td>\n",
       "      <td>12190.0</td>\n",
       "      <td>3400000.00</td>\n",
       "      <td>4650000.00</td>\n",
       "      <td>6800000.0</td>\n",
       "      <td>763000000.0</td>\n",
       "    </tr>\n",
       "    <tr>\n",
       "      <th>total_area</th>\n",
       "      <td>23699.0</td>\n",
       "      <td>6.034865e+01</td>\n",
       "      <td>3.565408e+01</td>\n",
       "      <td>12.0</td>\n",
       "      <td>40.00</td>\n",
       "      <td>52.00</td>\n",
       "      <td>69.9</td>\n",
       "      <td>900.0</td>\n",
       "    </tr>\n",
       "    <tr>\n",
       "      <th>rooms</th>\n",
       "      <td>23699.0</td>\n",
       "      <td>2.070636e+00</td>\n",
       "      <td>1.078405e+00</td>\n",
       "      <td>0.0</td>\n",
       "      <td>1.00</td>\n",
       "      <td>2.00</td>\n",
       "      <td>3.0</td>\n",
       "      <td>19.0</td>\n",
       "    </tr>\n",
       "    <tr>\n",
       "      <th>ceiling_height</th>\n",
       "      <td>14504.0</td>\n",
       "      <td>2.771499e+00</td>\n",
       "      <td>1.261056e+00</td>\n",
       "      <td>1.0</td>\n",
       "      <td>2.52</td>\n",
       "      <td>2.65</td>\n",
       "      <td>2.8</td>\n",
       "      <td>100.0</td>\n",
       "    </tr>\n",
       "    <tr>\n",
       "      <th>floors_total</th>\n",
       "      <td>23613.0</td>\n",
       "      <td>1.067382e+01</td>\n",
       "      <td>6.597173e+00</td>\n",
       "      <td>1.0</td>\n",
       "      <td>5.00</td>\n",
       "      <td>9.00</td>\n",
       "      <td>16.0</td>\n",
       "      <td>60.0</td>\n",
       "    </tr>\n",
       "    <tr>\n",
       "      <th>living_area</th>\n",
       "      <td>21796.0</td>\n",
       "      <td>3.445785e+01</td>\n",
       "      <td>2.203045e+01</td>\n",
       "      <td>2.0</td>\n",
       "      <td>18.60</td>\n",
       "      <td>30.00</td>\n",
       "      <td>42.3</td>\n",
       "      <td>409.7</td>\n",
       "    </tr>\n",
       "    <tr>\n",
       "      <th>floor</th>\n",
       "      <td>23699.0</td>\n",
       "      <td>5.892358e+00</td>\n",
       "      <td>4.885249e+00</td>\n",
       "      <td>1.0</td>\n",
       "      <td>2.00</td>\n",
       "      <td>4.00</td>\n",
       "      <td>8.0</td>\n",
       "      <td>33.0</td>\n",
       "    </tr>\n",
       "    <tr>\n",
       "      <th>kitchen_area</th>\n",
       "      <td>21421.0</td>\n",
       "      <td>1.056981e+01</td>\n",
       "      <td>5.905438e+00</td>\n",
       "      <td>1.3</td>\n",
       "      <td>7.00</td>\n",
       "      <td>9.10</td>\n",
       "      <td>12.0</td>\n",
       "      <td>112.0</td>\n",
       "    </tr>\n",
       "    <tr>\n",
       "      <th>balcony</th>\n",
       "      <td>12180.0</td>\n",
       "      <td>1.150082e+00</td>\n",
       "      <td>1.071300e+00</td>\n",
       "      <td>0.0</td>\n",
       "      <td>0.00</td>\n",
       "      <td>1.00</td>\n",
       "      <td>2.0</td>\n",
       "      <td>5.0</td>\n",
       "    </tr>\n",
       "    <tr>\n",
       "      <th>airports_nearest</th>\n",
       "      <td>18157.0</td>\n",
       "      <td>2.879367e+04</td>\n",
       "      <td>1.263088e+04</td>\n",
       "      <td>0.0</td>\n",
       "      <td>18585.00</td>\n",
       "      <td>26726.00</td>\n",
       "      <td>37273.0</td>\n",
       "      <td>84869.0</td>\n",
       "    </tr>\n",
       "    <tr>\n",
       "      <th>cityCenters_nearest</th>\n",
       "      <td>18180.0</td>\n",
       "      <td>1.419128e+04</td>\n",
       "      <td>8.608386e+03</td>\n",
       "      <td>181.0</td>\n",
       "      <td>9238.00</td>\n",
       "      <td>13098.50</td>\n",
       "      <td>16293.0</td>\n",
       "      <td>65968.0</td>\n",
       "    </tr>\n",
       "    <tr>\n",
       "      <th>parks_around3000</th>\n",
       "      <td>18181.0</td>\n",
       "      <td>6.114075e-01</td>\n",
       "      <td>8.020736e-01</td>\n",
       "      <td>0.0</td>\n",
       "      <td>0.00</td>\n",
       "      <td>0.00</td>\n",
       "      <td>1.0</td>\n",
       "      <td>3.0</td>\n",
       "    </tr>\n",
       "    <tr>\n",
       "      <th>parks_nearest</th>\n",
       "      <td>8079.0</td>\n",
       "      <td>4.908046e+02</td>\n",
       "      <td>3.423180e+02</td>\n",
       "      <td>1.0</td>\n",
       "      <td>288.00</td>\n",
       "      <td>455.00</td>\n",
       "      <td>612.0</td>\n",
       "      <td>3190.0</td>\n",
       "    </tr>\n",
       "    <tr>\n",
       "      <th>ponds_around3000</th>\n",
       "      <td>18181.0</td>\n",
       "      <td>7.702547e-01</td>\n",
       "      <td>9.383456e-01</td>\n",
       "      <td>0.0</td>\n",
       "      <td>0.00</td>\n",
       "      <td>1.00</td>\n",
       "      <td>1.0</td>\n",
       "      <td>3.0</td>\n",
       "    </tr>\n",
       "    <tr>\n",
       "      <th>ponds_nearest</th>\n",
       "      <td>9110.0</td>\n",
       "      <td>5.179809e+02</td>\n",
       "      <td>2.777206e+02</td>\n",
       "      <td>13.0</td>\n",
       "      <td>294.00</td>\n",
       "      <td>502.00</td>\n",
       "      <td>729.0</td>\n",
       "      <td>1344.0</td>\n",
       "    </tr>\n",
       "    <tr>\n",
       "      <th>days_exposition</th>\n",
       "      <td>20518.0</td>\n",
       "      <td>1.808886e+02</td>\n",
       "      <td>2.197280e+02</td>\n",
       "      <td>1.0</td>\n",
       "      <td>45.00</td>\n",
       "      <td>95.00</td>\n",
       "      <td>232.0</td>\n",
       "      <td>1580.0</td>\n",
       "    </tr>\n",
       "  </tbody>\n",
       "</table>\n",
       "</div>"
      ],
      "text/plain": [
       "                       count          mean           std      min         25%  \\\n",
       "total_images         23699.0  9.858475e+00  5.682529e+00      0.0        6.00   \n",
       "last_price           23699.0  6.541549e+06  1.088701e+07  12190.0  3400000.00   \n",
       "total_area           23699.0  6.034865e+01  3.565408e+01     12.0       40.00   \n",
       "rooms                23699.0  2.070636e+00  1.078405e+00      0.0        1.00   \n",
       "ceiling_height       14504.0  2.771499e+00  1.261056e+00      1.0        2.52   \n",
       "floors_total         23613.0  1.067382e+01  6.597173e+00      1.0        5.00   \n",
       "living_area          21796.0  3.445785e+01  2.203045e+01      2.0       18.60   \n",
       "floor                23699.0  5.892358e+00  4.885249e+00      1.0        2.00   \n",
       "kitchen_area         21421.0  1.056981e+01  5.905438e+00      1.3        7.00   \n",
       "balcony              12180.0  1.150082e+00  1.071300e+00      0.0        0.00   \n",
       "airports_nearest     18157.0  2.879367e+04  1.263088e+04      0.0    18585.00   \n",
       "cityCenters_nearest  18180.0  1.419128e+04  8.608386e+03    181.0     9238.00   \n",
       "parks_around3000     18181.0  6.114075e-01  8.020736e-01      0.0        0.00   \n",
       "parks_nearest         8079.0  4.908046e+02  3.423180e+02      1.0      288.00   \n",
       "ponds_around3000     18181.0  7.702547e-01  9.383456e-01      0.0        0.00   \n",
       "ponds_nearest         9110.0  5.179809e+02  2.777206e+02     13.0      294.00   \n",
       "days_exposition      20518.0  1.808886e+02  2.197280e+02      1.0       45.00   \n",
       "\n",
       "                            50%        75%          max  \n",
       "total_images               9.00       14.0         50.0  \n",
       "last_price           4650000.00  6800000.0  763000000.0  \n",
       "total_area                52.00       69.9        900.0  \n",
       "rooms                      2.00        3.0         19.0  \n",
       "ceiling_height             2.65        2.8        100.0  \n",
       "floors_total               9.00       16.0         60.0  \n",
       "living_area               30.00       42.3        409.7  \n",
       "floor                      4.00        8.0         33.0  \n",
       "kitchen_area               9.10       12.0        112.0  \n",
       "balcony                    1.00        2.0          5.0  \n",
       "airports_nearest       26726.00    37273.0      84869.0  \n",
       "cityCenters_nearest    13098.50    16293.0      65968.0  \n",
       "parks_around3000           0.00        1.0          3.0  \n",
       "parks_nearest            455.00      612.0       3190.0  \n",
       "ponds_around3000           1.00        1.0          3.0  \n",
       "ponds_nearest            502.00      729.0       1344.0  \n",
       "days_exposition           95.00      232.0       1580.0  "
      ]
     },
     "execution_count": 2,
     "metadata": {},
     "output_type": "execute_result"
    }
   ],
   "source": [
    "df.info()\n",
    "df.describe().T"
   ]
  },
  {
   "cell_type": "code",
   "execution_count": 23,
   "metadata": {
    "scrolled": false
   },
   "outputs": [
    {
     "data": {
      "text/html": [
       "<div>\n",
       "<style scoped>\n",
       "    .dataframe tbody tr th:only-of-type {\n",
       "        vertical-align: middle;\n",
       "    }\n",
       "\n",
       "    .dataframe tbody tr th {\n",
       "        vertical-align: top;\n",
       "    }\n",
       "\n",
       "    .dataframe thead th {\n",
       "        text-align: right;\n",
       "    }\n",
       "</style>\n",
       "<table border=\"1\" class=\"dataframe\">\n",
       "  <thead>\n",
       "    <tr style=\"text-align: right;\">\n",
       "      <th></th>\n",
       "      <th>total_images</th>\n",
       "      <th>last_price</th>\n",
       "      <th>total_area</th>\n",
       "      <th>first_day_exposition</th>\n",
       "      <th>rooms</th>\n",
       "      <th>ceiling_height</th>\n",
       "      <th>floors_total</th>\n",
       "      <th>living_area</th>\n",
       "      <th>floor</th>\n",
       "      <th>is_apartment</th>\n",
       "      <th>...</th>\n",
       "      <th>ponds_nearest</th>\n",
       "      <th>days_exposition</th>\n",
       "      <th>square_price</th>\n",
       "      <th>living_area_ratio</th>\n",
       "      <th>kitchen_area_ratio</th>\n",
       "      <th>weekday</th>\n",
       "      <th>month</th>\n",
       "      <th>year</th>\n",
       "      <th>floor_category</th>\n",
       "      <th>center_km</th>\n",
       "    </tr>\n",
       "  </thead>\n",
       "  <tbody>\n",
       "    <tr>\n",
       "      <th>0</th>\n",
       "      <td>20</td>\n",
       "      <td>13000000</td>\n",
       "      <td>108.00</td>\n",
       "      <td>2019-03-07</td>\n",
       "      <td>3</td>\n",
       "      <td>2.70</td>\n",
       "      <td>16</td>\n",
       "      <td>51.00</td>\n",
       "      <td>8</td>\n",
       "      <td>NaN</td>\n",
       "      <td>...</td>\n",
       "      <td>755.0</td>\n",
       "      <td>&lt;NA&gt;</td>\n",
       "      <td>120370</td>\n",
       "      <td>47.0</td>\n",
       "      <td>23.0</td>\n",
       "      <td>четверг</td>\n",
       "      <td>март</td>\n",
       "      <td>2019</td>\n",
       "      <td>другой</td>\n",
       "      <td>16.0</td>\n",
       "    </tr>\n",
       "    <tr>\n",
       "      <th>1</th>\n",
       "      <td>7</td>\n",
       "      <td>3350000</td>\n",
       "      <td>40.40</td>\n",
       "      <td>2018-12-04</td>\n",
       "      <td>1</td>\n",
       "      <td>2.65</td>\n",
       "      <td>11</td>\n",
       "      <td>18.60</td>\n",
       "      <td>1</td>\n",
       "      <td>NaN</td>\n",
       "      <td>...</td>\n",
       "      <td>NaN</td>\n",
       "      <td>81</td>\n",
       "      <td>82921</td>\n",
       "      <td>46.0</td>\n",
       "      <td>27.0</td>\n",
       "      <td>вторник</td>\n",
       "      <td>декабрь</td>\n",
       "      <td>2018</td>\n",
       "      <td>первый</td>\n",
       "      <td>19.0</td>\n",
       "    </tr>\n",
       "    <tr>\n",
       "      <th>2</th>\n",
       "      <td>10</td>\n",
       "      <td>5196000</td>\n",
       "      <td>56.00</td>\n",
       "      <td>2015-08-20</td>\n",
       "      <td>2</td>\n",
       "      <td>2.65</td>\n",
       "      <td>5</td>\n",
       "      <td>34.30</td>\n",
       "      <td>4</td>\n",
       "      <td>NaN</td>\n",
       "      <td>...</td>\n",
       "      <td>574.0</td>\n",
       "      <td>558</td>\n",
       "      <td>92786</td>\n",
       "      <td>61.0</td>\n",
       "      <td>15.0</td>\n",
       "      <td>четверг</td>\n",
       "      <td>август</td>\n",
       "      <td>2015</td>\n",
       "      <td>другой</td>\n",
       "      <td>14.0</td>\n",
       "    </tr>\n",
       "    <tr>\n",
       "      <th>3</th>\n",
       "      <td>0</td>\n",
       "      <td>64900000</td>\n",
       "      <td>159.00</td>\n",
       "      <td>2015-07-24</td>\n",
       "      <td>3</td>\n",
       "      <td>2.65</td>\n",
       "      <td>14</td>\n",
       "      <td>45.00</td>\n",
       "      <td>9</td>\n",
       "      <td>NaN</td>\n",
       "      <td>...</td>\n",
       "      <td>234.0</td>\n",
       "      <td>424</td>\n",
       "      <td>408176</td>\n",
       "      <td>28.0</td>\n",
       "      <td>6.0</td>\n",
       "      <td>пятница</td>\n",
       "      <td>июль</td>\n",
       "      <td>2015</td>\n",
       "      <td>другой</td>\n",
       "      <td>7.0</td>\n",
       "    </tr>\n",
       "    <tr>\n",
       "      <th>4</th>\n",
       "      <td>2</td>\n",
       "      <td>10000000</td>\n",
       "      <td>100.00</td>\n",
       "      <td>2018-06-19</td>\n",
       "      <td>2</td>\n",
       "      <td>3.03</td>\n",
       "      <td>14</td>\n",
       "      <td>32.00</td>\n",
       "      <td>13</td>\n",
       "      <td>NaN</td>\n",
       "      <td>...</td>\n",
       "      <td>48.0</td>\n",
       "      <td>121</td>\n",
       "      <td>100000</td>\n",
       "      <td>32.0</td>\n",
       "      <td>41.0</td>\n",
       "      <td>вторник</td>\n",
       "      <td>июнь</td>\n",
       "      <td>2018</td>\n",
       "      <td>другой</td>\n",
       "      <td>8.0</td>\n",
       "    </tr>\n",
       "    <tr>\n",
       "      <th>5</th>\n",
       "      <td>10</td>\n",
       "      <td>2890000</td>\n",
       "      <td>30.40</td>\n",
       "      <td>2018-09-10</td>\n",
       "      <td>1</td>\n",
       "      <td>2.65</td>\n",
       "      <td>12</td>\n",
       "      <td>14.40</td>\n",
       "      <td>5</td>\n",
       "      <td>NaN</td>\n",
       "      <td>...</td>\n",
       "      <td>NaN</td>\n",
       "      <td>55</td>\n",
       "      <td>95066</td>\n",
       "      <td>47.0</td>\n",
       "      <td>30.0</td>\n",
       "      <td>понедельник</td>\n",
       "      <td>сентябрь</td>\n",
       "      <td>2018</td>\n",
       "      <td>другой</td>\n",
       "      <td>NaN</td>\n",
       "    </tr>\n",
       "    <tr>\n",
       "      <th>6</th>\n",
       "      <td>6</td>\n",
       "      <td>3700000</td>\n",
       "      <td>37.30</td>\n",
       "      <td>2017-11-02</td>\n",
       "      <td>1</td>\n",
       "      <td>2.65</td>\n",
       "      <td>26</td>\n",
       "      <td>10.60</td>\n",
       "      <td>6</td>\n",
       "      <td>NaN</td>\n",
       "      <td>...</td>\n",
       "      <td>NaN</td>\n",
       "      <td>155</td>\n",
       "      <td>99196</td>\n",
       "      <td>28.0</td>\n",
       "      <td>39.0</td>\n",
       "      <td>четверг</td>\n",
       "      <td>ноябрь</td>\n",
       "      <td>2017</td>\n",
       "      <td>другой</td>\n",
       "      <td>19.0</td>\n",
       "    </tr>\n",
       "    <tr>\n",
       "      <th>7</th>\n",
       "      <td>5</td>\n",
       "      <td>7915000</td>\n",
       "      <td>71.60</td>\n",
       "      <td>2019-04-18</td>\n",
       "      <td>2</td>\n",
       "      <td>2.65</td>\n",
       "      <td>24</td>\n",
       "      <td>30.50</td>\n",
       "      <td>22</td>\n",
       "      <td>NaN</td>\n",
       "      <td>...</td>\n",
       "      <td>NaN</td>\n",
       "      <td>&lt;NA&gt;</td>\n",
       "      <td>110545</td>\n",
       "      <td>43.0</td>\n",
       "      <td>26.0</td>\n",
       "      <td>четверг</td>\n",
       "      <td>апрель</td>\n",
       "      <td>2019</td>\n",
       "      <td>другой</td>\n",
       "      <td>12.0</td>\n",
       "    </tr>\n",
       "    <tr>\n",
       "      <th>8</th>\n",
       "      <td>20</td>\n",
       "      <td>2900000</td>\n",
       "      <td>33.16</td>\n",
       "      <td>2018-05-23</td>\n",
       "      <td>1</td>\n",
       "      <td>2.65</td>\n",
       "      <td>27</td>\n",
       "      <td>15.43</td>\n",
       "      <td>26</td>\n",
       "      <td>NaN</td>\n",
       "      <td>...</td>\n",
       "      <td>NaN</td>\n",
       "      <td>189</td>\n",
       "      <td>87455</td>\n",
       "      <td>47.0</td>\n",
       "      <td>27.0</td>\n",
       "      <td>среда</td>\n",
       "      <td>май</td>\n",
       "      <td>2018</td>\n",
       "      <td>другой</td>\n",
       "      <td>NaN</td>\n",
       "    </tr>\n",
       "    <tr>\n",
       "      <th>9</th>\n",
       "      <td>18</td>\n",
       "      <td>5400000</td>\n",
       "      <td>61.00</td>\n",
       "      <td>2017-02-26</td>\n",
       "      <td>3</td>\n",
       "      <td>2.50</td>\n",
       "      <td>9</td>\n",
       "      <td>43.60</td>\n",
       "      <td>7</td>\n",
       "      <td>NaN</td>\n",
       "      <td>...</td>\n",
       "      <td>NaN</td>\n",
       "      <td>289</td>\n",
       "      <td>88525</td>\n",
       "      <td>71.0</td>\n",
       "      <td>11.0</td>\n",
       "      <td>воскресенье</td>\n",
       "      <td>февраль</td>\n",
       "      <td>2017</td>\n",
       "      <td>другой</td>\n",
       "      <td>15.0</td>\n",
       "    </tr>\n",
       "  </tbody>\n",
       "</table>\n",
       "<p>10 rows × 30 columns</p>\n",
       "</div>"
      ],
      "text/plain": [
       "   total_images  last_price  total_area first_day_exposition  rooms  \\\n",
       "0            20    13000000      108.00           2019-03-07      3   \n",
       "1             7     3350000       40.40           2018-12-04      1   \n",
       "2            10     5196000       56.00           2015-08-20      2   \n",
       "3             0    64900000      159.00           2015-07-24      3   \n",
       "4             2    10000000      100.00           2018-06-19      2   \n",
       "5            10     2890000       30.40           2018-09-10      1   \n",
       "6             6     3700000       37.30           2017-11-02      1   \n",
       "7             5     7915000       71.60           2019-04-18      2   \n",
       "8            20     2900000       33.16           2018-05-23      1   \n",
       "9            18     5400000       61.00           2017-02-26      3   \n",
       "\n",
       "   ceiling_height  floors_total  living_area  floor is_apartment  ...  \\\n",
       "0            2.70            16        51.00      8          NaN  ...   \n",
       "1            2.65            11        18.60      1          NaN  ...   \n",
       "2            2.65             5        34.30      4          NaN  ...   \n",
       "3            2.65            14        45.00      9          NaN  ...   \n",
       "4            3.03            14        32.00     13          NaN  ...   \n",
       "5            2.65            12        14.40      5          NaN  ...   \n",
       "6            2.65            26        10.60      6          NaN  ...   \n",
       "7            2.65            24        30.50     22          NaN  ...   \n",
       "8            2.65            27        15.43     26          NaN  ...   \n",
       "9            2.50             9        43.60      7          NaN  ...   \n",
       "\n",
       "   ponds_nearest  days_exposition  square_price  living_area_ratio  \\\n",
       "0          755.0             <NA>        120370               47.0   \n",
       "1            NaN               81         82921               46.0   \n",
       "2          574.0              558         92786               61.0   \n",
       "3          234.0              424        408176               28.0   \n",
       "4           48.0              121        100000               32.0   \n",
       "5            NaN               55         95066               47.0   \n",
       "6            NaN              155         99196               28.0   \n",
       "7            NaN             <NA>        110545               43.0   \n",
       "8            NaN              189         87455               47.0   \n",
       "9            NaN              289         88525               71.0   \n",
       "\n",
       "  kitchen_area_ratio      weekday     month  year  floor_category  center_km  \n",
       "0               23.0      четверг      март  2019          другой       16.0  \n",
       "1               27.0      вторник   декабрь  2018          первый       19.0  \n",
       "2               15.0      четверг    август  2015          другой       14.0  \n",
       "3                6.0      пятница      июль  2015          другой        7.0  \n",
       "4               41.0      вторник      июнь  2018          другой        8.0  \n",
       "5               30.0  понедельник  сентябрь  2018          другой        NaN  \n",
       "6               39.0      четверг    ноябрь  2017          другой       19.0  \n",
       "7               26.0      четверг    апрель  2019          другой       12.0  \n",
       "8               27.0        среда       май  2018          другой        NaN  \n",
       "9               11.0  воскресенье   февраль  2017          другой       15.0  \n",
       "\n",
       "[10 rows x 30 columns]"
      ]
     },
     "metadata": {},
     "output_type": "display_data"
    }
   ],
   "source": [
    "display(df.head(10))"
   ]
  },
  {
   "cell_type": "markdown",
   "metadata": {},
   "source": [
    "### Вывод"
   ]
  },
  {
   "cell_type": "markdown",
   "metadata": {},
   "source": [
    "Изучив общую информацию видим несколько проблем в исходных данных: в нескольких столбцах таблицы имеются пропущенные значения и тип данных float, заменим пропуски и изменим тип данных там, где это будет корректно. Причиной появления пропусков могут быть проблемы при выгрузке данных или ошибки при вводе данных. Также для удобства стоит привести столбец cityCenters_nearest к змеиному регистру."
   ]
  },
  {
   "cell_type": "markdown",
   "metadata": {},
   "source": [
    "## Предобработка данных"
   ]
  },
  {
   "cell_type": "code",
   "execution_count": 4,
   "metadata": {
    "scrolled": false
   },
   "outputs": [],
   "source": [
    "df = df.rename(columns={'cityCenters_nearest': 'city_centers_nearest'})\n",
    "df['first_day_exposition'] = pd.to_datetime(df['first_day_exposition'], format='%Y-%m-%d')\n",
    "\n",
    "df['balcony'] = df['balcony'].fillna(0)\n",
    "df['parks_around3000'] = df['parks_around3000'].fillna(0)\n",
    "df['ponds_around3000'] = df['ponds_around3000'].fillna(0)\n",
    "\n",
    "\n",
    "ceiling_median = df['ceiling_height'].median() \n",
    "df['ceiling_height'] = df['ceiling_height'].fillna(ceiling_median) \n",
    "\n",
    "floors_median = df['floors_total'].median()\n",
    "df['floors_total'] = df['floors_total'].fillna(floors_median)\n",
    "\n",
    "df['living_area'] = df['living_area'].fillna(df.groupby('rooms')['living_area'].transform('median')) \n",
    "df['kitchen_area'] = df['kitchen_area'].fillna(df.groupby('rooms')['kitchen_area'].transform('median')) "
   ]
  },
  {
   "cell_type": "markdown",
   "metadata": {},
   "source": [
    "Изменим типы данных на еще более подходящие и замерим, сколько памяти в % мы сэкономим."
   ]
  },
  {
   "cell_type": "code",
   "execution_count": 5,
   "metadata": {},
   "outputs": [
    {
     "name": "stdout",
     "output_type": "stream",
     "text": [
      "0.54 MB\n",
      "0.07 MB\n"
     ]
    }
   ],
   "source": [
    "def mem_usage(pandas_obj):\n",
    "    if isinstance(pandas_obj,pd.DataFrame):\n",
    "        usage_b = pandas_obj.memory_usage(deep=True).sum()\n",
    "    else: \n",
    "        usage_b = pandas_obj.memory_usage(deep=True)\n",
    "    usage_mb = usage_b / 1024 ** 2\n",
    "    return \"{:03.2f} MB\".format(usage_mb)\n",
    "\n",
    "df_int = df.select_dtypes(include=['int'])\n",
    "converted_int = df_int.apply(pd.to_numeric,downcast='unsigned')\n",
    "print(mem_usage(df_int))\n",
    "print(mem_usage(converted_int))\n",
    "\n",
    "df['balcony'] = df['balcony'].astype('int8')\n",
    "df['floors_total'] = df['floors_total'].astype('int8')\n",
    "df['parks_around3000'] = df['parks_around3000'].astype('int8')\n",
    "df['ponds_around3000'] = df['ponds_around3000'].astype('int8')\n",
    "df['last_price'] = df['last_price'].astype('int32')\n",
    "df['days_exposition'] = df['days_exposition'].round().astype('Int32')\n"
   ]
  },
  {
   "cell_type": "code",
   "execution_count": 6,
   "metadata": {},
   "outputs": [],
   "source": [
    "df['locality_name'] = df['locality_name'].replace('Мурино', 'посёлок Мурино')\n",
    "df['locality_name'] = df['locality_name'].replace('поселок Мурино', 'посёлок Мурино')\n",
    "df['locality_name'] = df['locality_name'].replace('Кудрово', 'деревня Кудрово')"
   ]
  },
  {
   "cell_type": "markdown",
   "metadata": {},
   "source": [
    "### Вывод"
   ]
  },
  {
   "cell_type": "markdown",
   "metadata": {},
   "source": [
    "Предположим, что пропуски в столбцах с количеством балконов и количеством парков и прудов в радиусе 3 км связаны с тем,\n",
    "что их по просту нет. Заменим их на 0 методом .fillna(), позволяющим заменить все пропущенные значения в нужном столбце\n",
    "датафрейма. NaN в столбцах с высотой потолков и количеством этажей заменим медианой, а в жилой площади и площади кухни медианой\n",
    "в соответствии с количеством комнат квартир. Методом .rename изменим название cityCenters_nearest и уберем лишнюю информацию из столбца с датой размещения объявления: приведем дату к формату Year, month, day. Также изменим тип данных в \n",
    "столбцах с количеством балконов, этажей, дней размещения объявления, парков и прудов в радиусе 3 км и цены методом .astype()\n",
    "Методом .replace() избавимся от неявных дубликтов в столбце с населенными пунктами. "
   ]
  },
  {
   "cell_type": "markdown",
   "metadata": {},
   "source": [
    "## Расчёты и добавление результатов в таблицу"
   ]
  },
  {
   "cell_type": "code",
   "execution_count": 7,
   "metadata": {},
   "outputs": [],
   "source": [
    "df['square_price'] = (df['last_price'] / df['total_area']).round().astype('int')\n",
    "df['living_area_ratio'] = ((df['living_area'] / df['total_area']) * 100).round()\n",
    "df['kitchen_area_ratio'] = ((df['kitchen_area'] / df['total_area']) * 100).round()\n",
    "\n",
    "df['weekday'] = df['first_day_exposition'].dt.weekday\n",
    "df['month'] = df['first_day_exposition'].dt.month\n",
    "df['year'] = df['first_day_exposition'].dt.year\n",
    "\n",
    "def weekday_name(day):\n",
    "    if day == 0:\n",
    "        return 'понедельник'\n",
    "    if day == 1:\n",
    "        return 'вторник'\n",
    "    if day == 2:\n",
    "        return 'среда'\n",
    "    if day == 3:\n",
    "        return 'четверг'\n",
    "    if day == 4:\n",
    "        return 'пятница'\n",
    "    if day == 5:\n",
    "        return 'суббота'\n",
    "    if day == 6:\n",
    "        return 'воскресенье'\n",
    "    \n",
    "def month_name(month):\n",
    "    if month == 1:\n",
    "        return 'январь'\n",
    "    if month == 2:\n",
    "        return 'февраль'\n",
    "    if month == 3:\n",
    "        return 'март'\n",
    "    if month == 4:\n",
    "        return 'апрель'\n",
    "    if month == 5:\n",
    "        return 'май'\n",
    "    if month == 6:\n",
    "        return 'июнь'\n",
    "    if month == 7:\n",
    "        return 'июль'\n",
    "    if month == 8:\n",
    "        return 'август'\n",
    "    if month == 9:\n",
    "        return 'сентябрь'\n",
    "    if month == 10:\n",
    "        return 'октябрь'\n",
    "    if month == 11:\n",
    "        return 'ноябрь'\n",
    "    if month == 12:\n",
    "        return 'декабрь'\n",
    "    \n",
    "def create_floor_category(row):\n",
    "    floor = row['floor']\n",
    "    if floor == 1:\n",
    "        return 'первый'\n",
    "    if floor == row['floors_total']:\n",
    "        return 'последний'\n",
    "    else:\n",
    "        return 'другой'\n",
    "    \n",
    "       \n",
    "df['weekday'] = df['weekday'].apply(weekday_name)\n",
    "df['month'] = df['month'].apply(month_name)\n",
    "df['floor_category'] = df.apply(create_floor_category, axis=1)"
   ]
  },
  {
   "cell_type": "markdown",
   "metadata": {},
   "source": [
    "### Вывод"
   ]
  },
  {
   "cell_type": "markdown",
   "metadata": {},
   "source": [
    "Добавим новые столбцы в нашу таблицу: посчитаем цену квадратного метра. Для этого поделим цену квартиры на её общую площадь, для удобства округлим полученное значение и приведем к целочисленному типу. Также посчитаем соотношение жилой и общей площади, и отношение площади кухни к общей, результаты округлим и занесем в square_price, living_area_ratio и kitchen_area_ratio соответственно. \n",
    "Методом .dt.weekday, .dt.month, .dt.year внесем в новые столбцы датафрейма данные о дате публикации объявления: день, месяц, год. Для лучшего восприятия напишем функции, которые заменят цифры в этих столбцах на соответствующий день или месяц в текстовом формате и применим их к нужным стоблцам методом .apply(). Также напишем функцию, которая проведет категоризацию этажа квартиры и вернет одно из трёх значений: первый, последний, другой и применим ее указав параметр axis=1, чтобы на вход в функцию отправлялись строки."
   ]
  },
  {
   "cell_type": "markdown",
   "metadata": {},
   "source": [
    "## Исследовательский анализ данных"
   ]
  },
  {
   "cell_type": "code",
   "execution_count": 8,
   "metadata": {
    "scrolled": true
   },
   "outputs": [
    {
     "data": {
      "image/png": "[encoded data removed]",
      "text/plain": [
       "<Figure size 432x288 with 1 Axes>"
      ]
     },
     "metadata": {
      "needs_background": "light"
     },
     "output_type": "display_data"
    }
   ],
   "source": [
    "#df['total_area'].hist(bins=20, range=(0,150)); \n",
    "plt.hist(x=df['total_area'], bins=20, range=(0,150))\n",
    "plt.xlabel('Кв. м')\n",
    "plt.ylabel('Количество предложений')\n",
    "plt.title('Гистограмма площади квартир')\n",
    "plt.grid(True)\n",
    "plt.show;"
   ]
  },
  {
   "cell_type": "markdown",
   "metadata": {},
   "source": [
    "### Вывод:"
   ]
  },
  {
   "cell_type": "markdown",
   "metadata": {},
   "source": [
    "Выясним площадь предложенных квартир. Построим гистограмму методом .hist(). Изучив ее мы видим, что большинство квартир имеют площаль около 35 кв м, чуть меньше квартир с площадью около 40 кв м. "
   ]
  },
  {
   "cell_type": "code",
   "execution_count": 9,
   "metadata": {},
   "outputs": [
    {
     "data": {
      "image/png": "[encoded data removed]",
      "text/plain": [
       "<Figure size 432x288 with 1 Axes>"
      ]
     },
     "metadata": {
      "needs_background": "light"
     },
     "output_type": "display_data"
    }
   ],
   "source": [
    "#df['last_price'].hist(bins=10, range=(0,10000000));\n",
    "plt.hist(x=df['last_price'], bins=10, range=(0,10000000))\n",
    "plt.xlabel('Цена')\n",
    "plt.ylabel('Количество предложений')\n",
    "plt.title('Гистограмма цены квартир')\n",
    "plt.grid(True)\n",
    "plt.show;"
   ]
  },
  {
   "cell_type": "markdown",
   "metadata": {},
   "source": [
    "Построим гистограмму цены, ограничив значение в 10 млн. Изучив гистограмму можем сделать вывод, что цена большинства квартир находится в радиусе около 3-4 млн рублей."
   ]
  },
  {
   "cell_type": "code",
   "execution_count": 10,
   "metadata": {},
   "outputs": [
    {
     "data": {
      "image/png": "[encoded data removed]",
      "text/plain": [
       "<Figure size 432x288 with 1 Axes>"
      ]
     },
     "metadata": {
      "needs_background": "light"
     },
     "output_type": "display_data"
    }
   ],
   "source": [
    "#df['rooms'].hist(bins=30, range=(0,10)); \n",
    "plt.hist(x=df['rooms'], bins=30, range=(0,10))\n",
    "plt.xlabel('Количество комнат')\n",
    "plt.ylabel('Количество предложений')\n",
    "plt.title('Гистограмма количества комнат')\n",
    "plt.grid(True)\n",
    "plt.show;"
   ]
  },
  {
   "cell_type": "markdown",
   "metadata": {},
   "source": [
    "По гистограммме количества комнат делаем вывод, что большинство предложенных квартир однокомнатные: их чуть больше 8 тысяч, двухкомнатных квартир чуть меньше 8 тысяч, трёхкомнатных менее 6 тысяч."
   ]
  },
  {
   "cell_type": "code",
   "execution_count": 11,
   "metadata": {
    "scrolled": false
   },
   "outputs": [
    {
     "data": {
      "image/png": "[encoded data removed]",
      "text/plain": [
       "<Figure size 432x288 with 1 Axes>"
      ]
     },
     "metadata": {
      "needs_background": "light"
     },
     "output_type": "display_data"
    }
   ],
   "source": [
    "#df['ceiling_height'].hist(bins=20, range=(2,4));\n",
    "plt.hist(x=df['ceiling_height'], bins=20, range=(2,4))\n",
    "plt.xlabel('Высота потолков в метрах')\n",
    "plt.ylabel('Количество предложений')\n",
    "plt.title('Гистограмма высоты потолков')\n",
    "plt.grid(True)\n",
    "plt.show;"
   ]
  },
  {
   "cell_type": "markdown",
   "metadata": {},
   "source": [
    "Гистограмма высоты потолков показывает, что большинство квартир (около 10 тысяч) имеют высоту потолков примерно 2.6 м.  "
   ]
  },
  {
   "cell_type": "code",
   "execution_count": 12,
   "metadata": {},
   "outputs": [
    {
     "name": "stdout",
     "output_type": "stream",
     "text": [
      "Среднее: 181\n",
      "Медиана: 95\n"
     ]
    },
    {
     "data": {
      "image/png": "[encoded data removed]",
      "text/plain": [
       "<Figure size 432x288 with 1 Axes>"
      ]
     },
     "metadata": {
      "needs_background": "light"
     },
     "output_type": "display_data"
    }
   ],
   "source": [
    "df['days_exposition'].hist(bins=20, range=(0,600));\n",
    "print('Среднее:', df['days_exposition'].mean().round().astype('int'))\n",
    "print('Медиана:', df['days_exposition'].median().astype('int'))\n",
    "\n",
    "#plt.hist(x=df['days_exposition'], bins=20, range=(0,600))\n",
    "plt.xlabel('Количество дней')\n",
    "plt.ylabel('Количество предложений')\n",
    "plt.title('Гистограмма количества дней размещения объявления')\n",
    "plt.grid(True)\n",
    "plt.show;"
   ]
  },
  {
   "cell_type": "markdown",
   "metadata": {},
   "source": [
    "По гистограмме количества дней размещения объявления можно сделать вывод, что большинство квартир продаются около двух месяцев, среднее время продажи: 181 день."
   ]
  },
  {
   "cell_type": "code",
   "execution_count": 13,
   "metadata": {},
   "outputs": [
    {
     "name": "stdout",
     "output_type": "stream",
     "text": [
      "Корреляция 0.6536750579657242\n"
     ]
    },
    {
     "data": {
      "image/png": "[encoded data removed]",
      "text/plain": [
       "<Figure size 432x288 with 1 Axes>"
      ]
     },
     "metadata": {
      "needs_background": "light"
     },
     "output_type": "display_data"
    }
   ],
   "source": [
    "df.plot(title='График зависимости стоимости квартир от общей площади',\n",
    "        x='last_price',\n",
    "        y='total_area',\n",
    "        kind='scatter',\n",
    "        grid=True);\n",
    "\n",
    "print('Корреляция', df['total_area'].corr(df['last_price']))"
   ]
  },
  {
   "cell_type": "markdown",
   "metadata": {},
   "source": [
    "Построим график и изучим зависимость стоимости от общей площади квартиры. Изучив его и посчитав коэффицент корреляции можно сделать вывод, что зависимость действительно есть, чем больше площадь, тем больше цена."
   ]
  },
  {
   "cell_type": "code",
   "execution_count": 14,
   "metadata": {
    "scrolled": true
   },
   "outputs": [
    {
     "name": "stdout",
     "output_type": "stream",
     "text": [
      "Корреляция 0.3633428499648948\n"
     ]
    },
    {
     "data": {
      "image/png": "[encoded data removed]",
      "text/plain": [
       "<Figure size 432x288 with 1 Axes>"
      ]
     },
     "metadata": {
      "needs_background": "light"
     },
     "output_type": "display_data"
    }
   ],
   "source": [
    "df.plot(title='График зависимости стоимости квартир от количества комнат',\n",
    "        x='rooms',\n",
    "        y='last_price',\n",
    "        kind='scatter',\n",
    "        grid=True);\n",
    "print('Корреляция', df['rooms'].corr(df['last_price']))"
   ]
  },
  {
   "cell_type": "markdown",
   "metadata": {},
   "source": [
    "Корреляция в 0.36 говорит о наличии слабой связи между количеством комнат и стоимость, однако она гораздо меньше, чем в случае с площадью. По графику видим возрастание цены в промежутке от 1 комнаты до 5."
   ]
  },
  {
   "cell_type": "code",
   "execution_count": 15,
   "metadata": {
    "scrolled": true
   },
   "outputs": [
    {
     "name": "stdout",
     "output_type": "stream",
     "text": [
      "Корреляция -0.20674734874298373\n"
     ]
    },
    {
     "data": {
      "image/png": "[encoded data removed]",
      "text/plain": [
       "<Figure size 432x288 with 1 Axes>"
      ]
     },
     "metadata": {
      "needs_background": "light"
     },
     "output_type": "display_data"
    }
   ],
   "source": [
    "df.plot(title='График зависимости цены от удаленности от центра города', \n",
    "        x='city_centers_nearest',\n",
    "        y='last_price', \n",
    "        kind='scatter', \n",
    "        grid=True);\n",
    "print('Корреляция', df['city_centers_nearest'].corr(df['last_price']))"
   ]
  },
  {
   "cell_type": "markdown",
   "metadata": {},
   "source": [
    "По графику зависимости цены от удаленности от центра города и коэффициенту корреляции можно сказать, что взаимосвязи в данном случае парктически нет. Однако квартиры на расстоянии менее 10 км от центра действительно имеют большую стоимость, по сравнению с остальными."
   ]
  },
  {
   "cell_type": "code",
   "execution_count": 16,
   "metadata": {
    "scrolled": true
   },
   "outputs": [
    {
     "data": {
      "image/png": "[encoded data removed]",
      "text/plain": [
       "<Figure size 576x360 with 1 Axes>"
      ]
     },
     "metadata": {
      "needs_background": "light"
     },
     "output_type": "display_data"
    }
   ],
   "source": [
    "(\n",
    "    df\n",
    "    .pivot_table(index='floor_category', values='last_price', aggfunc='median')\n",
    "    .plot(title='Зависимость цены от этажа квартиры', grid=True, figsize=(8,5))\n",
    ");"
   ]
  },
  {
   "cell_type": "markdown",
   "metadata": {},
   "source": [
    "Медиана стоимости квартир по отношению с категорией этажа показывает, что расположенные на первом этаже квартиры имеют меньшую стоимость, чем на последнем, но квартиры на других этажах стоят еще дороже. "
   ]
  },
  {
   "cell_type": "code",
   "execution_count": 17,
   "metadata": {},
   "outputs": [
    {
     "data": {
      "image/png": "[encoded data removed]",
      "text/plain": [
       "<Figure size 720x360 with 1 Axes>"
      ]
     },
     "metadata": {
      "needs_background": "light"
     },
     "output_type": "display_data"
    }
   ],
   "source": [
    "(\n",
    "    df\n",
    "    .pivot_table(index='weekday', values='last_price', aggfunc='median')\n",
    "    .plot(title='Зависимость цены от дня недели размещения объявления', grid=True, figsize=(10,5))\n",
    ");"
   ]
  },
  {
   "cell_type": "markdown",
   "metadata": {},
   "source": [
    "Квартиры, опубликованные в выходные дни имеют меньшую стоимость, по сравнению с будними днями. Самая высокая стоимость наблюдается во вторник, самая низкая - в воскресенье. "
   ]
  },
  {
   "cell_type": "code",
   "execution_count": 18,
   "metadata": {
    "scrolled": false
   },
   "outputs": [
    {
     "data": {
      "image/png": "[encoded data removed]",
      "text/plain": [
       "<Figure size 720x432 with 1 Axes>"
      ]
     },
     "metadata": {
      "needs_background": "light"
     },
     "output_type": "display_data"
    }
   ],
   "source": [
    "(\n",
    "    df\n",
    "    .pivot_table(index='month', values='last_price', aggfunc='median')\n",
    "    .plot(title='Зависимость цены от месяца размещения объявления', kind='bar', grid=True, figsize=(10,6))\n",
    ");"
   ]
  },
  {
   "cell_type": "markdown",
   "metadata": {},
   "source": [
    "В случае с месяцем публикации объявления самая низкая цена наблюдается в июне, самая высокая - в апреле. Но в целом различия в стоимости по месяцам минимальны."
   ]
  },
  {
   "cell_type": "code",
   "execution_count": 19,
   "metadata": {},
   "outputs": [
    {
     "data": {
      "image/png": "[encoded data removed]",
      "text/plain": [
       "<Figure size 720x360 with 1 Axes>"
      ]
     },
     "metadata": {
      "needs_background": "light"
     },
     "output_type": "display_data"
    }
   ],
   "source": [
    "(\n",
    "    df\n",
    "    .pivot_table(index='year', values='last_price', aggfunc='median')\n",
    "    .plot(title='Зависимость цены от года публикации объявления', grid=True, figsize=(10,5))\n",
    ");"
   ]
  },
  {
   "cell_type": "markdown",
   "metadata": {},
   "source": [
    "По графику зависимости цены от года публикации объяления видим, что квартиры, выложенные на продажу в 2014 году выделяются по сравнению с остальными годами, от 2014 до 2016 года идет снижение средней стоимости, два последующих года различия минимальны и начиная с 2018 стоимость начала увеличиваться."
   ]
  },
  {
   "cell_type": "code",
   "execution_count": 20,
   "metadata": {},
   "outputs": [
    {
     "name": "stdout",
     "output_type": "stream",
     "text": [
      "Санкт-Петербург      15721\n",
      "посёлок Мурино         590\n",
      "деревня Кудрово        472\n",
      "посёлок Шушары         440\n",
      "Всеволожск             398\n",
      "Пушкин                 369\n",
      "Колпино                338\n",
      "посёлок Парголово      327\n",
      "Гатчина                307\n",
      "Выборг                 237\n",
      "Name: locality_name, dtype: int64\n"
     ]
    },
    {
     "data": {
      "text/html": [
       "<div>\n",
       "<style scoped>\n",
       "    .dataframe tbody tr th:only-of-type {\n",
       "        vertical-align: middle;\n",
       "    }\n",
       "\n",
       "    .dataframe tbody tr th {\n",
       "        vertical-align: top;\n",
       "    }\n",
       "\n",
       "    .dataframe thead th {\n",
       "        text-align: right;\n",
       "    }\n",
       "</style>\n",
       "<table border=\"1\" class=\"dataframe\">\n",
       "  <thead>\n",
       "    <tr style=\"text-align: right;\">\n",
       "      <th></th>\n",
       "      <th>square_price</th>\n",
       "    </tr>\n",
       "    <tr>\n",
       "      <th>locality_name</th>\n",
       "      <th></th>\n",
       "    </tr>\n",
       "  </thead>\n",
       "  <tbody>\n",
       "    <tr>\n",
       "      <th>Санкт-Петербург</th>\n",
       "      <td>104762.0</td>\n",
       "    </tr>\n",
       "    <tr>\n",
       "      <th>Пушкин</th>\n",
       "      <td>100000.0</td>\n",
       "    </tr>\n",
       "    <tr>\n",
       "      <th>деревня Кудрово</th>\n",
       "      <td>95675.5</td>\n",
       "    </tr>\n",
       "    <tr>\n",
       "      <th>посёлок Парголово</th>\n",
       "      <td>91643.0</td>\n",
       "    </tr>\n",
       "    <tr>\n",
       "      <th>посёлок Мурино</th>\n",
       "      <td>86175.5</td>\n",
       "    </tr>\n",
       "    <tr>\n",
       "      <th>посёлок Шушары</th>\n",
       "      <td>76876.0</td>\n",
       "    </tr>\n",
       "    <tr>\n",
       "      <th>Колпино</th>\n",
       "      <td>74723.5</td>\n",
       "    </tr>\n",
       "    <tr>\n",
       "      <th>Гатчина</th>\n",
       "      <td>67797.0</td>\n",
       "    </tr>\n",
       "    <tr>\n",
       "      <th>Всеволожск</th>\n",
       "      <td>65789.0</td>\n",
       "    </tr>\n",
       "    <tr>\n",
       "      <th>Выборг</th>\n",
       "      <td>58158.0</td>\n",
       "    </tr>\n",
       "  </tbody>\n",
       "</table>\n",
       "</div>"
      ],
      "text/plain": [
       "                   square_price\n",
       "locality_name                  \n",
       "Санкт-Петербург        104762.0\n",
       "Пушкин                 100000.0\n",
       "деревня Кудрово         95675.5\n",
       "посёлок Парголово       91643.0\n",
       "посёлок Мурино          86175.5\n",
       "посёлок Шушары          76876.0\n",
       "Колпино                 74723.5\n",
       "Гатчина                 67797.0\n",
       "Всеволожск              65789.0\n",
       "Выборг                  58158.0"
      ]
     },
     "metadata": {},
     "output_type": "display_data"
    }
   ],
   "source": [
    "print(df['locality_name'].value_counts().head(10))\n",
    "\n",
    "ten = ['Санкт-Петербург', 'посёлок Мурино', 'посёлок Шушары', 'Всеволожск', 'Пушкин', 'Колпино','посёлок Парголово', 'Гатчина','деревня Кудрово','Выборг']\n",
    "\n",
    "top10 = (\n",
    "    df\n",
    "    .query('locality_name in @ten')\n",
    "    .pivot_table(index='locality_name', values='square_price', aggfunc='median')\n",
    ")\n",
    "\n",
    "display(top10.sort_values(by='square_price', ascending=False))"
   ]
  },
  {
   "cell_type": "markdown",
   "metadata": {},
   "source": [
    "Найдем 10 населённых пунктов с наибольшим числом объявлений методом .value_counts(). Cохраним результаты в список ten. Сделаем срез данных исходной таблицы, добавим в нашу новую таблицу только те населенные пункты, которые есть в списке с наибольшим числом объявлений и посчитаем среднюю цену квадратного метра в этих населенных пунктах. В результате видим, что самая высокая цена квадратного метра в Санкт-Петербурге, самая низкая - в Выборге. "
   ]
  },
  {
   "cell_type": "code",
   "execution_count": 21,
   "metadata": {
    "scrolled": true
   },
   "outputs": [
    {
     "data": {
      "image/png": "[encoded data removed]",
      "text/plain": [
       "<Figure size 720x360 with 1 Axes>"
      ]
     },
     "metadata": {
      "needs_background": "light"
     },
     "output_type": "display_data"
    }
   ],
   "source": [
    "df['center_km'] = (df['city_centers_nearest'] / 1000).round()\n",
    "\n",
    "(\n",
    "    df\n",
    "    .query('locality_name == \"Санкт-Петербург\"')\n",
    "    .pivot_table(index='center_km', values='last_price', aggfunc='median')\n",
    "    .plot(title='Зависимость цены от удаленности от центра в Санкт-Петербурге', grid=True, figsize=(10,5))\n",
    ");"
   ]
  },
  {
   "cell_type": "markdown",
   "metadata": {},
   "source": [
    "Создадим столбец center_km, который будет содержать в себе расстояние до центра города в километрах, округлим это значение. \n",
    "Построим график зависимости цены от удаленности от центра в городе Санкт-Петербург. Изучив его можем сделать вывод, что чем ближе квартира располагается к центру, тем выше ее стоимость, однако это правило не работает для квартир, расположенных дальше 8 км. Отбросим значения больше 8 км, таким образом мы определим центральную область. Далее проанализируем ее. "
   ]
  },
  {
   "cell_type": "code",
   "execution_count": 22,
   "metadata": {
    "scrolled": false
   },
   "outputs": [
    {
     "data": {
      "image/png": "[encoded data removed]",
      "text/plain": [
       "<Figure size 720x360 with 1 Axes>"
      ]
     },
     "metadata": {
      "needs_background": "light"
     },
     "output_type": "display_data"
    },
    {
     "data": {
      "image/png": "[encoded data removed]",
      "text/plain": [
       "<Figure size 720x360 with 1 Axes>"
      ]
     },
     "metadata": {
      "needs_background": "light"
     },
     "output_type": "display_data"
    },
    {
     "data": {
      "image/png": "[encoded data removed]",
      "text/plain": [
       "<Figure size 720x360 with 1 Axes>"
      ]
     },
     "metadata": {
      "needs_background": "light"
     },
     "output_type": "display_data"
    },
    {
     "data": {
      "image/png": "[encoded data removed]",
      "text/plain": [
       "<Figure size 720x360 with 1 Axes>"
      ]
     },
     "metadata": {
      "needs_background": "light"
     },
     "output_type": "display_data"
    },
    {
     "data": {
      "image/png": "[encoded data removed]",
      "text/plain": [
       "<Figure size 720x360 with 1 Axes>"
      ]
     },
     "metadata": {
      "needs_background": "light"
     },
     "output_type": "display_data"
    },
    {
     "data": {
      "image/png": "[encoded data removed]",
      "text/plain": [
       "<Figure size 720x360 with 1 Axes>"
      ]
     },
     "metadata": {
      "needs_background": "light"
     },
     "output_type": "display_data"
    }
   ],
   "source": [
    "(\n",
    "    df\n",
    "    .query('locality_name ==\"Санкт-Петербург\" and center_km <= 8')\n",
    "    .pivot_table(index='center_km', values='last_price', aggfunc='median')\n",
    "    .plot(title='Зависимость цены от удаленности от центра', grid=True, figsize=(10,5))\n",
    ");\n",
    "\n",
    "(\n",
    "    df\n",
    "    .query('locality_name ==\"Санкт-Петербург\" and center_km <= 8')\n",
    "    .pivot_table(index='rooms', values='last_price', aggfunc='median')\n",
    "    .plot(title='Зависимость цены от кол-ва комнат', grid=True, figsize=(10,5))\n",
    ");\n",
    "\n",
    "(\n",
    "    df\n",
    "    .query('locality_name ==\"Санкт-Петербург\" and center_km <= 8')\n",
    "    .pivot_table(index='floor_category', values='last_price', aggfunc='median')\n",
    "    .plot(title='Зависимость цены от этажа квартиры', grid=True, figsize=(10,5))\n",
    ");\n",
    "\n",
    "(\n",
    "    df\n",
    "    .query('locality_name ==\"Санкт-Петербург\" and center_km <= 8')\n",
    "    .pivot_table(index='weekday', values='last_price', aggfunc='median')\n",
    "    .plot(title='Зависимость цены от дня недели, в котором было опубликовано объявление', grid=True, figsize=(10,5))\n",
    ");    \n",
    "\n",
    "(\n",
    "    df\n",
    "    .query('locality_name ==\"Санкт-Петербург\" and center_km <= 8')\n",
    "    .pivot_table(index='month', values='last_price', aggfunc='median')\n",
    "    .plot(title='Зависимость цены от месяца, в котором было опубликовано объявление', kind='bar', grid=True, figsize=(10,5))\n",
    ");    \n",
    "\n",
    "(\n",
    "    df\n",
    "    .query('locality_name ==\"Санкт-Петербург\" and center_km <= 8')\n",
    "    .pivot_table(index='year', values='last_price', aggfunc='median')\n",
    "    .plot(title='Зависимость цены от года, в котором было опубликовано объявление', grid=True, figsize=(10,5))\n",
    ");     "
   ]
  },
  {
   "cell_type": "markdown",
   "metadata": {},
   "source": [
    "+ По графику зависимости цены от удаленности от центра можем сделать вывод, что квартиры расположенные в километре от центра имеют наибольшую стоимость, далее наблюдается снижение цены.\n",
    "+ График зависимости цены от количества комнат показывает плавное возрастание цены вместе с ростом количества комнат в квартире. Резкий скачок графика в районе 12 комнат может говорить о том, что объявлений с таким количеством квартир очень мало и медиана их стоимости значительно превышает медиану стоимости остальных.\n",
    "+ График зависимости цены от этажа квартиры в центре Санкт-Петербурга не сильно отличается от графика по общей таблице. Видим минимальную стоимость у квартир на первом этаже, большую цену у последнего и еще большую у других. \n",
    "+ Зато зависимость цены от дня недели публикации объявления в центре Санкт-Петербурга показывает минимальную стоимость в субботу, а не в воскресенье как у графика по исходной таблице. В воскресенье же средняя стоимость квартир находится в пике вместе с понедельником. Во вторник, который был пиковым днем по цене в предыдущем графике, средняя цена находится ниже остальных дней и опережает лишь самый низкий показатель в субботу.\n",
    "+ По месяцам ситуация также немного изменилась, самый низкий показатель цены показывает декабрь, самый высокий - сентябрь.\n",
    "+ Зависимость от года не изменилась, в 2014 году стоимость также выделяется среди остальных и до 18 года наблюдается снижение с небольшим возрастанием после."
   ]
  },
  {
   "cell_type": "markdown",
   "metadata": {},
   "source": [
    "## Общий вывод"
   ]
  },
  {
   "cell_type": "markdown",
   "metadata": {},
   "source": [
    "В результате исследования мы выяснили какие факторы больше всего влияют на стоимость квартиры. Чтобы получить корректные ответы на вопросы была проведена предобработка исходного датафрейма: заполнение пропусков и изменение типов данных в нужных нам столбцах. Изучив предоставленные данные можно сделать несколько выводов: самые дорогие квартиры находятся в Санкт-Петербурге, медианная цена квадратного метра равна 104762 руб, самые дешевые - в Выборге: 58158 за квадратный метр. Наибольшее влияние на цену оказывает общая площадь квартиры и ее приближенность к центру, квартиры расположенные не более 8 км от центра стоят дороже прочих."
   ]
  }
 ],
 "metadata": {
  "ExecuteTimeLog": [
   {
    "duration": 877,
    "start_time": "2022-01-27T10:25:35.312Z"
   },
   {
    "duration": 88,
    "start_time": "2022-01-27T10:27:53.910Z"
   },
   {
    "duration": 173,
    "start_time": "2022-01-27T10:28:00.775Z"
   },
   {
    "duration": 88,
    "start_time": "2022-01-27T10:28:04.940Z"
   },
   {
    "duration": 86,
    "start_time": "2022-01-27T10:29:15.297Z"
   },
   {
    "duration": 82,
    "start_time": "2022-01-27T10:29:24.376Z"
   },
   {
    "duration": 100,
    "start_time": "2022-01-27T10:29:41.063Z"
   },
   {
    "duration": 188,
    "start_time": "2022-01-27T10:30:07.453Z"
   },
   {
    "duration": 79,
    "start_time": "2022-01-27T10:30:12.048Z"
   },
   {
    "duration": 85,
    "start_time": "2022-01-27T10:30:26.178Z"
   },
   {
    "duration": 89,
    "start_time": "2022-01-27T10:30:39.607Z"
   },
   {
    "duration": 76,
    "start_time": "2022-01-27T10:31:08.550Z"
   },
   {
    "duration": 114,
    "start_time": "2022-01-27T10:31:58.850Z"
   },
   {
    "duration": 378,
    "start_time": "2022-01-27T10:33:43.017Z"
   },
   {
    "duration": 134,
    "start_time": "2022-01-27T10:34:43.078Z"
   },
   {
    "duration": 273,
    "start_time": "2022-01-29T06:12:36.353Z"
   },
   {
    "duration": 719,
    "start_time": "2022-01-29T06:12:41.323Z"
   },
   {
    "duration": 28,
    "start_time": "2022-01-29T06:12:44.490Z"
   },
   {
    "duration": 39,
    "start_time": "2022-01-29T06:33:15.767Z"
   },
   {
    "duration": 45,
    "start_time": "2022-01-29T06:40:23.393Z"
   },
   {
    "duration": 46,
    "start_time": "2022-01-29T06:40:49.275Z"
   },
   {
    "duration": 49,
    "start_time": "2022-01-29T06:42:13.926Z"
   },
   {
    "duration": 108,
    "start_time": "2022-01-29T06:42:18.465Z"
   },
   {
    "duration": 47,
    "start_time": "2022-01-29T06:42:21.395Z"
   },
   {
    "duration": 43,
    "start_time": "2022-01-29T06:43:42.729Z"
   },
   {
    "duration": 48,
    "start_time": "2022-01-29T06:44:04.225Z"
   },
   {
    "duration": 44,
    "start_time": "2022-01-29T06:44:17.676Z"
   },
   {
    "duration": 44,
    "start_time": "2022-01-29T06:45:16.548Z"
   },
   {
    "duration": 42,
    "start_time": "2022-01-29T06:45:21.789Z"
   },
   {
    "duration": 46,
    "start_time": "2022-01-29T06:46:01.967Z"
   },
   {
    "duration": 85,
    "start_time": "2022-01-29T06:47:15.044Z"
   },
   {
    "duration": 52,
    "start_time": "2022-01-29T06:47:18.381Z"
   },
   {
    "duration": 45,
    "start_time": "2022-01-29T06:47:26.754Z"
   },
   {
    "duration": 37,
    "start_time": "2022-01-29T06:48:56.909Z"
   },
   {
    "duration": 5919,
    "start_time": "2022-01-29T06:55:33.172Z"
   },
   {
    "duration": 5259,
    "start_time": "2022-01-29T06:55:54.538Z"
   },
   {
    "duration": 5342,
    "start_time": "2022-01-29T06:56:16.139Z"
   },
   {
    "duration": 5147,
    "start_time": "2022-01-29T06:56:21.855Z"
   },
   {
    "duration": 110,
    "start_time": "2022-01-29T06:56:28.223Z"
   },
   {
    "duration": 34,
    "start_time": "2022-01-29T06:56:30.753Z"
   },
   {
    "duration": 39,
    "start_time": "2022-01-29T06:58:00.823Z"
   },
   {
    "duration": 37,
    "start_time": "2022-01-29T06:58:20.613Z"
   },
   {
    "duration": 38,
    "start_time": "2022-01-29T06:58:39.677Z"
   },
   {
    "duration": 41,
    "start_time": "2022-01-29T06:58:43.244Z"
   },
   {
    "duration": 39,
    "start_time": "2022-01-29T06:58:52.207Z"
   },
   {
    "duration": 110,
    "start_time": "2022-01-29T06:59:00.606Z"
   },
   {
    "duration": 37,
    "start_time": "2022-01-29T06:59:04.484Z"
   },
   {
    "duration": 48,
    "start_time": "2022-01-29T07:02:03.033Z"
   },
   {
    "duration": 47,
    "start_time": "2022-01-29T07:04:21.732Z"
   },
   {
    "duration": 109,
    "start_time": "2022-01-29T07:04:25.217Z"
   },
   {
    "duration": 48,
    "start_time": "2022-01-29T07:04:27.878Z"
   },
   {
    "duration": 52,
    "start_time": "2022-01-29T07:04:39.691Z"
   },
   {
    "duration": 110,
    "start_time": "2022-01-29T07:04:47.907Z"
   },
   {
    "duration": 86,
    "start_time": "2022-01-29T07:04:50.842Z"
   },
   {
    "duration": 78,
    "start_time": "2022-01-29T07:04:53.587Z"
   },
   {
    "duration": 48,
    "start_time": "2022-01-29T07:04:55.684Z"
   },
   {
    "duration": 75,
    "start_time": "2022-01-29T07:05:15.297Z"
   },
   {
    "duration": 48,
    "start_time": "2022-01-29T07:05:17.803Z"
   },
   {
    "duration": 49,
    "start_time": "2022-01-29T07:05:27.065Z"
   },
   {
    "duration": 83,
    "start_time": "2022-01-29T07:05:32.057Z"
   },
   {
    "duration": 48,
    "start_time": "2022-01-29T07:05:34.233Z"
   },
   {
    "duration": 99,
    "start_time": "2022-01-29T07:05:52.765Z"
   },
   {
    "duration": 48,
    "start_time": "2022-01-29T07:05:57.422Z"
   },
   {
    "duration": 48,
    "start_time": "2022-01-29T07:06:17.929Z"
   },
   {
    "duration": 51,
    "start_time": "2022-01-29T07:06:22.799Z"
   },
   {
    "duration": 98,
    "start_time": "2022-01-29T07:06:25.364Z"
   },
   {
    "duration": 52,
    "start_time": "2022-01-29T07:06:27.627Z"
   },
   {
    "duration": 6786,
    "start_time": "2022-01-29T07:07:26.503Z"
   },
   {
    "duration": 16,
    "start_time": "2022-01-29T07:07:43.086Z"
   },
   {
    "duration": 49,
    "start_time": "2022-01-29T07:09:55.773Z"
   },
   {
    "duration": 52,
    "start_time": "2022-01-29T07:12:13.023Z"
   },
   {
    "duration": 105,
    "start_time": "2022-01-29T07:13:23.994Z"
   },
   {
    "duration": 50,
    "start_time": "2022-01-29T07:13:54.128Z"
   },
   {
    "duration": 51,
    "start_time": "2022-01-29T07:15:29.023Z"
   },
   {
    "duration": 50,
    "start_time": "2022-01-29T07:19:27.038Z"
   },
   {
    "duration": 52,
    "start_time": "2022-01-29T07:19:49.759Z"
   },
   {
    "duration": 52,
    "start_time": "2022-01-29T07:21:18.042Z"
   },
   {
    "duration": 74,
    "start_time": "2022-01-29T07:21:24.157Z"
   },
   {
    "duration": 75,
    "start_time": "2022-01-29T07:21:26.231Z"
   },
   {
    "duration": 49,
    "start_time": "2022-01-29T07:21:30.828Z"
   },
   {
    "duration": 678,
    "start_time": "2022-01-29T07:21:58.411Z"
   },
   {
    "duration": 63,
    "start_time": "2022-01-29T07:22:01.924Z"
   },
   {
    "duration": 51,
    "start_time": "2022-01-29T07:22:38.516Z"
   },
   {
    "duration": 48,
    "start_time": "2022-01-29T07:22:48.109Z"
   },
   {
    "duration": 79,
    "start_time": "2022-01-29T07:22:51.444Z"
   },
   {
    "duration": 54,
    "start_time": "2022-01-29T07:22:53.429Z"
   },
   {
    "duration": 52,
    "start_time": "2022-01-29T07:23:58.238Z"
   },
   {
    "duration": 84,
    "start_time": "2022-01-29T07:24:01.809Z"
   },
   {
    "duration": 53,
    "start_time": "2022-01-29T07:24:05.707Z"
   },
   {
    "duration": 38,
    "start_time": "2022-01-29T07:25:24.019Z"
   },
   {
    "duration": 41,
    "start_time": "2022-01-29T07:46:22.228Z"
   },
   {
    "duration": 41,
    "start_time": "2022-01-29T07:46:27.739Z"
   },
   {
    "duration": 17,
    "start_time": "2022-01-29T07:46:36.224Z"
   },
   {
    "duration": 74,
    "start_time": "2022-01-29T07:46:56.827Z"
   },
   {
    "duration": 48,
    "start_time": "2022-01-29T07:46:58.616Z"
   },
   {
    "duration": 51,
    "start_time": "2022-01-29T07:47:36.086Z"
   },
   {
    "duration": 67,
    "start_time": "2022-01-29T07:47:38.847Z"
   },
   {
    "duration": 56,
    "start_time": "2022-01-29T07:47:40.130Z"
   },
   {
    "duration": 52,
    "start_time": "2022-01-29T07:48:05.107Z"
   },
   {
    "duration": 70,
    "start_time": "2022-01-29T07:48:11.755Z"
   },
   {
    "duration": 50,
    "start_time": "2022-01-29T07:48:14.066Z"
   },
   {
    "duration": 53,
    "start_time": "2022-01-29T07:48:20.952Z"
   },
   {
    "duration": 51,
    "start_time": "2022-01-29T07:48:27.705Z"
   },
   {
    "duration": 77,
    "start_time": "2022-01-29T07:48:30.887Z"
   },
   {
    "duration": 55,
    "start_time": "2022-01-29T07:48:32.757Z"
   },
   {
    "duration": 113,
    "start_time": "2022-01-29T07:49:20.037Z"
   },
   {
    "duration": 51,
    "start_time": "2022-01-29T07:49:22.902Z"
   },
   {
    "duration": 50,
    "start_time": "2022-01-29T07:49:43.568Z"
   },
   {
    "duration": 108,
    "start_time": "2022-01-29T07:49:46.524Z"
   },
   {
    "duration": 51,
    "start_time": "2022-01-29T07:49:48.745Z"
   },
   {
    "duration": 55,
    "start_time": "2022-01-29T07:50:03.590Z"
   },
   {
    "duration": 105,
    "start_time": "2022-01-29T07:50:07.246Z"
   },
   {
    "duration": 73,
    "start_time": "2022-01-29T07:50:10.523Z"
   },
   {
    "duration": 50,
    "start_time": "2022-01-29T07:50:11.890Z"
   },
   {
    "duration": 72,
    "start_time": "2022-01-29T07:51:29.417Z"
   },
   {
    "duration": 51,
    "start_time": "2022-01-29T07:51:32.378Z"
   },
   {
    "duration": 51,
    "start_time": "2022-01-29T07:51:34.075Z"
   },
   {
    "duration": 53,
    "start_time": "2022-01-29T07:51:56.328Z"
   },
   {
    "duration": 70,
    "start_time": "2022-01-29T07:51:58.626Z"
   },
   {
    "duration": 52,
    "start_time": "2022-01-29T07:51:59.583Z"
   },
   {
    "duration": 49,
    "start_time": "2022-01-29T07:53:28.827Z"
   },
   {
    "duration": 73,
    "start_time": "2022-01-29T07:53:31.069Z"
   },
   {
    "duration": 49,
    "start_time": "2022-01-29T07:53:34.031Z"
   },
   {
    "duration": 78,
    "start_time": "2022-01-29T07:59:01.551Z"
   },
   {
    "duration": 49,
    "start_time": "2022-01-29T07:59:03.689Z"
   },
   {
    "duration": 108,
    "start_time": "2022-01-29T07:59:15.681Z"
   },
   {
    "duration": 54,
    "start_time": "2022-01-29T08:01:38.462Z"
   },
   {
    "duration": 46,
    "start_time": "2022-01-29T08:01:58.370Z"
   },
   {
    "duration": 339,
    "start_time": "2022-01-29T08:06:46.097Z"
   },
   {
    "duration": 269,
    "start_time": "2022-01-29T08:07:17.974Z"
   },
   {
    "duration": 271,
    "start_time": "2022-01-29T08:07:22.542Z"
   },
   {
    "duration": 46,
    "start_time": "2022-01-29T08:07:28.992Z"
   },
   {
    "duration": 44,
    "start_time": "2022-01-29T08:09:24.181Z"
   },
   {
    "duration": 114,
    "start_time": "2022-01-29T08:12:31.128Z"
   },
   {
    "duration": 56,
    "start_time": "2022-01-29T08:13:52.492Z"
   },
   {
    "duration": 254,
    "start_time": "2022-01-29T08:22:00.450Z"
   },
   {
    "duration": 61,
    "start_time": "2022-01-29T08:22:05.099Z"
   },
   {
    "duration": 62,
    "start_time": "2022-01-29T08:22:18.621Z"
   },
   {
    "duration": 284,
    "start_time": "2022-01-29T08:22:49.747Z"
   },
   {
    "duration": 151,
    "start_time": "2022-01-29T08:25:12.898Z"
   },
   {
    "duration": 59,
    "start_time": "2022-01-29T08:25:20.157Z"
   },
   {
    "duration": 60,
    "start_time": "2022-01-29T08:26:22.120Z"
   },
   {
    "duration": 62,
    "start_time": "2022-01-29T08:26:27.193Z"
   },
   {
    "duration": 63,
    "start_time": "2022-01-29T08:35:43.068Z"
   },
   {
    "duration": 61,
    "start_time": "2022-01-29T08:36:05.255Z"
   },
   {
    "duration": 63,
    "start_time": "2022-01-29T08:37:26.096Z"
   },
   {
    "duration": 120,
    "start_time": "2022-01-29T10:35:15.212Z"
   },
   {
    "duration": 144,
    "start_time": "2022-01-29T10:35:42.231Z"
   },
   {
    "duration": 82,
    "start_time": "2022-01-29T10:36:56.995Z"
   },
   {
    "duration": 64,
    "start_time": "2022-01-29T11:39:06.105Z"
   },
   {
    "duration": 51,
    "start_time": "2022-01-29T11:39:46.709Z"
   },
   {
    "duration": 51,
    "start_time": "2022-01-29T12:06:29.255Z"
   },
   {
    "duration": 775,
    "start_time": "2022-01-29T12:14:11.386Z"
   },
   {
    "duration": 76,
    "start_time": "2022-01-29T12:14:12.164Z"
   },
   {
    "duration": 49,
    "start_time": "2022-01-29T12:15:02.356Z"
   },
   {
    "duration": 56,
    "start_time": "2022-01-29T12:15:26.978Z"
   },
   {
    "duration": 44,
    "start_time": "2022-01-29T12:15:30.357Z"
   },
   {
    "duration": 125,
    "start_time": "2022-01-29T12:22:26.450Z"
   },
   {
    "duration": 49,
    "start_time": "2022-01-29T12:30:57.531Z"
   },
   {
    "duration": 13,
    "start_time": "2022-01-29T12:31:42.755Z"
   },
   {
    "duration": 23,
    "start_time": "2022-01-29T12:31:55.454Z"
   },
   {
    "duration": 38,
    "start_time": "2022-01-29T12:32:11.875Z"
   },
   {
    "duration": 35,
    "start_time": "2022-01-29T12:32:48.322Z"
   },
   {
    "duration": 316,
    "start_time": "2022-01-29T12:34:58.700Z"
   },
   {
    "duration": 54,
    "start_time": "2022-01-29T12:36:24.571Z"
   },
   {
    "duration": 49,
    "start_time": "2022-01-29T12:36:31.452Z"
   },
   {
    "duration": 488,
    "start_time": "2022-01-29T12:36:33.423Z"
   },
   {
    "duration": 41,
    "start_time": "2022-01-29T12:36:39.188Z"
   },
   {
    "duration": 14,
    "start_time": "2022-01-29T12:38:41.623Z"
   },
   {
    "duration": 19,
    "start_time": "2022-01-29T12:40:59.248Z"
   },
   {
    "duration": 258,
    "start_time": "2022-01-29T12:53:40.834Z"
   },
   {
    "duration": 18,
    "start_time": "2022-01-29T12:53:46.640Z"
   },
   {
    "duration": 369,
    "start_time": "2022-01-29T12:54:11.557Z"
   },
   {
    "duration": 16,
    "start_time": "2022-01-29T12:54:41.244Z"
   },
   {
    "duration": 752,
    "start_time": "2022-01-29T12:56:44.572Z"
   },
   {
    "duration": 23,
    "start_time": "2022-01-29T12:56:45.326Z"
   },
   {
    "duration": 23,
    "start_time": "2022-01-29T12:56:45.351Z"
   },
   {
    "duration": 432,
    "start_time": "2022-01-29T12:56:56.323Z"
   },
   {
    "duration": 398,
    "start_time": "2022-01-29T12:57:01.471Z"
   },
   {
    "duration": 16,
    "start_time": "2022-01-29T12:57:18.422Z"
   },
   {
    "duration": 47,
    "start_time": "2022-01-29T12:57:33.124Z"
   },
   {
    "duration": 81,
    "start_time": "2022-01-29T13:09:19.503Z"
   },
   {
    "duration": 255,
    "start_time": "2022-01-29T13:12:07.256Z"
   },
   {
    "duration": 78,
    "start_time": "2022-01-29T13:12:22.014Z"
   },
   {
    "duration": 22,
    "start_time": "2022-01-29T13:12:23.436Z"
   },
   {
    "duration": 277,
    "start_time": "2022-01-29T13:12:25.768Z"
   },
   {
    "duration": 310,
    "start_time": "2022-01-29T13:12:36.037Z"
   },
   {
    "duration": 366,
    "start_time": "2022-01-29T13:12:38.420Z"
   },
   {
    "duration": 689,
    "start_time": "2022-01-29T13:12:58.776Z"
   },
   {
    "duration": 23,
    "start_time": "2022-01-29T13:12:59.467Z"
   },
   {
    "duration": 356,
    "start_time": "2022-01-29T13:12:59.493Z"
   },
   {
    "duration": 341,
    "start_time": "2022-01-29T13:13:06.883Z"
   },
   {
    "duration": 863,
    "start_time": "2022-01-30T07:55:40.912Z"
   },
   {
    "duration": 29,
    "start_time": "2022-01-30T07:55:41.778Z"
   },
   {
    "duration": 420,
    "start_time": "2022-01-30T07:55:41.811Z"
   },
   {
    "duration": 74,
    "start_time": "2022-01-30T07:55:50.221Z"
   },
   {
    "duration": 44,
    "start_time": "2022-01-30T07:59:34.958Z"
   },
   {
    "duration": 8,
    "start_time": "2022-01-30T08:12:21.362Z"
   },
   {
    "duration": 379,
    "start_time": "2022-01-30T08:12:24.437Z"
   },
   {
    "duration": 51,
    "start_time": "2022-01-30T08:13:28.949Z"
   },
   {
    "duration": 43,
    "start_time": "2022-01-30T08:14:29.568Z"
   },
   {
    "duration": 52,
    "start_time": "2022-01-30T08:15:20.706Z"
   },
   {
    "duration": 96,
    "start_time": "2022-01-30T08:20:04.796Z"
   },
   {
    "duration": 646,
    "start_time": "2022-01-30T08:20:15.876Z"
   },
   {
    "duration": 1413,
    "start_time": "2022-01-30T08:21:31.829Z"
   },
   {
    "duration": 1406,
    "start_time": "2022-01-30T08:21:56.172Z"
   },
   {
    "duration": 64,
    "start_time": "2022-01-30T08:22:12.836Z"
   },
   {
    "duration": 57,
    "start_time": "2022-01-30T08:24:09.791Z"
   },
   {
    "duration": 63,
    "start_time": "2022-01-30T08:24:13.827Z"
   },
   {
    "duration": 83,
    "start_time": "2022-01-30T08:30:31.762Z"
   },
   {
    "duration": 71,
    "start_time": "2022-01-30T08:30:43.971Z"
   },
   {
    "duration": 90,
    "start_time": "2022-01-30T08:30:58.533Z"
   },
   {
    "duration": 104,
    "start_time": "2022-01-30T08:32:13.029Z"
   },
   {
    "duration": 816,
    "start_time": "2022-01-30T08:42:04.232Z"
   },
   {
    "duration": 854,
    "start_time": "2022-01-30T08:42:09.899Z"
   },
   {
    "duration": 127,
    "start_time": "2022-01-30T08:49:21.612Z"
   },
   {
    "duration": 7313,
    "start_time": "2022-01-30T08:49:49.858Z"
   },
   {
    "duration": 7783,
    "start_time": "2022-01-30T08:50:06.596Z"
   },
   {
    "duration": 808,
    "start_time": "2022-01-30T08:50:24.233Z"
   },
   {
    "duration": 854,
    "start_time": "2022-01-30T08:51:02.536Z"
   },
   {
    "duration": 815,
    "start_time": "2022-01-30T08:51:48.888Z"
   },
   {
    "duration": 27,
    "start_time": "2022-01-30T08:51:49.706Z"
   },
   {
    "duration": 10,
    "start_time": "2022-01-30T08:51:49.748Z"
   },
   {
    "duration": 838,
    "start_time": "2022-01-30T08:51:49.761Z"
   },
   {
    "duration": 102,
    "start_time": "2022-01-30T08:54:14.438Z"
   },
   {
    "duration": 806,
    "start_time": "2022-01-30T08:54:29.411Z"
   },
   {
    "duration": 911,
    "start_time": "2022-01-30T08:55:03.611Z"
   },
   {
    "duration": 819,
    "start_time": "2022-01-30T09:03:37.442Z"
   },
   {
    "duration": 459,
    "start_time": "2022-01-30T09:08:46.129Z"
   },
   {
    "duration": 798,
    "start_time": "2022-01-30T09:08:55.389Z"
   },
   {
    "duration": 11,
    "start_time": "2022-01-30T09:10:52.013Z"
   },
   {
    "duration": 912,
    "start_time": "2022-01-30T09:10:54.187Z"
   },
   {
    "duration": 109,
    "start_time": "2022-01-30T09:11:15.837Z"
   },
   {
    "duration": 886,
    "start_time": "2022-01-30T09:11:39.052Z"
   },
   {
    "duration": 86,
    "start_time": "2022-01-30T09:53:01.726Z"
   },
   {
    "duration": 1066,
    "start_time": "2022-01-30T09:53:05.549Z"
   },
   {
    "duration": 931,
    "start_time": "2022-01-30T10:04:21.397Z"
   },
   {
    "duration": 693,
    "start_time": "2022-01-30T10:05:00.438Z"
   },
   {
    "duration": 424,
    "start_time": "2022-01-30T10:05:04.584Z"
   },
   {
    "duration": 492,
    "start_time": "2022-01-30T10:05:18.793Z"
   },
   {
    "duration": 295,
    "start_time": "2022-01-30T10:05:25.233Z"
   },
   {
    "duration": 424,
    "start_time": "2022-01-30T10:05:29.851Z"
   },
   {
    "duration": 335,
    "start_time": "2022-01-30T10:05:32.624Z"
   },
   {
    "duration": 369,
    "start_time": "2022-01-30T10:06:18.742Z"
   },
   {
    "duration": 407,
    "start_time": "2022-01-30T10:08:13.969Z"
   },
   {
    "duration": 326,
    "start_time": "2022-01-30T10:09:25.811Z"
   },
   {
    "duration": 404,
    "start_time": "2022-01-30T10:09:29.102Z"
   },
   {
    "duration": 445,
    "start_time": "2022-01-30T10:09:32.817Z"
   },
   {
    "duration": 293,
    "start_time": "2022-01-30T10:09:37.506Z"
   },
   {
    "duration": 384,
    "start_time": "2022-01-30T10:10:04.501Z"
   },
   {
    "duration": 461,
    "start_time": "2022-01-30T10:10:08.001Z"
   },
   {
    "duration": 358,
    "start_time": "2022-01-30T10:10:32.702Z"
   },
   {
    "duration": 329,
    "start_time": "2022-01-30T10:10:37.886Z"
   },
   {
    "duration": 319,
    "start_time": "2022-01-30T10:10:45.032Z"
   },
   {
    "duration": 317,
    "start_time": "2022-01-30T10:10:50.319Z"
   },
   {
    "duration": 332,
    "start_time": "2022-01-30T10:10:56.027Z"
   },
   {
    "duration": 547,
    "start_time": "2022-01-30T10:13:10.644Z"
   },
   {
    "duration": 383,
    "start_time": "2022-01-30T10:13:14.909Z"
   },
   {
    "duration": 325,
    "start_time": "2022-01-30T10:13:50.353Z"
   },
   {
    "duration": 276,
    "start_time": "2022-01-30T10:14:58.378Z"
   },
   {
    "duration": 324,
    "start_time": "2022-01-30T10:15:06.328Z"
   },
   {
    "duration": 676,
    "start_time": "2022-01-30T10:15:51.634Z"
   },
   {
    "duration": 714,
    "start_time": "2022-01-30T10:15:56.587Z"
   },
   {
    "duration": 672,
    "start_time": "2022-01-30T10:16:24.738Z"
   },
   {
    "duration": 397,
    "start_time": "2022-01-30T10:16:29.958Z"
   },
   {
    "duration": 314,
    "start_time": "2022-01-30T10:16:37.920Z"
   },
   {
    "duration": 342,
    "start_time": "2022-01-30T10:17:09.073Z"
   },
   {
    "duration": 306,
    "start_time": "2022-01-30T10:17:20.704Z"
   },
   {
    "duration": 409,
    "start_time": "2022-01-30T10:17:27.987Z"
   },
   {
    "duration": 350,
    "start_time": "2022-01-30T10:18:19.011Z"
   },
   {
    "duration": 338,
    "start_time": "2022-01-30T10:18:25.448Z"
   },
   {
    "duration": 299,
    "start_time": "2022-01-30T10:18:30.841Z"
   },
   {
    "duration": 315,
    "start_time": "2022-01-30T10:18:39.180Z"
   },
   {
    "duration": 356,
    "start_time": "2022-01-30T10:18:46.768Z"
   },
   {
    "duration": 269,
    "start_time": "2022-01-30T10:18:53.305Z"
   },
   {
    "duration": 274,
    "start_time": "2022-01-30T10:18:57.498Z"
   },
   {
    "duration": 271,
    "start_time": "2022-01-30T10:19:33.085Z"
   },
   {
    "duration": 306,
    "start_time": "2022-01-30T10:19:47.448Z"
   },
   {
    "duration": 281,
    "start_time": "2022-01-30T10:19:52.439Z"
   },
   {
    "duration": 381,
    "start_time": "2022-01-30T10:20:30.120Z"
   },
   {
    "duration": 367,
    "start_time": "2022-01-30T10:20:34.350Z"
   },
   {
    "duration": 263,
    "start_time": "2022-01-30T10:20:45.983Z"
   },
   {
    "duration": 433,
    "start_time": "2022-01-30T10:20:56.954Z"
   },
   {
    "duration": 348,
    "start_time": "2022-01-30T10:21:03.934Z"
   },
   {
    "duration": 355,
    "start_time": "2022-01-30T10:21:07.712Z"
   },
   {
    "duration": 369,
    "start_time": "2022-01-30T10:21:33.522Z"
   },
   {
    "duration": 368,
    "start_time": "2022-01-30T10:21:41.137Z"
   },
   {
    "duration": 329,
    "start_time": "2022-01-30T10:22:36.583Z"
   },
   {
    "duration": 270,
    "start_time": "2022-01-30T10:23:25.031Z"
   },
   {
    "duration": 420,
    "start_time": "2022-01-30T10:25:53.867Z"
   },
   {
    "duration": 510,
    "start_time": "2022-01-30T10:25:59.309Z"
   },
   {
    "duration": 431,
    "start_time": "2022-01-30T10:43:34.948Z"
   },
   {
    "duration": 425,
    "start_time": "2022-01-30T10:43:52.889Z"
   },
   {
    "duration": 354,
    "start_time": "2022-01-30T10:43:57.937Z"
   },
   {
    "duration": 295,
    "start_time": "2022-01-30T10:44:01.616Z"
   },
   {
    "duration": 328,
    "start_time": "2022-01-30T10:44:07.084Z"
   },
   {
    "duration": 1045,
    "start_time": "2022-01-30T10:45:19.670Z"
   },
   {
    "duration": 312,
    "start_time": "2022-01-30T10:45:24.993Z"
   },
   {
    "duration": 338,
    "start_time": "2022-01-30T10:46:06.837Z"
   },
   {
    "duration": 338,
    "start_time": "2022-01-30T10:46:49.424Z"
   },
   {
    "duration": 401,
    "start_time": "2022-01-30T10:47:08.613Z"
   },
   {
    "duration": 341,
    "start_time": "2022-01-30T10:48:08.494Z"
   },
   {
    "duration": 313,
    "start_time": "2022-01-30T10:48:28.575Z"
   },
   {
    "duration": 549,
    "start_time": "2022-01-30T10:54:00.716Z"
   },
   {
    "duration": 342,
    "start_time": "2022-01-30T11:13:25.729Z"
   },
   {
    "duration": 368,
    "start_time": "2022-01-30T11:14:33.373Z"
   },
   {
    "duration": 788,
    "start_time": "2022-01-31T08:10:59.664Z"
   },
   {
    "duration": 28,
    "start_time": "2022-01-31T08:11:00.455Z"
   },
   {
    "duration": 13,
    "start_time": "2022-01-31T08:11:00.485Z"
   },
   {
    "duration": 848,
    "start_time": "2022-01-31T08:11:00.500Z"
   },
   {
    "duration": 481,
    "start_time": "2022-01-31T08:11:01.350Z"
   },
   {
    "duration": 296,
    "start_time": "2022-01-31T08:11:01.834Z"
   },
   {
    "duration": 356,
    "start_time": "2022-01-31T08:11:02.132Z"
   },
   {
    "duration": 337,
    "start_time": "2022-01-31T08:11:02.490Z"
   },
   {
    "duration": 344,
    "start_time": "2022-01-31T08:11:02.830Z"
   },
   {
    "duration": 733,
    "start_time": "2022-01-31T08:15:39.347Z"
   },
   {
    "duration": 693,
    "start_time": "2022-01-31T08:18:34.560Z"
   },
   {
    "duration": 685,
    "start_time": "2022-01-31T08:22:37.475Z"
   },
   {
    "duration": 695,
    "start_time": "2022-01-31T08:24:46.473Z"
   },
   {
    "duration": 750,
    "start_time": "2022-01-31T08:25:35.976Z"
   },
   {
    "duration": 702,
    "start_time": "2022-01-31T08:26:19.561Z"
   },
   {
    "duration": 782,
    "start_time": "2022-01-31T08:26:51.863Z"
   },
   {
    "duration": 656,
    "start_time": "2022-01-31T08:27:02.967Z"
   },
   {
    "duration": 691,
    "start_time": "2022-01-31T08:27:14.286Z"
   },
   {
    "duration": 711,
    "start_time": "2022-01-31T08:28:31.249Z"
   },
   {
    "duration": 115,
    "start_time": "2022-01-31T08:29:44.719Z"
   },
   {
    "duration": 877,
    "start_time": "2022-01-31T08:31:00.390Z"
   },
   {
    "duration": 691,
    "start_time": "2022-01-31T08:31:26.260Z"
   },
   {
    "duration": 25,
    "start_time": "2022-01-31T08:31:40.007Z"
   },
   {
    "duration": 11,
    "start_time": "2022-01-31T08:31:43.158Z"
   },
   {
    "duration": 829,
    "start_time": "2022-01-31T08:31:43.563Z"
   },
   {
    "duration": 335,
    "start_time": "2022-01-31T08:31:44.395Z"
   },
   {
    "duration": 285,
    "start_time": "2022-01-31T08:31:44.733Z"
   },
   {
    "duration": 363,
    "start_time": "2022-01-31T08:31:45.023Z"
   },
   {
    "duration": 374,
    "start_time": "2022-01-31T08:31:45.433Z"
   },
   {
    "duration": 332,
    "start_time": "2022-01-31T08:31:45.810Z"
   },
   {
    "duration": 717,
    "start_time": "2022-01-31T08:31:46.144Z"
   },
   {
    "duration": 697,
    "start_time": "2022-01-31T08:31:46.864Z"
   },
   {
    "duration": 877,
    "start_time": "2022-01-31T08:31:53.841Z"
   },
   {
    "duration": 673,
    "start_time": "2022-01-31T08:31:55.887Z"
   },
   {
    "duration": 659,
    "start_time": "2022-01-31T08:32:51.281Z"
   },
   {
    "duration": 661,
    "start_time": "2022-01-31T08:33:06.083Z"
   },
   {
    "duration": 469,
    "start_time": "2022-01-31T08:34:28.673Z"
   },
   {
    "duration": 1423,
    "start_time": "2022-01-31T08:34:47.555Z"
   },
   {
    "duration": 95,
    "start_time": "2022-01-31T08:44:18.431Z"
   },
   {
    "duration": 268,
    "start_time": "2022-01-31T08:44:55.872Z"
   },
   {
    "duration": 415,
    "start_time": "2022-01-31T08:46:05.477Z"
   },
   {
    "duration": 7046,
    "start_time": "2022-01-31T08:46:42.001Z"
   },
   {
    "duration": 287,
    "start_time": "2022-01-31T08:47:04.911Z"
   },
   {
    "duration": 108,
    "start_time": "2022-01-31T08:47:07.692Z"
   },
   {
    "duration": 266,
    "start_time": "2022-01-31T08:47:11.383Z"
   },
   {
    "duration": 91,
    "start_time": "2022-01-31T08:47:14.163Z"
   },
   {
    "duration": 323,
    "start_time": "2022-01-31T08:47:20.087Z"
   },
   {
    "duration": 294,
    "start_time": "2022-01-31T08:48:27.359Z"
   },
   {
    "duration": 328,
    "start_time": "2022-01-31T08:49:00.559Z"
   },
   {
    "duration": 420,
    "start_time": "2022-01-31T08:49:20.765Z"
   },
   {
    "duration": 295,
    "start_time": "2022-01-31T08:51:15.752Z"
   },
   {
    "duration": 701,
    "start_time": "2022-02-02T10:55:48.453Z"
   },
   {
    "duration": 25,
    "start_time": "2022-02-02T10:55:49.156Z"
   },
   {
    "duration": 9,
    "start_time": "2022-02-02T10:55:49.183Z"
   },
   {
    "duration": 492,
    "start_time": "2022-02-02T10:55:49.194Z"
   },
   {
    "duration": 284,
    "start_time": "2022-02-02T10:55:49.687Z"
   },
   {
    "duration": 164,
    "start_time": "2022-02-02T10:55:49.973Z"
   },
   {
    "duration": 191,
    "start_time": "2022-02-02T10:55:50.138Z"
   },
   {
    "duration": 187,
    "start_time": "2022-02-02T10:55:50.331Z"
   },
   {
    "duration": 179,
    "start_time": "2022-02-02T10:55:50.520Z"
   },
   {
    "duration": 504,
    "start_time": "2022-02-02T10:55:50.701Z"
   },
   {
    "duration": 503,
    "start_time": "2022-02-02T10:55:51.207Z"
   },
   {
    "duration": 468,
    "start_time": "2022-02-02T10:55:51.711Z"
   },
   {
    "duration": 166,
    "start_time": "2022-02-02T10:55:52.181Z"
   },
   {
    "duration": 404,
    "start_time": "2022-02-02T10:58:14.371Z"
   },
   {
    "duration": 172,
    "start_time": "2022-02-02T10:59:35.173Z"
   },
   {
    "duration": 156,
    "start_time": "2022-02-02T11:00:11.917Z"
   },
   {
    "duration": 235,
    "start_time": "2022-02-02T11:00:14.849Z"
   },
   {
    "duration": 185,
    "start_time": "2022-02-02T11:00:29.759Z"
   },
   {
    "duration": 181,
    "start_time": "2022-02-02T11:00:40.203Z"
   },
   {
    "duration": 290,
    "start_time": "2022-02-02T11:01:02.191Z"
   },
   {
    "duration": 286,
    "start_time": "2022-02-02T11:01:08.512Z"
   },
   {
    "duration": 188,
    "start_time": "2022-02-02T11:01:41.322Z"
   },
   {
    "duration": 199,
    "start_time": "2022-02-02T11:02:23.472Z"
   },
   {
    "duration": 206,
    "start_time": "2022-02-02T11:02:49.145Z"
   },
   {
    "duration": 181,
    "start_time": "2022-02-02T11:03:28.229Z"
   },
   {
    "duration": 192,
    "start_time": "2022-02-02T11:03:30.053Z"
   },
   {
    "duration": 181,
    "start_time": "2022-02-02T11:03:33.827Z"
   },
   {
    "duration": 278,
    "start_time": "2022-02-02T11:11:09.561Z"
   },
   {
    "duration": 309,
    "start_time": "2022-02-02T11:11:16.987Z"
   },
   {
    "duration": 202,
    "start_time": "2022-02-02T11:11:24.769Z"
   },
   {
    "duration": 309,
    "start_time": "2022-02-02T11:13:14.191Z"
   },
   {
    "duration": 202,
    "start_time": "2022-02-02T11:13:24.829Z"
   },
   {
    "duration": 193,
    "start_time": "2022-02-02T11:13:30.581Z"
   },
   {
    "duration": 317,
    "start_time": "2022-02-02T11:15:06.033Z"
   },
   {
    "duration": 339,
    "start_time": "2022-02-02T11:15:09.542Z"
   },
   {
    "duration": 182,
    "start_time": "2022-02-02T11:15:12.423Z"
   },
   {
    "duration": 124,
    "start_time": "2022-02-02T12:08:25.671Z"
   },
   {
    "duration": 25,
    "start_time": "2022-02-02T12:08:25.797Z"
   },
   {
    "duration": 10,
    "start_time": "2022-02-02T12:08:25.825Z"
   },
   {
    "duration": 494,
    "start_time": "2022-02-02T12:08:25.837Z"
   },
   {
    "duration": 282,
    "start_time": "2022-02-02T12:08:26.332Z"
   },
   {
    "duration": 199,
    "start_time": "2022-02-02T12:08:26.616Z"
   },
   {
    "duration": 267,
    "start_time": "2022-02-02T12:08:26.817Z"
   },
   {
    "duration": 182,
    "start_time": "2022-02-02T12:08:27.085Z"
   },
   {
    "duration": 175,
    "start_time": "2022-02-02T12:08:27.271Z"
   },
   {
    "duration": 456,
    "start_time": "2022-02-02T12:08:27.448Z"
   },
   {
    "duration": 498,
    "start_time": "2022-02-02T12:08:27.905Z"
   },
   {
    "duration": 498,
    "start_time": "2022-02-02T12:08:28.404Z"
   },
   {
    "duration": 170,
    "start_time": "2022-02-02T12:08:28.904Z"
   },
   {
    "duration": 202,
    "start_time": "2022-02-02T12:08:29.076Z"
   },
   {
    "duration": 210,
    "start_time": "2022-02-02T12:08:29.279Z"
   },
   {
    "duration": 198,
    "start_time": "2022-02-02T12:08:29.490Z"
   },
   {
    "duration": 847,
    "start_time": "2022-02-02T12:08:45.152Z"
   },
   {
    "duration": 261,
    "start_time": "2022-02-02T12:09:11.203Z"
   },
   {
    "duration": 205,
    "start_time": "2022-02-02T12:09:30.016Z"
   },
   {
    "duration": 208,
    "start_time": "2022-02-02T12:09:36.680Z"
   },
   {
    "duration": 203,
    "start_time": "2022-02-02T12:11:57.037Z"
   },
   {
    "duration": 203,
    "start_time": "2022-02-02T12:12:01.654Z"
   },
   {
    "duration": 160,
    "start_time": "2022-02-02T12:53:15.416Z"
   },
   {
    "duration": 735,
    "start_time": "2022-02-04T08:14:28.194Z"
   },
   {
    "duration": 20,
    "start_time": "2022-02-04T08:14:28.931Z"
   },
   {
    "duration": 9,
    "start_time": "2022-02-04T08:14:28.954Z"
   },
   {
    "duration": 533,
    "start_time": "2022-02-04T08:14:28.965Z"
   },
   {
    "duration": 369,
    "start_time": "2022-02-04T08:14:29.500Z"
   },
   {
    "duration": 219,
    "start_time": "2022-02-04T08:14:29.871Z"
   },
   {
    "duration": 280,
    "start_time": "2022-02-04T08:14:30.093Z"
   },
   {
    "duration": 251,
    "start_time": "2022-02-04T08:14:30.375Z"
   },
   {
    "duration": 241,
    "start_time": "2022-02-04T08:14:30.630Z"
   },
   {
    "duration": 581,
    "start_time": "2022-02-04T08:14:30.872Z"
   },
   {
    "duration": 578,
    "start_time": "2022-02-04T08:14:31.455Z"
   },
   {
    "duration": 548,
    "start_time": "2022-02-04T08:14:32.035Z"
   },
   {
    "duration": 190,
    "start_time": "2022-02-04T08:14:32.585Z"
   },
   {
    "duration": 219,
    "start_time": "2022-02-04T08:14:32.777Z"
   },
   {
    "duration": 197,
    "start_time": "2022-02-04T08:14:32.997Z"
   },
   {
    "duration": 294,
    "start_time": "2022-02-04T08:14:33.196Z"
   },
   {
    "duration": 30,
    "start_time": "2022-02-04T08:21:14.763Z"
   },
   {
    "duration": 40,
    "start_time": "2022-02-04T08:21:21.203Z"
   },
   {
    "duration": 8,
    "start_time": "2022-02-04T08:22:12.286Z"
   },
   {
    "duration": 6,
    "start_time": "2022-02-04T08:22:41.179Z"
   },
   {
    "duration": 7,
    "start_time": "2022-02-04T08:22:45.517Z"
   },
   {
    "duration": 278,
    "start_time": "2022-02-04T08:28:54.939Z"
   },
   {
    "duration": 15,
    "start_time": "2022-02-04T08:31:42.825Z"
   },
   {
    "duration": 17,
    "start_time": "2022-02-04T08:31:52.721Z"
   },
   {
    "duration": 179,
    "start_time": "2022-02-04T08:32:40.876Z"
   },
   {
    "duration": 181,
    "start_time": "2022-02-04T08:33:06.319Z"
   },
   {
    "duration": 217,
    "start_time": "2022-02-04T08:34:31.686Z"
   },
   {
    "duration": 24,
    "start_time": "2022-02-04T08:35:38.007Z"
   },
   {
    "duration": 25,
    "start_time": "2022-02-04T08:36:09.041Z"
   },
   {
    "duration": 372,
    "start_time": "2022-02-04T08:36:29.621Z"
   },
   {
    "duration": 26,
    "start_time": "2022-02-04T08:37:00.553Z"
   },
   {
    "duration": 24,
    "start_time": "2022-02-04T08:37:24.109Z"
   },
   {
    "duration": 26,
    "start_time": "2022-02-04T08:39:01.426Z"
   },
   {
    "duration": 27,
    "start_time": "2022-02-04T08:39:11.564Z"
   },
   {
    "duration": 27,
    "start_time": "2022-02-04T08:40:51.932Z"
   },
   {
    "duration": 345,
    "start_time": "2022-02-04T08:42:56.023Z"
   },
   {
    "duration": 289,
    "start_time": "2022-02-04T08:43:07.581Z"
   },
   {
    "duration": 6599,
    "start_time": "2022-02-04T08:43:48.338Z"
   },
   {
    "duration": 7319,
    "start_time": "2022-02-04T08:44:08.488Z"
   },
   {
    "duration": 6897,
    "start_time": "2022-02-04T08:45:48.976Z"
   },
   {
    "duration": 30,
    "start_time": "2022-02-04T08:46:07.574Z"
   },
   {
    "duration": 269,
    "start_time": "2022-02-04T08:46:47.465Z"
   },
   {
    "duration": 6949,
    "start_time": "2022-02-04T08:48:33.526Z"
   },
   {
    "duration": 30,
    "start_time": "2022-02-04T08:49:12.959Z"
   },
   {
    "duration": 26,
    "start_time": "2022-02-04T08:49:37.953Z"
   },
   {
    "duration": 281,
    "start_time": "2022-02-04T09:17:57.747Z"
   },
   {
    "duration": 48,
    "start_time": "2022-02-04T09:18:18.650Z"
   },
   {
    "duration": 47,
    "start_time": "2022-02-04T09:18:42.522Z"
   },
   {
    "duration": 52,
    "start_time": "2022-02-04T09:46:16.420Z"
   },
   {
    "duration": 226,
    "start_time": "2022-02-04T09:47:32.798Z"
   },
   {
    "duration": 248,
    "start_time": "2022-02-04T09:47:46.362Z"
   },
   {
    "duration": 263,
    "start_time": "2022-02-04T09:47:58.150Z"
   },
   {
    "duration": 255,
    "start_time": "2022-02-04T09:48:02.530Z"
   },
   {
    "duration": 486,
    "start_time": "2022-02-04T09:50:24.348Z"
   },
   {
    "duration": 583,
    "start_time": "2022-02-04T09:50:31.760Z"
   },
   {
    "duration": 410,
    "start_time": "2022-02-04T09:52:01.379Z"
   },
   {
    "duration": 290,
    "start_time": "2022-02-04T09:52:07.519Z"
   },
   {
    "duration": 324,
    "start_time": "2022-02-04T09:52:12.141Z"
   },
   {
    "duration": 90,
    "start_time": "2022-02-04T10:02:52.795Z"
   },
   {
    "duration": 651,
    "start_time": "2022-02-04T10:03:01.963Z"
   },
   {
    "duration": 616,
    "start_time": "2022-02-04T10:04:20.083Z"
   },
   {
    "duration": 246,
    "start_time": "2022-02-04T10:04:33.727Z"
   },
   {
    "duration": 483,
    "start_time": "2022-02-04T10:04:40.842Z"
   },
   {
    "duration": 679,
    "start_time": "2022-02-04T10:04:55.372Z"
   },
   {
    "duration": 228,
    "start_time": "2022-02-04T10:14:51.090Z"
   },
   {
    "duration": 212,
    "start_time": "2022-02-04T10:15:52.172Z"
   },
   {
    "duration": 312,
    "start_time": "2022-02-04T10:16:17.445Z"
   },
   {
    "duration": 211,
    "start_time": "2022-02-04T10:16:28.860Z"
   },
   {
    "duration": 220,
    "start_time": "2022-02-04T10:18:26.544Z"
   },
   {
    "duration": 217,
    "start_time": "2022-02-04T10:18:39.721Z"
   },
   {
    "duration": 27,
    "start_time": "2022-02-04T11:07:07.561Z"
   },
   {
    "duration": 41,
    "start_time": "2022-02-04T11:07:11.633Z"
   },
   {
    "duration": 227,
    "start_time": "2022-02-04T11:07:32.661Z"
   },
   {
    "duration": 42,
    "start_time": "2022-02-04T11:07:35.753Z"
   },
   {
    "duration": 36,
    "start_time": "2022-02-04T11:07:40.902Z"
   },
   {
    "duration": 690,
    "start_time": "2022-02-04T11:08:06.872Z"
   },
   {
    "duration": 22,
    "start_time": "2022-02-04T11:08:07.564Z"
   },
   {
    "duration": 10,
    "start_time": "2022-02-04T11:08:07.588Z"
   },
   {
    "duration": 559,
    "start_time": "2022-02-04T11:08:07.601Z"
   },
   {
    "duration": 334,
    "start_time": "2022-02-04T11:08:08.162Z"
   },
   {
    "duration": 177,
    "start_time": "2022-02-04T11:08:08.498Z"
   },
   {
    "duration": 231,
    "start_time": "2022-02-04T11:08:08.677Z"
   },
   {
    "duration": 219,
    "start_time": "2022-02-04T11:08:08.910Z"
   },
   {
    "duration": 224,
    "start_time": "2022-02-04T11:08:09.133Z"
   },
   {
    "duration": 563,
    "start_time": "2022-02-04T11:08:09.360Z"
   },
   {
    "duration": 595,
    "start_time": "2022-02-04T11:08:09.925Z"
   },
   {
    "duration": 553,
    "start_time": "2022-02-04T11:08:10.522Z"
   },
   {
    "duration": 195,
    "start_time": "2022-02-04T11:08:11.078Z"
   },
   {
    "duration": 229,
    "start_time": "2022-02-04T11:08:11.275Z"
   },
   {
    "duration": 286,
    "start_time": "2022-02-04T11:08:11.506Z"
   },
   {
    "duration": 325,
    "start_time": "2022-02-04T11:08:11.795Z"
   },
   {
    "duration": 27,
    "start_time": "2022-02-04T11:08:12.122Z"
   },
   {
    "duration": 248,
    "start_time": "2022-02-04T11:08:12.151Z"
   },
   {
    "duration": 46,
    "start_time": "2022-02-04T11:08:12.401Z"
   },
   {
    "duration": 45,
    "start_time": "2022-02-04T11:08:30.935Z"
   },
   {
    "duration": 110,
    "start_time": "2022-02-04T11:08:42.636Z"
   },
   {
    "duration": 441,
    "start_time": "2022-02-04T11:09:19.230Z"
   },
   {
    "duration": 308,
    "start_time": "2022-02-04T11:09:33.464Z"
   },
   {
    "duration": 8111,
    "start_time": "2022-02-04T11:09:37.111Z"
   },
   {
    "duration": 935,
    "start_time": "2022-02-04T11:09:44.289Z"
   },
   {
    "duration": 726,
    "start_time": "2022-02-04T11:09:55.016Z"
   },
   {
    "duration": 21,
    "start_time": "2022-02-04T11:09:55.744Z"
   },
   {
    "duration": 11,
    "start_time": "2022-02-04T11:09:55.768Z"
   },
   {
    "duration": 573,
    "start_time": "2022-02-04T11:09:55.782Z"
   },
   {
    "duration": 340,
    "start_time": "2022-02-04T11:09:56.357Z"
   },
   {
    "duration": 198,
    "start_time": "2022-02-04T11:09:56.699Z"
   },
   {
    "duration": 238,
    "start_time": "2022-02-04T11:09:56.899Z"
   },
   {
    "duration": 224,
    "start_time": "2022-02-04T11:09:57.139Z"
   },
   {
    "duration": 220,
    "start_time": "2022-02-04T11:09:57.367Z"
   },
   {
    "duration": 550,
    "start_time": "2022-02-04T11:09:57.590Z"
   },
   {
    "duration": 584,
    "start_time": "2022-02-04T11:09:58.142Z"
   },
   {
    "duration": 579,
    "start_time": "2022-02-04T11:09:58.728Z"
   },
   {
    "duration": 211,
    "start_time": "2022-02-04T11:09:59.310Z"
   },
   {
    "duration": 228,
    "start_time": "2022-02-04T11:09:59.523Z"
   },
   {
    "duration": 303,
    "start_time": "2022-02-04T11:09:59.754Z"
   },
   {
    "duration": 328,
    "start_time": "2022-02-04T11:10:00.059Z"
   },
   {
    "duration": 46,
    "start_time": "2022-02-04T11:10:00.389Z"
   },
   {
    "duration": 263,
    "start_time": "2022-02-04T11:10:00.437Z"
   },
   {
    "duration": 55,
    "start_time": "2022-02-04T11:10:00.702Z"
   },
   {
    "duration": 45,
    "start_time": "2022-02-04T11:10:25.659Z"
   },
   {
    "duration": 44,
    "start_time": "2022-02-04T11:10:33.040Z"
   },
   {
    "duration": 146,
    "start_time": "2022-02-04T11:40:03.287Z"
   },
   {
    "duration": 339,
    "start_time": "2022-02-04T11:40:08.517Z"
   },
   {
    "duration": 927,
    "start_time": "2022-02-04T11:40:25.739Z"
   },
   {
    "duration": 1351,
    "start_time": "2022-02-04T11:52:19.594Z"
   },
   {
    "duration": 304,
    "start_time": "2022-02-04T13:20:46.104Z"
   },
   {
    "duration": 103,
    "start_time": "2022-02-04T13:20:55.711Z"
   },
   {
    "duration": 338,
    "start_time": "2022-02-04T13:21:02.221Z"
   },
   {
    "duration": 35890,
    "start_time": "2022-02-04T13:22:43.944Z"
   },
   {
    "duration": 340,
    "start_time": "2022-02-04T13:25:17.825Z"
   },
   {
    "duration": 1428,
    "start_time": "2022-02-04T13:40:32.768Z"
   },
   {
    "duration": 760,
    "start_time": "2022-02-05T08:18:30.486Z"
   },
   {
    "duration": 21,
    "start_time": "2022-02-05T08:18:31.248Z"
   },
   {
    "duration": 10,
    "start_time": "2022-02-05T08:18:31.272Z"
   },
   {
    "duration": 556,
    "start_time": "2022-02-05T08:18:31.284Z"
   },
   {
    "duration": 341,
    "start_time": "2022-02-05T08:18:31.842Z"
   },
   {
    "duration": 172,
    "start_time": "2022-02-05T08:18:32.185Z"
   },
   {
    "duration": 219,
    "start_time": "2022-02-05T08:18:32.359Z"
   },
   {
    "duration": 212,
    "start_time": "2022-02-05T08:18:32.580Z"
   },
   {
    "duration": 212,
    "start_time": "2022-02-05T08:18:32.794Z"
   },
   {
    "duration": 562,
    "start_time": "2022-02-05T08:18:33.008Z"
   },
   {
    "duration": 523,
    "start_time": "2022-02-05T08:18:33.572Z"
   },
   {
    "duration": 515,
    "start_time": "2022-02-05T08:18:34.098Z"
   },
   {
    "duration": 183,
    "start_time": "2022-02-05T08:18:34.618Z"
   },
   {
    "duration": 228,
    "start_time": "2022-02-05T08:18:34.803Z"
   },
   {
    "duration": 276,
    "start_time": "2022-02-05T08:18:35.032Z"
   },
   {
    "duration": 282,
    "start_time": "2022-02-05T08:18:35.318Z"
   },
   {
    "duration": 27,
    "start_time": "2022-02-05T08:18:35.618Z"
   },
   {
    "duration": 234,
    "start_time": "2022-02-05T08:18:35.647Z"
   },
   {
    "duration": 1170,
    "start_time": "2022-02-05T08:18:35.884Z"
   },
   {
    "duration": 19,
    "start_time": "2022-02-05T08:19:52.395Z"
   },
   {
    "duration": 285,
    "start_time": "2022-02-05T08:20:49.711Z"
   },
   {
    "duration": 7207,
    "start_time": "2022-02-05T08:21:13.388Z"
   },
   {
    "duration": 6691,
    "start_time": "2022-02-05T08:21:24.893Z"
   },
   {
    "duration": 333,
    "start_time": "2022-02-05T08:21:42.495Z"
   },
   {
    "duration": 440,
    "start_time": "2022-02-05T08:23:40.467Z"
   },
   {
    "duration": 88,
    "start_time": "2022-02-05T08:27:42.565Z"
   },
   {
    "duration": 1333,
    "start_time": "2022-02-05T08:27:57.445Z"
   },
   {
    "duration": 1414,
    "start_time": "2022-02-05T08:28:52.663Z"
   },
   {
    "duration": 275,
    "start_time": "2022-02-05T09:01:47.176Z"
   },
   {
    "duration": 98,
    "start_time": "2022-02-05T09:48:59.058Z"
   },
   {
    "duration": 20,
    "start_time": "2022-02-05T09:48:59.157Z"
   },
   {
    "duration": 7,
    "start_time": "2022-02-05T09:48:59.179Z"
   },
   {
    "duration": 552,
    "start_time": "2022-02-05T09:48:59.188Z"
   },
   {
    "duration": 211,
    "start_time": "2022-02-05T09:48:59.741Z"
   },
   {
    "duration": 176,
    "start_time": "2022-02-05T09:48:59.954Z"
   },
   {
    "duration": 221,
    "start_time": "2022-02-05T09:49:00.132Z"
   },
   {
    "duration": 292,
    "start_time": "2022-02-05T09:49:00.355Z"
   },
   {
    "duration": 203,
    "start_time": "2022-02-05T09:49:00.650Z"
   },
   {
    "duration": 532,
    "start_time": "2022-02-05T09:49:00.856Z"
   },
   {
    "duration": 512,
    "start_time": "2022-02-05T09:49:01.390Z"
   },
   {
    "duration": 492,
    "start_time": "2022-02-05T09:49:01.904Z"
   },
   {
    "duration": 190,
    "start_time": "2022-02-05T09:49:02.398Z"
   },
   {
    "duration": 223,
    "start_time": "2022-02-05T09:49:02.590Z"
   },
   {
    "duration": 271,
    "start_time": "2022-02-05T09:49:02.815Z"
   },
   {
    "duration": 219,
    "start_time": "2022-02-05T09:49:03.089Z"
   },
   {
    "duration": 28,
    "start_time": "2022-02-05T09:49:03.318Z"
   },
   {
    "duration": 253,
    "start_time": "2022-02-05T09:49:03.348Z"
   },
   {
    "duration": 1419,
    "start_time": "2022-02-05T09:49:03.603Z"
   },
   {
    "duration": 200,
    "start_time": "2022-02-05T09:53:37.974Z"
   },
   {
    "duration": 203,
    "start_time": "2022-02-05T09:53:39.955Z"
   },
   {
    "duration": 201,
    "start_time": "2022-02-06T11:24:15.595Z"
   },
   {
    "duration": 98,
    "start_time": "2022-02-06T11:24:23.146Z"
   },
   {
    "duration": 480,
    "start_time": "2022-02-06T11:29:08.360Z"
   },
   {
    "duration": 283,
    "start_time": "2022-02-06T12:08:01.647Z"
   },
   {
    "duration": 1407,
    "start_time": "2022-02-06T12:08:14.734Z"
   },
   {
    "duration": 33,
    "start_time": "2022-02-06T12:08:16.149Z"
   },
   {
    "duration": 13,
    "start_time": "2022-02-06T12:08:16.185Z"
   },
   {
    "duration": 751,
    "start_time": "2022-02-06T12:08:16.201Z"
   },
   {
    "duration": 484,
    "start_time": "2022-02-06T12:08:16.954Z"
   },
   {
    "duration": 286,
    "start_time": "2022-02-06T12:08:17.440Z"
   },
   {
    "duration": 338,
    "start_time": "2022-02-06T12:08:17.729Z"
   },
   {
    "duration": 333,
    "start_time": "2022-02-06T12:08:18.070Z"
   },
   {
    "duration": 324,
    "start_time": "2022-02-06T12:08:18.406Z"
   },
   {
    "duration": 1016,
    "start_time": "2022-02-06T12:08:18.732Z"
   },
   {
    "duration": 734,
    "start_time": "2022-02-06T12:08:19.751Z"
   },
   {
    "duration": 1024,
    "start_time": "2022-02-06T12:08:20.488Z"
   },
   {
    "duration": 289,
    "start_time": "2022-02-06T12:08:21.515Z"
   },
   {
    "duration": 362,
    "start_time": "2022-02-06T12:08:21.806Z"
   },
   {
    "duration": 492,
    "start_time": "2022-02-06T12:08:22.171Z"
   },
   {
    "duration": 387,
    "start_time": "2022-02-06T12:08:22.665Z"
   },
   {
    "duration": 36,
    "start_time": "2022-02-06T12:08:23.054Z"
   },
   {
    "duration": 364,
    "start_time": "2022-02-06T12:08:23.093Z"
   },
   {
    "duration": 1979,
    "start_time": "2022-02-06T12:08:23.459Z"
   },
   {
    "duration": 759,
    "start_time": "2022-02-06T12:09:13.133Z"
   },
   {
    "duration": 324,
    "start_time": "2022-02-06T12:09:25.014Z"
   },
   {
    "duration": 261,
    "start_time": "2022-02-06T12:09:45.169Z"
   },
   {
    "duration": 285,
    "start_time": "2022-02-06T12:10:09.783Z"
   },
   {
    "duration": 336,
    "start_time": "2022-02-06T12:15:17.447Z"
   },
   {
    "duration": 460,
    "start_time": "2022-02-06T12:15:25.177Z"
   },
   {
    "duration": 355,
    "start_time": "2022-02-06T12:16:32.422Z"
   },
   {
    "duration": 331,
    "start_time": "2022-02-06T12:16:51.102Z"
   },
   {
    "duration": 350,
    "start_time": "2022-02-06T12:17:01.124Z"
   },
   {
    "duration": 319,
    "start_time": "2022-02-06T12:19:15.953Z"
   },
   {
    "duration": 332,
    "start_time": "2022-02-06T13:29:16.156Z"
   },
   {
    "duration": 302,
    "start_time": "2022-02-06T13:31:59.371Z"
   },
   {
    "duration": 299,
    "start_time": "2022-02-06T13:32:03.266Z"
   },
   {
    "duration": 780,
    "start_time": "2022-02-06T13:32:32.424Z"
   },
   {
    "duration": 1980,
    "start_time": "2022-02-06T13:37:07.087Z"
   },
   {
    "duration": 2104,
    "start_time": "2022-02-06T13:43:30.129Z"
   },
   {
    "duration": 2426,
    "start_time": "2022-02-06T13:46:01.678Z"
   },
   {
    "duration": 1372,
    "start_time": "2022-02-13T13:56:38.615Z"
   },
   {
    "duration": 91,
    "start_time": "2022-02-13T13:56:39.990Z"
   },
   {
    "duration": 9,
    "start_time": "2022-02-13T13:56:40.083Z"
   },
   {
    "duration": 921,
    "start_time": "2022-02-13T13:56:40.094Z"
   },
   {
    "duration": 591,
    "start_time": "2022-02-13T13:56:41.017Z"
   },
   {
    "duration": 374,
    "start_time": "2022-02-13T13:56:41.610Z"
   },
   {
    "duration": 607,
    "start_time": "2022-02-13T13:56:41.986Z"
   },
   {
    "duration": 604,
    "start_time": "2022-02-13T13:56:42.596Z"
   },
   {
    "duration": 592,
    "start_time": "2022-02-13T13:56:43.202Z"
   },
   {
    "duration": 807,
    "start_time": "2022-02-13T13:56:43.795Z"
   },
   {
    "duration": 892,
    "start_time": "2022-02-13T13:56:44.604Z"
   },
   {
    "duration": 803,
    "start_time": "2022-02-13T13:56:45.498Z"
   },
   {
    "duration": 378,
    "start_time": "2022-02-13T13:56:46.302Z"
   },
   {
    "duration": 405,
    "start_time": "2022-02-13T13:56:46.681Z"
   },
   {
    "duration": 504,
    "start_time": "2022-02-13T13:56:47.087Z"
   },
   {
    "duration": 803,
    "start_time": "2022-02-13T13:56:47.593Z"
   },
   {
    "duration": 92,
    "start_time": "2022-02-13T13:56:48.398Z"
   },
   {
    "duration": 485,
    "start_time": "2022-02-13T13:56:48.492Z"
   },
   {
    "duration": 2815,
    "start_time": "2022-02-13T13:56:48.979Z"
   },
   {
    "duration": 942,
    "start_time": "2022-02-20T08:56:58.536Z"
   },
   {
    "duration": 228,
    "start_time": "2022-02-20T08:56:59.481Z"
   },
   {
    "duration": 48,
    "start_time": "2022-02-20T08:56:59.713Z"
   },
   {
    "duration": 90,
    "start_time": "2022-02-20T08:56:59.764Z"
   },
   {
    "duration": 916,
    "start_time": "2022-02-20T08:56:58.941Z"
   },
   {
    "duration": 916,
    "start_time": "2022-02-20T08:56:58.943Z"
   },
   {
    "duration": 916,
    "start_time": "2022-02-20T08:56:58.944Z"
   },
   {
    "duration": 913,
    "start_time": "2022-02-20T08:56:58.948Z"
   },
   {
    "duration": 908,
    "start_time": "2022-02-20T08:56:58.955Z"
   },
   {
    "duration": 904,
    "start_time": "2022-02-20T08:56:58.961Z"
   },
   {
    "duration": 905,
    "start_time": "2022-02-20T08:56:58.962Z"
   },
   {
    "duration": 905,
    "start_time": "2022-02-20T08:56:58.963Z"
   },
   {
    "duration": 905,
    "start_time": "2022-02-20T08:56:58.965Z"
   },
   {
    "duration": 903,
    "start_time": "2022-02-20T08:56:58.969Z"
   },
   {
    "duration": 902,
    "start_time": "2022-02-20T08:56:58.971Z"
   },
   {
    "duration": 901,
    "start_time": "2022-02-20T08:56:58.974Z"
   },
   {
    "duration": 901,
    "start_time": "2022-02-20T08:56:58.976Z"
   },
   {
    "duration": 902,
    "start_time": "2022-02-20T08:56:58.977Z"
   },
   {
    "duration": 904,
    "start_time": "2022-02-20T08:56:58.978Z"
   },
   {
    "duration": 902,
    "start_time": "2022-02-20T08:56:58.982Z"
   },
   {
    "duration": 87,
    "start_time": "2022-02-20T08:57:17.947Z"
   },
   {
    "duration": 153,
    "start_time": "2022-02-20T08:57:18.037Z"
   },
   {
    "duration": 59,
    "start_time": "2022-02-20T08:57:18.193Z"
   },
   {
    "duration": 94,
    "start_time": "2022-02-20T08:57:18.255Z"
   },
   {
    "duration": 906,
    "start_time": "2022-02-20T08:57:17.446Z"
   },
   {
    "duration": 906,
    "start_time": "2022-02-20T08:57:17.448Z"
   },
   {
    "duration": 907,
    "start_time": "2022-02-20T08:57:17.449Z"
   },
   {
    "duration": 907,
    "start_time": "2022-02-20T08:57:17.450Z"
   },
   {
    "duration": 908,
    "start_time": "2022-02-20T08:57:17.451Z"
   },
   {
    "duration": 908,
    "start_time": "2022-02-20T08:57:17.452Z"
   },
   {
    "duration": 909,
    "start_time": "2022-02-20T08:57:17.453Z"
   },
   {
    "duration": 909,
    "start_time": "2022-02-20T08:57:17.454Z"
   },
   {
    "duration": 910,
    "start_time": "2022-02-20T08:57:17.455Z"
   },
   {
    "duration": 906,
    "start_time": "2022-02-20T08:57:17.461Z"
   },
   {
    "duration": 906,
    "start_time": "2022-02-20T08:57:17.463Z"
   },
   {
    "duration": 907,
    "start_time": "2022-02-20T08:57:17.464Z"
   },
   {
    "duration": 908,
    "start_time": "2022-02-20T08:57:17.465Z"
   },
   {
    "duration": 909,
    "start_time": "2022-02-20T08:57:17.466Z"
   },
   {
    "duration": 910,
    "start_time": "2022-02-20T08:57:17.467Z"
   },
   {
    "duration": 906,
    "start_time": "2022-02-20T08:57:17.473Z"
   },
   {
    "duration": 37,
    "start_time": "2022-02-20T08:57:42.691Z"
   },
   {
    "duration": 377,
    "start_time": "2022-02-20T08:58:44.530Z"
   },
   {
    "duration": 938,
    "start_time": "2022-02-20T08:59:04.615Z"
   },
   {
    "duration": 164,
    "start_time": "2022-02-20T08:59:05.556Z"
   },
   {
    "duration": 43,
    "start_time": "2022-02-20T08:59:05.727Z"
   },
   {
    "duration": 66,
    "start_time": "2022-02-20T08:59:05.773Z"
   },
   {
    "duration": 938,
    "start_time": "2022-02-20T08:59:05.842Z"
   },
   {
    "duration": 660,
    "start_time": "2022-02-20T08:59:06.782Z"
   },
   {
    "duration": 349,
    "start_time": "2022-02-20T08:59:07.445Z"
   },
   {
    "duration": 653,
    "start_time": "2022-02-20T08:59:07.796Z"
   },
   {
    "duration": 754,
    "start_time": "2022-02-20T08:59:08.453Z"
   },
   {
    "duration": 416,
    "start_time": "2022-02-20T08:59:09.210Z"
   },
   {
    "duration": 857,
    "start_time": "2022-02-20T08:59:09.630Z"
   },
   {
    "duration": 845,
    "start_time": "2022-02-20T08:59:10.489Z"
   },
   {
    "duration": 807,
    "start_time": "2022-02-20T08:59:11.337Z"
   },
   {
    "duration": 347,
    "start_time": "2022-02-20T08:59:12.148Z"
   },
   {
    "duration": 392,
    "start_time": "2022-02-20T08:59:12.498Z"
   },
   {
    "duration": 459,
    "start_time": "2022-02-20T08:59:12.893Z"
   },
   {
    "duration": 500,
    "start_time": "2022-02-20T08:59:13.355Z"
   },
   {
    "duration": 43,
    "start_time": "2022-02-20T08:59:13.858Z"
   },
   {
    "duration": 428,
    "start_time": "2022-02-20T08:59:13.927Z"
   },
   {
    "duration": 2375,
    "start_time": "2022-02-20T08:59:14.357Z"
   },
   {
    "duration": 58,
    "start_time": "2022-02-20T08:59:24.589Z"
   },
   {
    "duration": 10,
    "start_time": "2022-02-20T09:36:30.535Z"
   },
   {
    "duration": 11,
    "start_time": "2022-02-20T09:37:47.442Z"
   },
   {
    "duration": 10,
    "start_time": "2022-02-20T09:38:16.280Z"
   },
   {
    "duration": 11,
    "start_time": "2022-02-20T09:39:35.912Z"
   },
   {
    "duration": 10,
    "start_time": "2022-02-20T09:39:41.124Z"
   },
   {
    "duration": 10,
    "start_time": "2022-02-20T09:39:47.738Z"
   },
   {
    "duration": 11,
    "start_time": "2022-02-20T09:39:50.865Z"
   },
   {
    "duration": 11,
    "start_time": "2022-02-20T09:39:54.054Z"
   },
   {
    "duration": 13,
    "start_time": "2022-02-20T09:55:19.301Z"
   },
   {
    "duration": 103,
    "start_time": "2022-02-20T09:55:34.745Z"
   },
   {
    "duration": 13,
    "start_time": "2022-02-20T09:55:44.430Z"
   },
   {
    "duration": 14,
    "start_time": "2022-02-20T09:55:46.528Z"
   },
   {
    "duration": 15,
    "start_time": "2022-02-20T09:56:57.164Z"
   },
   {
    "duration": 17,
    "start_time": "2022-02-20T09:57:38.718Z"
   },
   {
    "duration": 17,
    "start_time": "2022-02-20T09:57:45.989Z"
   },
   {
    "duration": 18,
    "start_time": "2022-02-20T10:02:24.842Z"
   },
   {
    "duration": 17,
    "start_time": "2022-02-20T10:02:40.685Z"
   },
   {
    "duration": 19,
    "start_time": "2022-02-20T10:02:45.541Z"
   },
   {
    "duration": 17,
    "start_time": "2022-02-20T10:02:48.626Z"
   },
   {
    "duration": 11,
    "start_time": "2022-02-20T10:05:42.781Z"
   },
   {
    "duration": 751,
    "start_time": "2022-02-21T06:38:52.168Z"
   },
   {
    "duration": 92,
    "start_time": "2022-02-21T06:38:52.921Z"
   },
   {
    "duration": 25,
    "start_time": "2022-02-21T06:38:53.016Z"
   },
   {
    "duration": 30,
    "start_time": "2022-02-21T06:38:53.043Z"
   },
   {
    "duration": 6,
    "start_time": "2022-02-21T06:38:53.075Z"
   },
   {
    "duration": 487,
    "start_time": "2022-02-21T06:38:53.083Z"
   },
   {
    "duration": 328,
    "start_time": "2022-02-21T06:38:53.571Z"
   },
   {
    "duration": 193,
    "start_time": "2022-02-21T06:38:53.902Z"
   },
   {
    "duration": 224,
    "start_time": "2022-02-21T06:38:54.097Z"
   },
   {
    "duration": 216,
    "start_time": "2022-02-21T06:38:54.322Z"
   },
   {
    "duration": 211,
    "start_time": "2022-02-21T06:38:54.540Z"
   },
   {
    "duration": 505,
    "start_time": "2022-02-21T06:38:54.758Z"
   },
   {
    "duration": 510,
    "start_time": "2022-02-21T06:38:55.265Z"
   },
   {
    "duration": 484,
    "start_time": "2022-02-21T06:38:55.777Z"
   },
   {
    "duration": 190,
    "start_time": "2022-02-21T06:38:56.262Z"
   },
   {
    "duration": 346,
    "start_time": "2022-02-21T06:38:56.454Z"
   },
   {
    "duration": 374,
    "start_time": "2022-02-21T06:38:56.802Z"
   },
   {
    "duration": 298,
    "start_time": "2022-02-21T06:38:57.178Z"
   },
   {
    "duration": 26,
    "start_time": "2022-02-21T06:38:57.477Z"
   },
   {
    "duration": 237,
    "start_time": "2022-02-21T06:38:57.505Z"
   },
   {
    "duration": 1321,
    "start_time": "2022-02-21T06:38:57.744Z"
   },
   {
    "duration": 68,
    "start_time": "2022-02-21T06:47:16.196Z"
   },
   {
    "duration": 460,
    "start_time": "2022-02-21T06:51:28.277Z"
   },
   {
    "duration": 228,
    "start_time": "2022-02-21T06:51:59.999Z"
   },
   {
    "duration": 209,
    "start_time": "2022-02-21T06:54:10.720Z"
   },
   {
    "duration": 234,
    "start_time": "2022-02-21T06:55:48.632Z"
   },
   {
    "duration": 216,
    "start_time": "2022-02-21T06:56:10.471Z"
   },
   {
    "duration": 229,
    "start_time": "2022-02-21T06:56:31.010Z"
   },
   {
    "duration": 262,
    "start_time": "2022-02-21T06:59:36.309Z"
   },
   {
    "duration": 191,
    "start_time": "2022-02-21T06:59:49.976Z"
   },
   {
    "duration": 230,
    "start_time": "2022-02-21T07:14:23.988Z"
   },
   {
    "duration": 155,
    "start_time": "2022-02-21T07:18:06.345Z"
   },
   {
    "duration": 223,
    "start_time": "2022-02-21T07:18:33.468Z"
   },
   {
    "duration": 221,
    "start_time": "2022-02-21T07:21:02.101Z"
   },
   {
    "duration": 224,
    "start_time": "2022-02-21T07:21:11.322Z"
   },
   {
    "duration": 231,
    "start_time": "2022-02-21T07:21:30.520Z"
   },
   {
    "duration": 541,
    "start_time": "2022-02-21T07:26:22.233Z"
   },
   {
    "duration": 530,
    "start_time": "2022-02-21T07:26:48.975Z"
   },
   {
    "duration": 521,
    "start_time": "2022-02-21T07:27:31.822Z"
   },
   {
    "duration": 593,
    "start_time": "2022-02-21T07:27:42.750Z"
   },
   {
    "duration": 519,
    "start_time": "2022-02-21T07:28:43.827Z"
   },
   {
    "duration": 2203,
    "start_time": "2022-02-21T07:33:20.725Z"
   },
   {
    "duration": 2199,
    "start_time": "2022-02-21T07:34:00.092Z"
   },
   {
    "duration": 8887,
    "start_time": "2022-02-21T07:34:03.042Z"
   },
   {
    "duration": 10248,
    "start_time": "2022-02-21T07:34:12.179Z"
   },
   {
    "duration": 939,
    "start_time": "2022-02-21T07:35:36.626Z"
   },
   {
    "duration": 102,
    "start_time": "2022-02-21T07:35:37.566Z"
   },
   {
    "duration": 26,
    "start_time": "2022-02-21T07:35:37.673Z"
   },
   {
    "duration": 21,
    "start_time": "2022-02-21T07:35:37.701Z"
   },
   {
    "duration": 34,
    "start_time": "2022-02-21T07:35:37.724Z"
   },
   {
    "duration": 485,
    "start_time": "2022-02-21T07:35:37.760Z"
   },
   {
    "duration": 290,
    "start_time": "2022-02-21T07:35:38.248Z"
   },
   {
    "duration": 203,
    "start_time": "2022-02-21T07:35:38.540Z"
   },
   {
    "duration": 254,
    "start_time": "2022-02-21T07:35:38.745Z"
   },
   {
    "duration": 234,
    "start_time": "2022-02-21T07:35:39.001Z"
   },
   {
    "duration": 222,
    "start_time": "2022-02-21T07:35:39.236Z"
   },
   {
    "duration": 500,
    "start_time": "2022-02-21T07:35:39.460Z"
   },
   {
    "duration": 508,
    "start_time": "2022-02-21T07:35:39.962Z"
   },
   {
    "duration": 492,
    "start_time": "2022-02-21T07:35:40.472Z"
   },
   {
    "duration": 193,
    "start_time": "2022-02-21T07:35:40.966Z"
   },
   {
    "duration": 229,
    "start_time": "2022-02-21T07:35:41.161Z"
   },
   {
    "duration": 269,
    "start_time": "2022-02-21T07:35:41.392Z"
   },
   {
    "duration": 304,
    "start_time": "2022-02-21T07:35:41.663Z"
   },
   {
    "duration": 25,
    "start_time": "2022-02-21T07:35:41.968Z"
   },
   {
    "duration": 245,
    "start_time": "2022-02-21T07:35:41.995Z"
   },
   {
    "duration": 1368,
    "start_time": "2022-02-21T07:35:42.243Z"
   },
   {
    "duration": 742,
    "start_time": "2022-02-21T07:39:18.952Z"
   },
   {
    "duration": 217,
    "start_time": "2022-02-21T07:39:32.775Z"
   },
   {
    "duration": 335,
    "start_time": "2022-02-21T07:56:16.735Z"
   },
   {
    "duration": 30,
    "start_time": "2022-02-21T07:56:44.182Z"
   },
   {
    "duration": 303,
    "start_time": "2022-02-21T08:11:59.647Z"
   },
   {
    "duration": 351,
    "start_time": "2022-02-21T08:12:08.097Z"
   },
   {
    "duration": 30,
    "start_time": "2022-02-21T08:16:14.461Z"
   },
   {
    "duration": 28,
    "start_time": "2022-02-21T08:21:04.286Z"
   },
   {
    "duration": 33,
    "start_time": "2022-02-21T08:22:36.560Z"
   },
   {
    "duration": 581,
    "start_time": "2022-02-21T08:22:57.088Z"
   },
   {
    "duration": 343,
    "start_time": "2022-02-21T08:23:03.154Z"
   },
   {
    "duration": 28,
    "start_time": "2022-02-21T08:37:25.459Z"
   },
   {
    "duration": 133,
    "start_time": "2022-02-21T08:54:28.806Z"
   },
   {
    "duration": 90,
    "start_time": "2022-02-21T08:54:50.947Z"
   },
   {
    "duration": 60,
    "start_time": "2022-02-21T08:54:59.816Z"
   },
   {
    "duration": 80,
    "start_time": "2022-02-21T08:55:14.515Z"
   },
   {
    "duration": 31,
    "start_time": "2022-02-21T08:55:20.272Z"
   },
   {
    "duration": 51,
    "start_time": "2022-09-06T16:02:19.717Z"
   },
   {
    "duration": 7,
    "start_time": "2022-09-06T16:02:20.990Z"
   },
   {
    "duration": 1207,
    "start_time": "2022-09-06T16:04:08.793Z"
   },
   {
    "duration": 95,
    "start_time": "2022-09-06T16:04:10.002Z"
   },
   {
    "duration": 43,
    "start_time": "2022-09-06T16:04:10.099Z"
   },
   {
    "duration": 23,
    "start_time": "2022-09-06T16:04:10.144Z"
   },
   {
    "duration": 35,
    "start_time": "2022-09-06T16:04:10.168Z"
   },
   {
    "duration": 7,
    "start_time": "2022-09-06T16:04:10.205Z"
   },
   {
    "duration": 355,
    "start_time": "2022-09-06T16:04:10.213Z"
   },
   {
    "duration": 182,
    "start_time": "2022-09-06T16:04:10.569Z"
   },
   {
    "duration": 193,
    "start_time": "2022-09-06T16:04:10.753Z"
   },
   {
    "duration": 173,
    "start_time": "2022-09-06T16:04:10.949Z"
   },
   {
    "duration": 177,
    "start_time": "2022-09-06T16:04:11.124Z"
   },
   {
    "duration": 540,
    "start_time": "2022-09-06T16:04:11.303Z"
   },
   {
    "duration": 0,
    "start_time": "2022-09-06T16:04:11.845Z"
   },
   {
    "duration": 0,
    "start_time": "2022-09-06T16:04:11.846Z"
   },
   {
    "duration": 0,
    "start_time": "2022-09-06T16:04:11.848Z"
   },
   {
    "duration": 0,
    "start_time": "2022-09-06T16:04:11.849Z"
   },
   {
    "duration": 0,
    "start_time": "2022-09-06T16:04:11.850Z"
   },
   {
    "duration": 0,
    "start_time": "2022-09-06T16:04:11.851Z"
   },
   {
    "duration": 0,
    "start_time": "2022-09-06T16:04:11.852Z"
   },
   {
    "duration": 0,
    "start_time": "2022-09-06T16:04:11.854Z"
   },
   {
    "duration": 0,
    "start_time": "2022-09-06T16:04:11.855Z"
   },
   {
    "duration": 0,
    "start_time": "2022-09-06T16:04:11.856Z"
   },
   {
    "duration": 8,
    "start_time": "2022-09-06T16:05:25.289Z"
   },
   {
    "duration": 5,
    "start_time": "2022-09-06T16:05:35.701Z"
   },
   {
    "duration": 18,
    "start_time": "2022-09-06T16:05:54.959Z"
   },
   {
    "duration": 49,
    "start_time": "2022-09-06T16:09:06.123Z"
   },
   {
    "duration": 101,
    "start_time": "2022-09-06T16:09:09.071Z"
   },
   {
    "duration": 84,
    "start_time": "2022-09-06T16:09:09.174Z"
   },
   {
    "duration": 52,
    "start_time": "2022-09-06T16:09:09.260Z"
   },
   {
    "duration": 22,
    "start_time": "2022-09-06T16:09:09.314Z"
   },
   {
    "duration": 20,
    "start_time": "2022-09-06T16:09:09.338Z"
   },
   {
    "duration": 32,
    "start_time": "2022-09-06T16:09:09.360Z"
   },
   {
    "duration": 307,
    "start_time": "2022-09-06T16:09:09.394Z"
   },
   {
    "duration": 184,
    "start_time": "2022-09-06T16:09:09.703Z"
   },
   {
    "duration": 160,
    "start_time": "2022-09-06T16:09:09.889Z"
   },
   {
    "duration": 196,
    "start_time": "2022-09-06T16:09:10.054Z"
   },
   {
    "duration": 235,
    "start_time": "2022-09-06T16:09:10.252Z"
   },
   {
    "duration": 22,
    "start_time": "2022-09-06T16:09:10.489Z"
   },
   {
    "duration": 464,
    "start_time": "2022-09-06T16:09:10.514Z"
   },
   {
    "duration": 0,
    "start_time": "2022-09-06T16:09:10.979Z"
   },
   {
    "duration": 0,
    "start_time": "2022-09-06T16:09:10.981Z"
   },
   {
    "duration": 0,
    "start_time": "2022-09-06T16:09:10.982Z"
   },
   {
    "duration": 0,
    "start_time": "2022-09-06T16:09:10.986Z"
   },
   {
    "duration": 0,
    "start_time": "2022-09-06T16:09:10.988Z"
   },
   {
    "duration": 0,
    "start_time": "2022-09-06T16:09:10.989Z"
   },
   {
    "duration": 0,
    "start_time": "2022-09-06T16:09:10.990Z"
   },
   {
    "duration": 0,
    "start_time": "2022-09-06T16:09:10.992Z"
   },
   {
    "duration": 0,
    "start_time": "2022-09-06T16:09:10.993Z"
   },
   {
    "duration": 0,
    "start_time": "2022-09-06T16:09:10.994Z"
   },
   {
    "duration": 165,
    "start_time": "2022-09-06T16:09:25.636Z"
   },
   {
    "duration": 410,
    "start_time": "2022-09-06T16:09:29.735Z"
   },
   {
    "duration": 158,
    "start_time": "2022-09-06T16:12:50.281Z"
   },
   {
    "duration": 167,
    "start_time": "2022-09-06T16:13:08.332Z"
   },
   {
    "duration": 695,
    "start_time": "2022-09-06T16:13:27.414Z"
   },
   {
    "duration": 88,
    "start_time": "2022-09-06T16:13:28.111Z"
   },
   {
    "duration": 37,
    "start_time": "2022-09-06T16:13:28.201Z"
   },
   {
    "duration": 20,
    "start_time": "2022-09-06T16:13:28.241Z"
   },
   {
    "duration": 22,
    "start_time": "2022-09-06T16:13:28.286Z"
   },
   {
    "duration": 6,
    "start_time": "2022-09-06T16:13:28.310Z"
   },
   {
    "duration": 308,
    "start_time": "2022-09-06T16:13:28.318Z"
   },
   {
    "duration": 177,
    "start_time": "2022-09-06T16:13:28.628Z"
   },
   {
    "duration": 190,
    "start_time": "2022-09-06T16:13:28.807Z"
   },
   {
    "duration": 179,
    "start_time": "2022-09-06T16:13:28.999Z"
   },
   {
    "duration": 165,
    "start_time": "2022-09-06T16:13:29.180Z"
   },
   {
    "duration": 179,
    "start_time": "2022-09-06T16:13:29.346Z"
   },
   {
    "duration": 196,
    "start_time": "2022-09-06T16:13:29.527Z"
   },
   {
    "duration": 220,
    "start_time": "2022-09-06T16:13:29.725Z"
   },
   {
    "duration": 210,
    "start_time": "2022-09-06T16:13:29.947Z"
   },
   {
    "duration": 150,
    "start_time": "2022-09-06T16:13:30.159Z"
   },
   {
    "duration": 179,
    "start_time": "2022-09-06T16:13:30.310Z"
   },
   {
    "duration": 196,
    "start_time": "2022-09-06T16:13:30.491Z"
   },
   {
    "duration": 174,
    "start_time": "2022-09-06T16:13:30.689Z"
   },
   {
    "duration": 111,
    "start_time": "2022-09-06T16:13:30.865Z"
   },
   {
    "duration": 187,
    "start_time": "2022-09-06T16:13:30.977Z"
   },
   {
    "duration": 983,
    "start_time": "2022-09-06T16:13:31.165Z"
   },
   {
    "duration": 28,
    "start_time": "2022-09-06T16:14:28.781Z"
   }
  ],
  "kernelspec": {
   "display_name": "Python 3 (ipykernel)",
   "language": "python",
   "name": "python3"
  },
  "language_info": {
   "codemirror_mode": {
    "name": "ipython",
    "version": 3
   },
   "file_extension": ".py",
   "mimetype": "text/x-python",
   "name": "python",
   "nbconvert_exporter": "python",
   "pygments_lexer": "ipython3",
   "version": "3.9.5"
  },
  "toc": {
   "base_numbering": 1,
   "nav_menu": {},
   "number_sections": true,
   "sideBar": true,
   "skip_h1_title": true,
   "title_cell": "Содержание",
   "title_sidebar": "Contents",
   "toc_cell": true,
   "toc_position": {
    "height": "calc(100% - 180px)",
    "left": "10px",
    "top": "150px",
    "width": "366.391px"
   },
   "toc_section_display": true,
   "toc_window_display": true
  }
 },
 "nbformat": 4,
 "nbformat_minor": 2
}
