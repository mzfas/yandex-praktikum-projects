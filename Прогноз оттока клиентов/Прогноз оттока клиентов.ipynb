{
 "cells": [
  {
   "cell_type": "markdown",
   "metadata": {},
   "source": [
    "# Прогноз оттока клиентов."
   ]
  },
  {
   "cell_type": "markdown",
   "metadata": {},
   "source": [
    "**Цели и задачи исследования:**\n",
    "- провести исследовательский анализ данных;\n",
    "- научиться прогнозировать вероятность оттока (на уровне следующего месяца) для каждого клиента;\n",
    "- сформировать типичные портреты клиентов: выделить несколько наиболее ярких групп и охарактеризовать их основные свойства;\n",
    "- проанализировать основные признаки, наиболее сильно влияющие на отток;\n",
    "- сформулировать основные выводы и разработать рекомендации по повышению качества работы с клиентами:\n",
    "    -  выделить целевые группы клиентов;\n",
    "    -  предложить меры по снижению оттока;\n",
    "    -  определить другие особенности взаимодействия с клиентами."
   ]
  },
  {
   "cell_type": "markdown",
   "metadata": {},
   "source": [
    "**Описание данных:**\n",
    "\n",
    "Данные клиента за предыдущий до проверки факта оттока месяц:\n",
    "- `gender` — пол;\n",
    "- `Near_Location` — проживание или работа в районе, где находится фитнес-центр;\n",
    "- `Partner` — сотрудник компании-партнёра клуба (сотрудничество с компаниями, чьи сотрудники могут получать скидки на абонемент - — в таком случае фитнес-центр хранит информацию о работодателе клиента);\n",
    "- `Promo_friends` — факт первоначальной записи в рамках акции «приведи друга» (использовал промо-код от знакомого при оплате первого абонемента);\n",
    "- `Phone` — наличие контактного телефона;\n",
    "- `Age` — возраст;\n",
    "- `Lifetime` — время с момента первого обращения в фитнес-центр (в месяцах).\n",
    "\n",
    "Информация на основе журнала посещений, покупок и информация о текущем статусе абонемента клиента:\n",
    "- `Contract_period` — длительность текущего действующего абонемента (месяц, 6 месяцев, год);\n",
    "- `Month_to_end_contract` — срок до окончания текущего действующего абонемента (в месяцах);\n",
    "- `Group_visits` — факт посещения групповых занятий;\n",
    "- `Avg_class_frequency_total` — средняя частота посещений в неделю за все время с начала действия абонемента;\n",
    "- `Avg_class_frequency_current_month` — средняя частота посещений в неделю за предыдущий месяц;\n",
    "- `Avg_additional_charges_total` — суммарная выручка от других услуг фитнес-центра: кафе, спорттовары, косметический и массажный салон.\n",
    "- `Churn` — факт оттока в текущем месяце."
   ]
  },
  {
   "cell_type": "markdown",
   "metadata": {},
   "source": [
    "## Загрузка библиотек, открытие файла с данными."
   ]
  },
  {
   "cell_type": "code",
   "execution_count": 1,
   "metadata": {},
   "outputs": [],
   "source": [
    "import pandas as pd\n",
    "import seaborn as sns\n",
    "import matplotlib.pyplot as plt\n",
    "\n",
    "from sklearn.model_selection import train_test_split\n",
    "from sklearn.linear_model import LogisticRegression\n",
    "from sklearn.ensemble import RandomForestClassifier\n",
    "from sklearn.metrics import accuracy_score, precision_score, recall_score\n",
    "from sklearn.preprocessing import StandardScaler\n",
    "from sklearn.cluster import KMeans\n",
    "from scipy.cluster.hierarchy import dendrogram, linkage "
   ]
  },
  {
   "cell_type": "code",
   "execution_count": 2,
   "metadata": {},
   "outputs": [
    {
     "name": "stdout",
     "output_type": "stream",
     "text": [
      "<class 'pandas.core.frame.DataFrame'>\n",
      "RangeIndex: 4000 entries, 0 to 3999\n",
      "Data columns (total 14 columns):\n",
      " #   Column                             Non-Null Count  Dtype  \n",
      "---  ------                             --------------  -----  \n",
      " 0   gender                             4000 non-null   int64  \n",
      " 1   Near_Location                      4000 non-null   int64  \n",
      " 2   Partner                            4000 non-null   int64  \n",
      " 3   Promo_friends                      4000 non-null   int64  \n",
      " 4   Phone                              4000 non-null   int64  \n",
      " 5   Contract_period                    4000 non-null   int64  \n",
      " 6   Group_visits                       4000 non-null   int64  \n",
      " 7   Age                                4000 non-null   int64  \n",
      " 8   Avg_additional_charges_total       4000 non-null   float64\n",
      " 9   Month_to_end_contract              4000 non-null   float64\n",
      " 10  Lifetime                           4000 non-null   int64  \n",
      " 11  Avg_class_frequency_total          4000 non-null   float64\n",
      " 12  Avg_class_frequency_current_month  4000 non-null   float64\n",
      " 13  Churn                              4000 non-null   int64  \n",
      "dtypes: float64(4), int64(10)\n",
      "memory usage: 437.6 KB\n",
      "Количество дубликатов: 0\n"
     ]
    },
    {
     "data": {
      "text/html": [
       "<div>\n",
       "<style scoped>\n",
       "    .dataframe tbody tr th:only-of-type {\n",
       "        vertical-align: middle;\n",
       "    }\n",
       "\n",
       "    .dataframe tbody tr th {\n",
       "        vertical-align: top;\n",
       "    }\n",
       "\n",
       "    .dataframe thead th {\n",
       "        text-align: right;\n",
       "    }\n",
       "</style>\n",
       "<table border=\"1\" class=\"dataframe\">\n",
       "  <thead>\n",
       "    <tr style=\"text-align: right;\">\n",
       "      <th></th>\n",
       "      <th>gender</th>\n",
       "      <th>Near_Location</th>\n",
       "      <th>Partner</th>\n",
       "      <th>Promo_friends</th>\n",
       "      <th>Phone</th>\n",
       "      <th>Contract_period</th>\n",
       "      <th>Group_visits</th>\n",
       "      <th>Age</th>\n",
       "      <th>Avg_additional_charges_total</th>\n",
       "      <th>Month_to_end_contract</th>\n",
       "      <th>Lifetime</th>\n",
       "      <th>Avg_class_frequency_total</th>\n",
       "      <th>Avg_class_frequency_current_month</th>\n",
       "      <th>Churn</th>\n",
       "    </tr>\n",
       "  </thead>\n",
       "  <tbody>\n",
       "    <tr>\n",
       "      <th>0</th>\n",
       "      <td>1</td>\n",
       "      <td>1</td>\n",
       "      <td>1</td>\n",
       "      <td>1</td>\n",
       "      <td>0</td>\n",
       "      <td>6</td>\n",
       "      <td>1</td>\n",
       "      <td>29</td>\n",
       "      <td>14.227470</td>\n",
       "      <td>5.0</td>\n",
       "      <td>3</td>\n",
       "      <td>0.020398</td>\n",
       "      <td>0.000000</td>\n",
       "      <td>0</td>\n",
       "    </tr>\n",
       "    <tr>\n",
       "      <th>1</th>\n",
       "      <td>0</td>\n",
       "      <td>1</td>\n",
       "      <td>0</td>\n",
       "      <td>0</td>\n",
       "      <td>1</td>\n",
       "      <td>12</td>\n",
       "      <td>1</td>\n",
       "      <td>31</td>\n",
       "      <td>113.202938</td>\n",
       "      <td>12.0</td>\n",
       "      <td>7</td>\n",
       "      <td>1.922936</td>\n",
       "      <td>1.910244</td>\n",
       "      <td>0</td>\n",
       "    </tr>\n",
       "    <tr>\n",
       "      <th>2</th>\n",
       "      <td>0</td>\n",
       "      <td>1</td>\n",
       "      <td>1</td>\n",
       "      <td>0</td>\n",
       "      <td>1</td>\n",
       "      <td>1</td>\n",
       "      <td>0</td>\n",
       "      <td>28</td>\n",
       "      <td>129.448479</td>\n",
       "      <td>1.0</td>\n",
       "      <td>2</td>\n",
       "      <td>1.859098</td>\n",
       "      <td>1.736502</td>\n",
       "      <td>0</td>\n",
       "    </tr>\n",
       "    <tr>\n",
       "      <th>3</th>\n",
       "      <td>0</td>\n",
       "      <td>1</td>\n",
       "      <td>1</td>\n",
       "      <td>1</td>\n",
       "      <td>1</td>\n",
       "      <td>12</td>\n",
       "      <td>1</td>\n",
       "      <td>33</td>\n",
       "      <td>62.669863</td>\n",
       "      <td>12.0</td>\n",
       "      <td>2</td>\n",
       "      <td>3.205633</td>\n",
       "      <td>3.357215</td>\n",
       "      <td>0</td>\n",
       "    </tr>\n",
       "    <tr>\n",
       "      <th>4</th>\n",
       "      <td>1</td>\n",
       "      <td>1</td>\n",
       "      <td>1</td>\n",
       "      <td>1</td>\n",
       "      <td>1</td>\n",
       "      <td>1</td>\n",
       "      <td>0</td>\n",
       "      <td>26</td>\n",
       "      <td>198.362265</td>\n",
       "      <td>1.0</td>\n",
       "      <td>3</td>\n",
       "      <td>1.113884</td>\n",
       "      <td>1.120078</td>\n",
       "      <td>0</td>\n",
       "    </tr>\n",
       "    <tr>\n",
       "      <th>5</th>\n",
       "      <td>1</td>\n",
       "      <td>1</td>\n",
       "      <td>0</td>\n",
       "      <td>0</td>\n",
       "      <td>1</td>\n",
       "      <td>1</td>\n",
       "      <td>1</td>\n",
       "      <td>34</td>\n",
       "      <td>450.743960</td>\n",
       "      <td>1.0</td>\n",
       "      <td>3</td>\n",
       "      <td>2.623477</td>\n",
       "      <td>2.637007</td>\n",
       "      <td>0</td>\n",
       "    </tr>\n",
       "    <tr>\n",
       "      <th>6</th>\n",
       "      <td>1</td>\n",
       "      <td>1</td>\n",
       "      <td>1</td>\n",
       "      <td>1</td>\n",
       "      <td>0</td>\n",
       "      <td>6</td>\n",
       "      <td>1</td>\n",
       "      <td>32</td>\n",
       "      <td>94.266389</td>\n",
       "      <td>6.0</td>\n",
       "      <td>2</td>\n",
       "      <td>1.138941</td>\n",
       "      <td>1.277242</td>\n",
       "      <td>0</td>\n",
       "    </tr>\n",
       "    <tr>\n",
       "      <th>7</th>\n",
       "      <td>0</td>\n",
       "      <td>1</td>\n",
       "      <td>0</td>\n",
       "      <td>0</td>\n",
       "      <td>1</td>\n",
       "      <td>1</td>\n",
       "      <td>0</td>\n",
       "      <td>30</td>\n",
       "      <td>217.786641</td>\n",
       "      <td>1.0</td>\n",
       "      <td>0</td>\n",
       "      <td>1.213502</td>\n",
       "      <td>1.049387</td>\n",
       "      <td>1</td>\n",
       "    </tr>\n",
       "    <tr>\n",
       "      <th>8</th>\n",
       "      <td>1</td>\n",
       "      <td>1</td>\n",
       "      <td>1</td>\n",
       "      <td>1</td>\n",
       "      <td>1</td>\n",
       "      <td>1</td>\n",
       "      <td>1</td>\n",
       "      <td>23</td>\n",
       "      <td>45.409909</td>\n",
       "      <td>1.0</td>\n",
       "      <td>1</td>\n",
       "      <td>1.106239</td>\n",
       "      <td>1.059333</td>\n",
       "      <td>0</td>\n",
       "    </tr>\n",
       "    <tr>\n",
       "      <th>9</th>\n",
       "      <td>0</td>\n",
       "      <td>1</td>\n",
       "      <td>0</td>\n",
       "      <td>0</td>\n",
       "      <td>1</td>\n",
       "      <td>1</td>\n",
       "      <td>0</td>\n",
       "      <td>31</td>\n",
       "      <td>65.310836</td>\n",
       "      <td>1.0</td>\n",
       "      <td>11</td>\n",
       "      <td>1.810852</td>\n",
       "      <td>1.951368</td>\n",
       "      <td>0</td>\n",
       "    </tr>\n",
       "  </tbody>\n",
       "</table>\n",
       "</div>"
      ],
      "text/plain": [
       "   gender  Near_Location  Partner  Promo_friends  Phone  Contract_period  \\\n",
       "0       1              1        1              1      0                6   \n",
       "1       0              1        0              0      1               12   \n",
       "2       0              1        1              0      1                1   \n",
       "3       0              1        1              1      1               12   \n",
       "4       1              1        1              1      1                1   \n",
       "5       1              1        0              0      1                1   \n",
       "6       1              1        1              1      0                6   \n",
       "7       0              1        0              0      1                1   \n",
       "8       1              1        1              1      1                1   \n",
       "9       0              1        0              0      1                1   \n",
       "\n",
       "   Group_visits  Age  Avg_additional_charges_total  Month_to_end_contract  \\\n",
       "0             1   29                     14.227470                    5.0   \n",
       "1             1   31                    113.202938                   12.0   \n",
       "2             0   28                    129.448479                    1.0   \n",
       "3             1   33                     62.669863                   12.0   \n",
       "4             0   26                    198.362265                    1.0   \n",
       "5             1   34                    450.743960                    1.0   \n",
       "6             1   32                     94.266389                    6.0   \n",
       "7             0   30                    217.786641                    1.0   \n",
       "8             1   23                     45.409909                    1.0   \n",
       "9             0   31                     65.310836                    1.0   \n",
       "\n",
       "   Lifetime  Avg_class_frequency_total  Avg_class_frequency_current_month  \\\n",
       "0         3                   0.020398                           0.000000   \n",
       "1         7                   1.922936                           1.910244   \n",
       "2         2                   1.859098                           1.736502   \n",
       "3         2                   3.205633                           3.357215   \n",
       "4         3                   1.113884                           1.120078   \n",
       "5         3                   2.623477                           2.637007   \n",
       "6         2                   1.138941                           1.277242   \n",
       "7         0                   1.213502                           1.049387   \n",
       "8         1                   1.106239                           1.059333   \n",
       "9        11                   1.810852                           1.951368   \n",
       "\n",
       "   Churn  \n",
       "0      0  \n",
       "1      0  \n",
       "2      0  \n",
       "3      0  \n",
       "4      0  \n",
       "5      0  \n",
       "6      0  \n",
       "7      1  \n",
       "8      0  \n",
       "9      0  "
      ]
     },
     "execution_count": 2,
     "metadata": {},
     "output_type": "execute_result"
    }
   ],
   "source": [
    "df = pd.read_csv('/datasets/gym_churn.csv')\n",
    "df.shape\n",
    "df.info()\n",
    "print(\"Количество дубликатов: {:.0f}\".format(df.duplicated().sum()))\n",
    "df.head(10)"
   ]
  },
  {
   "cell_type": "markdown",
   "metadata": {},
   "source": [
    "Таблица имеет 4000 строк, дубликаты отсутствуют. Для удобства приведем названия столбцов к нижнему регистру. "
   ]
  },
  {
   "cell_type": "code",
   "execution_count": 3,
   "metadata": {},
   "outputs": [
    {
     "data": {
      "text/html": [
       "<div>\n",
       "<style scoped>\n",
       "    .dataframe tbody tr th:only-of-type {\n",
       "        vertical-align: middle;\n",
       "    }\n",
       "\n",
       "    .dataframe tbody tr th {\n",
       "        vertical-align: top;\n",
       "    }\n",
       "\n",
       "    .dataframe thead th {\n",
       "        text-align: right;\n",
       "    }\n",
       "</style>\n",
       "<table border=\"1\" class=\"dataframe\">\n",
       "  <thead>\n",
       "    <tr style=\"text-align: right;\">\n",
       "      <th></th>\n",
       "      <th>gender</th>\n",
       "      <th>near_location</th>\n",
       "      <th>partner</th>\n",
       "      <th>promo_friends</th>\n",
       "      <th>phone</th>\n",
       "      <th>contract_period</th>\n",
       "      <th>group_visits</th>\n",
       "      <th>age</th>\n",
       "      <th>avg_additional_charges_total</th>\n",
       "      <th>month_to_end_contract</th>\n",
       "      <th>lifetime</th>\n",
       "      <th>avg_class_frequency_total</th>\n",
       "      <th>avg_class_frequency_current_month</th>\n",
       "      <th>churn</th>\n",
       "    </tr>\n",
       "  </thead>\n",
       "  <tbody>\n",
       "    <tr>\n",
       "      <th>0</th>\n",
       "      <td>1</td>\n",
       "      <td>1</td>\n",
       "      <td>1</td>\n",
       "      <td>1</td>\n",
       "      <td>0</td>\n",
       "      <td>6</td>\n",
       "      <td>1</td>\n",
       "      <td>29</td>\n",
       "      <td>14.227470</td>\n",
       "      <td>5.0</td>\n",
       "      <td>3</td>\n",
       "      <td>0.020398</td>\n",
       "      <td>0.000000</td>\n",
       "      <td>0</td>\n",
       "    </tr>\n",
       "    <tr>\n",
       "      <th>1</th>\n",
       "      <td>0</td>\n",
       "      <td>1</td>\n",
       "      <td>0</td>\n",
       "      <td>0</td>\n",
       "      <td>1</td>\n",
       "      <td>12</td>\n",
       "      <td>1</td>\n",
       "      <td>31</td>\n",
       "      <td>113.202938</td>\n",
       "      <td>12.0</td>\n",
       "      <td>7</td>\n",
       "      <td>1.922936</td>\n",
       "      <td>1.910244</td>\n",
       "      <td>0</td>\n",
       "    </tr>\n",
       "    <tr>\n",
       "      <th>2</th>\n",
       "      <td>0</td>\n",
       "      <td>1</td>\n",
       "      <td>1</td>\n",
       "      <td>0</td>\n",
       "      <td>1</td>\n",
       "      <td>1</td>\n",
       "      <td>0</td>\n",
       "      <td>28</td>\n",
       "      <td>129.448479</td>\n",
       "      <td>1.0</td>\n",
       "      <td>2</td>\n",
       "      <td>1.859098</td>\n",
       "      <td>1.736502</td>\n",
       "      <td>0</td>\n",
       "    </tr>\n",
       "    <tr>\n",
       "      <th>3</th>\n",
       "      <td>0</td>\n",
       "      <td>1</td>\n",
       "      <td>1</td>\n",
       "      <td>1</td>\n",
       "      <td>1</td>\n",
       "      <td>12</td>\n",
       "      <td>1</td>\n",
       "      <td>33</td>\n",
       "      <td>62.669863</td>\n",
       "      <td>12.0</td>\n",
       "      <td>2</td>\n",
       "      <td>3.205633</td>\n",
       "      <td>3.357215</td>\n",
       "      <td>0</td>\n",
       "    </tr>\n",
       "    <tr>\n",
       "      <th>4</th>\n",
       "      <td>1</td>\n",
       "      <td>1</td>\n",
       "      <td>1</td>\n",
       "      <td>1</td>\n",
       "      <td>1</td>\n",
       "      <td>1</td>\n",
       "      <td>0</td>\n",
       "      <td>26</td>\n",
       "      <td>198.362265</td>\n",
       "      <td>1.0</td>\n",
       "      <td>3</td>\n",
       "      <td>1.113884</td>\n",
       "      <td>1.120078</td>\n",
       "      <td>0</td>\n",
       "    </tr>\n",
       "  </tbody>\n",
       "</table>\n",
       "</div>"
      ],
      "text/plain": [
       "   gender  near_location  partner  promo_friends  phone  contract_period  \\\n",
       "0       1              1        1              1      0                6   \n",
       "1       0              1        0              0      1               12   \n",
       "2       0              1        1              0      1                1   \n",
       "3       0              1        1              1      1               12   \n",
       "4       1              1        1              1      1                1   \n",
       "\n",
       "   group_visits  age  avg_additional_charges_total  month_to_end_contract  \\\n",
       "0             1   29                     14.227470                    5.0   \n",
       "1             1   31                    113.202938                   12.0   \n",
       "2             0   28                    129.448479                    1.0   \n",
       "3             1   33                     62.669863                   12.0   \n",
       "4             0   26                    198.362265                    1.0   \n",
       "\n",
       "   lifetime  avg_class_frequency_total  avg_class_frequency_current_month  \\\n",
       "0         3                   0.020398                           0.000000   \n",
       "1         7                   1.922936                           1.910244   \n",
       "2         2                   1.859098                           1.736502   \n",
       "3         2                   3.205633                           3.357215   \n",
       "4         3                   1.113884                           1.120078   \n",
       "\n",
       "   churn  \n",
       "0      0  \n",
       "1      0  \n",
       "2      0  \n",
       "3      0  \n",
       "4      0  "
      ]
     },
     "execution_count": 3,
     "metadata": {},
     "output_type": "execute_result"
    }
   ],
   "source": [
    "df.columns = df.columns.str.lower()\n",
    "df.head(5)"
   ]
  },
  {
   "cell_type": "markdown",
   "metadata": {},
   "source": [
    "## Исследовательский анализ данных."
   ]
  },
  {
   "cell_type": "code",
   "execution_count": 4,
   "metadata": {},
   "outputs": [
    {
     "data": {
      "text/html": [
       "<div>\n",
       "<style scoped>\n",
       "    .dataframe tbody tr th:only-of-type {\n",
       "        vertical-align: middle;\n",
       "    }\n",
       "\n",
       "    .dataframe tbody tr th {\n",
       "        vertical-align: top;\n",
       "    }\n",
       "\n",
       "    .dataframe thead th {\n",
       "        text-align: right;\n",
       "    }\n",
       "</style>\n",
       "<table border=\"1\" class=\"dataframe\">\n",
       "  <thead>\n",
       "    <tr style=\"text-align: right;\">\n",
       "      <th></th>\n",
       "      <th>count</th>\n",
       "      <th>mean</th>\n",
       "      <th>std</th>\n",
       "      <th>min</th>\n",
       "      <th>25%</th>\n",
       "      <th>50%</th>\n",
       "      <th>75%</th>\n",
       "      <th>max</th>\n",
       "    </tr>\n",
       "  </thead>\n",
       "  <tbody>\n",
       "    <tr>\n",
       "      <th>gender</th>\n",
       "      <td>4000.0</td>\n",
       "      <td>0.510250</td>\n",
       "      <td>0.499957</td>\n",
       "      <td>0.000000</td>\n",
       "      <td>0.000000</td>\n",
       "      <td>1.000000</td>\n",
       "      <td>1.000000</td>\n",
       "      <td>1.000000</td>\n",
       "    </tr>\n",
       "    <tr>\n",
       "      <th>near_location</th>\n",
       "      <td>4000.0</td>\n",
       "      <td>0.845250</td>\n",
       "      <td>0.361711</td>\n",
       "      <td>0.000000</td>\n",
       "      <td>1.000000</td>\n",
       "      <td>1.000000</td>\n",
       "      <td>1.000000</td>\n",
       "      <td>1.000000</td>\n",
       "    </tr>\n",
       "    <tr>\n",
       "      <th>partner</th>\n",
       "      <td>4000.0</td>\n",
       "      <td>0.486750</td>\n",
       "      <td>0.499887</td>\n",
       "      <td>0.000000</td>\n",
       "      <td>0.000000</td>\n",
       "      <td>0.000000</td>\n",
       "      <td>1.000000</td>\n",
       "      <td>1.000000</td>\n",
       "    </tr>\n",
       "    <tr>\n",
       "      <th>promo_friends</th>\n",
       "      <td>4000.0</td>\n",
       "      <td>0.308500</td>\n",
       "      <td>0.461932</td>\n",
       "      <td>0.000000</td>\n",
       "      <td>0.000000</td>\n",
       "      <td>0.000000</td>\n",
       "      <td>1.000000</td>\n",
       "      <td>1.000000</td>\n",
       "    </tr>\n",
       "    <tr>\n",
       "      <th>phone</th>\n",
       "      <td>4000.0</td>\n",
       "      <td>0.903500</td>\n",
       "      <td>0.295313</td>\n",
       "      <td>0.000000</td>\n",
       "      <td>1.000000</td>\n",
       "      <td>1.000000</td>\n",
       "      <td>1.000000</td>\n",
       "      <td>1.000000</td>\n",
       "    </tr>\n",
       "    <tr>\n",
       "      <th>contract_period</th>\n",
       "      <td>4000.0</td>\n",
       "      <td>4.681250</td>\n",
       "      <td>4.549706</td>\n",
       "      <td>1.000000</td>\n",
       "      <td>1.000000</td>\n",
       "      <td>1.000000</td>\n",
       "      <td>6.000000</td>\n",
       "      <td>12.000000</td>\n",
       "    </tr>\n",
       "    <tr>\n",
       "      <th>group_visits</th>\n",
       "      <td>4000.0</td>\n",
       "      <td>0.412250</td>\n",
       "      <td>0.492301</td>\n",
       "      <td>0.000000</td>\n",
       "      <td>0.000000</td>\n",
       "      <td>0.000000</td>\n",
       "      <td>1.000000</td>\n",
       "      <td>1.000000</td>\n",
       "    </tr>\n",
       "    <tr>\n",
       "      <th>age</th>\n",
       "      <td>4000.0</td>\n",
       "      <td>29.184250</td>\n",
       "      <td>3.258367</td>\n",
       "      <td>18.000000</td>\n",
       "      <td>27.000000</td>\n",
       "      <td>29.000000</td>\n",
       "      <td>31.000000</td>\n",
       "      <td>41.000000</td>\n",
       "    </tr>\n",
       "    <tr>\n",
       "      <th>avg_additional_charges_total</th>\n",
       "      <td>4000.0</td>\n",
       "      <td>146.943728</td>\n",
       "      <td>96.355602</td>\n",
       "      <td>0.148205</td>\n",
       "      <td>68.868830</td>\n",
       "      <td>136.220159</td>\n",
       "      <td>210.949625</td>\n",
       "      <td>552.590740</td>\n",
       "    </tr>\n",
       "    <tr>\n",
       "      <th>month_to_end_contract</th>\n",
       "      <td>4000.0</td>\n",
       "      <td>4.322750</td>\n",
       "      <td>4.191297</td>\n",
       "      <td>1.000000</td>\n",
       "      <td>1.000000</td>\n",
       "      <td>1.000000</td>\n",
       "      <td>6.000000</td>\n",
       "      <td>12.000000</td>\n",
       "    </tr>\n",
       "    <tr>\n",
       "      <th>lifetime</th>\n",
       "      <td>4000.0</td>\n",
       "      <td>3.724750</td>\n",
       "      <td>3.749267</td>\n",
       "      <td>0.000000</td>\n",
       "      <td>1.000000</td>\n",
       "      <td>3.000000</td>\n",
       "      <td>5.000000</td>\n",
       "      <td>31.000000</td>\n",
       "    </tr>\n",
       "    <tr>\n",
       "      <th>avg_class_frequency_total</th>\n",
       "      <td>4000.0</td>\n",
       "      <td>1.879020</td>\n",
       "      <td>0.972245</td>\n",
       "      <td>0.000000</td>\n",
       "      <td>1.180875</td>\n",
       "      <td>1.832768</td>\n",
       "      <td>2.536078</td>\n",
       "      <td>6.023668</td>\n",
       "    </tr>\n",
       "    <tr>\n",
       "      <th>avg_class_frequency_current_month</th>\n",
       "      <td>4000.0</td>\n",
       "      <td>1.767052</td>\n",
       "      <td>1.052906</td>\n",
       "      <td>0.000000</td>\n",
       "      <td>0.963003</td>\n",
       "      <td>1.719574</td>\n",
       "      <td>2.510336</td>\n",
       "      <td>6.146783</td>\n",
       "    </tr>\n",
       "    <tr>\n",
       "      <th>churn</th>\n",
       "      <td>4000.0</td>\n",
       "      <td>0.265250</td>\n",
       "      <td>0.441521</td>\n",
       "      <td>0.000000</td>\n",
       "      <td>0.000000</td>\n",
       "      <td>0.000000</td>\n",
       "      <td>1.000000</td>\n",
       "      <td>1.000000</td>\n",
       "    </tr>\n",
       "  </tbody>\n",
       "</table>\n",
       "</div>"
      ],
      "text/plain": [
       "                                    count        mean        std        min  \\\n",
       "gender                             4000.0    0.510250   0.499957   0.000000   \n",
       "near_location                      4000.0    0.845250   0.361711   0.000000   \n",
       "partner                            4000.0    0.486750   0.499887   0.000000   \n",
       "promo_friends                      4000.0    0.308500   0.461932   0.000000   \n",
       "phone                              4000.0    0.903500   0.295313   0.000000   \n",
       "contract_period                    4000.0    4.681250   4.549706   1.000000   \n",
       "group_visits                       4000.0    0.412250   0.492301   0.000000   \n",
       "age                                4000.0   29.184250   3.258367  18.000000   \n",
       "avg_additional_charges_total       4000.0  146.943728  96.355602   0.148205   \n",
       "month_to_end_contract              4000.0    4.322750   4.191297   1.000000   \n",
       "lifetime                           4000.0    3.724750   3.749267   0.000000   \n",
       "avg_class_frequency_total          4000.0    1.879020   0.972245   0.000000   \n",
       "avg_class_frequency_current_month  4000.0    1.767052   1.052906   0.000000   \n",
       "churn                              4000.0    0.265250   0.441521   0.000000   \n",
       "\n",
       "                                         25%         50%         75%  \\\n",
       "gender                              0.000000    1.000000    1.000000   \n",
       "near_location                       1.000000    1.000000    1.000000   \n",
       "partner                             0.000000    0.000000    1.000000   \n",
       "promo_friends                       0.000000    0.000000    1.000000   \n",
       "phone                               1.000000    1.000000    1.000000   \n",
       "contract_period                     1.000000    1.000000    6.000000   \n",
       "group_visits                        0.000000    0.000000    1.000000   \n",
       "age                                27.000000   29.000000   31.000000   \n",
       "avg_additional_charges_total       68.868830  136.220159  210.949625   \n",
       "month_to_end_contract               1.000000    1.000000    6.000000   \n",
       "lifetime                            1.000000    3.000000    5.000000   \n",
       "avg_class_frequency_total           1.180875    1.832768    2.536078   \n",
       "avg_class_frequency_current_month   0.963003    1.719574    2.510336   \n",
       "churn                               0.000000    0.000000    1.000000   \n",
       "\n",
       "                                          max  \n",
       "gender                               1.000000  \n",
       "near_location                        1.000000  \n",
       "partner                              1.000000  \n",
       "promo_friends                        1.000000  \n",
       "phone                                1.000000  \n",
       "contract_period                     12.000000  \n",
       "group_visits                         1.000000  \n",
       "age                                 41.000000  \n",
       "avg_additional_charges_total       552.590740  \n",
       "month_to_end_contract               12.000000  \n",
       "lifetime                            31.000000  \n",
       "avg_class_frequency_total            6.023668  \n",
       "avg_class_frequency_current_month    6.146783  \n",
       "churn                                1.000000  "
      ]
     },
     "execution_count": 4,
     "metadata": {},
     "output_type": "execute_result"
    }
   ],
   "source": [
    "df.describe().T"
   ]
  },
  {
   "cell_type": "code",
   "execution_count": 5,
   "metadata": {
    "scrolled": true
   },
   "outputs": [
    {
     "name": "stdout",
     "output_type": "stream",
     "text": [
      "1    2041\n",
      "0    1959\n",
      "Name: gender, dtype: int64\n",
      "\n",
      "1    3381\n",
      "0     619\n",
      "Name: near_location, dtype: int64\n",
      "\n",
      "0    2053\n",
      "1    1947\n",
      "Name: partner, dtype: int64\n",
      "\n",
      "0    2766\n",
      "1    1234\n",
      "Name: promo_friends, dtype: int64\n",
      "\n",
      "1    3614\n",
      "0     386\n",
      "Name: phone, dtype: int64\n",
      "\n",
      "1     2207\n",
      "12     960\n",
      "6      833\n",
      "Name: contract_period, dtype: int64\n",
      "\n",
      "0    2351\n",
      "1    1649\n",
      "Name: group_visits, dtype: int64\n",
      "\n",
      "count    4000.000000\n",
      "mean       29.184250\n",
      "std         3.258367\n",
      "min        18.000000\n",
      "25%        27.000000\n",
      "50%        29.000000\n",
      "75%        31.000000\n",
      "max        41.000000\n",
      "Name: age, dtype: float64\n",
      "\n",
      "count    4000.000000\n",
      "mean      146.943728\n",
      "std        96.355602\n",
      "min         0.148205\n",
      "25%        68.868830\n",
      "50%       136.220159\n",
      "75%       210.949625\n",
      "max       552.590740\n",
      "Name: avg_additional_charges_total, dtype: float64\n",
      "\n",
      "count    4000.000000\n",
      "mean        4.322750\n",
      "std         4.191297\n",
      "min         1.000000\n",
      "25%         1.000000\n",
      "50%         1.000000\n",
      "75%         6.000000\n",
      "max        12.000000\n",
      "Name: month_to_end_contract, dtype: float64\n",
      "\n",
      "count    4000.000000\n",
      "mean        3.724750\n",
      "std         3.749267\n",
      "min         0.000000\n",
      "25%         1.000000\n",
      "50%         3.000000\n",
      "75%         5.000000\n",
      "max        31.000000\n",
      "Name: lifetime, dtype: float64\n",
      "\n",
      "count    4000.000000\n",
      "mean        1.879020\n",
      "std         0.972245\n",
      "min         0.000000\n",
      "25%         1.180875\n",
      "50%         1.832768\n",
      "75%         2.536078\n",
      "max         6.023668\n",
      "Name: avg_class_frequency_total, dtype: float64\n",
      "\n",
      "count    4000.000000\n",
      "mean        1.767052\n",
      "std         1.052906\n",
      "min         0.000000\n",
      "25%         0.963003\n",
      "50%         1.719574\n",
      "75%         2.510336\n",
      "max         6.146783\n",
      "Name: avg_class_frequency_current_month, dtype: float64\n",
      "\n",
      "0    2939\n",
      "1    1061\n",
      "Name: churn, dtype: int64\n"
     ]
    }
   ],
   "source": [
    "print(df['gender'].value_counts())\n",
    "print()\n",
    "print(df['near_location'].value_counts())\n",
    "print()\n",
    "print(df['partner'].value_counts())\n",
    "print()\n",
    "print(df['promo_friends'].value_counts())\n",
    "print()\n",
    "print(df['phone'].value_counts())\n",
    "print()\n",
    "print(df['contract_period'].value_counts())\n",
    "print()\n",
    "print(df['group_visits'].value_counts())\n",
    "print()\n",
    "print(df['age'].describe())\n",
    "print()\n",
    "print(df['avg_additional_charges_total'].describe())\n",
    "print()\n",
    "print(df['month_to_end_contract'].describe())\n",
    "print()\n",
    "print(df['lifetime'].describe())\n",
    "print()\n",
    "print(df['avg_class_frequency_total'].describe())\n",
    "print()\n",
    "print(df['avg_class_frequency_current_month'].describe())\n",
    "print()\n",
    "print(df['churn'].value_counts())"
   ]
  },
  {
   "cell_type": "markdown",
   "metadata": {},
   "source": [
    "В результате первоначального ознакомления с таблицей можно сделать выводы:\n",
    "- пол клиентов представлен примерно одинаково: 2041 и 1959;\n",
    "- клиентами фитнес-центра являются люди в возрасте от 18 до 41 года, средний возраст составляет 29 лет;\n",
    "- суммарная выручка от других услуг фитнес-центра от 0.15 до 552.60, в среднем 146.9;\n",
    "- средняя частота посещений от 0 до 6 раз в неделю, в среднем - 1.87;\n",
    "- средний срок окончания действующего абонемента (в месяцах) - 4;\n",
    "- среднее время с момента первого обращения в фитнес-центр(в месяцах) - 3.7. \n",
    "\n",
    "Выдающихся (аномальных) значений не обнаружено."
   ]
  },
  {
   "cell_type": "markdown",
   "metadata": {},
   "source": [
    "### Средние значения признаков в двух группах — тех, кто ушел в отток и тех, кто остался. "
   ]
  },
  {
   "cell_type": "code",
   "execution_count": 6,
   "metadata": {
    "scrolled": true
   },
   "outputs": [
    {
     "data": {
      "text/html": [
       "<div>\n",
       "<style scoped>\n",
       "    .dataframe tbody tr th:only-of-type {\n",
       "        vertical-align: middle;\n",
       "    }\n",
       "\n",
       "    .dataframe tbody tr th {\n",
       "        vertical-align: top;\n",
       "    }\n",
       "\n",
       "    .dataframe thead th {\n",
       "        text-align: right;\n",
       "    }\n",
       "</style>\n",
       "<table border=\"1\" class=\"dataframe\">\n",
       "  <thead>\n",
       "    <tr style=\"text-align: right;\">\n",
       "      <th></th>\n",
       "      <th>gender</th>\n",
       "      <th>near_location</th>\n",
       "      <th>partner</th>\n",
       "      <th>promo_friends</th>\n",
       "      <th>phone</th>\n",
       "      <th>contract_period</th>\n",
       "      <th>group_visits</th>\n",
       "      <th>age</th>\n",
       "      <th>avg_additional_charges_total</th>\n",
       "      <th>month_to_end_contract</th>\n",
       "      <th>lifetime</th>\n",
       "      <th>avg_class_frequency_total</th>\n",
       "      <th>avg_class_frequency_current_month</th>\n",
       "    </tr>\n",
       "    <tr>\n",
       "      <th>churn</th>\n",
       "      <th></th>\n",
       "      <th></th>\n",
       "      <th></th>\n",
       "      <th></th>\n",
       "      <th></th>\n",
       "      <th></th>\n",
       "      <th></th>\n",
       "      <th></th>\n",
       "      <th></th>\n",
       "      <th></th>\n",
       "      <th></th>\n",
       "      <th></th>\n",
       "      <th></th>\n",
       "    </tr>\n",
       "  </thead>\n",
       "  <tbody>\n",
       "    <tr>\n",
       "      <th>0</th>\n",
       "      <td>0.510037</td>\n",
       "      <td>0.873086</td>\n",
       "      <td>0.534195</td>\n",
       "      <td>0.353522</td>\n",
       "      <td>0.903709</td>\n",
       "      <td>5.747193</td>\n",
       "      <td>0.464103</td>\n",
       "      <td>29.976523</td>\n",
       "      <td>158.445715</td>\n",
       "      <td>5.283089</td>\n",
       "      <td>4.711807</td>\n",
       "      <td>2.024876</td>\n",
       "      <td>2.027882</td>\n",
       "    </tr>\n",
       "    <tr>\n",
       "      <th>1</th>\n",
       "      <td>0.510839</td>\n",
       "      <td>0.768143</td>\n",
       "      <td>0.355325</td>\n",
       "      <td>0.183789</td>\n",
       "      <td>0.902922</td>\n",
       "      <td>1.728558</td>\n",
       "      <td>0.268615</td>\n",
       "      <td>26.989632</td>\n",
       "      <td>115.082899</td>\n",
       "      <td>1.662582</td>\n",
       "      <td>0.990575</td>\n",
       "      <td>1.474995</td>\n",
       "      <td>1.044546</td>\n",
       "    </tr>\n",
       "  </tbody>\n",
       "</table>\n",
       "</div>"
      ],
      "text/plain": [
       "         gender  near_location   partner  promo_friends     phone  \\\n",
       "churn                                                               \n",
       "0      0.510037       0.873086  0.534195       0.353522  0.903709   \n",
       "1      0.510839       0.768143  0.355325       0.183789  0.902922   \n",
       "\n",
       "       contract_period  group_visits        age  avg_additional_charges_total  \\\n",
       "churn                                                                           \n",
       "0             5.747193      0.464103  29.976523                    158.445715   \n",
       "1             1.728558      0.268615  26.989632                    115.082899   \n",
       "\n",
       "       month_to_end_contract  lifetime  avg_class_frequency_total  \\\n",
       "churn                                                               \n",
       "0                   5.283089  4.711807                   2.024876   \n",
       "1                   1.662582  0.990575                   1.474995   \n",
       "\n",
       "       avg_class_frequency_current_month  \n",
       "churn                                     \n",
       "0                               2.027882  \n",
       "1                               1.044546  "
      ]
     },
     "execution_count": 6,
     "metadata": {},
     "output_type": "execute_result"
    }
   ],
   "source": [
    "df.groupby('churn').mean()"
   ]
  },
  {
   "cell_type": "markdown",
   "metadata": {},
   "source": [
    "- пол килентов никак не влияет на отток, соотношение все также около 50/50;\n",
    "- чаще остаются клиенты, являющиеся сотрудниками компаний-партнеров, участвующие в программе \"приведи друга\", имеющие абонемент в среднем на 5.7 месяцев, посещающие групповые занятия, приносящие больше выручки от других услуг фитнес-центра, посещающие занятия в среднем дважды в неделю;\n",
    "- средний возраст оставшихся клиентов почти 30 лет;\n",
    "- средний возраст ушедших около 27.\n",
    "\n",
    "По столбцу `contact_period` (длительность текущего действущего абонемента) можно сделать вывод, что постоянными клиентами клуба становятся люди, купившие абонемент на срок больше 1 месяца. "
   ]
  },
  {
   "cell_type": "markdown",
   "metadata": {},
   "source": [
    "### Построение столбчатых гистограмм и распределения признаков для тех, кто ушёл и тех, кто остался."
   ]
  },
  {
   "cell_type": "code",
   "execution_count": 7,
   "metadata": {
    "scrolled": false
   },
   "outputs": [],
   "source": [
    "#создадим два списка с количественными и категориальными переменными\n",
    "\n",
    "counted=['age', 'lifetime', 'contract_period', 'avg_additional_charges_total',\n",
    "       'month_to_end_contract', 'avg_class_frequency_total', 'avg_class_frequency_current_month']\n",
    "\n",
    "\n",
    "category=['gender','near_location', 'partner', 'promo_friends','phone', 'group_visits']\n",
    "\n",
    "#для нагрядности переименуем значения из столбца факта оттока\n",
    "df1=df\n",
    "df1=df1.replace({'churn':{0:'остался', 1:'ушел'}})"
   ]
  },
  {
   "cell_type": "code",
   "execution_count": 8,
   "metadata": {
    "scrolled": true
   },
   "outputs": [
    {
     "data": {
      "image/png": "[encoded data removed]",
      "text/plain": [
       "<Figure size 432x288 with 1 Axes>"
      ]
     },
     "metadata": {
      "needs_background": "light"
     },
     "output_type": "display_data"
    },
    {
     "data": {
      "image/png": "[encoded data removed]",
      "text/plain": [
       "<Figure size 432x288 with 1 Axes>"
      ]
     },
     "metadata": {
      "needs_background": "light"
     },
     "output_type": "display_data"
    },
    {
     "data": {
      "image/png": "[encoded data removed]",
      "text/plain": [
       "<Figure size 432x288 with 1 Axes>"
      ]
     },
     "metadata": {
      "needs_background": "light"
     },
     "output_type": "display_data"
    },
    {
     "data": {
      "image/png": "[encoded data removed]",
      "text/plain": [
       "<Figure size 432x288 with 1 Axes>"
      ]
     },
     "metadata": {
      "needs_background": "light"
     },
     "output_type": "display_data"
    },
    {
     "data": {
      "image/png": "[encoded data removed]",
      "text/plain": [
       "<Figure size 432x288 with 1 Axes>"
      ]
     },
     "metadata": {
      "needs_background": "light"
     },
     "output_type": "display_data"
    },
    {
     "data": {
      "image/png": "[encoded data removed]",
      "text/plain": [
       "<Figure size 432x288 with 1 Axes>"
      ]
     },
     "metadata": {
      "needs_background": "light"
     },
     "output_type": "display_data"
    },
    {
     "data": {
      "image/png": "[encoded data removed]",
      "text/plain": [
       "<Figure size 432x288 with 1 Axes>"
      ]
     },
     "metadata": {
      "needs_background": "light"
     },
     "output_type": "display_data"
    }
   ],
   "source": [
    "for i in counted:\n",
    "    df1.groupby('churn')[i].hist()\n",
    "    plt.legend(df1['churn'].unique())\n",
    "    plt.title(i)\n",
    "    plt.show()"
   ]
  },
  {
   "cell_type": "markdown",
   "metadata": {},
   "source": [
    "Гистограммы показывают, что чаще всего уходят люди в возрасте около 26 лет, имеющие длительность абонемента в 1 месяц. "
   ]
  },
  {
   "cell_type": "code",
   "execution_count": 9,
   "metadata": {
    "scrolled": true
   },
   "outputs": [
    {
     "data": {
      "image/png": "[encoded data removed]",
      "text/plain": [
       "<Figure size 432x288 with 1 Axes>"
      ]
     },
     "metadata": {
      "needs_background": "light"
     },
     "output_type": "display_data"
    },
    {
     "data": {
      "image/png": "[encoded data removed]",
      "text/plain": [
       "<Figure size 432x288 with 1 Axes>"
      ]
     },
     "metadata": {
      "needs_background": "light"
     },
     "output_type": "display_data"
    },
    {
     "data": {
      "image/png": "[encoded data removed]",
      "text/plain": [
       "<Figure size 432x288 with 1 Axes>"
      ]
     },
     "metadata": {
      "needs_background": "light"
     },
     "output_type": "display_data"
    },
    {
     "data": {
      "image/png": "[encoded data removed]",
      "text/plain": [
       "<Figure size 432x288 with 1 Axes>"
      ]
     },
     "metadata": {
      "needs_background": "light"
     },
     "output_type": "display_data"
    },
    {
     "data": {
      "image/png": "[encoded data removed]",
      "text/plain": [
       "<Figure size 432x288 with 1 Axes>"
      ]
     },
     "metadata": {
      "needs_background": "light"
     },
     "output_type": "display_data"
    },
    {
     "data": {
      "image/png": "[encoded data removed]",
      "text/plain": [
       "<Figure size 432x288 with 1 Axes>"
      ]
     },
     "metadata": {
      "needs_background": "light"
     },
     "output_type": "display_data"
    }
   ],
   "source": [
    "for i in category:\n",
    "    sns.barplot(data=df1, x='churn', y=i)\n",
    "    plt.title(i)\n",
    "    plt.show()"
   ]
  },
  {
   "cell_type": "markdown",
   "metadata": {},
   "source": [
    "По графикам может сделать вывод, что чаще остаются клиенты, живущие в районе, где находится фитнес-центр, являющиеся сотрудниками компании-партнёра клуба, пришедшие по акции \"приведи друга\" и посещающие групповые занятия. "
   ]
  },
  {
   "cell_type": "markdown",
   "metadata": {},
   "source": [
    "<div class=\"alert alert-success\">\n",
    "\n",
    "**✔️ Комментарий ревьюера**\n",
    "    \n",
    "Эстетичные визуализации и качественный анализ классов 👍🏻"
   ]
  },
  {
   "cell_type": "markdown",
   "metadata": {},
   "source": [
    "### Матрица корреляций."
   ]
  },
  {
   "cell_type": "code",
   "execution_count": 10,
   "metadata": {
    "scrolled": false
   },
   "outputs": [
    {
     "data": {
      "image/png": "[encoded data removed]",
      "text/plain": [
       "<Figure size 936x720 with 2 Axes>"
      ]
     },
     "metadata": {
      "needs_background": "light"
     },
     "output_type": "display_data"
    }
   ],
   "source": [
    "#построим и отрисуем матрицу корреляций\n",
    "cm = df.corr()\n",
    "fig, ax = plt.subplots(figsize=(13, 10))\n",
    "\n",
    "#нарисуем тепловую карту с подписями для матрицы корреляций\n",
    "sns.heatmap(cm, annot=True) \n",
    "plt.show()"
   ]
  },
  {
   "cell_type": "markdown",
   "metadata": {},
   "source": [
    "Наибольшую корреляцию имеют `срок до окончания текущего действующего абонемента`  и `длительность текущего действующего абонемента` , `средняя частота посещений в неделю за все время с начала действия абонемента` (0.97) и ` средняя частота посещений в неделю за предыдущий месяц` (0.95)\n",
    "\n",
    "Также наблюдается связь между `сотрудник компании-партнёра клуба` и `факт первоначальной записи в рамках акции «приведи друга»`. Учитывая привелегии для сотрудников, это выглядит вполне логично. Сотрудники компаний могут вместе ходить на тренировки со своими коллегами. "
   ]
  },
  {
   "cell_type": "markdown",
   "metadata": {},
   "source": [
    "## Модель прогнозирования оттока клиентов."
   ]
  },
  {
   "cell_type": "markdown",
   "metadata": {},
   "source": [
    "Построим модель бинарной классификации клиентов, где целевой признак — факт оттока клиента в следующем месяце."
   ]
  },
  {
   "cell_type": "code",
   "execution_count": 11,
   "metadata": {},
   "outputs": [],
   "source": [
    "# функция вывода всех метрик\n",
    "def print_all_metrics(y_true, y_pred, title):\n",
    "    print(title)\n",
    "    print('\\tAccuracy: {:.2f}'.format(accuracy_score(y_true, y_pred)))\n",
    "    print('\\tPrecision: {:.2f}'.format(precision_score(y_true, y_pred)))\n",
    "    print('\\tRecall: {:.2f}'.format(recall_score(y_true, y_pred)))"
   ]
  },
  {
   "cell_type": "code",
   "execution_count": 12,
   "metadata": {},
   "outputs": [],
   "source": [
    "# разделим данные на признаки (матрица X) и целевую переменную (y)\n",
    "X = df.drop('churn', axis=1)\n",
    "y = df['churn'] "
   ]
  },
  {
   "cell_type": "code",
   "execution_count": 13,
   "metadata": {},
   "outputs": [],
   "source": [
    "#деление данных на обучающую и валидационную выборку\n",
    "X_train, X_test, y_train, y_test = train_test_split(X, y, test_size=0.2, random_state=0)"
   ]
  },
  {
   "cell_type": "markdown",
   "metadata": {},
   "source": [
    "### Логистическая регрессия"
   ]
  },
  {
   "cell_type": "code",
   "execution_count": 14,
   "metadata": {},
   "outputs": [],
   "source": [
    "# задаем алгоритм\n",
    "model = LogisticRegression(solver='liblinear', random_state=0)"
   ]
  },
  {
   "cell_type": "code",
   "execution_count": 15,
   "metadata": {},
   "outputs": [
    {
     "data": {
      "text/plain": [
       "LogisticRegression(random_state=0, solver='liblinear')"
      ]
     },
     "execution_count": 15,
     "metadata": {},
     "output_type": "execute_result"
    }
   ],
   "source": [
    "# обучаем модель\n",
    "model.fit(X_train, y_train)"
   ]
  },
  {
   "cell_type": "code",
   "execution_count": 16,
   "metadata": {},
   "outputs": [],
   "source": [
    "# прогноз\n",
    "prediction = model.predict(X_test)"
   ]
  },
  {
   "cell_type": "code",
   "execution_count": 17,
   "metadata": {},
   "outputs": [
    {
     "name": "stdout",
     "output_type": "stream",
     "text": [
      "Логистическая регрессия\n",
      "\tAccuracy: 0.93\n",
      "\tPrecision: 0.86\n",
      "\tRecall: 0.83\n"
     ]
    }
   ],
   "source": [
    "# выведим все метрики для логистической регрессии\n",
    "print_all_metrics(y_test, prediction, 'Логистическая регрессия')"
   ]
  },
  {
   "cell_type": "markdown",
   "metadata": {},
   "source": [
    "### Случайный лес"
   ]
  },
  {
   "cell_type": "code",
   "execution_count": 18,
   "metadata": {},
   "outputs": [],
   "source": [
    "# зададим алгоритм для новой модели на основе алгоритма случайного леса\n",
    "rf_model = RandomForestClassifier(n_estimators = 100, random_state = 0)"
   ]
  },
  {
   "cell_type": "code",
   "execution_count": 19,
   "metadata": {},
   "outputs": [
    {
     "data": {
      "text/plain": [
       "RandomForestClassifier(random_state=0)"
      ]
     },
     "execution_count": 19,
     "metadata": {},
     "output_type": "execute_result"
    }
   ],
   "source": [
    "# обучим модель случайного леса\n",
    "rf_model.fit(X_train, y_train)"
   ]
  },
  {
   "cell_type": "code",
   "execution_count": 20,
   "metadata": {},
   "outputs": [],
   "source": [
    "# прогноз\n",
    "rf_predictions = rf_model.predict(X_test)"
   ]
  },
  {
   "cell_type": "code",
   "execution_count": 21,
   "metadata": {
    "scrolled": true
   },
   "outputs": [
    {
     "name": "stdout",
     "output_type": "stream",
     "text": [
      "Случайный лес\n",
      "\tAccuracy: 0.92\n",
      "\tPrecision: 0.84\n",
      "\tRecall: 0.82\n"
     ]
    }
   ],
   "source": [
    "# выведим все метрики для полученного прогноза\n",
    "print_all_metrics(y_test, rf_predictions, 'Случайный лес')"
   ]
  },
  {
   "cell_type": "markdown",
   "metadata": {},
   "source": [
    "Исходя из сравнения метрик обеих моделей, можем сделать вывод, что наиболее подходящая модель - логистическая регрессия."
   ]
  },
  {
   "cell_type": "markdown",
   "metadata": {},
   "source": [
    "## Кластеризация клиентов."
   ]
  },
  {
   "cell_type": "code",
   "execution_count": 22,
   "metadata": {},
   "outputs": [],
   "source": [
    "# стандартизируем данные\n",
    "sc = StandardScaler()\n",
    "X_sc = sc.fit_transform(X)"
   ]
  },
  {
   "cell_type": "code",
   "execution_count": 23,
   "metadata": {},
   "outputs": [
    {
     "data": {
      "image/png": "[encoded data removed]",
      "text/plain": [
       "<Figure size 1080x720 with 1 Axes>"
      ]
     },
     "metadata": {
      "needs_background": "light"
     },
     "output_type": "display_data"
    }
   ],
   "source": [
    "#построим матрицу расстояний и дендрограмму\n",
    "linked = linkage(X_sc, method = 'ward') \n",
    "\n",
    "plt.figure(figsize=(15, 10))  \n",
    "dendrogram(linked, orientation='top')\n",
    "plt.show() "
   ]
  },
  {
   "cell_type": "markdown",
   "metadata": {},
   "source": [
    "Судя по дендограмме, можем выделить 4-5 кластеров. По заданию примем значение кластеров равным 5. "
   ]
  },
  {
   "cell_type": "code",
   "execution_count": 24,
   "metadata": {},
   "outputs": [],
   "source": [
    "# задаём модель k_means с числом кластеров 5\n",
    "km = KMeans(n_clusters = 5, random_state=0)\n",
    "\n",
    "# прогнозируем кластеры для наблюдений\n",
    "labels = km.fit_predict(X_sc)\n",
    "\n",
    "# сохраняем метки кластера\n",
    "df['cluster'] = labels"
   ]
  },
  {
   "cell_type": "code",
   "execution_count": 25,
   "metadata": {},
   "outputs": [
    {
     "data": {
      "text/plain": [
       "3    1262\n",
       "0    1010\n",
       "4     838\n",
       "2     505\n",
       "1     385\n",
       "Name: cluster, dtype: int64"
      ]
     },
     "execution_count": 25,
     "metadata": {},
     "output_type": "execute_result"
    }
   ],
   "source": [
    "df['cluster'].value_counts()"
   ]
  },
  {
   "cell_type": "markdown",
   "metadata": {},
   "source": [
    "В кластер 0 попали `1010` клиентов, в кластер 1 - `385`, во второй - `505`, в третий `1262`, в четвертый - `838`. "
   ]
  },
  {
   "cell_type": "markdown",
   "metadata": {},
   "source": [
    "### Средние значения признаков для кластеров"
   ]
  },
  {
   "cell_type": "code",
   "execution_count": 26,
   "metadata": {},
   "outputs": [
    {
     "data": {
      "text/html": [
       "<div>\n",
       "<style scoped>\n",
       "    .dataframe tbody tr th:only-of-type {\n",
       "        vertical-align: middle;\n",
       "    }\n",
       "\n",
       "    .dataframe tbody tr th {\n",
       "        vertical-align: top;\n",
       "    }\n",
       "\n",
       "    .dataframe thead th {\n",
       "        text-align: right;\n",
       "    }\n",
       "</style>\n",
       "<table border=\"1\" class=\"dataframe\">\n",
       "  <thead>\n",
       "    <tr style=\"text-align: right;\">\n",
       "      <th>cluster</th>\n",
       "      <th>0</th>\n",
       "      <th>1</th>\n",
       "      <th>2</th>\n",
       "      <th>3</th>\n",
       "      <th>4</th>\n",
       "    </tr>\n",
       "  </thead>\n",
       "  <tbody>\n",
       "    <tr>\n",
       "      <th>gender</th>\n",
       "      <td>0.502970</td>\n",
       "      <td>0.522078</td>\n",
       "      <td>0.495050</td>\n",
       "      <td>0.485737</td>\n",
       "      <td>0.559666</td>\n",
       "    </tr>\n",
       "    <tr>\n",
       "      <th>near_location</th>\n",
       "      <td>0.959406</td>\n",
       "      <td>0.862338</td>\n",
       "      <td>0.000000</td>\n",
       "      <td>1.000000</td>\n",
       "      <td>0.976134</td>\n",
       "    </tr>\n",
       "    <tr>\n",
       "      <th>partner</th>\n",
       "      <td>0.783168</td>\n",
       "      <td>0.470130</td>\n",
       "      <td>0.463366</td>\n",
       "      <td>0.350238</td>\n",
       "      <td>0.356802</td>\n",
       "    </tr>\n",
       "    <tr>\n",
       "      <th>promo_friends</th>\n",
       "      <td>0.574257</td>\n",
       "      <td>0.306494</td>\n",
       "      <td>0.079208</td>\n",
       "      <td>0.240095</td>\n",
       "      <td>0.230310</td>\n",
       "    </tr>\n",
       "    <tr>\n",
       "      <th>phone</th>\n",
       "      <td>1.000000</td>\n",
       "      <td>0.000000</td>\n",
       "      <td>1.000000</td>\n",
       "      <td>1.000000</td>\n",
       "      <td>0.998807</td>\n",
       "    </tr>\n",
       "    <tr>\n",
       "      <th>contract_period</th>\n",
       "      <td>10.889109</td>\n",
       "      <td>4.787013</td>\n",
       "      <td>2.352475</td>\n",
       "      <td>1.948494</td>\n",
       "      <td>2.669451</td>\n",
       "    </tr>\n",
       "    <tr>\n",
       "      <th>group_visits</th>\n",
       "      <td>0.542574</td>\n",
       "      <td>0.425974</td>\n",
       "      <td>0.215842</td>\n",
       "      <td>0.341521</td>\n",
       "      <td>0.473747</td>\n",
       "    </tr>\n",
       "    <tr>\n",
       "      <th>age</th>\n",
       "      <td>29.982178</td>\n",
       "      <td>29.301299</td>\n",
       "      <td>28.477228</td>\n",
       "      <td>28.167987</td>\n",
       "      <td>30.125298</td>\n",
       "    </tr>\n",
       "    <tr>\n",
       "      <th>avg_additional_charges_total</th>\n",
       "      <td>160.761016</td>\n",
       "      <td>143.957664</td>\n",
       "      <td>135.457501</td>\n",
       "      <td>131.622204</td>\n",
       "      <td>161.657905</td>\n",
       "    </tr>\n",
       "    <tr>\n",
       "      <th>month_to_end_contract</th>\n",
       "      <td>9.954455</td>\n",
       "      <td>4.475325</td>\n",
       "      <td>2.198020</td>\n",
       "      <td>1.856577</td>\n",
       "      <td>2.459427</td>\n",
       "    </tr>\n",
       "    <tr>\n",
       "      <th>lifetime</th>\n",
       "      <td>4.736634</td>\n",
       "      <td>3.924675</td>\n",
       "      <td>2.809901</td>\n",
       "      <td>2.440571</td>\n",
       "      <td>4.898568</td>\n",
       "    </tr>\n",
       "    <tr>\n",
       "      <th>avg_class_frequency_total</th>\n",
       "      <td>1.982055</td>\n",
       "      <td>1.847220</td>\n",
       "      <td>1.660461</td>\n",
       "      <td>1.247634</td>\n",
       "      <td>2.852002</td>\n",
       "    </tr>\n",
       "    <tr>\n",
       "      <th>avg_class_frequency_current_month</th>\n",
       "      <td>1.974789</td>\n",
       "      <td>1.716369</td>\n",
       "      <td>1.477324</td>\n",
       "      <td>1.012983</td>\n",
       "      <td>2.850161</td>\n",
       "    </tr>\n",
       "    <tr>\n",
       "      <th>churn</th>\n",
       "      <td>0.027723</td>\n",
       "      <td>0.267532</td>\n",
       "      <td>0.443564</td>\n",
       "      <td>0.514263</td>\n",
       "      <td>0.068019</td>\n",
       "    </tr>\n",
       "  </tbody>\n",
       "</table>\n",
       "</div>"
      ],
      "text/plain": [
       "cluster                                     0           1           2  \\\n",
       "gender                               0.502970    0.522078    0.495050   \n",
       "near_location                        0.959406    0.862338    0.000000   \n",
       "partner                              0.783168    0.470130    0.463366   \n",
       "promo_friends                        0.574257    0.306494    0.079208   \n",
       "phone                                1.000000    0.000000    1.000000   \n",
       "contract_period                     10.889109    4.787013    2.352475   \n",
       "group_visits                         0.542574    0.425974    0.215842   \n",
       "age                                 29.982178   29.301299   28.477228   \n",
       "avg_additional_charges_total       160.761016  143.957664  135.457501   \n",
       "month_to_end_contract                9.954455    4.475325    2.198020   \n",
       "lifetime                             4.736634    3.924675    2.809901   \n",
       "avg_class_frequency_total            1.982055    1.847220    1.660461   \n",
       "avg_class_frequency_current_month    1.974789    1.716369    1.477324   \n",
       "churn                                0.027723    0.267532    0.443564   \n",
       "\n",
       "cluster                                     3           4  \n",
       "gender                               0.485737    0.559666  \n",
       "near_location                        1.000000    0.976134  \n",
       "partner                              0.350238    0.356802  \n",
       "promo_friends                        0.240095    0.230310  \n",
       "phone                                1.000000    0.998807  \n",
       "contract_period                      1.948494    2.669451  \n",
       "group_visits                         0.341521    0.473747  \n",
       "age                                 28.167987   30.125298  \n",
       "avg_additional_charges_total       131.622204  161.657905  \n",
       "month_to_end_contract                1.856577    2.459427  \n",
       "lifetime                             2.440571    4.898568  \n",
       "avg_class_frequency_total            1.247634    2.852002  \n",
       "avg_class_frequency_current_month    1.012983    2.850161  \n",
       "churn                                0.514263    0.068019  "
      ]
     },
     "execution_count": 26,
     "metadata": {},
     "output_type": "execute_result"
    }
   ],
   "source": [
    "df.groupby('cluster').mean().T"
   ]
  },
  {
   "cell_type": "markdown",
   "metadata": {},
   "source": [
    "- Сразу бросается в глаза, что в кластер 1 попали только клиенты, не оставившие свои телефонные номера;\n",
    "- В кластер 2 попали только клиенты, проживающие или работающие вне района, где находится фитнес-центр;\n",
    "- В кластер 4 - самые активные клиенты фитнес-центра, среднее количество посещений в неделю - 2.85, наименее активные - в кластере 3 - всего 1.2 посещений в неделю за все время с начала действия абонемента;\n",
    "- В кластерах 0 и 4 самая высокая суммарная выручка от других услуг фитнес-центра и самая низкая вероятность оттока, можно сделать вывод, что в них попали самые лояльные клиенты фитнес-центра;\n",
    "- Также в кластер 0 попали клиенты, длительность текущего действующего абонемента которых равен 10.88 (абонемент на 12 месяцев), чаще остальных приходящие по акции \"пригласи друга\", являющиеся партнерами клуба и посещающие групповые занятия."
   ]
  },
  {
   "cell_type": "markdown",
   "metadata": {},
   "source": [
    "### Распределение признаков для кластеров. "
   ]
  },
  {
   "cell_type": "code",
   "execution_count": 30,
   "metadata": {
    "scrolled": true
   },
   "outputs": [
    {
     "data": {
      "image/png": "[encoded data removed]",
      "text/plain": [
       "<Figure size 432x288 with 1 Axes>"
      ]
     },
     "metadata": {
      "needs_background": "light"
     },
     "output_type": "display_data"
    },
    {
     "data": {
      "image/png": "[encoded data removed]",
      "text/plain": [
       "<Figure size 432x288 with 1 Axes>"
      ]
     },
     "metadata": {
      "needs_background": "light"
     },
     "output_type": "display_data"
    },
    {
     "data": {
      "image/png": "[encoded data removed]",
      "text/plain": [
       "<Figure size 432x288 with 1 Axes>"
      ]
     },
     "metadata": {
      "needs_background": "light"
     },
     "output_type": "display_data"
    },
    {
     "data": {
      "image/png": "[encoded data removed]",
      "text/plain": [
       "<Figure size 432x288 with 1 Axes>"
      ]
     },
     "metadata": {
      "needs_background": "light"
     },
     "output_type": "display_data"
    },
    {
     "data": {
      "image/png": "[encoded data removed]",
      "text/plain": [
       "<Figure size 432x288 with 1 Axes>"
      ]
     },
     "metadata": {
      "needs_background": "light"
     },
     "output_type": "display_data"
    },
    {
     "data": {
      "image/png": "[encoded data removed]",
      "text/plain": [
       "<Figure size 432x288 with 1 Axes>"
      ]
     },
     "metadata": {
      "needs_background": "light"
     },
     "output_type": "display_data"
    },
    {
     "data": {
      "image/png": "[encoded data removed]",
      "text/plain": [
       "<Figure size 432x288 with 1 Axes>"
      ]
     },
     "metadata": {
      "needs_background": "light"
     },
     "output_type": "display_data"
    }
   ],
   "source": [
    "for i in counted:\n",
    "    #df.groupby('cluster')[i].hist(alpha=0.4)\n",
    "    sns.boxplot(x ='cluster',y = i, data = df)\n",
    "    #plt.legend(df['cluster'].unique())\n",
    "    plt.title(i)\n",
    "    plt.show()"
   ]
  },
  {
   "cell_type": "markdown",
   "metadata": {},
   "source": [
    "- В кластере 4 большинство клиентов возрастом от 25 до 28 лет, хотя средние значения в всех кластеров примерно одинаковые (29 лет);\n",
    "- Также в 4 кластере самое малый лайфтайм: время с первого обращения в фитнес-центр;\n",
    "- Кластер 1 состоит преимущественно из клиентов, покупающих абонемент на год;\n",
    "- По суммарной выручке от других услуг фитнес-центра снова выделяется кластер 4;\n",
    "- А по среднему посещению впереди всех - кластер 2."
   ]
  },
  {
   "cell_type": "code",
   "execution_count": 31,
   "metadata": {
    "scrolled": true
   },
   "outputs": [
    {
     "data": {
      "image/png": "[encoded data removed]",
      "text/plain": [
       "<Figure size 432x288 with 1 Axes>"
      ]
     },
     "metadata": {
      "needs_background": "light"
     },
     "output_type": "display_data"
    },
    {
     "data": {
      "image/png": "[encoded data removed]",
      "text/plain": [
       "<Figure size 432x288 with 1 Axes>"
      ]
     },
     "metadata": {
      "needs_background": "light"
     },
     "output_type": "display_data"
    },
    {
     "data": {
      "image/png": "[encoded data removed]",
      "text/plain": [
       "<Figure size 432x288 with 1 Axes>"
      ]
     },
     "metadata": {
      "needs_background": "light"
     },
     "output_type": "display_data"
    },
    {
     "data": {
      "image/png": "[encoded data removed]",
      "text/plain": [
       "<Figure size 432x288 with 1 Axes>"
      ]
     },
     "metadata": {
      "needs_background": "light"
     },
     "output_type": "display_data"
    },
    {
     "data": {
      "image/png": "[encoded data removed]",
      "text/plain": [
       "<Figure size 432x288 with 1 Axes>"
      ]
     },
     "metadata": {
      "needs_background": "light"
     },
     "output_type": "display_data"
    },
    {
     "data": {
      "image/png": "[encoded data removed]",
      "text/plain": [
       "<Figure size 432x288 with 1 Axes>"
      ]
     },
     "metadata": {
      "needs_background": "light"
     },
     "output_type": "display_data"
    }
   ],
   "source": [
    "for i in category:\n",
    "    sns.countplot(data = df, x = i, hue = 'cluster')\n",
    "    plt.title(i)\n",
    "    plt.show()"
   ]
  },
  {
   "cell_type": "markdown",
   "metadata": {},
   "source": [
    "- Пол клиентов распределен примерно равномерно у всех кластеров;\n",
    "- Как говорилось выше, в кластере 2 только клиенты, проживающие или работающие за пределами района, в котором находится фитнес-центр, а в кластере 1 - только клиенты, не оставившие свой номер телефона;\n",
    "- Кластер 1 является лидером по количеству сотрудников компаний-партнеров клуба и использованию акции \"приведи друга\";\n",
    "- Посещение групповых тренировок наиболее характерно для кластера 0 и 4. "
   ]
  },
  {
   "cell_type": "markdown",
   "metadata": {},
   "source": [
    "### Доля оттока для каждого кластера."
   ]
  },
  {
   "cell_type": "code",
   "execution_count": 39,
   "metadata": {},
   "outputs": [
    {
     "name": "stdout",
     "output_type": "stream",
     "text": [
      "cluster\n",
      "0    0.027723\n",
      "1    0.267532\n",
      "2    0.443564\n",
      "3    0.514263\n",
      "4    0.068019\n",
      "Name: churn, dtype: float64\n"
     ]
    }
   ],
   "source": [
    "#df_clusters = df.query('churn==1').groupby('cluster')['churn'].count() / df['churn'].count()\n",
    "#df_clusters\n",
    "print(df.groupby('cluster')['churn'].mean())\n",
    "#0.027723\t0.267532\t0.443564\t0.514263\t0.068019"
   ]
  },
  {
   "cell_type": "markdown",
   "metadata": {},
   "source": [
    "Самые надеждные кластеры - 0 и 4, склонные к оттоку 3 и 2."
   ]
  },
  {
   "cell_type": "markdown",
   "metadata": {},
   "source": [
    "## Вывод и базовые рекомендации."
   ]
  },
  {
   "cell_type": "markdown",
   "metadata": {},
   "source": [
    "- По всем метрикам лучше себя показала модель логистической регрессии;\n",
    "- Исходные данные были разделены на 5 кластеров;\n",
    "- Самыми надеждными кластерами являются кластеры 0 и 4, склонные к оттоку - 3 и 2;\n",
    "- Клиенты из надеждных кластеров характеризуются:\n",
    "    - большой длительностью действующего абонемента;\n",
    "    - проживанием или работой в районе, где находится фитнес-центр;\n",
    "    - возраст в среднем 29 лет;\n",
    "    - посещением фитнес-центра от двух раз в неделю;\n",
    "    - посещением групповых тренировок;\n",
    "    - приходящие по акции \"приведи друга\" и являющиеся сотрудниками компаний-партнеров фитнес-центра. \n",
    "    \n",
    "Исходя из этого можно выделить следующие рекомендации: \n",
    "- привлекать новых клиентов, предлагая акции или партнерские программы;\n",
    "- предлагать клиентам участие в групповых занятиях;\n",
    "- предлагать новым клиентам скидки на абонементы скором 12 месяцев;"
   ]
  }
 ],
 "metadata": {
  "ExecuteTimeLog": [
   {
    "duration": 404,
    "start_time": "2022-06-29T12:02:45.647Z"
   },
   {
    "duration": 62,
    "start_time": "2022-06-29T12:02:57.178Z"
   },
   {
    "duration": 31,
    "start_time": "2022-06-29T12:03:14.618Z"
   },
   {
    "duration": 11,
    "start_time": "2022-06-29T12:03:31.147Z"
   },
   {
    "duration": 46,
    "start_time": "2022-06-29T12:03:36.639Z"
   },
   {
    "duration": 41,
    "start_time": "2022-06-29T12:03:40.563Z"
   },
   {
    "duration": 4,
    "start_time": "2022-06-29T12:04:33.843Z"
   },
   {
    "duration": 3,
    "start_time": "2022-06-29T12:04:39.863Z"
   },
   {
    "duration": 18,
    "start_time": "2022-06-29T12:04:44.307Z"
   },
   {
    "duration": 18,
    "start_time": "2022-06-29T12:09:29.438Z"
   },
   {
    "duration": 63,
    "start_time": "2022-06-29T12:16:12.545Z"
   },
   {
    "duration": 1242,
    "start_time": "2022-06-29T12:16:32.317Z"
   },
   {
    "duration": 64,
    "start_time": "2022-06-29T12:16:37.764Z"
   },
   {
    "duration": 10,
    "start_time": "2022-06-29T12:16:57.583Z"
   },
   {
    "duration": 3,
    "start_time": "2022-06-29T12:17:01.509Z"
   },
   {
    "duration": 13,
    "start_time": "2022-06-29T12:17:06.393Z"
   },
   {
    "duration": 1559,
    "start_time": "2022-06-29T12:17:10.463Z"
   },
   {
    "duration": 1577,
    "start_time": "2022-06-29T12:24:25.736Z"
   },
   {
    "duration": 39,
    "start_time": "2022-06-29T12:24:27.315Z"
   },
   {
    "duration": 14,
    "start_time": "2022-06-29T12:24:27.356Z"
   },
   {
    "duration": 56,
    "start_time": "2022-06-29T12:24:27.372Z"
   },
   {
    "duration": 37,
    "start_time": "2022-06-29T12:24:27.431Z"
   },
   {
    "duration": 20,
    "start_time": "2022-06-29T12:24:27.471Z"
   },
   {
    "duration": 4,
    "start_time": "2022-06-29T12:24:27.494Z"
   },
   {
    "duration": 144,
    "start_time": "2022-06-29T12:25:59.518Z"
   },
   {
    "duration": 3,
    "start_time": "2022-06-29T12:26:02.763Z"
   },
   {
    "duration": 394,
    "start_time": "2022-06-29T12:26:03.187Z"
   },
   {
    "duration": 4,
    "start_time": "2022-06-29T12:26:24.627Z"
   },
   {
    "duration": 550,
    "start_time": "2022-06-29T12:26:28.251Z"
   },
   {
    "duration": 165,
    "start_time": "2022-06-29T12:27:22.192Z"
   },
   {
    "duration": 456,
    "start_time": "2022-06-29T12:27:26.517Z"
   },
   {
    "duration": 431,
    "start_time": "2022-06-29T12:27:55.068Z"
   },
   {
    "duration": 11,
    "start_time": "2022-06-29T12:34:56.417Z"
   },
   {
    "duration": 6,
    "start_time": "2022-06-29T12:34:58.320Z"
   },
   {
    "duration": 538,
    "start_time": "2022-06-29T12:34:58.675Z"
   },
   {
    "duration": 12,
    "start_time": "2022-06-29T12:35:12.593Z"
   },
   {
    "duration": 1569,
    "start_time": "2022-06-29T12:35:22.473Z"
   },
   {
    "duration": 1533,
    "start_time": "2022-06-29T12:35:30.035Z"
   },
   {
    "duration": 1309,
    "start_time": "2022-06-29T12:35:45.577Z"
   },
   {
    "duration": 1135,
    "start_time": "2022-06-29T12:39:18.737Z"
   },
   {
    "duration": 955,
    "start_time": "2022-06-29T12:39:23.371Z"
   },
   {
    "duration": 921,
    "start_time": "2022-06-29T12:40:31.310Z"
   },
   {
    "duration": 809,
    "start_time": "2022-06-29T12:41:30.470Z"
   },
   {
    "duration": 1208,
    "start_time": "2022-06-29T12:41:58.825Z"
   },
   {
    "duration": 35,
    "start_time": "2022-06-29T12:45:24.465Z"
   },
   {
    "duration": 28,
    "start_time": "2022-06-29T12:45:27.828Z"
   },
   {
    "duration": 30,
    "start_time": "2022-06-29T12:45:58.182Z"
   },
   {
    "duration": 50,
    "start_time": "2022-06-29T12:47:04.727Z"
   },
   {
    "duration": 1325,
    "start_time": "2022-06-29T12:48:32.047Z"
   },
   {
    "duration": 1454,
    "start_time": "2022-06-29T12:48:49.884Z"
   },
   {
    "duration": 1432,
    "start_time": "2022-06-29T12:49:00.945Z"
   },
   {
    "duration": 1544,
    "start_time": "2022-06-29T12:49:08.050Z"
   },
   {
    "duration": 1389,
    "start_time": "2022-06-29T12:50:49.267Z"
   },
   {
    "duration": 3,
    "start_time": "2022-06-29T12:53:06.849Z"
   },
   {
    "duration": 5,
    "start_time": "2022-06-29T12:57:27.949Z"
   },
   {
    "duration": 569,
    "start_time": "2022-06-29T12:57:38.535Z"
   },
   {
    "duration": 2,
    "start_time": "2022-06-29T12:59:12.414Z"
   },
   {
    "duration": 23,
    "start_time": "2022-06-29T12:59:12.690Z"
   },
   {
    "duration": 4,
    "start_time": "2022-06-29T12:59:51.586Z"
   },
   {
    "duration": 8,
    "start_time": "2022-06-29T12:59:53.924Z"
   },
   {
    "duration": 17,
    "start_time": "2022-06-29T13:00:06.936Z"
   },
   {
    "duration": 4,
    "start_time": "2022-06-29T13:02:24.870Z"
   },
   {
    "duration": 10,
    "start_time": "2022-06-29T13:02:31.373Z"
   },
   {
    "duration": 3,
    "start_time": "2022-06-29T13:03:12.930Z"
   },
   {
    "duration": 319,
    "start_time": "2022-06-29T13:03:19.825Z"
   },
   {
    "duration": 28,
    "start_time": "2022-06-29T13:03:27.868Z"
   },
   {
    "duration": 8,
    "start_time": "2022-06-29T13:03:34.371Z"
   },
   {
    "duration": 100,
    "start_time": "2022-06-29T13:05:29.679Z"
   },
   {
    "duration": 2,
    "start_time": "2022-06-29T13:05:35.594Z"
   },
   {
    "duration": 24,
    "start_time": "2022-06-29T13:05:40.520Z"
   },
   {
    "duration": 5,
    "start_time": "2022-06-29T13:05:40.709Z"
   },
   {
    "duration": 9,
    "start_time": "2022-06-29T13:05:41.075Z"
   },
   {
    "duration": 3,
    "start_time": "2022-06-29T13:05:42.022Z"
   },
   {
    "duration": 315,
    "start_time": "2022-06-29T13:05:42.205Z"
   },
   {
    "duration": 28,
    "start_time": "2022-06-29T13:05:42.522Z"
   },
   {
    "duration": 10,
    "start_time": "2022-06-29T13:05:42.587Z"
   },
   {
    "duration": 9,
    "start_time": "2022-06-29T13:07:55.344Z"
   },
   {
    "duration": 589,
    "start_time": "2022-06-29T13:08:02.400Z"
   },
   {
    "duration": 110502,
    "start_time": "2022-06-29T13:08:07.265Z"
   },
   {
    "duration": 1400,
    "start_time": "2022-06-29T13:12:32.784Z"
   },
   {
    "duration": 6,
    "start_time": "2022-06-29T13:29:43.652Z"
   },
   {
    "duration": 15,
    "start_time": "2022-06-29T13:39:50.157Z"
   },
   {
    "duration": 1767,
    "start_time": "2022-06-29T14:05:27.128Z"
   },
   {
    "duration": 2148,
    "start_time": "2022-06-29T14:05:42.823Z"
   },
   {
    "duration": 1992,
    "start_time": "2022-06-29T14:05:51.199Z"
   },
   {
    "duration": 1936,
    "start_time": "2022-06-29T14:15:49.514Z"
   },
   {
    "duration": 1523,
    "start_time": "2022-06-29T14:16:13.417Z"
   },
   {
    "duration": 24,
    "start_time": "2022-06-29T14:18:58.690Z"
   },
   {
    "duration": 10,
    "start_time": "2022-06-29T14:19:36.249Z"
   },
   {
    "duration": 15,
    "start_time": "2022-06-29T14:19:41.571Z"
   },
   {
    "duration": 13,
    "start_time": "2022-06-29T14:21:58.587Z"
   },
   {
    "duration": 6,
    "start_time": "2022-06-29T14:22:19.303Z"
   },
   {
    "duration": 297,
    "start_time": "2022-06-29T14:22:24.160Z"
   },
   {
    "duration": 54,
    "start_time": "2022-06-30T09:53:28.670Z"
   },
   {
    "duration": 1624,
    "start_time": "2022-06-30T09:53:30.860Z"
   },
   {
    "duration": 55,
    "start_time": "2022-06-30T09:53:32.486Z"
   },
   {
    "duration": 41,
    "start_time": "2022-06-30T09:53:47.277Z"
   },
   {
    "duration": 40,
    "start_time": "2022-06-30T09:53:56.254Z"
   },
   {
    "duration": 30,
    "start_time": "2022-06-30T09:55:25.730Z"
   },
   {
    "duration": 32,
    "start_time": "2022-06-30T09:55:29.773Z"
   },
   {
    "duration": 42,
    "start_time": "2022-06-30T09:55:40.277Z"
   },
   {
    "duration": 13,
    "start_time": "2022-06-30T09:57:37.767Z"
   },
   {
    "duration": 43,
    "start_time": "2022-06-30T09:58:21.095Z"
   },
   {
    "duration": 31,
    "start_time": "2022-06-30T09:58:44.689Z"
   },
   {
    "duration": 39,
    "start_time": "2022-06-30T10:27:58.705Z"
   },
   {
    "duration": 85,
    "start_time": "2022-06-30T10:38:43.180Z"
   },
   {
    "duration": 12,
    "start_time": "2022-06-30T10:38:49.814Z"
   },
   {
    "duration": 16,
    "start_time": "2022-06-30T10:38:54.230Z"
   },
   {
    "duration": 35,
    "start_time": "2022-06-30T10:41:45.986Z"
   },
   {
    "duration": 30,
    "start_time": "2022-06-30T10:41:52.759Z"
   },
   {
    "duration": 10,
    "start_time": "2022-06-30T13:00:26.358Z"
   },
   {
    "duration": 6,
    "start_time": "2022-06-30T13:00:29.668Z"
   },
   {
    "duration": 1304,
    "start_time": "2022-06-30T13:00:29.867Z"
   },
   {
    "duration": 961,
    "start_time": "2022-06-30T13:00:31.174Z"
   },
   {
    "duration": 1254,
    "start_time": "2022-06-30T13:01:10.249Z"
   },
   {
    "duration": 1156,
    "start_time": "2022-06-30T13:01:16.693Z"
   },
   {
    "duration": 1321,
    "start_time": "2022-06-30T13:01:22.321Z"
   },
   {
    "duration": 1270,
    "start_time": "2022-06-30T13:01:26.608Z"
   },
   {
    "duration": 973,
    "start_time": "2022-06-30T13:11:38.311Z"
   },
   {
    "duration": 4,
    "start_time": "2022-06-30T14:05:55.030Z"
   },
   {
    "duration": 7,
    "start_time": "2022-06-30T14:06:07.360Z"
   },
   {
    "duration": 4,
    "start_time": "2022-06-30T14:06:10.230Z"
   },
   {
    "duration": 5,
    "start_time": "2022-06-30T14:06:10.450Z"
   },
   {
    "duration": 7,
    "start_time": "2022-06-30T14:06:10.666Z"
   },
   {
    "duration": 3,
    "start_time": "2022-06-30T14:06:44.365Z"
   },
   {
    "duration": 1743,
    "start_time": "2022-07-02T08:20:12.187Z"
   },
   {
    "duration": 81,
    "start_time": "2022-07-02T08:20:13.932Z"
   },
   {
    "duration": 12,
    "start_time": "2022-07-02T08:20:14.015Z"
   },
   {
    "duration": 55,
    "start_time": "2022-07-02T08:20:14.029Z"
   },
   {
    "duration": 33,
    "start_time": "2022-07-02T08:20:14.086Z"
   },
   {
    "duration": 17,
    "start_time": "2022-07-02T08:20:14.121Z"
   },
   {
    "duration": 30,
    "start_time": "2022-07-02T08:20:14.140Z"
   },
   {
    "duration": 1383,
    "start_time": "2022-07-02T08:20:14.179Z"
   },
   {
    "duration": 995,
    "start_time": "2022-07-02T08:20:15.563Z"
   },
   {
    "duration": 1706,
    "start_time": "2022-07-02T08:20:16.560Z"
   },
   {
    "duration": 4,
    "start_time": "2022-07-02T08:20:18.267Z"
   },
   {
    "duration": 21,
    "start_time": "2022-07-02T08:20:18.273Z"
   },
   {
    "duration": 16,
    "start_time": "2022-07-02T08:20:18.296Z"
   },
   {
    "duration": 6,
    "start_time": "2022-07-02T08:20:18.315Z"
   },
   {
    "duration": 30,
    "start_time": "2022-07-02T08:20:18.323Z"
   },
   {
    "duration": 16,
    "start_time": "2022-07-02T08:20:18.355Z"
   },
   {
    "duration": 105,
    "start_time": "2022-07-02T08:20:18.374Z"
   },
   {
    "duration": 23,
    "start_time": "2022-07-02T08:20:18.481Z"
   },
   {
    "duration": 422,
    "start_time": "2022-07-02T08:20:18.506Z"
   },
   {
    "duration": 45,
    "start_time": "2022-07-02T08:20:18.930Z"
   },
   {
    "duration": 20,
    "start_time": "2022-07-02T08:20:18.979Z"
   },
   {
    "duration": 10,
    "start_time": "2022-07-02T08:20:19.002Z"
   },
   {
    "duration": 693,
    "start_time": "2022-07-02T08:20:19.014Z"
   },
   {
    "duration": 1361,
    "start_time": "2022-07-02T08:20:52.125Z"
   },
   {
    "duration": 45,
    "start_time": "2022-07-02T08:20:53.488Z"
   },
   {
    "duration": 11,
    "start_time": "2022-07-02T08:20:53.535Z"
   },
   {
    "duration": 54,
    "start_time": "2022-07-02T08:20:53.549Z"
   },
   {
    "duration": 44,
    "start_time": "2022-07-02T08:20:53.605Z"
   },
   {
    "duration": 32,
    "start_time": "2022-07-02T08:20:53.651Z"
   },
   {
    "duration": 6,
    "start_time": "2022-07-02T08:20:53.684Z"
   },
   {
    "duration": 1314,
    "start_time": "2022-07-02T08:20:53.692Z"
   },
   {
    "duration": 960,
    "start_time": "2022-07-02T08:20:55.007Z"
   },
   {
    "duration": 1582,
    "start_time": "2022-07-02T08:20:55.984Z"
   },
   {
    "duration": 12,
    "start_time": "2022-07-02T08:20:57.568Z"
   },
   {
    "duration": 12,
    "start_time": "2022-07-02T08:20:57.585Z"
   },
   {
    "duration": 6,
    "start_time": "2022-07-02T08:20:57.598Z"
   },
   {
    "duration": 7,
    "start_time": "2022-07-02T08:20:57.606Z"
   },
   {
    "duration": 27,
    "start_time": "2022-07-02T08:20:57.614Z"
   },
   {
    "duration": 34,
    "start_time": "2022-07-02T08:20:57.643Z"
   },
   {
    "duration": 130,
    "start_time": "2022-07-02T08:20:57.679Z"
   },
   {
    "duration": 12,
    "start_time": "2022-07-02T08:20:57.811Z"
   },
   {
    "duration": 335,
    "start_time": "2022-07-02T08:20:57.825Z"
   },
   {
    "duration": 31,
    "start_time": "2022-07-02T08:20:58.161Z"
   },
   {
    "duration": 10,
    "start_time": "2022-07-02T08:20:58.194Z"
   },
   {
    "duration": 8,
    "start_time": "2022-07-02T08:20:58.205Z"
   },
   {
    "duration": 602,
    "start_time": "2022-07-02T08:20:58.215Z"
   },
   {
    "duration": 25,
    "start_time": "2022-07-02T08:23:09.007Z"
   },
   {
    "duration": 2183,
    "start_time": "2022-07-02T08:23:09.038Z"
   },
   {
    "duration": 2010,
    "start_time": "2022-07-02T08:23:11.223Z"
   },
   {
    "duration": 22,
    "start_time": "2022-07-02T08:23:13.235Z"
   },
   {
    "duration": 147,
    "start_time": "2022-07-02T08:23:13.270Z"
   },
   {
    "duration": 9,
    "start_time": "2022-07-02T08:23:13.420Z"
   },
   {
    "duration": 868,
    "start_time": "2022-07-02T08:23:13.431Z"
   },
   {
    "duration": 133082,
    "start_time": "2022-07-02T08:23:14.302Z"
   },
   {
    "duration": 1320,
    "start_time": "2022-07-02T08:25:27.389Z"
   },
   {
    "duration": 7,
    "start_time": "2022-07-02T08:25:28.711Z"
   },
   {
    "duration": 10,
    "start_time": "2022-07-02T08:25:54.050Z"
   },
   {
    "duration": 33,
    "start_time": "2022-07-02T08:26:17.670Z"
   },
   {
    "duration": 4,
    "start_time": "2022-07-02T08:26:57.745Z"
   },
   {
    "duration": 8,
    "start_time": "2022-07-02T08:27:02.198Z"
   },
   {
    "duration": 9,
    "start_time": "2022-07-02T08:27:05.268Z"
   },
   {
    "duration": 13,
    "start_time": "2022-07-02T08:27:10.267Z"
   },
   {
    "duration": 738,
    "start_time": "2022-07-02T08:38:14.866Z"
   },
   {
    "duration": 734,
    "start_time": "2022-07-02T08:38:19.288Z"
   },
   {
    "duration": 128145,
    "start_time": "2022-07-02T08:38:50.322Z"
   },
   {
    "duration": 1407,
    "start_time": "2022-07-02T08:43:29.162Z"
   },
   {
    "duration": 1679,
    "start_time": "2022-07-02T12:25:14.900Z"
   },
   {
    "duration": 178,
    "start_time": "2022-07-02T12:25:16.581Z"
   },
   {
    "duration": 11,
    "start_time": "2022-07-02T12:25:16.761Z"
   },
   {
    "duration": 48,
    "start_time": "2022-07-02T12:25:16.773Z"
   },
   {
    "duration": 32,
    "start_time": "2022-07-02T12:25:16.823Z"
   },
   {
    "duration": 16,
    "start_time": "2022-07-02T12:25:16.856Z"
   },
   {
    "duration": 6,
    "start_time": "2022-07-02T12:25:16.873Z"
   },
   {
    "duration": 1313,
    "start_time": "2022-07-02T12:25:16.881Z"
   },
   {
    "duration": 949,
    "start_time": "2022-07-02T12:25:18.196Z"
   },
   {
    "duration": 1620,
    "start_time": "2022-07-02T12:25:19.147Z"
   },
   {
    "duration": 4,
    "start_time": "2022-07-02T12:25:20.768Z"
   },
   {
    "duration": 9,
    "start_time": "2022-07-02T12:25:20.773Z"
   },
   {
    "duration": 8,
    "start_time": "2022-07-02T12:25:20.784Z"
   },
   {
    "duration": 3,
    "start_time": "2022-07-02T12:25:20.795Z"
   },
   {
    "duration": 26,
    "start_time": "2022-07-02T12:25:20.800Z"
   },
   {
    "duration": 10,
    "start_time": "2022-07-02T12:25:20.828Z"
   },
   {
    "duration": 191,
    "start_time": "2022-07-02T12:25:20.840Z"
   },
   {
    "duration": 12,
    "start_time": "2022-07-02T12:25:21.033Z"
   },
   {
    "duration": 328,
    "start_time": "2022-07-02T12:25:21.047Z"
   },
   {
    "duration": 27,
    "start_time": "2022-07-02T12:25:21.376Z"
   },
   {
    "duration": 22,
    "start_time": "2022-07-02T12:25:21.404Z"
   },
   {
    "duration": 13,
    "start_time": "2022-07-02T12:25:21.428Z"
   },
   {
    "duration": 106549,
    "start_time": "2022-07-02T12:25:21.443Z"
   },
   {
    "duration": 1136,
    "start_time": "2022-07-02T12:27:07.994Z"
   },
   {
    "duration": 5,
    "start_time": "2022-07-02T12:27:09.132Z"
   },
   {
    "duration": 14,
    "start_time": "2022-07-02T12:27:09.139Z"
   },
   {
    "duration": 1559,
    "start_time": "2022-07-02T12:27:09.155Z"
   },
   {
    "duration": 1561,
    "start_time": "2022-07-02T12:27:10.716Z"
   },
   {
    "duration": 13,
    "start_time": "2022-07-02T12:27:12.279Z"
   },
   {
    "duration": 141,
    "start_time": "2022-07-02T12:27:12.294Z"
   },
   {
    "duration": 1080,
    "start_time": "2022-07-02T12:32:02.660Z"
   },
   {
    "duration": 5,
    "start_time": "2022-07-02T13:14:09.459Z"
   },
   {
    "duration": 6,
    "start_time": "2022-07-02T13:14:31.315Z"
   },
   {
    "duration": 1024,
    "start_time": "2022-07-02T13:16:17.707Z"
   },
   {
    "duration": 14,
    "start_time": "2022-07-02T13:30:56.999Z"
   },
   {
    "duration": 1718,
    "start_time": "2022-07-02T13:58:40.523Z"
   },
   {
    "duration": 4,
    "start_time": "2022-07-02T14:22:20.064Z"
   },
   {
    "duration": 2235,
    "start_time": "2022-07-03T13:55:31.094Z"
   },
   {
    "duration": 169,
    "start_time": "2022-07-03T13:55:33.331Z"
   },
   {
    "duration": 13,
    "start_time": "2022-07-03T13:55:33.501Z"
   },
   {
    "duration": 50,
    "start_time": "2022-07-03T13:55:33.516Z"
   },
   {
    "duration": 32,
    "start_time": "2022-07-03T13:55:33.568Z"
   },
   {
    "duration": 34,
    "start_time": "2022-07-03T13:55:33.602Z"
   },
   {
    "duration": 6,
    "start_time": "2022-07-03T13:55:33.638Z"
   },
   {
    "duration": 1374,
    "start_time": "2022-07-03T13:55:33.646Z"
   },
   {
    "duration": 903,
    "start_time": "2022-07-03T13:55:35.024Z"
   },
   {
    "duration": 1577,
    "start_time": "2022-07-03T13:55:35.930Z"
   },
   {
    "duration": 4,
    "start_time": "2022-07-03T13:55:37.509Z"
   },
   {
    "duration": 14,
    "start_time": "2022-07-03T13:55:37.515Z"
   },
   {
    "duration": 7,
    "start_time": "2022-07-03T13:55:37.531Z"
   },
   {
    "duration": 6,
    "start_time": "2022-07-03T13:55:37.540Z"
   },
   {
    "duration": 27,
    "start_time": "2022-07-03T13:55:37.548Z"
   },
   {
    "duration": 49,
    "start_time": "2022-07-03T13:55:37.577Z"
   },
   {
    "duration": 102,
    "start_time": "2022-07-03T13:55:37.628Z"
   },
   {
    "duration": 3,
    "start_time": "2022-07-03T13:55:37.732Z"
   },
   {
    "duration": 325,
    "start_time": "2022-07-03T13:55:37.737Z"
   },
   {
    "duration": 26,
    "start_time": "2022-07-03T13:55:38.063Z"
   },
   {
    "duration": 6,
    "start_time": "2022-07-03T13:55:38.091Z"
   },
   {
    "duration": 7,
    "start_time": "2022-07-03T13:55:38.099Z"
   },
   {
    "duration": 112141,
    "start_time": "2022-07-03T13:55:38.126Z"
   },
   {
    "duration": 1262,
    "start_time": "2022-07-03T13:57:30.269Z"
   },
   {
    "duration": 93,
    "start_time": "2022-07-03T13:57:31.534Z"
   },
   {
    "duration": 26,
    "start_time": "2022-07-03T13:57:31.628Z"
   },
   {
    "duration": 1684,
    "start_time": "2022-07-03T13:57:31.656Z"
   },
   {
    "duration": 1585,
    "start_time": "2022-07-03T13:57:33.344Z"
   },
   {
    "duration": 13,
    "start_time": "2022-07-03T13:57:34.931Z"
   },
   {
    "duration": 1689,
    "start_time": "2022-07-03T14:57:43.937Z"
   },
   {
    "duration": 74,
    "start_time": "2022-07-03T14:57:45.628Z"
   },
   {
    "duration": 13,
    "start_time": "2022-07-03T14:57:45.704Z"
   },
   {
    "duration": 76,
    "start_time": "2022-07-03T14:57:45.719Z"
   },
   {
    "duration": 31,
    "start_time": "2022-07-03T14:57:45.797Z"
   },
   {
    "duration": 16,
    "start_time": "2022-07-03T14:57:45.830Z"
   },
   {
    "duration": 11,
    "start_time": "2022-07-03T14:57:45.874Z"
   },
   {
    "duration": 1834,
    "start_time": "2022-07-03T14:57:45.887Z"
   },
   {
    "duration": 1326,
    "start_time": "2022-07-03T14:57:47.724Z"
   },
   {
    "duration": 1801,
    "start_time": "2022-07-03T14:57:49.051Z"
   },
   {
    "duration": 4,
    "start_time": "2022-07-03T14:57:50.855Z"
   },
   {
    "duration": 30,
    "start_time": "2022-07-03T14:57:50.861Z"
   },
   {
    "duration": 11,
    "start_time": "2022-07-03T14:57:50.893Z"
   },
   {
    "duration": 12,
    "start_time": "2022-07-03T14:57:50.907Z"
   },
   {
    "duration": 29,
    "start_time": "2022-07-03T14:57:50.921Z"
   },
   {
    "duration": 16,
    "start_time": "2022-07-03T14:57:50.952Z"
   },
   {
    "duration": 132,
    "start_time": "2022-07-03T14:57:50.972Z"
   },
   {
    "duration": 3,
    "start_time": "2022-07-03T14:57:51.106Z"
   },
   {
    "duration": 392,
    "start_time": "2022-07-03T14:57:51.111Z"
   },
   {
    "duration": 27,
    "start_time": "2022-07-03T14:57:51.505Z"
   },
   {
    "duration": 9,
    "start_time": "2022-07-03T14:57:51.533Z"
   },
   {
    "duration": 38,
    "start_time": "2022-07-03T14:57:51.544Z"
   },
   {
    "duration": 130739,
    "start_time": "2022-07-03T14:57:51.586Z"
   },
   {
    "duration": 1041,
    "start_time": "2022-07-03T15:00:02.328Z"
   },
   {
    "duration": 17,
    "start_time": "2022-07-03T15:00:03.380Z"
   },
   {
    "duration": 27,
    "start_time": "2022-07-03T15:00:03.399Z"
   },
   {
    "duration": 2129,
    "start_time": "2022-07-03T15:00:03.429Z"
   },
   {
    "duration": 1744,
    "start_time": "2022-07-03T15:00:05.560Z"
   },
   {
    "duration": 21,
    "start_time": "2022-07-03T15:00:07.306Z"
   },
   {
    "duration": 1431,
    "start_time": "2022-07-03T15:01:20.626Z"
   },
   {
    "duration": 1077,
    "start_time": "2022-07-03T15:03:11.267Z"
   },
   {
    "duration": 11,
    "start_time": "2022-07-03T15:30:37.707Z"
   },
   {
    "duration": 54,
    "start_time": "2022-07-03T15:33:08.198Z"
   },
   {
    "duration": 19,
    "start_time": "2022-07-03T15:33:12.766Z"
   },
   {
    "duration": 12,
    "start_time": "2022-07-03T15:34:41.201Z"
   },
   {
    "duration": 14,
    "start_time": "2022-07-03T15:39:17.191Z"
   },
   {
    "duration": 13,
    "start_time": "2022-07-03T15:42:42.498Z"
   },
   {
    "duration": 9,
    "start_time": "2022-07-03T15:42:50.301Z"
   },
   {
    "duration": 5,
    "start_time": "2022-07-03T15:45:42.995Z"
   },
   {
    "duration": 69,
    "start_time": "2022-07-03T16:14:06.727Z"
   }
  ],
  "kernelspec": {
   "display_name": "Python 3 (ipykernel)",
   "language": "python",
   "name": "python3"
  },
  "language_info": {
   "codemirror_mode": {
    "name": "ipython",
    "version": 3
   },
   "file_extension": ".py",
   "mimetype": "text/x-python",
   "name": "python",
   "nbconvert_exporter": "python",
   "pygments_lexer": "ipython3",
   "version": "3.9.5"
  },
  "toc": {
   "base_numbering": 1,
   "nav_menu": {},
   "number_sections": true,
   "sideBar": true,
   "skip_h1_title": true,
   "title_cell": "Table of Contents",
   "title_sidebar": "Contents",
   "toc_cell": false,
   "toc_position": {
    "height": "calc(100% - 180px)",
    "left": "10px",
    "top": "150px",
    "width": "362.391px"
   },
   "toc_section_display": true,
   "toc_window_display": true
  }
 },
 "nbformat": 4,
 "nbformat_minor": 2
}
