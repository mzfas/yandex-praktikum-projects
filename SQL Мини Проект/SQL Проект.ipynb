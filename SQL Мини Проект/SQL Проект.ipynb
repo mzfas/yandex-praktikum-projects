{
 "cells": [
  {
   "cell_type": "markdown",
   "metadata": {},
   "source": [
    "# SQL Проект. "
   ]
  },
  {
   "cell_type": "markdown",
   "metadata": {},
   "source": [
    "**Описание исследования:**\n",
    "\n",
    "Коронавирус застал мир врасплох, изменив привычный порядок вещей. В\n",
    "свободное время жители городов больше не выходят на улицу, не посещают кафе\n",
    "и торговые центры. Зато стало больше времени для книг. Это заметили\n",
    "стартаперы — и бросились создавать приложения для тех, кто любит читать.\n",
    "\n",
    "Ваша компания решила быть на волне и купила крупный сервис для чтения книг\n",
    "по подписке. Ваша первая задача как аналитика — проанализировать базу\n",
    "данных.\n",
    "\n",
    "В ней — информация о книгах, издательствах, авторах, а также пользовательские\n",
    "обзоры книг. Эти данные помогут сформулировать ценностное предложение для\n",
    "нового продукта.\n"
   ]
  },
  {
   "cell_type": "markdown",
   "metadata": {},
   "source": [
    "**Описание данных:**\n",
    "\n",
    "`Таблица books` содержит данные о книгах:\n",
    "- `book_id` — идентификатор книги;\n",
    "- `author_id` — идентификатор автора;\n",
    "- `title` — название книги;\n",
    "- `num_pages` — количество страниц;\n",
    "- `publication_date` — дата публикации книги;\n",
    "- `publisher_id` — идентификатор издателя.\n",
    "\n",
    "`Таблица authors` содержит данные об авторах:\n",
    "- `author_id` — идентификатор автора;\n",
    "- `author` — имя автора.\n",
    "\n",
    "`Таблица publishers` cодержит данные об издательствах:\n",
    "- `publisher_id` — идентификатор издательства;\n",
    "- `publisher` — название издательства;\n",
    "\n",
    "`Таблица ratings` cодержит данные о пользовательских оценках книг:\n",
    "- `rating_id` — идентификатор оценки;\n",
    "- `book_id` — идентификатор книги;\n",
    "- `username` — имя пользователя, оставившего оценку;\n",
    "- `rating` — оценка книги.\n",
    "\n",
    "`Таблица reviews` cодержит данные о пользовательских обзорах на книги:\n",
    "- `review_id` — идентификатор обзора;\n",
    "- `book_id` — идентификатор книги;\n",
    "- `username` — имя пользователя, написавшего обзор;\n",
    "- `text` — текст обзора.\n",
    "\n",
    "**Задачи исследования:**\n",
    "- Посчитайте, сколько книг вышло после 1 января 2000 года;\n",
    "- Для каждой книги посчитайте количество обзоров и среднюю оценку;\n",
    "- Определите издательство, которое выпустило наибольшее число книг толще 50 страниц — так вы исключите из анализа брошюры;\n",
    "- Определите автора с самой высокой средней оценкой книг — учитывайте только книги с 50 и более оценками;\n",
    "- Посчитайте среднее количество обзоров от пользователей, которые поставилибольше 50 оценок."
   ]
  },
  {
   "cell_type": "code",
   "execution_count": 1,
   "metadata": {},
   "outputs": [],
   "source": [
    "# импортируем библиотеки\n",
    "import pandas as pd\n",
    "from sqlalchemy import create_engine"
   ]
  },
  {
   "cell_type": "code",
   "execution_count": 2,
   "metadata": {},
   "outputs": [],
   "source": [
    "# устанавливаем параметры\n",
    "db_config = {'user': 'praktikum_student', # имя пользователя\n",
    "             'pwd': 'Sdf4$2;d-d30pp', # пароль\n",
    "             'host': 'rc1b-wcoijxj3yxfsf3fs.mdb.yandexcloud.net',\n",
    "             'port': 6432, # порт подключения\n",
    "             'db': 'data-analyst-final-project-db'}\n",
    "\n",
    "# название базы данных\n",
    "connection_string = 'postgresql://{}:{}@{}:{}/{}'.format(db_config['user'],\n",
    "                                                         db_config['pwd'],\n",
    "                                                         db_config['host'],\n",
    "                                                         db_config['port'],\n",
    "                                                         db_config['db'])\n",
    "# сохраняем коннектор\n",
    "engine = create_engine(connection_string, connect_args={'sslmode':'require'}) "
   ]
  },
  {
   "cell_type": "markdown",
   "metadata": {},
   "source": [
    "## Изучение общей информации."
   ]
  },
  {
   "cell_type": "code",
   "execution_count": 3,
   "metadata": {},
   "outputs": [],
   "source": [
    "query = '''\n",
    "\n",
    "        SELECT *\n",
    "        FROM books\n",
    "        \n",
    "        '''\n",
    "\n",
    "books = pd.io.sql.read_sql(query, con = engine) \n",
    "books.name = 'books'"
   ]
  },
  {
   "cell_type": "code",
   "execution_count": 4,
   "metadata": {},
   "outputs": [],
   "source": [
    "query = '''\n",
    "\n",
    "        SELECT *\n",
    "        FROM authors\n",
    "        \n",
    "        '''\n",
    "\n",
    "authors = pd.io.sql.read_sql(query, con = engine) \n",
    "authors.name = 'authors'"
   ]
  },
  {
   "cell_type": "code",
   "execution_count": 5,
   "metadata": {},
   "outputs": [],
   "source": [
    "query = '''\n",
    "\n",
    "        SELECT *\n",
    "        FROM publishers\n",
    "\n",
    "        '''\n",
    "\n",
    "publishers = pd.io.sql.read_sql(query, con = engine) \n",
    "publishers.name = 'publisher'"
   ]
  },
  {
   "cell_type": "code",
   "execution_count": 6,
   "metadata": {},
   "outputs": [],
   "source": [
    "query = '''\n",
    "\n",
    "        SELECT *\n",
    "        FROM ratings\n",
    "\n",
    "        '''\n",
    "\n",
    "ratings = pd.io.sql.read_sql(query, con = engine) \n",
    "ratings.name = 'publisher'"
   ]
  },
  {
   "cell_type": "code",
   "execution_count": 7,
   "metadata": {},
   "outputs": [],
   "source": [
    "query = '''\n",
    "\n",
    "        SELECT *\n",
    "        FROM reviews\n",
    "\n",
    "        '''\n",
    "\n",
    "reviews = pd.io.sql.read_sql(query, con = engine) \n",
    "reviews.name = 'publisher'"
   ]
  },
  {
   "cell_type": "code",
   "execution_count": 8,
   "metadata": {},
   "outputs": [],
   "source": [
    "def get_info(dataframes):\n",
    "    for df in dataframes:\n",
    "        print(df.name)\n",
    "        print('Вызов метода head()') \n",
    "        display(df.head())\n",
    "        print()\n",
    "        print('Вызов метода info()') \n",
    "        df.info()\n",
    "        print()\n",
    "        print('Вызов метода describe()')\n",
    "        display(df.describe().T)\n",
    "        print()\n",
    "        print('Количество пропусков: {}'.format(df.isna().sum()))"
   ]
  },
  {
   "cell_type": "code",
   "execution_count": 9,
   "metadata": {},
   "outputs": [],
   "source": [
    "dataframes = [books, authors, publishers, ratings, reviews]"
   ]
  },
  {
   "cell_type": "code",
   "execution_count": 10,
   "metadata": {
    "scrolled": false
   },
   "outputs": [
    {
     "name": "stdout",
     "output_type": "stream",
     "text": [
      "books\n",
      "Вызов метода head()\n"
     ]
    },
    {
     "data": {
      "text/html": [
       "<div>\n",
       "<style scoped>\n",
       "    .dataframe tbody tr th:only-of-type {\n",
       "        vertical-align: middle;\n",
       "    }\n",
       "\n",
       "    .dataframe tbody tr th {\n",
       "        vertical-align: top;\n",
       "    }\n",
       "\n",
       "    .dataframe thead th {\n",
       "        text-align: right;\n",
       "    }\n",
       "</style>\n",
       "<table border=\"1\" class=\"dataframe\">\n",
       "  <thead>\n",
       "    <tr style=\"text-align: right;\">\n",
       "      <th></th>\n",
       "      <th>book_id</th>\n",
       "      <th>author_id</th>\n",
       "      <th>title</th>\n",
       "      <th>num_pages</th>\n",
       "      <th>publication_date</th>\n",
       "      <th>publisher_id</th>\n",
       "    </tr>\n",
       "  </thead>\n",
       "  <tbody>\n",
       "    <tr>\n",
       "      <th>0</th>\n",
       "      <td>1</td>\n",
       "      <td>546</td>\n",
       "      <td>'Salem's Lot</td>\n",
       "      <td>594</td>\n",
       "      <td>2005-11-01</td>\n",
       "      <td>93</td>\n",
       "    </tr>\n",
       "    <tr>\n",
       "      <th>1</th>\n",
       "      <td>2</td>\n",
       "      <td>465</td>\n",
       "      <td>1 000 Places to See Before You Die</td>\n",
       "      <td>992</td>\n",
       "      <td>2003-05-22</td>\n",
       "      <td>336</td>\n",
       "    </tr>\n",
       "    <tr>\n",
       "      <th>2</th>\n",
       "      <td>3</td>\n",
       "      <td>407</td>\n",
       "      <td>13 Little Blue Envelopes (Little Blue Envelope...</td>\n",
       "      <td>322</td>\n",
       "      <td>2010-12-21</td>\n",
       "      <td>135</td>\n",
       "    </tr>\n",
       "    <tr>\n",
       "      <th>3</th>\n",
       "      <td>4</td>\n",
       "      <td>82</td>\n",
       "      <td>1491: New Revelations of the Americas Before C...</td>\n",
       "      <td>541</td>\n",
       "      <td>2006-10-10</td>\n",
       "      <td>309</td>\n",
       "    </tr>\n",
       "    <tr>\n",
       "      <th>4</th>\n",
       "      <td>5</td>\n",
       "      <td>125</td>\n",
       "      <td>1776</td>\n",
       "      <td>386</td>\n",
       "      <td>2006-07-04</td>\n",
       "      <td>268</td>\n",
       "    </tr>\n",
       "  </tbody>\n",
       "</table>\n",
       "</div>"
      ],
      "text/plain": [
       "   book_id  author_id                                              title  \\\n",
       "0        1        546                                       'Salem's Lot   \n",
       "1        2        465                 1 000 Places to See Before You Die   \n",
       "2        3        407  13 Little Blue Envelopes (Little Blue Envelope...   \n",
       "3        4         82  1491: New Revelations of the Americas Before C...   \n",
       "4        5        125                                               1776   \n",
       "\n",
       "   num_pages publication_date  publisher_id  \n",
       "0        594       2005-11-01            93  \n",
       "1        992       2003-05-22           336  \n",
       "2        322       2010-12-21           135  \n",
       "3        541       2006-10-10           309  \n",
       "4        386       2006-07-04           268  "
      ]
     },
     "metadata": {},
     "output_type": "display_data"
    },
    {
     "name": "stdout",
     "output_type": "stream",
     "text": [
      "\n",
      "Вызов метода info()\n",
      "<class 'pandas.core.frame.DataFrame'>\n",
      "RangeIndex: 1000 entries, 0 to 999\n",
      "Data columns (total 6 columns):\n",
      " #   Column            Non-Null Count  Dtype \n",
      "---  ------            --------------  ----- \n",
      " 0   book_id           1000 non-null   int64 \n",
      " 1   author_id         1000 non-null   int64 \n",
      " 2   title             1000 non-null   object\n",
      " 3   num_pages         1000 non-null   int64 \n",
      " 4   publication_date  1000 non-null   object\n",
      " 5   publisher_id      1000 non-null   int64 \n",
      "dtypes: int64(4), object(2)\n",
      "memory usage: 47.0+ KB\n",
      "\n",
      "Вызов метода describe()\n"
     ]
    },
    {
     "data": {
      "text/html": [
       "<div>\n",
       "<style scoped>\n",
       "    .dataframe tbody tr th:only-of-type {\n",
       "        vertical-align: middle;\n",
       "    }\n",
       "\n",
       "    .dataframe tbody tr th {\n",
       "        vertical-align: top;\n",
       "    }\n",
       "\n",
       "    .dataframe thead th {\n",
       "        text-align: right;\n",
       "    }\n",
       "</style>\n",
       "<table border=\"1\" class=\"dataframe\">\n",
       "  <thead>\n",
       "    <tr style=\"text-align: right;\">\n",
       "      <th></th>\n",
       "      <th>count</th>\n",
       "      <th>mean</th>\n",
       "      <th>std</th>\n",
       "      <th>min</th>\n",
       "      <th>25%</th>\n",
       "      <th>50%</th>\n",
       "      <th>75%</th>\n",
       "      <th>max</th>\n",
       "    </tr>\n",
       "  </thead>\n",
       "  <tbody>\n",
       "    <tr>\n",
       "      <th>book_id</th>\n",
       "      <td>1000.0</td>\n",
       "      <td>500.500</td>\n",
       "      <td>288.819436</td>\n",
       "      <td>1.0</td>\n",
       "      <td>250.75</td>\n",
       "      <td>500.5</td>\n",
       "      <td>750.25</td>\n",
       "      <td>1000.0</td>\n",
       "    </tr>\n",
       "    <tr>\n",
       "      <th>author_id</th>\n",
       "      <td>1000.0</td>\n",
       "      <td>320.417</td>\n",
       "      <td>181.620172</td>\n",
       "      <td>1.0</td>\n",
       "      <td>162.75</td>\n",
       "      <td>316.5</td>\n",
       "      <td>481.00</td>\n",
       "      <td>636.0</td>\n",
       "    </tr>\n",
       "    <tr>\n",
       "      <th>num_pages</th>\n",
       "      <td>1000.0</td>\n",
       "      <td>389.111</td>\n",
       "      <td>229.390140</td>\n",
       "      <td>14.0</td>\n",
       "      <td>249.00</td>\n",
       "      <td>352.0</td>\n",
       "      <td>453.00</td>\n",
       "      <td>2690.0</td>\n",
       "    </tr>\n",
       "    <tr>\n",
       "      <th>publisher_id</th>\n",
       "      <td>1000.0</td>\n",
       "      <td>171.270</td>\n",
       "      <td>99.082685</td>\n",
       "      <td>1.0</td>\n",
       "      <td>83.00</td>\n",
       "      <td>177.5</td>\n",
       "      <td>258.00</td>\n",
       "      <td>340.0</td>\n",
       "    </tr>\n",
       "  </tbody>\n",
       "</table>\n",
       "</div>"
      ],
      "text/plain": [
       "               count     mean         std   min     25%    50%     75%     max\n",
       "book_id       1000.0  500.500  288.819436   1.0  250.75  500.5  750.25  1000.0\n",
       "author_id     1000.0  320.417  181.620172   1.0  162.75  316.5  481.00   636.0\n",
       "num_pages     1000.0  389.111  229.390140  14.0  249.00  352.0  453.00  2690.0\n",
       "publisher_id  1000.0  171.270   99.082685   1.0   83.00  177.5  258.00   340.0"
      ]
     },
     "metadata": {},
     "output_type": "display_data"
    },
    {
     "name": "stdout",
     "output_type": "stream",
     "text": [
      "\n",
      "Количество пропусков: book_id             0\n",
      "author_id           0\n",
      "title               0\n",
      "num_pages           0\n",
      "publication_date    0\n",
      "publisher_id        0\n",
      "dtype: int64\n",
      "authors\n",
      "Вызов метода head()\n"
     ]
    },
    {
     "data": {
      "text/html": [
       "<div>\n",
       "<style scoped>\n",
       "    .dataframe tbody tr th:only-of-type {\n",
       "        vertical-align: middle;\n",
       "    }\n",
       "\n",
       "    .dataframe tbody tr th {\n",
       "        vertical-align: top;\n",
       "    }\n",
       "\n",
       "    .dataframe thead th {\n",
       "        text-align: right;\n",
       "    }\n",
       "</style>\n",
       "<table border=\"1\" class=\"dataframe\">\n",
       "  <thead>\n",
       "    <tr style=\"text-align: right;\">\n",
       "      <th></th>\n",
       "      <th>author_id</th>\n",
       "      <th>author</th>\n",
       "    </tr>\n",
       "  </thead>\n",
       "  <tbody>\n",
       "    <tr>\n",
       "      <th>0</th>\n",
       "      <td>1</td>\n",
       "      <td>A.S. Byatt</td>\n",
       "    </tr>\n",
       "    <tr>\n",
       "      <th>1</th>\n",
       "      <td>2</td>\n",
       "      <td>Aesop/Laura Harris/Laura Gibbs</td>\n",
       "    </tr>\n",
       "    <tr>\n",
       "      <th>2</th>\n",
       "      <td>3</td>\n",
       "      <td>Agatha Christie</td>\n",
       "    </tr>\n",
       "    <tr>\n",
       "      <th>3</th>\n",
       "      <td>4</td>\n",
       "      <td>Alan Brennert</td>\n",
       "    </tr>\n",
       "    <tr>\n",
       "      <th>4</th>\n",
       "      <td>5</td>\n",
       "      <td>Alan Moore/David   Lloyd</td>\n",
       "    </tr>\n",
       "  </tbody>\n",
       "</table>\n",
       "</div>"
      ],
      "text/plain": [
       "   author_id                          author\n",
       "0          1                      A.S. Byatt\n",
       "1          2  Aesop/Laura Harris/Laura Gibbs\n",
       "2          3                 Agatha Christie\n",
       "3          4                   Alan Brennert\n",
       "4          5        Alan Moore/David   Lloyd"
      ]
     },
     "metadata": {},
     "output_type": "display_data"
    },
    {
     "name": "stdout",
     "output_type": "stream",
     "text": [
      "\n",
      "Вызов метода info()\n",
      "<class 'pandas.core.frame.DataFrame'>\n",
      "RangeIndex: 636 entries, 0 to 635\n",
      "Data columns (total 2 columns):\n",
      " #   Column     Non-Null Count  Dtype \n",
      "---  ------     --------------  ----- \n",
      " 0   author_id  636 non-null    int64 \n",
      " 1   author     636 non-null    object\n",
      "dtypes: int64(1), object(1)\n",
      "memory usage: 10.1+ KB\n",
      "\n",
      "Вызов метода describe()\n"
     ]
    },
    {
     "data": {
      "text/html": [
       "<div>\n",
       "<style scoped>\n",
       "    .dataframe tbody tr th:only-of-type {\n",
       "        vertical-align: middle;\n",
       "    }\n",
       "\n",
       "    .dataframe tbody tr th {\n",
       "        vertical-align: top;\n",
       "    }\n",
       "\n",
       "    .dataframe thead th {\n",
       "        text-align: right;\n",
       "    }\n",
       "</style>\n",
       "<table border=\"1\" class=\"dataframe\">\n",
       "  <thead>\n",
       "    <tr style=\"text-align: right;\">\n",
       "      <th></th>\n",
       "      <th>count</th>\n",
       "      <th>mean</th>\n",
       "      <th>std</th>\n",
       "      <th>min</th>\n",
       "      <th>25%</th>\n",
       "      <th>50%</th>\n",
       "      <th>75%</th>\n",
       "      <th>max</th>\n",
       "    </tr>\n",
       "  </thead>\n",
       "  <tbody>\n",
       "    <tr>\n",
       "      <th>author_id</th>\n",
       "      <td>636.0</td>\n",
       "      <td>318.5</td>\n",
       "      <td>183.741666</td>\n",
       "      <td>1.0</td>\n",
       "      <td>159.75</td>\n",
       "      <td>318.5</td>\n",
       "      <td>477.25</td>\n",
       "      <td>636.0</td>\n",
       "    </tr>\n",
       "  </tbody>\n",
       "</table>\n",
       "</div>"
      ],
      "text/plain": [
       "           count   mean         std  min     25%    50%     75%    max\n",
       "author_id  636.0  318.5  183.741666  1.0  159.75  318.5  477.25  636.0"
      ]
     },
     "metadata": {},
     "output_type": "display_data"
    },
    {
     "name": "stdout",
     "output_type": "stream",
     "text": [
      "\n",
      "Количество пропусков: author_id    0\n",
      "author       0\n",
      "dtype: int64\n",
      "publisher\n",
      "Вызов метода head()\n"
     ]
    },
    {
     "data": {
      "text/html": [
       "<div>\n",
       "<style scoped>\n",
       "    .dataframe tbody tr th:only-of-type {\n",
       "        vertical-align: middle;\n",
       "    }\n",
       "\n",
       "    .dataframe tbody tr th {\n",
       "        vertical-align: top;\n",
       "    }\n",
       "\n",
       "    .dataframe thead th {\n",
       "        text-align: right;\n",
       "    }\n",
       "</style>\n",
       "<table border=\"1\" class=\"dataframe\">\n",
       "  <thead>\n",
       "    <tr style=\"text-align: right;\">\n",
       "      <th></th>\n",
       "      <th>publisher_id</th>\n",
       "      <th>publisher</th>\n",
       "    </tr>\n",
       "  </thead>\n",
       "  <tbody>\n",
       "    <tr>\n",
       "      <th>0</th>\n",
       "      <td>1</td>\n",
       "      <td>Ace</td>\n",
       "    </tr>\n",
       "    <tr>\n",
       "      <th>1</th>\n",
       "      <td>2</td>\n",
       "      <td>Ace Book</td>\n",
       "    </tr>\n",
       "    <tr>\n",
       "      <th>2</th>\n",
       "      <td>3</td>\n",
       "      <td>Ace Books</td>\n",
       "    </tr>\n",
       "    <tr>\n",
       "      <th>3</th>\n",
       "      <td>4</td>\n",
       "      <td>Ace Hardcover</td>\n",
       "    </tr>\n",
       "    <tr>\n",
       "      <th>4</th>\n",
       "      <td>5</td>\n",
       "      <td>Addison Wesley Publishing Company</td>\n",
       "    </tr>\n",
       "  </tbody>\n",
       "</table>\n",
       "</div>"
      ],
      "text/plain": [
       "   publisher_id                          publisher\n",
       "0             1                                Ace\n",
       "1             2                           Ace Book\n",
       "2             3                          Ace Books\n",
       "3             4                      Ace Hardcover\n",
       "4             5  Addison Wesley Publishing Company"
      ]
     },
     "metadata": {},
     "output_type": "display_data"
    },
    {
     "name": "stdout",
     "output_type": "stream",
     "text": [
      "\n",
      "Вызов метода info()\n",
      "<class 'pandas.core.frame.DataFrame'>\n",
      "RangeIndex: 340 entries, 0 to 339\n",
      "Data columns (total 2 columns):\n",
      " #   Column        Non-Null Count  Dtype \n",
      "---  ------        --------------  ----- \n",
      " 0   publisher_id  340 non-null    int64 \n",
      " 1   publisher     340 non-null    object\n",
      "dtypes: int64(1), object(1)\n",
      "memory usage: 5.4+ KB\n",
      "\n",
      "Вызов метода describe()\n"
     ]
    },
    {
     "data": {
      "text/html": [
       "<div>\n",
       "<style scoped>\n",
       "    .dataframe tbody tr th:only-of-type {\n",
       "        vertical-align: middle;\n",
       "    }\n",
       "\n",
       "    .dataframe tbody tr th {\n",
       "        vertical-align: top;\n",
       "    }\n",
       "\n",
       "    .dataframe thead th {\n",
       "        text-align: right;\n",
       "    }\n",
       "</style>\n",
       "<table border=\"1\" class=\"dataframe\">\n",
       "  <thead>\n",
       "    <tr style=\"text-align: right;\">\n",
       "      <th></th>\n",
       "      <th>count</th>\n",
       "      <th>mean</th>\n",
       "      <th>std</th>\n",
       "      <th>min</th>\n",
       "      <th>25%</th>\n",
       "      <th>50%</th>\n",
       "      <th>75%</th>\n",
       "      <th>max</th>\n",
       "    </tr>\n",
       "  </thead>\n",
       "  <tbody>\n",
       "    <tr>\n",
       "      <th>publisher_id</th>\n",
       "      <td>340.0</td>\n",
       "      <td>170.5</td>\n",
       "      <td>98.293777</td>\n",
       "      <td>1.0</td>\n",
       "      <td>85.75</td>\n",
       "      <td>170.5</td>\n",
       "      <td>255.25</td>\n",
       "      <td>340.0</td>\n",
       "    </tr>\n",
       "  </tbody>\n",
       "</table>\n",
       "</div>"
      ],
      "text/plain": [
       "              count   mean        std  min    25%    50%     75%    max\n",
       "publisher_id  340.0  170.5  98.293777  1.0  85.75  170.5  255.25  340.0"
      ]
     },
     "metadata": {},
     "output_type": "display_data"
    },
    {
     "name": "stdout",
     "output_type": "stream",
     "text": [
      "\n",
      "Количество пропусков: publisher_id    0\n",
      "publisher       0\n",
      "dtype: int64\n",
      "publisher\n",
      "Вызов метода head()\n"
     ]
    },
    {
     "data": {
      "text/html": [
       "<div>\n",
       "<style scoped>\n",
       "    .dataframe tbody tr th:only-of-type {\n",
       "        vertical-align: middle;\n",
       "    }\n",
       "\n",
       "    .dataframe tbody tr th {\n",
       "        vertical-align: top;\n",
       "    }\n",
       "\n",
       "    .dataframe thead th {\n",
       "        text-align: right;\n",
       "    }\n",
       "</style>\n",
       "<table border=\"1\" class=\"dataframe\">\n",
       "  <thead>\n",
       "    <tr style=\"text-align: right;\">\n",
       "      <th></th>\n",
       "      <th>rating_id</th>\n",
       "      <th>book_id</th>\n",
       "      <th>username</th>\n",
       "      <th>rating</th>\n",
       "    </tr>\n",
       "  </thead>\n",
       "  <tbody>\n",
       "    <tr>\n",
       "      <th>0</th>\n",
       "      <td>1</td>\n",
       "      <td>1</td>\n",
       "      <td>ryanfranco</td>\n",
       "      <td>4</td>\n",
       "    </tr>\n",
       "    <tr>\n",
       "      <th>1</th>\n",
       "      <td>2</td>\n",
       "      <td>1</td>\n",
       "      <td>grantpatricia</td>\n",
       "      <td>2</td>\n",
       "    </tr>\n",
       "    <tr>\n",
       "      <th>2</th>\n",
       "      <td>3</td>\n",
       "      <td>1</td>\n",
       "      <td>brandtandrea</td>\n",
       "      <td>5</td>\n",
       "    </tr>\n",
       "    <tr>\n",
       "      <th>3</th>\n",
       "      <td>4</td>\n",
       "      <td>2</td>\n",
       "      <td>lorichen</td>\n",
       "      <td>3</td>\n",
       "    </tr>\n",
       "    <tr>\n",
       "      <th>4</th>\n",
       "      <td>5</td>\n",
       "      <td>2</td>\n",
       "      <td>mariokeller</td>\n",
       "      <td>2</td>\n",
       "    </tr>\n",
       "  </tbody>\n",
       "</table>\n",
       "</div>"
      ],
      "text/plain": [
       "   rating_id  book_id       username  rating\n",
       "0          1        1     ryanfranco       4\n",
       "1          2        1  grantpatricia       2\n",
       "2          3        1   brandtandrea       5\n",
       "3          4        2       lorichen       3\n",
       "4          5        2    mariokeller       2"
      ]
     },
     "metadata": {},
     "output_type": "display_data"
    },
    {
     "name": "stdout",
     "output_type": "stream",
     "text": [
      "\n",
      "Вызов метода info()\n",
      "<class 'pandas.core.frame.DataFrame'>\n",
      "RangeIndex: 6456 entries, 0 to 6455\n",
      "Data columns (total 4 columns):\n",
      " #   Column     Non-Null Count  Dtype \n",
      "---  ------     --------------  ----- \n",
      " 0   rating_id  6456 non-null   int64 \n",
      " 1   book_id    6456 non-null   int64 \n",
      " 2   username   6456 non-null   object\n",
      " 3   rating     6456 non-null   int64 \n",
      "dtypes: int64(3), object(1)\n",
      "memory usage: 201.9+ KB\n",
      "\n",
      "Вызов метода describe()\n"
     ]
    },
    {
     "data": {
      "text/html": [
       "<div>\n",
       "<style scoped>\n",
       "    .dataframe tbody tr th:only-of-type {\n",
       "        vertical-align: middle;\n",
       "    }\n",
       "\n",
       "    .dataframe tbody tr th {\n",
       "        vertical-align: top;\n",
       "    }\n",
       "\n",
       "    .dataframe thead th {\n",
       "        text-align: right;\n",
       "    }\n",
       "</style>\n",
       "<table border=\"1\" class=\"dataframe\">\n",
       "  <thead>\n",
       "    <tr style=\"text-align: right;\">\n",
       "      <th></th>\n",
       "      <th>count</th>\n",
       "      <th>mean</th>\n",
       "      <th>std</th>\n",
       "      <th>min</th>\n",
       "      <th>25%</th>\n",
       "      <th>50%</th>\n",
       "      <th>75%</th>\n",
       "      <th>max</th>\n",
       "    </tr>\n",
       "  </thead>\n",
       "  <tbody>\n",
       "    <tr>\n",
       "      <th>rating_id</th>\n",
       "      <td>6456.0</td>\n",
       "      <td>3228.500000</td>\n",
       "      <td>1863.831001</td>\n",
       "      <td>1.0</td>\n",
       "      <td>1614.75</td>\n",
       "      <td>3228.5</td>\n",
       "      <td>4842.25</td>\n",
       "      <td>6456.0</td>\n",
       "    </tr>\n",
       "    <tr>\n",
       "      <th>book_id</th>\n",
       "      <td>6456.0</td>\n",
       "      <td>510.574195</td>\n",
       "      <td>284.141636</td>\n",
       "      <td>1.0</td>\n",
       "      <td>291.00</td>\n",
       "      <td>506.0</td>\n",
       "      <td>750.00</td>\n",
       "      <td>1000.0</td>\n",
       "    </tr>\n",
       "    <tr>\n",
       "      <th>rating</th>\n",
       "      <td>6456.0</td>\n",
       "      <td>3.928284</td>\n",
       "      <td>0.943303</td>\n",
       "      <td>1.0</td>\n",
       "      <td>3.00</td>\n",
       "      <td>4.0</td>\n",
       "      <td>5.00</td>\n",
       "      <td>5.0</td>\n",
       "    </tr>\n",
       "  </tbody>\n",
       "</table>\n",
       "</div>"
      ],
      "text/plain": [
       "            count         mean          std  min      25%     50%      75%  \\\n",
       "rating_id  6456.0  3228.500000  1863.831001  1.0  1614.75  3228.5  4842.25   \n",
       "book_id    6456.0   510.574195   284.141636  1.0   291.00   506.0   750.00   \n",
       "rating     6456.0     3.928284     0.943303  1.0     3.00     4.0     5.00   \n",
       "\n",
       "              max  \n",
       "rating_id  6456.0  \n",
       "book_id    1000.0  \n",
       "rating        5.0  "
      ]
     },
     "metadata": {},
     "output_type": "display_data"
    },
    {
     "name": "stdout",
     "output_type": "stream",
     "text": [
      "\n",
      "Количество пропусков: rating_id    0\n",
      "book_id      0\n",
      "username     0\n",
      "rating       0\n",
      "dtype: int64\n",
      "publisher\n",
      "Вызов метода head()\n"
     ]
    },
    {
     "data": {
      "text/html": [
       "<div>\n",
       "<style scoped>\n",
       "    .dataframe tbody tr th:only-of-type {\n",
       "        vertical-align: middle;\n",
       "    }\n",
       "\n",
       "    .dataframe tbody tr th {\n",
       "        vertical-align: top;\n",
       "    }\n",
       "\n",
       "    .dataframe thead th {\n",
       "        text-align: right;\n",
       "    }\n",
       "</style>\n",
       "<table border=\"1\" class=\"dataframe\">\n",
       "  <thead>\n",
       "    <tr style=\"text-align: right;\">\n",
       "      <th></th>\n",
       "      <th>review_id</th>\n",
       "      <th>book_id</th>\n",
       "      <th>username</th>\n",
       "      <th>text</th>\n",
       "    </tr>\n",
       "  </thead>\n",
       "  <tbody>\n",
       "    <tr>\n",
       "      <th>0</th>\n",
       "      <td>1</td>\n",
       "      <td>1</td>\n",
       "      <td>brandtandrea</td>\n",
       "      <td>Mention society tell send professor analysis. ...</td>\n",
       "    </tr>\n",
       "    <tr>\n",
       "      <th>1</th>\n",
       "      <td>2</td>\n",
       "      <td>1</td>\n",
       "      <td>ryanfranco</td>\n",
       "      <td>Foot glass pretty audience hit themselves. Amo...</td>\n",
       "    </tr>\n",
       "    <tr>\n",
       "      <th>2</th>\n",
       "      <td>3</td>\n",
       "      <td>2</td>\n",
       "      <td>lorichen</td>\n",
       "      <td>Listen treat keep worry. Miss husband tax but ...</td>\n",
       "    </tr>\n",
       "    <tr>\n",
       "      <th>3</th>\n",
       "      <td>4</td>\n",
       "      <td>3</td>\n",
       "      <td>johnsonamanda</td>\n",
       "      <td>Finally month interesting blue could nature cu...</td>\n",
       "    </tr>\n",
       "    <tr>\n",
       "      <th>4</th>\n",
       "      <td>5</td>\n",
       "      <td>3</td>\n",
       "      <td>scotttamara</td>\n",
       "      <td>Nation purpose heavy give wait song will. List...</td>\n",
       "    </tr>\n",
       "  </tbody>\n",
       "</table>\n",
       "</div>"
      ],
      "text/plain": [
       "   review_id  book_id       username  \\\n",
       "0          1        1   brandtandrea   \n",
       "1          2        1     ryanfranco   \n",
       "2          3        2       lorichen   \n",
       "3          4        3  johnsonamanda   \n",
       "4          5        3    scotttamara   \n",
       "\n",
       "                                                text  \n",
       "0  Mention society tell send professor analysis. ...  \n",
       "1  Foot glass pretty audience hit themselves. Amo...  \n",
       "2  Listen treat keep worry. Miss husband tax but ...  \n",
       "3  Finally month interesting blue could nature cu...  \n",
       "4  Nation purpose heavy give wait song will. List...  "
      ]
     },
     "metadata": {},
     "output_type": "display_data"
    },
    {
     "name": "stdout",
     "output_type": "stream",
     "text": [
      "\n",
      "Вызов метода info()\n",
      "<class 'pandas.core.frame.DataFrame'>\n",
      "RangeIndex: 2793 entries, 0 to 2792\n",
      "Data columns (total 4 columns):\n",
      " #   Column     Non-Null Count  Dtype \n",
      "---  ------     --------------  ----- \n",
      " 0   review_id  2793 non-null   int64 \n",
      " 1   book_id    2793 non-null   int64 \n",
      " 2   username   2793 non-null   object\n",
      " 3   text       2793 non-null   object\n",
      "dtypes: int64(2), object(2)\n",
      "memory usage: 87.4+ KB\n",
      "\n",
      "Вызов метода describe()\n"
     ]
    },
    {
     "data": {
      "text/html": [
       "<div>\n",
       "<style scoped>\n",
       "    .dataframe tbody tr th:only-of-type {\n",
       "        vertical-align: middle;\n",
       "    }\n",
       "\n",
       "    .dataframe tbody tr th {\n",
       "        vertical-align: top;\n",
       "    }\n",
       "\n",
       "    .dataframe thead th {\n",
       "        text-align: right;\n",
       "    }\n",
       "</style>\n",
       "<table border=\"1\" class=\"dataframe\">\n",
       "  <thead>\n",
       "    <tr style=\"text-align: right;\">\n",
       "      <th></th>\n",
       "      <th>count</th>\n",
       "      <th>mean</th>\n",
       "      <th>std</th>\n",
       "      <th>min</th>\n",
       "      <th>25%</th>\n",
       "      <th>50%</th>\n",
       "      <th>75%</th>\n",
       "      <th>max</th>\n",
       "    </tr>\n",
       "  </thead>\n",
       "  <tbody>\n",
       "    <tr>\n",
       "      <th>review_id</th>\n",
       "      <td>2793.0</td>\n",
       "      <td>1397.000000</td>\n",
       "      <td>806.413976</td>\n",
       "      <td>1.0</td>\n",
       "      <td>699.0</td>\n",
       "      <td>1397.0</td>\n",
       "      <td>2095.0</td>\n",
       "      <td>2793.0</td>\n",
       "    </tr>\n",
       "    <tr>\n",
       "      <th>book_id</th>\n",
       "      <td>2793.0</td>\n",
       "      <td>504.693161</td>\n",
       "      <td>288.472931</td>\n",
       "      <td>1.0</td>\n",
       "      <td>259.0</td>\n",
       "      <td>505.0</td>\n",
       "      <td>753.0</td>\n",
       "      <td>1000.0</td>\n",
       "    </tr>\n",
       "  </tbody>\n",
       "</table>\n",
       "</div>"
      ],
      "text/plain": [
       "            count         mean         std  min    25%     50%     75%     max\n",
       "review_id  2793.0  1397.000000  806.413976  1.0  699.0  1397.0  2095.0  2793.0\n",
       "book_id    2793.0   504.693161  288.472931  1.0  259.0   505.0   753.0  1000.0"
      ]
     },
     "metadata": {},
     "output_type": "display_data"
    },
    {
     "name": "stdout",
     "output_type": "stream",
     "text": [
      "\n",
      "Количество пропусков: review_id    0\n",
      "book_id      0\n",
      "username     0\n",
      "text         0\n",
      "dtype: int64\n"
     ]
    }
   ],
   "source": [
    "get_info(dataframes)"
   ]
  },
  {
   "cell_type": "markdown",
   "metadata": {},
   "source": [
    "Названия таблиц корректны и соответствуют описанию данных, пропусков нет, таблицы корректны. "
   ]
  },
  {
   "cell_type": "markdown",
   "metadata": {},
   "source": [
    "## Посчитайте, сколько книг вышло после 1 января 2000 года"
   ]
  },
  {
   "cell_type": "code",
   "execution_count": 11,
   "metadata": {},
   "outputs": [
    {
     "name": "stdout",
     "output_type": "stream",
     "text": [
      "Количество книг, вышедшее после 1 января 2000 года: 819\n"
     ]
    }
   ],
   "source": [
    "query = '''\n",
    "        SELECT COUNT(book_id)\n",
    "        FROM books\n",
    "        WHERE CAST(publication_date AS date) > '2000-01-01'\n",
    "\n",
    "        '''\n",
    "books_count = pd.io.sql.read_sql(query, con = engine) \n",
    "print('Количество книг, вышедшее после 1 января 2000 года: {}'.format(books_count.loc[0, 'count']))"
   ]
  },
  {
   "cell_type": "markdown",
   "metadata": {},
   "source": [
    "## Для каждой книги посчитайте количество обзоров и среднюю оценку"
   ]
  },
  {
   "cell_type": "code",
   "execution_count": 12,
   "metadata": {},
   "outputs": [],
   "source": [
    "query = '''\n",
    "        SELECT b.title,\n",
    "               COUNT(DISTINCT(rw.text)) AS count,\n",
    "               AVG(rt.rating) AS avg_rating\n",
    "        FROM books AS b\n",
    "        LEFT JOIN reviews AS rw ON b.book_id = rw.book_id\n",
    "        LEFT JOIN ratings AS rt ON b.book_id = rt.book_id\n",
    "        GROUP BY b.book_id\n",
    "        ORDER BY count DESC\n",
    "        '''\n",
    "books_review = pd.io.sql.read_sql(query, con = engine) "
   ]
  },
  {
   "cell_type": "code",
   "execution_count": 13,
   "metadata": {},
   "outputs": [
    {
     "data": {
      "text/html": [
       "<div>\n",
       "<style scoped>\n",
       "    .dataframe tbody tr th:only-of-type {\n",
       "        vertical-align: middle;\n",
       "    }\n",
       "\n",
       "    .dataframe tbody tr th {\n",
       "        vertical-align: top;\n",
       "    }\n",
       "\n",
       "    .dataframe thead th {\n",
       "        text-align: right;\n",
       "    }\n",
       "</style>\n",
       "<table border=\"1\" class=\"dataframe\">\n",
       "  <thead>\n",
       "    <tr style=\"text-align: right;\">\n",
       "      <th></th>\n",
       "      <th>title</th>\n",
       "      <th>count</th>\n",
       "      <th>avg_rating</th>\n",
       "    </tr>\n",
       "  </thead>\n",
       "  <tbody>\n",
       "    <tr>\n",
       "      <th>0</th>\n",
       "      <td>Twilight (Twilight  #1)</td>\n",
       "      <td>7</td>\n",
       "      <td>3.662500</td>\n",
       "    </tr>\n",
       "    <tr>\n",
       "      <th>1</th>\n",
       "      <td>Water for Elephants</td>\n",
       "      <td>6</td>\n",
       "      <td>3.977273</td>\n",
       "    </tr>\n",
       "    <tr>\n",
       "      <th>2</th>\n",
       "      <td>The Glass Castle</td>\n",
       "      <td>6</td>\n",
       "      <td>4.206897</td>\n",
       "    </tr>\n",
       "    <tr>\n",
       "      <th>3</th>\n",
       "      <td>Harry Potter and the Prisoner of Azkaban (Harr...</td>\n",
       "      <td>6</td>\n",
       "      <td>4.414634</td>\n",
       "    </tr>\n",
       "    <tr>\n",
       "      <th>4</th>\n",
       "      <td>The Curious Incident of the Dog in the Night-Time</td>\n",
       "      <td>6</td>\n",
       "      <td>4.081081</td>\n",
       "    </tr>\n",
       "    <tr>\n",
       "      <th>...</th>\n",
       "      <td>...</td>\n",
       "      <td>...</td>\n",
       "      <td>...</td>\n",
       "    </tr>\n",
       "    <tr>\n",
       "      <th>995</th>\n",
       "      <td>Anne Rice's The Vampire Lestat: A Graphic Novel</td>\n",
       "      <td>0</td>\n",
       "      <td>3.666667</td>\n",
       "    </tr>\n",
       "    <tr>\n",
       "      <th>996</th>\n",
       "      <td>The Natural Way to Draw</td>\n",
       "      <td>0</td>\n",
       "      <td>3.000000</td>\n",
       "    </tr>\n",
       "    <tr>\n",
       "      <th>997</th>\n",
       "      <td>The Cat in the Hat and Other Dr. Seuss Favorites</td>\n",
       "      <td>0</td>\n",
       "      <td>5.000000</td>\n",
       "    </tr>\n",
       "    <tr>\n",
       "      <th>998</th>\n",
       "      <td>Essential Tales and Poems</td>\n",
       "      <td>0</td>\n",
       "      <td>4.000000</td>\n",
       "    </tr>\n",
       "    <tr>\n",
       "      <th>999</th>\n",
       "      <td>Disney's Beauty and the Beast (A Little Golden...</td>\n",
       "      <td>0</td>\n",
       "      <td>4.000000</td>\n",
       "    </tr>\n",
       "  </tbody>\n",
       "</table>\n",
       "<p>1000 rows × 3 columns</p>\n",
       "</div>"
      ],
      "text/plain": [
       "                                                 title  count  avg_rating\n",
       "0                              Twilight (Twilight  #1)      7    3.662500\n",
       "1                                  Water for Elephants      6    3.977273\n",
       "2                                     The Glass Castle      6    4.206897\n",
       "3    Harry Potter and the Prisoner of Azkaban (Harr...      6    4.414634\n",
       "4    The Curious Incident of the Dog in the Night-Time      6    4.081081\n",
       "..                                                 ...    ...         ...\n",
       "995    Anne Rice's The Vampire Lestat: A Graphic Novel      0    3.666667\n",
       "996                            The Natural Way to Draw      0    3.000000\n",
       "997   The Cat in the Hat and Other Dr. Seuss Favorites      0    5.000000\n",
       "998                          Essential Tales and Poems      0    4.000000\n",
       "999  Disney's Beauty and the Beast (A Little Golden...      0    4.000000\n",
       "\n",
       "[1000 rows x 3 columns]"
      ]
     },
     "execution_count": 13,
     "metadata": {},
     "output_type": "execute_result"
    }
   ],
   "source": [
    "books_review"
   ]
  },
  {
   "cell_type": "markdown",
   "metadata": {},
   "source": [
    "## Определите издательство, которое выпустило наибольшее число книг толще 50 страниц — так вы исключите из анализа брошюры;"
   ]
  },
  {
   "cell_type": "code",
   "execution_count": 14,
   "metadata": {},
   "outputs": [],
   "source": [
    "query = '''\n",
    "        SELECT p.publisher AS publisher_name,\n",
    "               COUNT(b.book_id) AS count\n",
    "        FROM publishers AS p\n",
    "        JOIN books AS b ON p.publisher_id = b.publisher_id\n",
    "        WHERE b.num_pages > 50\n",
    "        GROUP BY publisher_name\n",
    "        ORDER BY count DESC\n",
    "        LIMIT 1\n",
    "\n",
    "        '''\n",
    "\n",
    "best_publisher = pd.io.sql.read_sql(query, con = engine) "
   ]
  },
  {
   "cell_type": "code",
   "execution_count": 15,
   "metadata": {},
   "outputs": [
    {
     "data": {
      "text/html": [
       "<div>\n",
       "<style scoped>\n",
       "    .dataframe tbody tr th:only-of-type {\n",
       "        vertical-align: middle;\n",
       "    }\n",
       "\n",
       "    .dataframe tbody tr th {\n",
       "        vertical-align: top;\n",
       "    }\n",
       "\n",
       "    .dataframe thead th {\n",
       "        text-align: right;\n",
       "    }\n",
       "</style>\n",
       "<table border=\"1\" class=\"dataframe\">\n",
       "  <thead>\n",
       "    <tr style=\"text-align: right;\">\n",
       "      <th></th>\n",
       "      <th>publisher_name</th>\n",
       "      <th>count</th>\n",
       "    </tr>\n",
       "  </thead>\n",
       "  <tbody>\n",
       "    <tr>\n",
       "      <th>0</th>\n",
       "      <td>Penguin Books</td>\n",
       "      <td>42</td>\n",
       "    </tr>\n",
       "  </tbody>\n",
       "</table>\n",
       "</div>"
      ],
      "text/plain": [
       "  publisher_name  count\n",
       "0  Penguin Books     42"
      ]
     },
     "execution_count": 15,
     "metadata": {},
     "output_type": "execute_result"
    }
   ],
   "source": [
    "best_publisher"
   ]
  },
  {
   "cell_type": "code",
   "execution_count": 16,
   "metadata": {},
   "outputs": [
    {
     "name": "stdout",
     "output_type": "stream",
     "text": [
      "Издательство, выпустившее наибольшее количество книг: Penguin Books. Количество выпущенных книг: 42\n"
     ]
    }
   ],
   "source": [
    "print('Издательство, выпустившее наибольшее количество книг: {}. Количество выпущенных книг: {}'.format(\n",
    "      best_publisher.loc[0, 'publisher_name'], best_publisher.loc[0,'count']))"
   ]
  },
  {
   "cell_type": "markdown",
   "metadata": {},
   "source": [
    "## Определите автора с самой высокой средней оценкой книг — учитывайте только книги с 50 и более оценками;"
   ]
  },
  {
   "cell_type": "code",
   "execution_count": 17,
   "metadata": {},
   "outputs": [],
   "source": [
    "query = '''\n",
    "        SELECT author AS author_name,\n",
    "               AVG(r.rating) AS avg_rating\n",
    "        FROM authors AS a\n",
    "        JOIN books AS b ON a.author_id = b.author_id\n",
    "        JOIN ratings AS r ON b.book_id = r.book_id\n",
    "        GROUP BY author_name           \n",
    "        HAVING COUNT(r.rating) > 50\n",
    "        ORDER BY avg_rating DESC\n",
    "        LIMIT 1\n",
    "        '''\n",
    "#PREV_best_author = pd.io.sql.read_sql(query, con = engine) \n",
    "#PREV_best_author"
   ]
  },
  {
   "cell_type": "code",
   "execution_count": 18,
   "metadata": {},
   "outputs": [],
   "source": [
    "query = '''\n",
    "        SELECT i.author AS author_name,\n",
    "               AVG(i.rating_avg) as avg_rating\n",
    "        FROM (SELECT author,\n",
    "                     AVG(rating) AS rating_avg\n",
    "              FROM authors AS a\n",
    "              JOIN books AS b ON b.author_id = a.author_id\n",
    "              JOIN ratings AS r ON r.book_id = b.book_id\n",
    "              GROUP BY author,\n",
    "                       b.book_id\n",
    "              HAVING COUNT(rating) >= 50) AS i\n",
    "        GROUP BY author_name\n",
    "        ORDER BY avg_rating DESC\n",
    "        LIMIT 1\n",
    "        '''\n",
    "best_author = pd.io.sql.read_sql(query, con = engine)"
   ]
  },
  {
   "cell_type": "code",
   "execution_count": 19,
   "metadata": {},
   "outputs": [
    {
     "data": {
      "text/html": [
       "<div>\n",
       "<style scoped>\n",
       "    .dataframe tbody tr th:only-of-type {\n",
       "        vertical-align: middle;\n",
       "    }\n",
       "\n",
       "    .dataframe tbody tr th {\n",
       "        vertical-align: top;\n",
       "    }\n",
       "\n",
       "    .dataframe thead th {\n",
       "        text-align: right;\n",
       "    }\n",
       "</style>\n",
       "<table border=\"1\" class=\"dataframe\">\n",
       "  <thead>\n",
       "    <tr style=\"text-align: right;\">\n",
       "      <th></th>\n",
       "      <th>author_name</th>\n",
       "      <th>avg_rating</th>\n",
       "    </tr>\n",
       "  </thead>\n",
       "  <tbody>\n",
       "    <tr>\n",
       "      <th>0</th>\n",
       "      <td>J.K. Rowling/Mary GrandPré</td>\n",
       "      <td>4.283844</td>\n",
       "    </tr>\n",
       "  </tbody>\n",
       "</table>\n",
       "</div>"
      ],
      "text/plain": [
       "                  author_name  avg_rating\n",
       "0  J.K. Rowling/Mary GrandPré    4.283844"
      ]
     },
     "execution_count": 19,
     "metadata": {},
     "output_type": "execute_result"
    }
   ],
   "source": [
    "best_author"
   ]
  },
  {
   "cell_type": "code",
   "execution_count": 20,
   "metadata": {},
   "outputs": [
    {
     "name": "stdout",
     "output_type": "stream",
     "text": [
      "Автор с самой высокой средней оценкой книг - J.K. Rowling/Mary GrandPré. Средний рейтинг: 4.28\n"
     ]
    }
   ],
   "source": [
    "print('Автор с самой высокой средней оценкой книг - {}. Средний рейтинг: {}'.format(\n",
    "    best_author.loc[0, 'author_name'], round(best_author.loc[0,'avg_rating'], 2)))"
   ]
  },
  {
   "cell_type": "markdown",
   "metadata": {},
   "source": [
    "## Посчитайте среднее количество обзоров от пользователей, которые поставили больше 50 оценок."
   ]
  },
  {
   "cell_type": "code",
   "execution_count": 21,
   "metadata": {},
   "outputs": [],
   "source": [
    "query = '''\n",
    "        SELECT AVG(c.count) AS avg_review_count\n",
    "        FROM (SELECT COUNT(r.username) AS count\n",
    "             FROM reviews AS r\n",
    "             GROUP BY r.username\n",
    "             HAVING username IN (SELECT username\n",
    "                                FROM ratings\n",
    "                                GROUP BY username\n",
    "                                HAVING COUNT(rating_id) > 50\n",
    "                               )) AS c\n",
    "\n",
    "        '''\n",
    "\n",
    "avg_reviews = pd.io.sql.read_sql(query, con = engine) "
   ]
  },
  {
   "cell_type": "code",
   "execution_count": 22,
   "metadata": {},
   "outputs": [
    {
     "data": {
      "text/html": [
       "<div>\n",
       "<style scoped>\n",
       "    .dataframe tbody tr th:only-of-type {\n",
       "        vertical-align: middle;\n",
       "    }\n",
       "\n",
       "    .dataframe tbody tr th {\n",
       "        vertical-align: top;\n",
       "    }\n",
       "\n",
       "    .dataframe thead th {\n",
       "        text-align: right;\n",
       "    }\n",
       "</style>\n",
       "<table border=\"1\" class=\"dataframe\">\n",
       "  <thead>\n",
       "    <tr style=\"text-align: right;\">\n",
       "      <th></th>\n",
       "      <th>avg_review_count</th>\n",
       "    </tr>\n",
       "  </thead>\n",
       "  <tbody>\n",
       "    <tr>\n",
       "      <th>0</th>\n",
       "      <td>24.333333</td>\n",
       "    </tr>\n",
       "  </tbody>\n",
       "</table>\n",
       "</div>"
      ],
      "text/plain": [
       "   avg_review_count\n",
       "0         24.333333"
      ]
     },
     "execution_count": 22,
     "metadata": {},
     "output_type": "execute_result"
    }
   ],
   "source": [
    "avg_reviews"
   ]
  },
  {
   "cell_type": "code",
   "execution_count": 23,
   "metadata": {},
   "outputs": [
    {
     "name": "stdout",
     "output_type": "stream",
     "text": [
      "Среднее количество обзоров от пользователей, которые поставили больше 50 оценок: 24\n"
     ]
    }
   ],
   "source": [
    "print('Среднее количество обзоров от пользователей, которые поставили больше 50 оценок: {}'.format(\n",
    "        round(avg_reviews.loc[0, 'avg_review_count'])))"
   ]
  },
  {
   "cell_type": "markdown",
   "metadata": {},
   "source": [
    "**Вывод:**\n",
    "\n",
    "- Количество книг, вышедшее после 1 января 2000 года: 819;\n",
    "- Издательство, которое выпустило наибольшее число книг толще 50 страниц — Penguin Books;\n",
    "- Автор с самой высокой средней оценкой книг - J.K. Rowling/Mary GrandPré.\n",
    "- Среднее количество обзоров от пользователей, которые поставили больше 50 оценок: 24\n",
    "\n",
    "Также мы выгрузили таблицу `books_review` с количеством обзоров на каждую книгу и их средние оценки. "
   ]
  }
 ],
 "metadata": {
  "ExecuteTimeLog": [
   {
    "duration": 477,
    "start_time": "2022-07-26T12:42:41.012Z"
   },
   {
    "duration": 8376,
    "start_time": "2022-07-26T12:42:41.491Z"
   },
   {
    "duration": 85,
    "start_time": "2022-07-26T12:42:49.868Z"
   },
   {
    "duration": 8,
    "start_time": "2022-07-26T12:42:49.955Z"
   },
   {
    "duration": 7,
    "start_time": "2022-07-26T12:42:49.965Z"
   },
   {
    "duration": 21,
    "start_time": "2022-07-26T12:42:49.973Z"
   },
   {
    "duration": 13,
    "start_time": "2022-07-26T12:42:49.996Z"
   },
   {
    "duration": 4,
    "start_time": "2022-07-26T12:42:50.010Z"
   },
   {
    "duration": 9,
    "start_time": "2022-07-26T12:42:50.015Z"
   },
   {
    "duration": 168,
    "start_time": "2022-07-26T12:42:50.025Z"
   },
   {
    "duration": 72,
    "start_time": "2022-07-26T12:42:50.194Z"
   },
   {
    "duration": 0,
    "start_time": "2022-07-26T12:42:50.268Z"
   },
   {
    "duration": 0,
    "start_time": "2022-07-26T12:42:50.269Z"
   },
   {
    "duration": 0,
    "start_time": "2022-07-26T12:42:50.270Z"
   },
   {
    "duration": 0,
    "start_time": "2022-07-26T12:42:50.271Z"
   },
   {
    "duration": 0,
    "start_time": "2022-07-26T12:42:50.273Z"
   },
   {
    "duration": 0,
    "start_time": "2022-07-26T12:42:50.273Z"
   },
   {
    "duration": 0,
    "start_time": "2022-07-26T12:42:50.274Z"
   },
   {
    "duration": 0,
    "start_time": "2022-07-26T12:42:50.275Z"
   },
   {
    "duration": 0,
    "start_time": "2022-07-26T12:42:50.276Z"
   },
   {
    "duration": 0,
    "start_time": "2022-07-26T12:42:50.277Z"
   },
   {
    "duration": 0,
    "start_time": "2022-07-26T12:42:50.278Z"
   },
   {
    "duration": 0,
    "start_time": "2022-07-26T12:42:50.279Z"
   },
   {
    "duration": 2,
    "start_time": "2022-07-26T12:43:00.695Z"
   },
   {
    "duration": 19,
    "start_time": "2022-07-26T12:43:00.699Z"
   },
   {
    "duration": 70,
    "start_time": "2022-07-26T12:43:00.720Z"
   },
   {
    "duration": 8,
    "start_time": "2022-07-26T12:43:00.792Z"
   },
   {
    "duration": 12,
    "start_time": "2022-07-26T12:43:00.802Z"
   },
   {
    "duration": 38,
    "start_time": "2022-07-26T12:43:00.815Z"
   },
   {
    "duration": 17,
    "start_time": "2022-07-26T12:43:00.854Z"
   },
   {
    "duration": 5,
    "start_time": "2022-07-26T12:43:00.872Z"
   },
   {
    "duration": 11,
    "start_time": "2022-07-26T12:43:00.879Z"
   },
   {
    "duration": 163,
    "start_time": "2022-07-26T12:43:00.893Z"
   },
   {
    "duration": 28,
    "start_time": "2022-07-26T12:43:01.058Z"
   },
   {
    "duration": 27,
    "start_time": "2022-07-26T12:43:01.088Z"
   },
   {
    "duration": 11,
    "start_time": "2022-07-26T12:43:01.117Z"
   },
   {
    "duration": 12,
    "start_time": "2022-07-26T12:43:01.130Z"
   },
   {
    "duration": 14,
    "start_time": "2022-07-26T12:43:01.143Z"
   },
   {
    "duration": 9,
    "start_time": "2022-07-26T12:43:01.159Z"
   },
   {
    "duration": 18,
    "start_time": "2022-07-26T12:43:01.170Z"
   },
   {
    "duration": 6,
    "start_time": "2022-07-26T12:43:01.190Z"
   },
   {
    "duration": 7,
    "start_time": "2022-07-26T12:43:01.198Z"
   },
   {
    "duration": 14,
    "start_time": "2022-07-26T12:43:01.207Z"
   },
   {
    "duration": 6,
    "start_time": "2022-07-26T12:43:01.222Z"
   },
   {
    "duration": 16,
    "start_time": "2022-07-26T12:43:01.230Z"
   },
   {
    "duration": 44,
    "start_time": "2022-07-26T15:03:37.875Z"
   },
   {
    "duration": 480,
    "start_time": "2022-07-26T15:03:45.863Z"
   },
   {
    "duration": 7707,
    "start_time": "2022-07-26T15:03:46.345Z"
   },
   {
    "duration": 244,
    "start_time": "2022-07-26T15:03:54.054Z"
   },
   {
    "duration": 66,
    "start_time": "2022-07-26T15:03:54.300Z"
   },
   {
    "duration": 66,
    "start_time": "2022-07-26T15:03:54.368Z"
   },
   {
    "duration": 96,
    "start_time": "2022-07-26T15:03:54.436Z"
   },
   {
    "duration": 83,
    "start_time": "2022-07-26T15:03:54.534Z"
   },
   {
    "duration": 3,
    "start_time": "2022-07-26T15:03:54.619Z"
   },
   {
    "duration": 7,
    "start_time": "2022-07-26T15:03:54.624Z"
   },
   {
    "duration": 195,
    "start_time": "2022-07-26T15:03:54.633Z"
   },
   {
    "duration": 67,
    "start_time": "2022-07-26T15:03:54.829Z"
   },
   {
    "duration": 82,
    "start_time": "2022-07-26T15:03:54.898Z"
   },
   {
    "duration": 10,
    "start_time": "2022-07-26T15:03:54.982Z"
   },
   {
    "duration": 69,
    "start_time": "2022-07-26T15:03:54.995Z"
   },
   {
    "duration": 6,
    "start_time": "2022-07-26T15:03:55.066Z"
   },
   {
    "duration": 7,
    "start_time": "2022-07-26T15:03:55.074Z"
   },
   {
    "duration": 193,
    "start_time": "2022-07-26T15:03:55.083Z"
   },
   {
    "duration": 0,
    "start_time": "2022-07-26T15:03:55.278Z"
   },
   {
    "duration": 0,
    "start_time": "2022-07-26T15:03:55.279Z"
   },
   {
    "duration": 0,
    "start_time": "2022-07-26T15:03:55.280Z"
   },
   {
    "duration": 0,
    "start_time": "2022-07-26T15:03:55.281Z"
   },
   {
    "duration": 0,
    "start_time": "2022-07-26T15:03:55.282Z"
   },
   {
    "duration": 129,
    "start_time": "2022-07-26T15:04:40.118Z"
   },
   {
    "duration": 51,
    "start_time": "2022-07-26T15:06:19.323Z"
   },
   {
    "duration": 3,
    "start_time": "2022-07-26T15:06:34.373Z"
   },
   {
    "duration": 151,
    "start_time": "2022-07-26T15:07:21.436Z"
   },
   {
    "duration": 166,
    "start_time": "2022-07-26T15:08:39.218Z"
   },
   {
    "duration": 3,
    "start_time": "2022-07-26T15:10:26.225Z"
   },
   {
    "duration": 153,
    "start_time": "2022-07-26T15:10:31.844Z"
   },
   {
    "duration": 189,
    "start_time": "2022-07-26T15:10:39.700Z"
   },
   {
    "duration": 144,
    "start_time": "2022-07-26T15:10:52.975Z"
   },
   {
    "duration": 169,
    "start_time": "2022-07-26T15:11:01.418Z"
   },
   {
    "duration": 70,
    "start_time": "2022-07-26T15:11:13.392Z"
   },
   {
    "duration": 69,
    "start_time": "2022-07-26T15:11:35.075Z"
   },
   {
    "duration": 69,
    "start_time": "2022-07-26T15:11:39.676Z"
   },
   {
    "duration": 7,
    "start_time": "2022-07-26T15:11:40.802Z"
   },
   {
    "duration": 3,
    "start_time": "2022-07-26T15:12:07.558Z"
   },
   {
    "duration": 76,
    "start_time": "2022-07-26T15:12:24.911Z"
   },
   {
    "duration": 80,
    "start_time": "2022-07-26T15:22:45.144Z"
   },
   {
    "duration": 69,
    "start_time": "2022-07-26T15:23:37.044Z"
   },
   {
    "duration": 7,
    "start_time": "2022-07-26T15:23:37.776Z"
   },
   {
    "duration": 494,
    "start_time": "2022-07-26T17:35:52.454Z"
   },
   {
    "duration": 9561,
    "start_time": "2022-07-26T17:35:52.950Z"
   },
   {
    "duration": 298,
    "start_time": "2022-07-26T17:36:02.513Z"
   },
   {
    "duration": 72,
    "start_time": "2022-07-26T17:36:02.814Z"
   },
   {
    "duration": 67,
    "start_time": "2022-07-26T17:36:02.888Z"
   },
   {
    "duration": 98,
    "start_time": "2022-07-26T17:36:02.957Z"
   },
   {
    "duration": 83,
    "start_time": "2022-07-26T17:36:03.056Z"
   },
   {
    "duration": 4,
    "start_time": "2022-07-26T17:36:03.140Z"
   },
   {
    "duration": 19,
    "start_time": "2022-07-26T17:36:03.146Z"
   },
   {
    "duration": 176,
    "start_time": "2022-07-26T17:36:03.168Z"
   },
   {
    "duration": 70,
    "start_time": "2022-07-26T17:36:03.345Z"
   },
   {
    "duration": 88,
    "start_time": "2022-07-26T17:36:03.417Z"
   },
   {
    "duration": 14,
    "start_time": "2022-07-26T17:36:03.508Z"
   },
   {
    "duration": 80,
    "start_time": "2022-07-26T17:36:03.524Z"
   },
   {
    "duration": 9,
    "start_time": "2022-07-26T17:36:03.606Z"
   },
   {
    "duration": 9,
    "start_time": "2022-07-26T17:36:03.618Z"
   },
   {
    "duration": 13,
    "start_time": "2022-07-26T17:36:03.628Z"
   },
   {
    "duration": 83,
    "start_time": "2022-07-26T17:36:03.643Z"
   },
   {
    "duration": 7,
    "start_time": "2022-07-26T17:36:03.727Z"
   },
   {
    "duration": 10,
    "start_time": "2022-07-26T17:36:03.735Z"
   },
   {
    "duration": 80,
    "start_time": "2022-07-26T17:36:03.747Z"
   },
   {
    "duration": 7,
    "start_time": "2022-07-26T17:36:03.829Z"
   },
   {
    "duration": 13,
    "start_time": "2022-07-26T17:36:03.837Z"
   }
  ],
  "kernelspec": {
   "display_name": "Python 3 (ipykernel)",
   "language": "python",
   "name": "python3"
  },
  "language_info": {
   "codemirror_mode": {
    "name": "ipython",
    "version": 3
   },
   "file_extension": ".py",
   "mimetype": "text/x-python",
   "name": "python",
   "nbconvert_exporter": "python",
   "pygments_lexer": "ipython3",
   "version": "3.9.5"
  },
  "toc": {
   "base_numbering": 1,
   "nav_menu": {},
   "number_sections": true,
   "sideBar": true,
   "skip_h1_title": true,
   "title_cell": "Table of Contents",
   "title_sidebar": "Contents",
   "toc_cell": false,
   "toc_position": {},
   "toc_section_display": true,
   "toc_window_display": true
  }
 },
 "nbformat": 4,
 "nbformat_minor": 2
}
